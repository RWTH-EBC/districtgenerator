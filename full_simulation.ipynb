{
 "cells": [
  {
   "cell_type": "code",
   "execution_count": 8,
   "metadata": {},
   "outputs": [],
   "source": [
    "# Full Simlation Worklow for the Districtgenerator \n",
    "# \n",
    "from districtgenerator import * \n",
    "import pandas as pd"
   ]
  },
  {
   "cell_type": "code",
   "execution_count": 9,
   "metadata": {},
   "outputs": [],
   "source": [
    "data = Datahandler()"
   ]
  },
  {
   "cell_type": "code",
   "execution_count": 42,
   "metadata": {},
   "outputs": [],
   "source": [
    "# Insepct \n",
    "\n",
    "precleaned_data = pd.read_csv(r'data\\scenarios\\Mierendorff_Baseline.csv', sep = ';')\n",
    "\n",
    "# Drop all buildings wheare area & year is nan\n",
    "\n",
    "clean_data = precleaned_data.dropna(subset = ['area', 'year', 'building'])\n",
    "clean_data = clean_data[clean_data[\"building\"] != '-']\n",
    "clean_data.reset_index(drop = True, inplace = True)\n"
   ]
  },
  {
   "cell_type": "code",
   "execution_count": 43,
   "metadata": {},
   "outputs": [
    {
     "name": "stdout",
     "output_type": "stream",
     "text": [
      "<class 'pandas.core.frame.DataFrame'>\n",
      "RangeIndex: 391 entries, 0 to 390\n",
      "Data columns (total 5 columns):\n",
      " #   Column    Non-Null Count  Dtype  \n",
      "---  ------    --------------  -----  \n",
      " 0   id        391 non-null    int64  \n",
      " 1   building  391 non-null    object \n",
      " 2   year      391 non-null    float64\n",
      " 3   retrofit  0 non-null      float64\n",
      " 4   area      391 non-null    float64\n",
      "dtypes: float64(3), int64(1), object(1)\n",
      "memory usage: 15.4+ KB\n"
     ]
    }
   ],
   "source": [
    "clean_data.info()\n",
    "clean_data.loc[:,\"id\"]    = clean_data.index\n",
    "clean_data.loc[:,\"retrofit\"]  = clean_data.loc[:,\"year\"].astype(int)\n",
    "clean_data.to_csv(r'data\\scenarios\\Mierendorff_Baseline_cleaned.csv', sep = ';', index = False)"
   ]
  },
  {
   "cell_type": "code",
   "execution_count": 44,
   "metadata": {},
   "outputs": [
    {
     "ename": "ValueError",
     "evalue": "np.float64(nan) is not in list",
     "output_type": "error",
     "traceback": [
      "\u001b[1;31m---------------------------------------------------------------------------\u001b[0m",
      "\u001b[1;31mValueError\u001b[0m                                Traceback (most recent call last)",
      "Cell \u001b[1;32mIn[44], line 8\u001b[0m\n\u001b[0;32m      5\u001b[0m data\u001b[38;5;241m.\u001b[39mgenerateEnvironment()\n\u001b[0;32m      7\u001b[0m data\u001b[38;5;241m.\u001b[39minitializeBuildings(\u001b[38;5;124m'\u001b[39m\u001b[38;5;124mMierendorff_Baseline_cleaned\u001b[39m\u001b[38;5;124m'\u001b[39m)\n\u001b[1;32m----> 8\u001b[0m \u001b[43mdata\u001b[49m\u001b[38;5;241;43m.\u001b[39;49m\u001b[43mgenerateBuildings\u001b[49m\u001b[43m(\u001b[49m\u001b[43m)\u001b[49m\n\u001b[0;32m     10\u001b[0m data\u001b[38;5;241m.\u001b[39mgenerateDemands()\n",
      "File \u001b[1;32mc:\\Users\\felix\\Programmieren\\districtgenerator\\districtgenerator\\datahandler.py:336\u001b[0m, in \u001b[0;36mDatahandler.generateBuildings\u001b[1;34m(self)\u001b[0m\n\u001b[0;32m    331\u001b[0m \u001b[38;5;28;01mif\u001b[39;00m building[\u001b[38;5;124m\"\u001b[39m\u001b[38;5;124mbuildingFeatures\u001b[39m\u001b[38;5;124m\"\u001b[39m][\u001b[38;5;124m\"\u001b[39m\u001b[38;5;124mbuilding\u001b[39m\u001b[38;5;124m\"\u001b[39m] \u001b[38;5;129;01min\u001b[39;00m  [\u001b[38;5;124m\"\u001b[39m\u001b[38;5;124mSFH\u001b[39m\u001b[38;5;124m\"\u001b[39m, \u001b[38;5;124m\"\u001b[39m\u001b[38;5;124mMFH\u001b[39m\u001b[38;5;124m\"\u001b[39m, \u001b[38;5;124m\"\u001b[39m\u001b[38;5;124mTH\u001b[39m\u001b[38;5;124m\"\u001b[39m, \u001b[38;5;124m\"\u001b[39m\u001b[38;5;124mAB\u001b[39m\u001b[38;5;124m\"\u001b[39m]:\n\u001b[0;32m    332\u001b[0m \n\u001b[0;32m    333\u001b[0m \n\u001b[0;32m    334\u001b[0m     \u001b[38;5;66;03m# convert short names into designation needes for TEASER\u001b[39;00m\n\u001b[0;32m    335\u001b[0m     building_type \u001b[38;5;241m=\u001b[39m bldgs[\u001b[38;5;124m\"\u001b[39m\u001b[38;5;124mbuildings_long\u001b[39m\u001b[38;5;124m\"\u001b[39m][bldgs[\u001b[38;5;124m\"\u001b[39m\u001b[38;5;124mbuildings_short\u001b[39m\u001b[38;5;124m\"\u001b[39m]\u001b[38;5;241m.\u001b[39mindex(building[\u001b[38;5;124m\"\u001b[39m\u001b[38;5;124mbuildingFeatures\u001b[39m\u001b[38;5;124m\"\u001b[39m][\u001b[38;5;124m\"\u001b[39m\u001b[38;5;124mbuilding\u001b[39m\u001b[38;5;124m\"\u001b[39m])]\n\u001b[1;32m--> 336\u001b[0m     retrofit_level \u001b[38;5;241m=\u001b[39m bldgs[\u001b[38;5;124m\"\u001b[39m\u001b[38;5;124mretrofit_long\u001b[39m\u001b[38;5;124m\"\u001b[39m][\u001b[43mbldgs\u001b[49m\u001b[43m[\u001b[49m\u001b[38;5;124;43m\"\u001b[39;49m\u001b[38;5;124;43mretrofit_short\u001b[39;49m\u001b[38;5;124;43m\"\u001b[39;49m\u001b[43m]\u001b[49m\u001b[38;5;241;43m.\u001b[39;49m\u001b[43mindex\u001b[49m\u001b[43m(\u001b[49m\u001b[43mbuilding\u001b[49m\u001b[43m[\u001b[49m\u001b[38;5;124;43m\"\u001b[39;49m\u001b[38;5;124;43mbuildingFeatures\u001b[39;49m\u001b[38;5;124;43m\"\u001b[39;49m\u001b[43m]\u001b[49m\u001b[43m[\u001b[49m\u001b[38;5;124;43m\"\u001b[39;49m\u001b[38;5;124;43mretrofit\u001b[39;49m\u001b[38;5;124;43m\"\u001b[39;49m\u001b[43m]\u001b[49m\u001b[43m)\u001b[49m]\n\u001b[0;32m    339\u001b[0m     \u001b[38;5;66;03m# If a an advanced model is presented, the number of floors and the height of the floors can be taken from the model file\u001b[39;00m\n\u001b[0;32m    340\u001b[0m     \u001b[38;5;28;01mif\u001b[39;00m \u001b[38;5;28mself\u001b[39m\u001b[38;5;241m.\u001b[39madvancedModel \u001b[38;5;129;01mis\u001b[39;00m \u001b[38;5;129;01mnot\u001b[39;00m \u001b[38;5;28;01mNone\u001b[39;00m:\n",
      "\u001b[1;31mValueError\u001b[0m: np.float64(nan) is not in list"
     ]
    }
   ],
   "source": [
    "data.setWeatherFile('data/weather/EPW/DEU_BE_Berlin-Schonefeld.AP.103850_TMYx.2004-2018.epw')\n",
    "\n",
    "# Generate Environment for the District\n",
    "\n",
    "data.generateEnvironment()\n",
    "\n",
    "data.initializeBuildings('Mierendorff_Baseline_cleaned')\n",
    "data.generateBuildings()\n",
    "\n",
    "data.generateDemands()\n",
    "\n",
    "\n",
    "\n"
   ]
  }
 ],
 "metadata": {
  "kernelspec": {
   "display_name": ".venv",
   "language": "python",
   "name": "python3"
  },
  "language_info": {
   "codemirror_mode": {
    "name": "ipython",
    "version": 3
   },
   "file_extension": ".py",
   "mimetype": "text/x-python",
   "name": "python",
   "nbconvert_exporter": "python",
   "pygments_lexer": "ipython3",
   "version": "3.12.5"
  }
 },
 "nbformat": 4,
 "nbformat_minor": 2
}
