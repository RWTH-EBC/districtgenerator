{
 "cells": [
  {
   "cell_type": "code",
   "execution_count": 1,
   "metadata": {},
   "outputs": [],
   "source": [
    "# Full Simlation Worklow for the Districtgenerator \n",
    "# \n",
    "from districtgenerator import * \n",
    "import pandas as pd"
   ]
  },
  {
   "cell_type": "code",
   "execution_count": 2,
   "metadata": {},
   "outputs": [],
   "source": [
    "data = Datahandler()"
   ]
  },
  {
   "cell_type": "code",
   "execution_count": 3,
   "metadata": {},
   "outputs": [],
   "source": [
    "# Insepct \n",
    "\n",
    "precleaned_data = pd.read_csv(r'data\\scenarios\\Mierendorff_Baseline_updated.csv', sep = ';')\n",
    "\n",
    "# Drop all buildings wheare area & year is nan\n",
    "\n",
    "clean_data = precleaned_data.dropna(subset = ['area', 'year', 'building'])\n",
    "# Dop data where area os 0\n",
    "clean_data = clean_data[clean_data[\"area\"] != 0]\n",
    "clean_data = clean_data[clean_data[\"building\"] != '-']\n",
    "clean_data.reset_index(drop = True, inplace = True)\n"
   ]
  },
  {
   "cell_type": "code",
   "execution_count": 4,
   "metadata": {},
   "outputs": [
    {
     "name": "stdout",
     "output_type": "stream",
     "text": [
      "<class 'pandas.core.frame.DataFrame'>\n",
      "RangeIndex: 388 entries, 0 to 387\n",
      "Data columns (total 5 columns):\n",
      " #   Column    Non-Null Count  Dtype  \n",
      "---  ------    --------------  -----  \n",
      " 0   id        388 non-null    int64  \n",
      " 1   building  388 non-null    object \n",
      " 2   year      388 non-null    float64\n",
      " 3   retrofit  0 non-null      float64\n",
      " 4   area      388 non-null    float64\n",
      "dtypes: float64(3), int64(1), object(1)\n",
      "memory usage: 15.3+ KB\n"
     ]
    }
   ],
   "source": [
    "clean_data.info()\n",
    "clean_data.loc[:,\"id\"]    = clean_data.index\n",
    "clean_data.loc[:,\"retrofit\"]  = 0\n",
    "\n",
    "# Replace AB archetype with MFH if Year of construction is after 1979\n",
    "clean_data.loc[clean_data[\"year\"] > 1979, \"building\"] = \"MFH\"\n",
    "\n",
    "clean_data.to_csv(r'data\\scenarios\\Mierendorff_Baseline_updated_cleaned.csv', sep = ';', index = False)"
   ]
  },
  {
   "cell_type": "code",
   "execution_count": 5,
   "metadata": {},
   "outputs": [
    {
     "name": "stdout",
     "output_type": "stream",
     "text": [
      "Creating buildings for Mierendorff_Baseline_updated_cleaned\n",
      "Creating building AB\n"
     ]
    },
    {
     "name": "stderr",
     "output_type": "stream",
     "text": [
      "c:\\Users\\felix\\Programmieren\\districtgenerator\\.venv\\Lib\\site-packages\\teaser\\logic\\buildingobjects\\useconditions.py:363: FutureWarning: 'H' is deprecated and will be removed in a future version, please use 'h' instead.\n",
      "  index=pd.date_range(\"2019-01-01 00:00:00\", periods=8760, freq=\"H\")\n",
      "c:\\Users\\felix\\Programmieren\\districtgenerator\\.venv\\Lib\\site-packages\\teaser\\logic\\buildingobjects\\useconditions.py:363: FutureWarning: 'H' is deprecated and will be removed in a future version, please use 'h' instead.\n",
      "  index=pd.date_range(\"2019-01-01 00:00:00\", periods=8760, freq=\"H\")\n"
     ]
    },
    {
     "name": "stdout",
     "output_type": "stream",
     "text": [
      "Creating building AB\n",
      "Creating building IWU Transport\n",
      "We are about to generate a Non Residential building.\n",
      "Available building types: ['IWU Office, Administrative or Government Buildings', 'IWU Research and University Teaching', 'IWU Health and Care', 'IWU School, Day Nursery and other Care', 'IWU Culture and Leisure', 'IWU Sports Facilities', 'IWU Hotels, Boarding, Restaurants or Catering', 'IWU Production, Workshop, Warehouse or Operations', 'IWU Trade Buildings', 'IWU Technical and Utility (supply and disposal)', 'IWU Transport', 'IWU Generalized (1) Services building', 'IWU Generalized (2) Production buildings']\n",
      "Current usage: IWU Transport\n",
      "Creating building AB\n"
     ]
    },
    {
     "name": "stderr",
     "output_type": "stream",
     "text": [
      "c:\\Users\\felix\\Programmieren\\districtgenerator\\.venv\\Lib\\site-packages\\teaser\\logic\\buildingobjects\\useconditions.py:363: FutureWarning: 'H' is deprecated and will be removed in a future version, please use 'h' instead.\n",
      "  index=pd.date_range(\"2019-01-01 00:00:00\", periods=8760, freq=\"H\")\n",
      "c:\\Users\\felix\\Programmieren\\districtgenerator\\.venv\\Lib\\site-packages\\teaser\\logic\\buildingobjects\\useconditions.py:363: FutureWarning: 'H' is deprecated and will be removed in a future version, please use 'h' instead.\n",
      "  index=pd.date_range(\"2019-01-01 00:00:00\", periods=8760, freq=\"H\")\n"
     ]
    },
    {
     "name": "stdout",
     "output_type": "stream",
     "text": [
      "Creating building AB\n",
      "Creating building AB\n"
     ]
    },
    {
     "name": "stderr",
     "output_type": "stream",
     "text": [
      "c:\\Users\\felix\\Programmieren\\districtgenerator\\.venv\\Lib\\site-packages\\teaser\\logic\\buildingobjects\\useconditions.py:363: FutureWarning: 'H' is deprecated and will be removed in a future version, please use 'h' instead.\n",
      "  index=pd.date_range(\"2019-01-01 00:00:00\", periods=8760, freq=\"H\")\n",
      "c:\\Users\\felix\\Programmieren\\districtgenerator\\.venv\\Lib\\site-packages\\teaser\\logic\\buildingobjects\\useconditions.py:363: FutureWarning: 'H' is deprecated and will be removed in a future version, please use 'h' instead.\n",
      "  index=pd.date_range(\"2019-01-01 00:00:00\", periods=8760, freq=\"H\")\n"
     ]
    },
    {
     "name": "stdout",
     "output_type": "stream",
     "text": [
      "Creating building AB\n",
      "Creating building IWU Transport\n",
      "We are about to generate a Non Residential building.\n",
      "Available building types: ['IWU Office, Administrative or Government Buildings', 'IWU Research and University Teaching', 'IWU Health and Care', 'IWU School, Day Nursery and other Care', 'IWU Culture and Leisure', 'IWU Sports Facilities', 'IWU Hotels, Boarding, Restaurants or Catering', 'IWU Production, Workshop, Warehouse or Operations', 'IWU Trade Buildings', 'IWU Technical and Utility (supply and disposal)', 'IWU Transport', 'IWU Generalized (1) Services building', 'IWU Generalized (2) Production buildings']\n",
      "Current usage: IWU Transport\n",
      "Creating building IWU Technical and Utility (supply and disposal)\n",
      "We are about to generate a Non Residential building.\n",
      "Available building types: ['IWU Office, Administrative or Government Buildings', 'IWU Research and University Teaching', 'IWU Health and Care', 'IWU School, Day Nursery and other Care', 'IWU Culture and Leisure', 'IWU Sports Facilities', 'IWU Hotels, Boarding, Restaurants or Catering', 'IWU Production, Workshop, Warehouse or Operations', 'IWU Trade Buildings', 'IWU Technical and Utility (supply and disposal)', 'IWU Transport', 'IWU Generalized (1) Services building', 'IWU Generalized (2) Production buildings']\n",
      "Current usage: IWU Technical and Utility (supply and disposal)\n",
      "Creating building AB\n"
     ]
    },
    {
     "name": "stderr",
     "output_type": "stream",
     "text": [
      "c:\\Users\\felix\\Programmieren\\districtgenerator\\.venv\\Lib\\site-packages\\teaser\\logic\\buildingobjects\\useconditions.py:363: FutureWarning: 'H' is deprecated and will be removed in a future version, please use 'h' instead.\n",
      "  index=pd.date_range(\"2019-01-01 00:00:00\", periods=8760, freq=\"H\")\n",
      "c:\\Users\\felix\\Programmieren\\districtgenerator\\.venv\\Lib\\site-packages\\teaser\\logic\\buildingobjects\\useconditions.py:363: FutureWarning: 'H' is deprecated and will be removed in a future version, please use 'h' instead.\n",
      "  index=pd.date_range(\"2019-01-01 00:00:00\", periods=8760, freq=\"H\")\n",
      "c:\\Users\\felix\\Programmieren\\districtgenerator\\.venv\\Lib\\site-packages\\teaser\\logic\\buildingobjects\\useconditions.py:363: FutureWarning: 'H' is deprecated and will be removed in a future version, please use 'h' instead.\n",
      "  index=pd.date_range(\"2019-01-01 00:00:00\", periods=8760, freq=\"H\")\n"
     ]
    },
    {
     "name": "stdout",
     "output_type": "stream",
     "text": [
      "Creating building AB\n",
      "Creating building AB\n",
      "Creating building IWU Trade Buildings\n",
      "We are about to generate a Non Residential building.\n",
      "Available building types: ['IWU Office, Administrative or Government Buildings', 'IWU Research and University Teaching', 'IWU Health and Care', 'IWU School, Day Nursery and other Care', 'IWU Culture and Leisure', 'IWU Sports Facilities', 'IWU Hotels, Boarding, Restaurants or Catering', 'IWU Production, Workshop, Warehouse or Operations', 'IWU Trade Buildings', 'IWU Technical and Utility (supply and disposal)', 'IWU Transport', 'IWU Generalized (1) Services building', 'IWU Generalized (2) Production buildings']\n",
      "Current usage: IWU Trade Buildings\n",
      "Creating building AB\n"
     ]
    },
    {
     "name": "stderr",
     "output_type": "stream",
     "text": [
      "c:\\Users\\felix\\Programmieren\\districtgenerator\\.venv\\Lib\\site-packages\\teaser\\logic\\buildingobjects\\useconditions.py:363: FutureWarning: 'H' is deprecated and will be removed in a future version, please use 'h' instead.\n",
      "  index=pd.date_range(\"2019-01-01 00:00:00\", periods=8760, freq=\"H\")\n",
      "c:\\Users\\felix\\Programmieren\\districtgenerator\\.venv\\Lib\\site-packages\\teaser\\logic\\buildingobjects\\useconditions.py:363: FutureWarning: 'H' is deprecated and will be removed in a future version, please use 'h' instead.\n",
      "  index=pd.date_range(\"2019-01-01 00:00:00\", periods=8760, freq=\"H\")\n"
     ]
    },
    {
     "name": "stdout",
     "output_type": "stream",
     "text": [
      "Creating building AB\n",
      "Creating building AB\n"
     ]
    },
    {
     "name": "stderr",
     "output_type": "stream",
     "text": [
      "c:\\Users\\felix\\Programmieren\\districtgenerator\\.venv\\Lib\\site-packages\\teaser\\logic\\buildingobjects\\useconditions.py:363: FutureWarning: 'H' is deprecated and will be removed in a future version, please use 'h' instead.\n",
      "  index=pd.date_range(\"2019-01-01 00:00:00\", periods=8760, freq=\"H\")\n"
     ]
    },
    {
     "name": "stdout",
     "output_type": "stream",
     "text": [
      "Creating building AB\n",
      "Creating building IWU Culture and Leisure\n",
      "We are about to generate a Non Residential building.\n",
      "Available building types: ['IWU Office, Administrative or Government Buildings', 'IWU Research and University Teaching', 'IWU Health and Care', 'IWU School, Day Nursery and other Care', 'IWU Culture and Leisure', 'IWU Sports Facilities', 'IWU Hotels, Boarding, Restaurants or Catering', 'IWU Production, Workshop, Warehouse or Operations', 'IWU Trade Buildings', 'IWU Technical and Utility (supply and disposal)', 'IWU Transport', 'IWU Generalized (1) Services building', 'IWU Generalized (2) Production buildings']\n",
      "Current usage: IWU Culture and Leisure\n",
      "Creating building AB\n"
     ]
    },
    {
     "name": "stderr",
     "output_type": "stream",
     "text": [
      "c:\\Users\\felix\\Programmieren\\districtgenerator\\.venv\\Lib\\site-packages\\teaser\\logic\\buildingobjects\\useconditions.py:363: FutureWarning: 'H' is deprecated and will be removed in a future version, please use 'h' instead.\n",
      "  index=pd.date_range(\"2019-01-01 00:00:00\", periods=8760, freq=\"H\")\n",
      "c:\\Users\\felix\\Programmieren\\districtgenerator\\.venv\\Lib\\site-packages\\teaser\\logic\\buildingobjects\\useconditions.py:363: FutureWarning: 'H' is deprecated and will be removed in a future version, please use 'h' instead.\n",
      "  index=pd.date_range(\"2019-01-01 00:00:00\", periods=8760, freq=\"H\")\n"
     ]
    },
    {
     "name": "stdout",
     "output_type": "stream",
     "text": [
      "Creating building AB\n",
      "Creating building AB\n"
     ]
    },
    {
     "name": "stderr",
     "output_type": "stream",
     "text": [
      "c:\\Users\\felix\\Programmieren\\districtgenerator\\.venv\\Lib\\site-packages\\teaser\\logic\\buildingobjects\\useconditions.py:363: FutureWarning: 'H' is deprecated and will be removed in a future version, please use 'h' instead.\n",
      "  index=pd.date_range(\"2019-01-01 00:00:00\", periods=8760, freq=\"H\")\n",
      "c:\\Users\\felix\\Programmieren\\districtgenerator\\.venv\\Lib\\site-packages\\teaser\\logic\\buildingobjects\\useconditions.py:363: FutureWarning: 'H' is deprecated and will be removed in a future version, please use 'h' instead.\n",
      "  index=pd.date_range(\"2019-01-01 00:00:00\", periods=8760, freq=\"H\")\n"
     ]
    },
    {
     "name": "stdout",
     "output_type": "stream",
     "text": [
      "Creating building AB\n",
      "Creating building AB\n",
      "Creating building AB\n"
     ]
    },
    {
     "name": "stderr",
     "output_type": "stream",
     "text": [
      "c:\\Users\\felix\\Programmieren\\districtgenerator\\.venv\\Lib\\site-packages\\teaser\\logic\\buildingobjects\\useconditions.py:363: FutureWarning: 'H' is deprecated and will be removed in a future version, please use 'h' instead.\n",
      "  index=pd.date_range(\"2019-01-01 00:00:00\", periods=8760, freq=\"H\")\n",
      "c:\\Users\\felix\\Programmieren\\districtgenerator\\.venv\\Lib\\site-packages\\teaser\\logic\\buildingobjects\\useconditions.py:363: FutureWarning: 'H' is deprecated and will be removed in a future version, please use 'h' instead.\n",
      "  index=pd.date_range(\"2019-01-01 00:00:00\", periods=8760, freq=\"H\")\n",
      "c:\\Users\\felix\\Programmieren\\districtgenerator\\.venv\\Lib\\site-packages\\teaser\\logic\\buildingobjects\\useconditions.py:363: FutureWarning: 'H' is deprecated and will be removed in a future version, please use 'h' instead.\n",
      "  index=pd.date_range(\"2019-01-01 00:00:00\", periods=8760, freq=\"H\")\n"
     ]
    },
    {
     "name": "stdout",
     "output_type": "stream",
     "text": [
      "Creating building AB\n",
      "Creating building AB\n"
     ]
    },
    {
     "name": "stderr",
     "output_type": "stream",
     "text": [
      "c:\\Users\\felix\\Programmieren\\districtgenerator\\.venv\\Lib\\site-packages\\teaser\\logic\\buildingobjects\\useconditions.py:363: FutureWarning: 'H' is deprecated and will be removed in a future version, please use 'h' instead.\n",
      "  index=pd.date_range(\"2019-01-01 00:00:00\", periods=8760, freq=\"H\")\n",
      "c:\\Users\\felix\\Programmieren\\districtgenerator\\.venv\\Lib\\site-packages\\teaser\\logic\\buildingobjects\\useconditions.py:363: FutureWarning: 'H' is deprecated and will be removed in a future version, please use 'h' instead.\n",
      "  index=pd.date_range(\"2019-01-01 00:00:00\", periods=8760, freq=\"H\")\n"
     ]
    },
    {
     "name": "stdout",
     "output_type": "stream",
     "text": [
      "Creating building AB\n",
      "Creating building AB\n",
      "Creating building AB\n"
     ]
    },
    {
     "name": "stderr",
     "output_type": "stream",
     "text": [
      "c:\\Users\\felix\\Programmieren\\districtgenerator\\.venv\\Lib\\site-packages\\teaser\\logic\\buildingobjects\\useconditions.py:363: FutureWarning: 'H' is deprecated and will be removed in a future version, please use 'h' instead.\n",
      "  index=pd.date_range(\"2019-01-01 00:00:00\", periods=8760, freq=\"H\")\n",
      "c:\\Users\\felix\\Programmieren\\districtgenerator\\.venv\\Lib\\site-packages\\teaser\\logic\\buildingobjects\\useconditions.py:363: FutureWarning: 'H' is deprecated and will be removed in a future version, please use 'h' instead.\n",
      "  index=pd.date_range(\"2019-01-01 00:00:00\", periods=8760, freq=\"H\")\n",
      "c:\\Users\\felix\\Programmieren\\districtgenerator\\.venv\\Lib\\site-packages\\teaser\\logic\\buildingobjects\\useconditions.py:363: FutureWarning: 'H' is deprecated and will be removed in a future version, please use 'h' instead.\n",
      "  index=pd.date_range(\"2019-01-01 00:00:00\", periods=8760, freq=\"H\")\n"
     ]
    },
    {
     "name": "stdout",
     "output_type": "stream",
     "text": [
      "Creating building AB\n",
      "Creating building AB\n"
     ]
    },
    {
     "name": "stderr",
     "output_type": "stream",
     "text": [
      "c:\\Users\\felix\\Programmieren\\districtgenerator\\.venv\\Lib\\site-packages\\teaser\\logic\\buildingobjects\\useconditions.py:363: FutureWarning: 'H' is deprecated and will be removed in a future version, please use 'h' instead.\n",
      "  index=pd.date_range(\"2019-01-01 00:00:00\", periods=8760, freq=\"H\")\n",
      "c:\\Users\\felix\\Programmieren\\districtgenerator\\.venv\\Lib\\site-packages\\teaser\\logic\\buildingobjects\\useconditions.py:363: FutureWarning: 'H' is deprecated and will be removed in a future version, please use 'h' instead.\n",
      "  index=pd.date_range(\"2019-01-01 00:00:00\", periods=8760, freq=\"H\")\n"
     ]
    },
    {
     "name": "stdout",
     "output_type": "stream",
     "text": [
      "Creating building AB\n",
      "Creating building AB\n"
     ]
    },
    {
     "name": "stderr",
     "output_type": "stream",
     "text": [
      "c:\\Users\\felix\\Programmieren\\districtgenerator\\.venv\\Lib\\site-packages\\teaser\\logic\\buildingobjects\\useconditions.py:363: FutureWarning: 'H' is deprecated and will be removed in a future version, please use 'h' instead.\n",
      "  index=pd.date_range(\"2019-01-01 00:00:00\", periods=8760, freq=\"H\")\n",
      "c:\\Users\\felix\\Programmieren\\districtgenerator\\.venv\\Lib\\site-packages\\teaser\\logic\\buildingobjects\\useconditions.py:363: FutureWarning: 'H' is deprecated and will be removed in a future version, please use 'h' instead.\n",
      "  index=pd.date_range(\"2019-01-01 00:00:00\", periods=8760, freq=\"H\")\n"
     ]
    },
    {
     "name": "stdout",
     "output_type": "stream",
     "text": [
      "Creating building IWU Sports Facilities\n",
      "We are about to generate a Non Residential building.\n",
      "Available building types: ['IWU Office, Administrative or Government Buildings', 'IWU Research and University Teaching', 'IWU Health and Care', 'IWU School, Day Nursery and other Care', 'IWU Culture and Leisure', 'IWU Sports Facilities', 'IWU Hotels, Boarding, Restaurants or Catering', 'IWU Production, Workshop, Warehouse or Operations', 'IWU Trade Buildings', 'IWU Technical and Utility (supply and disposal)', 'IWU Transport', 'IWU Generalized (1) Services building', 'IWU Generalized (2) Production buildings']\n",
      "Current usage: IWU Sports Facilities\n",
      "No data about lighntning control available for IWU Sports Facilities and data type Turnhalle\n",
      "Creating building SFH\n",
      "Creating building AB\n",
      "Creating building IWU Health and Care\n",
      "We are about to generate a Non Residential building.\n",
      "Available building types: ['IWU Office, Administrative or Government Buildings', 'IWU Research and University Teaching', 'IWU Health and Care', 'IWU School, Day Nursery and other Care', 'IWU Culture and Leisure', 'IWU Sports Facilities', 'IWU Hotels, Boarding, Restaurants or Catering', 'IWU Production, Workshop, Warehouse or Operations', 'IWU Trade Buildings', 'IWU Technical and Utility (supply and disposal)', 'IWU Transport', 'IWU Generalized (1) Services building', 'IWU Generalized (2) Production buildings']\n",
      "Current usage: IWU Health and Care\n"
     ]
    },
    {
     "name": "stderr",
     "output_type": "stream",
     "text": [
      "c:\\Users\\felix\\Programmieren\\districtgenerator\\.venv\\Lib\\site-packages\\teaser\\logic\\buildingobjects\\useconditions.py:363: FutureWarning: 'H' is deprecated and will be removed in a future version, please use 'h' instead.\n",
      "  index=pd.date_range(\"2019-01-01 00:00:00\", periods=8760, freq=\"H\")\n",
      "c:\\Users\\felix\\Programmieren\\districtgenerator\\.venv\\Lib\\site-packages\\teaser\\logic\\buildingobjects\\useconditions.py:363: FutureWarning: 'H' is deprecated and will be removed in a future version, please use 'h' instead.\n",
      "  index=pd.date_range(\"2019-01-01 00:00:00\", periods=8760, freq=\"H\")\n",
      "c:\\Users\\felix\\Programmieren\\districtgenerator\\.venv\\Lib\\site-packages\\teaser\\logic\\buildingobjects\\useconditions.py:363: FutureWarning: 'H' is deprecated and will be removed in a future version, please use 'h' instead.\n",
      "  index=pd.date_range(\"2019-01-01 00:00:00\", periods=8760, freq=\"H\")\n"
     ]
    },
    {
     "name": "stdout",
     "output_type": "stream",
     "text": [
      "Creating building AB\n",
      "Creating building AB\n"
     ]
    },
    {
     "name": "stderr",
     "output_type": "stream",
     "text": [
      "c:\\Users\\felix\\Programmieren\\districtgenerator\\.venv\\Lib\\site-packages\\teaser\\logic\\buildingobjects\\useconditions.py:363: FutureWarning: 'H' is deprecated and will be removed in a future version, please use 'h' instead.\n",
      "  index=pd.date_range(\"2019-01-01 00:00:00\", periods=8760, freq=\"H\")\n",
      "c:\\Users\\felix\\Programmieren\\districtgenerator\\.venv\\Lib\\site-packages\\teaser\\logic\\buildingobjects\\useconditions.py:363: FutureWarning: 'H' is deprecated and will be removed in a future version, please use 'h' instead.\n",
      "  index=pd.date_range(\"2019-01-01 00:00:00\", periods=8760, freq=\"H\")\n",
      "c:\\Users\\felix\\Programmieren\\districtgenerator\\.venv\\Lib\\site-packages\\teaser\\logic\\buildingobjects\\useconditions.py:363: FutureWarning: 'H' is deprecated and will be removed in a future version, please use 'h' instead.\n",
      "  index=pd.date_range(\"2019-01-01 00:00:00\", periods=8760, freq=\"H\")\n"
     ]
    },
    {
     "name": "stdout",
     "output_type": "stream",
     "text": [
      "Creating building AB\n",
      "Creating building AB\n",
      "Creating building AB\n",
      "Creating building AB\n"
     ]
    },
    {
     "name": "stderr",
     "output_type": "stream",
     "text": [
      "c:\\Users\\felix\\Programmieren\\districtgenerator\\.venv\\Lib\\site-packages\\teaser\\logic\\buildingobjects\\useconditions.py:363: FutureWarning: 'H' is deprecated and will be removed in a future version, please use 'h' instead.\n",
      "  index=pd.date_range(\"2019-01-01 00:00:00\", periods=8760, freq=\"H\")\n",
      "c:\\Users\\felix\\Programmieren\\districtgenerator\\.venv\\Lib\\site-packages\\teaser\\logic\\buildingobjects\\useconditions.py:363: FutureWarning: 'H' is deprecated and will be removed in a future version, please use 'h' instead.\n",
      "  index=pd.date_range(\"2019-01-01 00:00:00\", periods=8760, freq=\"H\")\n"
     ]
    },
    {
     "name": "stdout",
     "output_type": "stream",
     "text": [
      "Creating building AB\n",
      "Creating building AB\n"
     ]
    },
    {
     "name": "stderr",
     "output_type": "stream",
     "text": [
      "c:\\Users\\felix\\Programmieren\\districtgenerator\\.venv\\Lib\\site-packages\\teaser\\logic\\buildingobjects\\useconditions.py:363: FutureWarning: 'H' is deprecated and will be removed in a future version, please use 'h' instead.\n",
      "  index=pd.date_range(\"2019-01-01 00:00:00\", periods=8760, freq=\"H\")\n",
      "c:\\Users\\felix\\Programmieren\\districtgenerator\\.venv\\Lib\\site-packages\\teaser\\logic\\buildingobjects\\useconditions.py:363: FutureWarning: 'H' is deprecated and will be removed in a future version, please use 'h' instead.\n",
      "  index=pd.date_range(\"2019-01-01 00:00:00\", periods=8760, freq=\"H\")\n"
     ]
    },
    {
     "name": "stdout",
     "output_type": "stream",
     "text": [
      "Creating building AB\n",
      "Creating building AB\n"
     ]
    },
    {
     "name": "stderr",
     "output_type": "stream",
     "text": [
      "c:\\Users\\felix\\Programmieren\\districtgenerator\\.venv\\Lib\\site-packages\\teaser\\logic\\buildingobjects\\useconditions.py:363: FutureWarning: 'H' is deprecated and will be removed in a future version, please use 'h' instead.\n",
      "  index=pd.date_range(\"2019-01-01 00:00:00\", periods=8760, freq=\"H\")\n",
      "c:\\Users\\felix\\Programmieren\\districtgenerator\\.venv\\Lib\\site-packages\\teaser\\logic\\buildingobjects\\useconditions.py:363: FutureWarning: 'H' is deprecated and will be removed in a future version, please use 'h' instead.\n",
      "  index=pd.date_range(\"2019-01-01 00:00:00\", periods=8760, freq=\"H\")\n"
     ]
    },
    {
     "name": "stdout",
     "output_type": "stream",
     "text": [
      "Creating building AB\n",
      "Creating building AB\n"
     ]
    },
    {
     "name": "stderr",
     "output_type": "stream",
     "text": [
      "c:\\Users\\felix\\Programmieren\\districtgenerator\\.venv\\Lib\\site-packages\\teaser\\logic\\buildingobjects\\useconditions.py:363: FutureWarning: 'H' is deprecated and will be removed in a future version, please use 'h' instead.\n",
      "  index=pd.date_range(\"2019-01-01 00:00:00\", periods=8760, freq=\"H\")\n",
      "c:\\Users\\felix\\Programmieren\\districtgenerator\\.venv\\Lib\\site-packages\\teaser\\logic\\buildingobjects\\useconditions.py:363: FutureWarning: 'H' is deprecated and will be removed in a future version, please use 'h' instead.\n",
      "  index=pd.date_range(\"2019-01-01 00:00:00\", periods=8760, freq=\"H\")\n"
     ]
    },
    {
     "name": "stdout",
     "output_type": "stream",
     "text": [
      "Creating building AB\n",
      "Creating building AB\n"
     ]
    },
    {
     "name": "stderr",
     "output_type": "stream",
     "text": [
      "c:\\Users\\felix\\Programmieren\\districtgenerator\\.venv\\Lib\\site-packages\\teaser\\logic\\buildingobjects\\useconditions.py:363: FutureWarning: 'H' is deprecated and will be removed in a future version, please use 'h' instead.\n",
      "  index=pd.date_range(\"2019-01-01 00:00:00\", periods=8760, freq=\"H\")\n",
      "c:\\Users\\felix\\Programmieren\\districtgenerator\\.venv\\Lib\\site-packages\\teaser\\logic\\buildingobjects\\useconditions.py:363: FutureWarning: 'H' is deprecated and will be removed in a future version, please use 'h' instead.\n",
      "  index=pd.date_range(\"2019-01-01 00:00:00\", periods=8760, freq=\"H\")\n"
     ]
    },
    {
     "name": "stdout",
     "output_type": "stream",
     "text": [
      "Creating building AB\n",
      "Creating building AB\n"
     ]
    },
    {
     "name": "stderr",
     "output_type": "stream",
     "text": [
      "c:\\Users\\felix\\Programmieren\\districtgenerator\\.venv\\Lib\\site-packages\\teaser\\logic\\buildingobjects\\useconditions.py:363: FutureWarning: 'H' is deprecated and will be removed in a future version, please use 'h' instead.\n",
      "  index=pd.date_range(\"2019-01-01 00:00:00\", periods=8760, freq=\"H\")\n",
      "c:\\Users\\felix\\Programmieren\\districtgenerator\\.venv\\Lib\\site-packages\\teaser\\logic\\buildingobjects\\useconditions.py:363: FutureWarning: 'H' is deprecated and will be removed in a future version, please use 'h' instead.\n",
      "  index=pd.date_range(\"2019-01-01 00:00:00\", periods=8760, freq=\"H\")\n"
     ]
    },
    {
     "name": "stdout",
     "output_type": "stream",
     "text": [
      "Creating building AB\n",
      "Creating building AB\n"
     ]
    },
    {
     "name": "stderr",
     "output_type": "stream",
     "text": [
      "c:\\Users\\felix\\Programmieren\\districtgenerator\\.venv\\Lib\\site-packages\\teaser\\logic\\buildingobjects\\useconditions.py:363: FutureWarning: 'H' is deprecated and will be removed in a future version, please use 'h' instead.\n",
      "  index=pd.date_range(\"2019-01-01 00:00:00\", periods=8760, freq=\"H\")\n",
      "c:\\Users\\felix\\Programmieren\\districtgenerator\\.venv\\Lib\\site-packages\\teaser\\logic\\buildingobjects\\useconditions.py:363: FutureWarning: 'H' is deprecated and will be removed in a future version, please use 'h' instead.\n",
      "  index=pd.date_range(\"2019-01-01 00:00:00\", periods=8760, freq=\"H\")\n"
     ]
    },
    {
     "name": "stdout",
     "output_type": "stream",
     "text": [
      "Creating building AB\n",
      "Creating building AB\n"
     ]
    },
    {
     "name": "stderr",
     "output_type": "stream",
     "text": [
      "c:\\Users\\felix\\Programmieren\\districtgenerator\\.venv\\Lib\\site-packages\\teaser\\logic\\buildingobjects\\useconditions.py:363: FutureWarning: 'H' is deprecated and will be removed in a future version, please use 'h' instead.\n",
      "  index=pd.date_range(\"2019-01-01 00:00:00\", periods=8760, freq=\"H\")\n",
      "c:\\Users\\felix\\Programmieren\\districtgenerator\\.venv\\Lib\\site-packages\\teaser\\logic\\buildingobjects\\useconditions.py:363: FutureWarning: 'H' is deprecated and will be removed in a future version, please use 'h' instead.\n",
      "  index=pd.date_range(\"2019-01-01 00:00:00\", periods=8760, freq=\"H\")\n"
     ]
    },
    {
     "name": "stdout",
     "output_type": "stream",
     "text": [
      "Creating building TH\n",
      "Creating building AB\n",
      "Creating building IWU Transport\n",
      "We are about to generate a Non Residential building.\n",
      "Available building types: ['IWU Office, Administrative or Government Buildings', 'IWU Research and University Teaching', 'IWU Health and Care', 'IWU School, Day Nursery and other Care', 'IWU Culture and Leisure', 'IWU Sports Facilities', 'IWU Hotels, Boarding, Restaurants or Catering', 'IWU Production, Workshop, Warehouse or Operations', 'IWU Trade Buildings', 'IWU Technical and Utility (supply and disposal)', 'IWU Transport', 'IWU Generalized (1) Services building', 'IWU Generalized (2) Production buildings']\n",
      "Current usage: IWU Transport\n",
      "Creating building AB\n"
     ]
    },
    {
     "name": "stderr",
     "output_type": "stream",
     "text": [
      "c:\\Users\\felix\\Programmieren\\districtgenerator\\.venv\\Lib\\site-packages\\teaser\\logic\\buildingobjects\\useconditions.py:363: FutureWarning: 'H' is deprecated and will be removed in a future version, please use 'h' instead.\n",
      "  index=pd.date_range(\"2019-01-01 00:00:00\", periods=8760, freq=\"H\")\n",
      "c:\\Users\\felix\\Programmieren\\districtgenerator\\.venv\\Lib\\site-packages\\teaser\\logic\\buildingobjects\\useconditions.py:363: FutureWarning: 'H' is deprecated and will be removed in a future version, please use 'h' instead.\n",
      "  index=pd.date_range(\"2019-01-01 00:00:00\", periods=8760, freq=\"H\")\n",
      "c:\\Users\\felix\\Programmieren\\districtgenerator\\.venv\\Lib\\site-packages\\teaser\\logic\\buildingobjects\\useconditions.py:363: FutureWarning: 'H' is deprecated and will be removed in a future version, please use 'h' instead.\n",
      "  index=pd.date_range(\"2019-01-01 00:00:00\", periods=8760, freq=\"H\")\n"
     ]
    },
    {
     "name": "stdout",
     "output_type": "stream",
     "text": [
      "Creating building AB\n",
      "Creating building AB\n",
      "Creating building AB\n"
     ]
    },
    {
     "name": "stderr",
     "output_type": "stream",
     "text": [
      "c:\\Users\\felix\\Programmieren\\districtgenerator\\.venv\\Lib\\site-packages\\teaser\\logic\\buildingobjects\\useconditions.py:363: FutureWarning: 'H' is deprecated and will be removed in a future version, please use 'h' instead.\n",
      "  index=pd.date_range(\"2019-01-01 00:00:00\", periods=8760, freq=\"H\")\n",
      "c:\\Users\\felix\\Programmieren\\districtgenerator\\.venv\\Lib\\site-packages\\teaser\\logic\\buildingobjects\\useconditions.py:363: FutureWarning: 'H' is deprecated and will be removed in a future version, please use 'h' instead.\n",
      "  index=pd.date_range(\"2019-01-01 00:00:00\", periods=8760, freq=\"H\")\n",
      "c:\\Users\\felix\\Programmieren\\districtgenerator\\.venv\\Lib\\site-packages\\teaser\\logic\\buildingobjects\\useconditions.py:363: FutureWarning: 'H' is deprecated and will be removed in a future version, please use 'h' instead.\n",
      "  index=pd.date_range(\"2019-01-01 00:00:00\", periods=8760, freq=\"H\")\n"
     ]
    },
    {
     "name": "stdout",
     "output_type": "stream",
     "text": [
      "Creating building AB\n",
      "Creating building AB\n",
      "Creating building AB\n"
     ]
    },
    {
     "name": "stderr",
     "output_type": "stream",
     "text": [
      "c:\\Users\\felix\\Programmieren\\districtgenerator\\.venv\\Lib\\site-packages\\teaser\\logic\\buildingobjects\\useconditions.py:363: FutureWarning: 'H' is deprecated and will be removed in a future version, please use 'h' instead.\n",
      "  index=pd.date_range(\"2019-01-01 00:00:00\", periods=8760, freq=\"H\")\n",
      "c:\\Users\\felix\\Programmieren\\districtgenerator\\.venv\\Lib\\site-packages\\teaser\\logic\\buildingobjects\\useconditions.py:363: FutureWarning: 'H' is deprecated and will be removed in a future version, please use 'h' instead.\n",
      "  index=pd.date_range(\"2019-01-01 00:00:00\", periods=8760, freq=\"H\")\n",
      "c:\\Users\\felix\\Programmieren\\districtgenerator\\.venv\\Lib\\site-packages\\teaser\\logic\\buildingobjects\\useconditions.py:363: FutureWarning: 'H' is deprecated and will be removed in a future version, please use 'h' instead.\n",
      "  index=pd.date_range(\"2019-01-01 00:00:00\", periods=8760, freq=\"H\")\n"
     ]
    },
    {
     "name": "stdout",
     "output_type": "stream",
     "text": [
      "Creating building IWU Transport\n",
      "We are about to generate a Non Residential building.\n",
      "Available building types: ['IWU Office, Administrative or Government Buildings', 'IWU Research and University Teaching', 'IWU Health and Care', 'IWU School, Day Nursery and other Care', 'IWU Culture and Leisure', 'IWU Sports Facilities', 'IWU Hotels, Boarding, Restaurants or Catering', 'IWU Production, Workshop, Warehouse or Operations', 'IWU Trade Buildings', 'IWU Technical and Utility (supply and disposal)', 'IWU Transport', 'IWU Generalized (1) Services building', 'IWU Generalized (2) Production buildings']\n",
      "Current usage: IWU Transport\n",
      "Creating building AB\n",
      "Creating building AB\n"
     ]
    },
    {
     "name": "stderr",
     "output_type": "stream",
     "text": [
      "c:\\Users\\felix\\Programmieren\\districtgenerator\\.venv\\Lib\\site-packages\\teaser\\logic\\buildingobjects\\useconditions.py:363: FutureWarning: 'H' is deprecated and will be removed in a future version, please use 'h' instead.\n",
      "  index=pd.date_range(\"2019-01-01 00:00:00\", periods=8760, freq=\"H\")\n",
      "c:\\Users\\felix\\Programmieren\\districtgenerator\\.venv\\Lib\\site-packages\\teaser\\logic\\buildingobjects\\useconditions.py:363: FutureWarning: 'H' is deprecated and will be removed in a future version, please use 'h' instead.\n",
      "  index=pd.date_range(\"2019-01-01 00:00:00\", periods=8760, freq=\"H\")\n"
     ]
    },
    {
     "name": "stdout",
     "output_type": "stream",
     "text": [
      "Creating building AB\n",
      "Creating building IWU Transport\n",
      "We are about to generate a Non Residential building.\n",
      "Available building types: ['IWU Office, Administrative or Government Buildings', 'IWU Research and University Teaching', 'IWU Health and Care', 'IWU School, Day Nursery and other Care', 'IWU Culture and Leisure', 'IWU Sports Facilities', 'IWU Hotels, Boarding, Restaurants or Catering', 'IWU Production, Workshop, Warehouse or Operations', 'IWU Trade Buildings', 'IWU Technical and Utility (supply and disposal)', 'IWU Transport', 'IWU Generalized (1) Services building', 'IWU Generalized (2) Production buildings']\n",
      "Current usage: IWU Transport\n",
      "Creating building AB\n"
     ]
    },
    {
     "name": "stderr",
     "output_type": "stream",
     "text": [
      "c:\\Users\\felix\\Programmieren\\districtgenerator\\.venv\\Lib\\site-packages\\teaser\\logic\\buildingobjects\\useconditions.py:363: FutureWarning: 'H' is deprecated and will be removed in a future version, please use 'h' instead.\n",
      "  index=pd.date_range(\"2019-01-01 00:00:00\", periods=8760, freq=\"H\")\n",
      "c:\\Users\\felix\\Programmieren\\districtgenerator\\.venv\\Lib\\site-packages\\teaser\\logic\\buildingobjects\\useconditions.py:363: FutureWarning: 'H' is deprecated and will be removed in a future version, please use 'h' instead.\n",
      "  index=pd.date_range(\"2019-01-01 00:00:00\", periods=8760, freq=\"H\")\n"
     ]
    },
    {
     "name": "stdout",
     "output_type": "stream",
     "text": [
      "Creating building AB\n",
      "Creating building AB\n",
      "Creating building AB\n"
     ]
    },
    {
     "name": "stderr",
     "output_type": "stream",
     "text": [
      "c:\\Users\\felix\\Programmieren\\districtgenerator\\.venv\\Lib\\site-packages\\teaser\\logic\\buildingobjects\\useconditions.py:363: FutureWarning: 'H' is deprecated and will be removed in a future version, please use 'h' instead.\n",
      "  index=pd.date_range(\"2019-01-01 00:00:00\", periods=8760, freq=\"H\")\n",
      "c:\\Users\\felix\\Programmieren\\districtgenerator\\.venv\\Lib\\site-packages\\teaser\\logic\\buildingobjects\\useconditions.py:363: FutureWarning: 'H' is deprecated and will be removed in a future version, please use 'h' instead.\n",
      "  index=pd.date_range(\"2019-01-01 00:00:00\", periods=8760, freq=\"H\")\n",
      "c:\\Users\\felix\\Programmieren\\districtgenerator\\.venv\\Lib\\site-packages\\teaser\\logic\\buildingobjects\\useconditions.py:363: FutureWarning: 'H' is deprecated and will be removed in a future version, please use 'h' instead.\n",
      "  index=pd.date_range(\"2019-01-01 00:00:00\", periods=8760, freq=\"H\")\n"
     ]
    },
    {
     "name": "stdout",
     "output_type": "stream",
     "text": [
      "Creating building AB\n",
      "Creating building AB\n",
      "Creating building IWU Hotels, Boarding, Restaurants or Catering\n",
      "We are about to generate a Non Residential building.\n",
      "Available building types: ['IWU Office, Administrative or Government Buildings', 'IWU Research and University Teaching', 'IWU Health and Care', 'IWU School, Day Nursery and other Care', 'IWU Culture and Leisure', 'IWU Sports Facilities', 'IWU Hotels, Boarding, Restaurants or Catering', 'IWU Production, Workshop, Warehouse or Operations', 'IWU Trade Buildings', 'IWU Technical and Utility (supply and disposal)', 'IWU Transport', 'IWU Generalized (1) Services building', 'IWU Generalized (2) Production buildings']\n",
      "Current usage: IWU Hotels, Boarding, Restaurants or Catering\n",
      "Creating building AB\n"
     ]
    },
    {
     "name": "stderr",
     "output_type": "stream",
     "text": [
      "c:\\Users\\felix\\Programmieren\\districtgenerator\\.venv\\Lib\\site-packages\\teaser\\logic\\buildingobjects\\useconditions.py:363: FutureWarning: 'H' is deprecated and will be removed in a future version, please use 'h' instead.\n",
      "  index=pd.date_range(\"2019-01-01 00:00:00\", periods=8760, freq=\"H\")\n",
      "c:\\Users\\felix\\Programmieren\\districtgenerator\\.venv\\Lib\\site-packages\\teaser\\logic\\buildingobjects\\useconditions.py:363: FutureWarning: 'H' is deprecated and will be removed in a future version, please use 'h' instead.\n",
      "  index=pd.date_range(\"2019-01-01 00:00:00\", periods=8760, freq=\"H\")\n",
      "c:\\Users\\felix\\Programmieren\\districtgenerator\\.venv\\Lib\\site-packages\\teaser\\logic\\buildingobjects\\useconditions.py:363: FutureWarning: 'H' is deprecated and will be removed in a future version, please use 'h' instead.\n",
      "  index=pd.date_range(\"2019-01-01 00:00:00\", periods=8760, freq=\"H\")\n"
     ]
    },
    {
     "name": "stdout",
     "output_type": "stream",
     "text": [
      "Creating building IWU Transport\n",
      "We are about to generate a Non Residential building.\n",
      "Available building types: ['IWU Office, Administrative or Government Buildings', 'IWU Research and University Teaching', 'IWU Health and Care', 'IWU School, Day Nursery and other Care', 'IWU Culture and Leisure', 'IWU Sports Facilities', 'IWU Hotels, Boarding, Restaurants or Catering', 'IWU Production, Workshop, Warehouse or Operations', 'IWU Trade Buildings', 'IWU Technical and Utility (supply and disposal)', 'IWU Transport', 'IWU Generalized (1) Services building', 'IWU Generalized (2) Production buildings']\n",
      "Current usage: IWU Transport\n",
      "Creating building AB\n",
      "Creating building IWU Transport\n",
      "We are about to generate a Non Residential building.\n",
      "Available building types: ['IWU Office, Administrative or Government Buildings', 'IWU Research and University Teaching', 'IWU Health and Care', 'IWU School, Day Nursery and other Care', 'IWU Culture and Leisure', 'IWU Sports Facilities', 'IWU Hotels, Boarding, Restaurants or Catering', 'IWU Production, Workshop, Warehouse or Operations', 'IWU Trade Buildings', 'IWU Technical and Utility (supply and disposal)', 'IWU Transport', 'IWU Generalized (1) Services building', 'IWU Generalized (2) Production buildings']\n",
      "Current usage: IWU Transport\n",
      "Creating building AB\n"
     ]
    },
    {
     "name": "stderr",
     "output_type": "stream",
     "text": [
      "c:\\Users\\felix\\Programmieren\\districtgenerator\\.venv\\Lib\\site-packages\\teaser\\logic\\buildingobjects\\useconditions.py:363: FutureWarning: 'H' is deprecated and will be removed in a future version, please use 'h' instead.\n",
      "  index=pd.date_range(\"2019-01-01 00:00:00\", periods=8760, freq=\"H\")\n",
      "c:\\Users\\felix\\Programmieren\\districtgenerator\\.venv\\Lib\\site-packages\\teaser\\logic\\buildingobjects\\useconditions.py:363: FutureWarning: 'H' is deprecated and will be removed in a future version, please use 'h' instead.\n",
      "  index=pd.date_range(\"2019-01-01 00:00:00\", periods=8760, freq=\"H\")\n"
     ]
    },
    {
     "name": "stdout",
     "output_type": "stream",
     "text": [
      "Creating building AB\n",
      "Creating building AB\n",
      "Creating building IWU Transport\n",
      "We are about to generate a Non Residential building.\n",
      "Available building types: ['IWU Office, Administrative or Government Buildings', 'IWU Research and University Teaching', 'IWU Health and Care', 'IWU School, Day Nursery and other Care', 'IWU Culture and Leisure', 'IWU Sports Facilities', 'IWU Hotels, Boarding, Restaurants or Catering', 'IWU Production, Workshop, Warehouse or Operations', 'IWU Trade Buildings', 'IWU Technical and Utility (supply and disposal)', 'IWU Transport', 'IWU Generalized (1) Services building', 'IWU Generalized (2) Production buildings']\n",
      "Current usage: IWU Transport\n",
      "Creating building AB\n"
     ]
    },
    {
     "name": "stderr",
     "output_type": "stream",
     "text": [
      "c:\\Users\\felix\\Programmieren\\districtgenerator\\.venv\\Lib\\site-packages\\teaser\\logic\\buildingobjects\\useconditions.py:363: FutureWarning: 'H' is deprecated and will be removed in a future version, please use 'h' instead.\n",
      "  index=pd.date_range(\"2019-01-01 00:00:00\", periods=8760, freq=\"H\")\n",
      "c:\\Users\\felix\\Programmieren\\districtgenerator\\.venv\\Lib\\site-packages\\teaser\\logic\\buildingobjects\\useconditions.py:363: FutureWarning: 'H' is deprecated and will be removed in a future version, please use 'h' instead.\n",
      "  index=pd.date_range(\"2019-01-01 00:00:00\", periods=8760, freq=\"H\")\n",
      "c:\\Users\\felix\\Programmieren\\districtgenerator\\.venv\\Lib\\site-packages\\teaser\\logic\\buildingobjects\\useconditions.py:363: FutureWarning: 'H' is deprecated and will be removed in a future version, please use 'h' instead.\n",
      "  index=pd.date_range(\"2019-01-01 00:00:00\", periods=8760, freq=\"H\")\n"
     ]
    },
    {
     "name": "stdout",
     "output_type": "stream",
     "text": [
      "Creating building AB\n",
      "Creating building AB\n"
     ]
    },
    {
     "name": "stderr",
     "output_type": "stream",
     "text": [
      "c:\\Users\\felix\\Programmieren\\districtgenerator\\.venv\\Lib\\site-packages\\teaser\\logic\\buildingobjects\\useconditions.py:363: FutureWarning: 'H' is deprecated and will be removed in a future version, please use 'h' instead.\n",
      "  index=pd.date_range(\"2019-01-01 00:00:00\", periods=8760, freq=\"H\")\n",
      "c:\\Users\\felix\\Programmieren\\districtgenerator\\.venv\\Lib\\site-packages\\teaser\\logic\\buildingobjects\\useconditions.py:363: FutureWarning: 'H' is deprecated and will be removed in a future version, please use 'h' instead.\n",
      "  index=pd.date_range(\"2019-01-01 00:00:00\", periods=8760, freq=\"H\")\n"
     ]
    },
    {
     "name": "stdout",
     "output_type": "stream",
     "text": [
      "Creating building AB\n",
      "Creating building AB\n",
      "Creating building AB\n"
     ]
    },
    {
     "name": "stderr",
     "output_type": "stream",
     "text": [
      "c:\\Users\\felix\\Programmieren\\districtgenerator\\.venv\\Lib\\site-packages\\teaser\\logic\\buildingobjects\\useconditions.py:363: FutureWarning: 'H' is deprecated and will be removed in a future version, please use 'h' instead.\n",
      "  index=pd.date_range(\"2019-01-01 00:00:00\", periods=8760, freq=\"H\")\n",
      "c:\\Users\\felix\\Programmieren\\districtgenerator\\.venv\\Lib\\site-packages\\teaser\\logic\\buildingobjects\\useconditions.py:363: FutureWarning: 'H' is deprecated and will be removed in a future version, please use 'h' instead.\n",
      "  index=pd.date_range(\"2019-01-01 00:00:00\", periods=8760, freq=\"H\")\n",
      "c:\\Users\\felix\\Programmieren\\districtgenerator\\.venv\\Lib\\site-packages\\teaser\\logic\\buildingobjects\\useconditions.py:363: FutureWarning: 'H' is deprecated and will be removed in a future version, please use 'h' instead.\n",
      "  index=pd.date_range(\"2019-01-01 00:00:00\", periods=8760, freq=\"H\")\n"
     ]
    },
    {
     "name": "stdout",
     "output_type": "stream",
     "text": [
      "Creating building AB\n",
      "Creating building AB\n"
     ]
    },
    {
     "name": "stderr",
     "output_type": "stream",
     "text": [
      "c:\\Users\\felix\\Programmieren\\districtgenerator\\.venv\\Lib\\site-packages\\teaser\\logic\\buildingobjects\\useconditions.py:363: FutureWarning: 'H' is deprecated and will be removed in a future version, please use 'h' instead.\n",
      "  index=pd.date_range(\"2019-01-01 00:00:00\", periods=8760, freq=\"H\")\n",
      "c:\\Users\\felix\\Programmieren\\districtgenerator\\.venv\\Lib\\site-packages\\teaser\\logic\\buildingobjects\\useconditions.py:363: FutureWarning: 'H' is deprecated and will be removed in a future version, please use 'h' instead.\n",
      "  index=pd.date_range(\"2019-01-01 00:00:00\", periods=8760, freq=\"H\")\n"
     ]
    },
    {
     "name": "stdout",
     "output_type": "stream",
     "text": [
      "Creating building AB\n",
      "Creating building AB\n",
      "Creating building AB\n"
     ]
    },
    {
     "name": "stderr",
     "output_type": "stream",
     "text": [
      "c:\\Users\\felix\\Programmieren\\districtgenerator\\.venv\\Lib\\site-packages\\teaser\\logic\\buildingobjects\\useconditions.py:363: FutureWarning: 'H' is deprecated and will be removed in a future version, please use 'h' instead.\n",
      "  index=pd.date_range(\"2019-01-01 00:00:00\", periods=8760, freq=\"H\")\n",
      "c:\\Users\\felix\\Programmieren\\districtgenerator\\.venv\\Lib\\site-packages\\teaser\\logic\\buildingobjects\\useconditions.py:363: FutureWarning: 'H' is deprecated and will be removed in a future version, please use 'h' instead.\n",
      "  index=pd.date_range(\"2019-01-01 00:00:00\", periods=8760, freq=\"H\")\n",
      "c:\\Users\\felix\\Programmieren\\districtgenerator\\.venv\\Lib\\site-packages\\teaser\\logic\\buildingobjects\\useconditions.py:363: FutureWarning: 'H' is deprecated and will be removed in a future version, please use 'h' instead.\n",
      "  index=pd.date_range(\"2019-01-01 00:00:00\", periods=8760, freq=\"H\")\n"
     ]
    },
    {
     "name": "stdout",
     "output_type": "stream",
     "text": [
      "Creating building AB\n",
      "Creating building AB\n",
      "Creating building AB\n"
     ]
    },
    {
     "name": "stderr",
     "output_type": "stream",
     "text": [
      "c:\\Users\\felix\\Programmieren\\districtgenerator\\.venv\\Lib\\site-packages\\teaser\\logic\\buildingobjects\\useconditions.py:363: FutureWarning: 'H' is deprecated and will be removed in a future version, please use 'h' instead.\n",
      "  index=pd.date_range(\"2019-01-01 00:00:00\", periods=8760, freq=\"H\")\n",
      "c:\\Users\\felix\\Programmieren\\districtgenerator\\.venv\\Lib\\site-packages\\teaser\\logic\\buildingobjects\\useconditions.py:363: FutureWarning: 'H' is deprecated and will be removed in a future version, please use 'h' instead.\n",
      "  index=pd.date_range(\"2019-01-01 00:00:00\", periods=8760, freq=\"H\")\n",
      "c:\\Users\\felix\\Programmieren\\districtgenerator\\.venv\\Lib\\site-packages\\teaser\\logic\\buildingobjects\\useconditions.py:363: FutureWarning: 'H' is deprecated and will be removed in a future version, please use 'h' instead.\n",
      "  index=pd.date_range(\"2019-01-01 00:00:00\", periods=8760, freq=\"H\")\n"
     ]
    },
    {
     "name": "stdout",
     "output_type": "stream",
     "text": [
      "Creating building IWU School, Day Nursery and other Care\n",
      "We are about to generate a Non Residential building.\n",
      "Available building types: ['IWU Office, Administrative or Government Buildings', 'IWU Research and University Teaching', 'IWU Health and Care', 'IWU School, Day Nursery and other Care', 'IWU Culture and Leisure', 'IWU Sports Facilities', 'IWU Hotels, Boarding, Restaurants or Catering', 'IWU Production, Workshop, Warehouse or Operations', 'IWU Trade Buildings', 'IWU Technical and Utility (supply and disposal)', 'IWU Transport', 'IWU Generalized (1) Services building', 'IWU Generalized (2) Production buildings']\n",
      "Current usage: IWU School, Day Nursery and other Care\n",
      "Creating building AB\n",
      "Creating building AB\n"
     ]
    },
    {
     "name": "stderr",
     "output_type": "stream",
     "text": [
      "c:\\Users\\felix\\Programmieren\\districtgenerator\\.venv\\Lib\\site-packages\\teaser\\logic\\buildingobjects\\useconditions.py:363: FutureWarning: 'H' is deprecated and will be removed in a future version, please use 'h' instead.\n",
      "  index=pd.date_range(\"2019-01-01 00:00:00\", periods=8760, freq=\"H\")\n",
      "c:\\Users\\felix\\Programmieren\\districtgenerator\\.venv\\Lib\\site-packages\\teaser\\logic\\buildingobjects\\useconditions.py:363: FutureWarning: 'H' is deprecated and will be removed in a future version, please use 'h' instead.\n",
      "  index=pd.date_range(\"2019-01-01 00:00:00\", periods=8760, freq=\"H\")\n"
     ]
    },
    {
     "name": "stdout",
     "output_type": "stream",
     "text": [
      "Creating building AB\n",
      "Creating building AB\n",
      "Creating building AB\n",
      "Creating building IWU Transport\n",
      "We are about to generate a Non Residential building.\n",
      "Available building types: ['IWU Office, Administrative or Government Buildings', 'IWU Research and University Teaching', 'IWU Health and Care', 'IWU School, Day Nursery and other Care', 'IWU Culture and Leisure', 'IWU Sports Facilities', 'IWU Hotels, Boarding, Restaurants or Catering', 'IWU Production, Workshop, Warehouse or Operations', 'IWU Trade Buildings', 'IWU Technical and Utility (supply and disposal)', 'IWU Transport', 'IWU Generalized (1) Services building', 'IWU Generalized (2) Production buildings']\n",
      "Current usage: IWU Transport\n",
      "Creating building AB\n"
     ]
    },
    {
     "name": "stderr",
     "output_type": "stream",
     "text": [
      "c:\\Users\\felix\\Programmieren\\districtgenerator\\.venv\\Lib\\site-packages\\teaser\\logic\\buildingobjects\\useconditions.py:363: FutureWarning: 'H' is deprecated and will be removed in a future version, please use 'h' instead.\n",
      "  index=pd.date_range(\"2019-01-01 00:00:00\", periods=8760, freq=\"H\")\n",
      "c:\\Users\\felix\\Programmieren\\districtgenerator\\.venv\\Lib\\site-packages\\teaser\\logic\\buildingobjects\\useconditions.py:363: FutureWarning: 'H' is deprecated and will be removed in a future version, please use 'h' instead.\n",
      "  index=pd.date_range(\"2019-01-01 00:00:00\", periods=8760, freq=\"H\")\n",
      "c:\\Users\\felix\\Programmieren\\districtgenerator\\.venv\\Lib\\site-packages\\teaser\\logic\\buildingobjects\\useconditions.py:363: FutureWarning: 'H' is deprecated and will be removed in a future version, please use 'h' instead.\n",
      "  index=pd.date_range(\"2019-01-01 00:00:00\", periods=8760, freq=\"H\")\n",
      "c:\\Users\\felix\\Programmieren\\districtgenerator\\.venv\\Lib\\site-packages\\teaser\\logic\\buildingobjects\\useconditions.py:363: FutureWarning: 'H' is deprecated and will be removed in a future version, please use 'h' instead.\n",
      "  index=pd.date_range(\"2019-01-01 00:00:00\", periods=8760, freq=\"H\")\n"
     ]
    },
    {
     "name": "stdout",
     "output_type": "stream",
     "text": [
      "Creating building AB\n",
      "Creating building AB\n",
      "Creating building AB\n"
     ]
    },
    {
     "name": "stderr",
     "output_type": "stream",
     "text": [
      "c:\\Users\\felix\\Programmieren\\districtgenerator\\.venv\\Lib\\site-packages\\teaser\\logic\\buildingobjects\\useconditions.py:363: FutureWarning: 'H' is deprecated and will be removed in a future version, please use 'h' instead.\n",
      "  index=pd.date_range(\"2019-01-01 00:00:00\", periods=8760, freq=\"H\")\n",
      "c:\\Users\\felix\\Programmieren\\districtgenerator\\.venv\\Lib\\site-packages\\teaser\\logic\\buildingobjects\\useconditions.py:363: FutureWarning: 'H' is deprecated and will be removed in a future version, please use 'h' instead.\n",
      "  index=pd.date_range(\"2019-01-01 00:00:00\", periods=8760, freq=\"H\")\n",
      "c:\\Users\\felix\\Programmieren\\districtgenerator\\.venv\\Lib\\site-packages\\teaser\\logic\\buildingobjects\\useconditions.py:363: FutureWarning: 'H' is deprecated and will be removed in a future version, please use 'h' instead.\n",
      "  index=pd.date_range(\"2019-01-01 00:00:00\", periods=8760, freq=\"H\")\n"
     ]
    },
    {
     "name": "stdout",
     "output_type": "stream",
     "text": [
      "Creating building AB\n",
      "Creating building AB\n"
     ]
    },
    {
     "name": "stderr",
     "output_type": "stream",
     "text": [
      "c:\\Users\\felix\\Programmieren\\districtgenerator\\.venv\\Lib\\site-packages\\teaser\\logic\\buildingobjects\\useconditions.py:363: FutureWarning: 'H' is deprecated and will be removed in a future version, please use 'h' instead.\n",
      "  index=pd.date_range(\"2019-01-01 00:00:00\", periods=8760, freq=\"H\")\n",
      "c:\\Users\\felix\\Programmieren\\districtgenerator\\.venv\\Lib\\site-packages\\teaser\\logic\\buildingobjects\\useconditions.py:363: FutureWarning: 'H' is deprecated and will be removed in a future version, please use 'h' instead.\n",
      "  index=pd.date_range(\"2019-01-01 00:00:00\", periods=8760, freq=\"H\")\n"
     ]
    },
    {
     "name": "stdout",
     "output_type": "stream",
     "text": [
      "Creating building AB\n",
      "Creating building IWU Trade Buildings\n",
      "We are about to generate a Non Residential building.\n",
      "Available building types: ['IWU Office, Administrative or Government Buildings', 'IWU Research and University Teaching', 'IWU Health and Care', 'IWU School, Day Nursery and other Care', 'IWU Culture and Leisure', 'IWU Sports Facilities', 'IWU Hotels, Boarding, Restaurants or Catering', 'IWU Production, Workshop, Warehouse or Operations', 'IWU Trade Buildings', 'IWU Technical and Utility (supply and disposal)', 'IWU Transport', 'IWU Generalized (1) Services building', 'IWU Generalized (2) Production buildings']\n",
      "Current usage: IWU Trade Buildings\n",
      "Creating building AB\n"
     ]
    },
    {
     "name": "stderr",
     "output_type": "stream",
     "text": [
      "c:\\Users\\felix\\Programmieren\\districtgenerator\\.venv\\Lib\\site-packages\\teaser\\logic\\buildingobjects\\useconditions.py:363: FutureWarning: 'H' is deprecated and will be removed in a future version, please use 'h' instead.\n",
      "  index=pd.date_range(\"2019-01-01 00:00:00\", periods=8760, freq=\"H\")\n",
      "c:\\Users\\felix\\Programmieren\\districtgenerator\\.venv\\Lib\\site-packages\\teaser\\logic\\buildingobjects\\useconditions.py:363: FutureWarning: 'H' is deprecated and will be removed in a future version, please use 'h' instead.\n",
      "  index=pd.date_range(\"2019-01-01 00:00:00\", periods=8760, freq=\"H\")\n"
     ]
    },
    {
     "name": "stdout",
     "output_type": "stream",
     "text": [
      "Creating building AB\n",
      "Creating building AB\n",
      "Creating building AB\n"
     ]
    },
    {
     "name": "stderr",
     "output_type": "stream",
     "text": [
      "c:\\Users\\felix\\Programmieren\\districtgenerator\\.venv\\Lib\\site-packages\\teaser\\logic\\buildingobjects\\useconditions.py:363: FutureWarning: 'H' is deprecated and will be removed in a future version, please use 'h' instead.\n",
      "  index=pd.date_range(\"2019-01-01 00:00:00\", periods=8760, freq=\"H\")\n",
      "c:\\Users\\felix\\Programmieren\\districtgenerator\\.venv\\Lib\\site-packages\\teaser\\logic\\buildingobjects\\useconditions.py:363: FutureWarning: 'H' is deprecated and will be removed in a future version, please use 'h' instead.\n",
      "  index=pd.date_range(\"2019-01-01 00:00:00\", periods=8760, freq=\"H\")\n",
      "c:\\Users\\felix\\Programmieren\\districtgenerator\\.venv\\Lib\\site-packages\\teaser\\logic\\buildingobjects\\useconditions.py:363: FutureWarning: 'H' is deprecated and will be removed in a future version, please use 'h' instead.\n",
      "  index=pd.date_range(\"2019-01-01 00:00:00\", periods=8760, freq=\"H\")\n"
     ]
    },
    {
     "name": "stdout",
     "output_type": "stream",
     "text": [
      "Creating building AB\n",
      "Creating building AB\n",
      "Creating building AB\n"
     ]
    },
    {
     "name": "stderr",
     "output_type": "stream",
     "text": [
      "c:\\Users\\felix\\Programmieren\\districtgenerator\\.venv\\Lib\\site-packages\\teaser\\logic\\buildingobjects\\useconditions.py:363: FutureWarning: 'H' is deprecated and will be removed in a future version, please use 'h' instead.\n",
      "  index=pd.date_range(\"2019-01-01 00:00:00\", periods=8760, freq=\"H\")\n",
      "c:\\Users\\felix\\Programmieren\\districtgenerator\\.venv\\Lib\\site-packages\\teaser\\logic\\buildingobjects\\useconditions.py:363: FutureWarning: 'H' is deprecated and will be removed in a future version, please use 'h' instead.\n",
      "  index=pd.date_range(\"2019-01-01 00:00:00\", periods=8760, freq=\"H\")\n",
      "c:\\Users\\felix\\Programmieren\\districtgenerator\\.venv\\Lib\\site-packages\\teaser\\logic\\buildingobjects\\useconditions.py:363: FutureWarning: 'H' is deprecated and will be removed in a future version, please use 'h' instead.\n",
      "  index=pd.date_range(\"2019-01-01 00:00:00\", periods=8760, freq=\"H\")\n"
     ]
    },
    {
     "name": "stdout",
     "output_type": "stream",
     "text": [
      "Creating building IWU School, Day Nursery and other Care\n",
      "We are about to generate a Non Residential building.\n",
      "Available building types: ['IWU Office, Administrative or Government Buildings', 'IWU Research and University Teaching', 'IWU Health and Care', 'IWU School, Day Nursery and other Care', 'IWU Culture and Leisure', 'IWU Sports Facilities', 'IWU Hotels, Boarding, Restaurants or Catering', 'IWU Production, Workshop, Warehouse or Operations', 'IWU Trade Buildings', 'IWU Technical and Utility (supply and disposal)', 'IWU Transport', 'IWU Generalized (1) Services building', 'IWU Generalized (2) Production buildings']\n",
      "Current usage: IWU School, Day Nursery and other Care\n",
      "Creating building AB\n",
      "Creating building AB\n"
     ]
    },
    {
     "name": "stderr",
     "output_type": "stream",
     "text": [
      "c:\\Users\\felix\\Programmieren\\districtgenerator\\.venv\\Lib\\site-packages\\teaser\\logic\\buildingobjects\\useconditions.py:363: FutureWarning: 'H' is deprecated and will be removed in a future version, please use 'h' instead.\n",
      "  index=pd.date_range(\"2019-01-01 00:00:00\", periods=8760, freq=\"H\")\n",
      "c:\\Users\\felix\\Programmieren\\districtgenerator\\.venv\\Lib\\site-packages\\teaser\\logic\\buildingobjects\\useconditions.py:363: FutureWarning: 'H' is deprecated and will be removed in a future version, please use 'h' instead.\n",
      "  index=pd.date_range(\"2019-01-01 00:00:00\", periods=8760, freq=\"H\")\n",
      "c:\\Users\\felix\\Programmieren\\districtgenerator\\.venv\\Lib\\site-packages\\teaser\\logic\\buildingobjects\\useconditions.py:363: FutureWarning: 'H' is deprecated and will be removed in a future version, please use 'h' instead.\n",
      "  index=pd.date_range(\"2019-01-01 00:00:00\", periods=8760, freq=\"H\")\n"
     ]
    },
    {
     "name": "stdout",
     "output_type": "stream",
     "text": [
      "Creating building AB\n",
      "Creating building IWU Research and University Teaching\n",
      "We are about to generate a Non Residential building.\n",
      "Available building types: ['IWU Office, Administrative or Government Buildings', 'IWU Research and University Teaching', 'IWU Health and Care', 'IWU School, Day Nursery and other Care', 'IWU Culture and Leisure', 'IWU Sports Facilities', 'IWU Hotels, Boarding, Restaurants or Catering', 'IWU Production, Workshop, Warehouse or Operations', 'IWU Trade Buildings', 'IWU Technical and Utility (supply and disposal)', 'IWU Transport', 'IWU Generalized (1) Services building', 'IWU Generalized (2) Production buildings']\n",
      "Current usage: IWU Research and University Teaching\n",
      "Creating building AB\n"
     ]
    },
    {
     "name": "stderr",
     "output_type": "stream",
     "text": [
      "c:\\Users\\felix\\Programmieren\\districtgenerator\\.venv\\Lib\\site-packages\\teaser\\logic\\buildingobjects\\useconditions.py:363: FutureWarning: 'H' is deprecated and will be removed in a future version, please use 'h' instead.\n",
      "  index=pd.date_range(\"2019-01-01 00:00:00\", periods=8760, freq=\"H\")\n",
      "c:\\Users\\felix\\Programmieren\\districtgenerator\\.venv\\Lib\\site-packages\\teaser\\logic\\buildingobjects\\useconditions.py:363: FutureWarning: 'H' is deprecated and will be removed in a future version, please use 'h' instead.\n",
      "  index=pd.date_range(\"2019-01-01 00:00:00\", periods=8760, freq=\"H\")\n",
      "c:\\Users\\felix\\Programmieren\\districtgenerator\\.venv\\Lib\\site-packages\\teaser\\logic\\buildingobjects\\useconditions.py:363: FutureWarning: 'H' is deprecated and will be removed in a future version, please use 'h' instead.\n",
      "  index=pd.date_range(\"2019-01-01 00:00:00\", periods=8760, freq=\"H\")\n"
     ]
    },
    {
     "name": "stdout",
     "output_type": "stream",
     "text": [
      "Creating building AB\n",
      "Creating building AB\n",
      "Creating building AB\n",
      "Creating building AB\n",
      "Creating building AB\n"
     ]
    },
    {
     "name": "stderr",
     "output_type": "stream",
     "text": [
      "c:\\Users\\felix\\Programmieren\\districtgenerator\\.venv\\Lib\\site-packages\\teaser\\logic\\buildingobjects\\useconditions.py:363: FutureWarning: 'H' is deprecated and will be removed in a future version, please use 'h' instead.\n",
      "  index=pd.date_range(\"2019-01-01 00:00:00\", periods=8760, freq=\"H\")\n",
      "c:\\Users\\felix\\Programmieren\\districtgenerator\\.venv\\Lib\\site-packages\\teaser\\logic\\buildingobjects\\useconditions.py:363: FutureWarning: 'H' is deprecated and will be removed in a future version, please use 'h' instead.\n",
      "  index=pd.date_range(\"2019-01-01 00:00:00\", periods=8760, freq=\"H\")\n",
      "c:\\Users\\felix\\Programmieren\\districtgenerator\\.venv\\Lib\\site-packages\\teaser\\logic\\buildingobjects\\useconditions.py:363: FutureWarning: 'H' is deprecated and will be removed in a future version, please use 'h' instead.\n",
      "  index=pd.date_range(\"2019-01-01 00:00:00\", periods=8760, freq=\"H\")\n"
     ]
    },
    {
     "name": "stdout",
     "output_type": "stream",
     "text": [
      "Creating building AB\n",
      "Creating building AB\n",
      "Creating building AB\n"
     ]
    },
    {
     "name": "stderr",
     "output_type": "stream",
     "text": [
      "c:\\Users\\felix\\Programmieren\\districtgenerator\\.venv\\Lib\\site-packages\\teaser\\logic\\buildingobjects\\useconditions.py:363: FutureWarning: 'H' is deprecated and will be removed in a future version, please use 'h' instead.\n",
      "  index=pd.date_range(\"2019-01-01 00:00:00\", periods=8760, freq=\"H\")\n",
      "c:\\Users\\felix\\Programmieren\\districtgenerator\\.venv\\Lib\\site-packages\\teaser\\logic\\buildingobjects\\useconditions.py:363: FutureWarning: 'H' is deprecated and will be removed in a future version, please use 'h' instead.\n",
      "  index=pd.date_range(\"2019-01-01 00:00:00\", periods=8760, freq=\"H\")\n",
      "c:\\Users\\felix\\Programmieren\\districtgenerator\\.venv\\Lib\\site-packages\\teaser\\logic\\buildingobjects\\useconditions.py:363: FutureWarning: 'H' is deprecated and will be removed in a future version, please use 'h' instead.\n",
      "  index=pd.date_range(\"2019-01-01 00:00:00\", periods=8760, freq=\"H\")\n"
     ]
    },
    {
     "name": "stdout",
     "output_type": "stream",
     "text": [
      "Creating building AB\n",
      "Creating building AB\n",
      "Creating building AB\n"
     ]
    },
    {
     "name": "stderr",
     "output_type": "stream",
     "text": [
      "c:\\Users\\felix\\Programmieren\\districtgenerator\\.venv\\Lib\\site-packages\\teaser\\logic\\buildingobjects\\useconditions.py:363: FutureWarning: 'H' is deprecated and will be removed in a future version, please use 'h' instead.\n",
      "  index=pd.date_range(\"2019-01-01 00:00:00\", periods=8760, freq=\"H\")\n",
      "c:\\Users\\felix\\Programmieren\\districtgenerator\\.venv\\Lib\\site-packages\\teaser\\logic\\buildingobjects\\useconditions.py:363: FutureWarning: 'H' is deprecated and will be removed in a future version, please use 'h' instead.\n",
      "  index=pd.date_range(\"2019-01-01 00:00:00\", periods=8760, freq=\"H\")\n",
      "c:\\Users\\felix\\Programmieren\\districtgenerator\\.venv\\Lib\\site-packages\\teaser\\logic\\buildingobjects\\useconditions.py:363: FutureWarning: 'H' is deprecated and will be removed in a future version, please use 'h' instead.\n",
      "  index=pd.date_range(\"2019-01-01 00:00:00\", periods=8760, freq=\"H\")\n"
     ]
    },
    {
     "name": "stdout",
     "output_type": "stream",
     "text": [
      "Creating building AB\n",
      "Creating building AB\n",
      "Creating building AB\n"
     ]
    },
    {
     "name": "stderr",
     "output_type": "stream",
     "text": [
      "c:\\Users\\felix\\Programmieren\\districtgenerator\\.venv\\Lib\\site-packages\\teaser\\logic\\buildingobjects\\useconditions.py:363: FutureWarning: 'H' is deprecated and will be removed in a future version, please use 'h' instead.\n",
      "  index=pd.date_range(\"2019-01-01 00:00:00\", periods=8760, freq=\"H\")\n",
      "c:\\Users\\felix\\Programmieren\\districtgenerator\\.venv\\Lib\\site-packages\\teaser\\logic\\buildingobjects\\useconditions.py:363: FutureWarning: 'H' is deprecated and will be removed in a future version, please use 'h' instead.\n",
      "  index=pd.date_range(\"2019-01-01 00:00:00\", periods=8760, freq=\"H\")\n",
      "c:\\Users\\felix\\Programmieren\\districtgenerator\\.venv\\Lib\\site-packages\\teaser\\logic\\buildingobjects\\useconditions.py:363: FutureWarning: 'H' is deprecated and will be removed in a future version, please use 'h' instead.\n",
      "  index=pd.date_range(\"2019-01-01 00:00:00\", periods=8760, freq=\"H\")\n"
     ]
    },
    {
     "name": "stdout",
     "output_type": "stream",
     "text": [
      "Creating building AB\n",
      "Creating building AB\n",
      "Creating building AB\n"
     ]
    },
    {
     "name": "stderr",
     "output_type": "stream",
     "text": [
      "c:\\Users\\felix\\Programmieren\\districtgenerator\\.venv\\Lib\\site-packages\\teaser\\logic\\buildingobjects\\useconditions.py:363: FutureWarning: 'H' is deprecated and will be removed in a future version, please use 'h' instead.\n",
      "  index=pd.date_range(\"2019-01-01 00:00:00\", periods=8760, freq=\"H\")\n",
      "c:\\Users\\felix\\Programmieren\\districtgenerator\\.venv\\Lib\\site-packages\\teaser\\logic\\buildingobjects\\useconditions.py:363: FutureWarning: 'H' is deprecated and will be removed in a future version, please use 'h' instead.\n",
      "  index=pd.date_range(\"2019-01-01 00:00:00\", periods=8760, freq=\"H\")\n",
      "c:\\Users\\felix\\Programmieren\\districtgenerator\\.venv\\Lib\\site-packages\\teaser\\logic\\buildingobjects\\useconditions.py:363: FutureWarning: 'H' is deprecated and will be removed in a future version, please use 'h' instead.\n",
      "  index=pd.date_range(\"2019-01-01 00:00:00\", periods=8760, freq=\"H\")\n"
     ]
    },
    {
     "name": "stdout",
     "output_type": "stream",
     "text": [
      "Creating building AB\n",
      "Creating building IWU Culture and Leisure\n",
      "We are about to generate a Non Residential building.\n",
      "Available building types: ['IWU Office, Administrative or Government Buildings', 'IWU Research and University Teaching', 'IWU Health and Care', 'IWU School, Day Nursery and other Care', 'IWU Culture and Leisure', 'IWU Sports Facilities', 'IWU Hotels, Boarding, Restaurants or Catering', 'IWU Production, Workshop, Warehouse or Operations', 'IWU Trade Buildings', 'IWU Technical and Utility (supply and disposal)', 'IWU Transport', 'IWU Generalized (1) Services building', 'IWU Generalized (2) Production buildings']\n",
      "Current usage: IWU Culture and Leisure\n",
      "Creating building AB\n"
     ]
    },
    {
     "name": "stderr",
     "output_type": "stream",
     "text": [
      "c:\\Users\\felix\\Programmieren\\districtgenerator\\.venv\\Lib\\site-packages\\teaser\\logic\\buildingobjects\\useconditions.py:363: FutureWarning: 'H' is deprecated and will be removed in a future version, please use 'h' instead.\n",
      "  index=pd.date_range(\"2019-01-01 00:00:00\", periods=8760, freq=\"H\")\n",
      "c:\\Users\\felix\\Programmieren\\districtgenerator\\.venv\\Lib\\site-packages\\teaser\\logic\\buildingobjects\\useconditions.py:363: FutureWarning: 'H' is deprecated and will be removed in a future version, please use 'h' instead.\n",
      "  index=pd.date_range(\"2019-01-01 00:00:00\", periods=8760, freq=\"H\")\n"
     ]
    },
    {
     "name": "stdout",
     "output_type": "stream",
     "text": [
      "Creating building AB\n",
      "Creating building AB\n"
     ]
    },
    {
     "name": "stderr",
     "output_type": "stream",
     "text": [
      "c:\\Users\\felix\\Programmieren\\districtgenerator\\.venv\\Lib\\site-packages\\teaser\\logic\\buildingobjects\\useconditions.py:363: FutureWarning: 'H' is deprecated and will be removed in a future version, please use 'h' instead.\n",
      "  index=pd.date_range(\"2019-01-01 00:00:00\", periods=8760, freq=\"H\")\n",
      "c:\\Users\\felix\\Programmieren\\districtgenerator\\.venv\\Lib\\site-packages\\teaser\\logic\\buildingobjects\\useconditions.py:363: FutureWarning: 'H' is deprecated and will be removed in a future version, please use 'h' instead.\n",
      "  index=pd.date_range(\"2019-01-01 00:00:00\", periods=8760, freq=\"H\")\n"
     ]
    },
    {
     "name": "stdout",
     "output_type": "stream",
     "text": [
      "Creating building IWU Research and University Teaching\n",
      "We are about to generate a Non Residential building.\n",
      "Available building types: ['IWU Office, Administrative or Government Buildings', 'IWU Research and University Teaching', 'IWU Health and Care', 'IWU School, Day Nursery and other Care', 'IWU Culture and Leisure', 'IWU Sports Facilities', 'IWU Hotels, Boarding, Restaurants or Catering', 'IWU Production, Workshop, Warehouse or Operations', 'IWU Trade Buildings', 'IWU Technical and Utility (supply and disposal)', 'IWU Transport', 'IWU Generalized (1) Services building', 'IWU Generalized (2) Production buildings']\n",
      "Current usage: IWU Research and University Teaching\n",
      "Creating building AB\n",
      "Creating building AB\n"
     ]
    },
    {
     "name": "stderr",
     "output_type": "stream",
     "text": [
      "c:\\Users\\felix\\Programmieren\\districtgenerator\\.venv\\Lib\\site-packages\\teaser\\logic\\buildingobjects\\useconditions.py:363: FutureWarning: 'H' is deprecated and will be removed in a future version, please use 'h' instead.\n",
      "  index=pd.date_range(\"2019-01-01 00:00:00\", periods=8760, freq=\"H\")\n",
      "c:\\Users\\felix\\Programmieren\\districtgenerator\\.venv\\Lib\\site-packages\\teaser\\logic\\buildingobjects\\useconditions.py:363: FutureWarning: 'H' is deprecated and will be removed in a future version, please use 'h' instead.\n",
      "  index=pd.date_range(\"2019-01-01 00:00:00\", periods=8760, freq=\"H\")\n"
     ]
    },
    {
     "name": "stdout",
     "output_type": "stream",
     "text": [
      "Creating building AB\n",
      "Creating building AB\n"
     ]
    },
    {
     "name": "stderr",
     "output_type": "stream",
     "text": [
      "c:\\Users\\felix\\Programmieren\\districtgenerator\\.venv\\Lib\\site-packages\\teaser\\logic\\buildingobjects\\useconditions.py:363: FutureWarning: 'H' is deprecated and will be removed in a future version, please use 'h' instead.\n",
      "  index=pd.date_range(\"2019-01-01 00:00:00\", periods=8760, freq=\"H\")\n",
      "c:\\Users\\felix\\Programmieren\\districtgenerator\\.venv\\Lib\\site-packages\\teaser\\logic\\buildingobjects\\useconditions.py:363: FutureWarning: 'H' is deprecated and will be removed in a future version, please use 'h' instead.\n",
      "  index=pd.date_range(\"2019-01-01 00:00:00\", periods=8760, freq=\"H\")\n"
     ]
    },
    {
     "name": "stdout",
     "output_type": "stream",
     "text": [
      "Creating building IWU Office, Administrative or Government Buildings\n",
      "We are about to generate a Non Residential building.\n",
      "Available building types: ['IWU Office, Administrative or Government Buildings', 'IWU Research and University Teaching', 'IWU Health and Care', 'IWU School, Day Nursery and other Care', 'IWU Culture and Leisure', 'IWU Sports Facilities', 'IWU Hotels, Boarding, Restaurants or Catering', 'IWU Production, Workshop, Warehouse or Operations', 'IWU Trade Buildings', 'IWU Technical and Utility (supply and disposal)', 'IWU Transport', 'IWU Generalized (1) Services building', 'IWU Generalized (2) Production buildings']\n",
      "Current usage: IWU Office, Administrative or Government Buildings\n",
      "Creating building AB\n"
     ]
    },
    {
     "name": "stderr",
     "output_type": "stream",
     "text": [
      "c:\\Users\\felix\\Programmieren\\districtgenerator\\.venv\\Lib\\site-packages\\teaser\\logic\\buildingobjects\\useconditions.py:363: FutureWarning: 'H' is deprecated and will be removed in a future version, please use 'h' instead.\n",
      "  index=pd.date_range(\"2019-01-01 00:00:00\", periods=8760, freq=\"H\")\n",
      "c:\\Users\\felix\\Programmieren\\districtgenerator\\.venv\\Lib\\site-packages\\teaser\\logic\\buildingobjects\\useconditions.py:363: FutureWarning: 'H' is deprecated and will be removed in a future version, please use 'h' instead.\n",
      "  index=pd.date_range(\"2019-01-01 00:00:00\", periods=8760, freq=\"H\")\n"
     ]
    },
    {
     "name": "stdout",
     "output_type": "stream",
     "text": [
      "Creating building AB\n",
      "Creating building AB\n"
     ]
    },
    {
     "name": "stderr",
     "output_type": "stream",
     "text": [
      "c:\\Users\\felix\\Programmieren\\districtgenerator\\.venv\\Lib\\site-packages\\teaser\\logic\\buildingobjects\\useconditions.py:363: FutureWarning: 'H' is deprecated and will be removed in a future version, please use 'h' instead.\n",
      "  index=pd.date_range(\"2019-01-01 00:00:00\", periods=8760, freq=\"H\")\n"
     ]
    },
    {
     "name": "stdout",
     "output_type": "stream",
     "text": [
      "Creating building AB\n",
      "Creating building AB\n"
     ]
    },
    {
     "name": "stderr",
     "output_type": "stream",
     "text": [
      "c:\\Users\\felix\\Programmieren\\districtgenerator\\.venv\\Lib\\site-packages\\teaser\\logic\\buildingobjects\\useconditions.py:363: FutureWarning: 'H' is deprecated and will be removed in a future version, please use 'h' instead.\n",
      "  index=pd.date_range(\"2019-01-01 00:00:00\", periods=8760, freq=\"H\")\n",
      "c:\\Users\\felix\\Programmieren\\districtgenerator\\.venv\\Lib\\site-packages\\teaser\\logic\\buildingobjects\\useconditions.py:363: FutureWarning: 'H' is deprecated and will be removed in a future version, please use 'h' instead.\n",
      "  index=pd.date_range(\"2019-01-01 00:00:00\", periods=8760, freq=\"H\")\n"
     ]
    },
    {
     "name": "stdout",
     "output_type": "stream",
     "text": [
      "Creating building AB\n",
      "Creating building AB\n",
      "Creating building IWU School, Day Nursery and other Care\n",
      "We are about to generate a Non Residential building.\n",
      "Available building types: ['IWU Office, Administrative or Government Buildings', 'IWU Research and University Teaching', 'IWU Health and Care', 'IWU School, Day Nursery and other Care', 'IWU Culture and Leisure', 'IWU Sports Facilities', 'IWU Hotels, Boarding, Restaurants or Catering', 'IWU Production, Workshop, Warehouse or Operations', 'IWU Trade Buildings', 'IWU Technical and Utility (supply and disposal)', 'IWU Transport', 'IWU Generalized (1) Services building', 'IWU Generalized (2) Production buildings']\n",
      "Current usage: IWU School, Day Nursery and other Care\n",
      "Creating building AB\n"
     ]
    },
    {
     "name": "stderr",
     "output_type": "stream",
     "text": [
      "c:\\Users\\felix\\Programmieren\\districtgenerator\\.venv\\Lib\\site-packages\\teaser\\logic\\buildingobjects\\useconditions.py:363: FutureWarning: 'H' is deprecated and will be removed in a future version, please use 'h' instead.\n",
      "  index=pd.date_range(\"2019-01-01 00:00:00\", periods=8760, freq=\"H\")\n",
      "c:\\Users\\felix\\Programmieren\\districtgenerator\\.venv\\Lib\\site-packages\\teaser\\logic\\buildingobjects\\useconditions.py:363: FutureWarning: 'H' is deprecated and will be removed in a future version, please use 'h' instead.\n",
      "  index=pd.date_range(\"2019-01-01 00:00:00\", periods=8760, freq=\"H\")\n",
      "c:\\Users\\felix\\Programmieren\\districtgenerator\\.venv\\Lib\\site-packages\\teaser\\logic\\buildingobjects\\useconditions.py:363: FutureWarning: 'H' is deprecated and will be removed in a future version, please use 'h' instead.\n",
      "  index=pd.date_range(\"2019-01-01 00:00:00\", periods=8760, freq=\"H\")\n"
     ]
    },
    {
     "name": "stdout",
     "output_type": "stream",
     "text": [
      "Creating building IWU School, Day Nursery and other Care\n",
      "We are about to generate a Non Residential building.\n",
      "Available building types: ['IWU Office, Administrative or Government Buildings', 'IWU Research and University Teaching', 'IWU Health and Care', 'IWU School, Day Nursery and other Care', 'IWU Culture and Leisure', 'IWU Sports Facilities', 'IWU Hotels, Boarding, Restaurants or Catering', 'IWU Production, Workshop, Warehouse or Operations', 'IWU Trade Buildings', 'IWU Technical and Utility (supply and disposal)', 'IWU Transport', 'IWU Generalized (1) Services building', 'IWU Generalized (2) Production buildings']\n",
      "Current usage: IWU School, Day Nursery and other Care\n",
      "Creating building AB\n",
      "Creating building IWU Transport\n",
      "We are about to generate a Non Residential building.\n",
      "Available building types: ['IWU Office, Administrative or Government Buildings', 'IWU Research and University Teaching', 'IWU Health and Care', 'IWU School, Day Nursery and other Care', 'IWU Culture and Leisure', 'IWU Sports Facilities', 'IWU Hotels, Boarding, Restaurants or Catering', 'IWU Production, Workshop, Warehouse or Operations', 'IWU Trade Buildings', 'IWU Technical and Utility (supply and disposal)', 'IWU Transport', 'IWU Generalized (1) Services building', 'IWU Generalized (2) Production buildings']\n",
      "Current usage: IWU Transport\n",
      "Creating building AB\n"
     ]
    },
    {
     "name": "stderr",
     "output_type": "stream",
     "text": [
      "c:\\Users\\felix\\Programmieren\\districtgenerator\\.venv\\Lib\\site-packages\\teaser\\logic\\buildingobjects\\useconditions.py:363: FutureWarning: 'H' is deprecated and will be removed in a future version, please use 'h' instead.\n",
      "  index=pd.date_range(\"2019-01-01 00:00:00\", periods=8760, freq=\"H\")\n",
      "c:\\Users\\felix\\Programmieren\\districtgenerator\\.venv\\Lib\\site-packages\\teaser\\logic\\buildingobjects\\useconditions.py:363: FutureWarning: 'H' is deprecated and will be removed in a future version, please use 'h' instead.\n",
      "  index=pd.date_range(\"2019-01-01 00:00:00\", periods=8760, freq=\"H\")\n",
      "c:\\Users\\felix\\Programmieren\\districtgenerator\\.venv\\Lib\\site-packages\\teaser\\logic\\buildingobjects\\useconditions.py:363: FutureWarning: 'H' is deprecated and will be removed in a future version, please use 'h' instead.\n",
      "  index=pd.date_range(\"2019-01-01 00:00:00\", periods=8760, freq=\"H\")\n"
     ]
    },
    {
     "name": "stdout",
     "output_type": "stream",
     "text": [
      "Creating building AB\n",
      "Creating building AB\n"
     ]
    },
    {
     "name": "stderr",
     "output_type": "stream",
     "text": [
      "c:\\Users\\felix\\Programmieren\\districtgenerator\\.venv\\Lib\\site-packages\\teaser\\logic\\buildingobjects\\useconditions.py:363: FutureWarning: 'H' is deprecated and will be removed in a future version, please use 'h' instead.\n",
      "  index=pd.date_range(\"2019-01-01 00:00:00\", periods=8760, freq=\"H\")\n",
      "c:\\Users\\felix\\Programmieren\\districtgenerator\\.venv\\Lib\\site-packages\\teaser\\logic\\buildingobjects\\useconditions.py:363: FutureWarning: 'H' is deprecated and will be removed in a future version, please use 'h' instead.\n",
      "  index=pd.date_range(\"2019-01-01 00:00:00\", periods=8760, freq=\"H\")\n"
     ]
    },
    {
     "name": "stdout",
     "output_type": "stream",
     "text": [
      "Creating building AB\n",
      "Creating building IWU Transport\n",
      "We are about to generate a Non Residential building.\n",
      "Available building types: ['IWU Office, Administrative or Government Buildings', 'IWU Research and University Teaching', 'IWU Health and Care', 'IWU School, Day Nursery and other Care', 'IWU Culture and Leisure', 'IWU Sports Facilities', 'IWU Hotels, Boarding, Restaurants or Catering', 'IWU Production, Workshop, Warehouse or Operations', 'IWU Trade Buildings', 'IWU Technical and Utility (supply and disposal)', 'IWU Transport', 'IWU Generalized (1) Services building', 'IWU Generalized (2) Production buildings']\n",
      "Current usage: IWU Transport\n",
      "Creating building AB\n"
     ]
    },
    {
     "name": "stderr",
     "output_type": "stream",
     "text": [
      "c:\\Users\\felix\\Programmieren\\districtgenerator\\.venv\\Lib\\site-packages\\teaser\\logic\\buildingobjects\\useconditions.py:363: FutureWarning: 'H' is deprecated and will be removed in a future version, please use 'h' instead.\n",
      "  index=pd.date_range(\"2019-01-01 00:00:00\", periods=8760, freq=\"H\")\n",
      "c:\\Users\\felix\\Programmieren\\districtgenerator\\.venv\\Lib\\site-packages\\teaser\\logic\\buildingobjects\\useconditions.py:363: FutureWarning: 'H' is deprecated and will be removed in a future version, please use 'h' instead.\n",
      "  index=pd.date_range(\"2019-01-01 00:00:00\", periods=8760, freq=\"H\")\n"
     ]
    },
    {
     "name": "stdout",
     "output_type": "stream",
     "text": [
      "Creating building AB\n",
      "Creating building AB\n"
     ]
    },
    {
     "name": "stderr",
     "output_type": "stream",
     "text": [
      "c:\\Users\\felix\\Programmieren\\districtgenerator\\.venv\\Lib\\site-packages\\teaser\\logic\\buildingobjects\\useconditions.py:363: FutureWarning: 'H' is deprecated and will be removed in a future version, please use 'h' instead.\n",
      "  index=pd.date_range(\"2019-01-01 00:00:00\", periods=8760, freq=\"H\")\n",
      "c:\\Users\\felix\\Programmieren\\districtgenerator\\.venv\\Lib\\site-packages\\teaser\\logic\\buildingobjects\\useconditions.py:363: FutureWarning: 'H' is deprecated and will be removed in a future version, please use 'h' instead.\n",
      "  index=pd.date_range(\"2019-01-01 00:00:00\", periods=8760, freq=\"H\")\n"
     ]
    },
    {
     "name": "stdout",
     "output_type": "stream",
     "text": [
      "Creating building AB\n",
      "Creating building AB\n",
      "Creating building AB\n"
     ]
    },
    {
     "name": "stderr",
     "output_type": "stream",
     "text": [
      "c:\\Users\\felix\\Programmieren\\districtgenerator\\.venv\\Lib\\site-packages\\teaser\\logic\\buildingobjects\\useconditions.py:363: FutureWarning: 'H' is deprecated and will be removed in a future version, please use 'h' instead.\n",
      "  index=pd.date_range(\"2019-01-01 00:00:00\", periods=8760, freq=\"H\")\n",
      "c:\\Users\\felix\\Programmieren\\districtgenerator\\.venv\\Lib\\site-packages\\teaser\\logic\\buildingobjects\\useconditions.py:363: FutureWarning: 'H' is deprecated and will be removed in a future version, please use 'h' instead.\n",
      "  index=pd.date_range(\"2019-01-01 00:00:00\", periods=8760, freq=\"H\")\n"
     ]
    },
    {
     "name": "stdout",
     "output_type": "stream",
     "text": [
      "Creating building AB\n",
      "Creating building IWU School, Day Nursery and other Care\n",
      "We are about to generate a Non Residential building.\n",
      "Available building types: ['IWU Office, Administrative or Government Buildings', 'IWU Research and University Teaching', 'IWU Health and Care', 'IWU School, Day Nursery and other Care', 'IWU Culture and Leisure', 'IWU Sports Facilities', 'IWU Hotels, Boarding, Restaurants or Catering', 'IWU Production, Workshop, Warehouse or Operations', 'IWU Trade Buildings', 'IWU Technical and Utility (supply and disposal)', 'IWU Transport', 'IWU Generalized (1) Services building', 'IWU Generalized (2) Production buildings']\n",
      "Current usage: IWU School, Day Nursery and other Care\n",
      "Creating building AB\n"
     ]
    },
    {
     "name": "stderr",
     "output_type": "stream",
     "text": [
      "c:\\Users\\felix\\Programmieren\\districtgenerator\\.venv\\Lib\\site-packages\\teaser\\logic\\buildingobjects\\useconditions.py:363: FutureWarning: 'H' is deprecated and will be removed in a future version, please use 'h' instead.\n",
      "  index=pd.date_range(\"2019-01-01 00:00:00\", periods=8760, freq=\"H\")\n",
      "c:\\Users\\felix\\Programmieren\\districtgenerator\\.venv\\Lib\\site-packages\\teaser\\logic\\buildingobjects\\useconditions.py:363: FutureWarning: 'H' is deprecated and will be removed in a future version, please use 'h' instead.\n",
      "  index=pd.date_range(\"2019-01-01 00:00:00\", periods=8760, freq=\"H\")\n"
     ]
    },
    {
     "name": "stdout",
     "output_type": "stream",
     "text": [
      "Creating building AB\n",
      "Creating building IWU Transport\n",
      "We are about to generate a Non Residential building.\n",
      "Available building types: ['IWU Office, Administrative or Government Buildings', 'IWU Research and University Teaching', 'IWU Health and Care', 'IWU School, Day Nursery and other Care', 'IWU Culture and Leisure', 'IWU Sports Facilities', 'IWU Hotels, Boarding, Restaurants or Catering', 'IWU Production, Workshop, Warehouse or Operations', 'IWU Trade Buildings', 'IWU Technical and Utility (supply and disposal)', 'IWU Transport', 'IWU Generalized (1) Services building', 'IWU Generalized (2) Production buildings']\n",
      "Current usage: IWU Transport\n",
      "Creating building AB\n"
     ]
    },
    {
     "name": "stderr",
     "output_type": "stream",
     "text": [
      "c:\\Users\\felix\\Programmieren\\districtgenerator\\.venv\\Lib\\site-packages\\teaser\\logic\\buildingobjects\\useconditions.py:363: FutureWarning: 'H' is deprecated and will be removed in a future version, please use 'h' instead.\n",
      "  index=pd.date_range(\"2019-01-01 00:00:00\", periods=8760, freq=\"H\")\n",
      "c:\\Users\\felix\\Programmieren\\districtgenerator\\.venv\\Lib\\site-packages\\teaser\\logic\\buildingobjects\\useconditions.py:363: FutureWarning: 'H' is deprecated and will be removed in a future version, please use 'h' instead.\n",
      "  index=pd.date_range(\"2019-01-01 00:00:00\", periods=8760, freq=\"H\")\n"
     ]
    },
    {
     "name": "stdout",
     "output_type": "stream",
     "text": [
      "Creating building AB\n",
      "Creating building IWU Transport\n",
      "We are about to generate a Non Residential building.\n",
      "Available building types: ['IWU Office, Administrative or Government Buildings', 'IWU Research and University Teaching', 'IWU Health and Care', 'IWU School, Day Nursery and other Care', 'IWU Culture and Leisure', 'IWU Sports Facilities', 'IWU Hotels, Boarding, Restaurants or Catering', 'IWU Production, Workshop, Warehouse or Operations', 'IWU Trade Buildings', 'IWU Technical and Utility (supply and disposal)', 'IWU Transport', 'IWU Generalized (1) Services building', 'IWU Generalized (2) Production buildings']\n",
      "Current usage: IWU Transport\n",
      "Creating building IWU School, Day Nursery and other Care\n",
      "We are about to generate a Non Residential building.\n",
      "Available building types: ['IWU Office, Administrative or Government Buildings', 'IWU Research and University Teaching', 'IWU Health and Care', 'IWU School, Day Nursery and other Care', 'IWU Culture and Leisure', 'IWU Sports Facilities', 'IWU Hotels, Boarding, Restaurants or Catering', 'IWU Production, Workshop, Warehouse or Operations', 'IWU Trade Buildings', 'IWU Technical and Utility (supply and disposal)', 'IWU Transport', 'IWU Generalized (1) Services building', 'IWU Generalized (2) Production buildings']\n",
      "Current usage: IWU School, Day Nursery and other Care\n",
      "Creating building AB\n"
     ]
    },
    {
     "name": "stderr",
     "output_type": "stream",
     "text": [
      "c:\\Users\\felix\\Programmieren\\districtgenerator\\.venv\\Lib\\site-packages\\teaser\\logic\\buildingobjects\\useconditions.py:363: FutureWarning: 'H' is deprecated and will be removed in a future version, please use 'h' instead.\n",
      "  index=pd.date_range(\"2019-01-01 00:00:00\", periods=8760, freq=\"H\")\n",
      "c:\\Users\\felix\\Programmieren\\districtgenerator\\.venv\\Lib\\site-packages\\teaser\\logic\\buildingobjects\\useconditions.py:363: FutureWarning: 'H' is deprecated and will be removed in a future version, please use 'h' instead.\n",
      "  index=pd.date_range(\"2019-01-01 00:00:00\", periods=8760, freq=\"H\")\n"
     ]
    },
    {
     "name": "stdout",
     "output_type": "stream",
     "text": [
      "Creating building IWU Office, Administrative or Government Buildings\n",
      "We are about to generate a Non Residential building.\n",
      "Available building types: ['IWU Office, Administrative or Government Buildings', 'IWU Research and University Teaching', 'IWU Health and Care', 'IWU School, Day Nursery and other Care', 'IWU Culture and Leisure', 'IWU Sports Facilities', 'IWU Hotels, Boarding, Restaurants or Catering', 'IWU Production, Workshop, Warehouse or Operations', 'IWU Trade Buildings', 'IWU Technical and Utility (supply and disposal)', 'IWU Transport', 'IWU Generalized (1) Services building', 'IWU Generalized (2) Production buildings']\n",
      "Current usage: IWU Office, Administrative or Government Buildings\n",
      "Creating building AB\n",
      "Creating building AB\n"
     ]
    },
    {
     "name": "stderr",
     "output_type": "stream",
     "text": [
      "c:\\Users\\felix\\Programmieren\\districtgenerator\\.venv\\Lib\\site-packages\\teaser\\logic\\buildingobjects\\useconditions.py:363: FutureWarning: 'H' is deprecated and will be removed in a future version, please use 'h' instead.\n",
      "  index=pd.date_range(\"2019-01-01 00:00:00\", periods=8760, freq=\"H\")\n",
      "c:\\Users\\felix\\Programmieren\\districtgenerator\\.venv\\Lib\\site-packages\\teaser\\logic\\buildingobjects\\useconditions.py:363: FutureWarning: 'H' is deprecated and will be removed in a future version, please use 'h' instead.\n",
      "  index=pd.date_range(\"2019-01-01 00:00:00\", periods=8760, freq=\"H\")\n"
     ]
    },
    {
     "name": "stdout",
     "output_type": "stream",
     "text": [
      "Creating building AB\n",
      "Creating building AB\n"
     ]
    },
    {
     "name": "stderr",
     "output_type": "stream",
     "text": [
      "c:\\Users\\felix\\Programmieren\\districtgenerator\\.venv\\Lib\\site-packages\\teaser\\logic\\buildingobjects\\useconditions.py:363: FutureWarning: 'H' is deprecated and will be removed in a future version, please use 'h' instead.\n",
      "  index=pd.date_range(\"2019-01-01 00:00:00\", periods=8760, freq=\"H\")\n",
      "c:\\Users\\felix\\Programmieren\\districtgenerator\\.venv\\Lib\\site-packages\\teaser\\logic\\buildingobjects\\useconditions.py:363: FutureWarning: 'H' is deprecated and will be removed in a future version, please use 'h' instead.\n",
      "  index=pd.date_range(\"2019-01-01 00:00:00\", periods=8760, freq=\"H\")\n"
     ]
    },
    {
     "name": "stdout",
     "output_type": "stream",
     "text": [
      "Creating building AB\n",
      "Creating building AB\n",
      "Creating building AB\n"
     ]
    },
    {
     "name": "stderr",
     "output_type": "stream",
     "text": [
      "c:\\Users\\felix\\Programmieren\\districtgenerator\\.venv\\Lib\\site-packages\\teaser\\logic\\buildingobjects\\useconditions.py:363: FutureWarning: 'H' is deprecated and will be removed in a future version, please use 'h' instead.\n",
      "  index=pd.date_range(\"2019-01-01 00:00:00\", periods=8760, freq=\"H\")\n",
      "c:\\Users\\felix\\Programmieren\\districtgenerator\\.venv\\Lib\\site-packages\\teaser\\logic\\buildingobjects\\useconditions.py:363: FutureWarning: 'H' is deprecated and will be removed in a future version, please use 'h' instead.\n",
      "  index=pd.date_range(\"2019-01-01 00:00:00\", periods=8760, freq=\"H\")\n",
      "c:\\Users\\felix\\Programmieren\\districtgenerator\\.venv\\Lib\\site-packages\\teaser\\logic\\buildingobjects\\useconditions.py:363: FutureWarning: 'H' is deprecated and will be removed in a future version, please use 'h' instead.\n",
      "  index=pd.date_range(\"2019-01-01 00:00:00\", periods=8760, freq=\"H\")\n"
     ]
    },
    {
     "name": "stdout",
     "output_type": "stream",
     "text": [
      "Creating building IWU Technical and Utility (supply and disposal)\n",
      "We are about to generate a Non Residential building.\n",
      "Available building types: ['IWU Office, Administrative or Government Buildings', 'IWU Research and University Teaching', 'IWU Health and Care', 'IWU School, Day Nursery and other Care', 'IWU Culture and Leisure', 'IWU Sports Facilities', 'IWU Hotels, Boarding, Restaurants or Catering', 'IWU Production, Workshop, Warehouse or Operations', 'IWU Trade Buildings', 'IWU Technical and Utility (supply and disposal)', 'IWU Transport', 'IWU Generalized (1) Services building', 'IWU Generalized (2) Production buildings']\n",
      "Current usage: IWU Technical and Utility (supply and disposal)\n",
      "Creating building AB\n",
      "Creating building AB\n",
      "Creating building AB\n"
     ]
    },
    {
     "name": "stderr",
     "output_type": "stream",
     "text": [
      "c:\\Users\\felix\\Programmieren\\districtgenerator\\.venv\\Lib\\site-packages\\teaser\\logic\\buildingobjects\\useconditions.py:363: FutureWarning: 'H' is deprecated and will be removed in a future version, please use 'h' instead.\n",
      "  index=pd.date_range(\"2019-01-01 00:00:00\", periods=8760, freq=\"H\")\n",
      "c:\\Users\\felix\\Programmieren\\districtgenerator\\.venv\\Lib\\site-packages\\teaser\\logic\\buildingobjects\\useconditions.py:363: FutureWarning: 'H' is deprecated and will be removed in a future version, please use 'h' instead.\n",
      "  index=pd.date_range(\"2019-01-01 00:00:00\", periods=8760, freq=\"H\")\n",
      "c:\\Users\\felix\\Programmieren\\districtgenerator\\.venv\\Lib\\site-packages\\teaser\\logic\\buildingobjects\\useconditions.py:363: FutureWarning: 'H' is deprecated and will be removed in a future version, please use 'h' instead.\n",
      "  index=pd.date_range(\"2019-01-01 00:00:00\", periods=8760, freq=\"H\")\n"
     ]
    },
    {
     "name": "stdout",
     "output_type": "stream",
     "text": [
      "Creating building AB\n",
      "Creating building AB\n"
     ]
    },
    {
     "name": "stderr",
     "output_type": "stream",
     "text": [
      "c:\\Users\\felix\\Programmieren\\districtgenerator\\.venv\\Lib\\site-packages\\teaser\\logic\\buildingobjects\\useconditions.py:363: FutureWarning: 'H' is deprecated and will be removed in a future version, please use 'h' instead.\n",
      "  index=pd.date_range(\"2019-01-01 00:00:00\", periods=8760, freq=\"H\")\n",
      "c:\\Users\\felix\\Programmieren\\districtgenerator\\.venv\\Lib\\site-packages\\teaser\\logic\\buildingobjects\\useconditions.py:363: FutureWarning: 'H' is deprecated and will be removed in a future version, please use 'h' instead.\n",
      "  index=pd.date_range(\"2019-01-01 00:00:00\", periods=8760, freq=\"H\")\n"
     ]
    },
    {
     "name": "stdout",
     "output_type": "stream",
     "text": [
      "Creating building IWU School, Day Nursery and other Care\n",
      "We are about to generate a Non Residential building.\n",
      "Available building types: ['IWU Office, Administrative or Government Buildings', 'IWU Research and University Teaching', 'IWU Health and Care', 'IWU School, Day Nursery and other Care', 'IWU Culture and Leisure', 'IWU Sports Facilities', 'IWU Hotels, Boarding, Restaurants or Catering', 'IWU Production, Workshop, Warehouse or Operations', 'IWU Trade Buildings', 'IWU Technical and Utility (supply and disposal)', 'IWU Transport', 'IWU Generalized (1) Services building', 'IWU Generalized (2) Production buildings']\n",
      "Current usage: IWU School, Day Nursery and other Care\n",
      "Creating building AB\n"
     ]
    },
    {
     "name": "stderr",
     "output_type": "stream",
     "text": [
      "c:\\Users\\felix\\Programmieren\\districtgenerator\\.venv\\Lib\\site-packages\\teaser\\logic\\buildingobjects\\useconditions.py:363: FutureWarning: 'H' is deprecated and will be removed in a future version, please use 'h' instead.\n",
      "  index=pd.date_range(\"2019-01-01 00:00:00\", periods=8760, freq=\"H\")\n"
     ]
    },
    {
     "name": "stdout",
     "output_type": "stream",
     "text": [
      "Creating building AB\n"
     ]
    },
    {
     "name": "stderr",
     "output_type": "stream",
     "text": [
      "c:\\Users\\felix\\Programmieren\\districtgenerator\\.venv\\Lib\\site-packages\\teaser\\logic\\buildingobjects\\useconditions.py:363: FutureWarning: 'H' is deprecated and will be removed in a future version, please use 'h' instead.\n",
      "  index=pd.date_range(\"2019-01-01 00:00:00\", periods=8760, freq=\"H\")\n"
     ]
    },
    {
     "name": "stdout",
     "output_type": "stream",
     "text": [
      "Creating building MFH\n",
      "Creating building MFH\n",
      "Creating building MFH\n"
     ]
    },
    {
     "name": "stderr",
     "output_type": "stream",
     "text": [
      "c:\\Users\\felix\\Programmieren\\districtgenerator\\.venv\\Lib\\site-packages\\teaser\\logic\\buildingobjects\\useconditions.py:363: FutureWarning: 'H' is deprecated and will be removed in a future version, please use 'h' instead.\n",
      "  index=pd.date_range(\"2019-01-01 00:00:00\", periods=8760, freq=\"H\")\n",
      "c:\\Users\\felix\\Programmieren\\districtgenerator\\.venv\\Lib\\site-packages\\teaser\\logic\\buildingobjects\\useconditions.py:363: FutureWarning: 'H' is deprecated and will be removed in a future version, please use 'h' instead.\n",
      "  index=pd.date_range(\"2019-01-01 00:00:00\", periods=8760, freq=\"H\")\n",
      "c:\\Users\\felix\\Programmieren\\districtgenerator\\.venv\\Lib\\site-packages\\teaser\\logic\\buildingobjects\\useconditions.py:363: FutureWarning: 'H' is deprecated and will be removed in a future version, please use 'h' instead.\n",
      "  index=pd.date_range(\"2019-01-01 00:00:00\", periods=8760, freq=\"H\")\n"
     ]
    },
    {
     "name": "stdout",
     "output_type": "stream",
     "text": [
      "Creating building IWU Transport\n",
      "We are about to generate a Non Residential building.\n",
      "Available building types: ['IWU Office, Administrative or Government Buildings', 'IWU Research and University Teaching', 'IWU Health and Care', 'IWU School, Day Nursery and other Care', 'IWU Culture and Leisure', 'IWU Sports Facilities', 'IWU Hotels, Boarding, Restaurants or Catering', 'IWU Production, Workshop, Warehouse or Operations', 'IWU Trade Buildings', 'IWU Technical and Utility (supply and disposal)', 'IWU Transport', 'IWU Generalized (1) Services building', 'IWU Generalized (2) Production buildings']\n",
      "Current usage: IWU Transport\n",
      "Creating building TH\n",
      "Creating building AB\n",
      "Creating building MFH\n"
     ]
    },
    {
     "name": "stderr",
     "output_type": "stream",
     "text": [
      "c:\\Users\\felix\\Programmieren\\districtgenerator\\.venv\\Lib\\site-packages\\teaser\\logic\\buildingobjects\\useconditions.py:363: FutureWarning: 'H' is deprecated and will be removed in a future version, please use 'h' instead.\n",
      "  index=pd.date_range(\"2019-01-01 00:00:00\", periods=8760, freq=\"H\")\n",
      "c:\\Users\\felix\\Programmieren\\districtgenerator\\.venv\\Lib\\site-packages\\teaser\\logic\\buildingobjects\\useconditions.py:363: FutureWarning: 'H' is deprecated and will be removed in a future version, please use 'h' instead.\n",
      "  index=pd.date_range(\"2019-01-01 00:00:00\", periods=8760, freq=\"H\")\n",
      "c:\\Users\\felix\\Programmieren\\districtgenerator\\.venv\\Lib\\site-packages\\teaser\\logic\\buildingobjects\\useconditions.py:363: FutureWarning: 'H' is deprecated and will be removed in a future version, please use 'h' instead.\n",
      "  index=pd.date_range(\"2019-01-01 00:00:00\", periods=8760, freq=\"H\")\n"
     ]
    },
    {
     "name": "stdout",
     "output_type": "stream",
     "text": [
      "Creating building IWU Transport\n",
      "We are about to generate a Non Residential building.\n",
      "Available building types: ['IWU Office, Administrative or Government Buildings', 'IWU Research and University Teaching', 'IWU Health and Care', 'IWU School, Day Nursery and other Care', 'IWU Culture and Leisure', 'IWU Sports Facilities', 'IWU Hotels, Boarding, Restaurants or Catering', 'IWU Production, Workshop, Warehouse or Operations', 'IWU Trade Buildings', 'IWU Technical and Utility (supply and disposal)', 'IWU Transport', 'IWU Generalized (1) Services building', 'IWU Generalized (2) Production buildings']\n",
      "Current usage: IWU Transport\n",
      "Creating building MFH\n",
      "Creating building MFH\n"
     ]
    },
    {
     "name": "stderr",
     "output_type": "stream",
     "text": [
      "c:\\Users\\felix\\Programmieren\\districtgenerator\\.venv\\Lib\\site-packages\\teaser\\logic\\buildingobjects\\useconditions.py:363: FutureWarning: 'H' is deprecated and will be removed in a future version, please use 'h' instead.\n",
      "  index=pd.date_range(\"2019-01-01 00:00:00\", periods=8760, freq=\"H\")\n",
      "c:\\Users\\felix\\Programmieren\\districtgenerator\\.venv\\Lib\\site-packages\\teaser\\logic\\buildingobjects\\useconditions.py:363: FutureWarning: 'H' is deprecated and will be removed in a future version, please use 'h' instead.\n",
      "  index=pd.date_range(\"2019-01-01 00:00:00\", periods=8760, freq=\"H\")\n"
     ]
    },
    {
     "name": "stdout",
     "output_type": "stream",
     "text": [
      "Creating building IWU Office, Administrative or Government Buildings\n",
      "We are about to generate a Non Residential building.\n",
      "Available building types: ['IWU Office, Administrative or Government Buildings', 'IWU Research and University Teaching', 'IWU Health and Care', 'IWU School, Day Nursery and other Care', 'IWU Culture and Leisure', 'IWU Sports Facilities', 'IWU Hotels, Boarding, Restaurants or Catering', 'IWU Production, Workshop, Warehouse or Operations', 'IWU Trade Buildings', 'IWU Technical and Utility (supply and disposal)', 'IWU Transport', 'IWU Generalized (1) Services building', 'IWU Generalized (2) Production buildings']\n",
      "Current usage: IWU Office, Administrative or Government Buildings\n",
      "Creating building IWU Production, Workshop, Warehouse or Operations\n",
      "We are about to generate a Non Residential building.\n",
      "Available building types: ['IWU Office, Administrative or Government Buildings', 'IWU Research and University Teaching', 'IWU Health and Care', 'IWU School, Day Nursery and other Care', 'IWU Culture and Leisure', 'IWU Sports Facilities', 'IWU Hotels, Boarding, Restaurants or Catering', 'IWU Production, Workshop, Warehouse or Operations', 'IWU Trade Buildings', 'IWU Technical and Utility (supply and disposal)', 'IWU Transport', 'IWU Generalized (1) Services building', 'IWU Generalized (2) Production buildings']\n",
      "Current usage: IWU Production, Workshop, Warehouse or Operations\n",
      "No data about lighntning control available for IWU Production, Workshop, Warehouse or Operations and data type Technical and Utility Buildings (supply and disposal)Gewerbliche und industrielle Hallen (mittelschwere Arbeit, überw. stehende Tätigkeit)\n",
      "Creating building MFH\n",
      "Creating building AB\n"
     ]
    },
    {
     "name": "stderr",
     "output_type": "stream",
     "text": [
      "c:\\Users\\felix\\Programmieren\\districtgenerator\\.venv\\Lib\\site-packages\\teaser\\logic\\buildingobjects\\useconditions.py:363: FutureWarning: 'H' is deprecated and will be removed in a future version, please use 'h' instead.\n",
      "  index=pd.date_range(\"2019-01-01 00:00:00\", periods=8760, freq=\"H\")\n",
      "c:\\Users\\felix\\Programmieren\\districtgenerator\\.venv\\Lib\\site-packages\\teaser\\logic\\buildingobjects\\useconditions.py:363: FutureWarning: 'H' is deprecated and will be removed in a future version, please use 'h' instead.\n",
      "  index=pd.date_range(\"2019-01-01 00:00:00\", periods=8760, freq=\"H\")\n",
      "c:\\Users\\felix\\Programmieren\\districtgenerator\\.venv\\Lib\\site-packages\\teaser\\logic\\buildingobjects\\useconditions.py:363: FutureWarning: 'H' is deprecated and will be removed in a future version, please use 'h' instead.\n",
      "  index=pd.date_range(\"2019-01-01 00:00:00\", periods=8760, freq=\"H\")\n"
     ]
    },
    {
     "name": "stdout",
     "output_type": "stream",
     "text": [
      "Creating building AB\n",
      "Creating building MFH\n",
      "Creating building MFH\n"
     ]
    },
    {
     "name": "stderr",
     "output_type": "stream",
     "text": [
      "c:\\Users\\felix\\Programmieren\\districtgenerator\\.venv\\Lib\\site-packages\\teaser\\logic\\buildingobjects\\useconditions.py:363: FutureWarning: 'H' is deprecated and will be removed in a future version, please use 'h' instead.\n",
      "  index=pd.date_range(\"2019-01-01 00:00:00\", periods=8760, freq=\"H\")\n",
      "c:\\Users\\felix\\Programmieren\\districtgenerator\\.venv\\Lib\\site-packages\\teaser\\logic\\buildingobjects\\useconditions.py:363: FutureWarning: 'H' is deprecated and will be removed in a future version, please use 'h' instead.\n",
      "  index=pd.date_range(\"2019-01-01 00:00:00\", periods=8760, freq=\"H\")\n",
      "c:\\Users\\felix\\Programmieren\\districtgenerator\\.venv\\Lib\\site-packages\\teaser\\logic\\buildingobjects\\useconditions.py:363: FutureWarning: 'H' is deprecated and will be removed in a future version, please use 'h' instead.\n",
      "  index=pd.date_range(\"2019-01-01 00:00:00\", periods=8760, freq=\"H\")\n"
     ]
    },
    {
     "name": "stdout",
     "output_type": "stream",
     "text": [
      "Creating building MFH\n",
      "Creating building AB\n"
     ]
    },
    {
     "name": "stderr",
     "output_type": "stream",
     "text": [
      "c:\\Users\\felix\\Programmieren\\districtgenerator\\.venv\\Lib\\site-packages\\teaser\\logic\\buildingobjects\\useconditions.py:363: FutureWarning: 'H' is deprecated and will be removed in a future version, please use 'h' instead.\n",
      "  index=pd.date_range(\"2019-01-01 00:00:00\", periods=8760, freq=\"H\")\n",
      "c:\\Users\\felix\\Programmieren\\districtgenerator\\.venv\\Lib\\site-packages\\teaser\\logic\\buildingobjects\\useconditions.py:363: FutureWarning: 'H' is deprecated and will be removed in a future version, please use 'h' instead.\n",
      "  index=pd.date_range(\"2019-01-01 00:00:00\", periods=8760, freq=\"H\")\n"
     ]
    },
    {
     "name": "stdout",
     "output_type": "stream",
     "text": [
      "Creating building AB\n",
      "Creating building MFH\n",
      "Creating building IWU Production, Workshop, Warehouse or Operations\n",
      "We are about to generate a Non Residential building.\n",
      "Available building types: ['IWU Office, Administrative or Government Buildings', 'IWU Research and University Teaching', 'IWU Health and Care', 'IWU School, Day Nursery and other Care', 'IWU Culture and Leisure', 'IWU Sports Facilities', 'IWU Hotels, Boarding, Restaurants or Catering', 'IWU Production, Workshop, Warehouse or Operations', 'IWU Trade Buildings', 'IWU Technical and Utility (supply and disposal)', 'IWU Transport', 'IWU Generalized (1) Services building', 'IWU Generalized (2) Production buildings']\n",
      "Current usage: IWU Production, Workshop, Warehouse or Operations\n",
      "No data about lighntning control available for IWU Production, Workshop, Warehouse or Operations and data type Technical and Utility Buildings (supply and disposal)Gewerbliche und industrielle Hallen (mittelschwere Arbeit, überw. stehende Tätigkeit)\n",
      "Creating building MFH\n"
     ]
    },
    {
     "name": "stderr",
     "output_type": "stream",
     "text": [
      "c:\\Users\\felix\\Programmieren\\districtgenerator\\.venv\\Lib\\site-packages\\teaser\\logic\\buildingobjects\\useconditions.py:363: FutureWarning: 'H' is deprecated and will be removed in a future version, please use 'h' instead.\n",
      "  index=pd.date_range(\"2019-01-01 00:00:00\", periods=8760, freq=\"H\")\n",
      "c:\\Users\\felix\\Programmieren\\districtgenerator\\.venv\\Lib\\site-packages\\teaser\\logic\\buildingobjects\\useconditions.py:363: FutureWarning: 'H' is deprecated and will be removed in a future version, please use 'h' instead.\n",
      "  index=pd.date_range(\"2019-01-01 00:00:00\", periods=8760, freq=\"H\")\n"
     ]
    },
    {
     "name": "stdout",
     "output_type": "stream",
     "text": [
      "Creating building AB\n",
      "Creating building IWU Production, Workshop, Warehouse or Operations\n",
      "We are about to generate a Non Residential building.\n",
      "Available building types: ['IWU Office, Administrative or Government Buildings', 'IWU Research and University Teaching', 'IWU Health and Care', 'IWU School, Day Nursery and other Care', 'IWU Culture and Leisure', 'IWU Sports Facilities', 'IWU Hotels, Boarding, Restaurants or Catering', 'IWU Production, Workshop, Warehouse or Operations', 'IWU Trade Buildings', 'IWU Technical and Utility (supply and disposal)', 'IWU Transport', 'IWU Generalized (1) Services building', 'IWU Generalized (2) Production buildings']\n",
      "Current usage: IWU Production, Workshop, Warehouse or Operations\n",
      "No data about lighntning control available for IWU Production, Workshop, Warehouse or Operations and data type Technical and Utility Buildings (supply and disposal)Gewerbliche und industrielle Hallen (mittelschwere Arbeit, überw. stehende Tätigkeit)\n",
      "Creating building MFH\n",
      "Creating building MFH\n",
      "Creating building MFH\n"
     ]
    },
    {
     "name": "stderr",
     "output_type": "stream",
     "text": [
      "c:\\Users\\felix\\Programmieren\\districtgenerator\\.venv\\Lib\\site-packages\\teaser\\logic\\buildingobjects\\useconditions.py:363: FutureWarning: 'H' is deprecated and will be removed in a future version, please use 'h' instead.\n",
      "  index=pd.date_range(\"2019-01-01 00:00:00\", periods=8760, freq=\"H\")\n",
      "c:\\Users\\felix\\Programmieren\\districtgenerator\\.venv\\Lib\\site-packages\\teaser\\logic\\buildingobjects\\useconditions.py:363: FutureWarning: 'H' is deprecated and will be removed in a future version, please use 'h' instead.\n",
      "  index=pd.date_range(\"2019-01-01 00:00:00\", periods=8760, freq=\"H\")\n",
      "c:\\Users\\felix\\Programmieren\\districtgenerator\\.venv\\Lib\\site-packages\\teaser\\logic\\buildingobjects\\useconditions.py:363: FutureWarning: 'H' is deprecated and will be removed in a future version, please use 'h' instead.\n",
      "  index=pd.date_range(\"2019-01-01 00:00:00\", periods=8760, freq=\"H\")\n",
      "c:\\Users\\felix\\Programmieren\\districtgenerator\\.venv\\Lib\\site-packages\\teaser\\logic\\buildingobjects\\useconditions.py:363: FutureWarning: 'H' is deprecated and will be removed in a future version, please use 'h' instead.\n",
      "  index=pd.date_range(\"2019-01-01 00:00:00\", periods=8760, freq=\"H\")\n"
     ]
    },
    {
     "name": "stdout",
     "output_type": "stream",
     "text": [
      "Creating building MFH\n",
      "Creating building MFH\n",
      "Creating building MFH\n",
      "Creating building MFH\n"
     ]
    },
    {
     "name": "stderr",
     "output_type": "stream",
     "text": [
      "c:\\Users\\felix\\Programmieren\\districtgenerator\\.venv\\Lib\\site-packages\\teaser\\logic\\buildingobjects\\useconditions.py:363: FutureWarning: 'H' is deprecated and will be removed in a future version, please use 'h' instead.\n",
      "  index=pd.date_range(\"2019-01-01 00:00:00\", periods=8760, freq=\"H\")\n",
      "c:\\Users\\felix\\Programmieren\\districtgenerator\\.venv\\Lib\\site-packages\\teaser\\logic\\buildingobjects\\useconditions.py:363: FutureWarning: 'H' is deprecated and will be removed in a future version, please use 'h' instead.\n",
      "  index=pd.date_range(\"2019-01-01 00:00:00\", periods=8760, freq=\"H\")\n",
      "c:\\Users\\felix\\Programmieren\\districtgenerator\\.venv\\Lib\\site-packages\\teaser\\logic\\buildingobjects\\useconditions.py:363: FutureWarning: 'H' is deprecated and will be removed in a future version, please use 'h' instead.\n",
      "  index=pd.date_range(\"2019-01-01 00:00:00\", periods=8760, freq=\"H\")\n",
      "c:\\Users\\felix\\Programmieren\\districtgenerator\\.venv\\Lib\\site-packages\\teaser\\logic\\buildingobjects\\useconditions.py:363: FutureWarning: 'H' is deprecated and will be removed in a future version, please use 'h' instead.\n",
      "  index=pd.date_range(\"2019-01-01 00:00:00\", periods=8760, freq=\"H\")\n"
     ]
    },
    {
     "name": "stdout",
     "output_type": "stream",
     "text": [
      "Creating building IWU Transport\n",
      "We are about to generate a Non Residential building.\n",
      "Available building types: ['IWU Office, Administrative or Government Buildings', 'IWU Research and University Teaching', 'IWU Health and Care', 'IWU School, Day Nursery and other Care', 'IWU Culture and Leisure', 'IWU Sports Facilities', 'IWU Hotels, Boarding, Restaurants or Catering', 'IWU Production, Workshop, Warehouse or Operations', 'IWU Trade Buildings', 'IWU Technical and Utility (supply and disposal)', 'IWU Transport', 'IWU Generalized (1) Services building', 'IWU Generalized (2) Production buildings']\n",
      "Current usage: IWU Transport\n",
      "Creating building MFH\n",
      "Creating building AB\n",
      "Creating building AB\n"
     ]
    },
    {
     "name": "stderr",
     "output_type": "stream",
     "text": [
      "c:\\Users\\felix\\Programmieren\\districtgenerator\\.venv\\Lib\\site-packages\\teaser\\logic\\buildingobjects\\useconditions.py:363: FutureWarning: 'H' is deprecated and will be removed in a future version, please use 'h' instead.\n",
      "  index=pd.date_range(\"2019-01-01 00:00:00\", periods=8760, freq=\"H\")\n",
      "c:\\Users\\felix\\Programmieren\\districtgenerator\\.venv\\Lib\\site-packages\\teaser\\logic\\buildingobjects\\useconditions.py:363: FutureWarning: 'H' is deprecated and will be removed in a future version, please use 'h' instead.\n",
      "  index=pd.date_range(\"2019-01-01 00:00:00\", periods=8760, freq=\"H\")\n",
      "c:\\Users\\felix\\Programmieren\\districtgenerator\\.venv\\Lib\\site-packages\\teaser\\logic\\buildingobjects\\useconditions.py:363: FutureWarning: 'H' is deprecated and will be removed in a future version, please use 'h' instead.\n",
      "  index=pd.date_range(\"2019-01-01 00:00:00\", periods=8760, freq=\"H\")\n"
     ]
    },
    {
     "name": "stdout",
     "output_type": "stream",
     "text": [
      "Creating building MFH\n",
      "Creating building IWU Transport\n",
      "We are about to generate a Non Residential building.\n",
      "Available building types: ['IWU Office, Administrative or Government Buildings', 'IWU Research and University Teaching', 'IWU Health and Care', 'IWU School, Day Nursery and other Care', 'IWU Culture and Leisure', 'IWU Sports Facilities', 'IWU Hotels, Boarding, Restaurants or Catering', 'IWU Production, Workshop, Warehouse or Operations', 'IWU Trade Buildings', 'IWU Technical and Utility (supply and disposal)', 'IWU Transport', 'IWU Generalized (1) Services building', 'IWU Generalized (2) Production buildings']\n",
      "Current usage: IWU Transport\n",
      "Creating building AB\n"
     ]
    },
    {
     "name": "stderr",
     "output_type": "stream",
     "text": [
      "c:\\Users\\felix\\Programmieren\\districtgenerator\\.venv\\Lib\\site-packages\\teaser\\logic\\buildingobjects\\useconditions.py:363: FutureWarning: 'H' is deprecated and will be removed in a future version, please use 'h' instead.\n",
      "  index=pd.date_range(\"2019-01-01 00:00:00\", periods=8760, freq=\"H\")\n",
      "c:\\Users\\felix\\Programmieren\\districtgenerator\\.venv\\Lib\\site-packages\\teaser\\logic\\buildingobjects\\useconditions.py:363: FutureWarning: 'H' is deprecated and will be removed in a future version, please use 'h' instead.\n",
      "  index=pd.date_range(\"2019-01-01 00:00:00\", periods=8760, freq=\"H\")\n"
     ]
    },
    {
     "name": "stdout",
     "output_type": "stream",
     "text": [
      "Creating building AB\n",
      "Creating building AB\n",
      "Creating building MFH\n"
     ]
    },
    {
     "name": "stderr",
     "output_type": "stream",
     "text": [
      "c:\\Users\\felix\\Programmieren\\districtgenerator\\.venv\\Lib\\site-packages\\teaser\\logic\\buildingobjects\\useconditions.py:363: FutureWarning: 'H' is deprecated and will be removed in a future version, please use 'h' instead.\n",
      "  index=pd.date_range(\"2019-01-01 00:00:00\", periods=8760, freq=\"H\")\n",
      "c:\\Users\\felix\\Programmieren\\districtgenerator\\.venv\\Lib\\site-packages\\teaser\\logic\\buildingobjects\\useconditions.py:363: FutureWarning: 'H' is deprecated and will be removed in a future version, please use 'h' instead.\n",
      "  index=pd.date_range(\"2019-01-01 00:00:00\", periods=8760, freq=\"H\")\n",
      "c:\\Users\\felix\\Programmieren\\districtgenerator\\.venv\\Lib\\site-packages\\teaser\\logic\\buildingobjects\\useconditions.py:363: FutureWarning: 'H' is deprecated and will be removed in a future version, please use 'h' instead.\n",
      "  index=pd.date_range(\"2019-01-01 00:00:00\", periods=8760, freq=\"H\")\n"
     ]
    },
    {
     "name": "stdout",
     "output_type": "stream",
     "text": [
      "Creating building AB\n",
      "Creating building AB\n"
     ]
    },
    {
     "name": "stderr",
     "output_type": "stream",
     "text": [
      "c:\\Users\\felix\\Programmieren\\districtgenerator\\.venv\\Lib\\site-packages\\teaser\\logic\\buildingobjects\\useconditions.py:363: FutureWarning: 'H' is deprecated and will be removed in a future version, please use 'h' instead.\n",
      "  index=pd.date_range(\"2019-01-01 00:00:00\", periods=8760, freq=\"H\")\n",
      "c:\\Users\\felix\\Programmieren\\districtgenerator\\.venv\\Lib\\site-packages\\teaser\\logic\\buildingobjects\\useconditions.py:363: FutureWarning: 'H' is deprecated and will be removed in a future version, please use 'h' instead.\n",
      "  index=pd.date_range(\"2019-01-01 00:00:00\", periods=8760, freq=\"H\")\n"
     ]
    },
    {
     "name": "stdout",
     "output_type": "stream",
     "text": [
      "Creating building MFH\n",
      "Creating building AB\n"
     ]
    },
    {
     "name": "stderr",
     "output_type": "stream",
     "text": [
      "c:\\Users\\felix\\Programmieren\\districtgenerator\\.venv\\Lib\\site-packages\\teaser\\logic\\buildingobjects\\useconditions.py:363: FutureWarning: 'H' is deprecated and will be removed in a future version, please use 'h' instead.\n",
      "  index=pd.date_range(\"2019-01-01 00:00:00\", periods=8760, freq=\"H\")\n",
      "c:\\Users\\felix\\Programmieren\\districtgenerator\\.venv\\Lib\\site-packages\\teaser\\logic\\buildingobjects\\useconditions.py:363: FutureWarning: 'H' is deprecated and will be removed in a future version, please use 'h' instead.\n",
      "  index=pd.date_range(\"2019-01-01 00:00:00\", periods=8760, freq=\"H\")\n"
     ]
    },
    {
     "name": "stdout",
     "output_type": "stream",
     "text": [
      "Creating building AB\n",
      "Creating building MFH\n",
      "Creating building IWU Production, Workshop, Warehouse or Operations\n",
      "We are about to generate a Non Residential building.\n",
      "Available building types: ['IWU Office, Administrative or Government Buildings', 'IWU Research and University Teaching', 'IWU Health and Care', 'IWU School, Day Nursery and other Care', 'IWU Culture and Leisure', 'IWU Sports Facilities', 'IWU Hotels, Boarding, Restaurants or Catering', 'IWU Production, Workshop, Warehouse or Operations', 'IWU Trade Buildings', 'IWU Technical and Utility (supply and disposal)', 'IWU Transport', 'IWU Generalized (1) Services building', 'IWU Generalized (2) Production buildings']\n",
      "Current usage: IWU Production, Workshop, Warehouse or Operations\n",
      "No data about lighntning control available for IWU Production, Workshop, Warehouse or Operations and data type Technical and Utility Buildings (supply and disposal)Gewerbliche und industrielle Hallen (mittelschwere Arbeit, überw. stehende Tätigkeit)\n",
      "Creating building MFH\n"
     ]
    },
    {
     "name": "stderr",
     "output_type": "stream",
     "text": [
      "c:\\Users\\felix\\Programmieren\\districtgenerator\\.venv\\Lib\\site-packages\\teaser\\logic\\buildingobjects\\useconditions.py:363: FutureWarning: 'H' is deprecated and will be removed in a future version, please use 'h' instead.\n",
      "  index=pd.date_range(\"2019-01-01 00:00:00\", periods=8760, freq=\"H\")\n",
      "c:\\Users\\felix\\Programmieren\\districtgenerator\\.venv\\Lib\\site-packages\\teaser\\logic\\buildingobjects\\useconditions.py:363: FutureWarning: 'H' is deprecated and will be removed in a future version, please use 'h' instead.\n",
      "  index=pd.date_range(\"2019-01-01 00:00:00\", periods=8760, freq=\"H\")\n",
      "c:\\Users\\felix\\Programmieren\\districtgenerator\\.venv\\Lib\\site-packages\\teaser\\logic\\buildingobjects\\useconditions.py:363: FutureWarning: 'H' is deprecated and will be removed in a future version, please use 'h' instead.\n",
      "  index=pd.date_range(\"2019-01-01 00:00:00\", periods=8760, freq=\"H\")\n"
     ]
    },
    {
     "name": "stdout",
     "output_type": "stream",
     "text": [
      "Creating building IWU Technical and Utility (supply and disposal)\n",
      "We are about to generate a Non Residential building.\n",
      "Available building types: ['IWU Office, Administrative or Government Buildings', 'IWU Research and University Teaching', 'IWU Health and Care', 'IWU School, Day Nursery and other Care', 'IWU Culture and Leisure', 'IWU Sports Facilities', 'IWU Hotels, Boarding, Restaurants or Catering', 'IWU Production, Workshop, Warehouse or Operations', 'IWU Trade Buildings', 'IWU Technical and Utility (supply and disposal)', 'IWU Transport', 'IWU Generalized (1) Services building', 'IWU Generalized (2) Production buildings']\n",
      "Current usage: IWU Technical and Utility (supply and disposal)\n",
      "Creating building MFH\n",
      "Creating building MFH\n",
      "Creating building MFH\n",
      "Creating building IWU Production, Workshop, Warehouse or Operations\n",
      "We are about to generate a Non Residential building.\n",
      "Available building types: ['IWU Office, Administrative or Government Buildings', 'IWU Research and University Teaching', 'IWU Health and Care', 'IWU School, Day Nursery and other Care', 'IWU Culture and Leisure', 'IWU Sports Facilities', 'IWU Hotels, Boarding, Restaurants or Catering', 'IWU Production, Workshop, Warehouse or Operations', 'IWU Trade Buildings', 'IWU Technical and Utility (supply and disposal)', 'IWU Transport', 'IWU Generalized (1) Services building', 'IWU Generalized (2) Production buildings']\n",
      "Current usage: IWU Production, Workshop, Warehouse or Operations\n"
     ]
    },
    {
     "name": "stderr",
     "output_type": "stream",
     "text": [
      "c:\\Users\\felix\\Programmieren\\districtgenerator\\.venv\\Lib\\site-packages\\teaser\\logic\\buildingobjects\\useconditions.py:363: FutureWarning: 'H' is deprecated and will be removed in a future version, please use 'h' instead.\n",
      "  index=pd.date_range(\"2019-01-01 00:00:00\", periods=8760, freq=\"H\")\n",
      "c:\\Users\\felix\\Programmieren\\districtgenerator\\.venv\\Lib\\site-packages\\teaser\\logic\\buildingobjects\\useconditions.py:363: FutureWarning: 'H' is deprecated and will be removed in a future version, please use 'h' instead.\n",
      "  index=pd.date_range(\"2019-01-01 00:00:00\", periods=8760, freq=\"H\")\n",
      "c:\\Users\\felix\\Programmieren\\districtgenerator\\.venv\\Lib\\site-packages\\teaser\\logic\\buildingobjects\\useconditions.py:363: FutureWarning: 'H' is deprecated and will be removed in a future version, please use 'h' instead.\n",
      "  index=pd.date_range(\"2019-01-01 00:00:00\", periods=8760, freq=\"H\")\n"
     ]
    },
    {
     "name": "stdout",
     "output_type": "stream",
     "text": [
      "No data about lighntning control available for IWU Production, Workshop, Warehouse or Operations and data type Technical and Utility Buildings (supply and disposal)Gewerbliche und industrielle Hallen (mittelschwere Arbeit, überw. stehende Tätigkeit)\n",
      "Creating building IWU Production, Workshop, Warehouse or Operations\n",
      "We are about to generate a Non Residential building.\n",
      "Available building types: ['IWU Office, Administrative or Government Buildings', 'IWU Research and University Teaching', 'IWU Health and Care', 'IWU School, Day Nursery and other Care', 'IWU Culture and Leisure', 'IWU Sports Facilities', 'IWU Hotels, Boarding, Restaurants or Catering', 'IWU Production, Workshop, Warehouse or Operations', 'IWU Trade Buildings', 'IWU Technical and Utility (supply and disposal)', 'IWU Transport', 'IWU Generalized (1) Services building', 'IWU Generalized (2) Production buildings']\n",
      "Current usage: IWU Production, Workshop, Warehouse or Operations\n",
      "No data about lighntning control available for IWU Production, Workshop, Warehouse or Operations and data type Technical and Utility Buildings (supply and disposal)Gewerbliche und industrielle Hallen (mittelschwere Arbeit, überw. stehende Tätigkeit)\n",
      "Creating building MFH\n",
      "Creating building MFH\n"
     ]
    },
    {
     "name": "stderr",
     "output_type": "stream",
     "text": [
      "c:\\Users\\felix\\Programmieren\\districtgenerator\\.venv\\Lib\\site-packages\\teaser\\logic\\buildingobjects\\useconditions.py:363: FutureWarning: 'H' is deprecated and will be removed in a future version, please use 'h' instead.\n",
      "  index=pd.date_range(\"2019-01-01 00:00:00\", periods=8760, freq=\"H\")\n",
      "c:\\Users\\felix\\Programmieren\\districtgenerator\\.venv\\Lib\\site-packages\\teaser\\logic\\buildingobjects\\useconditions.py:363: FutureWarning: 'H' is deprecated and will be removed in a future version, please use 'h' instead.\n",
      "  index=pd.date_range(\"2019-01-01 00:00:00\", periods=8760, freq=\"H\")\n"
     ]
    },
    {
     "name": "stdout",
     "output_type": "stream",
     "text": [
      "Creating building AB\n",
      "Creating building IWU Transport\n",
      "We are about to generate a Non Residential building.\n",
      "Available building types: ['IWU Office, Administrative or Government Buildings', 'IWU Research and University Teaching', 'IWU Health and Care', 'IWU School, Day Nursery and other Care', 'IWU Culture and Leisure', 'IWU Sports Facilities', 'IWU Hotels, Boarding, Restaurants or Catering', 'IWU Production, Workshop, Warehouse or Operations', 'IWU Trade Buildings', 'IWU Technical and Utility (supply and disposal)', 'IWU Transport', 'IWU Generalized (1) Services building', 'IWU Generalized (2) Production buildings']\n",
      "Current usage: IWU Transport\n",
      "Creating building IWU Production, Workshop, Warehouse or Operations\n",
      "We are about to generate a Non Residential building.\n",
      "Available building types: ['IWU Office, Administrative or Government Buildings', 'IWU Research and University Teaching', 'IWU Health and Care', 'IWU School, Day Nursery and other Care', 'IWU Culture and Leisure', 'IWU Sports Facilities', 'IWU Hotels, Boarding, Restaurants or Catering', 'IWU Production, Workshop, Warehouse or Operations', 'IWU Trade Buildings', 'IWU Technical and Utility (supply and disposal)', 'IWU Transport', 'IWU Generalized (1) Services building', 'IWU Generalized (2) Production buildings']\n",
      "Current usage: IWU Production, Workshop, Warehouse or Operations\n",
      "No data about lighntning control available for IWU Production, Workshop, Warehouse or Operations and data type Technical and Utility Buildings (supply and disposal)Gewerbliche und industrielle Hallen (mittelschwere Arbeit, überw. stehende Tätigkeit)\n",
      "Creating building MFH\n",
      "Creating building MFH\n",
      "Creating building MFH\n"
     ]
    },
    {
     "name": "stderr",
     "output_type": "stream",
     "text": [
      "c:\\Users\\felix\\Programmieren\\districtgenerator\\.venv\\Lib\\site-packages\\teaser\\logic\\buildingobjects\\useconditions.py:363: FutureWarning: 'H' is deprecated and will be removed in a future version, please use 'h' instead.\n",
      "  index=pd.date_range(\"2019-01-01 00:00:00\", periods=8760, freq=\"H\")\n",
      "c:\\Users\\felix\\Programmieren\\districtgenerator\\.venv\\Lib\\site-packages\\teaser\\logic\\buildingobjects\\useconditions.py:363: FutureWarning: 'H' is deprecated and will be removed in a future version, please use 'h' instead.\n",
      "  index=pd.date_range(\"2019-01-01 00:00:00\", periods=8760, freq=\"H\")\n",
      "c:\\Users\\felix\\Programmieren\\districtgenerator\\.venv\\Lib\\site-packages\\teaser\\logic\\buildingobjects\\useconditions.py:363: FutureWarning: 'H' is deprecated and will be removed in a future version, please use 'h' instead.\n",
      "  index=pd.date_range(\"2019-01-01 00:00:00\", periods=8760, freq=\"H\")\n",
      "c:\\Users\\felix\\Programmieren\\districtgenerator\\.venv\\Lib\\site-packages\\teaser\\logic\\buildingobjects\\useconditions.py:363: FutureWarning: 'H' is deprecated and will be removed in a future version, please use 'h' instead.\n",
      "  index=pd.date_range(\"2019-01-01 00:00:00\", periods=8760, freq=\"H\")\n"
     ]
    },
    {
     "name": "stdout",
     "output_type": "stream",
     "text": [
      "Creating building MFH\n",
      "Creating building IWU Production, Workshop, Warehouse or Operations\n",
      "We are about to generate a Non Residential building.\n",
      "Available building types: ['IWU Office, Administrative or Government Buildings', 'IWU Research and University Teaching', 'IWU Health and Care', 'IWU School, Day Nursery and other Care', 'IWU Culture and Leisure', 'IWU Sports Facilities', 'IWU Hotels, Boarding, Restaurants or Catering', 'IWU Production, Workshop, Warehouse or Operations', 'IWU Trade Buildings', 'IWU Technical and Utility (supply and disposal)', 'IWU Transport', 'IWU Generalized (1) Services building', 'IWU Generalized (2) Production buildings']\n",
      "Current usage: IWU Production, Workshop, Warehouse or Operations\n",
      "No data about lighntning control available for IWU Production, Workshop, Warehouse or Operations and data type Technical and Utility Buildings (supply and disposal)Gewerbliche und industrielle Hallen (mittelschwere Arbeit, überw. stehende Tätigkeit)\n",
      "Creating building MFH\n",
      "Creating building MFH\n"
     ]
    },
    {
     "name": "stderr",
     "output_type": "stream",
     "text": [
      "c:\\Users\\felix\\Programmieren\\districtgenerator\\.venv\\Lib\\site-packages\\teaser\\logic\\buildingobjects\\useconditions.py:363: FutureWarning: 'H' is deprecated and will be removed in a future version, please use 'h' instead.\n",
      "  index=pd.date_range(\"2019-01-01 00:00:00\", periods=8760, freq=\"H\")\n",
      "c:\\Users\\felix\\Programmieren\\districtgenerator\\.venv\\Lib\\site-packages\\teaser\\logic\\buildingobjects\\useconditions.py:363: FutureWarning: 'H' is deprecated and will be removed in a future version, please use 'h' instead.\n",
      "  index=pd.date_range(\"2019-01-01 00:00:00\", periods=8760, freq=\"H\")\n",
      "c:\\Users\\felix\\Programmieren\\districtgenerator\\.venv\\Lib\\site-packages\\teaser\\logic\\buildingobjects\\useconditions.py:363: FutureWarning: 'H' is deprecated and will be removed in a future version, please use 'h' instead.\n",
      "  index=pd.date_range(\"2019-01-01 00:00:00\", periods=8760, freq=\"H\")\n"
     ]
    },
    {
     "name": "stdout",
     "output_type": "stream",
     "text": [
      "Creating building AB\n",
      "Creating building AB\n",
      "Creating building MFH\n"
     ]
    },
    {
     "name": "stderr",
     "output_type": "stream",
     "text": [
      "c:\\Users\\felix\\Programmieren\\districtgenerator\\.venv\\Lib\\site-packages\\teaser\\logic\\buildingobjects\\useconditions.py:363: FutureWarning: 'H' is deprecated and will be removed in a future version, please use 'h' instead.\n",
      "  index=pd.date_range(\"2019-01-01 00:00:00\", periods=8760, freq=\"H\")\n",
      "c:\\Users\\felix\\Programmieren\\districtgenerator\\.venv\\Lib\\site-packages\\teaser\\logic\\buildingobjects\\useconditions.py:363: FutureWarning: 'H' is deprecated and will be removed in a future version, please use 'h' instead.\n",
      "  index=pd.date_range(\"2019-01-01 00:00:00\", periods=8760, freq=\"H\")\n",
      "c:\\Users\\felix\\Programmieren\\districtgenerator\\.venv\\Lib\\site-packages\\teaser\\logic\\buildingobjects\\useconditions.py:363: FutureWarning: 'H' is deprecated and will be removed in a future version, please use 'h' instead.\n",
      "  index=pd.date_range(\"2019-01-01 00:00:00\", periods=8760, freq=\"H\")\n"
     ]
    },
    {
     "name": "stdout",
     "output_type": "stream",
     "text": [
      "Creating building MFH\n",
      "Creating building MFH\n",
      "Creating building IWU Production, Workshop, Warehouse or Operations\n",
      "We are about to generate a Non Residential building.\n",
      "Available building types: ['IWU Office, Administrative or Government Buildings', 'IWU Research and University Teaching', 'IWU Health and Care', 'IWU School, Day Nursery and other Care', 'IWU Culture and Leisure', 'IWU Sports Facilities', 'IWU Hotels, Boarding, Restaurants or Catering', 'IWU Production, Workshop, Warehouse or Operations', 'IWU Trade Buildings', 'IWU Technical and Utility (supply and disposal)', 'IWU Transport', 'IWU Generalized (1) Services building', 'IWU Generalized (2) Production buildings']\n",
      "Current usage: IWU Production, Workshop, Warehouse or Operations\n",
      "No data about lighntning control available for IWU Production, Workshop, Warehouse or Operations and data type Technical and Utility Buildings (supply and disposal)Gewerbliche und industrielle Hallen (mittelschwere Arbeit, überw. stehende Tätigkeit)\n",
      "Creating building AB\n"
     ]
    },
    {
     "name": "stderr",
     "output_type": "stream",
     "text": [
      "c:\\Users\\felix\\Programmieren\\districtgenerator\\.venv\\Lib\\site-packages\\teaser\\logic\\buildingobjects\\useconditions.py:363: FutureWarning: 'H' is deprecated and will be removed in a future version, please use 'h' instead.\n",
      "  index=pd.date_range(\"2019-01-01 00:00:00\", periods=8760, freq=\"H\")\n",
      "c:\\Users\\felix\\Programmieren\\districtgenerator\\.venv\\Lib\\site-packages\\teaser\\logic\\buildingobjects\\useconditions.py:363: FutureWarning: 'H' is deprecated and will be removed in a future version, please use 'h' instead.\n",
      "  index=pd.date_range(\"2019-01-01 00:00:00\", periods=8760, freq=\"H\")\n",
      "c:\\Users\\felix\\Programmieren\\districtgenerator\\.venv\\Lib\\site-packages\\teaser\\logic\\buildingobjects\\useconditions.py:363: FutureWarning: 'H' is deprecated and will be removed in a future version, please use 'h' instead.\n",
      "  index=pd.date_range(\"2019-01-01 00:00:00\", periods=8760, freq=\"H\")\n"
     ]
    },
    {
     "name": "stdout",
     "output_type": "stream",
     "text": [
      "Creating building MFH\n",
      "Creating building MFH\n"
     ]
    },
    {
     "name": "stderr",
     "output_type": "stream",
     "text": [
      "c:\\Users\\felix\\Programmieren\\districtgenerator\\.venv\\Lib\\site-packages\\teaser\\logic\\buildingobjects\\useconditions.py:363: FutureWarning: 'H' is deprecated and will be removed in a future version, please use 'h' instead.\n",
      "  index=pd.date_range(\"2019-01-01 00:00:00\", periods=8760, freq=\"H\")\n",
      "c:\\Users\\felix\\Programmieren\\districtgenerator\\.venv\\Lib\\site-packages\\teaser\\logic\\buildingobjects\\useconditions.py:363: FutureWarning: 'H' is deprecated and will be removed in a future version, please use 'h' instead.\n",
      "  index=pd.date_range(\"2019-01-01 00:00:00\", periods=8760, freq=\"H\")\n"
     ]
    },
    {
     "name": "stdout",
     "output_type": "stream",
     "text": [
      "Creating building AB\n",
      "Creating building IWU Production, Workshop, Warehouse or Operations\n",
      "We are about to generate a Non Residential building.\n",
      "Available building types: ['IWU Office, Administrative or Government Buildings', 'IWU Research and University Teaching', 'IWU Health and Care', 'IWU School, Day Nursery and other Care', 'IWU Culture and Leisure', 'IWU Sports Facilities', 'IWU Hotels, Boarding, Restaurants or Catering', 'IWU Production, Workshop, Warehouse or Operations', 'IWU Trade Buildings', 'IWU Technical and Utility (supply and disposal)', 'IWU Transport', 'IWU Generalized (1) Services building', 'IWU Generalized (2) Production buildings']\n",
      "Current usage: IWU Production, Workshop, Warehouse or Operations\n",
      "No data about lighntning control available for IWU Production, Workshop, Warehouse or Operations and data type Technical and Utility Buildings (supply and disposal)Gewerbliche und industrielle Hallen (mittelschwere Arbeit, überw. stehende Tätigkeit)\n",
      "Creating building IWU Trade Buildings\n",
      "We are about to generate a Non Residential building.\n",
      "Available building types: ['IWU Office, Administrative or Government Buildings', 'IWU Research and University Teaching', 'IWU Health and Care', 'IWU School, Day Nursery and other Care', 'IWU Culture and Leisure', 'IWU Sports Facilities', 'IWU Hotels, Boarding, Restaurants or Catering', 'IWU Production, Workshop, Warehouse or Operations', 'IWU Trade Buildings', 'IWU Technical and Utility (supply and disposal)', 'IWU Transport', 'IWU Generalized (1) Services building', 'IWU Generalized (2) Production buildings']\n",
      "Current usage: IWU Trade Buildings\n",
      "Creating building AB\n"
     ]
    },
    {
     "name": "stderr",
     "output_type": "stream",
     "text": [
      "c:\\Users\\felix\\Programmieren\\districtgenerator\\.venv\\Lib\\site-packages\\teaser\\logic\\buildingobjects\\useconditions.py:363: FutureWarning: 'H' is deprecated and will be removed in a future version, please use 'h' instead.\n",
      "  index=pd.date_range(\"2019-01-01 00:00:00\", periods=8760, freq=\"H\")\n",
      "c:\\Users\\felix\\Programmieren\\districtgenerator\\.venv\\Lib\\site-packages\\teaser\\logic\\buildingobjects\\useconditions.py:363: FutureWarning: 'H' is deprecated and will be removed in a future version, please use 'h' instead.\n",
      "  index=pd.date_range(\"2019-01-01 00:00:00\", periods=8760, freq=\"H\")\n"
     ]
    },
    {
     "name": "stdout",
     "output_type": "stream",
     "text": [
      "Creating building MFH\n",
      "Creating building MFH\n",
      "Creating building MFH\n"
     ]
    },
    {
     "name": "stderr",
     "output_type": "stream",
     "text": [
      "c:\\Users\\felix\\Programmieren\\districtgenerator\\.venv\\Lib\\site-packages\\teaser\\logic\\buildingobjects\\useconditions.py:363: FutureWarning: 'H' is deprecated and will be removed in a future version, please use 'h' instead.\n",
      "  index=pd.date_range(\"2019-01-01 00:00:00\", periods=8760, freq=\"H\")\n",
      "c:\\Users\\felix\\Programmieren\\districtgenerator\\.venv\\Lib\\site-packages\\teaser\\logic\\buildingobjects\\useconditions.py:363: FutureWarning: 'H' is deprecated and will be removed in a future version, please use 'h' instead.\n",
      "  index=pd.date_range(\"2019-01-01 00:00:00\", periods=8760, freq=\"H\")\n",
      "c:\\Users\\felix\\Programmieren\\districtgenerator\\.venv\\Lib\\site-packages\\teaser\\logic\\buildingobjects\\useconditions.py:363: FutureWarning: 'H' is deprecated and will be removed in a future version, please use 'h' instead.\n",
      "  index=pd.date_range(\"2019-01-01 00:00:00\", periods=8760, freq=\"H\")\n"
     ]
    },
    {
     "name": "stdout",
     "output_type": "stream",
     "text": [
      "Creating building MFH\n",
      "Creating building AB\n",
      "Creating building AB\n",
      "Creating building AB\n"
     ]
    },
    {
     "name": "stderr",
     "output_type": "stream",
     "text": [
      "c:\\Users\\felix\\Programmieren\\districtgenerator\\.venv\\Lib\\site-packages\\teaser\\logic\\buildingobjects\\useconditions.py:363: FutureWarning: 'H' is deprecated and will be removed in a future version, please use 'h' instead.\n",
      "  index=pd.date_range(\"2019-01-01 00:00:00\", periods=8760, freq=\"H\")\n",
      "c:\\Users\\felix\\Programmieren\\districtgenerator\\.venv\\Lib\\site-packages\\teaser\\logic\\buildingobjects\\useconditions.py:363: FutureWarning: 'H' is deprecated and will be removed in a future version, please use 'h' instead.\n",
      "  index=pd.date_range(\"2019-01-01 00:00:00\", periods=8760, freq=\"H\")\n",
      "c:\\Users\\felix\\Programmieren\\districtgenerator\\.venv\\Lib\\site-packages\\teaser\\logic\\buildingobjects\\useconditions.py:363: FutureWarning: 'H' is deprecated and will be removed in a future version, please use 'h' instead.\n",
      "  index=pd.date_range(\"2019-01-01 00:00:00\", periods=8760, freq=\"H\")\n",
      "c:\\Users\\felix\\Programmieren\\districtgenerator\\.venv\\Lib\\site-packages\\teaser\\logic\\buildingobjects\\useconditions.py:363: FutureWarning: 'H' is deprecated and will be removed in a future version, please use 'h' instead.\n",
      "  index=pd.date_range(\"2019-01-01 00:00:00\", periods=8760, freq=\"H\")\n"
     ]
    },
    {
     "name": "stdout",
     "output_type": "stream",
     "text": [
      "Creating building IWU Trade Buildings\n",
      "We are about to generate a Non Residential building.\n",
      "Available building types: ['IWU Office, Administrative or Government Buildings', 'IWU Research and University Teaching', 'IWU Health and Care', 'IWU School, Day Nursery and other Care', 'IWU Culture and Leisure', 'IWU Sports Facilities', 'IWU Hotels, Boarding, Restaurants or Catering', 'IWU Production, Workshop, Warehouse or Operations', 'IWU Trade Buildings', 'IWU Technical and Utility (supply and disposal)', 'IWU Transport', 'IWU Generalized (1) Services building', 'IWU Generalized (2) Production buildings']\n",
      "Current usage: IWU Trade Buildings\n",
      "Creating building MFH\n"
     ]
    },
    {
     "name": "stderr",
     "output_type": "stream",
     "text": [
      "c:\\Users\\felix\\Programmieren\\districtgenerator\\.venv\\Lib\\site-packages\\teaser\\logic\\buildingobjects\\useconditions.py:363: FutureWarning: 'H' is deprecated and will be removed in a future version, please use 'h' instead.\n",
      "  index=pd.date_range(\"2019-01-01 00:00:00\", periods=8760, freq=\"H\")\n"
     ]
    },
    {
     "name": "stdout",
     "output_type": "stream",
     "text": [
      "Creating building AB\n",
      "Creating building AB\n"
     ]
    },
    {
     "name": "stderr",
     "output_type": "stream",
     "text": [
      "c:\\Users\\felix\\Programmieren\\districtgenerator\\.venv\\Lib\\site-packages\\teaser\\logic\\buildingobjects\\useconditions.py:363: FutureWarning: 'H' is deprecated and will be removed in a future version, please use 'h' instead.\n",
      "  index=pd.date_range(\"2019-01-01 00:00:00\", periods=8760, freq=\"H\")\n",
      "c:\\Users\\felix\\Programmieren\\districtgenerator\\.venv\\Lib\\site-packages\\teaser\\logic\\buildingobjects\\useconditions.py:363: FutureWarning: 'H' is deprecated and will be removed in a future version, please use 'h' instead.\n",
      "  index=pd.date_range(\"2019-01-01 00:00:00\", periods=8760, freq=\"H\")\n"
     ]
    },
    {
     "name": "stdout",
     "output_type": "stream",
     "text": [
      "Creating building MFH\n",
      "Creating building MFH\n",
      "Creating building MFH\n"
     ]
    },
    {
     "name": "stderr",
     "output_type": "stream",
     "text": [
      "c:\\Users\\felix\\Programmieren\\districtgenerator\\.venv\\Lib\\site-packages\\teaser\\logic\\buildingobjects\\useconditions.py:363: FutureWarning: 'H' is deprecated and will be removed in a future version, please use 'h' instead.\n",
      "  index=pd.date_range(\"2019-01-01 00:00:00\", periods=8760, freq=\"H\")\n",
      "c:\\Users\\felix\\Programmieren\\districtgenerator\\.venv\\Lib\\site-packages\\teaser\\logic\\buildingobjects\\useconditions.py:363: FutureWarning: 'H' is deprecated and will be removed in a future version, please use 'h' instead.\n",
      "  index=pd.date_range(\"2019-01-01 00:00:00\", periods=8760, freq=\"H\")\n",
      "c:\\Users\\felix\\Programmieren\\districtgenerator\\.venv\\Lib\\site-packages\\teaser\\logic\\buildingobjects\\useconditions.py:363: FutureWarning: 'H' is deprecated and will be removed in a future version, please use 'h' instead.\n",
      "  index=pd.date_range(\"2019-01-01 00:00:00\", periods=8760, freq=\"H\")\n"
     ]
    },
    {
     "name": "stdout",
     "output_type": "stream",
     "text": [
      "Creating building MFH\n",
      "Creating building MFH\n",
      "Creating building MFH\n"
     ]
    },
    {
     "name": "stderr",
     "output_type": "stream",
     "text": [
      "c:\\Users\\felix\\Programmieren\\districtgenerator\\.venv\\Lib\\site-packages\\teaser\\logic\\buildingobjects\\useconditions.py:363: FutureWarning: 'H' is deprecated and will be removed in a future version, please use 'h' instead.\n",
      "  index=pd.date_range(\"2019-01-01 00:00:00\", periods=8760, freq=\"H\")\n",
      "c:\\Users\\felix\\Programmieren\\districtgenerator\\.venv\\Lib\\site-packages\\teaser\\logic\\buildingobjects\\useconditions.py:363: FutureWarning: 'H' is deprecated and will be removed in a future version, please use 'h' instead.\n",
      "  index=pd.date_range(\"2019-01-01 00:00:00\", periods=8760, freq=\"H\")\n",
      "c:\\Users\\felix\\Programmieren\\districtgenerator\\.venv\\Lib\\site-packages\\teaser\\logic\\buildingobjects\\useconditions.py:363: FutureWarning: 'H' is deprecated and will be removed in a future version, please use 'h' instead.\n",
      "  index=pd.date_range(\"2019-01-01 00:00:00\", periods=8760, freq=\"H\")\n"
     ]
    },
    {
     "name": "stdout",
     "output_type": "stream",
     "text": [
      "Creating building IWU Production, Workshop, Warehouse or Operations\n",
      "We are about to generate a Non Residential building.\n",
      "Available building types: ['IWU Office, Administrative or Government Buildings', 'IWU Research and University Teaching', 'IWU Health and Care', 'IWU School, Day Nursery and other Care', 'IWU Culture and Leisure', 'IWU Sports Facilities', 'IWU Hotels, Boarding, Restaurants or Catering', 'IWU Production, Workshop, Warehouse or Operations', 'IWU Trade Buildings', 'IWU Technical and Utility (supply and disposal)', 'IWU Transport', 'IWU Generalized (1) Services building', 'IWU Generalized (2) Production buildings']\n",
      "Current usage: IWU Production, Workshop, Warehouse or Operations\n",
      "No data about lighntning control available for IWU Production, Workshop, Warehouse or Operations and data type Technical and Utility Buildings (supply and disposal)Gewerbliche und industrielle Hallen (mittelschwere Arbeit, überw. stehende Tätigkeit)\n",
      "Creating building AB\n",
      "Creating building MFH\n"
     ]
    },
    {
     "name": "stderr",
     "output_type": "stream",
     "text": [
      "c:\\Users\\felix\\Programmieren\\districtgenerator\\.venv\\Lib\\site-packages\\teaser\\logic\\buildingobjects\\useconditions.py:363: FutureWarning: 'H' is deprecated and will be removed in a future version, please use 'h' instead.\n",
      "  index=pd.date_range(\"2019-01-01 00:00:00\", periods=8760, freq=\"H\")\n",
      "c:\\Users\\felix\\Programmieren\\districtgenerator\\.venv\\Lib\\site-packages\\teaser\\logic\\buildingobjects\\useconditions.py:363: FutureWarning: 'H' is deprecated and will be removed in a future version, please use 'h' instead.\n",
      "  index=pd.date_range(\"2019-01-01 00:00:00\", periods=8760, freq=\"H\")\n",
      "c:\\Users\\felix\\Programmieren\\districtgenerator\\.venv\\Lib\\site-packages\\teaser\\logic\\buildingobjects\\useconditions.py:363: FutureWarning: 'H' is deprecated and will be removed in a future version, please use 'h' instead.\n",
      "  index=pd.date_range(\"2019-01-01 00:00:00\", periods=8760, freq=\"H\")\n"
     ]
    },
    {
     "name": "stdout",
     "output_type": "stream",
     "text": [
      "Creating building AB\n",
      "Creating building MFH\n",
      "Creating building MFH\n"
     ]
    },
    {
     "name": "stderr",
     "output_type": "stream",
     "text": [
      "c:\\Users\\felix\\Programmieren\\districtgenerator\\.venv\\Lib\\site-packages\\teaser\\logic\\buildingobjects\\useconditions.py:363: FutureWarning: 'H' is deprecated and will be removed in a future version, please use 'h' instead.\n",
      "  index=pd.date_range(\"2019-01-01 00:00:00\", periods=8760, freq=\"H\")\n",
      "c:\\Users\\felix\\Programmieren\\districtgenerator\\.venv\\Lib\\site-packages\\teaser\\logic\\buildingobjects\\useconditions.py:363: FutureWarning: 'H' is deprecated and will be removed in a future version, please use 'h' instead.\n",
      "  index=pd.date_range(\"2019-01-01 00:00:00\", periods=8760, freq=\"H\")\n"
     ]
    },
    {
     "name": "stdout",
     "output_type": "stream",
     "text": [
      "Creating building MFH\n",
      "Creating building AB\n"
     ]
    },
    {
     "name": "stderr",
     "output_type": "stream",
     "text": [
      "c:\\Users\\felix\\Programmieren\\districtgenerator\\.venv\\Lib\\site-packages\\teaser\\logic\\buildingobjects\\useconditions.py:363: FutureWarning: 'H' is deprecated and will be removed in a future version, please use 'h' instead.\n",
      "  index=pd.date_range(\"2019-01-01 00:00:00\", periods=8760, freq=\"H\")\n",
      "c:\\Users\\felix\\Programmieren\\districtgenerator\\.venv\\Lib\\site-packages\\teaser\\logic\\buildingobjects\\useconditions.py:363: FutureWarning: 'H' is deprecated and will be removed in a future version, please use 'h' instead.\n",
      "  index=pd.date_range(\"2019-01-01 00:00:00\", periods=8760, freq=\"H\")\n"
     ]
    },
    {
     "name": "stdout",
     "output_type": "stream",
     "text": [
      "Creating building MFH\n",
      "Creating building AB\n",
      "Creating building AB\n"
     ]
    },
    {
     "name": "stderr",
     "output_type": "stream",
     "text": [
      "c:\\Users\\felix\\Programmieren\\districtgenerator\\.venv\\Lib\\site-packages\\teaser\\logic\\buildingobjects\\useconditions.py:363: FutureWarning: 'H' is deprecated and will be removed in a future version, please use 'h' instead.\n",
      "  index=pd.date_range(\"2019-01-01 00:00:00\", periods=8760, freq=\"H\")\n",
      "c:\\Users\\felix\\Programmieren\\districtgenerator\\.venv\\Lib\\site-packages\\teaser\\logic\\buildingobjects\\useconditions.py:363: FutureWarning: 'H' is deprecated and will be removed in a future version, please use 'h' instead.\n",
      "  index=pd.date_range(\"2019-01-01 00:00:00\", periods=8760, freq=\"H\")\n",
      "c:\\Users\\felix\\Programmieren\\districtgenerator\\.venv\\Lib\\site-packages\\teaser\\logic\\buildingobjects\\useconditions.py:363: FutureWarning: 'H' is deprecated and will be removed in a future version, please use 'h' instead.\n",
      "  index=pd.date_range(\"2019-01-01 00:00:00\", periods=8760, freq=\"H\")\n"
     ]
    },
    {
     "name": "stdout",
     "output_type": "stream",
     "text": [
      "Creating building MFH\n",
      "Creating building AB\n",
      "Creating building MFH\n"
     ]
    },
    {
     "name": "stderr",
     "output_type": "stream",
     "text": [
      "c:\\Users\\felix\\Programmieren\\districtgenerator\\.venv\\Lib\\site-packages\\teaser\\logic\\buildingobjects\\useconditions.py:363: FutureWarning: 'H' is deprecated and will be removed in a future version, please use 'h' instead.\n",
      "  index=pd.date_range(\"2019-01-01 00:00:00\", periods=8760, freq=\"H\")\n",
      "c:\\Users\\felix\\Programmieren\\districtgenerator\\.venv\\Lib\\site-packages\\teaser\\logic\\buildingobjects\\useconditions.py:363: FutureWarning: 'H' is deprecated and will be removed in a future version, please use 'h' instead.\n",
      "  index=pd.date_range(\"2019-01-01 00:00:00\", periods=8760, freq=\"H\")\n",
      "c:\\Users\\felix\\Programmieren\\districtgenerator\\.venv\\Lib\\site-packages\\teaser\\logic\\buildingobjects\\useconditions.py:363: FutureWarning: 'H' is deprecated and will be removed in a future version, please use 'h' instead.\n",
      "  index=pd.date_range(\"2019-01-01 00:00:00\", periods=8760, freq=\"H\")\n"
     ]
    },
    {
     "name": "stdout",
     "output_type": "stream",
     "text": [
      "Creating building MFH\n"
     ]
    },
    {
     "name": "stderr",
     "output_type": "stream",
     "text": [
      "c:\\Users\\felix\\Programmieren\\districtgenerator\\.venv\\Lib\\site-packages\\teaser\\logic\\buildingobjects\\useconditions.py:363: FutureWarning: 'H' is deprecated and will be removed in a future version, please use 'h' instead.\n",
      "  index=pd.date_range(\"2019-01-01 00:00:00\", periods=8760, freq=\"H\")\n"
     ]
    },
    {
     "name": "stdout",
     "output_type": "stream",
     "text": [
      "Creating building IWU Production, Workshop, Warehouse or Operations\n",
      "We are about to generate a Non Residential building.\n",
      "Available building types: ['IWU Office, Administrative or Government Buildings', 'IWU Research and University Teaching', 'IWU Health and Care', 'IWU School, Day Nursery and other Care', 'IWU Culture and Leisure', 'IWU Sports Facilities', 'IWU Hotels, Boarding, Restaurants or Catering', 'IWU Production, Workshop, Warehouse or Operations', 'IWU Trade Buildings', 'IWU Technical and Utility (supply and disposal)', 'IWU Transport', 'IWU Generalized (1) Services building', 'IWU Generalized (2) Production buildings']\n",
      "Current usage: IWU Production, Workshop, Warehouse or Operations\n",
      "No data about lighntning control available for IWU Production, Workshop, Warehouse or Operations and data type Technical and Utility Buildings (supply and disposal)Gewerbliche und industrielle Hallen (mittelschwere Arbeit, überw. stehende Tätigkeit)\n",
      "Creating building MFH\n",
      "Creating building MFH\n"
     ]
    },
    {
     "name": "stderr",
     "output_type": "stream",
     "text": [
      "c:\\Users\\felix\\Programmieren\\districtgenerator\\.venv\\Lib\\site-packages\\teaser\\logic\\buildingobjects\\useconditions.py:363: FutureWarning: 'H' is deprecated and will be removed in a future version, please use 'h' instead.\n",
      "  index=pd.date_range(\"2019-01-01 00:00:00\", periods=8760, freq=\"H\")\n",
      "c:\\Users\\felix\\Programmieren\\districtgenerator\\.venv\\Lib\\site-packages\\teaser\\logic\\buildingobjects\\useconditions.py:363: FutureWarning: 'H' is deprecated and will be removed in a future version, please use 'h' instead.\n",
      "  index=pd.date_range(\"2019-01-01 00:00:00\", periods=8760, freq=\"H\")\n"
     ]
    },
    {
     "name": "stdout",
     "output_type": "stream",
     "text": [
      "Creating building IWU Transport\n",
      "We are about to generate a Non Residential building.\n",
      "Available building types: ['IWU Office, Administrative or Government Buildings', 'IWU Research and University Teaching', 'IWU Health and Care', 'IWU School, Day Nursery and other Care', 'IWU Culture and Leisure', 'IWU Sports Facilities', 'IWU Hotels, Boarding, Restaurants or Catering', 'IWU Production, Workshop, Warehouse or Operations', 'IWU Trade Buildings', 'IWU Technical and Utility (supply and disposal)', 'IWU Transport', 'IWU Generalized (1) Services building', 'IWU Generalized (2) Production buildings']\n",
      "Current usage: IWU Transport\n",
      "Creating building AB\n",
      "Creating building MFH\n"
     ]
    },
    {
     "name": "stderr",
     "output_type": "stream",
     "text": [
      "c:\\Users\\felix\\Programmieren\\districtgenerator\\.venv\\Lib\\site-packages\\teaser\\logic\\buildingobjects\\useconditions.py:363: FutureWarning: 'H' is deprecated and will be removed in a future version, please use 'h' instead.\n",
      "  index=pd.date_range(\"2019-01-01 00:00:00\", periods=8760, freq=\"H\")\n",
      "c:\\Users\\felix\\Programmieren\\districtgenerator\\.venv\\Lib\\site-packages\\teaser\\logic\\buildingobjects\\useconditions.py:363: FutureWarning: 'H' is deprecated and will be removed in a future version, please use 'h' instead.\n",
      "  index=pd.date_range(\"2019-01-01 00:00:00\", periods=8760, freq=\"H\")\n"
     ]
    },
    {
     "name": "stdout",
     "output_type": "stream",
     "text": [
      "Creating building MFH\n",
      "Creating building IWU Production, Workshop, Warehouse or Operations\n",
      "We are about to generate a Non Residential building.\n",
      "Available building types: ['IWU Office, Administrative or Government Buildings', 'IWU Research and University Teaching', 'IWU Health and Care', 'IWU School, Day Nursery and other Care', 'IWU Culture and Leisure', 'IWU Sports Facilities', 'IWU Hotels, Boarding, Restaurants or Catering', 'IWU Production, Workshop, Warehouse or Operations', 'IWU Trade Buildings', 'IWU Technical and Utility (supply and disposal)', 'IWU Transport', 'IWU Generalized (1) Services building', 'IWU Generalized (2) Production buildings']\n",
      "Current usage: IWU Production, Workshop, Warehouse or Operations\n",
      "No data about lighntning control available for IWU Production, Workshop, Warehouse or Operations and data type Technical and Utility Buildings (supply and disposal)Gewerbliche und industrielle Hallen (mittelschwere Arbeit, überw. stehende Tätigkeit)\n",
      "Creating building MFH\n",
      "Creating building AB\n"
     ]
    },
    {
     "name": "stderr",
     "output_type": "stream",
     "text": [
      "c:\\Users\\felix\\Programmieren\\districtgenerator\\.venv\\Lib\\site-packages\\teaser\\logic\\buildingobjects\\useconditions.py:363: FutureWarning: 'H' is deprecated and will be removed in a future version, please use 'h' instead.\n",
      "  index=pd.date_range(\"2019-01-01 00:00:00\", periods=8760, freq=\"H\")\n",
      "c:\\Users\\felix\\Programmieren\\districtgenerator\\.venv\\Lib\\site-packages\\teaser\\logic\\buildingobjects\\useconditions.py:363: FutureWarning: 'H' is deprecated and will be removed in a future version, please use 'h' instead.\n",
      "  index=pd.date_range(\"2019-01-01 00:00:00\", periods=8760, freq=\"H\")\n",
      "c:\\Users\\felix\\Programmieren\\districtgenerator\\.venv\\Lib\\site-packages\\teaser\\logic\\buildingobjects\\useconditions.py:363: FutureWarning: 'H' is deprecated and will be removed in a future version, please use 'h' instead.\n",
      "  index=pd.date_range(\"2019-01-01 00:00:00\", periods=8760, freq=\"H\")\n"
     ]
    },
    {
     "name": "stdout",
     "output_type": "stream",
     "text": [
      "Creating building MFH\n",
      "Creating building AB\n",
      "Creating building AB\n"
     ]
    },
    {
     "name": "stderr",
     "output_type": "stream",
     "text": [
      "c:\\Users\\felix\\Programmieren\\districtgenerator\\.venv\\Lib\\site-packages\\teaser\\logic\\buildingobjects\\useconditions.py:363: FutureWarning: 'H' is deprecated and will be removed in a future version, please use 'h' instead.\n",
      "  index=pd.date_range(\"2019-01-01 00:00:00\", periods=8760, freq=\"H\")\n",
      "c:\\Users\\felix\\Programmieren\\districtgenerator\\.venv\\Lib\\site-packages\\teaser\\logic\\buildingobjects\\useconditions.py:363: FutureWarning: 'H' is deprecated and will be removed in a future version, please use 'h' instead.\n",
      "  index=pd.date_range(\"2019-01-01 00:00:00\", periods=8760, freq=\"H\")\n",
      "c:\\Users\\felix\\Programmieren\\districtgenerator\\.venv\\Lib\\site-packages\\teaser\\logic\\buildingobjects\\useconditions.py:363: FutureWarning: 'H' is deprecated and will be removed in a future version, please use 'h' instead.\n",
      "  index=pd.date_range(\"2019-01-01 00:00:00\", periods=8760, freq=\"H\")\n"
     ]
    },
    {
     "name": "stdout",
     "output_type": "stream",
     "text": [
      "Creating building MFH\n",
      "Creating building AB\n",
      "Creating building AB\n"
     ]
    },
    {
     "name": "stderr",
     "output_type": "stream",
     "text": [
      "c:\\Users\\felix\\Programmieren\\districtgenerator\\.venv\\Lib\\site-packages\\teaser\\logic\\buildingobjects\\useconditions.py:363: FutureWarning: 'H' is deprecated and will be removed in a future version, please use 'h' instead.\n",
      "  index=pd.date_range(\"2019-01-01 00:00:00\", periods=8760, freq=\"H\")\n",
      "c:\\Users\\felix\\Programmieren\\districtgenerator\\.venv\\Lib\\site-packages\\teaser\\logic\\buildingobjects\\useconditions.py:363: FutureWarning: 'H' is deprecated and will be removed in a future version, please use 'h' instead.\n",
      "  index=pd.date_range(\"2019-01-01 00:00:00\", periods=8760, freq=\"H\")\n",
      "c:\\Users\\felix\\Programmieren\\districtgenerator\\.venv\\Lib\\site-packages\\teaser\\logic\\buildingobjects\\useconditions.py:363: FutureWarning: 'H' is deprecated and will be removed in a future version, please use 'h' instead.\n",
      "  index=pd.date_range(\"2019-01-01 00:00:00\", periods=8760, freq=\"H\")\n"
     ]
    },
    {
     "name": "stdout",
     "output_type": "stream",
     "text": [
      "Creating building MFH\n"
     ]
    },
    {
     "name": "stderr",
     "output_type": "stream",
     "text": [
      "c:\\Users\\felix\\Programmieren\\districtgenerator\\.venv\\Lib\\site-packages\\teaser\\logic\\buildingobjects\\useconditions.py:363: FutureWarning: 'H' is deprecated and will be removed in a future version, please use 'h' instead.\n",
      "  index=pd.date_range(\"2019-01-01 00:00:00\", periods=8760, freq=\"H\")\n"
     ]
    },
    {
     "name": "stdout",
     "output_type": "stream",
     "text": [
      "Creating building IWU Production, Workshop, Warehouse or Operations\n",
      "We are about to generate a Non Residential building.\n",
      "Available building types: ['IWU Office, Administrative or Government Buildings', 'IWU Research and University Teaching', 'IWU Health and Care', 'IWU School, Day Nursery and other Care', 'IWU Culture and Leisure', 'IWU Sports Facilities', 'IWU Hotels, Boarding, Restaurants or Catering', 'IWU Production, Workshop, Warehouse or Operations', 'IWU Trade Buildings', 'IWU Technical and Utility (supply and disposal)', 'IWU Transport', 'IWU Generalized (1) Services building', 'IWU Generalized (2) Production buildings']\n",
      "Current usage: IWU Production, Workshop, Warehouse or Operations\n",
      "No data about lighntning control available for IWU Production, Workshop, Warehouse or Operations and data type Technical and Utility Buildings (supply and disposal)Gewerbliche und industrielle Hallen (mittelschwere Arbeit, überw. stehende Tätigkeit)\n",
      "Creating building MFH\n",
      "Creating building IWU Production, Workshop, Warehouse or Operations\n",
      "We are about to generate a Non Residential building.\n",
      "Available building types: ['IWU Office, Administrative or Government Buildings', 'IWU Research and University Teaching', 'IWU Health and Care', 'IWU School, Day Nursery and other Care', 'IWU Culture and Leisure', 'IWU Sports Facilities', 'IWU Hotels, Boarding, Restaurants or Catering', 'IWU Production, Workshop, Warehouse or Operations', 'IWU Trade Buildings', 'IWU Technical and Utility (supply and disposal)', 'IWU Transport', 'IWU Generalized (1) Services building', 'IWU Generalized (2) Production buildings']\n",
      "Current usage: IWU Production, Workshop, Warehouse or Operations\n",
      "No data about lighntning control available for IWU Production, Workshop, Warehouse or Operations and data type Technical and Utility Buildings (supply and disposal)Gewerbliche und industrielle Hallen (mittelschwere Arbeit, überw. stehende Tätigkeit)\n",
      "Creating building AB\n"
     ]
    },
    {
     "name": "stderr",
     "output_type": "stream",
     "text": [
      "c:\\Users\\felix\\Programmieren\\districtgenerator\\.venv\\Lib\\site-packages\\teaser\\logic\\buildingobjects\\useconditions.py:363: FutureWarning: 'H' is deprecated and will be removed in a future version, please use 'h' instead.\n",
      "  index=pd.date_range(\"2019-01-01 00:00:00\", periods=8760, freq=\"H\")\n",
      "c:\\Users\\felix\\Programmieren\\districtgenerator\\.venv\\Lib\\site-packages\\teaser\\logic\\buildingobjects\\useconditions.py:363: FutureWarning: 'H' is deprecated and will be removed in a future version, please use 'h' instead.\n",
      "  index=pd.date_range(\"2019-01-01 00:00:00\", periods=8760, freq=\"H\")\n",
      "c:\\Users\\felix\\Programmieren\\districtgenerator\\.venv\\Lib\\site-packages\\teaser\\logic\\buildingobjects\\useconditions.py:363: FutureWarning: 'H' is deprecated and will be removed in a future version, please use 'h' instead.\n",
      "  index=pd.date_range(\"2019-01-01 00:00:00\", periods=8760, freq=\"H\")\n"
     ]
    },
    {
     "name": "stdout",
     "output_type": "stream",
     "text": [
      "Creating building AB\n",
      "Creating building AB\n",
      "Creating building AB\n"
     ]
    },
    {
     "name": "stderr",
     "output_type": "stream",
     "text": [
      "c:\\Users\\felix\\Programmieren\\districtgenerator\\.venv\\Lib\\site-packages\\teaser\\logic\\buildingobjects\\useconditions.py:363: FutureWarning: 'H' is deprecated and will be removed in a future version, please use 'h' instead.\n",
      "  index=pd.date_range(\"2019-01-01 00:00:00\", periods=8760, freq=\"H\")\n",
      "c:\\Users\\felix\\Programmieren\\districtgenerator\\.venv\\Lib\\site-packages\\teaser\\logic\\buildingobjects\\useconditions.py:363: FutureWarning: 'H' is deprecated and will be removed in a future version, please use 'h' instead.\n",
      "  index=pd.date_range(\"2019-01-01 00:00:00\", periods=8760, freq=\"H\")\n",
      "c:\\Users\\felix\\Programmieren\\districtgenerator\\.venv\\Lib\\site-packages\\teaser\\logic\\buildingobjects\\useconditions.py:363: FutureWarning: 'H' is deprecated and will be removed in a future version, please use 'h' instead.\n",
      "  index=pd.date_range(\"2019-01-01 00:00:00\", periods=8760, freq=\"H\")\n"
     ]
    },
    {
     "name": "stdout",
     "output_type": "stream",
     "text": [
      "Creating building AB\n",
      "Creating building IWU Transport\n",
      "We are about to generate a Non Residential building.\n",
      "Available building types: ['IWU Office, Administrative or Government Buildings', 'IWU Research and University Teaching', 'IWU Health and Care', 'IWU School, Day Nursery and other Care', 'IWU Culture and Leisure', 'IWU Sports Facilities', 'IWU Hotels, Boarding, Restaurants or Catering', 'IWU Production, Workshop, Warehouse or Operations', 'IWU Trade Buildings', 'IWU Technical and Utility (supply and disposal)', 'IWU Transport', 'IWU Generalized (1) Services building', 'IWU Generalized (2) Production buildings']\n",
      "Current usage: IWU Transport\n",
      "Creating building MFH\n",
      "Creating building AB\n"
     ]
    },
    {
     "name": "stderr",
     "output_type": "stream",
     "text": [
      "c:\\Users\\felix\\Programmieren\\districtgenerator\\.venv\\Lib\\site-packages\\teaser\\logic\\buildingobjects\\useconditions.py:363: FutureWarning: 'H' is deprecated and will be removed in a future version, please use 'h' instead.\n",
      "  index=pd.date_range(\"2019-01-01 00:00:00\", periods=8760, freq=\"H\")\n",
      "c:\\Users\\felix\\Programmieren\\districtgenerator\\.venv\\Lib\\site-packages\\teaser\\logic\\buildingobjects\\useconditions.py:363: FutureWarning: 'H' is deprecated and will be removed in a future version, please use 'h' instead.\n",
      "  index=pd.date_range(\"2019-01-01 00:00:00\", periods=8760, freq=\"H\")\n",
      "c:\\Users\\felix\\Programmieren\\districtgenerator\\.venv\\Lib\\site-packages\\teaser\\logic\\buildingobjects\\useconditions.py:363: FutureWarning: 'H' is deprecated and will be removed in a future version, please use 'h' instead.\n",
      "  index=pd.date_range(\"2019-01-01 00:00:00\", periods=8760, freq=\"H\")\n"
     ]
    },
    {
     "name": "stdout",
     "output_type": "stream",
     "text": [
      "Creating building IWU Production, Workshop, Warehouse or Operations\n",
      "We are about to generate a Non Residential building.\n",
      "Available building types: ['IWU Office, Administrative or Government Buildings', 'IWU Research and University Teaching', 'IWU Health and Care', 'IWU School, Day Nursery and other Care', 'IWU Culture and Leisure', 'IWU Sports Facilities', 'IWU Hotels, Boarding, Restaurants or Catering', 'IWU Production, Workshop, Warehouse or Operations', 'IWU Trade Buildings', 'IWU Technical and Utility (supply and disposal)', 'IWU Transport', 'IWU Generalized (1) Services building', 'IWU Generalized (2) Production buildings']\n",
      "Current usage: IWU Production, Workshop, Warehouse or Operations\n",
      "No data about lighntning control available for IWU Production, Workshop, Warehouse or Operations and data type Technical and Utility Buildings (supply and disposal)Gewerbliche und industrielle Hallen (mittelschwere Arbeit, überw. stehende Tätigkeit)\n",
      "Creating building TH\n",
      "Creating building IWU Production, Workshop, Warehouse or Operations\n",
      "We are about to generate a Non Residential building.\n",
      "Available building types: ['IWU Office, Administrative or Government Buildings', 'IWU Research and University Teaching', 'IWU Health and Care', 'IWU School, Day Nursery and other Care', 'IWU Culture and Leisure', 'IWU Sports Facilities', 'IWU Hotels, Boarding, Restaurants or Catering', 'IWU Production, Workshop, Warehouse or Operations', 'IWU Trade Buildings', 'IWU Technical and Utility (supply and disposal)', 'IWU Transport', 'IWU Generalized (1) Services building', 'IWU Generalized (2) Production buildings']\n",
      "Current usage: IWU Production, Workshop, Warehouse or Operations\n",
      "No data about lighntning control available for IWU Production, Workshop, Warehouse or Operations and data type Technical and Utility Buildings (supply and disposal)Gewerbliche und industrielle Hallen (mittelschwere Arbeit, überw. stehende Tätigkeit)\n",
      "Creating building IWU Production, Workshop, Warehouse or Operations\n",
      "We are about to generate a Non Residential building.\n",
      "Available building types: ['IWU Office, Administrative or Government Buildings', 'IWU Research and University Teaching', 'IWU Health and Care', 'IWU School, Day Nursery and other Care', 'IWU Culture and Leisure', 'IWU Sports Facilities', 'IWU Hotels, Boarding, Restaurants or Catering', 'IWU Production, Workshop, Warehouse or Operations', 'IWU Trade Buildings', 'IWU Technical and Utility (supply and disposal)', 'IWU Transport', 'IWU Generalized (1) Services building', 'IWU Generalized (2) Production buildings']\n",
      "Current usage: IWU Production, Workshop, Warehouse or Operations\n",
      "No data about lighntning control available for IWU Production, Workshop, Warehouse or Operations and data type Technical and Utility Buildings (supply and disposal)Gewerbliche und industrielle Hallen (mittelschwere Arbeit, überw. stehende Tätigkeit)\n",
      "Creating building MFH\n",
      "Creating building MFH\n"
     ]
    },
    {
     "name": "stderr",
     "output_type": "stream",
     "text": [
      "c:\\Users\\felix\\Programmieren\\districtgenerator\\.venv\\Lib\\site-packages\\teaser\\logic\\buildingobjects\\useconditions.py:363: FutureWarning: 'H' is deprecated and will be removed in a future version, please use 'h' instead.\n",
      "  index=pd.date_range(\"2019-01-01 00:00:00\", periods=8760, freq=\"H\")\n",
      "c:\\Users\\felix\\Programmieren\\districtgenerator\\.venv\\Lib\\site-packages\\teaser\\logic\\buildingobjects\\useconditions.py:363: FutureWarning: 'H' is deprecated and will be removed in a future version, please use 'h' instead.\n",
      "  index=pd.date_range(\"2019-01-01 00:00:00\", periods=8760, freq=\"H\")\n",
      "c:\\Users\\felix\\Programmieren\\districtgenerator\\.venv\\Lib\\site-packages\\teaser\\logic\\buildingobjects\\useconditions.py:363: FutureWarning: 'H' is deprecated and will be removed in a future version, please use 'h' instead.\n",
      "  index=pd.date_range(\"2019-01-01 00:00:00\", periods=8760, freq=\"H\")\n"
     ]
    },
    {
     "name": "stdout",
     "output_type": "stream",
     "text": [
      "Creating building AB\n",
      "Creating building MFH\n"
     ]
    },
    {
     "name": "stderr",
     "output_type": "stream",
     "text": [
      "c:\\Users\\felix\\Programmieren\\districtgenerator\\.venv\\Lib\\site-packages\\teaser\\logic\\buildingobjects\\useconditions.py:363: FutureWarning: 'H' is deprecated and will be removed in a future version, please use 'h' instead.\n",
      "  index=pd.date_range(\"2019-01-01 00:00:00\", periods=8760, freq=\"H\")\n"
     ]
    },
    {
     "name": "stdout",
     "output_type": "stream",
     "text": [
      "Creating building MFH\n",
      "Creating building AB\n",
      "Creating building IWU Production, Workshop, Warehouse or Operations\n",
      "We are about to generate a Non Residential building.\n",
      "Available building types: ['IWU Office, Administrative or Government Buildings', 'IWU Research and University Teaching', 'IWU Health and Care', 'IWU School, Day Nursery and other Care', 'IWU Culture and Leisure', 'IWU Sports Facilities', 'IWU Hotels, Boarding, Restaurants or Catering', 'IWU Production, Workshop, Warehouse or Operations', 'IWU Trade Buildings', 'IWU Technical and Utility (supply and disposal)', 'IWU Transport', 'IWU Generalized (1) Services building', 'IWU Generalized (2) Production buildings']\n",
      "Current usage: IWU Production, Workshop, Warehouse or Operations\n"
     ]
    },
    {
     "name": "stderr",
     "output_type": "stream",
     "text": [
      "c:\\Users\\felix\\Programmieren\\districtgenerator\\.venv\\Lib\\site-packages\\teaser\\logic\\buildingobjects\\useconditions.py:363: FutureWarning: 'H' is deprecated and will be removed in a future version, please use 'h' instead.\n",
      "  index=pd.date_range(\"2019-01-01 00:00:00\", periods=8760, freq=\"H\")\n",
      "c:\\Users\\felix\\Programmieren\\districtgenerator\\.venv\\Lib\\site-packages\\teaser\\logic\\buildingobjects\\useconditions.py:363: FutureWarning: 'H' is deprecated and will be removed in a future version, please use 'h' instead.\n",
      "  index=pd.date_range(\"2019-01-01 00:00:00\", periods=8760, freq=\"H\")\n"
     ]
    },
    {
     "name": "stdout",
     "output_type": "stream",
     "text": [
      "No data about lighntning control available for IWU Production, Workshop, Warehouse or Operations and data type Technical and Utility Buildings (supply and disposal)Gewerbliche und industrielle Hallen (mittelschwere Arbeit, überw. stehende Tätigkeit)\n",
      "Creating building MFH\n",
      "Creating building AB\n"
     ]
    },
    {
     "name": "stderr",
     "output_type": "stream",
     "text": [
      "c:\\Users\\felix\\Programmieren\\districtgenerator\\.venv\\Lib\\site-packages\\teaser\\logic\\buildingobjects\\useconditions.py:363: FutureWarning: 'H' is deprecated and will be removed in a future version, please use 'h' instead.\n",
      "  index=pd.date_range(\"2019-01-01 00:00:00\", periods=8760, freq=\"H\")\n",
      "c:\\Users\\felix\\Programmieren\\districtgenerator\\.venv\\Lib\\site-packages\\teaser\\logic\\buildingobjects\\useconditions.py:363: FutureWarning: 'H' is deprecated and will be removed in a future version, please use 'h' instead.\n",
      "  index=pd.date_range(\"2019-01-01 00:00:00\", periods=8760, freq=\"H\")\n"
     ]
    },
    {
     "name": "stdout",
     "output_type": "stream",
     "text": [
      "Creating building MFH\n"
     ]
    },
    {
     "name": "stderr",
     "output_type": "stream",
     "text": [
      "c:\\Users\\felix\\Programmieren\\districtgenerator\\.venv\\Lib\\site-packages\\teaser\\logic\\buildingobjects\\useconditions.py:363: FutureWarning: 'H' is deprecated and will be removed in a future version, please use 'h' instead.\n",
      "  index=pd.date_range(\"2019-01-01 00:00:00\", periods=8760, freq=\"H\")\n"
     ]
    },
    {
     "name": "stdout",
     "output_type": "stream",
     "text": [
      "Creating building AB\n",
      "Creating building AB\n"
     ]
    },
    {
     "name": "stderr",
     "output_type": "stream",
     "text": [
      "c:\\Users\\felix\\Programmieren\\districtgenerator\\.venv\\Lib\\site-packages\\teaser\\logic\\buildingobjects\\useconditions.py:363: FutureWarning: 'H' is deprecated and will be removed in a future version, please use 'h' instead.\n",
      "  index=pd.date_range(\"2019-01-01 00:00:00\", periods=8760, freq=\"H\")\n",
      "c:\\Users\\felix\\Programmieren\\districtgenerator\\.venv\\Lib\\site-packages\\teaser\\logic\\buildingobjects\\useconditions.py:363: FutureWarning: 'H' is deprecated and will be removed in a future version, please use 'h' instead.\n",
      "  index=pd.date_range(\"2019-01-01 00:00:00\", periods=8760, freq=\"H\")\n"
     ]
    },
    {
     "name": "stdout",
     "output_type": "stream",
     "text": [
      "Creating building MFH\n",
      "Creating building MFH\n",
      "Creating building MFH\n"
     ]
    },
    {
     "name": "stderr",
     "output_type": "stream",
     "text": [
      "c:\\Users\\felix\\Programmieren\\districtgenerator\\.venv\\Lib\\site-packages\\teaser\\logic\\buildingobjects\\useconditions.py:363: FutureWarning: 'H' is deprecated and will be removed in a future version, please use 'h' instead.\n",
      "  index=pd.date_range(\"2019-01-01 00:00:00\", periods=8760, freq=\"H\")\n",
      "c:\\Users\\felix\\Programmieren\\districtgenerator\\.venv\\Lib\\site-packages\\teaser\\logic\\buildingobjects\\useconditions.py:363: FutureWarning: 'H' is deprecated and will be removed in a future version, please use 'h' instead.\n",
      "  index=pd.date_range(\"2019-01-01 00:00:00\", periods=8760, freq=\"H\")\n",
      "c:\\Users\\felix\\Programmieren\\districtgenerator\\.venv\\Lib\\site-packages\\teaser\\logic\\buildingobjects\\useconditions.py:363: FutureWarning: 'H' is deprecated and will be removed in a future version, please use 'h' instead.\n",
      "  index=pd.date_range(\"2019-01-01 00:00:00\", periods=8760, freq=\"H\")\n"
     ]
    },
    {
     "name": "stdout",
     "output_type": "stream",
     "text": [
      "Creating building MFH\n",
      "Creating building MFH\n",
      "Creating building MFH\n"
     ]
    },
    {
     "name": "stderr",
     "output_type": "stream",
     "text": [
      "c:\\Users\\felix\\Programmieren\\districtgenerator\\.venv\\Lib\\site-packages\\teaser\\logic\\buildingobjects\\useconditions.py:363: FutureWarning: 'H' is deprecated and will be removed in a future version, please use 'h' instead.\n",
      "  index=pd.date_range(\"2019-01-01 00:00:00\", periods=8760, freq=\"H\")\n",
      "c:\\Users\\felix\\Programmieren\\districtgenerator\\.venv\\Lib\\site-packages\\teaser\\logic\\buildingobjects\\useconditions.py:363: FutureWarning: 'H' is deprecated and will be removed in a future version, please use 'h' instead.\n",
      "  index=pd.date_range(\"2019-01-01 00:00:00\", periods=8760, freq=\"H\")\n",
      "c:\\Users\\felix\\Programmieren\\districtgenerator\\.venv\\Lib\\site-packages\\teaser\\logic\\buildingobjects\\useconditions.py:363: FutureWarning: 'H' is deprecated and will be removed in a future version, please use 'h' instead.\n",
      "  index=pd.date_range(\"2019-01-01 00:00:00\", periods=8760, freq=\"H\")\n"
     ]
    },
    {
     "name": "stdout",
     "output_type": "stream",
     "text": [
      "Creating building MFH\n",
      "Creating building MFH\n",
      "Creating building MFH\n",
      "Creating building MFH\n"
     ]
    },
    {
     "name": "stderr",
     "output_type": "stream",
     "text": [
      "c:\\Users\\felix\\Programmieren\\districtgenerator\\.venv\\Lib\\site-packages\\teaser\\logic\\buildingobjects\\useconditions.py:363: FutureWarning: 'H' is deprecated and will be removed in a future version, please use 'h' instead.\n",
      "  index=pd.date_range(\"2019-01-01 00:00:00\", periods=8760, freq=\"H\")\n",
      "c:\\Users\\felix\\Programmieren\\districtgenerator\\.venv\\Lib\\site-packages\\teaser\\logic\\buildingobjects\\useconditions.py:363: FutureWarning: 'H' is deprecated and will be removed in a future version, please use 'h' instead.\n",
      "  index=pd.date_range(\"2019-01-01 00:00:00\", periods=8760, freq=\"H\")\n",
      "c:\\Users\\felix\\Programmieren\\districtgenerator\\.venv\\Lib\\site-packages\\teaser\\logic\\buildingobjects\\useconditions.py:363: FutureWarning: 'H' is deprecated and will be removed in a future version, please use 'h' instead.\n",
      "  index=pd.date_range(\"2019-01-01 00:00:00\", periods=8760, freq=\"H\")\n",
      "c:\\Users\\felix\\Programmieren\\districtgenerator\\.venv\\Lib\\site-packages\\teaser\\logic\\buildingobjects\\useconditions.py:363: FutureWarning: 'H' is deprecated and will be removed in a future version, please use 'h' instead.\n",
      "  index=pd.date_range(\"2019-01-01 00:00:00\", periods=8760, freq=\"H\")\n"
     ]
    },
    {
     "name": "stdout",
     "output_type": "stream",
     "text": [
      "Creating building IWU Health and Care\n",
      "We are about to generate a Non Residential building.\n",
      "Available building types: ['IWU Office, Administrative or Government Buildings', 'IWU Research and University Teaching', 'IWU Health and Care', 'IWU School, Day Nursery and other Care', 'IWU Culture and Leisure', 'IWU Sports Facilities', 'IWU Hotels, Boarding, Restaurants or Catering', 'IWU Production, Workshop, Warehouse or Operations', 'IWU Trade Buildings', 'IWU Technical and Utility (supply and disposal)', 'IWU Transport', 'IWU Generalized (1) Services building', 'IWU Generalized (2) Production buildings']\n",
      "Current usage: IWU Health and Care\n",
      "Creating building MFH\n",
      "Creating building MFH\n"
     ]
    },
    {
     "name": "stderr",
     "output_type": "stream",
     "text": [
      "c:\\Users\\felix\\Programmieren\\districtgenerator\\.venv\\Lib\\site-packages\\teaser\\logic\\buildingobjects\\useconditions.py:363: FutureWarning: 'H' is deprecated and will be removed in a future version, please use 'h' instead.\n",
      "  index=pd.date_range(\"2019-01-01 00:00:00\", periods=8760, freq=\"H\")\n",
      "c:\\Users\\felix\\Programmieren\\districtgenerator\\.venv\\Lib\\site-packages\\teaser\\logic\\buildingobjects\\useconditions.py:363: FutureWarning: 'H' is deprecated and will be removed in a future version, please use 'h' instead.\n",
      "  index=pd.date_range(\"2019-01-01 00:00:00\", periods=8760, freq=\"H\")\n"
     ]
    },
    {
     "name": "stdout",
     "output_type": "stream",
     "text": [
      "Creating building MFH\n",
      "Creating building MFH\n",
      "Creating building MFH\n",
      "Creating building AB\n"
     ]
    },
    {
     "name": "stderr",
     "output_type": "stream",
     "text": [
      "c:\\Users\\felix\\Programmieren\\districtgenerator\\.venv\\Lib\\site-packages\\teaser\\logic\\buildingobjects\\useconditions.py:363: FutureWarning: 'H' is deprecated and will be removed in a future version, please use 'h' instead.\n",
      "  index=pd.date_range(\"2019-01-01 00:00:00\", periods=8760, freq=\"H\")\n",
      "c:\\Users\\felix\\Programmieren\\districtgenerator\\.venv\\Lib\\site-packages\\teaser\\logic\\buildingobjects\\useconditions.py:363: FutureWarning: 'H' is deprecated and will be removed in a future version, please use 'h' instead.\n",
      "  index=pd.date_range(\"2019-01-01 00:00:00\", periods=8760, freq=\"H\")\n",
      "c:\\Users\\felix\\Programmieren\\districtgenerator\\.venv\\Lib\\site-packages\\teaser\\logic\\buildingobjects\\useconditions.py:363: FutureWarning: 'H' is deprecated and will be removed in a future version, please use 'h' instead.\n",
      "  index=pd.date_range(\"2019-01-01 00:00:00\", periods=8760, freq=\"H\")\n",
      "c:\\Users\\felix\\Programmieren\\districtgenerator\\.venv\\Lib\\site-packages\\teaser\\logic\\buildingobjects\\useconditions.py:363: FutureWarning: 'H' is deprecated and will be removed in a future version, please use 'h' instead.\n",
      "  index=pd.date_range(\"2019-01-01 00:00:00\", periods=8760, freq=\"H\")\n"
     ]
    },
    {
     "name": "stdout",
     "output_type": "stream",
     "text": [
      "Creating building IWU Health and Care\n",
      "We are about to generate a Non Residential building.\n",
      "Available building types: ['IWU Office, Administrative or Government Buildings', 'IWU Research and University Teaching', 'IWU Health and Care', 'IWU School, Day Nursery and other Care', 'IWU Culture and Leisure', 'IWU Sports Facilities', 'IWU Hotels, Boarding, Restaurants or Catering', 'IWU Production, Workshop, Warehouse or Operations', 'IWU Trade Buildings', 'IWU Technical and Utility (supply and disposal)', 'IWU Transport', 'IWU Generalized (1) Services building', 'IWU Generalized (2) Production buildings']\n",
      "Current usage: IWU Health and Care\n",
      "Creating building AB\n",
      "Creating building MFH\n"
     ]
    },
    {
     "name": "stderr",
     "output_type": "stream",
     "text": [
      "c:\\Users\\felix\\Programmieren\\districtgenerator\\.venv\\Lib\\site-packages\\teaser\\logic\\buildingobjects\\useconditions.py:363: FutureWarning: 'H' is deprecated and will be removed in a future version, please use 'h' instead.\n",
      "  index=pd.date_range(\"2019-01-01 00:00:00\", periods=8760, freq=\"H\")\n",
      "c:\\Users\\felix\\Programmieren\\districtgenerator\\.venv\\Lib\\site-packages\\teaser\\logic\\buildingobjects\\useconditions.py:363: FutureWarning: 'H' is deprecated and will be removed in a future version, please use 'h' instead.\n",
      "  index=pd.date_range(\"2019-01-01 00:00:00\", periods=8760, freq=\"H\")\n",
      "c:\\Users\\felix\\Programmieren\\districtgenerator\\.venv\\Lib\\site-packages\\teaser\\logic\\buildingobjects\\useconditions.py:363: FutureWarning: 'H' is deprecated and will be removed in a future version, please use 'h' instead.\n",
      "  index=pd.date_range(\"2019-01-01 00:00:00\", periods=8760, freq=\"H\")\n"
     ]
    },
    {
     "name": "stdout",
     "output_type": "stream",
     "text": [
      "Creating building AB\n",
      "Creating building MFH\n",
      "Creating building AB\n"
     ]
    },
    {
     "name": "stderr",
     "output_type": "stream",
     "text": [
      "c:\\Users\\felix\\Programmieren\\districtgenerator\\.venv\\Lib\\site-packages\\teaser\\logic\\buildingobjects\\useconditions.py:363: FutureWarning: 'H' is deprecated and will be removed in a future version, please use 'h' instead.\n",
      "  index=pd.date_range(\"2019-01-01 00:00:00\", periods=8760, freq=\"H\")\n",
      "c:\\Users\\felix\\Programmieren\\districtgenerator\\.venv\\Lib\\site-packages\\teaser\\logic\\buildingobjects\\useconditions.py:363: FutureWarning: 'H' is deprecated and will be removed in a future version, please use 'h' instead.\n",
      "  index=pd.date_range(\"2019-01-01 00:00:00\", periods=8760, freq=\"H\")\n"
     ]
    },
    {
     "name": "stdout",
     "output_type": "stream",
     "text": [
      "Creating building AB\n",
      "The folder already exists. Will overwrite existing files.\n"
     ]
    },
    {
     "name": "stderr",
     "output_type": "stream",
     "text": [
      "c:\\Users\\felix\\Programmieren\\districtgenerator\\.venv\\Lib\\site-packages\\teaser\\logic\\buildingobjects\\useconditions.py:363: FutureWarning: 'H' is deprecated and will be removed in a future version, please use 'h' instead.\n",
      "  index=pd.date_range(\"2019-01-01 00:00:00\", periods=8760, freq=\"H\")\n"
     ]
    },
    {
     "name": "stdout",
     "output_type": "stream",
     "text": [
      "Calculate demands of building 0_AB_63_0\n",
      "Save heating profile of building 0_AB_63_0 in None\n",
      "Calculate demands of building 1_AB_65_0\n",
      "Save heating profile of building 1_AB_65_0 in None\n",
      "No data about TEK available for Verkehrsgebäude\n",
      "No data about annual dhw consumption available for building type: IWU Transport. DHW demand is set to zero.\n",
      "Calculate demands of building 2_IWU Transport_[2]_0\n",
      "Save heating profile of building 2_IWU Transport_[2]_0 in None\n",
      "Calculate demands of building 3_AB_15_0\n",
      "Save heating profile of building 3_AB_15_0 in None\n",
      "Calculate demands of building 4_AB_45_0\n",
      "Save heating profile of building 4_AB_45_0 in None\n",
      "Calculate demands of building 5_AB_43_0\n",
      "Save heating profile of building 5_AB_43_0 in None\n",
      "Calculate demands of building 6_AB_47_0\n",
      "Save heating profile of building 6_AB_47_0 in None\n",
      "No data about TEK available for Verkehrsgebäude\n",
      "No data about annual dhw consumption available for building type: IWU Transport. DHW demand is set to zero.\n",
      "Calculate demands of building 7_IWU Transport_[3]_0\n",
      "Save heating profile of building 7_IWU Transport_[3]_0 in None\n",
      "Calculate demands of building 8_IWU Technical and Utility (supply and disposal)_[1]_0\n",
      "Save heating profile of building 8_IWU Technical and Utility (supply and disposal)_[1]_0 in None\n",
      "Calculate demands of building 9_AB_13_0\n",
      "Save heating profile of building 9_AB_13_0 in None\n",
      "Calculate demands of building 10_AB_41_0\n",
      "Save heating profile of building 10_AB_41_0 in None\n",
      "Calculate demands of building 11_AB_21_0\n",
      "Save heating profile of building 11_AB_21_0 in None\n",
      "Internal gains are negative. Setting to zero.\n",
      "Occupancy gains: 137594.81221552222\n",
      "Lighting gains: 2958.9300000000003\n",
      "Appliance gains: -209689.21916146472\n",
      "Total gains: -69135.47694594256\n",
      "Calculate demands of building 12_IWU Trade Buildings_[11]_0\n",
      "Save heating profile of building 12_IWU Trade Buildings_[11]_0 in None\n",
      "Calculate demands of building 13_AB_62_0\n",
      "Save heating profile of building 13_AB_62_0 in None\n",
      "Calculate demands of building 14_AB_21_0\n",
      "Save heating profile of building 14_AB_21_0 in None\n",
      "Calculate demands of building 15_AB_72_0\n",
      "Save heating profile of building 15_AB_72_0 in None\n",
      "Calculate demands of building 16_AB_63_0\n",
      "Save heating profile of building 16_AB_63_0 in None\n",
      "Calculate demands of building 17_IWU Culture and Leisure_[862]_0\n",
      "Save heating profile of building 17_IWU Culture and Leisure_[862]_0 in None\n",
      "Calculate demands of building 18_AB_60_0\n",
      "Save heating profile of building 18_AB_60_0 in None\n",
      "Calculate demands of building 19_AB_46_0\n",
      "Save heating profile of building 19_AB_46_0 in None\n",
      "Calculate demands of building 20_AB_73_0\n",
      "Save heating profile of building 20_AB_73_0 in None\n",
      "Calculate demands of building 21_AB_38_0\n",
      "Save heating profile of building 21_AB_38_0 in None\n",
      "Calculate demands of building 22_AB_11_0\n",
      "Save heating profile of building 22_AB_11_0 in None\n",
      "Calculate demands of building 23_AB_64_0\n",
      "Save heating profile of building 23_AB_64_0 in None\n",
      "Calculate demands of building 24_AB_72_0\n",
      "Save heating profile of building 24_AB_72_0 in None\n",
      "Calculate demands of building 25_AB_49_0\n",
      "Save heating profile of building 25_AB_49_0 in None\n",
      "Calculate demands of building 26_AB_21_0\n",
      "Save heating profile of building 26_AB_21_0 in None\n",
      "Calculate demands of building 27_AB_44_0\n",
      "Save heating profile of building 27_AB_44_0 in None\n",
      "Calculate demands of building 28_AB_65_0\n",
      "Save heating profile of building 28_AB_65_0 in None\n",
      "Calculate demands of building 29_AB_67_0\n",
      "Save heating profile of building 29_AB_67_0 in None\n",
      "Calculate demands of building 30_AB_74_0\n",
      "Save heating profile of building 30_AB_74_0 in None\n",
      "Calculate demands of building 31_AB_71_0\n",
      "Save heating profile of building 31_AB_71_0 in None\n",
      "Calculate demands of building 32_AB_17_0\n",
      "Save heating profile of building 32_AB_17_0 in None\n",
      "Calculate demands of building 33_IWU Sports Facilities_[4181]_0\n",
      "Save heating profile of building 33_IWU Sports Facilities_[4181]_0 in None\n",
      "Calculate demands of building 34_SFH_1_0\n",
      "Save heating profile of building 34_SFH_1_0 in None\n",
      "Calculate demands of building 35_AB_28_0\n",
      "Save heating profile of building 35_AB_28_0 in None\n",
      "Calculate demands of building 36_IWU Health and Care_[263]_0\n",
      "Save heating profile of building 36_IWU Health and Care_[263]_0 in None\n",
      "Calculate demands of building 37_AB_64_0\n",
      "Save heating profile of building 37_AB_64_0 in None\n",
      "Calculate demands of building 38_AB_24_0\n",
      "Save heating profile of building 38_AB_24_0 in None\n",
      "Calculate demands of building 39_AB_15_0\n",
      "Save heating profile of building 39_AB_15_0 in None\n",
      "Calculate demands of building 40_AB_95_0\n",
      "Save heating profile of building 40_AB_95_0 in None\n",
      "Calculate demands of building 41_AB_72_0\n",
      "Save heating profile of building 41_AB_72_0 in None\n",
      "Calculate demands of building 42_AB_18_0\n",
      "Save heating profile of building 42_AB_18_0 in None\n",
      "Calculate demands of building 43_AB_69_0\n",
      "Save heating profile of building 43_AB_69_0 in None\n",
      "Calculate demands of building 44_AB_31_0\n",
      "Save heating profile of building 44_AB_31_0 in None\n",
      "Calculate demands of building 45_AB_47_0\n",
      "Save heating profile of building 45_AB_47_0 in None\n",
      "Calculate demands of building 46_AB_50_0\n",
      "Save heating profile of building 46_AB_50_0 in None\n",
      "Calculate demands of building 47_AB_67_0\n",
      "Save heating profile of building 47_AB_67_0 in None\n",
      "Calculate demands of building 48_AB_60_0\n",
      "Save heating profile of building 48_AB_60_0 in None\n",
      "Calculate demands of building 49_AB_25_0\n",
      "Save heating profile of building 49_AB_25_0 in None\n",
      "Calculate demands of building 50_AB_101_0\n",
      "Save heating profile of building 50_AB_101_0 in None\n",
      "Calculate demands of building 51_AB_76_0\n",
      "Save heating profile of building 51_AB_76_0 in None\n",
      "Calculate demands of building 52_AB_42_0\n",
      "Save heating profile of building 52_AB_42_0 in None\n",
      "Calculate demands of building 53_AB_81_0\n",
      "Save heating profile of building 53_AB_81_0 in None\n",
      "Calculate demands of building 54_AB_87_0\n",
      "Save heating profile of building 54_AB_87_0 in None\n",
      "Calculate demands of building 55_AB_39_0\n",
      "Save heating profile of building 55_AB_39_0 in None\n",
      "Calculate demands of building 56_AB_83_0\n",
      "Save heating profile of building 56_AB_83_0 in None\n",
      "Calculate demands of building 57_TH_1_0\n",
      "Save heating profile of building 57_TH_1_0 in None\n",
      "Calculate demands of building 58_AB_34_0\n",
      "Save heating profile of building 58_AB_34_0 in None\n",
      "No data about TEK available for Verkehrsgebäude\n",
      "No data about annual dhw consumption available for building type: IWU Transport. DHW demand is set to zero.\n",
      "Calculate demands of building 59_IWU Transport_[51]_0\n",
      "Save heating profile of building 59_IWU Transport_[51]_0 in None\n",
      "Calculate demands of building 60_AB_53_0\n",
      "Save heating profile of building 60_AB_53_0 in None\n",
      "Calculate demands of building 61_AB_39_0\n",
      "Save heating profile of building 61_AB_39_0 in None\n",
      "Calculate demands of building 62_AB_15_0\n",
      "Save heating profile of building 62_AB_15_0 in None\n",
      "Calculate demands of building 63_AB_36_0\n",
      "Save heating profile of building 63_AB_36_0 in None\n",
      "Calculate demands of building 64_AB_25_0\n",
      "Save heating profile of building 64_AB_25_0 in None\n",
      "Calculate demands of building 65_AB_18_0\n",
      "Save heating profile of building 65_AB_18_0 in None\n",
      "Calculate demands of building 66_AB_66_0\n",
      "Save heating profile of building 66_AB_66_0 in None\n",
      "No data about TEK available for Verkehrsgebäude\n",
      "No data about annual dhw consumption available for building type: IWU Transport. DHW demand is set to zero.\n",
      "Calculate demands of building 67_IWU Transport_[3]_0\n",
      "Save heating profile of building 67_IWU Transport_[3]_0 in None\n",
      "Calculate demands of building 68_AB_18_0\n",
      "Save heating profile of building 68_AB_18_0 in None\n",
      "Calculate demands of building 69_AB_25_0\n",
      "Save heating profile of building 69_AB_25_0 in None\n",
      "Calculate demands of building 70_AB_78_0\n",
      "Save heating profile of building 70_AB_78_0 in None\n",
      "No data about TEK available for Verkehrsgebäude\n",
      "No data about annual dhw consumption available for building type: IWU Transport. DHW demand is set to zero.\n",
      "Calculate demands of building 71_IWU Transport_[5]_0\n",
      "Save heating profile of building 71_IWU Transport_[5]_0 in None\n",
      "Calculate demands of building 72_AB_54_0\n",
      "Save heating profile of building 72_AB_54_0 in None\n",
      "Calculate demands of building 73_AB_22_0\n",
      "Save heating profile of building 73_AB_22_0 in None\n",
      "Calculate demands of building 74_AB_36_0\n",
      "Save heating profile of building 74_AB_36_0 in None\n",
      "Calculate demands of building 75_AB_55_0\n",
      "Save heating profile of building 75_AB_55_0 in None\n",
      "Calculate demands of building 76_AB_26_0\n",
      "Save heating profile of building 76_AB_26_0 in None\n",
      "Calculate demands of building 77_AB_14_0\n",
      "Save heating profile of building 77_AB_14_0 in None\n",
      "Calculate demands of building 78_IWU Hotels, Boarding, Restaurants or Catering_[209]_0\n",
      "Save heating profile of building 78_IWU Hotels, Boarding, Restaurants or Catering_[209]_0 in None\n",
      "Calculate demands of building 79_AB_59_0\n",
      "Save heating profile of building 79_AB_59_0 in None\n",
      "No data about TEK available for Verkehrsgebäude\n",
      "No data about annual dhw consumption available for building type: IWU Transport. DHW demand is set to zero.\n",
      "Calculate demands of building 80_IWU Transport_[6]_0\n",
      "Save heating profile of building 80_IWU Transport_[6]_0 in None\n",
      "Calculate demands of building 81_AB_61_0\n",
      "Save heating profile of building 81_AB_61_0 in None\n",
      "No data about TEK available for Verkehrsgebäude\n",
      "No data about annual dhw consumption available for building type: IWU Transport. DHW demand is set to zero.\n",
      "Calculate demands of building 82_IWU Transport_[5]_0\n",
      "Save heating profile of building 82_IWU Transport_[5]_0 in None\n",
      "Calculate demands of building 83_AB_47_0\n",
      "Save heating profile of building 83_AB_47_0 in None\n",
      "Calculate demands of building 84_AB_46_0\n",
      "Save heating profile of building 84_AB_46_0 in None\n",
      "Calculate demands of building 85_AB_43_0\n",
      "Save heating profile of building 85_AB_43_0 in None\n",
      "No data about TEK available for Verkehrsgebäude\n",
      "No data about annual dhw consumption available for building type: IWU Transport. DHW demand is set to zero.\n",
      "Calculate demands of building 86_IWU Transport_[3]_0\n",
      "Save heating profile of building 86_IWU Transport_[3]_0 in None\n",
      "Calculate demands of building 87_AB_22_0\n",
      "Save heating profile of building 87_AB_22_0 in None\n",
      "Calculate demands of building 88_AB_33_0\n",
      "Save heating profile of building 88_AB_33_0 in None\n",
      "Calculate demands of building 89_AB_79_0\n",
      "Save heating profile of building 89_AB_79_0 in None\n",
      "Calculate demands of building 90_AB_47_0\n",
      "Save heating profile of building 90_AB_47_0 in None\n",
      "Calculate demands of building 91_AB_52_0\n",
      "Save heating profile of building 91_AB_52_0 in None\n",
      "Calculate demands of building 92_AB_60_0\n",
      "Save heating profile of building 92_AB_60_0 in None\n",
      "Calculate demands of building 93_AB_50_0\n",
      "Save heating profile of building 93_AB_50_0 in None\n",
      "Calculate demands of building 94_AB_74_0\n",
      "Save heating profile of building 94_AB_74_0 in None\n",
      "Calculate demands of building 95_AB_36_0\n",
      "Save heating profile of building 95_AB_36_0 in None\n",
      "Calculate demands of building 96_AB_51_0\n",
      "Save heating profile of building 96_AB_51_0 in None\n",
      "Calculate demands of building 97_AB_65_0\n",
      "Save heating profile of building 97_AB_65_0 in None\n",
      "Calculate demands of building 98_AB_65_0\n",
      "Save heating profile of building 98_AB_65_0 in None\n",
      "Calculate demands of building 99_AB_11_0\n",
      "Save heating profile of building 99_AB_11_0 in None\n",
      "Calculate demands of building 100_AB_29_0\n",
      "Save heating profile of building 100_AB_29_0 in None\n",
      "Calculate demands of building 101_IWU School, Day Nursery and other Care_[3758]_0\n",
      "Save heating profile of building 101_IWU School, Day Nursery and other Care_[3758]_0 in None\n",
      "Calculate demands of building 102_AB_54_0\n",
      "Save heating profile of building 102_AB_54_0 in None\n",
      "Calculate demands of building 103_AB_38_0\n",
      "Save heating profile of building 103_AB_38_0 in None\n",
      "Calculate demands of building 104_AB_12_0\n",
      "Save heating profile of building 104_AB_12_0 in None\n",
      "Calculate demands of building 105_AB_22_0\n",
      "Save heating profile of building 105_AB_22_0 in None\n",
      "Calculate demands of building 106_AB_14_0\n",
      "Save heating profile of building 106_AB_14_0 in None\n",
      "No data about TEK available for Verkehrsgebäude\n",
      "No data about annual dhw consumption available for building type: IWU Transport. DHW demand is set to zero.\n",
      "Calculate demands of building 107_IWU Transport_[5]_0\n",
      "Save heating profile of building 107_IWU Transport_[5]_0 in None\n",
      "Calculate demands of building 108_AB_41_0\n",
      "Save heating profile of building 108_AB_41_0 in None\n",
      "Calculate demands of building 109_AB_58_0\n",
      "Save heating profile of building 109_AB_58_0 in None\n",
      "Calculate demands of building 110_AB_27_0\n",
      "Save heating profile of building 110_AB_27_0 in None\n",
      "Calculate demands of building 111_AB_60_0\n",
      "Save heating profile of building 111_AB_60_0 in None\n",
      "Calculate demands of building 112_AB_67_0\n",
      "Save heating profile of building 112_AB_67_0 in None\n",
      "Calculate demands of building 113_AB_29_0\n",
      "Save heating profile of building 113_AB_29_0 in None\n",
      "Calculate demands of building 114_AB_39_0\n",
      "Save heating profile of building 114_AB_39_0 in None\n",
      "Internal gains are negative. Setting to zero.\n",
      "Occupancy gains: 137594.81221552222\n",
      "Lighting gains: 2958.9300000000003\n",
      "Appliance gains: -209689.21916146472\n",
      "Total gains: -69135.47694594256\n",
      "Calculate demands of building 115_IWU Trade Buildings_[39]_0\n",
      "Save heating profile of building 115_IWU Trade Buildings_[39]_0 in None\n",
      "Calculate demands of building 116_AB_46_0\n",
      "Save heating profile of building 116_AB_46_0 in None\n",
      "Calculate demands of building 117_AB_38_0\n",
      "Save heating profile of building 117_AB_38_0 in None\n",
      "Calculate demands of building 118_AB_18_0\n",
      "Save heating profile of building 118_AB_18_0 in None\n",
      "Calculate demands of building 119_AB_29_0\n",
      "Save heating profile of building 119_AB_29_0 in None\n",
      "Calculate demands of building 120_AB_15_0\n",
      "Save heating profile of building 120_AB_15_0 in None\n",
      "Calculate demands of building 121_AB_14_0\n",
      "Save heating profile of building 121_AB_14_0 in None\n",
      "Calculate demands of building 122_AB_53_0\n",
      "Save heating profile of building 122_AB_53_0 in None\n",
      "Calculate demands of building 123_IWU School, Day Nursery and other Care_[14654]_0\n",
      "Save heating profile of building 123_IWU School, Day Nursery and other Care_[14654]_0 in None\n",
      "Calculate demands of building 124_AB_12_0\n",
      "Save heating profile of building 124_AB_12_0 in None\n",
      "Calculate demands of building 125_AB_43_0\n",
      "Save heating profile of building 125_AB_43_0 in None\n",
      "Calculate demands of building 126_AB_70_0\n",
      "Save heating profile of building 126_AB_70_0 in None\n",
      "Calculate demands of building 127_IWU Research and University Teaching_[9518]_0\n",
      "Save heating profile of building 127_IWU Research and University Teaching_[9518]_0 in None\n",
      "Calculate demands of building 128_AB_41_0\n",
      "Save heating profile of building 128_AB_41_0 in None\n",
      "Calculate demands of building 129_AB_53_0\n",
      "Save heating profile of building 129_AB_53_0 in None\n",
      "Calculate demands of building 130_AB_63_0\n",
      "Save heating profile of building 130_AB_63_0 in None\n",
      "Calculate demands of building 131_AB_10_0\n",
      "Save heating profile of building 131_AB_10_0 in None\n",
      "Calculate demands of building 132_AB_20_0\n",
      "Save heating profile of building 132_AB_20_0 in None\n",
      "Calculate demands of building 133_AB_48_0\n",
      "Save heating profile of building 133_AB_48_0 in None\n",
      "Calculate demands of building 134_AB_48_0\n",
      "Save heating profile of building 134_AB_48_0 in None\n",
      "Calculate demands of building 135_AB_42_0\n",
      "Save heating profile of building 135_AB_42_0 in None\n",
      "Calculate demands of building 136_AB_20_0\n",
      "Save heating profile of building 136_AB_20_0 in None\n",
      "Calculate demands of building 137_AB_46_0\n",
      "Save heating profile of building 137_AB_46_0 in None\n",
      "Calculate demands of building 138_AB_19_0\n",
      "Save heating profile of building 138_AB_19_0 in None\n",
      "Calculate demands of building 139_AB_83_0\n",
      "Save heating profile of building 139_AB_83_0 in None\n",
      "Calculate demands of building 140_AB_20_0\n",
      "Save heating profile of building 140_AB_20_0 in None\n",
      "Calculate demands of building 141_AB_77_0\n",
      "Save heating profile of building 141_AB_77_0 in None\n",
      "Calculate demands of building 142_AB_51_0\n",
      "Save heating profile of building 142_AB_51_0 in None\n",
      "Calculate demands of building 143_AB_11_0\n",
      "Save heating profile of building 143_AB_11_0 in None\n",
      "Calculate demands of building 144_AB_10_0\n",
      "Save heating profile of building 144_AB_10_0 in None\n",
      "Calculate demands of building 145_AB_18_0\n",
      "Save heating profile of building 145_AB_18_0 in None\n",
      "Calculate demands of building 146_AB_47_0\n",
      "Save heating profile of building 146_AB_47_0 in None\n",
      "Calculate demands of building 147_IWU Culture and Leisure_[1363]_0\n",
      "Save heating profile of building 147_IWU Culture and Leisure_[1363]_0 in None\n",
      "Calculate demands of building 148_AB_65_0\n",
      "Save heating profile of building 148_AB_65_0 in None\n",
      "Calculate demands of building 149_AB_34_0\n",
      "Save heating profile of building 149_AB_34_0 in None\n",
      "Calculate demands of building 150_AB_29_0\n",
      "Save heating profile of building 150_AB_29_0 in None\n",
      "Calculate demands of building 151_IWU Research and University Teaching_[26]_0\n",
      "Save heating profile of building 151_IWU Research and University Teaching_[26]_0 in None\n",
      "Calculate demands of building 152_AB_14_0\n",
      "Save heating profile of building 152_AB_14_0 in None\n",
      "Calculate demands of building 153_AB_54_0\n",
      "Save heating profile of building 153_AB_54_0 in None\n",
      "Calculate demands of building 154_AB_47_0\n",
      "Save heating profile of building 154_AB_47_0 in None\n",
      "Calculate demands of building 155_AB_49_0\n",
      "Save heating profile of building 155_AB_49_0 in None\n",
      "Calculate demands of building 156_IWU Office, Administrative or Government Buildings_[2048]_0\n",
      "Save heating profile of building 156_IWU Office, Administrative or Government Buildings_[2048]_0 in None\n",
      "Calculate demands of building 157_AB_60_0\n",
      "Save heating profile of building 157_AB_60_0 in None\n",
      "Calculate demands of building 158_AB_76_0\n",
      "Save heating profile of building 158_AB_76_0 in None\n",
      "Calculate demands of building 159_AB_109_0\n",
      "Save heating profile of building 159_AB_109_0 in None\n",
      "Calculate demands of building 160_AB_36_0\n",
      "Save heating profile of building 160_AB_36_0 in None\n",
      "Calculate demands of building 161_AB_415_0\n",
      "Save heating profile of building 161_AB_415_0 in None\n",
      "Calculate demands of building 162_AB_38_0\n",
      "Save heating profile of building 162_AB_38_0 in None\n",
      "Calculate demands of building 163_AB_53_0\n",
      "Save heating profile of building 163_AB_53_0 in None\n",
      "Calculate demands of building 164_IWU School, Day Nursery and other Care_[2025]_0\n",
      "Save heating profile of building 164_IWU School, Day Nursery and other Care_[2025]_0 in None\n",
      "Calculate demands of building 165_AB_24_0\n",
      "Save heating profile of building 165_AB_24_0 in None\n",
      "Calculate demands of building 166_IWU School, Day Nursery and other Care_[30]_0\n",
      "Save heating profile of building 166_IWU School, Day Nursery and other Care_[30]_0 in None\n",
      "Calculate demands of building 167_AB_19_0\n",
      "Save heating profile of building 167_AB_19_0 in None\n",
      "No data about TEK available for Verkehrsgebäude\n",
      "No data about annual dhw consumption available for building type: IWU Transport. DHW demand is set to zero.\n",
      "Calculate demands of building 168_IWU Transport_[15]_0\n",
      "Save heating profile of building 168_IWU Transport_[15]_0 in None\n",
      "Calculate demands of building 169_AB_53_0\n",
      "Save heating profile of building 169_AB_53_0 in None\n",
      "Calculate demands of building 170_AB_56_0\n",
      "Save heating profile of building 170_AB_56_0 in None\n",
      "Calculate demands of building 171_AB_68_0\n",
      "Save heating profile of building 171_AB_68_0 in None\n",
      "Calculate demands of building 172_AB_65_0\n",
      "Save heating profile of building 172_AB_65_0 in None\n",
      "No data about TEK available for Verkehrsgebäude\n",
      "No data about annual dhw consumption available for building type: IWU Transport. DHW demand is set to zero.\n",
      "Calculate demands of building 173_IWU Transport_[77]_0\n",
      "Save heating profile of building 173_IWU Transport_[77]_0 in None\n",
      "Calculate demands of building 174_AB_35_0\n",
      "Save heating profile of building 174_AB_35_0 in None\n",
      "Calculate demands of building 175_AB_59_0\n",
      "Save heating profile of building 175_AB_59_0 in None\n",
      "Calculate demands of building 176_AB_48_0\n",
      "Save heating profile of building 176_AB_48_0 in None\n",
      "Calculate demands of building 177_AB_127_0\n",
      "Save heating profile of building 177_AB_127_0 in None\n",
      "Calculate demands of building 178_AB_63_0\n",
      "Save heating profile of building 178_AB_63_0 in None\n",
      "Calculate demands of building 179_AB_207_0\n",
      "Save heating profile of building 179_AB_207_0 in None\n",
      "Calculate demands of building 180_AB_59_0\n",
      "Save heating profile of building 180_AB_59_0 in None\n",
      "Calculate demands of building 181_IWU School, Day Nursery and other Care_[121]_0\n",
      "Save heating profile of building 181_IWU School, Day Nursery and other Care_[121]_0 in None\n",
      "Calculate demands of building 182_AB_39_0\n",
      "Save heating profile of building 182_AB_39_0 in None\n",
      "Calculate demands of building 183_AB_80_0\n",
      "Save heating profile of building 183_AB_80_0 in None\n",
      "No data about TEK available for Verkehrsgebäude\n",
      "No data about annual dhw consumption available for building type: IWU Transport. DHW demand is set to zero.\n",
      "Calculate demands of building 184_IWU Transport_[9]_0\n",
      "Save heating profile of building 184_IWU Transport_[9]_0 in None\n",
      "Calculate demands of building 185_AB_58_0\n",
      "Save heating profile of building 185_AB_58_0 in None\n",
      "Calculate demands of building 186_AB_18_0\n",
      "Save heating profile of building 186_AB_18_0 in None\n",
      "No data about TEK available for Verkehrsgebäude\n",
      "No data about annual dhw consumption available for building type: IWU Transport. DHW demand is set to zero.\n",
      "Calculate demands of building 187_IWU Transport_[49]_0\n",
      "Save heating profile of building 187_IWU Transport_[49]_0 in None\n",
      "Calculate demands of building 188_IWU School, Day Nursery and other Care_[1029]_0\n",
      "Save heating profile of building 188_IWU School, Day Nursery and other Care_[1029]_0 in None\n",
      "Calculate demands of building 189_AB_163_0\n",
      "Save heating profile of building 189_AB_163_0 in None\n",
      "Calculate demands of building 190_IWU Office, Administrative or Government Buildings_[485]_0\n",
      "Save heating profile of building 190_IWU Office, Administrative or Government Buildings_[485]_0 in None\n",
      "Calculate demands of building 191_AB_65_0\n",
      "Save heating profile of building 191_AB_65_0 in None\n",
      "Calculate demands of building 192_AB_284_0\n",
      "Save heating profile of building 192_AB_284_0 in None\n",
      "Calculate demands of building 193_AB_54_0\n",
      "Save heating profile of building 193_AB_54_0 in None\n",
      "Calculate demands of building 194_AB_65_0\n",
      "Save heating profile of building 194_AB_65_0 in None\n",
      "Calculate demands of building 195_AB_31_0\n",
      "Save heating profile of building 195_AB_31_0 in None\n",
      "Calculate demands of building 196_AB_45_0\n",
      "Save heating profile of building 196_AB_45_0 in None\n",
      "Calculate demands of building 197_AB_24_0\n",
      "Save heating profile of building 197_AB_24_0 in None\n",
      "Calculate demands of building 198_IWU Technical and Utility (supply and disposal)_[1]_0\n",
      "Save heating profile of building 198_IWU Technical and Utility (supply and disposal)_[1]_0 in None\n",
      "Calculate demands of building 199_AB_23_0\n",
      "Save heating profile of building 199_AB_23_0 in None\n",
      "Calculate demands of building 200_AB_29_0\n",
      "Save heating profile of building 200_AB_29_0 in None\n",
      "Calculate demands of building 201_AB_97_0\n",
      "Save heating profile of building 201_AB_97_0 in None\n",
      "Calculate demands of building 202_AB_83_0\n",
      "Save heating profile of building 202_AB_83_0 in None\n",
      "Calculate demands of building 203_AB_55_0\n",
      "Save heating profile of building 203_AB_55_0 in None\n",
      "Calculate demands of building 204_IWU School, Day Nursery and other Care_[16546]_0\n",
      "Save heating profile of building 204_IWU School, Day Nursery and other Care_[16546]_0 in None\n",
      "Calculate demands of building 205_AB_194_0\n",
      "Save heating profile of building 205_AB_194_0 in None\n",
      "Calculate demands of building 206_AB_530_0\n",
      "Save heating profile of building 206_AB_530_0 in None\n",
      "Calculate demands of building 207_MFH_4_0\n",
      "Save heating profile of building 207_MFH_4_0 in None\n",
      "Calculate demands of building 208_MFH_74_0\n",
      "Save heating profile of building 208_MFH_74_0 in None\n",
      "Calculate demands of building 209_MFH_12_0\n",
      "Save heating profile of building 209_MFH_12_0 in None\n",
      "No data about TEK available for Verkehrsgebäude\n",
      "No data about annual dhw consumption available for building type: IWU Transport. DHW demand is set to zero.\n",
      "Calculate demands of building 210_IWU Transport_[4]_0\n",
      "Save heating profile of building 210_IWU Transport_[4]_0 in None\n",
      "Calculate demands of building 211_TH_1_0\n",
      "Save heating profile of building 211_TH_1_0 in None\n",
      "Calculate demands of building 212_AB_29_0\n",
      "Save heating profile of building 212_AB_29_0 in None\n",
      "Calculate demands of building 213_MFH_7_0\n",
      "Save heating profile of building 213_MFH_7_0 in None\n",
      "No data about TEK available for Verkehrsgebäude\n",
      "No data about annual dhw consumption available for building type: IWU Transport. DHW demand is set to zero.\n",
      "Calculate demands of building 214_IWU Transport_[2]_0\n",
      "Save heating profile of building 214_IWU Transport_[2]_0 in None\n",
      "Calculate demands of building 215_MFH_39_0\n",
      "Save heating profile of building 215_MFH_39_0 in None\n",
      "Calculate demands of building 216_MFH_260_0\n",
      "Save heating profile of building 216_MFH_260_0 in None\n",
      "Calculate demands of building 217_IWU Office, Administrative or Government Buildings_[541]_0\n",
      "Save heating profile of building 217_IWU Office, Administrative or Government Buildings_[541]_0 in None\n",
      "Calculate demands of building 218_IWU Production, Workshop, Warehouse or Operations_[169]_0\n",
      "Save heating profile of building 218_IWU Production, Workshop, Warehouse or Operations_[169]_0 in None\n",
      "Calculate demands of building 219_MFH_49_0\n",
      "Save heating profile of building 219_MFH_49_0 in None\n",
      "Calculate demands of building 220_AB_24_0\n",
      "Save heating profile of building 220_AB_24_0 in None\n",
      "Calculate demands of building 221_AB_48_0\n",
      "Save heating profile of building 221_AB_48_0 in None\n",
      "Calculate demands of building 222_MFH_4_0\n",
      "Save heating profile of building 222_MFH_4_0 in None\n",
      "Calculate demands of building 223_MFH_26_0\n",
      "Save heating profile of building 223_MFH_26_0 in None\n",
      "Calculate demands of building 224_MFH_73_0\n",
      "Save heating profile of building 224_MFH_73_0 in None\n",
      "Calculate demands of building 225_AB_43_0\n",
      "Save heating profile of building 225_AB_43_0 in None\n",
      "Calculate demands of building 226_AB_165_0\n",
      "Save heating profile of building 226_AB_165_0 in None\n",
      "Calculate demands of building 227_MFH_4_0\n",
      "Save heating profile of building 227_MFH_4_0 in None\n",
      "Calculate demands of building 228_IWU Production, Workshop, Warehouse or Operations_[30]_0\n",
      "Save heating profile of building 228_IWU Production, Workshop, Warehouse or Operations_[30]_0 in None\n",
      "Calculate demands of building 229_MFH_579_0\n",
      "Save heating profile of building 229_MFH_579_0 in None\n",
      "Calculate demands of building 230_AB_46_0\n",
      "Save heating profile of building 230_AB_46_0 in None\n",
      "Calculate demands of building 231_IWU Production, Workshop, Warehouse or Operations_[607]_0\n",
      "Save heating profile of building 231_IWU Production, Workshop, Warehouse or Operations_[607]_0 in None\n",
      "Calculate demands of building 232_MFH_4_0\n",
      "Save heating profile of building 232_MFH_4_0 in None\n",
      "Calculate demands of building 233_MFH_4_0\n",
      "Save heating profile of building 233_MFH_4_0 in None\n",
      "Calculate demands of building 234_MFH_22_0\n",
      "Save heating profile of building 234_MFH_22_0 in None\n",
      "Calculate demands of building 235_MFH_8_0\n",
      "Save heating profile of building 235_MFH_8_0 in None\n",
      "Calculate demands of building 236_MFH_4_0\n",
      "Save heating profile of building 236_MFH_4_0 in None\n",
      "Calculate demands of building 237_MFH_19_0\n",
      "Save heating profile of building 237_MFH_19_0 in None\n",
      "Calculate demands of building 238_MFH_106_0\n",
      "Save heating profile of building 238_MFH_106_0 in None\n",
      "No data about TEK available for Verkehrsgebäude\n",
      "No data about annual dhw consumption available for building type: IWU Transport. DHW demand is set to zero.\n",
      "Calculate demands of building 239_IWU Transport_[23]_0\n",
      "Save heating profile of building 239_IWU Transport_[23]_0 in None\n",
      "Calculate demands of building 240_MFH_4_0\n",
      "Save heating profile of building 240_MFH_4_0 in None\n",
      "Calculate demands of building 241_AB_19_0\n",
      "Save heating profile of building 241_AB_19_0 in None\n",
      "Calculate demands of building 242_AB_67_0\n",
      "Save heating profile of building 242_AB_67_0 in None\n",
      "Calculate demands of building 243_MFH_25_0\n",
      "Save heating profile of building 243_MFH_25_0 in None\n",
      "No data about TEK available for Verkehrsgebäude\n",
      "No data about annual dhw consumption available for building type: IWU Transport. DHW demand is set to zero.\n",
      "Calculate demands of building 244_IWU Transport_[17]_0\n",
      "Save heating profile of building 244_IWU Transport_[17]_0 in None\n",
      "Calculate demands of building 245_AB_88_0\n",
      "Save heating profile of building 245_AB_88_0 in None\n",
      "Calculate demands of building 246_AB_17_0\n",
      "Save heating profile of building 246_AB_17_0 in None\n",
      "Calculate demands of building 247_AB_67_0\n",
      "Save heating profile of building 247_AB_67_0 in None\n",
      "Calculate demands of building 248_MFH_63_0\n",
      "Save heating profile of building 248_MFH_63_0 in None\n",
      "Calculate demands of building 249_AB_14_0\n",
      "Save heating profile of building 249_AB_14_0 in None\n",
      "Calculate demands of building 250_AB_93_0\n",
      "Save heating profile of building 250_AB_93_0 in None\n",
      "Calculate demands of building 251_MFH_74_0\n",
      "Save heating profile of building 251_MFH_74_0 in None\n",
      "Calculate demands of building 252_AB_74_0\n",
      "Save heating profile of building 252_AB_74_0 in None\n",
      "Calculate demands of building 253_AB_18_0\n",
      "Save heating profile of building 253_AB_18_0 in None\n",
      "Calculate demands of building 254_MFH_53_0\n",
      "Save heating profile of building 254_MFH_53_0 in None\n",
      "Calculate demands of building 255_IWU Production, Workshop, Warehouse or Operations_[60]_0\n",
      "Save heating profile of building 255_IWU Production, Workshop, Warehouse or Operations_[60]_0 in None\n",
      "Calculate demands of building 256_MFH_82_0\n",
      "Save heating profile of building 256_MFH_82_0 in None\n",
      "Calculate demands of building 257_IWU Technical and Utility (supply and disposal)_[3]_0\n",
      "Save heating profile of building 257_IWU Technical and Utility (supply and disposal)_[3]_0 in None\n",
      "Calculate demands of building 258_MFH_17_0\n",
      "Save heating profile of building 258_MFH_17_0 in None\n",
      "Calculate demands of building 259_MFH_8_0\n",
      "Save heating profile of building 259_MFH_8_0 in None\n",
      "Calculate demands of building 260_MFH_10_0\n",
      "Save heating profile of building 260_MFH_10_0 in None\n",
      "Calculate demands of building 261_IWU Production, Workshop, Warehouse or Operations_[34]_0\n",
      "Save heating profile of building 261_IWU Production, Workshop, Warehouse or Operations_[34]_0 in None\n",
      "Calculate demands of building 262_IWU Production, Workshop, Warehouse or Operations_[48]_0\n",
      "Save heating profile of building 262_IWU Production, Workshop, Warehouse or Operations_[48]_0 in None\n",
      "Calculate demands of building 263_MFH_83_0\n",
      "Save heating profile of building 263_MFH_83_0 in None\n",
      "Calculate demands of building 264_MFH_109_0\n",
      "Save heating profile of building 264_MFH_109_0 in None\n",
      "Calculate demands of building 265_AB_24_0\n",
      "Save heating profile of building 265_AB_24_0 in None\n",
      "No data about TEK available for Verkehrsgebäude\n",
      "No data about annual dhw consumption available for building type: IWU Transport. DHW demand is set to zero.\n",
      "Calculate demands of building 266_IWU Transport_[188]_0\n",
      "Save heating profile of building 266_IWU Transport_[188]_0 in None\n",
      "Calculate demands of building 267_IWU Production, Workshop, Warehouse or Operations_[48]_0\n",
      "Save heating profile of building 267_IWU Production, Workshop, Warehouse or Operations_[48]_0 in None\n",
      "Calculate demands of building 268_MFH_4_0\n",
      "Save heating profile of building 268_MFH_4_0 in None\n",
      "Calculate demands of building 269_MFH_4_0\n",
      "Save heating profile of building 269_MFH_4_0 in None\n",
      "Calculate demands of building 270_MFH_19_0\n",
      "Save heating profile of building 270_MFH_19_0 in None\n",
      "Calculate demands of building 271_MFH_5_0\n",
      "Save heating profile of building 271_MFH_5_0 in None\n",
      "Calculate demands of building 272_IWU Production, Workshop, Warehouse or Operations_[96]_0\n",
      "Save heating profile of building 272_IWU Production, Workshop, Warehouse or Operations_[96]_0 in None\n",
      "Calculate demands of building 273_MFH_20_0\n",
      "Save heating profile of building 273_MFH_20_0 in None\n",
      "Calculate demands of building 274_MFH_79_0\n",
      "Save heating profile of building 274_MFH_79_0 in None\n",
      "Calculate demands of building 275_AB_77_0\n",
      "Save heating profile of building 275_AB_77_0 in None\n",
      "Calculate demands of building 276_AB_12_0\n",
      "Save heating profile of building 276_AB_12_0 in None\n",
      "Calculate demands of building 277_MFH_68_0\n",
      "Save heating profile of building 277_MFH_68_0 in None\n",
      "Calculate demands of building 278_MFH_13_0\n",
      "Save heating profile of building 278_MFH_13_0 in None\n",
      "Calculate demands of building 279_MFH_4_0\n",
      "Save heating profile of building 279_MFH_4_0 in None\n",
      "Calculate demands of building 280_IWU Production, Workshop, Warehouse or Operations_[66]_0\n",
      "Save heating profile of building 280_IWU Production, Workshop, Warehouse or Operations_[66]_0 in None\n",
      "Calculate demands of building 281_AB_59_0\n",
      "Save heating profile of building 281_AB_59_0 in None\n",
      "Calculate demands of building 282_MFH_115_0\n",
      "Save heating profile of building 282_MFH_115_0 in None\n",
      "Calculate demands of building 283_MFH_63_0\n",
      "Save heating profile of building 283_MFH_63_0 in None\n",
      "Calculate demands of building 284_AB_25_0\n",
      "Save heating profile of building 284_AB_25_0 in None\n",
      "Calculate demands of building 285_IWU Production, Workshop, Warehouse or Operations_[62]_0\n",
      "Save heating profile of building 285_IWU Production, Workshop, Warehouse or Operations_[62]_0 in None\n",
      "Internal gains are negative. Setting to zero.\n",
      "Occupancy gains: 137594.81221552222\n",
      "Lighting gains: 2958.9300000000003\n",
      "Appliance gains: -209689.21916146472\n",
      "Total gains: -69135.47694594256\n",
      "Calculate demands of building 286_IWU Trade Buildings_[525]_0\n",
      "Save heating profile of building 286_IWU Trade Buildings_[525]_0 in None\n",
      "Calculate demands of building 287_AB_40_0\n",
      "Save heating profile of building 287_AB_40_0 in None\n",
      "Calculate demands of building 288_MFH_4_0\n",
      "Save heating profile of building 288_MFH_4_0 in None\n",
      "Calculate demands of building 289_MFH_74_0\n",
      "Save heating profile of building 289_MFH_74_0 in None\n",
      "Calculate demands of building 290_MFH_32_0\n",
      "Save heating profile of building 290_MFH_32_0 in None\n",
      "Calculate demands of building 291_MFH_8_0\n",
      "Save heating profile of building 291_MFH_8_0 in None\n",
      "Calculate demands of building 292_AB_21_0\n",
      "Save heating profile of building 292_AB_21_0 in None\n",
      "Calculate demands of building 293_AB_46_0\n",
      "Save heating profile of building 293_AB_46_0 in None\n",
      "Calculate demands of building 294_AB_57_0\n",
      "Save heating profile of building 294_AB_57_0 in None\n",
      "Internal gains are negative. Setting to zero.\n",
      "Occupancy gains: 137594.81221552222\n",
      "Lighting gains: 2958.9300000000003\n",
      "Appliance gains: -209689.21916146472\n",
      "Total gains: -69135.47694594256\n",
      "Calculate demands of building 295_IWU Trade Buildings_[2922]_0\n",
      "Save heating profile of building 295_IWU Trade Buildings_[2922]_0 in None\n",
      "Calculate demands of building 296_MFH_131_0\n",
      "Save heating profile of building 296_MFH_131_0 in None\n",
      "Calculate demands of building 297_AB_104_0\n",
      "Save heating profile of building 297_AB_104_0 in None\n",
      "Calculate demands of building 298_AB_32_0\n",
      "Save heating profile of building 298_AB_32_0 in None\n",
      "Calculate demands of building 299_MFH_85_0\n",
      "Save heating profile of building 299_MFH_85_0 in None\n",
      "Calculate demands of building 300_MFH_10_0\n",
      "Save heating profile of building 300_MFH_10_0 in None\n",
      "Calculate demands of building 301_MFH_45_0\n",
      "Save heating profile of building 301_MFH_45_0 in None\n",
      "Calculate demands of building 302_MFH_54_0\n",
      "Save heating profile of building 302_MFH_54_0 in None\n",
      "Calculate demands of building 303_MFH_20_0\n",
      "Save heating profile of building 303_MFH_20_0 in None\n",
      "Calculate demands of building 304_MFH_300_0\n",
      "Save heating profile of building 304_MFH_300_0 in None\n",
      "Calculate demands of building 305_IWU Production, Workshop, Warehouse or Operations_[29]_0\n",
      "Save heating profile of building 305_IWU Production, Workshop, Warehouse or Operations_[29]_0 in None\n",
      "Calculate demands of building 306_AB_46_0\n",
      "Save heating profile of building 306_AB_46_0 in None\n",
      "Calculate demands of building 307_MFH_19_0\n",
      "Save heating profile of building 307_MFH_19_0 in None\n",
      "Calculate demands of building 308_AB_227_0\n",
      "Save heating profile of building 308_AB_227_0 in None\n",
      "Calculate demands of building 309_MFH_101_0\n",
      "Save heating profile of building 309_MFH_101_0 in None\n",
      "Calculate demands of building 310_MFH_38_0\n",
      "Save heating profile of building 310_MFH_38_0 in None\n",
      "Calculate demands of building 311_MFH_125_0\n",
      "Save heating profile of building 311_MFH_125_0 in None\n",
      "Calculate demands of building 312_AB_293_0\n",
      "Save heating profile of building 312_AB_293_0 in None\n",
      "Calculate demands of building 313_MFH_16_0\n",
      "Save heating profile of building 313_MFH_16_0 in None\n",
      "Calculate demands of building 314_AB_33_0\n",
      "Save heating profile of building 314_AB_33_0 in None\n",
      "Calculate demands of building 315_AB_53_0\n",
      "Save heating profile of building 315_AB_53_0 in None\n",
      "Calculate demands of building 316_MFH_4_0\n",
      "Save heating profile of building 316_MFH_4_0 in None\n",
      "Calculate demands of building 317_AB_69_0\n",
      "Save heating profile of building 317_AB_69_0 in None\n",
      "Calculate demands of building 318_MFH_61_0\n",
      "Save heating profile of building 318_MFH_61_0 in None\n",
      "Calculate demands of building 319_MFH_174_0\n",
      "Save heating profile of building 319_MFH_174_0 in None\n",
      "Calculate demands of building 320_IWU Production, Workshop, Warehouse or Operations_[2]_0\n",
      "Save heating profile of building 320_IWU Production, Workshop, Warehouse or Operations_[2]_0 in None\n",
      "Calculate demands of building 321_MFH_83_0\n",
      "Save heating profile of building 321_MFH_83_0 in None\n",
      "Calculate demands of building 322_MFH_89_0\n",
      "Save heating profile of building 322_MFH_89_0 in None\n",
      "No data about TEK available for Verkehrsgebäude\n",
      "No data about annual dhw consumption available for building type: IWU Transport. DHW demand is set to zero.\n",
      "Calculate demands of building 323_IWU Transport_[16]_0\n",
      "Save heating profile of building 323_IWU Transport_[16]_0 in None\n",
      "Calculate demands of building 324_AB_84_0\n",
      "Save heating profile of building 324_AB_84_0 in None\n",
      "Calculate demands of building 325_MFH_154_0\n",
      "Save heating profile of building 325_MFH_154_0 in None\n",
      "Calculate demands of building 326_MFH_10_0\n",
      "Save heating profile of building 326_MFH_10_0 in None\n",
      "Calculate demands of building 327_IWU Production, Workshop, Warehouse or Operations_[128]_0\n",
      "Save heating profile of building 327_IWU Production, Workshop, Warehouse or Operations_[128]_0 in None\n",
      "Calculate demands of building 328_MFH_27_0\n",
      "Save heating profile of building 328_MFH_27_0 in None\n",
      "Calculate demands of building 329_AB_287_0\n",
      "Save heating profile of building 329_AB_287_0 in None\n",
      "Calculate demands of building 330_MFH_9_0\n",
      "Save heating profile of building 330_MFH_9_0 in None\n",
      "Calculate demands of building 331_AB_40_0\n",
      "Save heating profile of building 331_AB_40_0 in None\n",
      "Calculate demands of building 332_AB_54_0\n",
      "Save heating profile of building 332_AB_54_0 in None\n",
      "Calculate demands of building 333_MFH_4_0\n",
      "Save heating profile of building 333_MFH_4_0 in None\n",
      "Calculate demands of building 334_AB_17_0\n",
      "Save heating profile of building 334_AB_17_0 in None\n",
      "Calculate demands of building 335_AB_63_0\n",
      "Save heating profile of building 335_AB_63_0 in None\n",
      "Calculate demands of building 336_MFH_143_0\n",
      "Save heating profile of building 336_MFH_143_0 in None\n",
      "Calculate demands of building 337_IWU Production, Workshop, Warehouse or Operations_[266]_0\n",
      "Save heating profile of building 337_IWU Production, Workshop, Warehouse or Operations_[266]_0 in None\n",
      "Calculate demands of building 338_MFH_4_0\n",
      "Save heating profile of building 338_MFH_4_0 in None\n",
      "Calculate demands of building 339_IWU Production, Workshop, Warehouse or Operations_[54]_0\n",
      "Save heating profile of building 339_IWU Production, Workshop, Warehouse or Operations_[54]_0 in None\n",
      "Calculate demands of building 340_AB_52_0\n",
      "Save heating profile of building 340_AB_52_0 in None\n",
      "Calculate demands of building 341_AB_58_0\n",
      "Save heating profile of building 341_AB_58_0 in None\n",
      "Calculate demands of building 342_AB_18_0\n",
      "Save heating profile of building 342_AB_18_0 in None\n",
      "Calculate demands of building 343_AB_25_0\n",
      "Save heating profile of building 343_AB_25_0 in None\n",
      "Calculate demands of building 344_AB_57_0\n",
      "Save heating profile of building 344_AB_57_0 in None\n",
      "No data about TEK available for Verkehrsgebäude\n",
      "No data about annual dhw consumption available for building type: IWU Transport. DHW demand is set to zero.\n",
      "Calculate demands of building 345_IWU Transport_[9]_0\n",
      "Save heating profile of building 345_IWU Transport_[9]_0 in None\n",
      "Calculate demands of building 346_MFH_4_0\n",
      "Save heating profile of building 346_MFH_4_0 in None\n",
      "Calculate demands of building 347_AB_17_0\n",
      "Save heating profile of building 347_AB_17_0 in None\n",
      "Calculate demands of building 348_IWU Production, Workshop, Warehouse or Operations_[194]_0\n",
      "Save heating profile of building 348_IWU Production, Workshop, Warehouse or Operations_[194]_0 in None\n",
      "Calculate demands of building 349_TH_1_0\n",
      "Save heating profile of building 349_TH_1_0 in None\n",
      "Calculate demands of building 350_IWU Production, Workshop, Warehouse or Operations_[47]_0\n",
      "Save heating profile of building 350_IWU Production, Workshop, Warehouse or Operations_[47]_0 in None\n",
      "Calculate demands of building 351_IWU Production, Workshop, Warehouse or Operations_[11]_0\n",
      "Save heating profile of building 351_IWU Production, Workshop, Warehouse or Operations_[11]_0 in None\n",
      "Calculate demands of building 352_MFH_21_0\n",
      "Save heating profile of building 352_MFH_21_0 in None\n",
      "Calculate demands of building 353_MFH_68_0\n",
      "Save heating profile of building 353_MFH_68_0 in None\n",
      "Calculate demands of building 354_AB_16_0\n",
      "Save heating profile of building 354_AB_16_0 in None\n",
      "Calculate demands of building 355_MFH_80_0\n",
      "Save heating profile of building 355_MFH_80_0 in None\n",
      "Calculate demands of building 356_MFH_56_0\n",
      "Save heating profile of building 356_MFH_56_0 in None\n",
      "Calculate demands of building 357_AB_42_0\n",
      "Save heating profile of building 357_AB_42_0 in None\n",
      "Calculate demands of building 358_IWU Production, Workshop, Warehouse or Operations_[227]_0\n",
      "Save heating profile of building 358_IWU Production, Workshop, Warehouse or Operations_[227]_0 in None\n",
      "Calculate demands of building 359_MFH_18_0\n",
      "Save heating profile of building 359_MFH_18_0 in None\n",
      "Calculate demands of building 360_AB_91_0\n",
      "Save heating profile of building 360_AB_91_0 in None\n",
      "Calculate demands of building 361_MFH_103_0\n",
      "Save heating profile of building 361_MFH_103_0 in None\n",
      "Calculate demands of building 362_AB_60_0\n",
      "Save heating profile of building 362_AB_60_0 in None\n",
      "Calculate demands of building 363_AB_67_0\n",
      "Save heating profile of building 363_AB_67_0 in None\n",
      "Calculate demands of building 364_MFH_5_0\n",
      "Save heating profile of building 364_MFH_5_0 in None\n",
      "Calculate demands of building 365_MFH_18_0\n",
      "Save heating profile of building 365_MFH_18_0 in None\n",
      "Calculate demands of building 366_MFH_16_0\n",
      "Save heating profile of building 366_MFH_16_0 in None\n",
      "Calculate demands of building 367_MFH_4_0\n",
      "Save heating profile of building 367_MFH_4_0 in None\n",
      "Calculate demands of building 368_MFH_4_0\n",
      "Save heating profile of building 368_MFH_4_0 in None\n",
      "Calculate demands of building 369_MFH_1160_0\n",
      "Save heating profile of building 369_MFH_1160_0 in None\n",
      "Calculate demands of building 370_MFH_62_0\n",
      "Save heating profile of building 370_MFH_62_0 in None\n",
      "Calculate demands of building 371_MFH_5_0\n",
      "Save heating profile of building 371_MFH_5_0 in None\n",
      "Calculate demands of building 372_MFH_4_0\n",
      "Save heating profile of building 372_MFH_4_0 in None\n",
      "Calculate demands of building 373_MFH_27_0\n",
      "Save heating profile of building 373_MFH_27_0 in None\n",
      "Calculate demands of building 374_IWU Health and Care_[195]_0\n",
      "Save heating profile of building 374_IWU Health and Care_[195]_0 in None\n",
      "Calculate demands of building 375_MFH_4_0\n",
      "Save heating profile of building 375_MFH_4_0 in None\n",
      "Calculate demands of building 376_MFH_98_0\n",
      "Save heating profile of building 376_MFH_98_0 in None\n",
      "Calculate demands of building 377_MFH_4_0\n",
      "Save heating profile of building 377_MFH_4_0 in None\n",
      "Calculate demands of building 378_MFH_4_0\n",
      "Save heating profile of building 378_MFH_4_0 in None\n",
      "Calculate demands of building 379_MFH_4_0\n",
      "Save heating profile of building 379_MFH_4_0 in None\n",
      "Calculate demands of building 380_AB_109_0\n",
      "Save heating profile of building 380_AB_109_0 in None\n",
      "Calculate demands of building 381_IWU Health and Care_[235]_0\n",
      "Save heating profile of building 381_IWU Health and Care_[235]_0 in None\n",
      "Calculate demands of building 382_AB_31_0\n",
      "Save heating profile of building 382_AB_31_0 in None\n",
      "Calculate demands of building 383_MFH_53_0\n",
      "Save heating profile of building 383_MFH_53_0 in None\n",
      "Calculate demands of building 384_AB_65_0\n",
      "Save heating profile of building 384_AB_65_0 in None\n",
      "Calculate demands of building 385_MFH_28_0\n",
      "Save heating profile of building 385_MFH_28_0 in None\n",
      "Calculate demands of building 386_AB_83_0\n",
      "Save heating profile of building 386_AB_83_0 in None\n",
      "Calculate demands of building 387_AB_41_0\n",
      "Save heating profile of building 387_AB_41_0 in None\n",
      "Finished generating demands!\n"
     ]
    }
   ],
   "source": [
    "data.setWeatherFile('data/weather/EPW/AMY_2010_2022_2020.epw')\n",
    "\n",
    "# Generate Environment for the District\n",
    "\n",
    "data.generateEnvironment()\n",
    "\n",
    "data.initializeBuildings('Mierendorff_Baseline_updated_cleaned')\n",
    "data.generateBuildings()\n",
    "data.setResultPath()\n",
    "\n",
    "data.generateDemands()\n",
    "\n",
    "\n",
    "\n"
   ]
  },
  {
   "cell_type": "code",
   "execution_count": 8,
   "metadata": {},
   "outputs": [
    {
     "name": "stdout",
     "output_type": "stream",
     "text": [
      "Creating buildings for Mierendorff_Baseline_updated_cleaned_2021\n",
      "Creating building AB\n"
     ]
    },
    {
     "name": "stderr",
     "output_type": "stream",
     "text": [
      "c:\\Users\\felix\\Programmieren\\districtgenerator\\.venv\\Lib\\site-packages\\teaser\\logic\\buildingobjects\\useconditions.py:363: FutureWarning: 'H' is deprecated and will be removed in a future version, please use 'h' instead.\n",
      "  index=pd.date_range(\"2019-01-01 00:00:00\", periods=8760, freq=\"H\")\n"
     ]
    },
    {
     "name": "stdout",
     "output_type": "stream",
     "text": [
      "Creating building AB\n"
     ]
    },
    {
     "name": "stderr",
     "output_type": "stream",
     "text": [
      "c:\\Users\\felix\\Programmieren\\districtgenerator\\.venv\\Lib\\site-packages\\teaser\\logic\\buildingobjects\\useconditions.py:363: FutureWarning: 'H' is deprecated and will be removed in a future version, please use 'h' instead.\n",
      "  index=pd.date_range(\"2019-01-01 00:00:00\", periods=8760, freq=\"H\")\n"
     ]
    },
    {
     "name": "stdout",
     "output_type": "stream",
     "text": [
      "Creating building IWU Transport\n",
      "We are about to generate a Non Residential building.\n",
      "Available building types: ['IWU Office, Administrative or Government Buildings', 'IWU Research and University Teaching', 'IWU Health and Care', 'IWU School, Day Nursery and other Care', 'IWU Culture and Leisure', 'IWU Sports Facilities', 'IWU Hotels, Boarding, Restaurants or Catering', 'IWU Production, Workshop, Warehouse or Operations', 'IWU Trade Buildings', 'IWU Technical and Utility (supply and disposal)', 'IWU Transport', 'IWU Generalized (1) Services building', 'IWU Generalized (2) Production buildings']\n",
      "Current usage: IWU Transport\n",
      "Creating building AB\n",
      "Creating building AB\n"
     ]
    },
    {
     "name": "stderr",
     "output_type": "stream",
     "text": [
      "c:\\Users\\felix\\Programmieren\\districtgenerator\\.venv\\Lib\\site-packages\\teaser\\logic\\buildingobjects\\useconditions.py:363: FutureWarning: 'H' is deprecated and will be removed in a future version, please use 'h' instead.\n",
      "  index=pd.date_range(\"2019-01-01 00:00:00\", periods=8760, freq=\"H\")\n",
      "c:\\Users\\felix\\Programmieren\\districtgenerator\\.venv\\Lib\\site-packages\\teaser\\logic\\buildingobjects\\useconditions.py:363: FutureWarning: 'H' is deprecated and will be removed in a future version, please use 'h' instead.\n",
      "  index=pd.date_range(\"2019-01-01 00:00:00\", periods=8760, freq=\"H\")\n"
     ]
    },
    {
     "name": "stdout",
     "output_type": "stream",
     "text": [
      "Creating building AB\n",
      "Creating building AB\n"
     ]
    },
    {
     "name": "stderr",
     "output_type": "stream",
     "text": [
      "c:\\Users\\felix\\Programmieren\\districtgenerator\\.venv\\Lib\\site-packages\\teaser\\logic\\buildingobjects\\useconditions.py:363: FutureWarning: 'H' is deprecated and will be removed in a future version, please use 'h' instead.\n",
      "  index=pd.date_range(\"2019-01-01 00:00:00\", periods=8760, freq=\"H\")\n",
      "c:\\Users\\felix\\Programmieren\\districtgenerator\\.venv\\Lib\\site-packages\\teaser\\logic\\buildingobjects\\useconditions.py:363: FutureWarning: 'H' is deprecated and will be removed in a future version, please use 'h' instead.\n",
      "  index=pd.date_range(\"2019-01-01 00:00:00\", periods=8760, freq=\"H\")\n"
     ]
    },
    {
     "name": "stdout",
     "output_type": "stream",
     "text": [
      "Creating building IWU Transport\n",
      "We are about to generate a Non Residential building.\n",
      "Available building types: ['IWU Office, Administrative or Government Buildings', 'IWU Research and University Teaching', 'IWU Health and Care', 'IWU School, Day Nursery and other Care', 'IWU Culture and Leisure', 'IWU Sports Facilities', 'IWU Hotels, Boarding, Restaurants or Catering', 'IWU Production, Workshop, Warehouse or Operations', 'IWU Trade Buildings', 'IWU Technical and Utility (supply and disposal)', 'IWU Transport', 'IWU Generalized (1) Services building', 'IWU Generalized (2) Production buildings']\n",
      "Current usage: IWU Transport\n",
      "Creating building IWU Technical and Utility (supply and disposal)\n",
      "We are about to generate a Non Residential building.\n",
      "Available building types: ['IWU Office, Administrative or Government Buildings', 'IWU Research and University Teaching', 'IWU Health and Care', 'IWU School, Day Nursery and other Care', 'IWU Culture and Leisure', 'IWU Sports Facilities', 'IWU Hotels, Boarding, Restaurants or Catering', 'IWU Production, Workshop, Warehouse or Operations', 'IWU Trade Buildings', 'IWU Technical and Utility (supply and disposal)', 'IWU Transport', 'IWU Generalized (1) Services building', 'IWU Generalized (2) Production buildings']\n",
      "Current usage: IWU Technical and Utility (supply and disposal)\n",
      "Creating building AB\n",
      "Creating building AB\n"
     ]
    },
    {
     "name": "stderr",
     "output_type": "stream",
     "text": [
      "c:\\Users\\felix\\Programmieren\\districtgenerator\\.venv\\Lib\\site-packages\\teaser\\logic\\buildingobjects\\useconditions.py:363: FutureWarning: 'H' is deprecated and will be removed in a future version, please use 'h' instead.\n",
      "  index=pd.date_range(\"2019-01-01 00:00:00\", periods=8760, freq=\"H\")\n",
      "c:\\Users\\felix\\Programmieren\\districtgenerator\\.venv\\Lib\\site-packages\\teaser\\logic\\buildingobjects\\useconditions.py:363: FutureWarning: 'H' is deprecated and will be removed in a future version, please use 'h' instead.\n",
      "  index=pd.date_range(\"2019-01-01 00:00:00\", periods=8760, freq=\"H\")\n"
     ]
    },
    {
     "name": "stdout",
     "output_type": "stream",
     "text": [
      "Creating building AB\n",
      "Creating building IWU Trade Buildings\n",
      "We are about to generate a Non Residential building.\n",
      "Available building types: ['IWU Office, Administrative or Government Buildings', 'IWU Research and University Teaching', 'IWU Health and Care', 'IWU School, Day Nursery and other Care', 'IWU Culture and Leisure', 'IWU Sports Facilities', 'IWU Hotels, Boarding, Restaurants or Catering', 'IWU Production, Workshop, Warehouse or Operations', 'IWU Trade Buildings', 'IWU Technical and Utility (supply and disposal)', 'IWU Transport', 'IWU Generalized (1) Services building', 'IWU Generalized (2) Production buildings']\n",
      "Current usage: IWU Trade Buildings\n",
      "Creating building AB\n"
     ]
    },
    {
     "name": "stderr",
     "output_type": "stream",
     "text": [
      "c:\\Users\\felix\\Programmieren\\districtgenerator\\.venv\\Lib\\site-packages\\teaser\\logic\\buildingobjects\\useconditions.py:363: FutureWarning: 'H' is deprecated and will be removed in a future version, please use 'h' instead.\n",
      "  index=pd.date_range(\"2019-01-01 00:00:00\", periods=8760, freq=\"H\")\n",
      "c:\\Users\\felix\\Programmieren\\districtgenerator\\.venv\\Lib\\site-packages\\teaser\\logic\\buildingobjects\\useconditions.py:363: FutureWarning: 'H' is deprecated and will be removed in a future version, please use 'h' instead.\n",
      "  index=pd.date_range(\"2019-01-01 00:00:00\", periods=8760, freq=\"H\")\n"
     ]
    },
    {
     "name": "stdout",
     "output_type": "stream",
     "text": [
      "Creating building AB\n",
      "Creating building AB\n"
     ]
    },
    {
     "name": "stderr",
     "output_type": "stream",
     "text": [
      "c:\\Users\\felix\\Programmieren\\districtgenerator\\.venv\\Lib\\site-packages\\teaser\\logic\\buildingobjects\\useconditions.py:363: FutureWarning: 'H' is deprecated and will be removed in a future version, please use 'h' instead.\n",
      "  index=pd.date_range(\"2019-01-01 00:00:00\", periods=8760, freq=\"H\")\n",
      "c:\\Users\\felix\\Programmieren\\districtgenerator\\.venv\\Lib\\site-packages\\teaser\\logic\\buildingobjects\\useconditions.py:363: FutureWarning: 'H' is deprecated and will be removed in a future version, please use 'h' instead.\n",
      "  index=pd.date_range(\"2019-01-01 00:00:00\", periods=8760, freq=\"H\")\n"
     ]
    },
    {
     "name": "stdout",
     "output_type": "stream",
     "text": [
      "Creating building AB\n",
      "Creating building IWU Culture and Leisure\n",
      "We are about to generate a Non Residential building.\n",
      "Available building types: ['IWU Office, Administrative or Government Buildings', 'IWU Research and University Teaching', 'IWU Health and Care', 'IWU School, Day Nursery and other Care', 'IWU Culture and Leisure', 'IWU Sports Facilities', 'IWU Hotels, Boarding, Restaurants or Catering', 'IWU Production, Workshop, Warehouse or Operations', 'IWU Trade Buildings', 'IWU Technical and Utility (supply and disposal)', 'IWU Transport', 'IWU Generalized (1) Services building', 'IWU Generalized (2) Production buildings']\n",
      "Current usage: IWU Culture and Leisure\n"
     ]
    },
    {
     "name": "stderr",
     "output_type": "stream",
     "text": [
      "c:\\Users\\felix\\Programmieren\\districtgenerator\\.venv\\Lib\\site-packages\\teaser\\logic\\buildingobjects\\useconditions.py:363: FutureWarning: 'H' is deprecated and will be removed in a future version, please use 'h' instead.\n",
      "  index=pd.date_range(\"2019-01-01 00:00:00\", periods=8760, freq=\"H\")\n"
     ]
    },
    {
     "name": "stdout",
     "output_type": "stream",
     "text": [
      "Creating building AB\n",
      "Creating building AB\n"
     ]
    },
    {
     "name": "stderr",
     "output_type": "stream",
     "text": [
      "c:\\Users\\felix\\Programmieren\\districtgenerator\\.venv\\Lib\\site-packages\\teaser\\logic\\buildingobjects\\useconditions.py:363: FutureWarning: 'H' is deprecated and will be removed in a future version, please use 'h' instead.\n",
      "  index=pd.date_range(\"2019-01-01 00:00:00\", periods=8760, freq=\"H\")\n",
      "c:\\Users\\felix\\Programmieren\\districtgenerator\\.venv\\Lib\\site-packages\\teaser\\logic\\buildingobjects\\useconditions.py:363: FutureWarning: 'H' is deprecated and will be removed in a future version, please use 'h' instead.\n",
      "  index=pd.date_range(\"2019-01-01 00:00:00\", periods=8760, freq=\"H\")\n"
     ]
    },
    {
     "name": "stdout",
     "output_type": "stream",
     "text": [
      "Creating building AB\n",
      "Creating building AB\n"
     ]
    },
    {
     "name": "stderr",
     "output_type": "stream",
     "text": [
      "c:\\Users\\felix\\Programmieren\\districtgenerator\\.venv\\Lib\\site-packages\\teaser\\logic\\buildingobjects\\useconditions.py:363: FutureWarning: 'H' is deprecated and will be removed in a future version, please use 'h' instead.\n",
      "  index=pd.date_range(\"2019-01-01 00:00:00\", periods=8760, freq=\"H\")\n",
      "c:\\Users\\felix\\Programmieren\\districtgenerator\\.venv\\Lib\\site-packages\\teaser\\logic\\buildingobjects\\useconditions.py:363: FutureWarning: 'H' is deprecated and will be removed in a future version, please use 'h' instead.\n",
      "  index=pd.date_range(\"2019-01-01 00:00:00\", periods=8760, freq=\"H\")\n"
     ]
    },
    {
     "name": "stdout",
     "output_type": "stream",
     "text": [
      "Creating building AB\n",
      "Creating building AB\n"
     ]
    },
    {
     "name": "stderr",
     "output_type": "stream",
     "text": [
      "c:\\Users\\felix\\Programmieren\\districtgenerator\\.venv\\Lib\\site-packages\\teaser\\logic\\buildingobjects\\useconditions.py:363: FutureWarning: 'H' is deprecated and will be removed in a future version, please use 'h' instead.\n",
      "  index=pd.date_range(\"2019-01-01 00:00:00\", periods=8760, freq=\"H\")\n",
      "c:\\Users\\felix\\Programmieren\\districtgenerator\\.venv\\Lib\\site-packages\\teaser\\logic\\buildingobjects\\useconditions.py:363: FutureWarning: 'H' is deprecated and will be removed in a future version, please use 'h' instead.\n",
      "  index=pd.date_range(\"2019-01-01 00:00:00\", periods=8760, freq=\"H\")\n"
     ]
    },
    {
     "name": "stdout",
     "output_type": "stream",
     "text": [
      "Creating building AB\n",
      "Creating building AB\n"
     ]
    },
    {
     "name": "stderr",
     "output_type": "stream",
     "text": [
      "c:\\Users\\felix\\Programmieren\\districtgenerator\\.venv\\Lib\\site-packages\\teaser\\logic\\buildingobjects\\useconditions.py:363: FutureWarning: 'H' is deprecated and will be removed in a future version, please use 'h' instead.\n",
      "  index=pd.date_range(\"2019-01-01 00:00:00\", periods=8760, freq=\"H\")\n",
      "c:\\Users\\felix\\Programmieren\\districtgenerator\\.venv\\Lib\\site-packages\\teaser\\logic\\buildingobjects\\useconditions.py:363: FutureWarning: 'H' is deprecated and will be removed in a future version, please use 'h' instead.\n",
      "  index=pd.date_range(\"2019-01-01 00:00:00\", periods=8760, freq=\"H\")\n"
     ]
    },
    {
     "name": "stdout",
     "output_type": "stream",
     "text": [
      "Creating building AB\n",
      "Creating building AB\n"
     ]
    },
    {
     "name": "stderr",
     "output_type": "stream",
     "text": [
      "c:\\Users\\felix\\Programmieren\\districtgenerator\\.venv\\Lib\\site-packages\\teaser\\logic\\buildingobjects\\useconditions.py:363: FutureWarning: 'H' is deprecated and will be removed in a future version, please use 'h' instead.\n",
      "  index=pd.date_range(\"2019-01-01 00:00:00\", periods=8760, freq=\"H\")\n",
      "c:\\Users\\felix\\Programmieren\\districtgenerator\\.venv\\Lib\\site-packages\\teaser\\logic\\buildingobjects\\useconditions.py:363: FutureWarning: 'H' is deprecated and will be removed in a future version, please use 'h' instead.\n",
      "  index=pd.date_range(\"2019-01-01 00:00:00\", periods=8760, freq=\"H\")\n"
     ]
    },
    {
     "name": "stdout",
     "output_type": "stream",
     "text": [
      "Creating building AB\n",
      "Creating building AB\n"
     ]
    },
    {
     "name": "stderr",
     "output_type": "stream",
     "text": [
      "c:\\Users\\felix\\Programmieren\\districtgenerator\\.venv\\Lib\\site-packages\\teaser\\logic\\buildingobjects\\useconditions.py:363: FutureWarning: 'H' is deprecated and will be removed in a future version, please use 'h' instead.\n",
      "  index=pd.date_range(\"2019-01-01 00:00:00\", periods=8760, freq=\"H\")\n",
      "c:\\Users\\felix\\Programmieren\\districtgenerator\\.venv\\Lib\\site-packages\\teaser\\logic\\buildingobjects\\useconditions.py:363: FutureWarning: 'H' is deprecated and will be removed in a future version, please use 'h' instead.\n",
      "  index=pd.date_range(\"2019-01-01 00:00:00\", periods=8760, freq=\"H\")\n"
     ]
    },
    {
     "name": "stdout",
     "output_type": "stream",
     "text": [
      "Creating building AB\n",
      "Creating building AB\n"
     ]
    },
    {
     "name": "stderr",
     "output_type": "stream",
     "text": [
      "c:\\Users\\felix\\Programmieren\\districtgenerator\\.venv\\Lib\\site-packages\\teaser\\logic\\buildingobjects\\useconditions.py:363: FutureWarning: 'H' is deprecated and will be removed in a future version, please use 'h' instead.\n",
      "  index=pd.date_range(\"2019-01-01 00:00:00\", periods=8760, freq=\"H\")\n",
      "c:\\Users\\felix\\Programmieren\\districtgenerator\\.venv\\Lib\\site-packages\\teaser\\logic\\buildingobjects\\useconditions.py:363: FutureWarning: 'H' is deprecated and will be removed in a future version, please use 'h' instead.\n",
      "  index=pd.date_range(\"2019-01-01 00:00:00\", periods=8760, freq=\"H\")\n"
     ]
    },
    {
     "name": "stdout",
     "output_type": "stream",
     "text": [
      "Creating building AB\n",
      "Creating building IWU Sports Facilities\n",
      "We are about to generate a Non Residential building.\n",
      "Available building types: ['IWU Office, Administrative or Government Buildings', 'IWU Research and University Teaching', 'IWU Health and Care', 'IWU School, Day Nursery and other Care', 'IWU Culture and Leisure', 'IWU Sports Facilities', 'IWU Hotels, Boarding, Restaurants or Catering', 'IWU Production, Workshop, Warehouse or Operations', 'IWU Trade Buildings', 'IWU Technical and Utility (supply and disposal)', 'IWU Transport', 'IWU Generalized (1) Services building', 'IWU Generalized (2) Production buildings']\n",
      "Current usage: IWU Sports Facilities\n",
      "No data about lighntning control available for IWU Sports Facilities and data type Turnhalle\n",
      "Creating building SFH\n"
     ]
    },
    {
     "name": "stderr",
     "output_type": "stream",
     "text": [
      "c:\\Users\\felix\\Programmieren\\districtgenerator\\.venv\\Lib\\site-packages\\teaser\\logic\\buildingobjects\\useconditions.py:363: FutureWarning: 'H' is deprecated and will be removed in a future version, please use 'h' instead.\n",
      "  index=pd.date_range(\"2019-01-01 00:00:00\", periods=8760, freq=\"H\")\n",
      "c:\\Users\\felix\\Programmieren\\districtgenerator\\.venv\\Lib\\site-packages\\teaser\\logic\\buildingobjects\\useconditions.py:363: FutureWarning: 'H' is deprecated and will be removed in a future version, please use 'h' instead.\n",
      "  index=pd.date_range(\"2019-01-01 00:00:00\", periods=8760, freq=\"H\")\n"
     ]
    },
    {
     "name": "stdout",
     "output_type": "stream",
     "text": [
      "Creating building AB\n",
      "Creating building IWU Health and Care\n",
      "We are about to generate a Non Residential building.\n",
      "Available building types: ['IWU Office, Administrative or Government Buildings', 'IWU Research and University Teaching', 'IWU Health and Care', 'IWU School, Day Nursery and other Care', 'IWU Culture and Leisure', 'IWU Sports Facilities', 'IWU Hotels, Boarding, Restaurants or Catering', 'IWU Production, Workshop, Warehouse or Operations', 'IWU Trade Buildings', 'IWU Technical and Utility (supply and disposal)', 'IWU Transport', 'IWU Generalized (1) Services building', 'IWU Generalized (2) Production buildings']\n",
      "Current usage: IWU Health and Care\n",
      "Creating building AB\n"
     ]
    },
    {
     "name": "stderr",
     "output_type": "stream",
     "text": [
      "c:\\Users\\felix\\Programmieren\\districtgenerator\\.venv\\Lib\\site-packages\\teaser\\logic\\buildingobjects\\useconditions.py:363: FutureWarning: 'H' is deprecated and will be removed in a future version, please use 'h' instead.\n",
      "  index=pd.date_range(\"2019-01-01 00:00:00\", periods=8760, freq=\"H\")\n",
      "c:\\Users\\felix\\Programmieren\\districtgenerator\\.venv\\Lib\\site-packages\\teaser\\logic\\buildingobjects\\useconditions.py:363: FutureWarning: 'H' is deprecated and will be removed in a future version, please use 'h' instead.\n",
      "  index=pd.date_range(\"2019-01-01 00:00:00\", periods=8760, freq=\"H\")\n"
     ]
    },
    {
     "name": "stdout",
     "output_type": "stream",
     "text": [
      "Creating building AB\n",
      "Creating building AB\n",
      "Creating building AB\n"
     ]
    },
    {
     "name": "stderr",
     "output_type": "stream",
     "text": [
      "c:\\Users\\felix\\Programmieren\\districtgenerator\\.venv\\Lib\\site-packages\\teaser\\logic\\buildingobjects\\useconditions.py:363: FutureWarning: 'H' is deprecated and will be removed in a future version, please use 'h' instead.\n",
      "  index=pd.date_range(\"2019-01-01 00:00:00\", periods=8760, freq=\"H\")\n",
      "c:\\Users\\felix\\Programmieren\\districtgenerator\\.venv\\Lib\\site-packages\\teaser\\logic\\buildingobjects\\useconditions.py:363: FutureWarning: 'H' is deprecated and will be removed in a future version, please use 'h' instead.\n",
      "  index=pd.date_range(\"2019-01-01 00:00:00\", periods=8760, freq=\"H\")\n",
      "c:\\Users\\felix\\Programmieren\\districtgenerator\\.venv\\Lib\\site-packages\\teaser\\logic\\buildingobjects\\useconditions.py:363: FutureWarning: 'H' is deprecated and will be removed in a future version, please use 'h' instead.\n",
      "  index=pd.date_range(\"2019-01-01 00:00:00\", periods=8760, freq=\"H\")\n"
     ]
    },
    {
     "name": "stdout",
     "output_type": "stream",
     "text": [
      "Creating building AB\n",
      "Creating building AB\n"
     ]
    },
    {
     "name": "stderr",
     "output_type": "stream",
     "text": [
      "c:\\Users\\felix\\Programmieren\\districtgenerator\\.venv\\Lib\\site-packages\\teaser\\logic\\buildingobjects\\useconditions.py:363: FutureWarning: 'H' is deprecated and will be removed in a future version, please use 'h' instead.\n",
      "  index=pd.date_range(\"2019-01-01 00:00:00\", periods=8760, freq=\"H\")\n",
      "c:\\Users\\felix\\Programmieren\\districtgenerator\\.venv\\Lib\\site-packages\\teaser\\logic\\buildingobjects\\useconditions.py:363: FutureWarning: 'H' is deprecated and will be removed in a future version, please use 'h' instead.\n",
      "  index=pd.date_range(\"2019-01-01 00:00:00\", periods=8760, freq=\"H\")\n"
     ]
    },
    {
     "name": "stdout",
     "output_type": "stream",
     "text": [
      "Creating building AB\n",
      "Creating building AB\n"
     ]
    },
    {
     "name": "stderr",
     "output_type": "stream",
     "text": [
      "c:\\Users\\felix\\Programmieren\\districtgenerator\\.venv\\Lib\\site-packages\\teaser\\logic\\buildingobjects\\useconditions.py:363: FutureWarning: 'H' is deprecated and will be removed in a future version, please use 'h' instead.\n",
      "  index=pd.date_range(\"2019-01-01 00:00:00\", periods=8760, freq=\"H\")\n",
      "c:\\Users\\felix\\Programmieren\\districtgenerator\\.venv\\Lib\\site-packages\\teaser\\logic\\buildingobjects\\useconditions.py:363: FutureWarning: 'H' is deprecated and will be removed in a future version, please use 'h' instead.\n",
      "  index=pd.date_range(\"2019-01-01 00:00:00\", periods=8760, freq=\"H\")\n"
     ]
    },
    {
     "name": "stdout",
     "output_type": "stream",
     "text": [
      "Creating building AB\n",
      "Creating building AB\n"
     ]
    },
    {
     "name": "stderr",
     "output_type": "stream",
     "text": [
      "c:\\Users\\felix\\Programmieren\\districtgenerator\\.venv\\Lib\\site-packages\\teaser\\logic\\buildingobjects\\useconditions.py:363: FutureWarning: 'H' is deprecated and will be removed in a future version, please use 'h' instead.\n",
      "  index=pd.date_range(\"2019-01-01 00:00:00\", periods=8760, freq=\"H\")\n",
      "c:\\Users\\felix\\Programmieren\\districtgenerator\\.venv\\Lib\\site-packages\\teaser\\logic\\buildingobjects\\useconditions.py:363: FutureWarning: 'H' is deprecated and will be removed in a future version, please use 'h' instead.\n",
      "  index=pd.date_range(\"2019-01-01 00:00:00\", periods=8760, freq=\"H\")\n"
     ]
    },
    {
     "name": "stdout",
     "output_type": "stream",
     "text": [
      "Creating building AB\n",
      "Creating building AB\n"
     ]
    },
    {
     "name": "stderr",
     "output_type": "stream",
     "text": [
      "c:\\Users\\felix\\Programmieren\\districtgenerator\\.venv\\Lib\\site-packages\\teaser\\logic\\buildingobjects\\useconditions.py:363: FutureWarning: 'H' is deprecated and will be removed in a future version, please use 'h' instead.\n",
      "  index=pd.date_range(\"2019-01-01 00:00:00\", periods=8760, freq=\"H\")\n",
      "c:\\Users\\felix\\Programmieren\\districtgenerator\\.venv\\Lib\\site-packages\\teaser\\logic\\buildingobjects\\useconditions.py:363: FutureWarning: 'H' is deprecated and will be removed in a future version, please use 'h' instead.\n",
      "  index=pd.date_range(\"2019-01-01 00:00:00\", periods=8760, freq=\"H\")\n"
     ]
    },
    {
     "name": "stdout",
     "output_type": "stream",
     "text": [
      "Creating building AB\n",
      "Creating building AB\n"
     ]
    },
    {
     "name": "stderr",
     "output_type": "stream",
     "text": [
      "c:\\Users\\felix\\Programmieren\\districtgenerator\\.venv\\Lib\\site-packages\\teaser\\logic\\buildingobjects\\useconditions.py:363: FutureWarning: 'H' is deprecated and will be removed in a future version, please use 'h' instead.\n",
      "  index=pd.date_range(\"2019-01-01 00:00:00\", periods=8760, freq=\"H\")\n",
      "c:\\Users\\felix\\Programmieren\\districtgenerator\\.venv\\Lib\\site-packages\\teaser\\logic\\buildingobjects\\useconditions.py:363: FutureWarning: 'H' is deprecated and will be removed in a future version, please use 'h' instead.\n",
      "  index=pd.date_range(\"2019-01-01 00:00:00\", periods=8760, freq=\"H\")\n"
     ]
    },
    {
     "name": "stdout",
     "output_type": "stream",
     "text": [
      "Creating building AB\n",
      "Creating building AB\n"
     ]
    },
    {
     "name": "stderr",
     "output_type": "stream",
     "text": [
      "c:\\Users\\felix\\Programmieren\\districtgenerator\\.venv\\Lib\\site-packages\\teaser\\logic\\buildingobjects\\useconditions.py:363: FutureWarning: 'H' is deprecated and will be removed in a future version, please use 'h' instead.\n",
      "  index=pd.date_range(\"2019-01-01 00:00:00\", periods=8760, freq=\"H\")\n",
      "c:\\Users\\felix\\Programmieren\\districtgenerator\\.venv\\Lib\\site-packages\\teaser\\logic\\buildingobjects\\useconditions.py:363: FutureWarning: 'H' is deprecated and will be removed in a future version, please use 'h' instead.\n",
      "  index=pd.date_range(\"2019-01-01 00:00:00\", periods=8760, freq=\"H\")\n"
     ]
    },
    {
     "name": "stdout",
     "output_type": "stream",
     "text": [
      "Creating building AB\n",
      "Creating building AB\n"
     ]
    },
    {
     "name": "stderr",
     "output_type": "stream",
     "text": [
      "c:\\Users\\felix\\Programmieren\\districtgenerator\\.venv\\Lib\\site-packages\\teaser\\logic\\buildingobjects\\useconditions.py:363: FutureWarning: 'H' is deprecated and will be removed in a future version, please use 'h' instead.\n",
      "  index=pd.date_range(\"2019-01-01 00:00:00\", periods=8760, freq=\"H\")\n",
      "c:\\Users\\felix\\Programmieren\\districtgenerator\\.venv\\Lib\\site-packages\\teaser\\logic\\buildingobjects\\useconditions.py:363: FutureWarning: 'H' is deprecated and will be removed in a future version, please use 'h' instead.\n",
      "  index=pd.date_range(\"2019-01-01 00:00:00\", periods=8760, freq=\"H\")\n"
     ]
    },
    {
     "name": "stdout",
     "output_type": "stream",
     "text": [
      "Creating building AB\n",
      "Creating building AB\n"
     ]
    },
    {
     "name": "stderr",
     "output_type": "stream",
     "text": [
      "c:\\Users\\felix\\Programmieren\\districtgenerator\\.venv\\Lib\\site-packages\\teaser\\logic\\buildingobjects\\useconditions.py:363: FutureWarning: 'H' is deprecated and will be removed in a future version, please use 'h' instead.\n",
      "  index=pd.date_range(\"2019-01-01 00:00:00\", periods=8760, freq=\"H\")\n",
      "c:\\Users\\felix\\Programmieren\\districtgenerator\\.venv\\Lib\\site-packages\\teaser\\logic\\buildingobjects\\useconditions.py:363: FutureWarning: 'H' is deprecated and will be removed in a future version, please use 'h' instead.\n",
      "  index=pd.date_range(\"2019-01-01 00:00:00\", periods=8760, freq=\"H\")\n"
     ]
    },
    {
     "name": "stdout",
     "output_type": "stream",
     "text": [
      "Creating building TH\n",
      "Creating building AB\n",
      "Creating building IWU Transport\n",
      "We are about to generate a Non Residential building.\n",
      "Available building types: ['IWU Office, Administrative or Government Buildings', 'IWU Research and University Teaching', 'IWU Health and Care', 'IWU School, Day Nursery and other Care', 'IWU Culture and Leisure', 'IWU Sports Facilities', 'IWU Hotels, Boarding, Restaurants or Catering', 'IWU Production, Workshop, Warehouse or Operations', 'IWU Trade Buildings', 'IWU Technical and Utility (supply and disposal)', 'IWU Transport', 'IWU Generalized (1) Services building', 'IWU Generalized (2) Production buildings']\n",
      "Current usage: IWU Transport\n"
     ]
    },
    {
     "name": "stderr",
     "output_type": "stream",
     "text": [
      "c:\\Users\\felix\\Programmieren\\districtgenerator\\.venv\\Lib\\site-packages\\teaser\\logic\\buildingobjects\\useconditions.py:363: FutureWarning: 'H' is deprecated and will be removed in a future version, please use 'h' instead.\n",
      "  index=pd.date_range(\"2019-01-01 00:00:00\", periods=8760, freq=\"H\")\n",
      "c:\\Users\\felix\\Programmieren\\districtgenerator\\.venv\\Lib\\site-packages\\teaser\\logic\\buildingobjects\\useconditions.py:363: FutureWarning: 'H' is deprecated and will be removed in a future version, please use 'h' instead.\n",
      "  index=pd.date_range(\"2019-01-01 00:00:00\", periods=8760, freq=\"H\")\n"
     ]
    },
    {
     "name": "stdout",
     "output_type": "stream",
     "text": [
      "Creating building AB\n",
      "Creating building AB\n"
     ]
    },
    {
     "name": "stderr",
     "output_type": "stream",
     "text": [
      "c:\\Users\\felix\\Programmieren\\districtgenerator\\.venv\\Lib\\site-packages\\teaser\\logic\\buildingobjects\\useconditions.py:363: FutureWarning: 'H' is deprecated and will be removed in a future version, please use 'h' instead.\n",
      "  index=pd.date_range(\"2019-01-01 00:00:00\", periods=8760, freq=\"H\")\n",
      "c:\\Users\\felix\\Programmieren\\districtgenerator\\.venv\\Lib\\site-packages\\teaser\\logic\\buildingobjects\\useconditions.py:363: FutureWarning: 'H' is deprecated and will be removed in a future version, please use 'h' instead.\n",
      "  index=pd.date_range(\"2019-01-01 00:00:00\", periods=8760, freq=\"H\")\n"
     ]
    },
    {
     "name": "stdout",
     "output_type": "stream",
     "text": [
      "Creating building AB\n",
      "Creating building AB\n"
     ]
    },
    {
     "name": "stderr",
     "output_type": "stream",
     "text": [
      "c:\\Users\\felix\\Programmieren\\districtgenerator\\.venv\\Lib\\site-packages\\teaser\\logic\\buildingobjects\\useconditions.py:363: FutureWarning: 'H' is deprecated and will be removed in a future version, please use 'h' instead.\n",
      "  index=pd.date_range(\"2019-01-01 00:00:00\", periods=8760, freq=\"H\")\n",
      "c:\\Users\\felix\\Programmieren\\districtgenerator\\.venv\\Lib\\site-packages\\teaser\\logic\\buildingobjects\\useconditions.py:363: FutureWarning: 'H' is deprecated and will be removed in a future version, please use 'h' instead.\n",
      "  index=pd.date_range(\"2019-01-01 00:00:00\", periods=8760, freq=\"H\")\n"
     ]
    },
    {
     "name": "stdout",
     "output_type": "stream",
     "text": [
      "Creating building AB\n",
      "Creating building AB\n"
     ]
    },
    {
     "name": "stderr",
     "output_type": "stream",
     "text": [
      "c:\\Users\\felix\\Programmieren\\districtgenerator\\.venv\\Lib\\site-packages\\teaser\\logic\\buildingobjects\\useconditions.py:363: FutureWarning: 'H' is deprecated and will be removed in a future version, please use 'h' instead.\n",
      "  index=pd.date_range(\"2019-01-01 00:00:00\", periods=8760, freq=\"H\")\n",
      "c:\\Users\\felix\\Programmieren\\districtgenerator\\.venv\\Lib\\site-packages\\teaser\\logic\\buildingobjects\\useconditions.py:363: FutureWarning: 'H' is deprecated and will be removed in a future version, please use 'h' instead.\n",
      "  index=pd.date_range(\"2019-01-01 00:00:00\", periods=8760, freq=\"H\")\n"
     ]
    },
    {
     "name": "stdout",
     "output_type": "stream",
     "text": [
      "Creating building AB\n"
     ]
    },
    {
     "name": "stderr",
     "output_type": "stream",
     "text": [
      "c:\\Users\\felix\\Programmieren\\districtgenerator\\.venv\\Lib\\site-packages\\teaser\\logic\\buildingobjects\\useconditions.py:363: FutureWarning: 'H' is deprecated and will be removed in a future version, please use 'h' instead.\n",
      "  index=pd.date_range(\"2019-01-01 00:00:00\", periods=8760, freq=\"H\")\n"
     ]
    },
    {
     "name": "stdout",
     "output_type": "stream",
     "text": [
      "Creating building IWU Transport\n",
      "We are about to generate a Non Residential building.\n",
      "Available building types: ['IWU Office, Administrative or Government Buildings', 'IWU Research and University Teaching', 'IWU Health and Care', 'IWU School, Day Nursery and other Care', 'IWU Culture and Leisure', 'IWU Sports Facilities', 'IWU Hotels, Boarding, Restaurants or Catering', 'IWU Production, Workshop, Warehouse or Operations', 'IWU Trade Buildings', 'IWU Technical and Utility (supply and disposal)', 'IWU Transport', 'IWU Generalized (1) Services building', 'IWU Generalized (2) Production buildings']\n",
      "Current usage: IWU Transport\n",
      "Creating building AB\n"
     ]
    },
    {
     "name": "stderr",
     "output_type": "stream",
     "text": [
      "c:\\Users\\felix\\Programmieren\\districtgenerator\\.venv\\Lib\\site-packages\\teaser\\logic\\buildingobjects\\useconditions.py:363: FutureWarning: 'H' is deprecated and will be removed in a future version, please use 'h' instead.\n",
      "  index=pd.date_range(\"2019-01-01 00:00:00\", periods=8760, freq=\"H\")\n",
      "c:\\Users\\felix\\Programmieren\\districtgenerator\\.venv\\Lib\\site-packages\\teaser\\logic\\buildingobjects\\useconditions.py:363: FutureWarning: 'H' is deprecated and will be removed in a future version, please use 'h' instead.\n",
      "  index=pd.date_range(\"2019-01-01 00:00:00\", periods=8760, freq=\"H\")\n"
     ]
    },
    {
     "name": "stdout",
     "output_type": "stream",
     "text": [
      "Creating building AB\n",
      "Creating building AB\n"
     ]
    },
    {
     "name": "stderr",
     "output_type": "stream",
     "text": [
      "c:\\Users\\felix\\Programmieren\\districtgenerator\\.venv\\Lib\\site-packages\\teaser\\logic\\buildingobjects\\useconditions.py:363: FutureWarning: 'H' is deprecated and will be removed in a future version, please use 'h' instead.\n",
      "  index=pd.date_range(\"2019-01-01 00:00:00\", periods=8760, freq=\"H\")\n"
     ]
    },
    {
     "name": "stdout",
     "output_type": "stream",
     "text": [
      "Creating building IWU Transport\n",
      "We are about to generate a Non Residential building.\n",
      "Available building types: ['IWU Office, Administrative or Government Buildings', 'IWU Research and University Teaching', 'IWU Health and Care', 'IWU School, Day Nursery and other Care', 'IWU Culture and Leisure', 'IWU Sports Facilities', 'IWU Hotels, Boarding, Restaurants or Catering', 'IWU Production, Workshop, Warehouse or Operations', 'IWU Trade Buildings', 'IWU Technical and Utility (supply and disposal)', 'IWU Transport', 'IWU Generalized (1) Services building', 'IWU Generalized (2) Production buildings']\n",
      "Current usage: IWU Transport\n",
      "Creating building AB\n"
     ]
    },
    {
     "name": "stderr",
     "output_type": "stream",
     "text": [
      "c:\\Users\\felix\\Programmieren\\districtgenerator\\.venv\\Lib\\site-packages\\teaser\\logic\\buildingobjects\\useconditions.py:363: FutureWarning: 'H' is deprecated and will be removed in a future version, please use 'h' instead.\n",
      "  index=pd.date_range(\"2019-01-01 00:00:00\", periods=8760, freq=\"H\")\n"
     ]
    },
    {
     "name": "stdout",
     "output_type": "stream",
     "text": [
      "Creating building AB\n",
      "Creating building AB\n"
     ]
    },
    {
     "name": "stderr",
     "output_type": "stream",
     "text": [
      "c:\\Users\\felix\\Programmieren\\districtgenerator\\.venv\\Lib\\site-packages\\teaser\\logic\\buildingobjects\\useconditions.py:363: FutureWarning: 'H' is deprecated and will be removed in a future version, please use 'h' instead.\n",
      "  index=pd.date_range(\"2019-01-01 00:00:00\", periods=8760, freq=\"H\")\n",
      "c:\\Users\\felix\\Programmieren\\districtgenerator\\.venv\\Lib\\site-packages\\teaser\\logic\\buildingobjects\\useconditions.py:363: FutureWarning: 'H' is deprecated and will be removed in a future version, please use 'h' instead.\n",
      "  index=pd.date_range(\"2019-01-01 00:00:00\", periods=8760, freq=\"H\")\n"
     ]
    },
    {
     "name": "stdout",
     "output_type": "stream",
     "text": [
      "Creating building AB\n"
     ]
    },
    {
     "name": "stderr",
     "output_type": "stream",
     "text": [
      "c:\\Users\\felix\\Programmieren\\districtgenerator\\.venv\\Lib\\site-packages\\teaser\\logic\\buildingobjects\\useconditions.py:363: FutureWarning: 'H' is deprecated and will be removed in a future version, please use 'h' instead.\n",
      "  index=pd.date_range(\"2019-01-01 00:00:00\", periods=8760, freq=\"H\")\n"
     ]
    },
    {
     "name": "stdout",
     "output_type": "stream",
     "text": [
      "Creating building AB\n",
      "Creating building AB\n"
     ]
    },
    {
     "name": "stderr",
     "output_type": "stream",
     "text": [
      "c:\\Users\\felix\\Programmieren\\districtgenerator\\.venv\\Lib\\site-packages\\teaser\\logic\\buildingobjects\\useconditions.py:363: FutureWarning: 'H' is deprecated and will be removed in a future version, please use 'h' instead.\n",
      "  index=pd.date_range(\"2019-01-01 00:00:00\", periods=8760, freq=\"H\")\n",
      "c:\\Users\\felix\\Programmieren\\districtgenerator\\.venv\\Lib\\site-packages\\teaser\\logic\\buildingobjects\\useconditions.py:363: FutureWarning: 'H' is deprecated and will be removed in a future version, please use 'h' instead.\n",
      "  index=pd.date_range(\"2019-01-01 00:00:00\", periods=8760, freq=\"H\")\n"
     ]
    },
    {
     "name": "stdout",
     "output_type": "stream",
     "text": [
      "Creating building IWU Hotels, Boarding, Restaurants or Catering\n",
      "We are about to generate a Non Residential building.\n",
      "Available building types: ['IWU Office, Administrative or Government Buildings', 'IWU Research and University Teaching', 'IWU Health and Care', 'IWU School, Day Nursery and other Care', 'IWU Culture and Leisure', 'IWU Sports Facilities', 'IWU Hotels, Boarding, Restaurants or Catering', 'IWU Production, Workshop, Warehouse or Operations', 'IWU Trade Buildings', 'IWU Technical and Utility (supply and disposal)', 'IWU Transport', 'IWU Generalized (1) Services building', 'IWU Generalized (2) Production buildings']\n",
      "Current usage: IWU Hotels, Boarding, Restaurants or Catering\n",
      "Creating building AB\n"
     ]
    },
    {
     "name": "stderr",
     "output_type": "stream",
     "text": [
      "c:\\Users\\felix\\Programmieren\\districtgenerator\\.venv\\Lib\\site-packages\\teaser\\logic\\buildingobjects\\useconditions.py:363: FutureWarning: 'H' is deprecated and will be removed in a future version, please use 'h' instead.\n",
      "  index=pd.date_range(\"2019-01-01 00:00:00\", periods=8760, freq=\"H\")\n"
     ]
    },
    {
     "name": "stdout",
     "output_type": "stream",
     "text": [
      "Creating building IWU Transport\n",
      "We are about to generate a Non Residential building.\n",
      "Available building types: ['IWU Office, Administrative or Government Buildings', 'IWU Research and University Teaching', 'IWU Health and Care', 'IWU School, Day Nursery and other Care', 'IWU Culture and Leisure', 'IWU Sports Facilities', 'IWU Hotels, Boarding, Restaurants or Catering', 'IWU Production, Workshop, Warehouse or Operations', 'IWU Trade Buildings', 'IWU Technical and Utility (supply and disposal)', 'IWU Transport', 'IWU Generalized (1) Services building', 'IWU Generalized (2) Production buildings']\n",
      "Current usage: IWU Transport\n",
      "Creating building AB\n"
     ]
    },
    {
     "name": "stderr",
     "output_type": "stream",
     "text": [
      "c:\\Users\\felix\\Programmieren\\districtgenerator\\.venv\\Lib\\site-packages\\teaser\\logic\\buildingobjects\\useconditions.py:363: FutureWarning: 'H' is deprecated and will be removed in a future version, please use 'h' instead.\n",
      "  index=pd.date_range(\"2019-01-01 00:00:00\", periods=8760, freq=\"H\")\n"
     ]
    },
    {
     "name": "stdout",
     "output_type": "stream",
     "text": [
      "Creating building IWU Transport\n",
      "We are about to generate a Non Residential building.\n",
      "Available building types: ['IWU Office, Administrative or Government Buildings', 'IWU Research and University Teaching', 'IWU Health and Care', 'IWU School, Day Nursery and other Care', 'IWU Culture and Leisure', 'IWU Sports Facilities', 'IWU Hotels, Boarding, Restaurants or Catering', 'IWU Production, Workshop, Warehouse or Operations', 'IWU Trade Buildings', 'IWU Technical and Utility (supply and disposal)', 'IWU Transport', 'IWU Generalized (1) Services building', 'IWU Generalized (2) Production buildings']\n",
      "Current usage: IWU Transport\n",
      "Creating building AB\n"
     ]
    },
    {
     "name": "stderr",
     "output_type": "stream",
     "text": [
      "c:\\Users\\felix\\Programmieren\\districtgenerator\\.venv\\Lib\\site-packages\\teaser\\logic\\buildingobjects\\useconditions.py:363: FutureWarning: 'H' is deprecated and will be removed in a future version, please use 'h' instead.\n",
      "  index=pd.date_range(\"2019-01-01 00:00:00\", periods=8760, freq=\"H\")\n",
      "c:\\Users\\felix\\Programmieren\\districtgenerator\\.venv\\Lib\\site-packages\\teaser\\logic\\buildingobjects\\useconditions.py:363: FutureWarning: 'H' is deprecated and will be removed in a future version, please use 'h' instead.\n",
      "  index=pd.date_range(\"2019-01-01 00:00:00\", periods=8760, freq=\"H\")\n"
     ]
    },
    {
     "name": "stdout",
     "output_type": "stream",
     "text": [
      "Creating building AB\n",
      "Creating building AB\n"
     ]
    },
    {
     "name": "stderr",
     "output_type": "stream",
     "text": [
      "c:\\Users\\felix\\Programmieren\\districtgenerator\\.venv\\Lib\\site-packages\\teaser\\logic\\buildingobjects\\useconditions.py:363: FutureWarning: 'H' is deprecated and will be removed in a future version, please use 'h' instead.\n",
      "  index=pd.date_range(\"2019-01-01 00:00:00\", periods=8760, freq=\"H\")\n",
      "c:\\Users\\felix\\Programmieren\\districtgenerator\\.venv\\Lib\\site-packages\\teaser\\logic\\buildingobjects\\useconditions.py:363: FutureWarning: 'H' is deprecated and will be removed in a future version, please use 'h' instead.\n",
      "  index=pd.date_range(\"2019-01-01 00:00:00\", periods=8760, freq=\"H\")\n"
     ]
    },
    {
     "name": "stdout",
     "output_type": "stream",
     "text": [
      "Creating building IWU Transport\n",
      "We are about to generate a Non Residential building.\n",
      "Available building types: ['IWU Office, Administrative or Government Buildings', 'IWU Research and University Teaching', 'IWU Health and Care', 'IWU School, Day Nursery and other Care', 'IWU Culture and Leisure', 'IWU Sports Facilities', 'IWU Hotels, Boarding, Restaurants or Catering', 'IWU Production, Workshop, Warehouse or Operations', 'IWU Trade Buildings', 'IWU Technical and Utility (supply and disposal)', 'IWU Transport', 'IWU Generalized (1) Services building', 'IWU Generalized (2) Production buildings']\n",
      "Current usage: IWU Transport\n",
      "Creating building AB\n",
      "Creating building AB\n"
     ]
    },
    {
     "name": "stderr",
     "output_type": "stream",
     "text": [
      "c:\\Users\\felix\\Programmieren\\districtgenerator\\.venv\\Lib\\site-packages\\teaser\\logic\\buildingobjects\\useconditions.py:363: FutureWarning: 'H' is deprecated and will be removed in a future version, please use 'h' instead.\n",
      "  index=pd.date_range(\"2019-01-01 00:00:00\", periods=8760, freq=\"H\")\n",
      "c:\\Users\\felix\\Programmieren\\districtgenerator\\.venv\\Lib\\site-packages\\teaser\\logic\\buildingobjects\\useconditions.py:363: FutureWarning: 'H' is deprecated and will be removed in a future version, please use 'h' instead.\n",
      "  index=pd.date_range(\"2019-01-01 00:00:00\", periods=8760, freq=\"H\")\n"
     ]
    },
    {
     "name": "stdout",
     "output_type": "stream",
     "text": [
      "Creating building AB\n",
      "Creating building AB\n"
     ]
    },
    {
     "name": "stderr",
     "output_type": "stream",
     "text": [
      "c:\\Users\\felix\\Programmieren\\districtgenerator\\.venv\\Lib\\site-packages\\teaser\\logic\\buildingobjects\\useconditions.py:363: FutureWarning: 'H' is deprecated and will be removed in a future version, please use 'h' instead.\n",
      "  index=pd.date_range(\"2019-01-01 00:00:00\", periods=8760, freq=\"H\")\n",
      "c:\\Users\\felix\\Programmieren\\districtgenerator\\.venv\\Lib\\site-packages\\teaser\\logic\\buildingobjects\\useconditions.py:363: FutureWarning: 'H' is deprecated and will be removed in a future version, please use 'h' instead.\n",
      "  index=pd.date_range(\"2019-01-01 00:00:00\", periods=8760, freq=\"H\")\n"
     ]
    },
    {
     "name": "stdout",
     "output_type": "stream",
     "text": [
      "Creating building AB\n",
      "Creating building AB\n"
     ]
    },
    {
     "name": "stderr",
     "output_type": "stream",
     "text": [
      "c:\\Users\\felix\\Programmieren\\districtgenerator\\.venv\\Lib\\site-packages\\teaser\\logic\\buildingobjects\\useconditions.py:363: FutureWarning: 'H' is deprecated and will be removed in a future version, please use 'h' instead.\n",
      "  index=pd.date_range(\"2019-01-01 00:00:00\", periods=8760, freq=\"H\")\n",
      "c:\\Users\\felix\\Programmieren\\districtgenerator\\.venv\\Lib\\site-packages\\teaser\\logic\\buildingobjects\\useconditions.py:363: FutureWarning: 'H' is deprecated and will be removed in a future version, please use 'h' instead.\n",
      "  index=pd.date_range(\"2019-01-01 00:00:00\", periods=8760, freq=\"H\")\n"
     ]
    },
    {
     "name": "stdout",
     "output_type": "stream",
     "text": [
      "Creating building AB\n",
      "Creating building AB\n"
     ]
    },
    {
     "name": "stderr",
     "output_type": "stream",
     "text": [
      "c:\\Users\\felix\\Programmieren\\districtgenerator\\.venv\\Lib\\site-packages\\teaser\\logic\\buildingobjects\\useconditions.py:363: FutureWarning: 'H' is deprecated and will be removed in a future version, please use 'h' instead.\n",
      "  index=pd.date_range(\"2019-01-01 00:00:00\", periods=8760, freq=\"H\")\n",
      "c:\\Users\\felix\\Programmieren\\districtgenerator\\.venv\\Lib\\site-packages\\teaser\\logic\\buildingobjects\\useconditions.py:363: FutureWarning: 'H' is deprecated and will be removed in a future version, please use 'h' instead.\n",
      "  index=pd.date_range(\"2019-01-01 00:00:00\", periods=8760, freq=\"H\")\n"
     ]
    },
    {
     "name": "stdout",
     "output_type": "stream",
     "text": [
      "Creating building AB\n",
      "Creating building AB\n"
     ]
    },
    {
     "name": "stderr",
     "output_type": "stream",
     "text": [
      "c:\\Users\\felix\\Programmieren\\districtgenerator\\.venv\\Lib\\site-packages\\teaser\\logic\\buildingobjects\\useconditions.py:363: FutureWarning: 'H' is deprecated and will be removed in a future version, please use 'h' instead.\n",
      "  index=pd.date_range(\"2019-01-01 00:00:00\", periods=8760, freq=\"H\")\n",
      "c:\\Users\\felix\\Programmieren\\districtgenerator\\.venv\\Lib\\site-packages\\teaser\\logic\\buildingobjects\\useconditions.py:363: FutureWarning: 'H' is deprecated and will be removed in a future version, please use 'h' instead.\n",
      "  index=pd.date_range(\"2019-01-01 00:00:00\", periods=8760, freq=\"H\")\n"
     ]
    },
    {
     "name": "stdout",
     "output_type": "stream",
     "text": [
      "Creating building AB\n",
      "Creating building AB\n"
     ]
    },
    {
     "name": "stderr",
     "output_type": "stream",
     "text": [
      "c:\\Users\\felix\\Programmieren\\districtgenerator\\.venv\\Lib\\site-packages\\teaser\\logic\\buildingobjects\\useconditions.py:363: FutureWarning: 'H' is deprecated and will be removed in a future version, please use 'h' instead.\n",
      "  index=pd.date_range(\"2019-01-01 00:00:00\", periods=8760, freq=\"H\")\n",
      "c:\\Users\\felix\\Programmieren\\districtgenerator\\.venv\\Lib\\site-packages\\teaser\\logic\\buildingobjects\\useconditions.py:363: FutureWarning: 'H' is deprecated and will be removed in a future version, please use 'h' instead.\n",
      "  index=pd.date_range(\"2019-01-01 00:00:00\", periods=8760, freq=\"H\")\n"
     ]
    },
    {
     "name": "stdout",
     "output_type": "stream",
     "text": [
      "Creating building AB\n",
      "Creating building AB\n",
      "Creating building IWU School, Day Nursery and other Care\n",
      "We are about to generate a Non Residential building.\n",
      "Available building types: ['IWU Office, Administrative or Government Buildings', 'IWU Research and University Teaching', 'IWU Health and Care', 'IWU School, Day Nursery and other Care', 'IWU Culture and Leisure', 'IWU Sports Facilities', 'IWU Hotels, Boarding, Restaurants or Catering', 'IWU Production, Workshop, Warehouse or Operations', 'IWU Trade Buildings', 'IWU Technical and Utility (supply and disposal)', 'IWU Transport', 'IWU Generalized (1) Services building', 'IWU Generalized (2) Production buildings']\n",
      "Current usage: IWU School, Day Nursery and other Care\n"
     ]
    },
    {
     "name": "stderr",
     "output_type": "stream",
     "text": [
      "c:\\Users\\felix\\Programmieren\\districtgenerator\\.venv\\Lib\\site-packages\\teaser\\logic\\buildingobjects\\useconditions.py:363: FutureWarning: 'H' is deprecated and will be removed in a future version, please use 'h' instead.\n",
      "  index=pd.date_range(\"2019-01-01 00:00:00\", periods=8760, freq=\"H\")\n"
     ]
    },
    {
     "name": "stdout",
     "output_type": "stream",
     "text": [
      "Creating building AB\n",
      "Creating building AB\n"
     ]
    },
    {
     "name": "stderr",
     "output_type": "stream",
     "text": [
      "c:\\Users\\felix\\Programmieren\\districtgenerator\\.venv\\Lib\\site-packages\\teaser\\logic\\buildingobjects\\useconditions.py:363: FutureWarning: 'H' is deprecated and will be removed in a future version, please use 'h' instead.\n",
      "  index=pd.date_range(\"2019-01-01 00:00:00\", periods=8760, freq=\"H\")\n",
      "c:\\Users\\felix\\Programmieren\\districtgenerator\\.venv\\Lib\\site-packages\\teaser\\logic\\buildingobjects\\useconditions.py:363: FutureWarning: 'H' is deprecated and will be removed in a future version, please use 'h' instead.\n",
      "  index=pd.date_range(\"2019-01-01 00:00:00\", periods=8760, freq=\"H\")\n"
     ]
    },
    {
     "name": "stdout",
     "output_type": "stream",
     "text": [
      "Creating building AB\n",
      "Creating building AB\n",
      "Creating building AB\n"
     ]
    },
    {
     "name": "stderr",
     "output_type": "stream",
     "text": [
      "c:\\Users\\felix\\Programmieren\\districtgenerator\\.venv\\Lib\\site-packages\\teaser\\logic\\buildingobjects\\useconditions.py:363: FutureWarning: 'H' is deprecated and will be removed in a future version, please use 'h' instead.\n",
      "  index=pd.date_range(\"2019-01-01 00:00:00\", periods=8760, freq=\"H\")\n",
      "c:\\Users\\felix\\Programmieren\\districtgenerator\\.venv\\Lib\\site-packages\\teaser\\logic\\buildingobjects\\useconditions.py:363: FutureWarning: 'H' is deprecated and will be removed in a future version, please use 'h' instead.\n",
      "  index=pd.date_range(\"2019-01-01 00:00:00\", periods=8760, freq=\"H\")\n",
      "c:\\Users\\felix\\Programmieren\\districtgenerator\\.venv\\Lib\\site-packages\\teaser\\logic\\buildingobjects\\useconditions.py:363: FutureWarning: 'H' is deprecated and will be removed in a future version, please use 'h' instead.\n",
      "  index=pd.date_range(\"2019-01-01 00:00:00\", periods=8760, freq=\"H\")\n"
     ]
    },
    {
     "name": "stdout",
     "output_type": "stream",
     "text": [
      "Creating building IWU Transport\n",
      "We are about to generate a Non Residential building.\n",
      "Available building types: ['IWU Office, Administrative or Government Buildings', 'IWU Research and University Teaching', 'IWU Health and Care', 'IWU School, Day Nursery and other Care', 'IWU Culture and Leisure', 'IWU Sports Facilities', 'IWU Hotels, Boarding, Restaurants or Catering', 'IWU Production, Workshop, Warehouse or Operations', 'IWU Trade Buildings', 'IWU Technical and Utility (supply and disposal)', 'IWU Transport', 'IWU Generalized (1) Services building', 'IWU Generalized (2) Production buildings']\n",
      "Current usage: IWU Transport\n",
      "Creating building AB\n"
     ]
    },
    {
     "name": "stderr",
     "output_type": "stream",
     "text": [
      "c:\\Users\\felix\\Programmieren\\districtgenerator\\.venv\\Lib\\site-packages\\teaser\\logic\\buildingobjects\\useconditions.py:363: FutureWarning: 'H' is deprecated and will be removed in a future version, please use 'h' instead.\n",
      "  index=pd.date_range(\"2019-01-01 00:00:00\", periods=8760, freq=\"H\")\n",
      "c:\\Users\\felix\\Programmieren\\districtgenerator\\.venv\\Lib\\site-packages\\teaser\\logic\\buildingobjects\\useconditions.py:363: FutureWarning: 'H' is deprecated and will be removed in a future version, please use 'h' instead.\n",
      "  index=pd.date_range(\"2019-01-01 00:00:00\", periods=8760, freq=\"H\")\n"
     ]
    },
    {
     "name": "stdout",
     "output_type": "stream",
     "text": [
      "Creating building AB\n",
      "Creating building AB\n"
     ]
    },
    {
     "name": "stderr",
     "output_type": "stream",
     "text": [
      "c:\\Users\\felix\\Programmieren\\districtgenerator\\.venv\\Lib\\site-packages\\teaser\\logic\\buildingobjects\\useconditions.py:363: FutureWarning: 'H' is deprecated and will be removed in a future version, please use 'h' instead.\n",
      "  index=pd.date_range(\"2019-01-01 00:00:00\", periods=8760, freq=\"H\")\n",
      "c:\\Users\\felix\\Programmieren\\districtgenerator\\.venv\\Lib\\site-packages\\teaser\\logic\\buildingobjects\\useconditions.py:363: FutureWarning: 'H' is deprecated and will be removed in a future version, please use 'h' instead.\n",
      "  index=pd.date_range(\"2019-01-01 00:00:00\", periods=8760, freq=\"H\")\n"
     ]
    },
    {
     "name": "stdout",
     "output_type": "stream",
     "text": [
      "Creating building AB\n",
      "Creating building AB\n"
     ]
    },
    {
     "name": "stderr",
     "output_type": "stream",
     "text": [
      "c:\\Users\\felix\\Programmieren\\districtgenerator\\.venv\\Lib\\site-packages\\teaser\\logic\\buildingobjects\\useconditions.py:363: FutureWarning: 'H' is deprecated and will be removed in a future version, please use 'h' instead.\n",
      "  index=pd.date_range(\"2019-01-01 00:00:00\", periods=8760, freq=\"H\")\n",
      "c:\\Users\\felix\\Programmieren\\districtgenerator\\.venv\\Lib\\site-packages\\teaser\\logic\\buildingobjects\\useconditions.py:363: FutureWarning: 'H' is deprecated and will be removed in a future version, please use 'h' instead.\n",
      "  index=pd.date_range(\"2019-01-01 00:00:00\", periods=8760, freq=\"H\")\n"
     ]
    },
    {
     "name": "stdout",
     "output_type": "stream",
     "text": [
      "Creating building AB\n",
      "Creating building AB\n"
     ]
    },
    {
     "name": "stderr",
     "output_type": "stream",
     "text": [
      "c:\\Users\\felix\\Programmieren\\districtgenerator\\.venv\\Lib\\site-packages\\teaser\\logic\\buildingobjects\\useconditions.py:363: FutureWarning: 'H' is deprecated and will be removed in a future version, please use 'h' instead.\n",
      "  index=pd.date_range(\"2019-01-01 00:00:00\", periods=8760, freq=\"H\")\n"
     ]
    },
    {
     "name": "stdout",
     "output_type": "stream",
     "text": [
      "Creating building IWU Trade Buildings\n",
      "We are about to generate a Non Residential building.\n",
      "Available building types: ['IWU Office, Administrative or Government Buildings', 'IWU Research and University Teaching', 'IWU Health and Care', 'IWU School, Day Nursery and other Care', 'IWU Culture and Leisure', 'IWU Sports Facilities', 'IWU Hotels, Boarding, Restaurants or Catering', 'IWU Production, Workshop, Warehouse or Operations', 'IWU Trade Buildings', 'IWU Technical and Utility (supply and disposal)', 'IWU Transport', 'IWU Generalized (1) Services building', 'IWU Generalized (2) Production buildings']\n",
      "Current usage: IWU Trade Buildings\n",
      "Creating building AB\n"
     ]
    },
    {
     "name": "stderr",
     "output_type": "stream",
     "text": [
      "c:\\Users\\felix\\Programmieren\\districtgenerator\\.venv\\Lib\\site-packages\\teaser\\logic\\buildingobjects\\useconditions.py:363: FutureWarning: 'H' is deprecated and will be removed in a future version, please use 'h' instead.\n",
      "  index=pd.date_range(\"2019-01-01 00:00:00\", periods=8760, freq=\"H\")\n"
     ]
    },
    {
     "name": "stdout",
     "output_type": "stream",
     "text": [
      "Creating building AB\n",
      "Creating building AB\n",
      "Creating building AB\n"
     ]
    },
    {
     "name": "stderr",
     "output_type": "stream",
     "text": [
      "c:\\Users\\felix\\Programmieren\\districtgenerator\\.venv\\Lib\\site-packages\\teaser\\logic\\buildingobjects\\useconditions.py:363: FutureWarning: 'H' is deprecated and will be removed in a future version, please use 'h' instead.\n",
      "  index=pd.date_range(\"2019-01-01 00:00:00\", periods=8760, freq=\"H\")\n",
      "c:\\Users\\felix\\Programmieren\\districtgenerator\\.venv\\Lib\\site-packages\\teaser\\logic\\buildingobjects\\useconditions.py:363: FutureWarning: 'H' is deprecated and will be removed in a future version, please use 'h' instead.\n",
      "  index=pd.date_range(\"2019-01-01 00:00:00\", periods=8760, freq=\"H\")\n",
      "c:\\Users\\felix\\Programmieren\\districtgenerator\\.venv\\Lib\\site-packages\\teaser\\logic\\buildingobjects\\useconditions.py:363: FutureWarning: 'H' is deprecated and will be removed in a future version, please use 'h' instead.\n",
      "  index=pd.date_range(\"2019-01-01 00:00:00\", periods=8760, freq=\"H\")\n"
     ]
    },
    {
     "name": "stdout",
     "output_type": "stream",
     "text": [
      "Creating building AB\n",
      "Creating building AB\n",
      "Creating building AB\n"
     ]
    },
    {
     "name": "stderr",
     "output_type": "stream",
     "text": [
      "c:\\Users\\felix\\Programmieren\\districtgenerator\\.venv\\Lib\\site-packages\\teaser\\logic\\buildingobjects\\useconditions.py:363: FutureWarning: 'H' is deprecated and will be removed in a future version, please use 'h' instead.\n",
      "  index=pd.date_range(\"2019-01-01 00:00:00\", periods=8760, freq=\"H\")\n",
      "c:\\Users\\felix\\Programmieren\\districtgenerator\\.venv\\Lib\\site-packages\\teaser\\logic\\buildingobjects\\useconditions.py:363: FutureWarning: 'H' is deprecated and will be removed in a future version, please use 'h' instead.\n",
      "  index=pd.date_range(\"2019-01-01 00:00:00\", periods=8760, freq=\"H\")\n",
      "c:\\Users\\felix\\Programmieren\\districtgenerator\\.venv\\Lib\\site-packages\\teaser\\logic\\buildingobjects\\useconditions.py:363: FutureWarning: 'H' is deprecated and will be removed in a future version, please use 'h' instead.\n",
      "  index=pd.date_range(\"2019-01-01 00:00:00\", periods=8760, freq=\"H\")\n"
     ]
    },
    {
     "name": "stdout",
     "output_type": "stream",
     "text": [
      "Creating building IWU School, Day Nursery and other Care\n",
      "We are about to generate a Non Residential building.\n",
      "Available building types: ['IWU Office, Administrative or Government Buildings', 'IWU Research and University Teaching', 'IWU Health and Care', 'IWU School, Day Nursery and other Care', 'IWU Culture and Leisure', 'IWU Sports Facilities', 'IWU Hotels, Boarding, Restaurants or Catering', 'IWU Production, Workshop, Warehouse or Operations', 'IWU Trade Buildings', 'IWU Technical and Utility (supply and disposal)', 'IWU Transport', 'IWU Generalized (1) Services building', 'IWU Generalized (2) Production buildings']\n",
      "Current usage: IWU School, Day Nursery and other Care\n",
      "Creating building AB\n",
      "Creating building AB\n"
     ]
    },
    {
     "name": "stderr",
     "output_type": "stream",
     "text": [
      "c:\\Users\\felix\\Programmieren\\districtgenerator\\.venv\\Lib\\site-packages\\teaser\\logic\\buildingobjects\\useconditions.py:363: FutureWarning: 'H' is deprecated and will be removed in a future version, please use 'h' instead.\n",
      "  index=pd.date_range(\"2019-01-01 00:00:00\", periods=8760, freq=\"H\")\n",
      "c:\\Users\\felix\\Programmieren\\districtgenerator\\.venv\\Lib\\site-packages\\teaser\\logic\\buildingobjects\\useconditions.py:363: FutureWarning: 'H' is deprecated and will be removed in a future version, please use 'h' instead.\n",
      "  index=pd.date_range(\"2019-01-01 00:00:00\", periods=8760, freq=\"H\")\n"
     ]
    },
    {
     "name": "stdout",
     "output_type": "stream",
     "text": [
      "Creating building AB\n",
      "Creating building IWU Research and University Teaching\n",
      "We are about to generate a Non Residential building.\n",
      "Available building types: ['IWU Office, Administrative or Government Buildings', 'IWU Research and University Teaching', 'IWU Health and Care', 'IWU School, Day Nursery and other Care', 'IWU Culture and Leisure', 'IWU Sports Facilities', 'IWU Hotels, Boarding, Restaurants or Catering', 'IWU Production, Workshop, Warehouse or Operations', 'IWU Trade Buildings', 'IWU Technical and Utility (supply and disposal)', 'IWU Transport', 'IWU Generalized (1) Services building', 'IWU Generalized (2) Production buildings']\n",
      "Current usage: IWU Research and University Teaching\n"
     ]
    },
    {
     "name": "stderr",
     "output_type": "stream",
     "text": [
      "c:\\Users\\felix\\Programmieren\\districtgenerator\\.venv\\Lib\\site-packages\\teaser\\logic\\buildingobjects\\useconditions.py:363: FutureWarning: 'H' is deprecated and will be removed in a future version, please use 'h' instead.\n",
      "  index=pd.date_range(\"2019-01-01 00:00:00\", periods=8760, freq=\"H\")\n"
     ]
    },
    {
     "name": "stdout",
     "output_type": "stream",
     "text": [
      "Creating building AB\n",
      "Creating building AB\n"
     ]
    },
    {
     "name": "stderr",
     "output_type": "stream",
     "text": [
      "c:\\Users\\felix\\Programmieren\\districtgenerator\\.venv\\Lib\\site-packages\\teaser\\logic\\buildingobjects\\useconditions.py:363: FutureWarning: 'H' is deprecated and will be removed in a future version, please use 'h' instead.\n",
      "  index=pd.date_range(\"2019-01-01 00:00:00\", periods=8760, freq=\"H\")\n",
      "c:\\Users\\felix\\Programmieren\\districtgenerator\\.venv\\Lib\\site-packages\\teaser\\logic\\buildingobjects\\useconditions.py:363: FutureWarning: 'H' is deprecated and will be removed in a future version, please use 'h' instead.\n",
      "  index=pd.date_range(\"2019-01-01 00:00:00\", periods=8760, freq=\"H\")\n"
     ]
    },
    {
     "name": "stdout",
     "output_type": "stream",
     "text": [
      "Creating building AB\n",
      "Creating building AB\n"
     ]
    },
    {
     "name": "stderr",
     "output_type": "stream",
     "text": [
      "c:\\Users\\felix\\Programmieren\\districtgenerator\\.venv\\Lib\\site-packages\\teaser\\logic\\buildingobjects\\useconditions.py:363: FutureWarning: 'H' is deprecated and will be removed in a future version, please use 'h' instead.\n",
      "  index=pd.date_range(\"2019-01-01 00:00:00\", periods=8760, freq=\"H\")\n",
      "c:\\Users\\felix\\Programmieren\\districtgenerator\\.venv\\Lib\\site-packages\\teaser\\logic\\buildingobjects\\useconditions.py:363: FutureWarning: 'H' is deprecated and will be removed in a future version, please use 'h' instead.\n",
      "  index=pd.date_range(\"2019-01-01 00:00:00\", periods=8760, freq=\"H\")\n"
     ]
    },
    {
     "name": "stdout",
     "output_type": "stream",
     "text": [
      "Creating building AB\n",
      "Creating building AB\n"
     ]
    },
    {
     "name": "stderr",
     "output_type": "stream",
     "text": [
      "c:\\Users\\felix\\Programmieren\\districtgenerator\\.venv\\Lib\\site-packages\\teaser\\logic\\buildingobjects\\useconditions.py:363: FutureWarning: 'H' is deprecated and will be removed in a future version, please use 'h' instead.\n",
      "  index=pd.date_range(\"2019-01-01 00:00:00\", periods=8760, freq=\"H\")\n",
      "c:\\Users\\felix\\Programmieren\\districtgenerator\\.venv\\Lib\\site-packages\\teaser\\logic\\buildingobjects\\useconditions.py:363: FutureWarning: 'H' is deprecated and will be removed in a future version, please use 'h' instead.\n",
      "  index=pd.date_range(\"2019-01-01 00:00:00\", periods=8760, freq=\"H\")\n"
     ]
    },
    {
     "name": "stdout",
     "output_type": "stream",
     "text": [
      "Creating building AB\n",
      "Creating building AB\n"
     ]
    },
    {
     "name": "stderr",
     "output_type": "stream",
     "text": [
      "c:\\Users\\felix\\Programmieren\\districtgenerator\\.venv\\Lib\\site-packages\\teaser\\logic\\buildingobjects\\useconditions.py:363: FutureWarning: 'H' is deprecated and will be removed in a future version, please use 'h' instead.\n",
      "  index=pd.date_range(\"2019-01-01 00:00:00\", periods=8760, freq=\"H\")\n",
      "c:\\Users\\felix\\Programmieren\\districtgenerator\\.venv\\Lib\\site-packages\\teaser\\logic\\buildingobjects\\useconditions.py:363: FutureWarning: 'H' is deprecated and will be removed in a future version, please use 'h' instead.\n",
      "  index=pd.date_range(\"2019-01-01 00:00:00\", periods=8760, freq=\"H\")\n"
     ]
    },
    {
     "name": "stdout",
     "output_type": "stream",
     "text": [
      "Creating building AB\n",
      "Creating building AB\n"
     ]
    },
    {
     "name": "stderr",
     "output_type": "stream",
     "text": [
      "c:\\Users\\felix\\Programmieren\\districtgenerator\\.venv\\Lib\\site-packages\\teaser\\logic\\buildingobjects\\useconditions.py:363: FutureWarning: 'H' is deprecated and will be removed in a future version, please use 'h' instead.\n",
      "  index=pd.date_range(\"2019-01-01 00:00:00\", periods=8760, freq=\"H\")\n",
      "c:\\Users\\felix\\Programmieren\\districtgenerator\\.venv\\Lib\\site-packages\\teaser\\logic\\buildingobjects\\useconditions.py:363: FutureWarning: 'H' is deprecated and will be removed in a future version, please use 'h' instead.\n",
      "  index=pd.date_range(\"2019-01-01 00:00:00\", periods=8760, freq=\"H\")\n"
     ]
    },
    {
     "name": "stdout",
     "output_type": "stream",
     "text": [
      "Creating building AB\n",
      "Creating building AB\n"
     ]
    },
    {
     "name": "stderr",
     "output_type": "stream",
     "text": [
      "c:\\Users\\felix\\Programmieren\\districtgenerator\\.venv\\Lib\\site-packages\\teaser\\logic\\buildingobjects\\useconditions.py:363: FutureWarning: 'H' is deprecated and will be removed in a future version, please use 'h' instead.\n",
      "  index=pd.date_range(\"2019-01-01 00:00:00\", periods=8760, freq=\"H\")\n",
      "c:\\Users\\felix\\Programmieren\\districtgenerator\\.venv\\Lib\\site-packages\\teaser\\logic\\buildingobjects\\useconditions.py:363: FutureWarning: 'H' is deprecated and will be removed in a future version, please use 'h' instead.\n",
      "  index=pd.date_range(\"2019-01-01 00:00:00\", periods=8760, freq=\"H\")\n"
     ]
    },
    {
     "name": "stdout",
     "output_type": "stream",
     "text": [
      "Creating building AB\n",
      "Creating building AB\n"
     ]
    },
    {
     "name": "stderr",
     "output_type": "stream",
     "text": [
      "c:\\Users\\felix\\Programmieren\\districtgenerator\\.venv\\Lib\\site-packages\\teaser\\logic\\buildingobjects\\useconditions.py:363: FutureWarning: 'H' is deprecated and will be removed in a future version, please use 'h' instead.\n",
      "  index=pd.date_range(\"2019-01-01 00:00:00\", periods=8760, freq=\"H\")\n",
      "c:\\Users\\felix\\Programmieren\\districtgenerator\\.venv\\Lib\\site-packages\\teaser\\logic\\buildingobjects\\useconditions.py:363: FutureWarning: 'H' is deprecated and will be removed in a future version, please use 'h' instead.\n",
      "  index=pd.date_range(\"2019-01-01 00:00:00\", periods=8760, freq=\"H\")\n"
     ]
    },
    {
     "name": "stdout",
     "output_type": "stream",
     "text": [
      "Creating building AB\n",
      "Creating building AB\n"
     ]
    },
    {
     "name": "stderr",
     "output_type": "stream",
     "text": [
      "c:\\Users\\felix\\Programmieren\\districtgenerator\\.venv\\Lib\\site-packages\\teaser\\logic\\buildingobjects\\useconditions.py:363: FutureWarning: 'H' is deprecated and will be removed in a future version, please use 'h' instead.\n",
      "  index=pd.date_range(\"2019-01-01 00:00:00\", periods=8760, freq=\"H\")\n",
      "c:\\Users\\felix\\Programmieren\\districtgenerator\\.venv\\Lib\\site-packages\\teaser\\logic\\buildingobjects\\useconditions.py:363: FutureWarning: 'H' is deprecated and will be removed in a future version, please use 'h' instead.\n",
      "  index=pd.date_range(\"2019-01-01 00:00:00\", periods=8760, freq=\"H\")\n"
     ]
    },
    {
     "name": "stdout",
     "output_type": "stream",
     "text": [
      "Creating building AB\n",
      "Creating building AB\n",
      "Creating building AB\n"
     ]
    },
    {
     "name": "stderr",
     "output_type": "stream",
     "text": [
      "c:\\Users\\felix\\Programmieren\\districtgenerator\\.venv\\Lib\\site-packages\\teaser\\logic\\buildingobjects\\useconditions.py:363: FutureWarning: 'H' is deprecated and will be removed in a future version, please use 'h' instead.\n",
      "  index=pd.date_range(\"2019-01-01 00:00:00\", periods=8760, freq=\"H\")\n",
      "c:\\Users\\felix\\Programmieren\\districtgenerator\\.venv\\Lib\\site-packages\\teaser\\logic\\buildingobjects\\useconditions.py:363: FutureWarning: 'H' is deprecated and will be removed in a future version, please use 'h' instead.\n",
      "  index=pd.date_range(\"2019-01-01 00:00:00\", periods=8760, freq=\"H\")\n",
      "c:\\Users\\felix\\Programmieren\\districtgenerator\\.venv\\Lib\\site-packages\\teaser\\logic\\buildingobjects\\useconditions.py:363: FutureWarning: 'H' is deprecated and will be removed in a future version, please use 'h' instead.\n",
      "  index=pd.date_range(\"2019-01-01 00:00:00\", periods=8760, freq=\"H\")\n"
     ]
    },
    {
     "name": "stdout",
     "output_type": "stream",
     "text": [
      "Creating building IWU Culture and Leisure\n",
      "We are about to generate a Non Residential building.\n",
      "Available building types: ['IWU Office, Administrative or Government Buildings', 'IWU Research and University Teaching', 'IWU Health and Care', 'IWU School, Day Nursery and other Care', 'IWU Culture and Leisure', 'IWU Sports Facilities', 'IWU Hotels, Boarding, Restaurants or Catering', 'IWU Production, Workshop, Warehouse or Operations', 'IWU Trade Buildings', 'IWU Technical and Utility (supply and disposal)', 'IWU Transport', 'IWU Generalized (1) Services building', 'IWU Generalized (2) Production buildings']\n",
      "Current usage: IWU Culture and Leisure\n",
      "Creating building AB\n"
     ]
    },
    {
     "name": "stderr",
     "output_type": "stream",
     "text": [
      "c:\\Users\\felix\\Programmieren\\districtgenerator\\.venv\\Lib\\site-packages\\teaser\\logic\\buildingobjects\\useconditions.py:363: FutureWarning: 'H' is deprecated and will be removed in a future version, please use 'h' instead.\n",
      "  index=pd.date_range(\"2019-01-01 00:00:00\", periods=8760, freq=\"H\")\n",
      "c:\\Users\\felix\\Programmieren\\districtgenerator\\.venv\\Lib\\site-packages\\teaser\\logic\\buildingobjects\\useconditions.py:363: FutureWarning: 'H' is deprecated and will be removed in a future version, please use 'h' instead.\n",
      "  index=pd.date_range(\"2019-01-01 00:00:00\", periods=8760, freq=\"H\")\n"
     ]
    },
    {
     "name": "stdout",
     "output_type": "stream",
     "text": [
      "Creating building AB\n",
      "Creating building AB\n"
     ]
    },
    {
     "name": "stderr",
     "output_type": "stream",
     "text": [
      "c:\\Users\\felix\\Programmieren\\districtgenerator\\.venv\\Lib\\site-packages\\teaser\\logic\\buildingobjects\\useconditions.py:363: FutureWarning: 'H' is deprecated and will be removed in a future version, please use 'h' instead.\n",
      "  index=pd.date_range(\"2019-01-01 00:00:00\", periods=8760, freq=\"H\")\n",
      "c:\\Users\\felix\\Programmieren\\districtgenerator\\.venv\\Lib\\site-packages\\teaser\\logic\\buildingobjects\\useconditions.py:363: FutureWarning: 'H' is deprecated and will be removed in a future version, please use 'h' instead.\n",
      "  index=pd.date_range(\"2019-01-01 00:00:00\", periods=8760, freq=\"H\")\n"
     ]
    },
    {
     "name": "stdout",
     "output_type": "stream",
     "text": [
      "Creating building IWU Research and University Teaching\n",
      "We are about to generate a Non Residential building.\n",
      "Available building types: ['IWU Office, Administrative or Government Buildings', 'IWU Research and University Teaching', 'IWU Health and Care', 'IWU School, Day Nursery and other Care', 'IWU Culture and Leisure', 'IWU Sports Facilities', 'IWU Hotels, Boarding, Restaurants or Catering', 'IWU Production, Workshop, Warehouse or Operations', 'IWU Trade Buildings', 'IWU Technical and Utility (supply and disposal)', 'IWU Transport', 'IWU Generalized (1) Services building', 'IWU Generalized (2) Production buildings']\n",
      "Current usage: IWU Research and University Teaching\n",
      "Creating building AB\n",
      "Creating building AB\n"
     ]
    },
    {
     "name": "stderr",
     "output_type": "stream",
     "text": [
      "c:\\Users\\felix\\Programmieren\\districtgenerator\\.venv\\Lib\\site-packages\\teaser\\logic\\buildingobjects\\useconditions.py:363: FutureWarning: 'H' is deprecated and will be removed in a future version, please use 'h' instead.\n",
      "  index=pd.date_range(\"2019-01-01 00:00:00\", periods=8760, freq=\"H\")\n",
      "c:\\Users\\felix\\Programmieren\\districtgenerator\\.venv\\Lib\\site-packages\\teaser\\logic\\buildingobjects\\useconditions.py:363: FutureWarning: 'H' is deprecated and will be removed in a future version, please use 'h' instead.\n",
      "  index=pd.date_range(\"2019-01-01 00:00:00\", periods=8760, freq=\"H\")\n"
     ]
    },
    {
     "name": "stdout",
     "output_type": "stream",
     "text": [
      "Creating building AB\n",
      "Creating building AB\n"
     ]
    },
    {
     "name": "stderr",
     "output_type": "stream",
     "text": [
      "c:\\Users\\felix\\Programmieren\\districtgenerator\\.venv\\Lib\\site-packages\\teaser\\logic\\buildingobjects\\useconditions.py:363: FutureWarning: 'H' is deprecated and will be removed in a future version, please use 'h' instead.\n",
      "  index=pd.date_range(\"2019-01-01 00:00:00\", periods=8760, freq=\"H\")\n"
     ]
    },
    {
     "name": "stdout",
     "output_type": "stream",
     "text": [
      "Creating building IWU Office, Administrative or Government Buildings\n",
      "We are about to generate a Non Residential building.\n",
      "Available building types: ['IWU Office, Administrative or Government Buildings', 'IWU Research and University Teaching', 'IWU Health and Care', 'IWU School, Day Nursery and other Care', 'IWU Culture and Leisure', 'IWU Sports Facilities', 'IWU Hotels, Boarding, Restaurants or Catering', 'IWU Production, Workshop, Warehouse or Operations', 'IWU Trade Buildings', 'IWU Technical and Utility (supply and disposal)', 'IWU Transport', 'IWU Generalized (1) Services building', 'IWU Generalized (2) Production buildings']\n",
      "Current usage: IWU Office, Administrative or Government Buildings\n",
      "Creating building AB\n"
     ]
    },
    {
     "name": "stderr",
     "output_type": "stream",
     "text": [
      "c:\\Users\\felix\\Programmieren\\districtgenerator\\.venv\\Lib\\site-packages\\teaser\\logic\\buildingobjects\\useconditions.py:363: FutureWarning: 'H' is deprecated and will be removed in a future version, please use 'h' instead.\n",
      "  index=pd.date_range(\"2019-01-01 00:00:00\", periods=8760, freq=\"H\")\n",
      "c:\\Users\\felix\\Programmieren\\districtgenerator\\.venv\\Lib\\site-packages\\teaser\\logic\\buildingobjects\\useconditions.py:363: FutureWarning: 'H' is deprecated and will be removed in a future version, please use 'h' instead.\n",
      "  index=pd.date_range(\"2019-01-01 00:00:00\", periods=8760, freq=\"H\")\n"
     ]
    },
    {
     "name": "stdout",
     "output_type": "stream",
     "text": [
      "Creating building AB\n",
      "Creating building AB\n"
     ]
    },
    {
     "name": "stderr",
     "output_type": "stream",
     "text": [
      "c:\\Users\\felix\\Programmieren\\districtgenerator\\.venv\\Lib\\site-packages\\teaser\\logic\\buildingobjects\\useconditions.py:363: FutureWarning: 'H' is deprecated and will be removed in a future version, please use 'h' instead.\n",
      "  index=pd.date_range(\"2019-01-01 00:00:00\", periods=8760, freq=\"H\")\n"
     ]
    },
    {
     "name": "stdout",
     "output_type": "stream",
     "text": [
      "Creating building AB\n",
      "Creating building AB\n"
     ]
    },
    {
     "name": "stderr",
     "output_type": "stream",
     "text": [
      "c:\\Users\\felix\\Programmieren\\districtgenerator\\.venv\\Lib\\site-packages\\teaser\\logic\\buildingobjects\\useconditions.py:363: FutureWarning: 'H' is deprecated and will be removed in a future version, please use 'h' instead.\n",
      "  index=pd.date_range(\"2019-01-01 00:00:00\", periods=8760, freq=\"H\")\n",
      "c:\\Users\\felix\\Programmieren\\districtgenerator\\.venv\\Lib\\site-packages\\teaser\\logic\\buildingobjects\\useconditions.py:363: FutureWarning: 'H' is deprecated and will be removed in a future version, please use 'h' instead.\n",
      "  index=pd.date_range(\"2019-01-01 00:00:00\", periods=8760, freq=\"H\")\n"
     ]
    },
    {
     "name": "stdout",
     "output_type": "stream",
     "text": [
      "Creating building AB\n",
      "Creating building AB\n"
     ]
    },
    {
     "name": "stderr",
     "output_type": "stream",
     "text": [
      "c:\\Users\\felix\\Programmieren\\districtgenerator\\.venv\\Lib\\site-packages\\teaser\\logic\\buildingobjects\\useconditions.py:363: FutureWarning: 'H' is deprecated and will be removed in a future version, please use 'h' instead.\n",
      "  index=pd.date_range(\"2019-01-01 00:00:00\", periods=8760, freq=\"H\")\n",
      "c:\\Users\\felix\\Programmieren\\districtgenerator\\.venv\\Lib\\site-packages\\teaser\\logic\\buildingobjects\\useconditions.py:363: FutureWarning: 'H' is deprecated and will be removed in a future version, please use 'h' instead.\n",
      "  index=pd.date_range(\"2019-01-01 00:00:00\", periods=8760, freq=\"H\")\n"
     ]
    },
    {
     "name": "stdout",
     "output_type": "stream",
     "text": [
      "Creating building IWU School, Day Nursery and other Care\n",
      "We are about to generate a Non Residential building.\n",
      "Available building types: ['IWU Office, Administrative or Government Buildings', 'IWU Research and University Teaching', 'IWU Health and Care', 'IWU School, Day Nursery and other Care', 'IWU Culture and Leisure', 'IWU Sports Facilities', 'IWU Hotels, Boarding, Restaurants or Catering', 'IWU Production, Workshop, Warehouse or Operations', 'IWU Trade Buildings', 'IWU Technical and Utility (supply and disposal)', 'IWU Transport', 'IWU Generalized (1) Services building', 'IWU Generalized (2) Production buildings']\n",
      "Current usage: IWU School, Day Nursery and other Care\n",
      "Creating building AB\n",
      "Creating building IWU School, Day Nursery and other Care\n",
      "We are about to generate a Non Residential building.\n",
      "Available building types: ['IWU Office, Administrative or Government Buildings', 'IWU Research and University Teaching', 'IWU Health and Care', 'IWU School, Day Nursery and other Care', 'IWU Culture and Leisure', 'IWU Sports Facilities', 'IWU Hotels, Boarding, Restaurants or Catering', 'IWU Production, Workshop, Warehouse or Operations', 'IWU Trade Buildings', 'IWU Technical and Utility (supply and disposal)', 'IWU Transport', 'IWU Generalized (1) Services building', 'IWU Generalized (2) Production buildings']\n",
      "Current usage: IWU School, Day Nursery and other Care\n"
     ]
    },
    {
     "name": "stderr",
     "output_type": "stream",
     "text": [
      "c:\\Users\\felix\\Programmieren\\districtgenerator\\.venv\\Lib\\site-packages\\teaser\\logic\\buildingobjects\\useconditions.py:363: FutureWarning: 'H' is deprecated and will be removed in a future version, please use 'h' instead.\n",
      "  index=pd.date_range(\"2019-01-01 00:00:00\", periods=8760, freq=\"H\")\n",
      "c:\\Users\\felix\\Programmieren\\districtgenerator\\.venv\\Lib\\site-packages\\teaser\\logic\\buildingobjects\\useconditions.py:363: FutureWarning: 'H' is deprecated and will be removed in a future version, please use 'h' instead.\n",
      "  index=pd.date_range(\"2019-01-01 00:00:00\", periods=8760, freq=\"H\")\n"
     ]
    },
    {
     "name": "stdout",
     "output_type": "stream",
     "text": [
      "Creating building AB\n",
      "Creating building IWU Transport\n",
      "We are about to generate a Non Residential building.\n",
      "Available building types: ['IWU Office, Administrative or Government Buildings', 'IWU Research and University Teaching', 'IWU Health and Care', 'IWU School, Day Nursery and other Care', 'IWU Culture and Leisure', 'IWU Sports Facilities', 'IWU Hotels, Boarding, Restaurants or Catering', 'IWU Production, Workshop, Warehouse or Operations', 'IWU Trade Buildings', 'IWU Technical and Utility (supply and disposal)', 'IWU Transport', 'IWU Generalized (1) Services building', 'IWU Generalized (2) Production buildings']\n",
      "Current usage: IWU Transport\n",
      "Creating building AB\n"
     ]
    },
    {
     "name": "stderr",
     "output_type": "stream",
     "text": [
      "c:\\Users\\felix\\Programmieren\\districtgenerator\\.venv\\Lib\\site-packages\\teaser\\logic\\buildingobjects\\useconditions.py:363: FutureWarning: 'H' is deprecated and will be removed in a future version, please use 'h' instead.\n",
      "  index=pd.date_range(\"2019-01-01 00:00:00\", periods=8760, freq=\"H\")\n",
      "c:\\Users\\felix\\Programmieren\\districtgenerator\\.venv\\Lib\\site-packages\\teaser\\logic\\buildingobjects\\useconditions.py:363: FutureWarning: 'H' is deprecated and will be removed in a future version, please use 'h' instead.\n",
      "  index=pd.date_range(\"2019-01-01 00:00:00\", periods=8760, freq=\"H\")\n"
     ]
    },
    {
     "name": "stdout",
     "output_type": "stream",
     "text": [
      "Creating building AB\n",
      "Creating building AB\n"
     ]
    },
    {
     "name": "stderr",
     "output_type": "stream",
     "text": [
      "c:\\Users\\felix\\Programmieren\\districtgenerator\\.venv\\Lib\\site-packages\\teaser\\logic\\buildingobjects\\useconditions.py:363: FutureWarning: 'H' is deprecated and will be removed in a future version, please use 'h' instead.\n",
      "  index=pd.date_range(\"2019-01-01 00:00:00\", periods=8760, freq=\"H\")\n",
      "c:\\Users\\felix\\Programmieren\\districtgenerator\\.venv\\Lib\\site-packages\\teaser\\logic\\buildingobjects\\useconditions.py:363: FutureWarning: 'H' is deprecated and will be removed in a future version, please use 'h' instead.\n",
      "  index=pd.date_range(\"2019-01-01 00:00:00\", periods=8760, freq=\"H\")\n"
     ]
    },
    {
     "name": "stdout",
     "output_type": "stream",
     "text": [
      "Creating building AB\n",
      "Creating building IWU Transport\n",
      "We are about to generate a Non Residential building.\n",
      "Available building types: ['IWU Office, Administrative or Government Buildings', 'IWU Research and University Teaching', 'IWU Health and Care', 'IWU School, Day Nursery and other Care', 'IWU Culture and Leisure', 'IWU Sports Facilities', 'IWU Hotels, Boarding, Restaurants or Catering', 'IWU Production, Workshop, Warehouse or Operations', 'IWU Trade Buildings', 'IWU Technical and Utility (supply and disposal)', 'IWU Transport', 'IWU Generalized (1) Services building', 'IWU Generalized (2) Production buildings']\n",
      "Current usage: IWU Transport\n",
      "Creating building AB\n",
      "Creating building AB\n"
     ]
    },
    {
     "name": "stderr",
     "output_type": "stream",
     "text": [
      "c:\\Users\\felix\\Programmieren\\districtgenerator\\.venv\\Lib\\site-packages\\teaser\\logic\\buildingobjects\\useconditions.py:363: FutureWarning: 'H' is deprecated and will be removed in a future version, please use 'h' instead.\n",
      "  index=pd.date_range(\"2019-01-01 00:00:00\", periods=8760, freq=\"H\")\n",
      "c:\\Users\\felix\\Programmieren\\districtgenerator\\.venv\\Lib\\site-packages\\teaser\\logic\\buildingobjects\\useconditions.py:363: FutureWarning: 'H' is deprecated and will be removed in a future version, please use 'h' instead.\n",
      "  index=pd.date_range(\"2019-01-01 00:00:00\", periods=8760, freq=\"H\")\n"
     ]
    },
    {
     "name": "stdout",
     "output_type": "stream",
     "text": [
      "Creating building AB\n",
      "Creating building AB\n"
     ]
    },
    {
     "name": "stderr",
     "output_type": "stream",
     "text": [
      "c:\\Users\\felix\\Programmieren\\districtgenerator\\.venv\\Lib\\site-packages\\teaser\\logic\\buildingobjects\\useconditions.py:363: FutureWarning: 'H' is deprecated and will be removed in a future version, please use 'h' instead.\n",
      "  index=pd.date_range(\"2019-01-01 00:00:00\", periods=8760, freq=\"H\")\n",
      "c:\\Users\\felix\\Programmieren\\districtgenerator\\.venv\\Lib\\site-packages\\teaser\\logic\\buildingobjects\\useconditions.py:363: FutureWarning: 'H' is deprecated and will be removed in a future version, please use 'h' instead.\n",
      "  index=pd.date_range(\"2019-01-01 00:00:00\", periods=8760, freq=\"H\")\n"
     ]
    },
    {
     "name": "stdout",
     "output_type": "stream",
     "text": [
      "Creating building AB\n",
      "Creating building AB\n"
     ]
    },
    {
     "name": "stderr",
     "output_type": "stream",
     "text": [
      "c:\\Users\\felix\\Programmieren\\districtgenerator\\.venv\\Lib\\site-packages\\teaser\\logic\\buildingobjects\\useconditions.py:363: FutureWarning: 'H' is deprecated and will be removed in a future version, please use 'h' instead.\n",
      "  index=pd.date_range(\"2019-01-01 00:00:00\", periods=8760, freq=\"H\")\n",
      "c:\\Users\\felix\\Programmieren\\districtgenerator\\.venv\\Lib\\site-packages\\teaser\\logic\\buildingobjects\\useconditions.py:363: FutureWarning: 'H' is deprecated and will be removed in a future version, please use 'h' instead.\n",
      "  index=pd.date_range(\"2019-01-01 00:00:00\", periods=8760, freq=\"H\")\n"
     ]
    },
    {
     "name": "stdout",
     "output_type": "stream",
     "text": [
      "Creating building AB\n",
      "Creating building IWU School, Day Nursery and other Care\n",
      "We are about to generate a Non Residential building.\n",
      "Available building types: ['IWU Office, Administrative or Government Buildings', 'IWU Research and University Teaching', 'IWU Health and Care', 'IWU School, Day Nursery and other Care', 'IWU Culture and Leisure', 'IWU Sports Facilities', 'IWU Hotels, Boarding, Restaurants or Catering', 'IWU Production, Workshop, Warehouse or Operations', 'IWU Trade Buildings', 'IWU Technical and Utility (supply and disposal)', 'IWU Transport', 'IWU Generalized (1) Services building', 'IWU Generalized (2) Production buildings']\n",
      "Current usage: IWU School, Day Nursery and other Care\n"
     ]
    },
    {
     "name": "stderr",
     "output_type": "stream",
     "text": [
      "c:\\Users\\felix\\Programmieren\\districtgenerator\\.venv\\Lib\\site-packages\\teaser\\logic\\buildingobjects\\useconditions.py:363: FutureWarning: 'H' is deprecated and will be removed in a future version, please use 'h' instead.\n",
      "  index=pd.date_range(\"2019-01-01 00:00:00\", periods=8760, freq=\"H\")\n"
     ]
    },
    {
     "name": "stdout",
     "output_type": "stream",
     "text": [
      "Creating building AB\n",
      "Creating building AB\n"
     ]
    },
    {
     "name": "stderr",
     "output_type": "stream",
     "text": [
      "c:\\Users\\felix\\Programmieren\\districtgenerator\\.venv\\Lib\\site-packages\\teaser\\logic\\buildingobjects\\useconditions.py:363: FutureWarning: 'H' is deprecated and will be removed in a future version, please use 'h' instead.\n",
      "  index=pd.date_range(\"2019-01-01 00:00:00\", periods=8760, freq=\"H\")\n",
      "c:\\Users\\felix\\Programmieren\\districtgenerator\\.venv\\Lib\\site-packages\\teaser\\logic\\buildingobjects\\useconditions.py:363: FutureWarning: 'H' is deprecated and will be removed in a future version, please use 'h' instead.\n",
      "  index=pd.date_range(\"2019-01-01 00:00:00\", periods=8760, freq=\"H\")\n"
     ]
    },
    {
     "name": "stdout",
     "output_type": "stream",
     "text": [
      "Creating building IWU Transport\n",
      "We are about to generate a Non Residential building.\n",
      "Available building types: ['IWU Office, Administrative or Government Buildings', 'IWU Research and University Teaching', 'IWU Health and Care', 'IWU School, Day Nursery and other Care', 'IWU Culture and Leisure', 'IWU Sports Facilities', 'IWU Hotels, Boarding, Restaurants or Catering', 'IWU Production, Workshop, Warehouse or Operations', 'IWU Trade Buildings', 'IWU Technical and Utility (supply and disposal)', 'IWU Transport', 'IWU Generalized (1) Services building', 'IWU Generalized (2) Production buildings']\n",
      "Current usage: IWU Transport\n",
      "Creating building AB\n"
     ]
    },
    {
     "name": "stderr",
     "output_type": "stream",
     "text": [
      "c:\\Users\\felix\\Programmieren\\districtgenerator\\.venv\\Lib\\site-packages\\teaser\\logic\\buildingobjects\\useconditions.py:363: FutureWarning: 'H' is deprecated and will be removed in a future version, please use 'h' instead.\n",
      "  index=pd.date_range(\"2019-01-01 00:00:00\", periods=8760, freq=\"H\")\n",
      "c:\\Users\\felix\\Programmieren\\districtgenerator\\.venv\\Lib\\site-packages\\teaser\\logic\\buildingobjects\\useconditions.py:363: FutureWarning: 'H' is deprecated and will be removed in a future version, please use 'h' instead.\n",
      "  index=pd.date_range(\"2019-01-01 00:00:00\", periods=8760, freq=\"H\")\n"
     ]
    },
    {
     "name": "stdout",
     "output_type": "stream",
     "text": [
      "Creating building AB\n",
      "Creating building IWU Transport\n",
      "We are about to generate a Non Residential building.\n",
      "Available building types: ['IWU Office, Administrative or Government Buildings', 'IWU Research and University Teaching', 'IWU Health and Care', 'IWU School, Day Nursery and other Care', 'IWU Culture and Leisure', 'IWU Sports Facilities', 'IWU Hotels, Boarding, Restaurants or Catering', 'IWU Production, Workshop, Warehouse or Operations', 'IWU Trade Buildings', 'IWU Technical and Utility (supply and disposal)', 'IWU Transport', 'IWU Generalized (1) Services building', 'IWU Generalized (2) Production buildings']\n",
      "Current usage: IWU Transport\n",
      "Creating building IWU School, Day Nursery and other Care\n",
      "We are about to generate a Non Residential building.\n",
      "Available building types: ['IWU Office, Administrative or Government Buildings', 'IWU Research and University Teaching', 'IWU Health and Care', 'IWU School, Day Nursery and other Care', 'IWU Culture and Leisure', 'IWU Sports Facilities', 'IWU Hotels, Boarding, Restaurants or Catering', 'IWU Production, Workshop, Warehouse or Operations', 'IWU Trade Buildings', 'IWU Technical and Utility (supply and disposal)', 'IWU Transport', 'IWU Generalized (1) Services building', 'IWU Generalized (2) Production buildings']\n",
      "Current usage: IWU School, Day Nursery and other Care\n",
      "Creating building AB\n"
     ]
    },
    {
     "name": "stderr",
     "output_type": "stream",
     "text": [
      "c:\\Users\\felix\\Programmieren\\districtgenerator\\.venv\\Lib\\site-packages\\teaser\\logic\\buildingobjects\\useconditions.py:363: FutureWarning: 'H' is deprecated and will be removed in a future version, please use 'h' instead.\n",
      "  index=pd.date_range(\"2019-01-01 00:00:00\", periods=8760, freq=\"H\")\n"
     ]
    },
    {
     "name": "stdout",
     "output_type": "stream",
     "text": [
      "Creating building IWU Office, Administrative or Government Buildings\n",
      "We are about to generate a Non Residential building.\n",
      "Available building types: ['IWU Office, Administrative or Government Buildings', 'IWU Research and University Teaching', 'IWU Health and Care', 'IWU School, Day Nursery and other Care', 'IWU Culture and Leisure', 'IWU Sports Facilities', 'IWU Hotels, Boarding, Restaurants or Catering', 'IWU Production, Workshop, Warehouse or Operations', 'IWU Trade Buildings', 'IWU Technical and Utility (supply and disposal)', 'IWU Transport', 'IWU Generalized (1) Services building', 'IWU Generalized (2) Production buildings']\n",
      "Current usage: IWU Office, Administrative or Government Buildings\n",
      "Creating building AB\n"
     ]
    },
    {
     "name": "stderr",
     "output_type": "stream",
     "text": [
      "c:\\Users\\felix\\Programmieren\\districtgenerator\\.venv\\Lib\\site-packages\\teaser\\logic\\buildingobjects\\useconditions.py:363: FutureWarning: 'H' is deprecated and will be removed in a future version, please use 'h' instead.\n",
      "  index=pd.date_range(\"2019-01-01 00:00:00\", periods=8760, freq=\"H\")\n",
      "c:\\Users\\felix\\Programmieren\\districtgenerator\\.venv\\Lib\\site-packages\\teaser\\logic\\buildingobjects\\useconditions.py:363: FutureWarning: 'H' is deprecated and will be removed in a future version, please use 'h' instead.\n",
      "  index=pd.date_range(\"2019-01-01 00:00:00\", periods=8760, freq=\"H\")\n"
     ]
    },
    {
     "name": "stdout",
     "output_type": "stream",
     "text": [
      "Creating building AB\n",
      "Creating building AB\n",
      "Creating building AB\n"
     ]
    },
    {
     "name": "stderr",
     "output_type": "stream",
     "text": [
      "c:\\Users\\felix\\Programmieren\\districtgenerator\\.venv\\Lib\\site-packages\\teaser\\logic\\buildingobjects\\useconditions.py:363: FutureWarning: 'H' is deprecated and will be removed in a future version, please use 'h' instead.\n",
      "  index=pd.date_range(\"2019-01-01 00:00:00\", periods=8760, freq=\"H\")\n",
      "c:\\Users\\felix\\Programmieren\\districtgenerator\\.venv\\Lib\\site-packages\\teaser\\logic\\buildingobjects\\useconditions.py:363: FutureWarning: 'H' is deprecated and will be removed in a future version, please use 'h' instead.\n",
      "  index=pd.date_range(\"2019-01-01 00:00:00\", periods=8760, freq=\"H\")\n"
     ]
    },
    {
     "name": "stdout",
     "output_type": "stream",
     "text": [
      "Creating building AB\n",
      "Creating building AB\n"
     ]
    },
    {
     "name": "stderr",
     "output_type": "stream",
     "text": [
      "c:\\Users\\felix\\Programmieren\\districtgenerator\\.venv\\Lib\\site-packages\\teaser\\logic\\buildingobjects\\useconditions.py:363: FutureWarning: 'H' is deprecated and will be removed in a future version, please use 'h' instead.\n",
      "  index=pd.date_range(\"2019-01-01 00:00:00\", periods=8760, freq=\"H\")\n",
      "c:\\Users\\felix\\Programmieren\\districtgenerator\\.venv\\Lib\\site-packages\\teaser\\logic\\buildingobjects\\useconditions.py:363: FutureWarning: 'H' is deprecated and will be removed in a future version, please use 'h' instead.\n",
      "  index=pd.date_range(\"2019-01-01 00:00:00\", periods=8760, freq=\"H\")\n"
     ]
    },
    {
     "name": "stdout",
     "output_type": "stream",
     "text": [
      "Creating building AB\n",
      "Creating building IWU Technical and Utility (supply and disposal)\n",
      "We are about to generate a Non Residential building.\n",
      "Available building types: ['IWU Office, Administrative or Government Buildings', 'IWU Research and University Teaching', 'IWU Health and Care', 'IWU School, Day Nursery and other Care', 'IWU Culture and Leisure', 'IWU Sports Facilities', 'IWU Hotels, Boarding, Restaurants or Catering', 'IWU Production, Workshop, Warehouse or Operations', 'IWU Trade Buildings', 'IWU Technical and Utility (supply and disposal)', 'IWU Transport', 'IWU Generalized (1) Services building', 'IWU Generalized (2) Production buildings']\n",
      "Current usage: IWU Technical and Utility (supply and disposal)\n",
      "Creating building AB\n"
     ]
    },
    {
     "name": "stderr",
     "output_type": "stream",
     "text": [
      "c:\\Users\\felix\\Programmieren\\districtgenerator\\.venv\\Lib\\site-packages\\teaser\\logic\\buildingobjects\\useconditions.py:363: FutureWarning: 'H' is deprecated and will be removed in a future version, please use 'h' instead.\n",
      "  index=pd.date_range(\"2019-01-01 00:00:00\", periods=8760, freq=\"H\")\n",
      "c:\\Users\\felix\\Programmieren\\districtgenerator\\.venv\\Lib\\site-packages\\teaser\\logic\\buildingobjects\\useconditions.py:363: FutureWarning: 'H' is deprecated and will be removed in a future version, please use 'h' instead.\n",
      "  index=pd.date_range(\"2019-01-01 00:00:00\", periods=8760, freq=\"H\")\n"
     ]
    },
    {
     "name": "stdout",
     "output_type": "stream",
     "text": [
      "Creating building AB\n",
      "Creating building AB\n"
     ]
    },
    {
     "name": "stderr",
     "output_type": "stream",
     "text": [
      "c:\\Users\\felix\\Programmieren\\districtgenerator\\.venv\\Lib\\site-packages\\teaser\\logic\\buildingobjects\\useconditions.py:363: FutureWarning: 'H' is deprecated and will be removed in a future version, please use 'h' instead.\n",
      "  index=pd.date_range(\"2019-01-01 00:00:00\", periods=8760, freq=\"H\")\n",
      "c:\\Users\\felix\\Programmieren\\districtgenerator\\.venv\\Lib\\site-packages\\teaser\\logic\\buildingobjects\\useconditions.py:363: FutureWarning: 'H' is deprecated and will be removed in a future version, please use 'h' instead.\n",
      "  index=pd.date_range(\"2019-01-01 00:00:00\", periods=8760, freq=\"H\")\n"
     ]
    },
    {
     "name": "stdout",
     "output_type": "stream",
     "text": [
      "Creating building AB\n",
      "Creating building AB\n"
     ]
    },
    {
     "name": "stderr",
     "output_type": "stream",
     "text": [
      "c:\\Users\\felix\\Programmieren\\districtgenerator\\.venv\\Lib\\site-packages\\teaser\\logic\\buildingobjects\\useconditions.py:363: FutureWarning: 'H' is deprecated and will be removed in a future version, please use 'h' instead.\n",
      "  index=pd.date_range(\"2019-01-01 00:00:00\", periods=8760, freq=\"H\")\n",
      "c:\\Users\\felix\\Programmieren\\districtgenerator\\.venv\\Lib\\site-packages\\teaser\\logic\\buildingobjects\\useconditions.py:363: FutureWarning: 'H' is deprecated and will be removed in a future version, please use 'h' instead.\n",
      "  index=pd.date_range(\"2019-01-01 00:00:00\", periods=8760, freq=\"H\")\n"
     ]
    },
    {
     "name": "stdout",
     "output_type": "stream",
     "text": [
      "Creating building IWU School, Day Nursery and other Care\n",
      "We are about to generate a Non Residential building.\n",
      "Available building types: ['IWU Office, Administrative or Government Buildings', 'IWU Research and University Teaching', 'IWU Health and Care', 'IWU School, Day Nursery and other Care', 'IWU Culture and Leisure', 'IWU Sports Facilities', 'IWU Hotels, Boarding, Restaurants or Catering', 'IWU Production, Workshop, Warehouse or Operations', 'IWU Trade Buildings', 'IWU Technical and Utility (supply and disposal)', 'IWU Transport', 'IWU Generalized (1) Services building', 'IWU Generalized (2) Production buildings']\n",
      "Current usage: IWU School, Day Nursery and other Care\n",
      "Creating building AB\n"
     ]
    },
    {
     "name": "stderr",
     "output_type": "stream",
     "text": [
      "c:\\Users\\felix\\Programmieren\\districtgenerator\\.venv\\Lib\\site-packages\\teaser\\logic\\buildingobjects\\useconditions.py:363: FutureWarning: 'H' is deprecated and will be removed in a future version, please use 'h' instead.\n",
      "  index=pd.date_range(\"2019-01-01 00:00:00\", periods=8760, freq=\"H\")\n"
     ]
    },
    {
     "name": "stdout",
     "output_type": "stream",
     "text": [
      "Creating building AB\n"
     ]
    },
    {
     "name": "stderr",
     "output_type": "stream",
     "text": [
      "c:\\Users\\felix\\Programmieren\\districtgenerator\\.venv\\Lib\\site-packages\\teaser\\logic\\buildingobjects\\useconditions.py:363: FutureWarning: 'H' is deprecated and will be removed in a future version, please use 'h' instead.\n",
      "  index=pd.date_range(\"2019-01-01 00:00:00\", periods=8760, freq=\"H\")\n"
     ]
    },
    {
     "name": "stdout",
     "output_type": "stream",
     "text": [
      "Creating building MFH\n",
      "Creating building MFH\n"
     ]
    },
    {
     "name": "stderr",
     "output_type": "stream",
     "text": [
      "c:\\Users\\felix\\Programmieren\\districtgenerator\\.venv\\Lib\\site-packages\\teaser\\logic\\buildingobjects\\useconditions.py:363: FutureWarning: 'H' is deprecated and will be removed in a future version, please use 'h' instead.\n",
      "  index=pd.date_range(\"2019-01-01 00:00:00\", periods=8760, freq=\"H\")\n",
      "c:\\Users\\felix\\Programmieren\\districtgenerator\\.venv\\Lib\\site-packages\\teaser\\logic\\buildingobjects\\useconditions.py:363: FutureWarning: 'H' is deprecated and will be removed in a future version, please use 'h' instead.\n",
      "  index=pd.date_range(\"2019-01-01 00:00:00\", periods=8760, freq=\"H\")\n"
     ]
    },
    {
     "name": "stdout",
     "output_type": "stream",
     "text": [
      "Creating building MFH\n",
      "Creating building IWU Transport\n",
      "We are about to generate a Non Residential building.\n",
      "Available building types: ['IWU Office, Administrative or Government Buildings', 'IWU Research and University Teaching', 'IWU Health and Care', 'IWU School, Day Nursery and other Care', 'IWU Culture and Leisure', 'IWU Sports Facilities', 'IWU Hotels, Boarding, Restaurants or Catering', 'IWU Production, Workshop, Warehouse or Operations', 'IWU Trade Buildings', 'IWU Technical and Utility (supply and disposal)', 'IWU Transport', 'IWU Generalized (1) Services building', 'IWU Generalized (2) Production buildings']\n",
      "Current usage: IWU Transport\n",
      "Creating building TH\n"
     ]
    },
    {
     "name": "stderr",
     "output_type": "stream",
     "text": [
      "c:\\Users\\felix\\Programmieren\\districtgenerator\\.venv\\Lib\\site-packages\\teaser\\logic\\buildingobjects\\useconditions.py:363: FutureWarning: 'H' is deprecated and will be removed in a future version, please use 'h' instead.\n",
      "  index=pd.date_range(\"2019-01-01 00:00:00\", periods=8760, freq=\"H\")\n",
      "c:\\Users\\felix\\Programmieren\\districtgenerator\\.venv\\Lib\\site-packages\\teaser\\logic\\buildingobjects\\useconditions.py:363: FutureWarning: 'H' is deprecated and will be removed in a future version, please use 'h' instead.\n",
      "  index=pd.date_range(\"2019-01-01 00:00:00\", periods=8760, freq=\"H\")\n"
     ]
    },
    {
     "name": "stdout",
     "output_type": "stream",
     "text": [
      "Creating building AB\n",
      "Creating building MFH\n",
      "Creating building IWU Transport\n",
      "We are about to generate a Non Residential building.\n",
      "Available building types: ['IWU Office, Administrative or Government Buildings', 'IWU Research and University Teaching', 'IWU Health and Care', 'IWU School, Day Nursery and other Care', 'IWU Culture and Leisure', 'IWU Sports Facilities', 'IWU Hotels, Boarding, Restaurants or Catering', 'IWU Production, Workshop, Warehouse or Operations', 'IWU Trade Buildings', 'IWU Technical and Utility (supply and disposal)', 'IWU Transport', 'IWU Generalized (1) Services building', 'IWU Generalized (2) Production buildings']\n",
      "Current usage: IWU Transport\n"
     ]
    },
    {
     "name": "stderr",
     "output_type": "stream",
     "text": [
      "c:\\Users\\felix\\Programmieren\\districtgenerator\\.venv\\Lib\\site-packages\\teaser\\logic\\buildingobjects\\useconditions.py:363: FutureWarning: 'H' is deprecated and will be removed in a future version, please use 'h' instead.\n",
      "  index=pd.date_range(\"2019-01-01 00:00:00\", periods=8760, freq=\"H\")\n",
      "c:\\Users\\felix\\Programmieren\\districtgenerator\\.venv\\Lib\\site-packages\\teaser\\logic\\buildingobjects\\useconditions.py:363: FutureWarning: 'H' is deprecated and will be removed in a future version, please use 'h' instead.\n",
      "  index=pd.date_range(\"2019-01-01 00:00:00\", periods=8760, freq=\"H\")\n"
     ]
    },
    {
     "name": "stdout",
     "output_type": "stream",
     "text": [
      "Creating building MFH\n",
      "Creating building MFH\n"
     ]
    },
    {
     "name": "stderr",
     "output_type": "stream",
     "text": [
      "c:\\Users\\felix\\Programmieren\\districtgenerator\\.venv\\Lib\\site-packages\\teaser\\logic\\buildingobjects\\useconditions.py:363: FutureWarning: 'H' is deprecated and will be removed in a future version, please use 'h' instead.\n",
      "  index=pd.date_range(\"2019-01-01 00:00:00\", periods=8760, freq=\"H\")\n",
      "c:\\Users\\felix\\Programmieren\\districtgenerator\\.venv\\Lib\\site-packages\\teaser\\logic\\buildingobjects\\useconditions.py:363: FutureWarning: 'H' is deprecated and will be removed in a future version, please use 'h' instead.\n",
      "  index=pd.date_range(\"2019-01-01 00:00:00\", periods=8760, freq=\"H\")\n"
     ]
    },
    {
     "name": "stdout",
     "output_type": "stream",
     "text": [
      "Creating building IWU Office, Administrative or Government Buildings\n",
      "We are about to generate a Non Residential building.\n",
      "Available building types: ['IWU Office, Administrative or Government Buildings', 'IWU Research and University Teaching', 'IWU Health and Care', 'IWU School, Day Nursery and other Care', 'IWU Culture and Leisure', 'IWU Sports Facilities', 'IWU Hotels, Boarding, Restaurants or Catering', 'IWU Production, Workshop, Warehouse or Operations', 'IWU Trade Buildings', 'IWU Technical and Utility (supply and disposal)', 'IWU Transport', 'IWU Generalized (1) Services building', 'IWU Generalized (2) Production buildings']\n",
      "Current usage: IWU Office, Administrative or Government Buildings\n",
      "Creating building IWU Production, Workshop, Warehouse or Operations\n",
      "We are about to generate a Non Residential building.\n",
      "Available building types: ['IWU Office, Administrative or Government Buildings', 'IWU Research and University Teaching', 'IWU Health and Care', 'IWU School, Day Nursery and other Care', 'IWU Culture and Leisure', 'IWU Sports Facilities', 'IWU Hotels, Boarding, Restaurants or Catering', 'IWU Production, Workshop, Warehouse or Operations', 'IWU Trade Buildings', 'IWU Technical and Utility (supply and disposal)', 'IWU Transport', 'IWU Generalized (1) Services building', 'IWU Generalized (2) Production buildings']\n",
      "Current usage: IWU Production, Workshop, Warehouse or Operations\n",
      "No data about lighntning control available for IWU Production, Workshop, Warehouse or Operations and data type Technical and Utility Buildings (supply and disposal)Gewerbliche und industrielle Hallen (mittelschwere Arbeit, überw. stehende Tätigkeit)\n",
      "Creating building MFH\n"
     ]
    },
    {
     "name": "stderr",
     "output_type": "stream",
     "text": [
      "c:\\Users\\felix\\Programmieren\\districtgenerator\\.venv\\Lib\\site-packages\\teaser\\logic\\buildingobjects\\useconditions.py:363: FutureWarning: 'H' is deprecated and will be removed in a future version, please use 'h' instead.\n",
      "  index=pd.date_range(\"2019-01-01 00:00:00\", periods=8760, freq=\"H\")\n",
      "c:\\Users\\felix\\Programmieren\\districtgenerator\\.venv\\Lib\\site-packages\\teaser\\logic\\buildingobjects\\useconditions.py:363: FutureWarning: 'H' is deprecated and will be removed in a future version, please use 'h' instead.\n",
      "  index=pd.date_range(\"2019-01-01 00:00:00\", periods=8760, freq=\"H\")\n"
     ]
    },
    {
     "name": "stdout",
     "output_type": "stream",
     "text": [
      "Creating building AB\n",
      "Creating building AB\n"
     ]
    },
    {
     "name": "stderr",
     "output_type": "stream",
     "text": [
      "c:\\Users\\felix\\Programmieren\\districtgenerator\\.venv\\Lib\\site-packages\\teaser\\logic\\buildingobjects\\useconditions.py:363: FutureWarning: 'H' is deprecated and will be removed in a future version, please use 'h' instead.\n",
      "  index=pd.date_range(\"2019-01-01 00:00:00\", periods=8760, freq=\"H\")\n",
      "c:\\Users\\felix\\Programmieren\\districtgenerator\\.venv\\Lib\\site-packages\\teaser\\logic\\buildingobjects\\useconditions.py:363: FutureWarning: 'H' is deprecated and will be removed in a future version, please use 'h' instead.\n",
      "  index=pd.date_range(\"2019-01-01 00:00:00\", periods=8760, freq=\"H\")\n",
      "c:\\Users\\felix\\Programmieren\\districtgenerator\\.venv\\Lib\\site-packages\\teaser\\logic\\buildingobjects\\useconditions.py:363: FutureWarning: 'H' is deprecated and will be removed in a future version, please use 'h' instead.\n",
      "  index=pd.date_range(\"2019-01-01 00:00:00\", periods=8760, freq=\"H\")\n"
     ]
    },
    {
     "name": "stdout",
     "output_type": "stream",
     "text": [
      "Creating building MFH\n",
      "Creating building MFH\n",
      "Creating building MFH\n"
     ]
    },
    {
     "name": "stderr",
     "output_type": "stream",
     "text": [
      "c:\\Users\\felix\\Programmieren\\districtgenerator\\.venv\\Lib\\site-packages\\teaser\\logic\\buildingobjects\\useconditions.py:363: FutureWarning: 'H' is deprecated and will be removed in a future version, please use 'h' instead.\n",
      "  index=pd.date_range(\"2019-01-01 00:00:00\", periods=8760, freq=\"H\")\n",
      "c:\\Users\\felix\\Programmieren\\districtgenerator\\.venv\\Lib\\site-packages\\teaser\\logic\\buildingobjects\\useconditions.py:363: FutureWarning: 'H' is deprecated and will be removed in a future version, please use 'h' instead.\n",
      "  index=pd.date_range(\"2019-01-01 00:00:00\", periods=8760, freq=\"H\")\n"
     ]
    },
    {
     "name": "stdout",
     "output_type": "stream",
     "text": [
      "Creating building AB\n",
      "Creating building AB\n"
     ]
    },
    {
     "name": "stderr",
     "output_type": "stream",
     "text": [
      "c:\\Users\\felix\\Programmieren\\districtgenerator\\.venv\\Lib\\site-packages\\teaser\\logic\\buildingobjects\\useconditions.py:363: FutureWarning: 'H' is deprecated and will be removed in a future version, please use 'h' instead.\n",
      "  index=pd.date_range(\"2019-01-01 00:00:00\", periods=8760, freq=\"H\")\n"
     ]
    },
    {
     "name": "stdout",
     "output_type": "stream",
     "text": [
      "Creating building MFH\n",
      "Creating building IWU Production, Workshop, Warehouse or Operations\n",
      "We are about to generate a Non Residential building.\n",
      "Available building types: ['IWU Office, Administrative or Government Buildings', 'IWU Research and University Teaching', 'IWU Health and Care', 'IWU School, Day Nursery and other Care', 'IWU Culture and Leisure', 'IWU Sports Facilities', 'IWU Hotels, Boarding, Restaurants or Catering', 'IWU Production, Workshop, Warehouse or Operations', 'IWU Trade Buildings', 'IWU Technical and Utility (supply and disposal)', 'IWU Transport', 'IWU Generalized (1) Services building', 'IWU Generalized (2) Production buildings']\n",
      "Current usage: IWU Production, Workshop, Warehouse or Operations\n",
      "No data about lighntning control available for IWU Production, Workshop, Warehouse or Operations and data type Technical and Utility Buildings (supply and disposal)Gewerbliche und industrielle Hallen (mittelschwere Arbeit, überw. stehende Tätigkeit)\n",
      "Creating building MFH\n"
     ]
    },
    {
     "name": "stderr",
     "output_type": "stream",
     "text": [
      "c:\\Users\\felix\\Programmieren\\districtgenerator\\.venv\\Lib\\site-packages\\teaser\\logic\\buildingobjects\\useconditions.py:363: FutureWarning: 'H' is deprecated and will be removed in a future version, please use 'h' instead.\n",
      "  index=pd.date_range(\"2019-01-01 00:00:00\", periods=8760, freq=\"H\")\n",
      "c:\\Users\\felix\\Programmieren\\districtgenerator\\.venv\\Lib\\site-packages\\teaser\\logic\\buildingobjects\\useconditions.py:363: FutureWarning: 'H' is deprecated and will be removed in a future version, please use 'h' instead.\n",
      "  index=pd.date_range(\"2019-01-01 00:00:00\", periods=8760, freq=\"H\")\n"
     ]
    },
    {
     "name": "stdout",
     "output_type": "stream",
     "text": [
      "Creating building AB\n",
      "Creating building IWU Production, Workshop, Warehouse or Operations\n",
      "We are about to generate a Non Residential building.\n",
      "Available building types: ['IWU Office, Administrative or Government Buildings', 'IWU Research and University Teaching', 'IWU Health and Care', 'IWU School, Day Nursery and other Care', 'IWU Culture and Leisure', 'IWU Sports Facilities', 'IWU Hotels, Boarding, Restaurants or Catering', 'IWU Production, Workshop, Warehouse or Operations', 'IWU Trade Buildings', 'IWU Technical and Utility (supply and disposal)', 'IWU Transport', 'IWU Generalized (1) Services building', 'IWU Generalized (2) Production buildings']\n",
      "Current usage: IWU Production, Workshop, Warehouse or Operations\n",
      "No data about lighntning control available for IWU Production, Workshop, Warehouse or Operations and data type Technical and Utility Buildings (supply and disposal)Gewerbliche und industrielle Hallen (mittelschwere Arbeit, überw. stehende Tätigkeit)\n",
      "Creating building MFH\n"
     ]
    },
    {
     "name": "stderr",
     "output_type": "stream",
     "text": [
      "c:\\Users\\felix\\Programmieren\\districtgenerator\\.venv\\Lib\\site-packages\\teaser\\logic\\buildingobjects\\useconditions.py:363: FutureWarning: 'H' is deprecated and will be removed in a future version, please use 'h' instead.\n",
      "  index=pd.date_range(\"2019-01-01 00:00:00\", periods=8760, freq=\"H\")\n",
      "c:\\Users\\felix\\Programmieren\\districtgenerator\\.venv\\Lib\\site-packages\\teaser\\logic\\buildingobjects\\useconditions.py:363: FutureWarning: 'H' is deprecated and will be removed in a future version, please use 'h' instead.\n",
      "  index=pd.date_range(\"2019-01-01 00:00:00\", periods=8760, freq=\"H\")\n"
     ]
    },
    {
     "name": "stdout",
     "output_type": "stream",
     "text": [
      "Creating building MFH\n",
      "Creating building MFH\n",
      "Creating building MFH\n"
     ]
    },
    {
     "name": "stderr",
     "output_type": "stream",
     "text": [
      "c:\\Users\\felix\\Programmieren\\districtgenerator\\.venv\\Lib\\site-packages\\teaser\\logic\\buildingobjects\\useconditions.py:363: FutureWarning: 'H' is deprecated and will be removed in a future version, please use 'h' instead.\n",
      "  index=pd.date_range(\"2019-01-01 00:00:00\", periods=8760, freq=\"H\")\n",
      "c:\\Users\\felix\\Programmieren\\districtgenerator\\.venv\\Lib\\site-packages\\teaser\\logic\\buildingobjects\\useconditions.py:363: FutureWarning: 'H' is deprecated and will be removed in a future version, please use 'h' instead.\n",
      "  index=pd.date_range(\"2019-01-01 00:00:00\", periods=8760, freq=\"H\")\n",
      "c:\\Users\\felix\\Programmieren\\districtgenerator\\.venv\\Lib\\site-packages\\teaser\\logic\\buildingobjects\\useconditions.py:363: FutureWarning: 'H' is deprecated and will be removed in a future version, please use 'h' instead.\n",
      "  index=pd.date_range(\"2019-01-01 00:00:00\", periods=8760, freq=\"H\")\n"
     ]
    },
    {
     "name": "stdout",
     "output_type": "stream",
     "text": [
      "Creating building MFH\n",
      "Creating building MFH\n",
      "Creating building MFH\n"
     ]
    },
    {
     "name": "stderr",
     "output_type": "stream",
     "text": [
      "c:\\Users\\felix\\Programmieren\\districtgenerator\\.venv\\Lib\\site-packages\\teaser\\logic\\buildingobjects\\useconditions.py:363: FutureWarning: 'H' is deprecated and will be removed in a future version, please use 'h' instead.\n",
      "  index=pd.date_range(\"2019-01-01 00:00:00\", periods=8760, freq=\"H\")\n",
      "c:\\Users\\felix\\Programmieren\\districtgenerator\\.venv\\Lib\\site-packages\\teaser\\logic\\buildingobjects\\useconditions.py:363: FutureWarning: 'H' is deprecated and will be removed in a future version, please use 'h' instead.\n",
      "  index=pd.date_range(\"2019-01-01 00:00:00\", periods=8760, freq=\"H\")\n",
      "c:\\Users\\felix\\Programmieren\\districtgenerator\\.venv\\Lib\\site-packages\\teaser\\logic\\buildingobjects\\useconditions.py:363: FutureWarning: 'H' is deprecated and will be removed in a future version, please use 'h' instead.\n",
      "  index=pd.date_range(\"2019-01-01 00:00:00\", periods=8760, freq=\"H\")\n"
     ]
    },
    {
     "name": "stdout",
     "output_type": "stream",
     "text": [
      "Creating building IWU Transport\n",
      "We are about to generate a Non Residential building.\n",
      "Available building types: ['IWU Office, Administrative or Government Buildings', 'IWU Research and University Teaching', 'IWU Health and Care', 'IWU School, Day Nursery and other Care', 'IWU Culture and Leisure', 'IWU Sports Facilities', 'IWU Hotels, Boarding, Restaurants or Catering', 'IWU Production, Workshop, Warehouse or Operations', 'IWU Trade Buildings', 'IWU Technical and Utility (supply and disposal)', 'IWU Transport', 'IWU Generalized (1) Services building', 'IWU Generalized (2) Production buildings']\n",
      "Current usage: IWU Transport\n",
      "Creating building MFH\n",
      "Creating building AB\n"
     ]
    },
    {
     "name": "stderr",
     "output_type": "stream",
     "text": [
      "c:\\Users\\felix\\Programmieren\\districtgenerator\\.venv\\Lib\\site-packages\\teaser\\logic\\buildingobjects\\useconditions.py:363: FutureWarning: 'H' is deprecated and will be removed in a future version, please use 'h' instead.\n",
      "  index=pd.date_range(\"2019-01-01 00:00:00\", periods=8760, freq=\"H\")\n",
      "c:\\Users\\felix\\Programmieren\\districtgenerator\\.venv\\Lib\\site-packages\\teaser\\logic\\buildingobjects\\useconditions.py:363: FutureWarning: 'H' is deprecated and will be removed in a future version, please use 'h' instead.\n",
      "  index=pd.date_range(\"2019-01-01 00:00:00\", periods=8760, freq=\"H\")\n",
      "c:\\Users\\felix\\Programmieren\\districtgenerator\\.venv\\Lib\\site-packages\\teaser\\logic\\buildingobjects\\useconditions.py:363: FutureWarning: 'H' is deprecated and will be removed in a future version, please use 'h' instead.\n",
      "  index=pd.date_range(\"2019-01-01 00:00:00\", periods=8760, freq=\"H\")\n"
     ]
    },
    {
     "name": "stdout",
     "output_type": "stream",
     "text": [
      "Creating building AB\n",
      "Creating building MFH\n"
     ]
    },
    {
     "name": "stderr",
     "output_type": "stream",
     "text": [
      "c:\\Users\\felix\\Programmieren\\districtgenerator\\.venv\\Lib\\site-packages\\teaser\\logic\\buildingobjects\\useconditions.py:363: FutureWarning: 'H' is deprecated and will be removed in a future version, please use 'h' instead.\n",
      "  index=pd.date_range(\"2019-01-01 00:00:00\", periods=8760, freq=\"H\")\n",
      "c:\\Users\\felix\\Programmieren\\districtgenerator\\.venv\\Lib\\site-packages\\teaser\\logic\\buildingobjects\\useconditions.py:363: FutureWarning: 'H' is deprecated and will be removed in a future version, please use 'h' instead.\n",
      "  index=pd.date_range(\"2019-01-01 00:00:00\", periods=8760, freq=\"H\")\n"
     ]
    },
    {
     "name": "stdout",
     "output_type": "stream",
     "text": [
      "Creating building IWU Transport\n",
      "We are about to generate a Non Residential building.\n",
      "Available building types: ['IWU Office, Administrative or Government Buildings', 'IWU Research and University Teaching', 'IWU Health and Care', 'IWU School, Day Nursery and other Care', 'IWU Culture and Leisure', 'IWU Sports Facilities', 'IWU Hotels, Boarding, Restaurants or Catering', 'IWU Production, Workshop, Warehouse or Operations', 'IWU Trade Buildings', 'IWU Technical and Utility (supply and disposal)', 'IWU Transport', 'IWU Generalized (1) Services building', 'IWU Generalized (2) Production buildings']\n",
      "Current usage: IWU Transport\n",
      "Creating building AB\n",
      "Creating building AB\n",
      "Creating building AB\n"
     ]
    },
    {
     "name": "stderr",
     "output_type": "stream",
     "text": [
      "c:\\Users\\felix\\Programmieren\\districtgenerator\\.venv\\Lib\\site-packages\\teaser\\logic\\buildingobjects\\useconditions.py:363: FutureWarning: 'H' is deprecated and will be removed in a future version, please use 'h' instead.\n",
      "  index=pd.date_range(\"2019-01-01 00:00:00\", periods=8760, freq=\"H\")\n",
      "c:\\Users\\felix\\Programmieren\\districtgenerator\\.venv\\Lib\\site-packages\\teaser\\logic\\buildingobjects\\useconditions.py:363: FutureWarning: 'H' is deprecated and will be removed in a future version, please use 'h' instead.\n",
      "  index=pd.date_range(\"2019-01-01 00:00:00\", periods=8760, freq=\"H\")\n"
     ]
    },
    {
     "name": "stdout",
     "output_type": "stream",
     "text": [
      "Creating building MFH\n"
     ]
    },
    {
     "name": "stderr",
     "output_type": "stream",
     "text": [
      "c:\\Users\\felix\\Programmieren\\districtgenerator\\.venv\\Lib\\site-packages\\teaser\\logic\\buildingobjects\\useconditions.py:363: FutureWarning: 'H' is deprecated and will be removed in a future version, please use 'h' instead.\n",
      "  index=pd.date_range(\"2019-01-01 00:00:00\", periods=8760, freq=\"H\")\n"
     ]
    },
    {
     "name": "stdout",
     "output_type": "stream",
     "text": [
      "Creating building AB\n",
      "Creating building AB\n"
     ]
    },
    {
     "name": "stderr",
     "output_type": "stream",
     "text": [
      "c:\\Users\\felix\\Programmieren\\districtgenerator\\.venv\\Lib\\site-packages\\teaser\\logic\\buildingobjects\\useconditions.py:363: FutureWarning: 'H' is deprecated and will be removed in a future version, please use 'h' instead.\n",
      "  index=pd.date_range(\"2019-01-01 00:00:00\", periods=8760, freq=\"H\")\n",
      "c:\\Users\\felix\\Programmieren\\districtgenerator\\.venv\\Lib\\site-packages\\teaser\\logic\\buildingobjects\\useconditions.py:363: FutureWarning: 'H' is deprecated and will be removed in a future version, please use 'h' instead.\n",
      "  index=pd.date_range(\"2019-01-01 00:00:00\", periods=8760, freq=\"H\")\n"
     ]
    },
    {
     "name": "stdout",
     "output_type": "stream",
     "text": [
      "Creating building MFH\n",
      "Creating building AB\n"
     ]
    },
    {
     "name": "stderr",
     "output_type": "stream",
     "text": [
      "c:\\Users\\felix\\Programmieren\\districtgenerator\\.venv\\Lib\\site-packages\\teaser\\logic\\buildingobjects\\useconditions.py:363: FutureWarning: 'H' is deprecated and will be removed in a future version, please use 'h' instead.\n",
      "  index=pd.date_range(\"2019-01-01 00:00:00\", periods=8760, freq=\"H\")\n",
      "c:\\Users\\felix\\Programmieren\\districtgenerator\\.venv\\Lib\\site-packages\\teaser\\logic\\buildingobjects\\useconditions.py:363: FutureWarning: 'H' is deprecated and will be removed in a future version, please use 'h' instead.\n",
      "  index=pd.date_range(\"2019-01-01 00:00:00\", periods=8760, freq=\"H\")\n"
     ]
    },
    {
     "name": "stdout",
     "output_type": "stream",
     "text": [
      "Creating building AB\n",
      "Creating building MFH\n"
     ]
    },
    {
     "name": "stderr",
     "output_type": "stream",
     "text": [
      "c:\\Users\\felix\\Programmieren\\districtgenerator\\.venv\\Lib\\site-packages\\teaser\\logic\\buildingobjects\\useconditions.py:363: FutureWarning: 'H' is deprecated and will be removed in a future version, please use 'h' instead.\n",
      "  index=pd.date_range(\"2019-01-01 00:00:00\", periods=8760, freq=\"H\")\n",
      "c:\\Users\\felix\\Programmieren\\districtgenerator\\.venv\\Lib\\site-packages\\teaser\\logic\\buildingobjects\\useconditions.py:363: FutureWarning: 'H' is deprecated and will be removed in a future version, please use 'h' instead.\n",
      "  index=pd.date_range(\"2019-01-01 00:00:00\", periods=8760, freq=\"H\")\n"
     ]
    },
    {
     "name": "stdout",
     "output_type": "stream",
     "text": [
      "Creating building IWU Production, Workshop, Warehouse or Operations\n",
      "We are about to generate a Non Residential building.\n",
      "Available building types: ['IWU Office, Administrative or Government Buildings', 'IWU Research and University Teaching', 'IWU Health and Care', 'IWU School, Day Nursery and other Care', 'IWU Culture and Leisure', 'IWU Sports Facilities', 'IWU Hotels, Boarding, Restaurants or Catering', 'IWU Production, Workshop, Warehouse or Operations', 'IWU Trade Buildings', 'IWU Technical and Utility (supply and disposal)', 'IWU Transport', 'IWU Generalized (1) Services building', 'IWU Generalized (2) Production buildings']\n",
      "Current usage: IWU Production, Workshop, Warehouse or Operations\n",
      "No data about lighntning control available for IWU Production, Workshop, Warehouse or Operations and data type Technical and Utility Buildings (supply and disposal)Gewerbliche und industrielle Hallen (mittelschwere Arbeit, überw. stehende Tätigkeit)\n",
      "Creating building MFH\n"
     ]
    },
    {
     "name": "stderr",
     "output_type": "stream",
     "text": [
      "c:\\Users\\felix\\Programmieren\\districtgenerator\\.venv\\Lib\\site-packages\\teaser\\logic\\buildingobjects\\useconditions.py:363: FutureWarning: 'H' is deprecated and will be removed in a future version, please use 'h' instead.\n",
      "  index=pd.date_range(\"2019-01-01 00:00:00\", periods=8760, freq=\"H\")\n"
     ]
    },
    {
     "name": "stdout",
     "output_type": "stream",
     "text": [
      "Creating building IWU Technical and Utility (supply and disposal)\n",
      "We are about to generate a Non Residential building.\n",
      "Available building types: ['IWU Office, Administrative or Government Buildings', 'IWU Research and University Teaching', 'IWU Health and Care', 'IWU School, Day Nursery and other Care', 'IWU Culture and Leisure', 'IWU Sports Facilities', 'IWU Hotels, Boarding, Restaurants or Catering', 'IWU Production, Workshop, Warehouse or Operations', 'IWU Trade Buildings', 'IWU Technical and Utility (supply and disposal)', 'IWU Transport', 'IWU Generalized (1) Services building', 'IWU Generalized (2) Production buildings']\n",
      "Current usage: IWU Technical and Utility (supply and disposal)\n",
      "Creating building MFH\n",
      "Creating building MFH\n"
     ]
    },
    {
     "name": "stderr",
     "output_type": "stream",
     "text": [
      "c:\\Users\\felix\\Programmieren\\districtgenerator\\.venv\\Lib\\site-packages\\teaser\\logic\\buildingobjects\\useconditions.py:363: FutureWarning: 'H' is deprecated and will be removed in a future version, please use 'h' instead.\n",
      "  index=pd.date_range(\"2019-01-01 00:00:00\", periods=8760, freq=\"H\")\n",
      "c:\\Users\\felix\\Programmieren\\districtgenerator\\.venv\\Lib\\site-packages\\teaser\\logic\\buildingobjects\\useconditions.py:363: FutureWarning: 'H' is deprecated and will be removed in a future version, please use 'h' instead.\n",
      "  index=pd.date_range(\"2019-01-01 00:00:00\", periods=8760, freq=\"H\")\n",
      "c:\\Users\\felix\\Programmieren\\districtgenerator\\.venv\\Lib\\site-packages\\teaser\\logic\\buildingobjects\\useconditions.py:363: FutureWarning: 'H' is deprecated and will be removed in a future version, please use 'h' instead.\n",
      "  index=pd.date_range(\"2019-01-01 00:00:00\", periods=8760, freq=\"H\")\n"
     ]
    },
    {
     "name": "stdout",
     "output_type": "stream",
     "text": [
      "Creating building MFH\n",
      "Creating building IWU Production, Workshop, Warehouse or Operations\n",
      "We are about to generate a Non Residential building.\n",
      "Available building types: ['IWU Office, Administrative or Government Buildings', 'IWU Research and University Teaching', 'IWU Health and Care', 'IWU School, Day Nursery and other Care', 'IWU Culture and Leisure', 'IWU Sports Facilities', 'IWU Hotels, Boarding, Restaurants or Catering', 'IWU Production, Workshop, Warehouse or Operations', 'IWU Trade Buildings', 'IWU Technical and Utility (supply and disposal)', 'IWU Transport', 'IWU Generalized (1) Services building', 'IWU Generalized (2) Production buildings']\n",
      "Current usage: IWU Production, Workshop, Warehouse or Operations\n",
      "No data about lighntning control available for IWU Production, Workshop, Warehouse or Operations and data type Technical and Utility Buildings (supply and disposal)Gewerbliche und industrielle Hallen (mittelschwere Arbeit, überw. stehende Tätigkeit)\n",
      "Creating building IWU Production, Workshop, Warehouse or Operations\n",
      "We are about to generate a Non Residential building.\n",
      "Available building types: ['IWU Office, Administrative or Government Buildings', 'IWU Research and University Teaching', 'IWU Health and Care', 'IWU School, Day Nursery and other Care', 'IWU Culture and Leisure', 'IWU Sports Facilities', 'IWU Hotels, Boarding, Restaurants or Catering', 'IWU Production, Workshop, Warehouse or Operations', 'IWU Trade Buildings', 'IWU Technical and Utility (supply and disposal)', 'IWU Transport', 'IWU Generalized (1) Services building', 'IWU Generalized (2) Production buildings']\n",
      "Current usage: IWU Production, Workshop, Warehouse or Operations\n",
      "No data about lighntning control available for IWU Production, Workshop, Warehouse or Operations and data type Technical and Utility Buildings (supply and disposal)Gewerbliche und industrielle Hallen (mittelschwere Arbeit, überw. stehende Tätigkeit)\n",
      "Creating building MFH\n"
     ]
    },
    {
     "name": "stderr",
     "output_type": "stream",
     "text": [
      "c:\\Users\\felix\\Programmieren\\districtgenerator\\.venv\\Lib\\site-packages\\teaser\\logic\\buildingobjects\\useconditions.py:363: FutureWarning: 'H' is deprecated and will be removed in a future version, please use 'h' instead.\n",
      "  index=pd.date_range(\"2019-01-01 00:00:00\", periods=8760, freq=\"H\")\n",
      "c:\\Users\\felix\\Programmieren\\districtgenerator\\.venv\\Lib\\site-packages\\teaser\\logic\\buildingobjects\\useconditions.py:363: FutureWarning: 'H' is deprecated and will be removed in a future version, please use 'h' instead.\n",
      "  index=pd.date_range(\"2019-01-01 00:00:00\", periods=8760, freq=\"H\")\n"
     ]
    },
    {
     "name": "stdout",
     "output_type": "stream",
     "text": [
      "Creating building MFH\n",
      "Creating building AB\n",
      "Creating building IWU Transport\n",
      "We are about to generate a Non Residential building.\n",
      "Available building types: ['IWU Office, Administrative or Government Buildings', 'IWU Research and University Teaching', 'IWU Health and Care', 'IWU School, Day Nursery and other Care', 'IWU Culture and Leisure', 'IWU Sports Facilities', 'IWU Hotels, Boarding, Restaurants or Catering', 'IWU Production, Workshop, Warehouse or Operations', 'IWU Trade Buildings', 'IWU Technical and Utility (supply and disposal)', 'IWU Transport', 'IWU Generalized (1) Services building', 'IWU Generalized (2) Production buildings']\n",
      "Current usage: IWU Transport\n",
      "Creating building IWU Production, Workshop, Warehouse or Operations\n",
      "We are about to generate a Non Residential building.\n",
      "Available building types: ['IWU Office, Administrative or Government Buildings', 'IWU Research and University Teaching', 'IWU Health and Care', 'IWU School, Day Nursery and other Care', 'IWU Culture and Leisure', 'IWU Sports Facilities', 'IWU Hotels, Boarding, Restaurants or Catering', 'IWU Production, Workshop, Warehouse or Operations', 'IWU Trade Buildings', 'IWU Technical and Utility (supply and disposal)', 'IWU Transport', 'IWU Generalized (1) Services building', 'IWU Generalized (2) Production buildings']\n",
      "Current usage: IWU Production, Workshop, Warehouse or Operations\n"
     ]
    },
    {
     "name": "stderr",
     "output_type": "stream",
     "text": [
      "c:\\Users\\felix\\Programmieren\\districtgenerator\\.venv\\Lib\\site-packages\\teaser\\logic\\buildingobjects\\useconditions.py:363: FutureWarning: 'H' is deprecated and will be removed in a future version, please use 'h' instead.\n",
      "  index=pd.date_range(\"2019-01-01 00:00:00\", periods=8760, freq=\"H\")\n"
     ]
    },
    {
     "name": "stdout",
     "output_type": "stream",
     "text": [
      "No data about lighntning control available for IWU Production, Workshop, Warehouse or Operations and data type Technical and Utility Buildings (supply and disposal)Gewerbliche und industrielle Hallen (mittelschwere Arbeit, überw. stehende Tätigkeit)\n",
      "Creating building MFH\n",
      "Creating building MFH\n",
      "Creating building MFH\n"
     ]
    },
    {
     "name": "stderr",
     "output_type": "stream",
     "text": [
      "c:\\Users\\felix\\Programmieren\\districtgenerator\\.venv\\Lib\\site-packages\\teaser\\logic\\buildingobjects\\useconditions.py:363: FutureWarning: 'H' is deprecated and will be removed in a future version, please use 'h' instead.\n",
      "  index=pd.date_range(\"2019-01-01 00:00:00\", periods=8760, freq=\"H\")\n",
      "c:\\Users\\felix\\Programmieren\\districtgenerator\\.venv\\Lib\\site-packages\\teaser\\logic\\buildingobjects\\useconditions.py:363: FutureWarning: 'H' is deprecated and will be removed in a future version, please use 'h' instead.\n",
      "  index=pd.date_range(\"2019-01-01 00:00:00\", periods=8760, freq=\"H\")\n",
      "c:\\Users\\felix\\Programmieren\\districtgenerator\\.venv\\Lib\\site-packages\\teaser\\logic\\buildingobjects\\useconditions.py:363: FutureWarning: 'H' is deprecated and will be removed in a future version, please use 'h' instead.\n",
      "  index=pd.date_range(\"2019-01-01 00:00:00\", periods=8760, freq=\"H\")\n"
     ]
    },
    {
     "name": "stdout",
     "output_type": "stream",
     "text": [
      "Creating building MFH\n",
      "Creating building IWU Production, Workshop, Warehouse or Operations\n",
      "We are about to generate a Non Residential building.\n",
      "Available building types: ['IWU Office, Administrative or Government Buildings', 'IWU Research and University Teaching', 'IWU Health and Care', 'IWU School, Day Nursery and other Care', 'IWU Culture and Leisure', 'IWU Sports Facilities', 'IWU Hotels, Boarding, Restaurants or Catering', 'IWU Production, Workshop, Warehouse or Operations', 'IWU Trade Buildings', 'IWU Technical and Utility (supply and disposal)', 'IWU Transport', 'IWU Generalized (1) Services building', 'IWU Generalized (2) Production buildings']\n",
      "Current usage: IWU Production, Workshop, Warehouse or Operations\n",
      "No data about lighntning control available for IWU Production, Workshop, Warehouse or Operations and data type Technical and Utility Buildings (supply and disposal)Gewerbliche und industrielle Hallen (mittelschwere Arbeit, überw. stehende Tätigkeit)\n",
      "Creating building MFH\n"
     ]
    },
    {
     "name": "stderr",
     "output_type": "stream",
     "text": [
      "c:\\Users\\felix\\Programmieren\\districtgenerator\\.venv\\Lib\\site-packages\\teaser\\logic\\buildingobjects\\useconditions.py:363: FutureWarning: 'H' is deprecated and will be removed in a future version, please use 'h' instead.\n",
      "  index=pd.date_range(\"2019-01-01 00:00:00\", periods=8760, freq=\"H\")\n",
      "c:\\Users\\felix\\Programmieren\\districtgenerator\\.venv\\Lib\\site-packages\\teaser\\logic\\buildingobjects\\useconditions.py:363: FutureWarning: 'H' is deprecated and will be removed in a future version, please use 'h' instead.\n",
      "  index=pd.date_range(\"2019-01-01 00:00:00\", periods=8760, freq=\"H\")\n"
     ]
    },
    {
     "name": "stdout",
     "output_type": "stream",
     "text": [
      "Creating building MFH\n",
      "Creating building AB\n"
     ]
    },
    {
     "name": "stderr",
     "output_type": "stream",
     "text": [
      "c:\\Users\\felix\\Programmieren\\districtgenerator\\.venv\\Lib\\site-packages\\teaser\\logic\\buildingobjects\\useconditions.py:363: FutureWarning: 'H' is deprecated and will be removed in a future version, please use 'h' instead.\n",
      "  index=pd.date_range(\"2019-01-01 00:00:00\", periods=8760, freq=\"H\")\n",
      "c:\\Users\\felix\\Programmieren\\districtgenerator\\.venv\\Lib\\site-packages\\teaser\\logic\\buildingobjects\\useconditions.py:363: FutureWarning: 'H' is deprecated and will be removed in a future version, please use 'h' instead.\n",
      "  index=pd.date_range(\"2019-01-01 00:00:00\", periods=8760, freq=\"H\")\n"
     ]
    },
    {
     "name": "stdout",
     "output_type": "stream",
     "text": [
      "Creating building AB\n",
      "Creating building MFH\n"
     ]
    },
    {
     "name": "stderr",
     "output_type": "stream",
     "text": [
      "c:\\Users\\felix\\Programmieren\\districtgenerator\\.venv\\Lib\\site-packages\\teaser\\logic\\buildingobjects\\useconditions.py:363: FutureWarning: 'H' is deprecated and will be removed in a future version, please use 'h' instead.\n",
      "  index=pd.date_range(\"2019-01-01 00:00:00\", periods=8760, freq=\"H\")\n",
      "c:\\Users\\felix\\Programmieren\\districtgenerator\\.venv\\Lib\\site-packages\\teaser\\logic\\buildingobjects\\useconditions.py:363: FutureWarning: 'H' is deprecated and will be removed in a future version, please use 'h' instead.\n",
      "  index=pd.date_range(\"2019-01-01 00:00:00\", periods=8760, freq=\"H\")\n"
     ]
    },
    {
     "name": "stdout",
     "output_type": "stream",
     "text": [
      "Creating building MFH\n",
      "Creating building MFH\n",
      "Creating building IWU Production, Workshop, Warehouse or Operations\n",
      "We are about to generate a Non Residential building.\n",
      "Available building types: ['IWU Office, Administrative or Government Buildings', 'IWU Research and University Teaching', 'IWU Health and Care', 'IWU School, Day Nursery and other Care', 'IWU Culture and Leisure', 'IWU Sports Facilities', 'IWU Hotels, Boarding, Restaurants or Catering', 'IWU Production, Workshop, Warehouse or Operations', 'IWU Trade Buildings', 'IWU Technical and Utility (supply and disposal)', 'IWU Transport', 'IWU Generalized (1) Services building', 'IWU Generalized (2) Production buildings']\n",
      "Current usage: IWU Production, Workshop, Warehouse or Operations\n"
     ]
    },
    {
     "name": "stderr",
     "output_type": "stream",
     "text": [
      "c:\\Users\\felix\\Programmieren\\districtgenerator\\.venv\\Lib\\site-packages\\teaser\\logic\\buildingobjects\\useconditions.py:363: FutureWarning: 'H' is deprecated and will be removed in a future version, please use 'h' instead.\n",
      "  index=pd.date_range(\"2019-01-01 00:00:00\", periods=8760, freq=\"H\")\n",
      "c:\\Users\\felix\\Programmieren\\districtgenerator\\.venv\\Lib\\site-packages\\teaser\\logic\\buildingobjects\\useconditions.py:363: FutureWarning: 'H' is deprecated and will be removed in a future version, please use 'h' instead.\n",
      "  index=pd.date_range(\"2019-01-01 00:00:00\", periods=8760, freq=\"H\")\n"
     ]
    },
    {
     "name": "stdout",
     "output_type": "stream",
     "text": [
      "No data about lighntning control available for IWU Production, Workshop, Warehouse or Operations and data type Technical and Utility Buildings (supply and disposal)Gewerbliche und industrielle Hallen (mittelschwere Arbeit, überw. stehende Tätigkeit)\n",
      "Creating building AB\n",
      "Creating building MFH\n"
     ]
    },
    {
     "name": "stderr",
     "output_type": "stream",
     "text": [
      "c:\\Users\\felix\\Programmieren\\districtgenerator\\.venv\\Lib\\site-packages\\teaser\\logic\\buildingobjects\\useconditions.py:363: FutureWarning: 'H' is deprecated and will be removed in a future version, please use 'h' instead.\n",
      "  index=pd.date_range(\"2019-01-01 00:00:00\", periods=8760, freq=\"H\")\n",
      "c:\\Users\\felix\\Programmieren\\districtgenerator\\.venv\\Lib\\site-packages\\teaser\\logic\\buildingobjects\\useconditions.py:363: FutureWarning: 'H' is deprecated and will be removed in a future version, please use 'h' instead.\n",
      "  index=pd.date_range(\"2019-01-01 00:00:00\", periods=8760, freq=\"H\")\n"
     ]
    },
    {
     "name": "stdout",
     "output_type": "stream",
     "text": [
      "Creating building MFH\n",
      "Creating building AB\n"
     ]
    },
    {
     "name": "stderr",
     "output_type": "stream",
     "text": [
      "c:\\Users\\felix\\Programmieren\\districtgenerator\\.venv\\Lib\\site-packages\\teaser\\logic\\buildingobjects\\useconditions.py:363: FutureWarning: 'H' is deprecated and will be removed in a future version, please use 'h' instead.\n",
      "  index=pd.date_range(\"2019-01-01 00:00:00\", periods=8760, freq=\"H\")\n",
      "c:\\Users\\felix\\Programmieren\\districtgenerator\\.venv\\Lib\\site-packages\\teaser\\logic\\buildingobjects\\useconditions.py:363: FutureWarning: 'H' is deprecated and will be removed in a future version, please use 'h' instead.\n",
      "  index=pd.date_range(\"2019-01-01 00:00:00\", periods=8760, freq=\"H\")\n"
     ]
    },
    {
     "name": "stdout",
     "output_type": "stream",
     "text": [
      "Creating building IWU Production, Workshop, Warehouse or Operations\n",
      "We are about to generate a Non Residential building.\n",
      "Available building types: ['IWU Office, Administrative or Government Buildings', 'IWU Research and University Teaching', 'IWU Health and Care', 'IWU School, Day Nursery and other Care', 'IWU Culture and Leisure', 'IWU Sports Facilities', 'IWU Hotels, Boarding, Restaurants or Catering', 'IWU Production, Workshop, Warehouse or Operations', 'IWU Trade Buildings', 'IWU Technical and Utility (supply and disposal)', 'IWU Transport', 'IWU Generalized (1) Services building', 'IWU Generalized (2) Production buildings']\n",
      "Current usage: IWU Production, Workshop, Warehouse or Operations\n",
      "No data about lighntning control available for IWU Production, Workshop, Warehouse or Operations and data type Technical and Utility Buildings (supply and disposal)Gewerbliche und industrielle Hallen (mittelschwere Arbeit, überw. stehende Tätigkeit)\n",
      "Creating building IWU Trade Buildings\n",
      "We are about to generate a Non Residential building.\n",
      "Available building types: ['IWU Office, Administrative or Government Buildings', 'IWU Research and University Teaching', 'IWU Health and Care', 'IWU School, Day Nursery and other Care', 'IWU Culture and Leisure', 'IWU Sports Facilities', 'IWU Hotels, Boarding, Restaurants or Catering', 'IWU Production, Workshop, Warehouse or Operations', 'IWU Trade Buildings', 'IWU Technical and Utility (supply and disposal)', 'IWU Transport', 'IWU Generalized (1) Services building', 'IWU Generalized (2) Production buildings']\n",
      "Current usage: IWU Trade Buildings\n",
      "Creating building AB\n"
     ]
    },
    {
     "name": "stderr",
     "output_type": "stream",
     "text": [
      "c:\\Users\\felix\\Programmieren\\districtgenerator\\.venv\\Lib\\site-packages\\teaser\\logic\\buildingobjects\\useconditions.py:363: FutureWarning: 'H' is deprecated and will be removed in a future version, please use 'h' instead.\n",
      "  index=pd.date_range(\"2019-01-01 00:00:00\", periods=8760, freq=\"H\")\n",
      "c:\\Users\\felix\\Programmieren\\districtgenerator\\.venv\\Lib\\site-packages\\teaser\\logic\\buildingobjects\\useconditions.py:363: FutureWarning: 'H' is deprecated and will be removed in a future version, please use 'h' instead.\n",
      "  index=pd.date_range(\"2019-01-01 00:00:00\", periods=8760, freq=\"H\")\n"
     ]
    },
    {
     "name": "stdout",
     "output_type": "stream",
     "text": [
      "Creating building MFH\n",
      "Creating building MFH\n"
     ]
    },
    {
     "name": "stderr",
     "output_type": "stream",
     "text": [
      "c:\\Users\\felix\\Programmieren\\districtgenerator\\.venv\\Lib\\site-packages\\teaser\\logic\\buildingobjects\\useconditions.py:363: FutureWarning: 'H' is deprecated and will be removed in a future version, please use 'h' instead.\n",
      "  index=pd.date_range(\"2019-01-01 00:00:00\", periods=8760, freq=\"H\")\n",
      "c:\\Users\\felix\\Programmieren\\districtgenerator\\.venv\\Lib\\site-packages\\teaser\\logic\\buildingobjects\\useconditions.py:363: FutureWarning: 'H' is deprecated and will be removed in a future version, please use 'h' instead.\n",
      "  index=pd.date_range(\"2019-01-01 00:00:00\", periods=8760, freq=\"H\")\n"
     ]
    },
    {
     "name": "stdout",
     "output_type": "stream",
     "text": [
      "Creating building MFH\n",
      "Creating building MFH\n",
      "Creating building AB\n"
     ]
    },
    {
     "name": "stderr",
     "output_type": "stream",
     "text": [
      "c:\\Users\\felix\\Programmieren\\districtgenerator\\.venv\\Lib\\site-packages\\teaser\\logic\\buildingobjects\\useconditions.py:363: FutureWarning: 'H' is deprecated and will be removed in a future version, please use 'h' instead.\n",
      "  index=pd.date_range(\"2019-01-01 00:00:00\", periods=8760, freq=\"H\")\n",
      "c:\\Users\\felix\\Programmieren\\districtgenerator\\.venv\\Lib\\site-packages\\teaser\\logic\\buildingobjects\\useconditions.py:363: FutureWarning: 'H' is deprecated and will be removed in a future version, please use 'h' instead.\n",
      "  index=pd.date_range(\"2019-01-01 00:00:00\", periods=8760, freq=\"H\")\n"
     ]
    },
    {
     "name": "stdout",
     "output_type": "stream",
     "text": [
      "Creating building AB\n",
      "Creating building AB\n"
     ]
    },
    {
     "name": "stderr",
     "output_type": "stream",
     "text": [
      "c:\\Users\\felix\\Programmieren\\districtgenerator\\.venv\\Lib\\site-packages\\teaser\\logic\\buildingobjects\\useconditions.py:363: FutureWarning: 'H' is deprecated and will be removed in a future version, please use 'h' instead.\n",
      "  index=pd.date_range(\"2019-01-01 00:00:00\", periods=8760, freq=\"H\")\n",
      "c:\\Users\\felix\\Programmieren\\districtgenerator\\.venv\\Lib\\site-packages\\teaser\\logic\\buildingobjects\\useconditions.py:363: FutureWarning: 'H' is deprecated and will be removed in a future version, please use 'h' instead.\n",
      "  index=pd.date_range(\"2019-01-01 00:00:00\", periods=8760, freq=\"H\")\n"
     ]
    },
    {
     "name": "stdout",
     "output_type": "stream",
     "text": [
      "Creating building IWU Trade Buildings\n",
      "We are about to generate a Non Residential building.\n",
      "Available building types: ['IWU Office, Administrative or Government Buildings', 'IWU Research and University Teaching', 'IWU Health and Care', 'IWU School, Day Nursery and other Care', 'IWU Culture and Leisure', 'IWU Sports Facilities', 'IWU Hotels, Boarding, Restaurants or Catering', 'IWU Production, Workshop, Warehouse or Operations', 'IWU Trade Buildings', 'IWU Technical and Utility (supply and disposal)', 'IWU Transport', 'IWU Generalized (1) Services building', 'IWU Generalized (2) Production buildings']\n",
      "Current usage: IWU Trade Buildings\n",
      "Creating building MFH\n"
     ]
    },
    {
     "name": "stderr",
     "output_type": "stream",
     "text": [
      "c:\\Users\\felix\\Programmieren\\districtgenerator\\.venv\\Lib\\site-packages\\teaser\\logic\\buildingobjects\\useconditions.py:363: FutureWarning: 'H' is deprecated and will be removed in a future version, please use 'h' instead.\n",
      "  index=pd.date_range(\"2019-01-01 00:00:00\", periods=8760, freq=\"H\")\n"
     ]
    },
    {
     "name": "stdout",
     "output_type": "stream",
     "text": [
      "Creating building AB\n"
     ]
    },
    {
     "name": "stderr",
     "output_type": "stream",
     "text": [
      "c:\\Users\\felix\\Programmieren\\districtgenerator\\.venv\\Lib\\site-packages\\teaser\\logic\\buildingobjects\\useconditions.py:363: FutureWarning: 'H' is deprecated and will be removed in a future version, please use 'h' instead.\n",
      "  index=pd.date_range(\"2019-01-01 00:00:00\", periods=8760, freq=\"H\")\n"
     ]
    },
    {
     "name": "stdout",
     "output_type": "stream",
     "text": [
      "Creating building AB\n",
      "Creating building MFH\n"
     ]
    },
    {
     "name": "stderr",
     "output_type": "stream",
     "text": [
      "c:\\Users\\felix\\Programmieren\\districtgenerator\\.venv\\Lib\\site-packages\\teaser\\logic\\buildingobjects\\useconditions.py:363: FutureWarning: 'H' is deprecated and will be removed in a future version, please use 'h' instead.\n",
      "  index=pd.date_range(\"2019-01-01 00:00:00\", periods=8760, freq=\"H\")\n",
      "c:\\Users\\felix\\Programmieren\\districtgenerator\\.venv\\Lib\\site-packages\\teaser\\logic\\buildingobjects\\useconditions.py:363: FutureWarning: 'H' is deprecated and will be removed in a future version, please use 'h' instead.\n",
      "  index=pd.date_range(\"2019-01-01 00:00:00\", periods=8760, freq=\"H\")\n"
     ]
    },
    {
     "name": "stdout",
     "output_type": "stream",
     "text": [
      "Creating building MFH\n",
      "Creating building MFH\n"
     ]
    },
    {
     "name": "stderr",
     "output_type": "stream",
     "text": [
      "c:\\Users\\felix\\Programmieren\\districtgenerator\\.venv\\Lib\\site-packages\\teaser\\logic\\buildingobjects\\useconditions.py:363: FutureWarning: 'H' is deprecated and will be removed in a future version, please use 'h' instead.\n",
      "  index=pd.date_range(\"2019-01-01 00:00:00\", periods=8760, freq=\"H\")\n",
      "c:\\Users\\felix\\Programmieren\\districtgenerator\\.venv\\Lib\\site-packages\\teaser\\logic\\buildingobjects\\useconditions.py:363: FutureWarning: 'H' is deprecated and will be removed in a future version, please use 'h' instead.\n",
      "  index=pd.date_range(\"2019-01-01 00:00:00\", periods=8760, freq=\"H\")\n"
     ]
    },
    {
     "name": "stdout",
     "output_type": "stream",
     "text": [
      "Creating building MFH\n",
      "Creating building MFH\n"
     ]
    },
    {
     "name": "stderr",
     "output_type": "stream",
     "text": [
      "c:\\Users\\felix\\Programmieren\\districtgenerator\\.venv\\Lib\\site-packages\\teaser\\logic\\buildingobjects\\useconditions.py:363: FutureWarning: 'H' is deprecated and will be removed in a future version, please use 'h' instead.\n",
      "  index=pd.date_range(\"2019-01-01 00:00:00\", periods=8760, freq=\"H\")\n",
      "c:\\Users\\felix\\Programmieren\\districtgenerator\\.venv\\Lib\\site-packages\\teaser\\logic\\buildingobjects\\useconditions.py:363: FutureWarning: 'H' is deprecated and will be removed in a future version, please use 'h' instead.\n",
      "  index=pd.date_range(\"2019-01-01 00:00:00\", periods=8760, freq=\"H\")\n"
     ]
    },
    {
     "name": "stdout",
     "output_type": "stream",
     "text": [
      "Creating building MFH\n"
     ]
    },
    {
     "name": "stderr",
     "output_type": "stream",
     "text": [
      "c:\\Users\\felix\\Programmieren\\districtgenerator\\.venv\\Lib\\site-packages\\teaser\\logic\\buildingobjects\\useconditions.py:363: FutureWarning: 'H' is deprecated and will be removed in a future version, please use 'h' instead.\n",
      "  index=pd.date_range(\"2019-01-01 00:00:00\", periods=8760, freq=\"H\")\n"
     ]
    },
    {
     "name": "stdout",
     "output_type": "stream",
     "text": [
      "Creating building IWU Production, Workshop, Warehouse or Operations\n",
      "We are about to generate a Non Residential building.\n",
      "Available building types: ['IWU Office, Administrative or Government Buildings', 'IWU Research and University Teaching', 'IWU Health and Care', 'IWU School, Day Nursery and other Care', 'IWU Culture and Leisure', 'IWU Sports Facilities', 'IWU Hotels, Boarding, Restaurants or Catering', 'IWU Production, Workshop, Warehouse or Operations', 'IWU Trade Buildings', 'IWU Technical and Utility (supply and disposal)', 'IWU Transport', 'IWU Generalized (1) Services building', 'IWU Generalized (2) Production buildings']\n",
      "Current usage: IWU Production, Workshop, Warehouse or Operations\n",
      "No data about lighntning control available for IWU Production, Workshop, Warehouse or Operations and data type Technical and Utility Buildings (supply and disposal)Gewerbliche und industrielle Hallen (mittelschwere Arbeit, überw. stehende Tätigkeit)\n",
      "Creating building AB\n",
      "Creating building MFH\n"
     ]
    },
    {
     "name": "stderr",
     "output_type": "stream",
     "text": [
      "c:\\Users\\felix\\Programmieren\\districtgenerator\\.venv\\Lib\\site-packages\\teaser\\logic\\buildingobjects\\useconditions.py:363: FutureWarning: 'H' is deprecated and will be removed in a future version, please use 'h' instead.\n",
      "  index=pd.date_range(\"2019-01-01 00:00:00\", periods=8760, freq=\"H\")\n",
      "c:\\Users\\felix\\Programmieren\\districtgenerator\\.venv\\Lib\\site-packages\\teaser\\logic\\buildingobjects\\useconditions.py:363: FutureWarning: 'H' is deprecated and will be removed in a future version, please use 'h' instead.\n",
      "  index=pd.date_range(\"2019-01-01 00:00:00\", periods=8760, freq=\"H\")\n"
     ]
    },
    {
     "name": "stdout",
     "output_type": "stream",
     "text": [
      "Creating building AB\n"
     ]
    },
    {
     "name": "stderr",
     "output_type": "stream",
     "text": [
      "c:\\Users\\felix\\Programmieren\\districtgenerator\\.venv\\Lib\\site-packages\\teaser\\logic\\buildingobjects\\useconditions.py:363: FutureWarning: 'H' is deprecated and will be removed in a future version, please use 'h' instead.\n",
      "  index=pd.date_range(\"2019-01-01 00:00:00\", periods=8760, freq=\"H\")\n"
     ]
    },
    {
     "name": "stdout",
     "output_type": "stream",
     "text": [
      "Creating building MFH\n"
     ]
    },
    {
     "name": "stderr",
     "output_type": "stream",
     "text": [
      "c:\\Users\\felix\\Programmieren\\districtgenerator\\.venv\\Lib\\site-packages\\teaser\\logic\\buildingobjects\\useconditions.py:363: FutureWarning: 'H' is deprecated and will be removed in a future version, please use 'h' instead.\n",
      "  index=pd.date_range(\"2019-01-01 00:00:00\", periods=8760, freq=\"H\")\n"
     ]
    },
    {
     "name": "stdout",
     "output_type": "stream",
     "text": [
      "Creating building MFH\n",
      "Creating building MFH\n"
     ]
    },
    {
     "name": "stderr",
     "output_type": "stream",
     "text": [
      "c:\\Users\\felix\\Programmieren\\districtgenerator\\.venv\\Lib\\site-packages\\teaser\\logic\\buildingobjects\\useconditions.py:363: FutureWarning: 'H' is deprecated and will be removed in a future version, please use 'h' instead.\n",
      "  index=pd.date_range(\"2019-01-01 00:00:00\", periods=8760, freq=\"H\")\n",
      "c:\\Users\\felix\\Programmieren\\districtgenerator\\.venv\\Lib\\site-packages\\teaser\\logic\\buildingobjects\\useconditions.py:363: FutureWarning: 'H' is deprecated and will be removed in a future version, please use 'h' instead.\n",
      "  index=pd.date_range(\"2019-01-01 00:00:00\", periods=8760, freq=\"H\")\n"
     ]
    },
    {
     "name": "stdout",
     "output_type": "stream",
     "text": [
      "Creating building AB\n"
     ]
    },
    {
     "name": "stderr",
     "output_type": "stream",
     "text": [
      "c:\\Users\\felix\\Programmieren\\districtgenerator\\.venv\\Lib\\site-packages\\teaser\\logic\\buildingobjects\\useconditions.py:363: FutureWarning: 'H' is deprecated and will be removed in a future version, please use 'h' instead.\n",
      "  index=pd.date_range(\"2019-01-01 00:00:00\", periods=8760, freq=\"H\")\n"
     ]
    },
    {
     "name": "stdout",
     "output_type": "stream",
     "text": [
      "Creating building MFH\n",
      "Creating building AB\n",
      "Creating building AB\n"
     ]
    },
    {
     "name": "stderr",
     "output_type": "stream",
     "text": [
      "c:\\Users\\felix\\Programmieren\\districtgenerator\\.venv\\Lib\\site-packages\\teaser\\logic\\buildingobjects\\useconditions.py:363: FutureWarning: 'H' is deprecated and will be removed in a future version, please use 'h' instead.\n",
      "  index=pd.date_range(\"2019-01-01 00:00:00\", periods=8760, freq=\"H\")\n",
      "c:\\Users\\felix\\Programmieren\\districtgenerator\\.venv\\Lib\\site-packages\\teaser\\logic\\buildingobjects\\useconditions.py:363: FutureWarning: 'H' is deprecated and will be removed in a future version, please use 'h' instead.\n",
      "  index=pd.date_range(\"2019-01-01 00:00:00\", periods=8760, freq=\"H\")\n",
      "c:\\Users\\felix\\Programmieren\\districtgenerator\\.venv\\Lib\\site-packages\\teaser\\logic\\buildingobjects\\useconditions.py:363: FutureWarning: 'H' is deprecated and will be removed in a future version, please use 'h' instead.\n",
      "  index=pd.date_range(\"2019-01-01 00:00:00\", periods=8760, freq=\"H\")\n"
     ]
    },
    {
     "name": "stdout",
     "output_type": "stream",
     "text": [
      "Creating building MFH\n",
      "Creating building AB\n"
     ]
    },
    {
     "name": "stderr",
     "output_type": "stream",
     "text": [
      "c:\\Users\\felix\\Programmieren\\districtgenerator\\.venv\\Lib\\site-packages\\teaser\\logic\\buildingobjects\\useconditions.py:363: FutureWarning: 'H' is deprecated and will be removed in a future version, please use 'h' instead.\n",
      "  index=pd.date_range(\"2019-01-01 00:00:00\", periods=8760, freq=\"H\")\n",
      "c:\\Users\\felix\\Programmieren\\districtgenerator\\.venv\\Lib\\site-packages\\teaser\\logic\\buildingobjects\\useconditions.py:363: FutureWarning: 'H' is deprecated and will be removed in a future version, please use 'h' instead.\n",
      "  index=pd.date_range(\"2019-01-01 00:00:00\", periods=8760, freq=\"H\")\n"
     ]
    },
    {
     "name": "stdout",
     "output_type": "stream",
     "text": [
      "Creating building MFH\n",
      "Creating building MFH\n"
     ]
    },
    {
     "name": "stderr",
     "output_type": "stream",
     "text": [
      "c:\\Users\\felix\\Programmieren\\districtgenerator\\.venv\\Lib\\site-packages\\teaser\\logic\\buildingobjects\\useconditions.py:363: FutureWarning: 'H' is deprecated and will be removed in a future version, please use 'h' instead.\n",
      "  index=pd.date_range(\"2019-01-01 00:00:00\", periods=8760, freq=\"H\")\n",
      "c:\\Users\\felix\\Programmieren\\districtgenerator\\.venv\\Lib\\site-packages\\teaser\\logic\\buildingobjects\\useconditions.py:363: FutureWarning: 'H' is deprecated and will be removed in a future version, please use 'h' instead.\n",
      "  index=pd.date_range(\"2019-01-01 00:00:00\", periods=8760, freq=\"H\")\n"
     ]
    },
    {
     "name": "stdout",
     "output_type": "stream",
     "text": [
      "Creating building IWU Production, Workshop, Warehouse or Operations\n",
      "We are about to generate a Non Residential building.\n",
      "Available building types: ['IWU Office, Administrative or Government Buildings', 'IWU Research and University Teaching', 'IWU Health and Care', 'IWU School, Day Nursery and other Care', 'IWU Culture and Leisure', 'IWU Sports Facilities', 'IWU Hotels, Boarding, Restaurants or Catering', 'IWU Production, Workshop, Warehouse or Operations', 'IWU Trade Buildings', 'IWU Technical and Utility (supply and disposal)', 'IWU Transport', 'IWU Generalized (1) Services building', 'IWU Generalized (2) Production buildings']\n",
      "Current usage: IWU Production, Workshop, Warehouse or Operations\n",
      "No data about lighntning control available for IWU Production, Workshop, Warehouse or Operations and data type Technical and Utility Buildings (supply and disposal)Gewerbliche und industrielle Hallen (mittelschwere Arbeit, überw. stehende Tätigkeit)\n",
      "Creating building MFH\n"
     ]
    },
    {
     "name": "stderr",
     "output_type": "stream",
     "text": [
      "c:\\Users\\felix\\Programmieren\\districtgenerator\\.venv\\Lib\\site-packages\\teaser\\logic\\buildingobjects\\useconditions.py:363: FutureWarning: 'H' is deprecated and will be removed in a future version, please use 'h' instead.\n",
      "  index=pd.date_range(\"2019-01-01 00:00:00\", periods=8760, freq=\"H\")\n",
      "c:\\Users\\felix\\Programmieren\\districtgenerator\\.venv\\Lib\\site-packages\\teaser\\logic\\buildingobjects\\useconditions.py:363: FutureWarning: 'H' is deprecated and will be removed in a future version, please use 'h' instead.\n",
      "  index=pd.date_range(\"2019-01-01 00:00:00\", periods=8760, freq=\"H\")\n"
     ]
    },
    {
     "name": "stdout",
     "output_type": "stream",
     "text": [
      "Creating building MFH\n",
      "Creating building IWU Transport\n",
      "We are about to generate a Non Residential building.\n",
      "Available building types: ['IWU Office, Administrative or Government Buildings', 'IWU Research and University Teaching', 'IWU Health and Care', 'IWU School, Day Nursery and other Care', 'IWU Culture and Leisure', 'IWU Sports Facilities', 'IWU Hotels, Boarding, Restaurants or Catering', 'IWU Production, Workshop, Warehouse or Operations', 'IWU Trade Buildings', 'IWU Technical and Utility (supply and disposal)', 'IWU Transport', 'IWU Generalized (1) Services building', 'IWU Generalized (2) Production buildings']\n",
      "Current usage: IWU Transport\n",
      "Creating building AB\n",
      "Creating building MFH\n"
     ]
    },
    {
     "name": "stderr",
     "output_type": "stream",
     "text": [
      "c:\\Users\\felix\\Programmieren\\districtgenerator\\.venv\\Lib\\site-packages\\teaser\\logic\\buildingobjects\\useconditions.py:363: FutureWarning: 'H' is deprecated and will be removed in a future version, please use 'h' instead.\n",
      "  index=pd.date_range(\"2019-01-01 00:00:00\", periods=8760, freq=\"H\")\n",
      "c:\\Users\\felix\\Programmieren\\districtgenerator\\.venv\\Lib\\site-packages\\teaser\\logic\\buildingobjects\\useconditions.py:363: FutureWarning: 'H' is deprecated and will be removed in a future version, please use 'h' instead.\n",
      "  index=pd.date_range(\"2019-01-01 00:00:00\", periods=8760, freq=\"H\")\n"
     ]
    },
    {
     "name": "stdout",
     "output_type": "stream",
     "text": [
      "Creating building MFH\n",
      "Creating building IWU Production, Workshop, Warehouse or Operations\n",
      "We are about to generate a Non Residential building.\n",
      "Available building types: ['IWU Office, Administrative or Government Buildings', 'IWU Research and University Teaching', 'IWU Health and Care', 'IWU School, Day Nursery and other Care', 'IWU Culture and Leisure', 'IWU Sports Facilities', 'IWU Hotels, Boarding, Restaurants or Catering', 'IWU Production, Workshop, Warehouse or Operations', 'IWU Trade Buildings', 'IWU Technical and Utility (supply and disposal)', 'IWU Transport', 'IWU Generalized (1) Services building', 'IWU Generalized (2) Production buildings']\n",
      "Current usage: IWU Production, Workshop, Warehouse or Operations\n",
      "No data about lighntning control available for IWU Production, Workshop, Warehouse or Operations and data type Technical and Utility Buildings (supply and disposal)Gewerbliche und industrielle Hallen (mittelschwere Arbeit, überw. stehende Tätigkeit)\n",
      "Creating building MFH\n"
     ]
    },
    {
     "name": "stderr",
     "output_type": "stream",
     "text": [
      "c:\\Users\\felix\\Programmieren\\districtgenerator\\.venv\\Lib\\site-packages\\teaser\\logic\\buildingobjects\\useconditions.py:363: FutureWarning: 'H' is deprecated and will be removed in a future version, please use 'h' instead.\n",
      "  index=pd.date_range(\"2019-01-01 00:00:00\", periods=8760, freq=\"H\")\n",
      "c:\\Users\\felix\\Programmieren\\districtgenerator\\.venv\\Lib\\site-packages\\teaser\\logic\\buildingobjects\\useconditions.py:363: FutureWarning: 'H' is deprecated and will be removed in a future version, please use 'h' instead.\n",
      "  index=pd.date_range(\"2019-01-01 00:00:00\", periods=8760, freq=\"H\")\n"
     ]
    },
    {
     "name": "stdout",
     "output_type": "stream",
     "text": [
      "Creating building AB\n"
     ]
    },
    {
     "name": "stderr",
     "output_type": "stream",
     "text": [
      "c:\\Users\\felix\\Programmieren\\districtgenerator\\.venv\\Lib\\site-packages\\teaser\\logic\\buildingobjects\\useconditions.py:363: FutureWarning: 'H' is deprecated and will be removed in a future version, please use 'h' instead.\n",
      "  index=pd.date_range(\"2019-01-01 00:00:00\", periods=8760, freq=\"H\")\n"
     ]
    },
    {
     "name": "stdout",
     "output_type": "stream",
     "text": [
      "Creating building MFH\n",
      "Creating building AB\n"
     ]
    },
    {
     "name": "stderr",
     "output_type": "stream",
     "text": [
      "c:\\Users\\felix\\Programmieren\\districtgenerator\\.venv\\Lib\\site-packages\\teaser\\logic\\buildingobjects\\useconditions.py:363: FutureWarning: 'H' is deprecated and will be removed in a future version, please use 'h' instead.\n",
      "  index=pd.date_range(\"2019-01-01 00:00:00\", periods=8760, freq=\"H\")\n",
      "c:\\Users\\felix\\Programmieren\\districtgenerator\\.venv\\Lib\\site-packages\\teaser\\logic\\buildingobjects\\useconditions.py:363: FutureWarning: 'H' is deprecated and will be removed in a future version, please use 'h' instead.\n",
      "  index=pd.date_range(\"2019-01-01 00:00:00\", periods=8760, freq=\"H\")\n"
     ]
    },
    {
     "name": "stdout",
     "output_type": "stream",
     "text": [
      "Creating building AB\n",
      "Creating building MFH\n"
     ]
    },
    {
     "name": "stderr",
     "output_type": "stream",
     "text": [
      "c:\\Users\\felix\\Programmieren\\districtgenerator\\.venv\\Lib\\site-packages\\teaser\\logic\\buildingobjects\\useconditions.py:363: FutureWarning: 'H' is deprecated and will be removed in a future version, please use 'h' instead.\n",
      "  index=pd.date_range(\"2019-01-01 00:00:00\", periods=8760, freq=\"H\")\n",
      "c:\\Users\\felix\\Programmieren\\districtgenerator\\.venv\\Lib\\site-packages\\teaser\\logic\\buildingobjects\\useconditions.py:363: FutureWarning: 'H' is deprecated and will be removed in a future version, please use 'h' instead.\n",
      "  index=pd.date_range(\"2019-01-01 00:00:00\", periods=8760, freq=\"H\")\n"
     ]
    },
    {
     "name": "stdout",
     "output_type": "stream",
     "text": [
      "Creating building AB\n",
      "Creating building AB\n"
     ]
    },
    {
     "name": "stderr",
     "output_type": "stream",
     "text": [
      "c:\\Users\\felix\\Programmieren\\districtgenerator\\.venv\\Lib\\site-packages\\teaser\\logic\\buildingobjects\\useconditions.py:363: FutureWarning: 'H' is deprecated and will be removed in a future version, please use 'h' instead.\n",
      "  index=pd.date_range(\"2019-01-01 00:00:00\", periods=8760, freq=\"H\")\n",
      "c:\\Users\\felix\\Programmieren\\districtgenerator\\.venv\\Lib\\site-packages\\teaser\\logic\\buildingobjects\\useconditions.py:363: FutureWarning: 'H' is deprecated and will be removed in a future version, please use 'h' instead.\n",
      "  index=pd.date_range(\"2019-01-01 00:00:00\", periods=8760, freq=\"H\")\n"
     ]
    },
    {
     "name": "stdout",
     "output_type": "stream",
     "text": [
      "Creating building MFH\n"
     ]
    },
    {
     "name": "stderr",
     "output_type": "stream",
     "text": [
      "c:\\Users\\felix\\Programmieren\\districtgenerator\\.venv\\Lib\\site-packages\\teaser\\logic\\buildingobjects\\useconditions.py:363: FutureWarning: 'H' is deprecated and will be removed in a future version, please use 'h' instead.\n",
      "  index=pd.date_range(\"2019-01-01 00:00:00\", periods=8760, freq=\"H\")\n"
     ]
    },
    {
     "name": "stdout",
     "output_type": "stream",
     "text": [
      "Creating building IWU Production, Workshop, Warehouse or Operations\n",
      "We are about to generate a Non Residential building.\n",
      "Available building types: ['IWU Office, Administrative or Government Buildings', 'IWU Research and University Teaching', 'IWU Health and Care', 'IWU School, Day Nursery and other Care', 'IWU Culture and Leisure', 'IWU Sports Facilities', 'IWU Hotels, Boarding, Restaurants or Catering', 'IWU Production, Workshop, Warehouse or Operations', 'IWU Trade Buildings', 'IWU Technical and Utility (supply and disposal)', 'IWU Transport', 'IWU Generalized (1) Services building', 'IWU Generalized (2) Production buildings']\n",
      "Current usage: IWU Production, Workshop, Warehouse or Operations\n",
      "No data about lighntning control available for IWU Production, Workshop, Warehouse or Operations and data type Technical and Utility Buildings (supply and disposal)Gewerbliche und industrielle Hallen (mittelschwere Arbeit, überw. stehende Tätigkeit)\n",
      "Creating building MFH\n",
      "Creating building IWU Production, Workshop, Warehouse or Operations\n",
      "We are about to generate a Non Residential building.\n",
      "Available building types: ['IWU Office, Administrative or Government Buildings', 'IWU Research and University Teaching', 'IWU Health and Care', 'IWU School, Day Nursery and other Care', 'IWU Culture and Leisure', 'IWU Sports Facilities', 'IWU Hotels, Boarding, Restaurants or Catering', 'IWU Production, Workshop, Warehouse or Operations', 'IWU Trade Buildings', 'IWU Technical and Utility (supply and disposal)', 'IWU Transport', 'IWU Generalized (1) Services building', 'IWU Generalized (2) Production buildings']\n",
      "Current usage: IWU Production, Workshop, Warehouse or Operations\n",
      "No data about lighntning control available for IWU Production, Workshop, Warehouse or Operations and data type Technical and Utility Buildings (supply and disposal)Gewerbliche und industrielle Hallen (mittelschwere Arbeit, überw. stehende Tätigkeit)\n",
      "Creating building AB\n"
     ]
    },
    {
     "name": "stderr",
     "output_type": "stream",
     "text": [
      "c:\\Users\\felix\\Programmieren\\districtgenerator\\.venv\\Lib\\site-packages\\teaser\\logic\\buildingobjects\\useconditions.py:363: FutureWarning: 'H' is deprecated and will be removed in a future version, please use 'h' instead.\n",
      "  index=pd.date_range(\"2019-01-01 00:00:00\", periods=8760, freq=\"H\")\n",
      "c:\\Users\\felix\\Programmieren\\districtgenerator\\.venv\\Lib\\site-packages\\teaser\\logic\\buildingobjects\\useconditions.py:363: FutureWarning: 'H' is deprecated and will be removed in a future version, please use 'h' instead.\n",
      "  index=pd.date_range(\"2019-01-01 00:00:00\", periods=8760, freq=\"H\")\n"
     ]
    },
    {
     "name": "stdout",
     "output_type": "stream",
     "text": [
      "Creating building AB\n",
      "Creating building AB\n"
     ]
    },
    {
     "name": "stderr",
     "output_type": "stream",
     "text": [
      "c:\\Users\\felix\\Programmieren\\districtgenerator\\.venv\\Lib\\site-packages\\teaser\\logic\\buildingobjects\\useconditions.py:363: FutureWarning: 'H' is deprecated and will be removed in a future version, please use 'h' instead.\n",
      "  index=pd.date_range(\"2019-01-01 00:00:00\", periods=8760, freq=\"H\")\n",
      "c:\\Users\\felix\\Programmieren\\districtgenerator\\.venv\\Lib\\site-packages\\teaser\\logic\\buildingobjects\\useconditions.py:363: FutureWarning: 'H' is deprecated and will be removed in a future version, please use 'h' instead.\n",
      "  index=pd.date_range(\"2019-01-01 00:00:00\", periods=8760, freq=\"H\")\n"
     ]
    },
    {
     "name": "stdout",
     "output_type": "stream",
     "text": [
      "Creating building AB\n",
      "Creating building AB\n"
     ]
    },
    {
     "name": "stderr",
     "output_type": "stream",
     "text": [
      "c:\\Users\\felix\\Programmieren\\districtgenerator\\.venv\\Lib\\site-packages\\teaser\\logic\\buildingobjects\\useconditions.py:363: FutureWarning: 'H' is deprecated and will be removed in a future version, please use 'h' instead.\n",
      "  index=pd.date_range(\"2019-01-01 00:00:00\", periods=8760, freq=\"H\")\n",
      "c:\\Users\\felix\\Programmieren\\districtgenerator\\.venv\\Lib\\site-packages\\teaser\\logic\\buildingobjects\\useconditions.py:363: FutureWarning: 'H' is deprecated and will be removed in a future version, please use 'h' instead.\n",
      "  index=pd.date_range(\"2019-01-01 00:00:00\", periods=8760, freq=\"H\")\n"
     ]
    },
    {
     "name": "stdout",
     "output_type": "stream",
     "text": [
      "Creating building IWU Transport\n",
      "We are about to generate a Non Residential building.\n",
      "Available building types: ['IWU Office, Administrative or Government Buildings', 'IWU Research and University Teaching', 'IWU Health and Care', 'IWU School, Day Nursery and other Care', 'IWU Culture and Leisure', 'IWU Sports Facilities', 'IWU Hotels, Boarding, Restaurants or Catering', 'IWU Production, Workshop, Warehouse or Operations', 'IWU Trade Buildings', 'IWU Technical and Utility (supply and disposal)', 'IWU Transport', 'IWU Generalized (1) Services building', 'IWU Generalized (2) Production buildings']\n",
      "Current usage: IWU Transport\n",
      "Creating building MFH\n",
      "Creating building AB\n"
     ]
    },
    {
     "name": "stderr",
     "output_type": "stream",
     "text": [
      "c:\\Users\\felix\\Programmieren\\districtgenerator\\.venv\\Lib\\site-packages\\teaser\\logic\\buildingobjects\\useconditions.py:363: FutureWarning: 'H' is deprecated and will be removed in a future version, please use 'h' instead.\n",
      "  index=pd.date_range(\"2019-01-01 00:00:00\", periods=8760, freq=\"H\")\n",
      "c:\\Users\\felix\\Programmieren\\districtgenerator\\.venv\\Lib\\site-packages\\teaser\\logic\\buildingobjects\\useconditions.py:363: FutureWarning: 'H' is deprecated and will be removed in a future version, please use 'h' instead.\n",
      "  index=pd.date_range(\"2019-01-01 00:00:00\", periods=8760, freq=\"H\")\n"
     ]
    },
    {
     "name": "stdout",
     "output_type": "stream",
     "text": [
      "Creating building IWU Production, Workshop, Warehouse or Operations\n",
      "We are about to generate a Non Residential building.\n",
      "Available building types: ['IWU Office, Administrative or Government Buildings', 'IWU Research and University Teaching', 'IWU Health and Care', 'IWU School, Day Nursery and other Care', 'IWU Culture and Leisure', 'IWU Sports Facilities', 'IWU Hotels, Boarding, Restaurants or Catering', 'IWU Production, Workshop, Warehouse or Operations', 'IWU Trade Buildings', 'IWU Technical and Utility (supply and disposal)', 'IWU Transport', 'IWU Generalized (1) Services building', 'IWU Generalized (2) Production buildings']\n",
      "Current usage: IWU Production, Workshop, Warehouse or Operations\n",
      "No data about lighntning control available for IWU Production, Workshop, Warehouse or Operations and data type Technical and Utility Buildings (supply and disposal)Gewerbliche und industrielle Hallen (mittelschwere Arbeit, überw. stehende Tätigkeit)\n",
      "Creating building TH\n",
      "Creating building IWU Production, Workshop, Warehouse or Operations\n",
      "We are about to generate a Non Residential building.\n",
      "Available building types: ['IWU Office, Administrative or Government Buildings', 'IWU Research and University Teaching', 'IWU Health and Care', 'IWU School, Day Nursery and other Care', 'IWU Culture and Leisure', 'IWU Sports Facilities', 'IWU Hotels, Boarding, Restaurants or Catering', 'IWU Production, Workshop, Warehouse or Operations', 'IWU Trade Buildings', 'IWU Technical and Utility (supply and disposal)', 'IWU Transport', 'IWU Generalized (1) Services building', 'IWU Generalized (2) Production buildings']\n",
      "Current usage: IWU Production, Workshop, Warehouse or Operations\n"
     ]
    },
    {
     "name": "stderr",
     "output_type": "stream",
     "text": [
      "c:\\Users\\felix\\Programmieren\\districtgenerator\\.venv\\Lib\\site-packages\\teaser\\logic\\buildingobjects\\useconditions.py:363: FutureWarning: 'H' is deprecated and will be removed in a future version, please use 'h' instead.\n",
      "  index=pd.date_range(\"2019-01-01 00:00:00\", periods=8760, freq=\"H\")\n",
      "c:\\Users\\felix\\Programmieren\\districtgenerator\\.venv\\Lib\\site-packages\\teaser\\logic\\buildingobjects\\useconditions.py:363: FutureWarning: 'H' is deprecated and will be removed in a future version, please use 'h' instead.\n",
      "  index=pd.date_range(\"2019-01-01 00:00:00\", periods=8760, freq=\"H\")\n"
     ]
    },
    {
     "name": "stdout",
     "output_type": "stream",
     "text": [
      "No data about lighntning control available for IWU Production, Workshop, Warehouse or Operations and data type Technical and Utility Buildings (supply and disposal)Gewerbliche und industrielle Hallen (mittelschwere Arbeit, überw. stehende Tätigkeit)\n",
      "Creating building IWU Production, Workshop, Warehouse or Operations\n",
      "We are about to generate a Non Residential building.\n",
      "Available building types: ['IWU Office, Administrative or Government Buildings', 'IWU Research and University Teaching', 'IWU Health and Care', 'IWU School, Day Nursery and other Care', 'IWU Culture and Leisure', 'IWU Sports Facilities', 'IWU Hotels, Boarding, Restaurants or Catering', 'IWU Production, Workshop, Warehouse or Operations', 'IWU Trade Buildings', 'IWU Technical and Utility (supply and disposal)', 'IWU Transport', 'IWU Generalized (1) Services building', 'IWU Generalized (2) Production buildings']\n",
      "Current usage: IWU Production, Workshop, Warehouse or Operations\n",
      "No data about lighntning control available for IWU Production, Workshop, Warehouse or Operations and data type Technical and Utility Buildings (supply and disposal)Gewerbliche und industrielle Hallen (mittelschwere Arbeit, überw. stehende Tätigkeit)\n",
      "Creating building MFH\n",
      "Creating building MFH\n"
     ]
    },
    {
     "name": "stderr",
     "output_type": "stream",
     "text": [
      "c:\\Users\\felix\\Programmieren\\districtgenerator\\.venv\\Lib\\site-packages\\teaser\\logic\\buildingobjects\\useconditions.py:363: FutureWarning: 'H' is deprecated and will be removed in a future version, please use 'h' instead.\n",
      "  index=pd.date_range(\"2019-01-01 00:00:00\", periods=8760, freq=\"H\")\n",
      "c:\\Users\\felix\\Programmieren\\districtgenerator\\.venv\\Lib\\site-packages\\teaser\\logic\\buildingobjects\\useconditions.py:363: FutureWarning: 'H' is deprecated and will be removed in a future version, please use 'h' instead.\n",
      "  index=pd.date_range(\"2019-01-01 00:00:00\", periods=8760, freq=\"H\")\n"
     ]
    },
    {
     "name": "stdout",
     "output_type": "stream",
     "text": [
      "Creating building AB\n",
      "Creating building MFH\n"
     ]
    },
    {
     "name": "stderr",
     "output_type": "stream",
     "text": [
      "c:\\Users\\felix\\Programmieren\\districtgenerator\\.venv\\Lib\\site-packages\\teaser\\logic\\buildingobjects\\useconditions.py:363: FutureWarning: 'H' is deprecated and will be removed in a future version, please use 'h' instead.\n",
      "  index=pd.date_range(\"2019-01-01 00:00:00\", periods=8760, freq=\"H\")\n",
      "c:\\Users\\felix\\Programmieren\\districtgenerator\\.venv\\Lib\\site-packages\\teaser\\logic\\buildingobjects\\useconditions.py:363: FutureWarning: 'H' is deprecated and will be removed in a future version, please use 'h' instead.\n",
      "  index=pd.date_range(\"2019-01-01 00:00:00\", periods=8760, freq=\"H\")\n"
     ]
    },
    {
     "name": "stdout",
     "output_type": "stream",
     "text": [
      "Creating building MFH\n",
      "Creating building AB\n"
     ]
    },
    {
     "name": "stderr",
     "output_type": "stream",
     "text": [
      "c:\\Users\\felix\\Programmieren\\districtgenerator\\.venv\\Lib\\site-packages\\teaser\\logic\\buildingobjects\\useconditions.py:363: FutureWarning: 'H' is deprecated and will be removed in a future version, please use 'h' instead.\n",
      "  index=pd.date_range(\"2019-01-01 00:00:00\", periods=8760, freq=\"H\")\n"
     ]
    },
    {
     "name": "stdout",
     "output_type": "stream",
     "text": [
      "Creating building IWU Production, Workshop, Warehouse or Operations\n",
      "We are about to generate a Non Residential building.\n",
      "Available building types: ['IWU Office, Administrative or Government Buildings', 'IWU Research and University Teaching', 'IWU Health and Care', 'IWU School, Day Nursery and other Care', 'IWU Culture and Leisure', 'IWU Sports Facilities', 'IWU Hotels, Boarding, Restaurants or Catering', 'IWU Production, Workshop, Warehouse or Operations', 'IWU Trade Buildings', 'IWU Technical and Utility (supply and disposal)', 'IWU Transport', 'IWU Generalized (1) Services building', 'IWU Generalized (2) Production buildings']\n",
      "Current usage: IWU Production, Workshop, Warehouse or Operations\n",
      "No data about lighntning control available for IWU Production, Workshop, Warehouse or Operations and data type Technical and Utility Buildings (supply and disposal)Gewerbliche und industrielle Hallen (mittelschwere Arbeit, überw. stehende Tätigkeit)\n",
      "Creating building MFH\n",
      "Creating building AB\n"
     ]
    },
    {
     "name": "stderr",
     "output_type": "stream",
     "text": [
      "c:\\Users\\felix\\Programmieren\\districtgenerator\\.venv\\Lib\\site-packages\\teaser\\logic\\buildingobjects\\useconditions.py:363: FutureWarning: 'H' is deprecated and will be removed in a future version, please use 'h' instead.\n",
      "  index=pd.date_range(\"2019-01-01 00:00:00\", periods=8760, freq=\"H\")\n",
      "c:\\Users\\felix\\Programmieren\\districtgenerator\\.venv\\Lib\\site-packages\\teaser\\logic\\buildingobjects\\useconditions.py:363: FutureWarning: 'H' is deprecated and will be removed in a future version, please use 'h' instead.\n",
      "  index=pd.date_range(\"2019-01-01 00:00:00\", periods=8760, freq=\"H\")\n"
     ]
    },
    {
     "name": "stdout",
     "output_type": "stream",
     "text": [
      "Creating building MFH\n"
     ]
    },
    {
     "name": "stderr",
     "output_type": "stream",
     "text": [
      "c:\\Users\\felix\\Programmieren\\districtgenerator\\.venv\\Lib\\site-packages\\teaser\\logic\\buildingobjects\\useconditions.py:363: FutureWarning: 'H' is deprecated and will be removed in a future version, please use 'h' instead.\n",
      "  index=pd.date_range(\"2019-01-01 00:00:00\", periods=8760, freq=\"H\")\n"
     ]
    },
    {
     "name": "stdout",
     "output_type": "stream",
     "text": [
      "Creating building AB\n",
      "Creating building AB\n"
     ]
    },
    {
     "name": "stderr",
     "output_type": "stream",
     "text": [
      "c:\\Users\\felix\\Programmieren\\districtgenerator\\.venv\\Lib\\site-packages\\teaser\\logic\\buildingobjects\\useconditions.py:363: FutureWarning: 'H' is deprecated and will be removed in a future version, please use 'h' instead.\n",
      "  index=pd.date_range(\"2019-01-01 00:00:00\", periods=8760, freq=\"H\")\n",
      "c:\\Users\\felix\\Programmieren\\districtgenerator\\.venv\\Lib\\site-packages\\teaser\\logic\\buildingobjects\\useconditions.py:363: FutureWarning: 'H' is deprecated and will be removed in a future version, please use 'h' instead.\n",
      "  index=pd.date_range(\"2019-01-01 00:00:00\", periods=8760, freq=\"H\")\n"
     ]
    },
    {
     "name": "stdout",
     "output_type": "stream",
     "text": [
      "Creating building MFH\n",
      "Creating building MFH\n",
      "Creating building MFH\n",
      "Creating building MFH\n"
     ]
    },
    {
     "name": "stderr",
     "output_type": "stream",
     "text": [
      "c:\\Users\\felix\\Programmieren\\districtgenerator\\.venv\\Lib\\site-packages\\teaser\\logic\\buildingobjects\\useconditions.py:363: FutureWarning: 'H' is deprecated and will be removed in a future version, please use 'h' instead.\n",
      "  index=pd.date_range(\"2019-01-01 00:00:00\", periods=8760, freq=\"H\")\n",
      "c:\\Users\\felix\\Programmieren\\districtgenerator\\.venv\\Lib\\site-packages\\teaser\\logic\\buildingobjects\\useconditions.py:363: FutureWarning: 'H' is deprecated and will be removed in a future version, please use 'h' instead.\n",
      "  index=pd.date_range(\"2019-01-01 00:00:00\", periods=8760, freq=\"H\")\n",
      "c:\\Users\\felix\\Programmieren\\districtgenerator\\.venv\\Lib\\site-packages\\teaser\\logic\\buildingobjects\\useconditions.py:363: FutureWarning: 'H' is deprecated and will be removed in a future version, please use 'h' instead.\n",
      "  index=pd.date_range(\"2019-01-01 00:00:00\", periods=8760, freq=\"H\")\n",
      "c:\\Users\\felix\\Programmieren\\districtgenerator\\.venv\\Lib\\site-packages\\teaser\\logic\\buildingobjects\\useconditions.py:363: FutureWarning: 'H' is deprecated and will be removed in a future version, please use 'h' instead.\n",
      "  index=pd.date_range(\"2019-01-01 00:00:00\", periods=8760, freq=\"H\")\n"
     ]
    },
    {
     "name": "stdout",
     "output_type": "stream",
     "text": [
      "Creating building MFH\n",
      "Creating building MFH\n"
     ]
    },
    {
     "name": "stderr",
     "output_type": "stream",
     "text": [
      "c:\\Users\\felix\\Programmieren\\districtgenerator\\.venv\\Lib\\site-packages\\teaser\\logic\\buildingobjects\\useconditions.py:363: FutureWarning: 'H' is deprecated and will be removed in a future version, please use 'h' instead.\n",
      "  index=pd.date_range(\"2019-01-01 00:00:00\", periods=8760, freq=\"H\")\n",
      "c:\\Users\\felix\\Programmieren\\districtgenerator\\.venv\\Lib\\site-packages\\teaser\\logic\\buildingobjects\\useconditions.py:363: FutureWarning: 'H' is deprecated and will be removed in a future version, please use 'h' instead.\n",
      "  index=pd.date_range(\"2019-01-01 00:00:00\", periods=8760, freq=\"H\")\n"
     ]
    },
    {
     "name": "stdout",
     "output_type": "stream",
     "text": [
      "Creating building MFH\n",
      "Creating building MFH\n"
     ]
    },
    {
     "name": "stderr",
     "output_type": "stream",
     "text": [
      "c:\\Users\\felix\\Programmieren\\districtgenerator\\.venv\\Lib\\site-packages\\teaser\\logic\\buildingobjects\\useconditions.py:363: FutureWarning: 'H' is deprecated and will be removed in a future version, please use 'h' instead.\n",
      "  index=pd.date_range(\"2019-01-01 00:00:00\", periods=8760, freq=\"H\")\n",
      "c:\\Users\\felix\\Programmieren\\districtgenerator\\.venv\\Lib\\site-packages\\teaser\\logic\\buildingobjects\\useconditions.py:363: FutureWarning: 'H' is deprecated and will be removed in a future version, please use 'h' instead.\n",
      "  index=pd.date_range(\"2019-01-01 00:00:00\", periods=8760, freq=\"H\")\n"
     ]
    },
    {
     "name": "stdout",
     "output_type": "stream",
     "text": [
      "Creating building MFH\n",
      "Creating building MFH\n",
      "Creating building IWU Health and Care\n",
      "We are about to generate a Non Residential building.\n",
      "Available building types: ['IWU Office, Administrative or Government Buildings', 'IWU Research and University Teaching', 'IWU Health and Care', 'IWU School, Day Nursery and other Care', 'IWU Culture and Leisure', 'IWU Sports Facilities', 'IWU Hotels, Boarding, Restaurants or Catering', 'IWU Production, Workshop, Warehouse or Operations', 'IWU Trade Buildings', 'IWU Technical and Utility (supply and disposal)', 'IWU Transport', 'IWU Generalized (1) Services building', 'IWU Generalized (2) Production buildings']\n",
      "Current usage: IWU Health and Care\n"
     ]
    },
    {
     "name": "stderr",
     "output_type": "stream",
     "text": [
      "c:\\Users\\felix\\Programmieren\\districtgenerator\\.venv\\Lib\\site-packages\\teaser\\logic\\buildingobjects\\useconditions.py:363: FutureWarning: 'H' is deprecated and will be removed in a future version, please use 'h' instead.\n",
      "  index=pd.date_range(\"2019-01-01 00:00:00\", periods=8760, freq=\"H\")\n",
      "c:\\Users\\felix\\Programmieren\\districtgenerator\\.venv\\Lib\\site-packages\\teaser\\logic\\buildingobjects\\useconditions.py:363: FutureWarning: 'H' is deprecated and will be removed in a future version, please use 'h' instead.\n",
      "  index=pd.date_range(\"2019-01-01 00:00:00\", periods=8760, freq=\"H\")\n"
     ]
    },
    {
     "name": "stdout",
     "output_type": "stream",
     "text": [
      "Creating building MFH\n",
      "Creating building MFH\n"
     ]
    },
    {
     "name": "stderr",
     "output_type": "stream",
     "text": [
      "c:\\Users\\felix\\Programmieren\\districtgenerator\\.venv\\Lib\\site-packages\\teaser\\logic\\buildingobjects\\useconditions.py:363: FutureWarning: 'H' is deprecated and will be removed in a future version, please use 'h' instead.\n",
      "  index=pd.date_range(\"2019-01-01 00:00:00\", periods=8760, freq=\"H\")\n",
      "c:\\Users\\felix\\Programmieren\\districtgenerator\\.venv\\Lib\\site-packages\\teaser\\logic\\buildingobjects\\useconditions.py:363: FutureWarning: 'H' is deprecated and will be removed in a future version, please use 'h' instead.\n",
      "  index=pd.date_range(\"2019-01-01 00:00:00\", periods=8760, freq=\"H\")\n"
     ]
    },
    {
     "name": "stdout",
     "output_type": "stream",
     "text": [
      "Creating building MFH\n",
      "Creating building MFH\n",
      "Creating building MFH\n"
     ]
    },
    {
     "name": "stderr",
     "output_type": "stream",
     "text": [
      "c:\\Users\\felix\\Programmieren\\districtgenerator\\.venv\\Lib\\site-packages\\teaser\\logic\\buildingobjects\\useconditions.py:363: FutureWarning: 'H' is deprecated and will be removed in a future version, please use 'h' instead.\n",
      "  index=pd.date_range(\"2019-01-01 00:00:00\", periods=8760, freq=\"H\")\n",
      "c:\\Users\\felix\\Programmieren\\districtgenerator\\.venv\\Lib\\site-packages\\teaser\\logic\\buildingobjects\\useconditions.py:363: FutureWarning: 'H' is deprecated and will be removed in a future version, please use 'h' instead.\n",
      "  index=pd.date_range(\"2019-01-01 00:00:00\", periods=8760, freq=\"H\")\n",
      "c:\\Users\\felix\\Programmieren\\districtgenerator\\.venv\\Lib\\site-packages\\teaser\\logic\\buildingobjects\\useconditions.py:363: FutureWarning: 'H' is deprecated and will be removed in a future version, please use 'h' instead.\n",
      "  index=pd.date_range(\"2019-01-01 00:00:00\", periods=8760, freq=\"H\")\n"
     ]
    },
    {
     "name": "stdout",
     "output_type": "stream",
     "text": [
      "Creating building AB\n"
     ]
    },
    {
     "name": "stderr",
     "output_type": "stream",
     "text": [
      "c:\\Users\\felix\\Programmieren\\districtgenerator\\.venv\\Lib\\site-packages\\teaser\\logic\\buildingobjects\\useconditions.py:363: FutureWarning: 'H' is deprecated and will be removed in a future version, please use 'h' instead.\n",
      "  index=pd.date_range(\"2019-01-01 00:00:00\", periods=8760, freq=\"H\")\n"
     ]
    },
    {
     "name": "stdout",
     "output_type": "stream",
     "text": [
      "Creating building IWU Health and Care\n",
      "We are about to generate a Non Residential building.\n",
      "Available building types: ['IWU Office, Administrative or Government Buildings', 'IWU Research and University Teaching', 'IWU Health and Care', 'IWU School, Day Nursery and other Care', 'IWU Culture and Leisure', 'IWU Sports Facilities', 'IWU Hotels, Boarding, Restaurants or Catering', 'IWU Production, Workshop, Warehouse or Operations', 'IWU Trade Buildings', 'IWU Technical and Utility (supply and disposal)', 'IWU Transport', 'IWU Generalized (1) Services building', 'IWU Generalized (2) Production buildings']\n",
      "Current usage: IWU Health and Care\n",
      "Creating building AB\n",
      "Creating building MFH\n"
     ]
    },
    {
     "name": "stderr",
     "output_type": "stream",
     "text": [
      "c:\\Users\\felix\\Programmieren\\districtgenerator\\.venv\\Lib\\site-packages\\teaser\\logic\\buildingobjects\\useconditions.py:363: FutureWarning: 'H' is deprecated and will be removed in a future version, please use 'h' instead.\n",
      "  index=pd.date_range(\"2019-01-01 00:00:00\", periods=8760, freq=\"H\")\n",
      "c:\\Users\\felix\\Programmieren\\districtgenerator\\.venv\\Lib\\site-packages\\teaser\\logic\\buildingobjects\\useconditions.py:363: FutureWarning: 'H' is deprecated and will be removed in a future version, please use 'h' instead.\n",
      "  index=pd.date_range(\"2019-01-01 00:00:00\", periods=8760, freq=\"H\")\n"
     ]
    },
    {
     "name": "stdout",
     "output_type": "stream",
     "text": [
      "Creating building AB\n",
      "Creating building MFH\n"
     ]
    },
    {
     "name": "stderr",
     "output_type": "stream",
     "text": [
      "c:\\Users\\felix\\Programmieren\\districtgenerator\\.venv\\Lib\\site-packages\\teaser\\logic\\buildingobjects\\useconditions.py:363: FutureWarning: 'H' is deprecated and will be removed in a future version, please use 'h' instead.\n",
      "  index=pd.date_range(\"2019-01-01 00:00:00\", periods=8760, freq=\"H\")\n",
      "c:\\Users\\felix\\Programmieren\\districtgenerator\\.venv\\Lib\\site-packages\\teaser\\logic\\buildingobjects\\useconditions.py:363: FutureWarning: 'H' is deprecated and will be removed in a future version, please use 'h' instead.\n",
      "  index=pd.date_range(\"2019-01-01 00:00:00\", periods=8760, freq=\"H\")\n"
     ]
    },
    {
     "name": "stdout",
     "output_type": "stream",
     "text": [
      "Creating building AB\n",
      "Creating building AB\n"
     ]
    },
    {
     "name": "stderr",
     "output_type": "stream",
     "text": [
      "c:\\Users\\felix\\Programmieren\\districtgenerator\\.venv\\Lib\\site-packages\\teaser\\logic\\buildingobjects\\useconditions.py:363: FutureWarning: 'H' is deprecated and will be removed in a future version, please use 'h' instead.\n",
      "  index=pd.date_range(\"2019-01-01 00:00:00\", periods=8760, freq=\"H\")\n",
      "c:\\Users\\felix\\Programmieren\\districtgenerator\\.venv\\Lib\\site-packages\\teaser\\logic\\buildingobjects\\useconditions.py:363: FutureWarning: 'H' is deprecated and will be removed in a future version, please use 'h' instead.\n",
      "  index=pd.date_range(\"2019-01-01 00:00:00\", periods=8760, freq=\"H\")\n"
     ]
    },
    {
     "name": "stdout",
     "output_type": "stream",
     "text": [
      "The folder already exists. Will overwrite existing files.\n",
      "Calculate demands of building 0_AB_63_0\n",
      "Save heating profile of building 0_AB_63_0 in None\n",
      "Calculate demands of building 1_AB_65_0\n",
      "Save heating profile of building 1_AB_65_0 in None\n",
      "No data about TEK available for Verkehrsgebäude\n",
      "No data about annual dhw consumption available for building type: IWU Transport. DHW demand is set to zero.\n",
      "Calculate demands of building 2_IWU Transport_[2]_0\n",
      "Save heating profile of building 2_IWU Transport_[2]_0 in None\n",
      "Calculate demands of building 3_AB_15_0\n",
      "Save heating profile of building 3_AB_15_0 in None\n",
      "Calculate demands of building 4_AB_45_0\n",
      "Save heating profile of building 4_AB_45_0 in None\n",
      "Calculate demands of building 5_AB_43_0\n",
      "Save heating profile of building 5_AB_43_0 in None\n",
      "Calculate demands of building 6_AB_47_0\n",
      "Save heating profile of building 6_AB_47_0 in None\n",
      "No data about TEK available for Verkehrsgebäude\n",
      "No data about annual dhw consumption available for building type: IWU Transport. DHW demand is set to zero.\n",
      "Calculate demands of building 7_IWU Transport_[3]_0\n",
      "Save heating profile of building 7_IWU Transport_[3]_0 in None\n",
      "Calculate demands of building 8_IWU Technical and Utility (supply and disposal)_[1]_0\n",
      "Save heating profile of building 8_IWU Technical and Utility (supply and disposal)_[1]_0 in None\n",
      "Calculate demands of building 9_AB_13_0\n",
      "Save heating profile of building 9_AB_13_0 in None\n",
      "Calculate demands of building 10_AB_41_0\n",
      "Save heating profile of building 10_AB_41_0 in None\n",
      "Calculate demands of building 11_AB_21_0\n",
      "Save heating profile of building 11_AB_21_0 in None\n",
      "Internal gains are negative. Setting to zero.\n",
      "Occupancy gains: 137156.6121766193\n",
      "Lighting gains: 2949.7650000000003\n",
      "Appliance gains: -209039.72704991937\n",
      "Total gains: -68933.34987330016\n",
      "Calculate demands of building 12_IWU Trade Buildings_[10]_0\n",
      "Save heating profile of building 12_IWU Trade Buildings_[10]_0 in None\n",
      "Calculate demands of building 13_AB_62_0\n",
      "Save heating profile of building 13_AB_62_0 in None\n",
      "Calculate demands of building 14_AB_21_0\n",
      "Save heating profile of building 14_AB_21_0 in None\n",
      "Calculate demands of building 15_AB_72_0\n",
      "Save heating profile of building 15_AB_72_0 in None\n",
      "Calculate demands of building 16_AB_63_0\n",
      "Save heating profile of building 16_AB_63_0 in None\n",
      "Calculate demands of building 17_IWU Culture and Leisure_[862]_0\n",
      "Save heating profile of building 17_IWU Culture and Leisure_[862]_0 in None\n",
      "Calculate demands of building 18_AB_60_0\n",
      "Save heating profile of building 18_AB_60_0 in None\n",
      "Calculate demands of building 19_AB_46_0\n",
      "Save heating profile of building 19_AB_46_0 in None\n",
      "Calculate demands of building 20_AB_73_0\n",
      "Save heating profile of building 20_AB_73_0 in None\n",
      "Calculate demands of building 21_AB_38_0\n",
      "Save heating profile of building 21_AB_38_0 in None\n",
      "Calculate demands of building 22_AB_11_0\n",
      "Save heating profile of building 22_AB_11_0 in None\n",
      "Calculate demands of building 23_AB_64_0\n",
      "Save heating profile of building 23_AB_64_0 in None\n",
      "Calculate demands of building 24_AB_72_0\n",
      "Save heating profile of building 24_AB_72_0 in None\n",
      "Calculate demands of building 25_AB_49_0\n",
      "Save heating profile of building 25_AB_49_0 in None\n",
      "Calculate demands of building 26_AB_21_0\n",
      "Save heating profile of building 26_AB_21_0 in None\n",
      "Calculate demands of building 27_AB_44_0\n",
      "Save heating profile of building 27_AB_44_0 in None\n",
      "Calculate demands of building 28_AB_65_0\n",
      "Save heating profile of building 28_AB_65_0 in None\n",
      "Calculate demands of building 29_AB_67_0\n",
      "Save heating profile of building 29_AB_67_0 in None\n",
      "Calculate demands of building 30_AB_74_0\n",
      "Save heating profile of building 30_AB_74_0 in None\n",
      "Calculate demands of building 31_AB_71_0\n",
      "Save heating profile of building 31_AB_71_0 in None\n",
      "Calculate demands of building 32_AB_17_0\n",
      "Save heating profile of building 32_AB_17_0 in None\n",
      "Calculate demands of building 33_IWU Sports Facilities_[4181]_0\n",
      "Save heating profile of building 33_IWU Sports Facilities_[4181]_0 in None\n",
      "Calculate demands of building 34_SFH_1_0\n",
      "Save heating profile of building 34_SFH_1_0 in None\n",
      "Calculate demands of building 35_AB_28_0\n",
      "Save heating profile of building 35_AB_28_0 in None\n",
      "Calculate demands of building 36_IWU Health and Care_[316]_0\n",
      "Save heating profile of building 36_IWU Health and Care_[316]_0 in None\n",
      "Calculate demands of building 37_AB_64_0\n",
      "Save heating profile of building 37_AB_64_0 in None\n",
      "Calculate demands of building 38_AB_24_0\n",
      "Save heating profile of building 38_AB_24_0 in None\n",
      "Calculate demands of building 39_AB_15_0\n",
      "Save heating profile of building 39_AB_15_0 in None\n",
      "Calculate demands of building 40_AB_95_0\n",
      "Save heating profile of building 40_AB_95_0 in None\n",
      "Calculate demands of building 41_AB_72_0\n",
      "Save heating profile of building 41_AB_72_0 in None\n",
      "Calculate demands of building 42_AB_18_0\n",
      "Save heating profile of building 42_AB_18_0 in None\n",
      "Calculate demands of building 43_AB_69_0\n",
      "Save heating profile of building 43_AB_69_0 in None\n",
      "Calculate demands of building 44_AB_31_0\n",
      "Save heating profile of building 44_AB_31_0 in None\n",
      "Calculate demands of building 45_AB_47_0\n",
      "Save heating profile of building 45_AB_47_0 in None\n",
      "Calculate demands of building 46_AB_50_0\n",
      "Save heating profile of building 46_AB_50_0 in None\n",
      "Calculate demands of building 47_AB_67_0\n",
      "Save heating profile of building 47_AB_67_0 in None\n",
      "Calculate demands of building 48_AB_60_0\n",
      "Save heating profile of building 48_AB_60_0 in None\n",
      "Calculate demands of building 49_AB_25_0\n",
      "Save heating profile of building 49_AB_25_0 in None\n",
      "Calculate demands of building 50_AB_101_0\n",
      "Save heating profile of building 50_AB_101_0 in None\n",
      "Calculate demands of building 51_AB_76_0\n",
      "Save heating profile of building 51_AB_76_0 in None\n",
      "Calculate demands of building 52_AB_42_0\n",
      "Save heating profile of building 52_AB_42_0 in None\n",
      "Calculate demands of building 53_AB_81_0\n",
      "Save heating profile of building 53_AB_81_0 in None\n",
      "Calculate demands of building 54_AB_87_0\n",
      "Save heating profile of building 54_AB_87_0 in None\n",
      "Calculate demands of building 55_AB_39_0\n",
      "Save heating profile of building 55_AB_39_0 in None\n",
      "Calculate demands of building 56_AB_83_0\n",
      "Save heating profile of building 56_AB_83_0 in None\n",
      "Calculate demands of building 57_TH_1_0\n",
      "Save heating profile of building 57_TH_1_0 in None\n",
      "Calculate demands of building 58_AB_34_0\n",
      "Save heating profile of building 58_AB_34_0 in None\n",
      "No data about TEK available for Verkehrsgebäude\n",
      "No data about annual dhw consumption available for building type: IWU Transport. DHW demand is set to zero.\n",
      "Calculate demands of building 59_IWU Transport_[34]_0\n",
      "Save heating profile of building 59_IWU Transport_[34]_0 in None\n",
      "Calculate demands of building 60_AB_53_0\n",
      "Save heating profile of building 60_AB_53_0 in None\n",
      "Calculate demands of building 61_AB_39_0\n",
      "Save heating profile of building 61_AB_39_0 in None\n",
      "Calculate demands of building 62_AB_15_0\n",
      "Save heating profile of building 62_AB_15_0 in None\n",
      "Calculate demands of building 63_AB_36_0\n",
      "Save heating profile of building 63_AB_36_0 in None\n",
      "Calculate demands of building 64_AB_25_0\n",
      "Save heating profile of building 64_AB_25_0 in None\n",
      "Calculate demands of building 65_AB_18_0\n",
      "Save heating profile of building 65_AB_18_0 in None\n",
      "Calculate demands of building 66_AB_66_0\n",
      "Save heating profile of building 66_AB_66_0 in None\n",
      "No data about TEK available for Verkehrsgebäude\n",
      "No data about annual dhw consumption available for building type: IWU Transport. DHW demand is set to zero.\n",
      "Calculate demands of building 67_IWU Transport_[4]_0\n",
      "Save heating profile of building 67_IWU Transport_[4]_0 in None\n",
      "Calculate demands of building 68_AB_18_0\n",
      "Save heating profile of building 68_AB_18_0 in None\n",
      "Calculate demands of building 69_AB_25_0\n",
      "Save heating profile of building 69_AB_25_0 in None\n",
      "Calculate demands of building 70_AB_78_0\n",
      "Save heating profile of building 70_AB_78_0 in None\n",
      "No data about TEK available for Verkehrsgebäude\n",
      "No data about annual dhw consumption available for building type: IWU Transport. DHW demand is set to zero.\n",
      "Calculate demands of building 71_IWU Transport_[5]_0\n",
      "Save heating profile of building 71_IWU Transport_[5]_0 in None\n",
      "Calculate demands of building 72_AB_54_0\n",
      "Save heating profile of building 72_AB_54_0 in None\n",
      "Calculate demands of building 73_AB_22_0\n",
      "Save heating profile of building 73_AB_22_0 in None\n",
      "Calculate demands of building 74_AB_36_0\n",
      "Save heating profile of building 74_AB_36_0 in None\n",
      "Calculate demands of building 75_AB_55_0\n",
      "Save heating profile of building 75_AB_55_0 in None\n",
      "Calculate demands of building 76_AB_26_0\n",
      "Save heating profile of building 76_AB_26_0 in None\n",
      "Calculate demands of building 77_AB_14_0\n",
      "Save heating profile of building 77_AB_14_0 in None\n",
      "Calculate demands of building 78_IWU Hotels, Boarding, Restaurants or Catering_[209]_0\n",
      "Save heating profile of building 78_IWU Hotels, Boarding, Restaurants or Catering_[209]_0 in None\n",
      "Calculate demands of building 79_AB_59_0\n",
      "Save heating profile of building 79_AB_59_0 in None\n",
      "No data about TEK available for Verkehrsgebäude\n",
      "No data about annual dhw consumption available for building type: IWU Transport. DHW demand is set to zero.\n",
      "Calculate demands of building 80_IWU Transport_[9]_0\n",
      "Save heating profile of building 80_IWU Transport_[9]_0 in None\n",
      "Calculate demands of building 81_AB_61_0\n",
      "Save heating profile of building 81_AB_61_0 in None\n",
      "No data about TEK available for Verkehrsgebäude\n",
      "No data about annual dhw consumption available for building type: IWU Transport. DHW demand is set to zero.\n",
      "Calculate demands of building 82_IWU Transport_[8]_0\n",
      "Save heating profile of building 82_IWU Transport_[8]_0 in None\n",
      "Calculate demands of building 83_AB_47_0\n",
      "Save heating profile of building 83_AB_47_0 in None\n",
      "Calculate demands of building 84_AB_46_0\n",
      "Save heating profile of building 84_AB_46_0 in None\n",
      "Calculate demands of building 85_AB_43_0\n",
      "Save heating profile of building 85_AB_43_0 in None\n",
      "No data about TEK available for Verkehrsgebäude\n",
      "No data about annual dhw consumption available for building type: IWU Transport. DHW demand is set to zero.\n",
      "Calculate demands of building 86_IWU Transport_[3]_0\n",
      "Save heating profile of building 86_IWU Transport_[3]_0 in None\n",
      "Calculate demands of building 87_AB_22_0\n",
      "Save heating profile of building 87_AB_22_0 in None\n",
      "Calculate demands of building 88_AB_33_0\n",
      "Save heating profile of building 88_AB_33_0 in None\n",
      "Calculate demands of building 89_AB_79_0\n",
      "Save heating profile of building 89_AB_79_0 in None\n",
      "Calculate demands of building 90_AB_47_0\n",
      "Save heating profile of building 90_AB_47_0 in None\n",
      "Calculate demands of building 91_AB_52_0\n",
      "Save heating profile of building 91_AB_52_0 in None\n",
      "Calculate demands of building 92_AB_60_0\n",
      "Save heating profile of building 92_AB_60_0 in None\n",
      "Calculate demands of building 93_AB_50_0\n",
      "Save heating profile of building 93_AB_50_0 in None\n",
      "Calculate demands of building 94_AB_74_0\n",
      "Save heating profile of building 94_AB_74_0 in None\n",
      "Calculate demands of building 95_AB_36_0\n",
      "Save heating profile of building 95_AB_36_0 in None\n",
      "Calculate demands of building 96_AB_51_0\n",
      "Save heating profile of building 96_AB_51_0 in None\n",
      "Calculate demands of building 97_AB_65_0\n",
      "Save heating profile of building 97_AB_65_0 in None\n",
      "Calculate demands of building 98_AB_65_0\n",
      "Save heating profile of building 98_AB_65_0 in None\n",
      "Calculate demands of building 99_AB_11_0\n",
      "Save heating profile of building 99_AB_11_0 in None\n",
      "Calculate demands of building 100_AB_29_0\n",
      "Save heating profile of building 100_AB_29_0 in None\n",
      "Calculate demands of building 101_IWU School, Day Nursery and other Care_[3382]_0\n",
      "Save heating profile of building 101_IWU School, Day Nursery and other Care_[3382]_0 in None\n",
      "Calculate demands of building 102_AB_54_0\n",
      "Save heating profile of building 102_AB_54_0 in None\n",
      "Calculate demands of building 103_AB_38_0\n",
      "Save heating profile of building 103_AB_38_0 in None\n",
      "Calculate demands of building 104_AB_12_0\n",
      "Save heating profile of building 104_AB_12_0 in None\n",
      "Calculate demands of building 105_AB_22_0\n",
      "Save heating profile of building 105_AB_22_0 in None\n",
      "Calculate demands of building 106_AB_14_0\n",
      "Save heating profile of building 106_AB_14_0 in None\n",
      "No data about TEK available for Verkehrsgebäude\n",
      "No data about annual dhw consumption available for building type: IWU Transport. DHW demand is set to zero.\n",
      "Calculate demands of building 107_IWU Transport_[3]_0\n",
      "Save heating profile of building 107_IWU Transport_[3]_0 in None\n",
      "Calculate demands of building 108_AB_41_0\n",
      "Save heating profile of building 108_AB_41_0 in None\n",
      "Calculate demands of building 109_AB_58_0\n",
      "Save heating profile of building 109_AB_58_0 in None\n",
      "Calculate demands of building 110_AB_27_0\n",
      "Save heating profile of building 110_AB_27_0 in None\n",
      "Calculate demands of building 111_AB_60_0\n",
      "Save heating profile of building 111_AB_60_0 in None\n",
      "Calculate demands of building 112_AB_67_0\n",
      "Save heating profile of building 112_AB_67_0 in None\n",
      "Calculate demands of building 113_AB_29_0\n",
      "Save heating profile of building 113_AB_29_0 in None\n",
      "Calculate demands of building 114_AB_39_0\n",
      "Save heating profile of building 114_AB_39_0 in None\n",
      "Internal gains are negative. Setting to zero.\n",
      "Occupancy gains: 137156.6121766193\n",
      "Lighting gains: 2949.7650000000003\n",
      "Appliance gains: -209039.72704991937\n",
      "Total gains: -68933.34987330016\n",
      "Calculate demands of building 115_IWU Trade Buildings_[30]_0\n",
      "Save heating profile of building 115_IWU Trade Buildings_[30]_0 in None\n",
      "Calculate demands of building 116_AB_46_0\n",
      "Save heating profile of building 116_AB_46_0 in None\n",
      "Calculate demands of building 117_AB_38_0\n",
      "Save heating profile of building 117_AB_38_0 in None\n",
      "Calculate demands of building 118_AB_18_0\n",
      "Save heating profile of building 118_AB_18_0 in None\n",
      "Calculate demands of building 119_AB_29_0\n",
      "Save heating profile of building 119_AB_29_0 in None\n",
      "Calculate demands of building 120_AB_15_0\n",
      "Save heating profile of building 120_AB_15_0 in None\n",
      "Calculate demands of building 121_AB_14_0\n",
      "Save heating profile of building 121_AB_14_0 in None\n",
      "Calculate demands of building 122_AB_53_0\n",
      "Save heating profile of building 122_AB_53_0 in None\n",
      "Calculate demands of building 123_IWU School, Day Nursery and other Care_[14654]_0\n",
      "Save heating profile of building 123_IWU School, Day Nursery and other Care_[14654]_0 in None\n",
      "Calculate demands of building 124_AB_12_0\n",
      "Save heating profile of building 124_AB_12_0 in None\n",
      "Calculate demands of building 125_AB_43_0\n",
      "Save heating profile of building 125_AB_43_0 in None\n",
      "Calculate demands of building 126_AB_70_0\n",
      "Save heating profile of building 126_AB_70_0 in None\n",
      "Calculate demands of building 127_IWU Research and University Teaching_[9518]_0\n",
      "Save heating profile of building 127_IWU Research and University Teaching_[9518]_0 in None\n",
      "Calculate demands of building 128_AB_41_0\n",
      "Save heating profile of building 128_AB_41_0 in None\n",
      "Calculate demands of building 129_AB_53_0\n",
      "Save heating profile of building 129_AB_53_0 in None\n",
      "Calculate demands of building 130_AB_63_0\n",
      "Save heating profile of building 130_AB_63_0 in None\n",
      "Calculate demands of building 131_AB_10_0\n",
      "Save heating profile of building 131_AB_10_0 in None\n",
      "Calculate demands of building 132_AB_20_0\n",
      "Save heating profile of building 132_AB_20_0 in None\n",
      "Calculate demands of building 133_AB_48_0\n",
      "Save heating profile of building 133_AB_48_0 in None\n",
      "Calculate demands of building 134_AB_48_0\n",
      "Save heating profile of building 134_AB_48_0 in None\n",
      "Calculate demands of building 135_AB_42_0\n",
      "Save heating profile of building 135_AB_42_0 in None\n",
      "Calculate demands of building 136_AB_20_0\n",
      "Save heating profile of building 136_AB_20_0 in None\n",
      "Calculate demands of building 137_AB_46_0\n",
      "Save heating profile of building 137_AB_46_0 in None\n",
      "Calculate demands of building 138_AB_19_0\n",
      "Save heating profile of building 138_AB_19_0 in None\n",
      "Calculate demands of building 139_AB_83_0\n",
      "Save heating profile of building 139_AB_83_0 in None\n",
      "Calculate demands of building 140_AB_20_0\n",
      "Save heating profile of building 140_AB_20_0 in None\n",
      "Calculate demands of building 141_AB_77_0\n",
      "Save heating profile of building 141_AB_77_0 in None\n",
      "Calculate demands of building 142_AB_51_0\n",
      "Save heating profile of building 142_AB_51_0 in None\n",
      "Calculate demands of building 143_AB_11_0\n",
      "Save heating profile of building 143_AB_11_0 in None\n",
      "Calculate demands of building 144_AB_10_0\n",
      "Save heating profile of building 144_AB_10_0 in None\n",
      "Calculate demands of building 145_AB_18_0\n",
      "Save heating profile of building 145_AB_18_0 in None\n",
      "Calculate demands of building 146_AB_47_0\n",
      "Save heating profile of building 146_AB_47_0 in None\n",
      "Calculate demands of building 147_IWU Culture and Leisure_[1514]_0\n",
      "Save heating profile of building 147_IWU Culture and Leisure_[1514]_0 in None\n",
      "Calculate demands of building 148_AB_65_0\n",
      "Save heating profile of building 148_AB_65_0 in None\n",
      "Calculate demands of building 149_AB_34_0\n",
      "Save heating profile of building 149_AB_34_0 in None\n",
      "Calculate demands of building 150_AB_29_0\n",
      "Save heating profile of building 150_AB_29_0 in None\n",
      "Calculate demands of building 151_IWU Research and University Teaching_[26]_0\n",
      "Save heating profile of building 151_IWU Research and University Teaching_[26]_0 in None\n",
      "Calculate demands of building 152_AB_14_0\n",
      "Save heating profile of building 152_AB_14_0 in None\n",
      "Calculate demands of building 153_AB_54_0\n",
      "Save heating profile of building 153_AB_54_0 in None\n",
      "Calculate demands of building 154_AB_47_0\n",
      "Save heating profile of building 154_AB_47_0 in None\n",
      "Calculate demands of building 155_AB_49_0\n",
      "Save heating profile of building 155_AB_49_0 in None\n",
      "Calculate demands of building 156_IWU Office, Administrative or Government Buildings_[2048]_0\n",
      "Save heating profile of building 156_IWU Office, Administrative or Government Buildings_[2048]_0 in None\n",
      "Calculate demands of building 157_AB_60_0\n",
      "Save heating profile of building 157_AB_60_0 in None\n",
      "Calculate demands of building 158_AB_76_0\n",
      "Save heating profile of building 158_AB_76_0 in None\n",
      "Calculate demands of building 159_AB_109_0\n",
      "Save heating profile of building 159_AB_109_0 in None\n",
      "Calculate demands of building 160_AB_36_0\n",
      "Save heating profile of building 160_AB_36_0 in None\n",
      "Calculate demands of building 161_AB_415_0\n",
      "Save heating profile of building 161_AB_415_0 in None\n",
      "Calculate demands of building 162_AB_38_0\n",
      "Save heating profile of building 162_AB_38_0 in None\n",
      "Calculate demands of building 163_AB_53_0\n",
      "Save heating profile of building 163_AB_53_0 in None\n",
      "Calculate demands of building 164_IWU School, Day Nursery and other Care_[2025]_0\n",
      "Save heating profile of building 164_IWU School, Day Nursery and other Care_[2025]_0 in None\n",
      "Calculate demands of building 165_AB_24_0\n",
      "Save heating profile of building 165_AB_24_0 in None\n",
      "Calculate demands of building 166_IWU School, Day Nursery and other Care_[40]_0\n",
      "Save heating profile of building 166_IWU School, Day Nursery and other Care_[40]_0 in None\n",
      "Calculate demands of building 167_AB_19_0\n",
      "Save heating profile of building 167_AB_19_0 in None\n",
      "No data about TEK available for Verkehrsgebäude\n",
      "No data about annual dhw consumption available for building type: IWU Transport. DHW demand is set to zero.\n",
      "Calculate demands of building 168_IWU Transport_[15]_0\n",
      "Save heating profile of building 168_IWU Transport_[15]_0 in None\n",
      "Calculate demands of building 169_AB_53_0\n",
      "Save heating profile of building 169_AB_53_0 in None\n",
      "Calculate demands of building 170_AB_56_0\n",
      "Save heating profile of building 170_AB_56_0 in None\n",
      "Calculate demands of building 171_AB_68_0\n",
      "Save heating profile of building 171_AB_68_0 in None\n",
      "Calculate demands of building 172_AB_65_0\n",
      "Save heating profile of building 172_AB_65_0 in None\n",
      "No data about TEK available for Verkehrsgebäude\n",
      "No data about annual dhw consumption available for building type: IWU Transport. DHW demand is set to zero.\n",
      "Calculate demands of building 173_IWU Transport_[58]_0\n",
      "Save heating profile of building 173_IWU Transport_[58]_0 in None\n",
      "Calculate demands of building 174_AB_35_0\n",
      "Save heating profile of building 174_AB_35_0 in None\n",
      "Calculate demands of building 175_AB_59_0\n",
      "Save heating profile of building 175_AB_59_0 in None\n",
      "Calculate demands of building 176_AB_48_0\n",
      "Save heating profile of building 176_AB_48_0 in None\n",
      "Calculate demands of building 177_AB_127_0\n",
      "Save heating profile of building 177_AB_127_0 in None\n",
      "Calculate demands of building 178_AB_63_0\n",
      "Save heating profile of building 178_AB_63_0 in None\n",
      "Calculate demands of building 179_AB_207_0\n",
      "Save heating profile of building 179_AB_207_0 in None\n",
      "Calculate demands of building 180_AB_59_0\n",
      "Save heating profile of building 180_AB_59_0 in None\n",
      "Calculate demands of building 181_IWU School, Day Nursery and other Care_[109]_0\n",
      "Save heating profile of building 181_IWU School, Day Nursery and other Care_[109]_0 in None\n",
      "Calculate demands of building 182_AB_39_0\n",
      "Save heating profile of building 182_AB_39_0 in None\n",
      "Calculate demands of building 183_AB_80_0\n",
      "Save heating profile of building 183_AB_80_0 in None\n",
      "No data about TEK available for Verkehrsgebäude\n",
      "No data about annual dhw consumption available for building type: IWU Transport. DHW demand is set to zero.\n",
      "Calculate demands of building 184_IWU Transport_[12]_0\n",
      "Save heating profile of building 184_IWU Transport_[12]_0 in None\n",
      "Calculate demands of building 185_AB_58_0\n",
      "Save heating profile of building 185_AB_58_0 in None\n",
      "Calculate demands of building 186_AB_18_0\n",
      "Save heating profile of building 186_AB_18_0 in None\n",
      "No data about TEK available for Verkehrsgebäude\n",
      "No data about annual dhw consumption available for building type: IWU Transport. DHW demand is set to zero.\n",
      "Calculate demands of building 187_IWU Transport_[49]_0\n",
      "Save heating profile of building 187_IWU Transport_[49]_0 in None\n",
      "Calculate demands of building 188_IWU School, Day Nursery and other Care_[1029]_0\n",
      "Save heating profile of building 188_IWU School, Day Nursery and other Care_[1029]_0 in None\n",
      "Calculate demands of building 189_AB_163_0\n",
      "Save heating profile of building 189_AB_163_0 in None\n",
      "Calculate demands of building 190_IWU Office, Administrative or Government Buildings_[485]_0\n",
      "Save heating profile of building 190_IWU Office, Administrative or Government Buildings_[485]_0 in None\n",
      "Calculate demands of building 191_AB_65_0\n",
      "Save heating profile of building 191_AB_65_0 in None\n",
      "Calculate demands of building 192_AB_284_0\n",
      "Save heating profile of building 192_AB_284_0 in None\n",
      "Calculate demands of building 193_AB_54_0\n",
      "Save heating profile of building 193_AB_54_0 in None\n",
      "Calculate demands of building 194_AB_65_0\n",
      "Save heating profile of building 194_AB_65_0 in None\n",
      "Calculate demands of building 195_AB_31_0\n",
      "Save heating profile of building 195_AB_31_0 in None\n",
      "Calculate demands of building 196_AB_45_0\n",
      "Save heating profile of building 196_AB_45_0 in None\n",
      "Calculate demands of building 197_AB_24_0\n",
      "Save heating profile of building 197_AB_24_0 in None\n",
      "Calculate demands of building 198_IWU Technical and Utility (supply and disposal)_[1]_0\n",
      "Save heating profile of building 198_IWU Technical and Utility (supply and disposal)_[1]_0 in None\n",
      "Calculate demands of building 199_AB_23_0\n",
      "Save heating profile of building 199_AB_23_0 in None\n",
      "Calculate demands of building 200_AB_29_0\n",
      "Save heating profile of building 200_AB_29_0 in None\n",
      "Calculate demands of building 201_AB_97_0\n",
      "Save heating profile of building 201_AB_97_0 in None\n",
      "Calculate demands of building 202_AB_83_0\n",
      "Save heating profile of building 202_AB_83_0 in None\n",
      "Calculate demands of building 203_AB_55_0\n",
      "Save heating profile of building 203_AB_55_0 in None\n",
      "Calculate demands of building 204_IWU School, Day Nursery and other Care_[19855]_0\n",
      "Save heating profile of building 204_IWU School, Day Nursery and other Care_[19855]_0 in None\n",
      "Calculate demands of building 205_AB_194_0\n",
      "Save heating profile of building 205_AB_194_0 in None\n",
      "Calculate demands of building 206_AB_530_0\n",
      "Save heating profile of building 206_AB_530_0 in None\n",
      "Calculate demands of building 207_MFH_4_0\n",
      "Save heating profile of building 207_MFH_4_0 in None\n",
      "Calculate demands of building 208_MFH_74_0\n",
      "Save heating profile of building 208_MFH_74_0 in None\n",
      "Calculate demands of building 209_MFH_12_0\n",
      "Save heating profile of building 209_MFH_12_0 in None\n",
      "No data about TEK available for Verkehrsgebäude\n",
      "No data about annual dhw consumption available for building type: IWU Transport. DHW demand is set to zero.\n",
      "Calculate demands of building 210_IWU Transport_[3]_0\n",
      "Save heating profile of building 210_IWU Transport_[3]_0 in None\n",
      "Calculate demands of building 211_TH_1_0\n",
      "Save heating profile of building 211_TH_1_0 in None\n",
      "Calculate demands of building 212_AB_29_0\n",
      "Save heating profile of building 212_AB_29_0 in None\n",
      "Calculate demands of building 213_MFH_7_0\n",
      "Save heating profile of building 213_MFH_7_0 in None\n",
      "No data about TEK available for Verkehrsgebäude\n",
      "No data about annual dhw consumption available for building type: IWU Transport. DHW demand is set to zero.\n",
      "Calculate demands of building 214_IWU Transport_[2]_0\n",
      "Save heating profile of building 214_IWU Transport_[2]_0 in None\n",
      "Calculate demands of building 215_MFH_39_0\n",
      "Save heating profile of building 215_MFH_39_0 in None\n",
      "Calculate demands of building 216_MFH_260_0\n",
      "Save heating profile of building 216_MFH_260_0 in None\n",
      "Calculate demands of building 217_IWU Office, Administrative or Government Buildings_[757]_0\n",
      "Save heating profile of building 217_IWU Office, Administrative or Government Buildings_[757]_0 in None\n",
      "Calculate demands of building 218_IWU Production, Workshop, Warehouse or Operations_[112]_0\n",
      "Save heating profile of building 218_IWU Production, Workshop, Warehouse or Operations_[112]_0 in None\n",
      "Calculate demands of building 219_MFH_49_0\n",
      "Save heating profile of building 219_MFH_49_0 in None\n",
      "Calculate demands of building 220_AB_24_0\n",
      "Save heating profile of building 220_AB_24_0 in None\n",
      "Calculate demands of building 221_AB_48_0\n",
      "Save heating profile of building 221_AB_48_0 in None\n",
      "Calculate demands of building 222_MFH_4_0\n",
      "Save heating profile of building 222_MFH_4_0 in None\n",
      "Calculate demands of building 223_MFH_26_0\n",
      "Save heating profile of building 223_MFH_26_0 in None\n",
      "Calculate demands of building 224_MFH_73_0\n",
      "Save heating profile of building 224_MFH_73_0 in None\n",
      "Calculate demands of building 225_AB_43_0\n",
      "Save heating profile of building 225_AB_43_0 in None\n",
      "Calculate demands of building 226_AB_165_0\n",
      "Save heating profile of building 226_AB_165_0 in None\n",
      "Calculate demands of building 227_MFH_4_0\n",
      "Save heating profile of building 227_MFH_4_0 in None\n",
      "Calculate demands of building 228_IWU Production, Workshop, Warehouse or Operations_[36]_0\n",
      "Save heating profile of building 228_IWU Production, Workshop, Warehouse or Operations_[36]_0 in None\n",
      "Calculate demands of building 229_MFH_579_0\n",
      "Save heating profile of building 229_MFH_579_0 in None\n",
      "Calculate demands of building 230_AB_46_0\n",
      "Save heating profile of building 230_AB_46_0 in None\n",
      "Calculate demands of building 231_IWU Production, Workshop, Warehouse or Operations_[607]_0\n",
      "Save heating profile of building 231_IWU Production, Workshop, Warehouse or Operations_[607]_0 in None\n",
      "Calculate demands of building 232_MFH_4_0\n",
      "Save heating profile of building 232_MFH_4_0 in None\n",
      "Calculate demands of building 233_MFH_4_0\n",
      "Save heating profile of building 233_MFH_4_0 in None\n",
      "Calculate demands of building 234_MFH_22_0\n",
      "Save heating profile of building 234_MFH_22_0 in None\n",
      "Calculate demands of building 235_MFH_8_0\n",
      "Save heating profile of building 235_MFH_8_0 in None\n",
      "Calculate demands of building 236_MFH_4_0\n",
      "Save heating profile of building 236_MFH_4_0 in None\n",
      "Calculate demands of building 237_MFH_19_0\n",
      "Save heating profile of building 237_MFH_19_0 in None\n",
      "Calculate demands of building 238_MFH_106_0\n",
      "Save heating profile of building 238_MFH_106_0 in None\n",
      "No data about TEK available for Verkehrsgebäude\n",
      "No data about annual dhw consumption available for building type: IWU Transport. DHW demand is set to zero.\n",
      "Calculate demands of building 239_IWU Transport_[35]_0\n",
      "Save heating profile of building 239_IWU Transport_[35]_0 in None\n",
      "Calculate demands of building 240_MFH_4_0\n",
      "Save heating profile of building 240_MFH_4_0 in None\n",
      "Calculate demands of building 241_AB_19_0\n",
      "Save heating profile of building 241_AB_19_0 in None\n",
      "Calculate demands of building 242_AB_67_0\n",
      "Save heating profile of building 242_AB_67_0 in None\n",
      "Calculate demands of building 243_MFH_25_0\n",
      "Save heating profile of building 243_MFH_25_0 in None\n",
      "No data about TEK available for Verkehrsgebäude\n",
      "No data about annual dhw consumption available for building type: IWU Transport. DHW demand is set to zero.\n",
      "Calculate demands of building 244_IWU Transport_[9]_0\n",
      "Save heating profile of building 244_IWU Transport_[9]_0 in None\n",
      "Calculate demands of building 245_AB_88_0\n",
      "Save heating profile of building 245_AB_88_0 in None\n",
      "Calculate demands of building 246_AB_17_0\n",
      "Save heating profile of building 246_AB_17_0 in None\n",
      "Calculate demands of building 247_AB_67_0\n",
      "Save heating profile of building 247_AB_67_0 in None\n",
      "Calculate demands of building 248_MFH_63_0\n",
      "Save heating profile of building 248_MFH_63_0 in None\n",
      "Calculate demands of building 249_AB_14_0\n",
      "Save heating profile of building 249_AB_14_0 in None\n",
      "Calculate demands of building 250_AB_93_0\n",
      "Save heating profile of building 250_AB_93_0 in None\n",
      "Calculate demands of building 251_MFH_74_0\n",
      "Save heating profile of building 251_MFH_74_0 in None\n",
      "Calculate demands of building 252_AB_74_0\n",
      "Save heating profile of building 252_AB_74_0 in None\n",
      "Calculate demands of building 253_AB_18_0\n",
      "Save heating profile of building 253_AB_18_0 in None\n",
      "Calculate demands of building 254_MFH_53_0\n",
      "Save heating profile of building 254_MFH_53_0 in None\n",
      "Calculate demands of building 255_IWU Production, Workshop, Warehouse or Operations_[90]_0\n",
      "Save heating profile of building 255_IWU Production, Workshop, Warehouse or Operations_[90]_0 in None\n",
      "Calculate demands of building 256_MFH_82_0\n",
      "Save heating profile of building 256_MFH_82_0 in None\n",
      "Calculate demands of building 257_IWU Technical and Utility (supply and disposal)_[6]_0\n",
      "Save heating profile of building 257_IWU Technical and Utility (supply and disposal)_[6]_0 in None\n",
      "Calculate demands of building 258_MFH_17_0\n",
      "Save heating profile of building 258_MFH_17_0 in None\n",
      "Calculate demands of building 259_MFH_8_0\n",
      "Save heating profile of building 259_MFH_8_0 in None\n",
      "Calculate demands of building 260_MFH_10_0\n",
      "Save heating profile of building 260_MFH_10_0 in None\n",
      "Calculate demands of building 261_IWU Production, Workshop, Warehouse or Operations_[23]_0\n",
      "Save heating profile of building 261_IWU Production, Workshop, Warehouse or Operations_[23]_0 in None\n",
      "Calculate demands of building 262_IWU Production, Workshop, Warehouse or Operations_[73]_0\n",
      "Save heating profile of building 262_IWU Production, Workshop, Warehouse or Operations_[73]_0 in None\n",
      "Calculate demands of building 263_MFH_83_0\n",
      "Save heating profile of building 263_MFH_83_0 in None\n",
      "Calculate demands of building 264_MFH_109_0\n",
      "Save heating profile of building 264_MFH_109_0 in None\n",
      "Calculate demands of building 265_AB_24_0\n",
      "Save heating profile of building 265_AB_24_0 in None\n",
      "No data about TEK available for Verkehrsgebäude\n",
      "No data about annual dhw consumption available for building type: IWU Transport. DHW demand is set to zero.\n",
      "Calculate demands of building 266_IWU Transport_[94]_0\n",
      "Save heating profile of building 266_IWU Transport_[94]_0 in None\n",
      "Calculate demands of building 267_IWU Production, Workshop, Warehouse or Operations_[72]_0\n",
      "Save heating profile of building 267_IWU Production, Workshop, Warehouse or Operations_[72]_0 in None\n",
      "Calculate demands of building 268_MFH_4_0\n",
      "Save heating profile of building 268_MFH_4_0 in None\n",
      "Calculate demands of building 269_MFH_4_0\n",
      "Save heating profile of building 269_MFH_4_0 in None\n",
      "Calculate demands of building 270_MFH_19_0\n",
      "Save heating profile of building 270_MFH_19_0 in None\n",
      "Calculate demands of building 271_MFH_5_0\n",
      "Save heating profile of building 271_MFH_5_0 in None\n",
      "Calculate demands of building 272_IWU Production, Workshop, Warehouse or Operations_[119]_0\n",
      "Save heating profile of building 272_IWU Production, Workshop, Warehouse or Operations_[119]_0 in None\n",
      "Calculate demands of building 273_MFH_20_0\n",
      "Save heating profile of building 273_MFH_20_0 in None\n",
      "Calculate demands of building 274_MFH_79_0\n",
      "Save heating profile of building 274_MFH_79_0 in None\n",
      "Calculate demands of building 275_AB_77_0\n",
      "Save heating profile of building 275_AB_77_0 in None\n",
      "Calculate demands of building 276_AB_12_0\n",
      "Save heating profile of building 276_AB_12_0 in None\n",
      "Calculate demands of building 277_MFH_68_0\n",
      "Save heating profile of building 277_MFH_68_0 in None\n",
      "Calculate demands of building 278_MFH_13_0\n",
      "Save heating profile of building 278_MFH_13_0 in None\n",
      "Calculate demands of building 279_MFH_4_0\n",
      "Save heating profile of building 279_MFH_4_0 in None\n",
      "Calculate demands of building 280_IWU Production, Workshop, Warehouse or Operations_[53]_0\n",
      "Save heating profile of building 280_IWU Production, Workshop, Warehouse or Operations_[53]_0 in None\n",
      "Calculate demands of building 281_AB_59_0\n",
      "Save heating profile of building 281_AB_59_0 in None\n",
      "Calculate demands of building 282_MFH_115_0\n",
      "Save heating profile of building 282_MFH_115_0 in None\n",
      "Calculate demands of building 283_MFH_63_0\n",
      "Save heating profile of building 283_MFH_63_0 in None\n",
      "Calculate demands of building 284_AB_25_0\n",
      "Save heating profile of building 284_AB_25_0 in None\n",
      "Calculate demands of building 285_IWU Production, Workshop, Warehouse or Operations_[75]_0\n",
      "Save heating profile of building 285_IWU Production, Workshop, Warehouse or Operations_[75]_0 in None\n",
      "Internal gains are negative. Setting to zero.\n",
      "Occupancy gains: 137156.6121766193\n",
      "Lighting gains: 2949.7650000000003\n",
      "Appliance gains: -209039.72704991937\n",
      "Total gains: -68933.34987330016\n",
      "Calculate demands of building 286_IWU Trade Buildings_[525]_0\n",
      "Save heating profile of building 286_IWU Trade Buildings_[525]_0 in None\n",
      "Calculate demands of building 287_AB_40_0\n",
      "Save heating profile of building 287_AB_40_0 in None\n",
      "Calculate demands of building 288_MFH_4_0\n",
      "Save heating profile of building 288_MFH_4_0 in None\n",
      "Calculate demands of building 289_MFH_74_0\n",
      "Save heating profile of building 289_MFH_74_0 in None\n",
      "Calculate demands of building 290_MFH_32_0\n",
      "Save heating profile of building 290_MFH_32_0 in None\n",
      "Calculate demands of building 291_MFH_8_0\n",
      "Save heating profile of building 291_MFH_8_0 in None\n",
      "Calculate demands of building 292_AB_21_0\n",
      "Save heating profile of building 292_AB_21_0 in None\n",
      "Calculate demands of building 293_AB_46_0\n",
      "Save heating profile of building 293_AB_46_0 in None\n",
      "Calculate demands of building 294_AB_57_0\n",
      "Save heating profile of building 294_AB_57_0 in None\n",
      "Internal gains are negative. Setting to zero.\n",
      "Occupancy gains: 137156.6121766193\n",
      "Lighting gains: 2949.7650000000003\n",
      "Appliance gains: -209039.72704991937\n",
      "Total gains: -68933.34987330016\n",
      "Calculate demands of building 295_IWU Trade Buildings_[2556]_0\n",
      "Save heating profile of building 295_IWU Trade Buildings_[2556]_0 in None\n",
      "Calculate demands of building 296_MFH_131_0\n",
      "Save heating profile of building 296_MFH_131_0 in None\n",
      "Calculate demands of building 297_AB_104_0\n",
      "Save heating profile of building 297_AB_104_0 in None\n",
      "Calculate demands of building 298_AB_32_0\n",
      "Save heating profile of building 298_AB_32_0 in None\n",
      "Calculate demands of building 299_MFH_85_0\n",
      "Save heating profile of building 299_MFH_85_0 in None\n",
      "Calculate demands of building 300_MFH_10_0\n",
      "Save heating profile of building 300_MFH_10_0 in None\n",
      "Calculate demands of building 301_MFH_45_0\n",
      "Save heating profile of building 301_MFH_45_0 in None\n",
      "Calculate demands of building 302_MFH_54_0\n",
      "Save heating profile of building 302_MFH_54_0 in None\n",
      "Calculate demands of building 303_MFH_20_0\n",
      "Save heating profile of building 303_MFH_20_0 in None\n",
      "Calculate demands of building 304_MFH_300_0\n",
      "Save heating profile of building 304_MFH_300_0 in None\n",
      "Calculate demands of building 305_IWU Production, Workshop, Warehouse or Operations_[29]_0\n",
      "Save heating profile of building 305_IWU Production, Workshop, Warehouse or Operations_[29]_0 in None\n",
      "Calculate demands of building 306_AB_46_0\n",
      "Save heating profile of building 306_AB_46_0 in None\n",
      "Calculate demands of building 307_MFH_19_0\n",
      "Save heating profile of building 307_MFH_19_0 in None\n",
      "Calculate demands of building 308_AB_227_0\n",
      "Save heating profile of building 308_AB_227_0 in None\n",
      "Calculate demands of building 309_MFH_101_0\n",
      "Save heating profile of building 309_MFH_101_0 in None\n",
      "Calculate demands of building 310_MFH_38_0\n",
      "Save heating profile of building 310_MFH_38_0 in None\n",
      "Calculate demands of building 311_MFH_125_0\n",
      "Save heating profile of building 311_MFH_125_0 in None\n",
      "Calculate demands of building 312_AB_293_0\n",
      "Save heating profile of building 312_AB_293_0 in None\n",
      "Calculate demands of building 313_MFH_16_0\n",
      "Save heating profile of building 313_MFH_16_0 in None\n",
      "Calculate demands of building 314_AB_33_0\n",
      "Save heating profile of building 314_AB_33_0 in None\n",
      "Calculate demands of building 315_AB_53_0\n",
      "Save heating profile of building 315_AB_53_0 in None\n",
      "Calculate demands of building 316_MFH_4_0\n",
      "Save heating profile of building 316_MFH_4_0 in None\n",
      "Calculate demands of building 317_AB_69_0\n",
      "Save heating profile of building 317_AB_69_0 in None\n",
      "Calculate demands of building 318_MFH_61_0\n",
      "Save heating profile of building 318_MFH_61_0 in None\n",
      "Calculate demands of building 319_MFH_174_0\n",
      "Save heating profile of building 319_MFH_174_0 in None\n",
      "Calculate demands of building 320_IWU Production, Workshop, Warehouse or Operations_[2]_0\n",
      "Save heating profile of building 320_IWU Production, Workshop, Warehouse or Operations_[2]_0 in None\n",
      "Calculate demands of building 321_MFH_83_0\n",
      "Save heating profile of building 321_MFH_83_0 in None\n",
      "Calculate demands of building 322_MFH_89_0\n",
      "Save heating profile of building 322_MFH_89_0 in None\n",
      "No data about TEK available for Verkehrsgebäude\n",
      "No data about annual dhw consumption available for building type: IWU Transport. DHW demand is set to zero.\n",
      "Calculate demands of building 323_IWU Transport_[12]_0\n",
      "Save heating profile of building 323_IWU Transport_[12]_0 in None\n",
      "Calculate demands of building 324_AB_84_0\n",
      "Save heating profile of building 324_AB_84_0 in None\n",
      "Calculate demands of building 325_MFH_154_0\n",
      "Save heating profile of building 325_MFH_154_0 in None\n",
      "Calculate demands of building 326_MFH_10_0\n",
      "Save heating profile of building 326_MFH_10_0 in None\n",
      "Calculate demands of building 327_IWU Production, Workshop, Warehouse or Operations_[85]_0\n",
      "Save heating profile of building 327_IWU Production, Workshop, Warehouse or Operations_[85]_0 in None\n",
      "Calculate demands of building 328_MFH_27_0\n",
      "Save heating profile of building 328_MFH_27_0 in None\n",
      "Calculate demands of building 329_AB_287_0\n",
      "Save heating profile of building 329_AB_287_0 in None\n",
      "Calculate demands of building 330_MFH_9_0\n",
      "Save heating profile of building 330_MFH_9_0 in None\n",
      "Calculate demands of building 331_AB_40_0\n",
      "Save heating profile of building 331_AB_40_0 in None\n",
      "Calculate demands of building 332_AB_54_0\n",
      "Save heating profile of building 332_AB_54_0 in None\n",
      "Calculate demands of building 333_MFH_4_0\n",
      "Save heating profile of building 333_MFH_4_0 in None\n",
      "Calculate demands of building 334_AB_17_0\n",
      "Save heating profile of building 334_AB_17_0 in None\n",
      "Calculate demands of building 335_AB_63_0\n",
      "Save heating profile of building 335_AB_63_0 in None\n",
      "Calculate demands of building 336_MFH_143_0\n",
      "Save heating profile of building 336_MFH_143_0 in None\n",
      "Calculate demands of building 337_IWU Production, Workshop, Warehouse or Operations_[266]_0\n",
      "Save heating profile of building 337_IWU Production, Workshop, Warehouse or Operations_[266]_0 in None\n",
      "Calculate demands of building 338_MFH_4_0\n",
      "Save heating profile of building 338_MFH_4_0 in None\n",
      "Calculate demands of building 339_IWU Production, Workshop, Warehouse or Operations_[36]_0\n",
      "Save heating profile of building 339_IWU Production, Workshop, Warehouse or Operations_[36]_0 in None\n",
      "Calculate demands of building 340_AB_52_0\n",
      "Save heating profile of building 340_AB_52_0 in None\n",
      "Calculate demands of building 341_AB_58_0\n",
      "Save heating profile of building 341_AB_58_0 in None\n",
      "Calculate demands of building 342_AB_18_0\n",
      "Save heating profile of building 342_AB_18_0 in None\n",
      "Calculate demands of building 343_AB_25_0\n",
      "Save heating profile of building 343_AB_25_0 in None\n",
      "Calculate demands of building 344_AB_57_0\n",
      "Save heating profile of building 344_AB_57_0 in None\n",
      "No data about TEK available for Verkehrsgebäude\n",
      "No data about annual dhw consumption available for building type: IWU Transport. DHW demand is set to zero.\n",
      "Calculate demands of building 345_IWU Transport_[13]_0\n",
      "Save heating profile of building 345_IWU Transport_[13]_0 in None\n",
      "Calculate demands of building 346_MFH_4_0\n",
      "Save heating profile of building 346_MFH_4_0 in None\n",
      "Calculate demands of building 347_AB_17_0\n",
      "Save heating profile of building 347_AB_17_0 in None\n",
      "Calculate demands of building 348_IWU Production, Workshop, Warehouse or Operations_[233]_0\n",
      "Save heating profile of building 348_IWU Production, Workshop, Warehouse or Operations_[233]_0 in None\n",
      "Calculate demands of building 349_TH_1_0\n",
      "Save heating profile of building 349_TH_1_0 in None\n",
      "Calculate demands of building 350_IWU Production, Workshop, Warehouse or Operations_[47]_0\n",
      "Save heating profile of building 350_IWU Production, Workshop, Warehouse or Operations_[47]_0 in None\n",
      "Calculate demands of building 351_IWU Production, Workshop, Warehouse or Operations_[17]_0\n",
      "Save heating profile of building 351_IWU Production, Workshop, Warehouse or Operations_[17]_0 in None\n",
      "Calculate demands of building 352_MFH_21_0\n",
      "Save heating profile of building 352_MFH_21_0 in None\n",
      "Calculate demands of building 353_MFH_68_0\n",
      "Save heating profile of building 353_MFH_68_0 in None\n",
      "Calculate demands of building 354_AB_16_0\n",
      "Save heating profile of building 354_AB_16_0 in None\n",
      "Calculate demands of building 355_MFH_80_0\n",
      "Save heating profile of building 355_MFH_80_0 in None\n",
      "Calculate demands of building 356_MFH_56_0\n",
      "Save heating profile of building 356_MFH_56_0 in None\n",
      "Calculate demands of building 357_AB_42_0\n",
      "Save heating profile of building 357_AB_42_0 in None\n",
      "Calculate demands of building 358_IWU Production, Workshop, Warehouse or Operations_[272]_0\n",
      "Save heating profile of building 358_IWU Production, Workshop, Warehouse or Operations_[272]_0 in None\n",
      "Calculate demands of building 359_MFH_18_0\n",
      "Save heating profile of building 359_MFH_18_0 in None\n",
      "Calculate demands of building 360_AB_91_0\n",
      "Save heating profile of building 360_AB_91_0 in None\n",
      "Calculate demands of building 361_MFH_103_0\n",
      "Save heating profile of building 361_MFH_103_0 in None\n",
      "Calculate demands of building 362_AB_60_0\n",
      "Save heating profile of building 362_AB_60_0 in None\n",
      "Calculate demands of building 363_AB_67_0\n",
      "Save heating profile of building 363_AB_67_0 in None\n",
      "Calculate demands of building 364_MFH_5_0\n",
      "Save heating profile of building 364_MFH_5_0 in None\n",
      "Calculate demands of building 365_MFH_18_0\n",
      "Save heating profile of building 365_MFH_18_0 in None\n",
      "Calculate demands of building 366_MFH_16_0\n",
      "Save heating profile of building 366_MFH_16_0 in None\n",
      "Calculate demands of building 367_MFH_4_0\n",
      "Save heating profile of building 367_MFH_4_0 in None\n",
      "Calculate demands of building 368_MFH_4_0\n",
      "Save heating profile of building 368_MFH_4_0 in None\n",
      "Calculate demands of building 369_MFH_1160_0\n",
      "Save heating profile of building 369_MFH_1160_0 in None\n",
      "Calculate demands of building 370_MFH_62_0\n",
      "Save heating profile of building 370_MFH_62_0 in None\n",
      "Calculate demands of building 371_MFH_5_0\n",
      "Save heating profile of building 371_MFH_5_0 in None\n",
      "Calculate demands of building 372_MFH_4_0\n",
      "Save heating profile of building 372_MFH_4_0 in None\n",
      "Calculate demands of building 373_MFH_27_0\n",
      "Save heating profile of building 373_MFH_27_0 in None\n",
      "Calculate demands of building 374_IWU Health and Care_[195]_0\n",
      "Save heating profile of building 374_IWU Health and Care_[195]_0 in None\n",
      "Calculate demands of building 375_MFH_4_0\n",
      "Save heating profile of building 375_MFH_4_0 in None\n",
      "Calculate demands of building 376_MFH_98_0\n",
      "Save heating profile of building 376_MFH_98_0 in None\n",
      "Calculate demands of building 377_MFH_4_0\n",
      "Save heating profile of building 377_MFH_4_0 in None\n",
      "Calculate demands of building 378_MFH_4_0\n",
      "Save heating profile of building 378_MFH_4_0 in None\n",
      "Calculate demands of building 379_MFH_4_0\n",
      "Save heating profile of building 379_MFH_4_0 in None\n",
      "Calculate demands of building 380_AB_109_0\n",
      "Save heating profile of building 380_AB_109_0 in None\n",
      "Calculate demands of building 381_IWU Health and Care_[274]_0\n",
      "Save heating profile of building 381_IWU Health and Care_[274]_0 in None\n",
      "Calculate demands of building 382_AB_31_0\n",
      "Save heating profile of building 382_AB_31_0 in None\n",
      "Calculate demands of building 383_MFH_53_0\n",
      "Save heating profile of building 383_MFH_53_0 in None\n",
      "Calculate demands of building 384_AB_65_0\n",
      "Save heating profile of building 384_AB_65_0 in None\n",
      "Calculate demands of building 385_MFH_28_0\n",
      "Save heating profile of building 385_MFH_28_0 in None\n",
      "Calculate demands of building 386_AB_83_0\n",
      "Save heating profile of building 386_AB_83_0 in None\n",
      "Calculate demands of building 387_AB_41_0\n",
      "Save heating profile of building 387_AB_41_0 in None\n",
      "Finished generating demands!\n"
     ]
    }
   ],
   "source": [
    "data_21 = Datahandler()\n",
    "data_21.setWeatherFile('data/weather/EPW/AMY_2010_2022_2021.epw')\n",
    "\n",
    "# Generate Environment for the District\n",
    "\n",
    "data_21.generateEnvironment()\n",
    "\n",
    "data_21.initializeBuildings('Mierendorff_Baseline_updated_cleaned_2021')\n",
    "data_21.generateBuildings()\n",
    "data_21.setResultPath()\n",
    "\n",
    "data_21.generateDemands()"
   ]
  },
  {
   "cell_type": "code",
   "execution_count": 9,
   "metadata": {},
   "outputs": [
    {
     "name": "stdout",
     "output_type": "stream",
     "text": [
      "Creating buildings for Mierendorff_Baseline_updated_cleaned_2022\n",
      "Creating building AB\n"
     ]
    },
    {
     "name": "stderr",
     "output_type": "stream",
     "text": [
      "c:\\Users\\felix\\Programmieren\\districtgenerator\\.venv\\Lib\\site-packages\\teaser\\logic\\buildingobjects\\useconditions.py:363: FutureWarning: 'H' is deprecated and will be removed in a future version, please use 'h' instead.\n",
      "  index=pd.date_range(\"2019-01-01 00:00:00\", periods=8760, freq=\"H\")\n"
     ]
    },
    {
     "name": "stdout",
     "output_type": "stream",
     "text": [
      "Creating building AB\n",
      "Creating building IWU Transport\n",
      "We are about to generate a Non Residential building.\n"
     ]
    },
    {
     "name": "stderr",
     "output_type": "stream",
     "text": [
      "c:\\Users\\felix\\Programmieren\\districtgenerator\\.venv\\Lib\\site-packages\\teaser\\logic\\buildingobjects\\useconditions.py:363: FutureWarning: 'H' is deprecated and will be removed in a future version, please use 'h' instead.\n",
      "  index=pd.date_range(\"2019-01-01 00:00:00\", periods=8760, freq=\"H\")\n"
     ]
    },
    {
     "name": "stdout",
     "output_type": "stream",
     "text": [
      "Available building types: ['IWU Office, Administrative or Government Buildings', 'IWU Research and University Teaching', 'IWU Health and Care', 'IWU School, Day Nursery and other Care', 'IWU Culture and Leisure', 'IWU Sports Facilities', 'IWU Hotels, Boarding, Restaurants or Catering', 'IWU Production, Workshop, Warehouse or Operations', 'IWU Trade Buildings', 'IWU Technical and Utility (supply and disposal)', 'IWU Transport', 'IWU Generalized (1) Services building', 'IWU Generalized (2) Production buildings']\n",
      "Current usage: IWU Transport\n",
      "Creating building AB\n",
      "Creating building AB\n"
     ]
    },
    {
     "name": "stderr",
     "output_type": "stream",
     "text": [
      "c:\\Users\\felix\\Programmieren\\districtgenerator\\.venv\\Lib\\site-packages\\teaser\\logic\\buildingobjects\\useconditions.py:363: FutureWarning: 'H' is deprecated and will be removed in a future version, please use 'h' instead.\n",
      "  index=pd.date_range(\"2019-01-01 00:00:00\", periods=8760, freq=\"H\")\n",
      "c:\\Users\\felix\\Programmieren\\districtgenerator\\.venv\\Lib\\site-packages\\teaser\\logic\\buildingobjects\\useconditions.py:363: FutureWarning: 'H' is deprecated and will be removed in a future version, please use 'h' instead.\n",
      "  index=pd.date_range(\"2019-01-01 00:00:00\", periods=8760, freq=\"H\")\n"
     ]
    },
    {
     "name": "stdout",
     "output_type": "stream",
     "text": [
      "Creating building AB\n",
      "Creating building AB\n"
     ]
    },
    {
     "name": "stderr",
     "output_type": "stream",
     "text": [
      "c:\\Users\\felix\\Programmieren\\districtgenerator\\.venv\\Lib\\site-packages\\teaser\\logic\\buildingobjects\\useconditions.py:363: FutureWarning: 'H' is deprecated and will be removed in a future version, please use 'h' instead.\n",
      "  index=pd.date_range(\"2019-01-01 00:00:00\", periods=8760, freq=\"H\")\n",
      "c:\\Users\\felix\\Programmieren\\districtgenerator\\.venv\\Lib\\site-packages\\teaser\\logic\\buildingobjects\\useconditions.py:363: FutureWarning: 'H' is deprecated and will be removed in a future version, please use 'h' instead.\n",
      "  index=pd.date_range(\"2019-01-01 00:00:00\", periods=8760, freq=\"H\")\n"
     ]
    },
    {
     "name": "stdout",
     "output_type": "stream",
     "text": [
      "Creating building IWU Transport\n",
      "We are about to generate a Non Residential building.\n",
      "Available building types: ['IWU Office, Administrative or Government Buildings', 'IWU Research and University Teaching', 'IWU Health and Care', 'IWU School, Day Nursery and other Care', 'IWU Culture and Leisure', 'IWU Sports Facilities', 'IWU Hotels, Boarding, Restaurants or Catering', 'IWU Production, Workshop, Warehouse or Operations', 'IWU Trade Buildings', 'IWU Technical and Utility (supply and disposal)', 'IWU Transport', 'IWU Generalized (1) Services building', 'IWU Generalized (2) Production buildings']\n",
      "Current usage: IWU Transport\n",
      "Creating building IWU Technical and Utility (supply and disposal)\n",
      "We are about to generate a Non Residential building.\n",
      "Available building types: ['IWU Office, Administrative or Government Buildings', 'IWU Research and University Teaching', 'IWU Health and Care', 'IWU School, Day Nursery and other Care', 'IWU Culture and Leisure', 'IWU Sports Facilities', 'IWU Hotels, Boarding, Restaurants or Catering', 'IWU Production, Workshop, Warehouse or Operations', 'IWU Trade Buildings', 'IWU Technical and Utility (supply and disposal)', 'IWU Transport', 'IWU Generalized (1) Services building', 'IWU Generalized (2) Production buildings']\n",
      "Current usage: IWU Technical and Utility (supply and disposal)\n",
      "Creating building AB\n",
      "Creating building AB\n"
     ]
    },
    {
     "name": "stderr",
     "output_type": "stream",
     "text": [
      "c:\\Users\\felix\\Programmieren\\districtgenerator\\.venv\\Lib\\site-packages\\teaser\\logic\\buildingobjects\\useconditions.py:363: FutureWarning: 'H' is deprecated and will be removed in a future version, please use 'h' instead.\n",
      "  index=pd.date_range(\"2019-01-01 00:00:00\", periods=8760, freq=\"H\")\n",
      "c:\\Users\\felix\\Programmieren\\districtgenerator\\.venv\\Lib\\site-packages\\teaser\\logic\\buildingobjects\\useconditions.py:363: FutureWarning: 'H' is deprecated and will be removed in a future version, please use 'h' instead.\n",
      "  index=pd.date_range(\"2019-01-01 00:00:00\", periods=8760, freq=\"H\")\n"
     ]
    },
    {
     "name": "stdout",
     "output_type": "stream",
     "text": [
      "Creating building AB\n",
      "Creating building IWU Trade Buildings\n",
      "We are about to generate a Non Residential building.\n",
      "Available building types: ['IWU Office, Administrative or Government Buildings', 'IWU Research and University Teaching', 'IWU Health and Care', 'IWU School, Day Nursery and other Care', 'IWU Culture and Leisure', 'IWU Sports Facilities', 'IWU Hotels, Boarding, Restaurants or Catering', 'IWU Production, Workshop, Warehouse or Operations', 'IWU Trade Buildings', 'IWU Technical and Utility (supply and disposal)', 'IWU Transport', 'IWU Generalized (1) Services building', 'IWU Generalized (2) Production buildings']\n",
      "Current usage: IWU Trade Buildings\n"
     ]
    },
    {
     "name": "stderr",
     "output_type": "stream",
     "text": [
      "c:\\Users\\felix\\Programmieren\\districtgenerator\\.venv\\Lib\\site-packages\\teaser\\logic\\buildingobjects\\useconditions.py:363: FutureWarning: 'H' is deprecated and will be removed in a future version, please use 'h' instead.\n",
      "  index=pd.date_range(\"2019-01-01 00:00:00\", periods=8760, freq=\"H\")\n"
     ]
    },
    {
     "name": "stdout",
     "output_type": "stream",
     "text": [
      "Creating building AB\n",
      "Creating building AB\n"
     ]
    },
    {
     "name": "stderr",
     "output_type": "stream",
     "text": [
      "c:\\Users\\felix\\Programmieren\\districtgenerator\\.venv\\Lib\\site-packages\\teaser\\logic\\buildingobjects\\useconditions.py:363: FutureWarning: 'H' is deprecated and will be removed in a future version, please use 'h' instead.\n",
      "  index=pd.date_range(\"2019-01-01 00:00:00\", periods=8760, freq=\"H\")\n",
      "c:\\Users\\felix\\Programmieren\\districtgenerator\\.venv\\Lib\\site-packages\\teaser\\logic\\buildingobjects\\useconditions.py:363: FutureWarning: 'H' is deprecated and will be removed in a future version, please use 'h' instead.\n",
      "  index=pd.date_range(\"2019-01-01 00:00:00\", periods=8760, freq=\"H\")\n"
     ]
    },
    {
     "name": "stdout",
     "output_type": "stream",
     "text": [
      "Creating building AB\n",
      "Creating building AB\n"
     ]
    },
    {
     "name": "stderr",
     "output_type": "stream",
     "text": [
      "c:\\Users\\felix\\Programmieren\\districtgenerator\\.venv\\Lib\\site-packages\\teaser\\logic\\buildingobjects\\useconditions.py:363: FutureWarning: 'H' is deprecated and will be removed in a future version, please use 'h' instead.\n",
      "  index=pd.date_range(\"2019-01-01 00:00:00\", periods=8760, freq=\"H\")\n",
      "c:\\Users\\felix\\Programmieren\\districtgenerator\\.venv\\Lib\\site-packages\\teaser\\logic\\buildingobjects\\useconditions.py:363: FutureWarning: 'H' is deprecated and will be removed in a future version, please use 'h' instead.\n",
      "  index=pd.date_range(\"2019-01-01 00:00:00\", periods=8760, freq=\"H\")\n"
     ]
    },
    {
     "name": "stdout",
     "output_type": "stream",
     "text": [
      "Creating building IWU Culture and Leisure\n",
      "We are about to generate a Non Residential building.\n",
      "Available building types: ['IWU Office, Administrative or Government Buildings', 'IWU Research and University Teaching', 'IWU Health and Care', 'IWU School, Day Nursery and other Care', 'IWU Culture and Leisure', 'IWU Sports Facilities', 'IWU Hotels, Boarding, Restaurants or Catering', 'IWU Production, Workshop, Warehouse or Operations', 'IWU Trade Buildings', 'IWU Technical and Utility (supply and disposal)', 'IWU Transport', 'IWU Generalized (1) Services building', 'IWU Generalized (2) Production buildings']\n",
      "Current usage: IWU Culture and Leisure\n",
      "Creating building AB\n"
     ]
    },
    {
     "name": "stderr",
     "output_type": "stream",
     "text": [
      "c:\\Users\\felix\\Programmieren\\districtgenerator\\.venv\\Lib\\site-packages\\teaser\\logic\\buildingobjects\\useconditions.py:363: FutureWarning: 'H' is deprecated and will be removed in a future version, please use 'h' instead.\n",
      "  index=pd.date_range(\"2019-01-01 00:00:00\", periods=8760, freq=\"H\")\n"
     ]
    },
    {
     "name": "stdout",
     "output_type": "stream",
     "text": [
      "Creating building AB\n",
      "Creating building AB\n"
     ]
    },
    {
     "name": "stderr",
     "output_type": "stream",
     "text": [
      "c:\\Users\\felix\\Programmieren\\districtgenerator\\.venv\\Lib\\site-packages\\teaser\\logic\\buildingobjects\\useconditions.py:363: FutureWarning: 'H' is deprecated and will be removed in a future version, please use 'h' instead.\n",
      "  index=pd.date_range(\"2019-01-01 00:00:00\", periods=8760, freq=\"H\")\n",
      "c:\\Users\\felix\\Programmieren\\districtgenerator\\.venv\\Lib\\site-packages\\teaser\\logic\\buildingobjects\\useconditions.py:363: FutureWarning: 'H' is deprecated and will be removed in a future version, please use 'h' instead.\n",
      "  index=pd.date_range(\"2019-01-01 00:00:00\", periods=8760, freq=\"H\")\n"
     ]
    },
    {
     "name": "stdout",
     "output_type": "stream",
     "text": [
      "Creating building AB\n",
      "Creating building AB\n"
     ]
    },
    {
     "name": "stderr",
     "output_type": "stream",
     "text": [
      "c:\\Users\\felix\\Programmieren\\districtgenerator\\.venv\\Lib\\site-packages\\teaser\\logic\\buildingobjects\\useconditions.py:363: FutureWarning: 'H' is deprecated and will be removed in a future version, please use 'h' instead.\n",
      "  index=pd.date_range(\"2019-01-01 00:00:00\", periods=8760, freq=\"H\")\n",
      "c:\\Users\\felix\\Programmieren\\districtgenerator\\.venv\\Lib\\site-packages\\teaser\\logic\\buildingobjects\\useconditions.py:363: FutureWarning: 'H' is deprecated and will be removed in a future version, please use 'h' instead.\n",
      "  index=pd.date_range(\"2019-01-01 00:00:00\", periods=8760, freq=\"H\")\n"
     ]
    },
    {
     "name": "stdout",
     "output_type": "stream",
     "text": [
      "Creating building AB\n",
      "Creating building AB\n"
     ]
    },
    {
     "name": "stderr",
     "output_type": "stream",
     "text": [
      "c:\\Users\\felix\\Programmieren\\districtgenerator\\.venv\\Lib\\site-packages\\teaser\\logic\\buildingobjects\\useconditions.py:363: FutureWarning: 'H' is deprecated and will be removed in a future version, please use 'h' instead.\n",
      "  index=pd.date_range(\"2019-01-01 00:00:00\", periods=8760, freq=\"H\")\n",
      "c:\\Users\\felix\\Programmieren\\districtgenerator\\.venv\\Lib\\site-packages\\teaser\\logic\\buildingobjects\\useconditions.py:363: FutureWarning: 'H' is deprecated and will be removed in a future version, please use 'h' instead.\n",
      "  index=pd.date_range(\"2019-01-01 00:00:00\", periods=8760, freq=\"H\")\n"
     ]
    },
    {
     "name": "stdout",
     "output_type": "stream",
     "text": [
      "Creating building AB\n",
      "Creating building AB\n"
     ]
    },
    {
     "name": "stderr",
     "output_type": "stream",
     "text": [
      "c:\\Users\\felix\\Programmieren\\districtgenerator\\.venv\\Lib\\site-packages\\teaser\\logic\\buildingobjects\\useconditions.py:363: FutureWarning: 'H' is deprecated and will be removed in a future version, please use 'h' instead.\n",
      "  index=pd.date_range(\"2019-01-01 00:00:00\", periods=8760, freq=\"H\")\n",
      "c:\\Users\\felix\\Programmieren\\districtgenerator\\.venv\\Lib\\site-packages\\teaser\\logic\\buildingobjects\\useconditions.py:363: FutureWarning: 'H' is deprecated and will be removed in a future version, please use 'h' instead.\n",
      "  index=pd.date_range(\"2019-01-01 00:00:00\", periods=8760, freq=\"H\")\n"
     ]
    },
    {
     "name": "stdout",
     "output_type": "stream",
     "text": [
      "Creating building AB\n",
      "Creating building AB\n"
     ]
    },
    {
     "name": "stderr",
     "output_type": "stream",
     "text": [
      "c:\\Users\\felix\\Programmieren\\districtgenerator\\.venv\\Lib\\site-packages\\teaser\\logic\\buildingobjects\\useconditions.py:363: FutureWarning: 'H' is deprecated and will be removed in a future version, please use 'h' instead.\n",
      "  index=pd.date_range(\"2019-01-01 00:00:00\", periods=8760, freq=\"H\")\n",
      "c:\\Users\\felix\\Programmieren\\districtgenerator\\.venv\\Lib\\site-packages\\teaser\\logic\\buildingobjects\\useconditions.py:363: FutureWarning: 'H' is deprecated and will be removed in a future version, please use 'h' instead.\n",
      "  index=pd.date_range(\"2019-01-01 00:00:00\", periods=8760, freq=\"H\")\n"
     ]
    },
    {
     "name": "stdout",
     "output_type": "stream",
     "text": [
      "Creating building AB\n",
      "Creating building AB\n"
     ]
    },
    {
     "name": "stderr",
     "output_type": "stream",
     "text": [
      "c:\\Users\\felix\\Programmieren\\districtgenerator\\.venv\\Lib\\site-packages\\teaser\\logic\\buildingobjects\\useconditions.py:363: FutureWarning: 'H' is deprecated and will be removed in a future version, please use 'h' instead.\n",
      "  index=pd.date_range(\"2019-01-01 00:00:00\", periods=8760, freq=\"H\")\n",
      "c:\\Users\\felix\\Programmieren\\districtgenerator\\.venv\\Lib\\site-packages\\teaser\\logic\\buildingobjects\\useconditions.py:363: FutureWarning: 'H' is deprecated and will be removed in a future version, please use 'h' instead.\n",
      "  index=pd.date_range(\"2019-01-01 00:00:00\", periods=8760, freq=\"H\")\n"
     ]
    },
    {
     "name": "stdout",
     "output_type": "stream",
     "text": [
      "Creating building AB\n"
     ]
    },
    {
     "name": "stderr",
     "output_type": "stream",
     "text": [
      "c:\\Users\\felix\\Programmieren\\districtgenerator\\.venv\\Lib\\site-packages\\teaser\\logic\\buildingobjects\\useconditions.py:363: FutureWarning: 'H' is deprecated and will be removed in a future version, please use 'h' instead.\n",
      "  index=pd.date_range(\"2019-01-01 00:00:00\", periods=8760, freq=\"H\")\n"
     ]
    },
    {
     "name": "stdout",
     "output_type": "stream",
     "text": [
      "Creating building AB\n",
      "Creating building IWU Sports Facilities\n",
      "We are about to generate a Non Residential building.\n",
      "Available building types: ['IWU Office, Administrative or Government Buildings', 'IWU Research and University Teaching', 'IWU Health and Care', 'IWU School, Day Nursery and other Care', 'IWU Culture and Leisure', 'IWU Sports Facilities', 'IWU Hotels, Boarding, Restaurants or Catering', 'IWU Production, Workshop, Warehouse or Operations', 'IWU Trade Buildings', 'IWU Technical and Utility (supply and disposal)', 'IWU Transport', 'IWU Generalized (1) Services building', 'IWU Generalized (2) Production buildings']\n",
      "Current usage: IWU Sports Facilities\n"
     ]
    },
    {
     "name": "stderr",
     "output_type": "stream",
     "text": [
      "c:\\Users\\felix\\Programmieren\\districtgenerator\\.venv\\Lib\\site-packages\\teaser\\logic\\buildingobjects\\useconditions.py:363: FutureWarning: 'H' is deprecated and will be removed in a future version, please use 'h' instead.\n",
      "  index=pd.date_range(\"2019-01-01 00:00:00\", periods=8760, freq=\"H\")\n"
     ]
    },
    {
     "name": "stdout",
     "output_type": "stream",
     "text": [
      "No data about lighntning control available for IWU Sports Facilities and data type Turnhalle\n",
      "Creating building SFH\n",
      "Creating building AB\n"
     ]
    },
    {
     "name": "stderr",
     "output_type": "stream",
     "text": [
      "c:\\Users\\felix\\Programmieren\\districtgenerator\\.venv\\Lib\\site-packages\\teaser\\logic\\buildingobjects\\useconditions.py:363: FutureWarning: 'H' is deprecated and will be removed in a future version, please use 'h' instead.\n",
      "  index=pd.date_range(\"2019-01-01 00:00:00\", periods=8760, freq=\"H\")\n",
      "c:\\Users\\felix\\Programmieren\\districtgenerator\\.venv\\Lib\\site-packages\\teaser\\logic\\buildingobjects\\useconditions.py:363: FutureWarning: 'H' is deprecated and will be removed in a future version, please use 'h' instead.\n",
      "  index=pd.date_range(\"2019-01-01 00:00:00\", periods=8760, freq=\"H\")\n"
     ]
    },
    {
     "name": "stdout",
     "output_type": "stream",
     "text": [
      "Creating building IWU Health and Care\n",
      "We are about to generate a Non Residential building.\n",
      "Available building types: ['IWU Office, Administrative or Government Buildings', 'IWU Research and University Teaching', 'IWU Health and Care', 'IWU School, Day Nursery and other Care', 'IWU Culture and Leisure', 'IWU Sports Facilities', 'IWU Hotels, Boarding, Restaurants or Catering', 'IWU Production, Workshop, Warehouse or Operations', 'IWU Trade Buildings', 'IWU Technical and Utility (supply and disposal)', 'IWU Transport', 'IWU Generalized (1) Services building', 'IWU Generalized (2) Production buildings']\n",
      "Current usage: IWU Health and Care\n",
      "Creating building AB\n"
     ]
    },
    {
     "name": "stderr",
     "output_type": "stream",
     "text": [
      "c:\\Users\\felix\\Programmieren\\districtgenerator\\.venv\\Lib\\site-packages\\teaser\\logic\\buildingobjects\\useconditions.py:363: FutureWarning: 'H' is deprecated and will be removed in a future version, please use 'h' instead.\n",
      "  index=pd.date_range(\"2019-01-01 00:00:00\", periods=8760, freq=\"H\")\n",
      "c:\\Users\\felix\\Programmieren\\districtgenerator\\.venv\\Lib\\site-packages\\teaser\\logic\\buildingobjects\\useconditions.py:363: FutureWarning: 'H' is deprecated and will be removed in a future version, please use 'h' instead.\n",
      "  index=pd.date_range(\"2019-01-01 00:00:00\", periods=8760, freq=\"H\")\n"
     ]
    },
    {
     "name": "stdout",
     "output_type": "stream",
     "text": [
      "Creating building AB\n",
      "Creating building AB\n"
     ]
    },
    {
     "name": "stderr",
     "output_type": "stream",
     "text": [
      "c:\\Users\\felix\\Programmieren\\districtgenerator\\.venv\\Lib\\site-packages\\teaser\\logic\\buildingobjects\\useconditions.py:363: FutureWarning: 'H' is deprecated and will be removed in a future version, please use 'h' instead.\n",
      "  index=pd.date_range(\"2019-01-01 00:00:00\", periods=8760, freq=\"H\")\n",
      "c:\\Users\\felix\\Programmieren\\districtgenerator\\.venv\\Lib\\site-packages\\teaser\\logic\\buildingobjects\\useconditions.py:363: FutureWarning: 'H' is deprecated and will be removed in a future version, please use 'h' instead.\n",
      "  index=pd.date_range(\"2019-01-01 00:00:00\", periods=8760, freq=\"H\")\n"
     ]
    },
    {
     "name": "stdout",
     "output_type": "stream",
     "text": [
      "Creating building AB\n",
      "Creating building AB\n",
      "Creating building AB\n"
     ]
    },
    {
     "name": "stderr",
     "output_type": "stream",
     "text": [
      "c:\\Users\\felix\\Programmieren\\districtgenerator\\.venv\\Lib\\site-packages\\teaser\\logic\\buildingobjects\\useconditions.py:363: FutureWarning: 'H' is deprecated and will be removed in a future version, please use 'h' instead.\n",
      "  index=pd.date_range(\"2019-01-01 00:00:00\", periods=8760, freq=\"H\")\n",
      "c:\\Users\\felix\\Programmieren\\districtgenerator\\.venv\\Lib\\site-packages\\teaser\\logic\\buildingobjects\\useconditions.py:363: FutureWarning: 'H' is deprecated and will be removed in a future version, please use 'h' instead.\n",
      "  index=pd.date_range(\"2019-01-01 00:00:00\", periods=8760, freq=\"H\")\n"
     ]
    },
    {
     "name": "stdout",
     "output_type": "stream",
     "text": [
      "Creating building AB\n",
      "Creating building AB\n"
     ]
    },
    {
     "name": "stderr",
     "output_type": "stream",
     "text": [
      "c:\\Users\\felix\\Programmieren\\districtgenerator\\.venv\\Lib\\site-packages\\teaser\\logic\\buildingobjects\\useconditions.py:363: FutureWarning: 'H' is deprecated and will be removed in a future version, please use 'h' instead.\n",
      "  index=pd.date_range(\"2019-01-01 00:00:00\", periods=8760, freq=\"H\")\n",
      "c:\\Users\\felix\\Programmieren\\districtgenerator\\.venv\\Lib\\site-packages\\teaser\\logic\\buildingobjects\\useconditions.py:363: FutureWarning: 'H' is deprecated and will be removed in a future version, please use 'h' instead.\n",
      "  index=pd.date_range(\"2019-01-01 00:00:00\", periods=8760, freq=\"H\")\n"
     ]
    },
    {
     "name": "stdout",
     "output_type": "stream",
     "text": [
      "Creating building AB\n",
      "Creating building AB\n"
     ]
    },
    {
     "name": "stderr",
     "output_type": "stream",
     "text": [
      "c:\\Users\\felix\\Programmieren\\districtgenerator\\.venv\\Lib\\site-packages\\teaser\\logic\\buildingobjects\\useconditions.py:363: FutureWarning: 'H' is deprecated and will be removed in a future version, please use 'h' instead.\n",
      "  index=pd.date_range(\"2019-01-01 00:00:00\", periods=8760, freq=\"H\")\n",
      "c:\\Users\\felix\\Programmieren\\districtgenerator\\.venv\\Lib\\site-packages\\teaser\\logic\\buildingobjects\\useconditions.py:363: FutureWarning: 'H' is deprecated and will be removed in a future version, please use 'h' instead.\n",
      "  index=pd.date_range(\"2019-01-01 00:00:00\", periods=8760, freq=\"H\")\n"
     ]
    },
    {
     "name": "stdout",
     "output_type": "stream",
     "text": [
      "Creating building AB\n",
      "Creating building AB\n"
     ]
    },
    {
     "name": "stderr",
     "output_type": "stream",
     "text": [
      "c:\\Users\\felix\\Programmieren\\districtgenerator\\.venv\\Lib\\site-packages\\teaser\\logic\\buildingobjects\\useconditions.py:363: FutureWarning: 'H' is deprecated and will be removed in a future version, please use 'h' instead.\n",
      "  index=pd.date_range(\"2019-01-01 00:00:00\", periods=8760, freq=\"H\")\n",
      "c:\\Users\\felix\\Programmieren\\districtgenerator\\.venv\\Lib\\site-packages\\teaser\\logic\\buildingobjects\\useconditions.py:363: FutureWarning: 'H' is deprecated and will be removed in a future version, please use 'h' instead.\n",
      "  index=pd.date_range(\"2019-01-01 00:00:00\", periods=8760, freq=\"H\")\n"
     ]
    },
    {
     "name": "stdout",
     "output_type": "stream",
     "text": [
      "Creating building AB\n",
      "Creating building AB\n"
     ]
    },
    {
     "name": "stderr",
     "output_type": "stream",
     "text": [
      "c:\\Users\\felix\\Programmieren\\districtgenerator\\.venv\\Lib\\site-packages\\teaser\\logic\\buildingobjects\\useconditions.py:363: FutureWarning: 'H' is deprecated and will be removed in a future version, please use 'h' instead.\n",
      "  index=pd.date_range(\"2019-01-01 00:00:00\", periods=8760, freq=\"H\")\n",
      "c:\\Users\\felix\\Programmieren\\districtgenerator\\.venv\\Lib\\site-packages\\teaser\\logic\\buildingobjects\\useconditions.py:363: FutureWarning: 'H' is deprecated and will be removed in a future version, please use 'h' instead.\n",
      "  index=pd.date_range(\"2019-01-01 00:00:00\", periods=8760, freq=\"H\")\n"
     ]
    },
    {
     "name": "stdout",
     "output_type": "stream",
     "text": [
      "Creating building AB\n",
      "Creating building AB\n"
     ]
    },
    {
     "name": "stderr",
     "output_type": "stream",
     "text": [
      "c:\\Users\\felix\\Programmieren\\districtgenerator\\.venv\\Lib\\site-packages\\teaser\\logic\\buildingobjects\\useconditions.py:363: FutureWarning: 'H' is deprecated and will be removed in a future version, please use 'h' instead.\n",
      "  index=pd.date_range(\"2019-01-01 00:00:00\", periods=8760, freq=\"H\")\n",
      "c:\\Users\\felix\\Programmieren\\districtgenerator\\.venv\\Lib\\site-packages\\teaser\\logic\\buildingobjects\\useconditions.py:363: FutureWarning: 'H' is deprecated and will be removed in a future version, please use 'h' instead.\n",
      "  index=pd.date_range(\"2019-01-01 00:00:00\", periods=8760, freq=\"H\")\n"
     ]
    },
    {
     "name": "stdout",
     "output_type": "stream",
     "text": [
      "Creating building AB\n",
      "Creating building AB\n"
     ]
    },
    {
     "name": "stderr",
     "output_type": "stream",
     "text": [
      "c:\\Users\\felix\\Programmieren\\districtgenerator\\.venv\\Lib\\site-packages\\teaser\\logic\\buildingobjects\\useconditions.py:363: FutureWarning: 'H' is deprecated and will be removed in a future version, please use 'h' instead.\n",
      "  index=pd.date_range(\"2019-01-01 00:00:00\", periods=8760, freq=\"H\")\n",
      "c:\\Users\\felix\\Programmieren\\districtgenerator\\.venv\\Lib\\site-packages\\teaser\\logic\\buildingobjects\\useconditions.py:363: FutureWarning: 'H' is deprecated and will be removed in a future version, please use 'h' instead.\n",
      "  index=pd.date_range(\"2019-01-01 00:00:00\", periods=8760, freq=\"H\")\n"
     ]
    },
    {
     "name": "stdout",
     "output_type": "stream",
     "text": [
      "Creating building AB\n",
      "Creating building AB\n"
     ]
    },
    {
     "name": "stderr",
     "output_type": "stream",
     "text": [
      "c:\\Users\\felix\\Programmieren\\districtgenerator\\.venv\\Lib\\site-packages\\teaser\\logic\\buildingobjects\\useconditions.py:363: FutureWarning: 'H' is deprecated and will be removed in a future version, please use 'h' instead.\n",
      "  index=pd.date_range(\"2019-01-01 00:00:00\", periods=8760, freq=\"H\")\n",
      "c:\\Users\\felix\\Programmieren\\districtgenerator\\.venv\\Lib\\site-packages\\teaser\\logic\\buildingobjects\\useconditions.py:363: FutureWarning: 'H' is deprecated and will be removed in a future version, please use 'h' instead.\n",
      "  index=pd.date_range(\"2019-01-01 00:00:00\", periods=8760, freq=\"H\")\n"
     ]
    },
    {
     "name": "stdout",
     "output_type": "stream",
     "text": [
      "Creating building TH\n",
      "Creating building AB\n"
     ]
    },
    {
     "name": "stderr",
     "output_type": "stream",
     "text": [
      "c:\\Users\\felix\\Programmieren\\districtgenerator\\.venv\\Lib\\site-packages\\teaser\\logic\\buildingobjects\\useconditions.py:363: FutureWarning: 'H' is deprecated and will be removed in a future version, please use 'h' instead.\n",
      "  index=pd.date_range(\"2019-01-01 00:00:00\", periods=8760, freq=\"H\")\n",
      "c:\\Users\\felix\\Programmieren\\districtgenerator\\.venv\\Lib\\site-packages\\teaser\\logic\\buildingobjects\\useconditions.py:363: FutureWarning: 'H' is deprecated and will be removed in a future version, please use 'h' instead.\n",
      "  index=pd.date_range(\"2019-01-01 00:00:00\", periods=8760, freq=\"H\")\n"
     ]
    },
    {
     "name": "stdout",
     "output_type": "stream",
     "text": [
      "Creating building IWU Transport\n",
      "We are about to generate a Non Residential building.\n",
      "Available building types: ['IWU Office, Administrative or Government Buildings', 'IWU Research and University Teaching', 'IWU Health and Care', 'IWU School, Day Nursery and other Care', 'IWU Culture and Leisure', 'IWU Sports Facilities', 'IWU Hotels, Boarding, Restaurants or Catering', 'IWU Production, Workshop, Warehouse or Operations', 'IWU Trade Buildings', 'IWU Technical and Utility (supply and disposal)', 'IWU Transport', 'IWU Generalized (1) Services building', 'IWU Generalized (2) Production buildings']\n",
      "Current usage: IWU Transport\n",
      "Creating building AB\n"
     ]
    },
    {
     "name": "stderr",
     "output_type": "stream",
     "text": [
      "c:\\Users\\felix\\Programmieren\\districtgenerator\\.venv\\Lib\\site-packages\\teaser\\logic\\buildingobjects\\useconditions.py:363: FutureWarning: 'H' is deprecated and will be removed in a future version, please use 'h' instead.\n",
      "  index=pd.date_range(\"2019-01-01 00:00:00\", periods=8760, freq=\"H\")\n",
      "c:\\Users\\felix\\Programmieren\\districtgenerator\\.venv\\Lib\\site-packages\\teaser\\logic\\buildingobjects\\useconditions.py:363: FutureWarning: 'H' is deprecated and will be removed in a future version, please use 'h' instead.\n",
      "  index=pd.date_range(\"2019-01-01 00:00:00\", periods=8760, freq=\"H\")\n"
     ]
    },
    {
     "name": "stdout",
     "output_type": "stream",
     "text": [
      "Creating building AB\n",
      "Creating building AB\n"
     ]
    },
    {
     "name": "stderr",
     "output_type": "stream",
     "text": [
      "c:\\Users\\felix\\Programmieren\\districtgenerator\\.venv\\Lib\\site-packages\\teaser\\logic\\buildingobjects\\useconditions.py:363: FutureWarning: 'H' is deprecated and will be removed in a future version, please use 'h' instead.\n",
      "  index=pd.date_range(\"2019-01-01 00:00:00\", periods=8760, freq=\"H\")\n",
      "c:\\Users\\felix\\Programmieren\\districtgenerator\\.venv\\Lib\\site-packages\\teaser\\logic\\buildingobjects\\useconditions.py:363: FutureWarning: 'H' is deprecated and will be removed in a future version, please use 'h' instead.\n",
      "  index=pd.date_range(\"2019-01-01 00:00:00\", periods=8760, freq=\"H\")\n"
     ]
    },
    {
     "name": "stdout",
     "output_type": "stream",
     "text": [
      "Creating building AB\n",
      "Creating building AB\n"
     ]
    },
    {
     "name": "stderr",
     "output_type": "stream",
     "text": [
      "c:\\Users\\felix\\Programmieren\\districtgenerator\\.venv\\Lib\\site-packages\\teaser\\logic\\buildingobjects\\useconditions.py:363: FutureWarning: 'H' is deprecated and will be removed in a future version, please use 'h' instead.\n",
      "  index=pd.date_range(\"2019-01-01 00:00:00\", periods=8760, freq=\"H\")\n",
      "c:\\Users\\felix\\Programmieren\\districtgenerator\\.venv\\Lib\\site-packages\\teaser\\logic\\buildingobjects\\useconditions.py:363: FutureWarning: 'H' is deprecated and will be removed in a future version, please use 'h' instead.\n",
      "  index=pd.date_range(\"2019-01-01 00:00:00\", periods=8760, freq=\"H\")\n"
     ]
    },
    {
     "name": "stdout",
     "output_type": "stream",
     "text": [
      "Creating building AB\n",
      "Creating building AB\n"
     ]
    },
    {
     "name": "stderr",
     "output_type": "stream",
     "text": [
      "c:\\Users\\felix\\Programmieren\\districtgenerator\\.venv\\Lib\\site-packages\\teaser\\logic\\buildingobjects\\useconditions.py:363: FutureWarning: 'H' is deprecated and will be removed in a future version, please use 'h' instead.\n",
      "  index=pd.date_range(\"2019-01-01 00:00:00\", periods=8760, freq=\"H\")\n"
     ]
    },
    {
     "name": "stdout",
     "output_type": "stream",
     "text": [
      "Creating building IWU Transport\n",
      "We are about to generate a Non Residential building.\n",
      "Available building types: ['IWU Office, Administrative or Government Buildings', 'IWU Research and University Teaching', 'IWU Health and Care', 'IWU School, Day Nursery and other Care', 'IWU Culture and Leisure', 'IWU Sports Facilities', 'IWU Hotels, Boarding, Restaurants or Catering', 'IWU Production, Workshop, Warehouse or Operations', 'IWU Trade Buildings', 'IWU Technical and Utility (supply and disposal)', 'IWU Transport', 'IWU Generalized (1) Services building', 'IWU Generalized (2) Production buildings']\n",
      "Current usage: IWU Transport\n",
      "Creating building AB\n"
     ]
    },
    {
     "name": "stderr",
     "output_type": "stream",
     "text": [
      "c:\\Users\\felix\\Programmieren\\districtgenerator\\.venv\\Lib\\site-packages\\teaser\\logic\\buildingobjects\\useconditions.py:363: FutureWarning: 'H' is deprecated and will be removed in a future version, please use 'h' instead.\n",
      "  index=pd.date_range(\"2019-01-01 00:00:00\", periods=8760, freq=\"H\")\n",
      "c:\\Users\\felix\\Programmieren\\districtgenerator\\.venv\\Lib\\site-packages\\teaser\\logic\\buildingobjects\\useconditions.py:363: FutureWarning: 'H' is deprecated and will be removed in a future version, please use 'h' instead.\n",
      "  index=pd.date_range(\"2019-01-01 00:00:00\", periods=8760, freq=\"H\")\n"
     ]
    },
    {
     "name": "stdout",
     "output_type": "stream",
     "text": [
      "Creating building AB\n",
      "Creating building AB\n"
     ]
    },
    {
     "name": "stderr",
     "output_type": "stream",
     "text": [
      "c:\\Users\\felix\\Programmieren\\districtgenerator\\.venv\\Lib\\site-packages\\teaser\\logic\\buildingobjects\\useconditions.py:363: FutureWarning: 'H' is deprecated and will be removed in a future version, please use 'h' instead.\n",
      "  index=pd.date_range(\"2019-01-01 00:00:00\", periods=8760, freq=\"H\")\n"
     ]
    },
    {
     "name": "stdout",
     "output_type": "stream",
     "text": [
      "Creating building IWU Transport\n",
      "We are about to generate a Non Residential building.\n",
      "Available building types: ['IWU Office, Administrative or Government Buildings', 'IWU Research and University Teaching', 'IWU Health and Care', 'IWU School, Day Nursery and other Care', 'IWU Culture and Leisure', 'IWU Sports Facilities', 'IWU Hotels, Boarding, Restaurants or Catering', 'IWU Production, Workshop, Warehouse or Operations', 'IWU Trade Buildings', 'IWU Technical and Utility (supply and disposal)', 'IWU Transport', 'IWU Generalized (1) Services building', 'IWU Generalized (2) Production buildings']\n",
      "Current usage: IWU Transport\n",
      "Creating building AB\n"
     ]
    },
    {
     "name": "stderr",
     "output_type": "stream",
     "text": [
      "c:\\Users\\felix\\Programmieren\\districtgenerator\\.venv\\Lib\\site-packages\\teaser\\logic\\buildingobjects\\useconditions.py:363: FutureWarning: 'H' is deprecated and will be removed in a future version, please use 'h' instead.\n",
      "  index=pd.date_range(\"2019-01-01 00:00:00\", periods=8760, freq=\"H\")\n"
     ]
    },
    {
     "name": "stdout",
     "output_type": "stream",
     "text": [
      "Creating building AB\n",
      "Creating building AB\n"
     ]
    },
    {
     "name": "stderr",
     "output_type": "stream",
     "text": [
      "c:\\Users\\felix\\Programmieren\\districtgenerator\\.venv\\Lib\\site-packages\\teaser\\logic\\buildingobjects\\useconditions.py:363: FutureWarning: 'H' is deprecated and will be removed in a future version, please use 'h' instead.\n",
      "  index=pd.date_range(\"2019-01-01 00:00:00\", periods=8760, freq=\"H\")\n",
      "c:\\Users\\felix\\Programmieren\\districtgenerator\\.venv\\Lib\\site-packages\\teaser\\logic\\buildingobjects\\useconditions.py:363: FutureWarning: 'H' is deprecated and will be removed in a future version, please use 'h' instead.\n",
      "  index=pd.date_range(\"2019-01-01 00:00:00\", periods=8760, freq=\"H\")\n"
     ]
    },
    {
     "name": "stdout",
     "output_type": "stream",
     "text": [
      "Creating building AB\n",
      "Creating building AB\n"
     ]
    },
    {
     "name": "stderr",
     "output_type": "stream",
     "text": [
      "c:\\Users\\felix\\Programmieren\\districtgenerator\\.venv\\Lib\\site-packages\\teaser\\logic\\buildingobjects\\useconditions.py:363: FutureWarning: 'H' is deprecated and will be removed in a future version, please use 'h' instead.\n",
      "  index=pd.date_range(\"2019-01-01 00:00:00\", periods=8760, freq=\"H\")\n",
      "c:\\Users\\felix\\Programmieren\\districtgenerator\\.venv\\Lib\\site-packages\\teaser\\logic\\buildingobjects\\useconditions.py:363: FutureWarning: 'H' is deprecated and will be removed in a future version, please use 'h' instead.\n",
      "  index=pd.date_range(\"2019-01-01 00:00:00\", periods=8760, freq=\"H\")\n"
     ]
    },
    {
     "name": "stdout",
     "output_type": "stream",
     "text": [
      "Creating building AB\n",
      "Creating building IWU Hotels, Boarding, Restaurants or Catering\n",
      "We are about to generate a Non Residential building.\n",
      "Available building types: ['IWU Office, Administrative or Government Buildings', 'IWU Research and University Teaching', 'IWU Health and Care', 'IWU School, Day Nursery and other Care', 'IWU Culture and Leisure', 'IWU Sports Facilities', 'IWU Hotels, Boarding, Restaurants or Catering', 'IWU Production, Workshop, Warehouse or Operations', 'IWU Trade Buildings', 'IWU Technical and Utility (supply and disposal)', 'IWU Transport', 'IWU Generalized (1) Services building', 'IWU Generalized (2) Production buildings']\n",
      "Current usage: IWU Hotels, Boarding, Restaurants or Catering\n"
     ]
    },
    {
     "name": "stderr",
     "output_type": "stream",
     "text": [
      "c:\\Users\\felix\\Programmieren\\districtgenerator\\.venv\\Lib\\site-packages\\teaser\\logic\\buildingobjects\\useconditions.py:363: FutureWarning: 'H' is deprecated and will be removed in a future version, please use 'h' instead.\n",
      "  index=pd.date_range(\"2019-01-01 00:00:00\", periods=8760, freq=\"H\")\n"
     ]
    },
    {
     "name": "stdout",
     "output_type": "stream",
     "text": [
      "Creating building AB\n",
      "Creating building IWU Transport\n",
      "We are about to generate a Non Residential building.\n",
      "Available building types: ['IWU Office, Administrative or Government Buildings', 'IWU Research and University Teaching', 'IWU Health and Care', 'IWU School, Day Nursery and other Care', 'IWU Culture and Leisure', 'IWU Sports Facilities', 'IWU Hotels, Boarding, Restaurants or Catering', 'IWU Production, Workshop, Warehouse or Operations', 'IWU Trade Buildings', 'IWU Technical and Utility (supply and disposal)', 'IWU Transport', 'IWU Generalized (1) Services building', 'IWU Generalized (2) Production buildings']\n",
      "Current usage: IWU Transport\n"
     ]
    },
    {
     "name": "stderr",
     "output_type": "stream",
     "text": [
      "c:\\Users\\felix\\Programmieren\\districtgenerator\\.venv\\Lib\\site-packages\\teaser\\logic\\buildingobjects\\useconditions.py:363: FutureWarning: 'H' is deprecated and will be removed in a future version, please use 'h' instead.\n",
      "  index=pd.date_range(\"2019-01-01 00:00:00\", periods=8760, freq=\"H\")\n"
     ]
    },
    {
     "name": "stdout",
     "output_type": "stream",
     "text": [
      "Creating building AB\n",
      "Creating building IWU Transport\n",
      "We are about to generate a Non Residential building.\n",
      "Available building types: ['IWU Office, Administrative or Government Buildings', 'IWU Research and University Teaching', 'IWU Health and Care', 'IWU School, Day Nursery and other Care', 'IWU Culture and Leisure', 'IWU Sports Facilities', 'IWU Hotels, Boarding, Restaurants or Catering', 'IWU Production, Workshop, Warehouse or Operations', 'IWU Trade Buildings', 'IWU Technical and Utility (supply and disposal)', 'IWU Transport', 'IWU Generalized (1) Services building', 'IWU Generalized (2) Production buildings']\n",
      "Current usage: IWU Transport\n"
     ]
    },
    {
     "name": "stderr",
     "output_type": "stream",
     "text": [
      "c:\\Users\\felix\\Programmieren\\districtgenerator\\.venv\\Lib\\site-packages\\teaser\\logic\\buildingobjects\\useconditions.py:363: FutureWarning: 'H' is deprecated and will be removed in a future version, please use 'h' instead.\n",
      "  index=pd.date_range(\"2019-01-01 00:00:00\", periods=8760, freq=\"H\")\n"
     ]
    },
    {
     "name": "stdout",
     "output_type": "stream",
     "text": [
      "Creating building AB\n",
      "Creating building AB\n"
     ]
    },
    {
     "name": "stderr",
     "output_type": "stream",
     "text": [
      "c:\\Users\\felix\\Programmieren\\districtgenerator\\.venv\\Lib\\site-packages\\teaser\\logic\\buildingobjects\\useconditions.py:363: FutureWarning: 'H' is deprecated and will be removed in a future version, please use 'h' instead.\n",
      "  index=pd.date_range(\"2019-01-01 00:00:00\", periods=8760, freq=\"H\")\n",
      "c:\\Users\\felix\\Programmieren\\districtgenerator\\.venv\\Lib\\site-packages\\teaser\\logic\\buildingobjects\\useconditions.py:363: FutureWarning: 'H' is deprecated and will be removed in a future version, please use 'h' instead.\n",
      "  index=pd.date_range(\"2019-01-01 00:00:00\", periods=8760, freq=\"H\")\n"
     ]
    },
    {
     "name": "stdout",
     "output_type": "stream",
     "text": [
      "Creating building AB\n",
      "Creating building IWU Transport\n",
      "We are about to generate a Non Residential building.\n",
      "Available building types: ['IWU Office, Administrative or Government Buildings', 'IWU Research and University Teaching', 'IWU Health and Care', 'IWU School, Day Nursery and other Care', 'IWU Culture and Leisure', 'IWU Sports Facilities', 'IWU Hotels, Boarding, Restaurants or Catering', 'IWU Production, Workshop, Warehouse or Operations', 'IWU Trade Buildings', 'IWU Technical and Utility (supply and disposal)', 'IWU Transport', 'IWU Generalized (1) Services building', 'IWU Generalized (2) Production buildings']\n",
      "Current usage: IWU Transport\n"
     ]
    },
    {
     "name": "stderr",
     "output_type": "stream",
     "text": [
      "c:\\Users\\felix\\Programmieren\\districtgenerator\\.venv\\Lib\\site-packages\\teaser\\logic\\buildingobjects\\useconditions.py:363: FutureWarning: 'H' is deprecated and will be removed in a future version, please use 'h' instead.\n",
      "  index=pd.date_range(\"2019-01-01 00:00:00\", periods=8760, freq=\"H\")\n"
     ]
    },
    {
     "name": "stdout",
     "output_type": "stream",
     "text": [
      "Creating building AB\n",
      "Creating building AB\n"
     ]
    },
    {
     "name": "stderr",
     "output_type": "stream",
     "text": [
      "c:\\Users\\felix\\Programmieren\\districtgenerator\\.venv\\Lib\\site-packages\\teaser\\logic\\buildingobjects\\useconditions.py:363: FutureWarning: 'H' is deprecated and will be removed in a future version, please use 'h' instead.\n",
      "  index=pd.date_range(\"2019-01-01 00:00:00\", periods=8760, freq=\"H\")\n",
      "c:\\Users\\felix\\Programmieren\\districtgenerator\\.venv\\Lib\\site-packages\\teaser\\logic\\buildingobjects\\useconditions.py:363: FutureWarning: 'H' is deprecated and will be removed in a future version, please use 'h' instead.\n",
      "  index=pd.date_range(\"2019-01-01 00:00:00\", periods=8760, freq=\"H\")\n"
     ]
    },
    {
     "name": "stdout",
     "output_type": "stream",
     "text": [
      "Creating building AB\n"
     ]
    },
    {
     "name": "stderr",
     "output_type": "stream",
     "text": [
      "c:\\Users\\felix\\Programmieren\\districtgenerator\\.venv\\Lib\\site-packages\\teaser\\logic\\buildingobjects\\useconditions.py:363: FutureWarning: 'H' is deprecated and will be removed in a future version, please use 'h' instead.\n",
      "  index=pd.date_range(\"2019-01-01 00:00:00\", periods=8760, freq=\"H\")\n"
     ]
    },
    {
     "name": "stdout",
     "output_type": "stream",
     "text": [
      "Creating building AB\n",
      "Creating building AB\n"
     ]
    },
    {
     "name": "stderr",
     "output_type": "stream",
     "text": [
      "c:\\Users\\felix\\Programmieren\\districtgenerator\\.venv\\Lib\\site-packages\\teaser\\logic\\buildingobjects\\useconditions.py:363: FutureWarning: 'H' is deprecated and will be removed in a future version, please use 'h' instead.\n",
      "  index=pd.date_range(\"2019-01-01 00:00:00\", periods=8760, freq=\"H\")\n",
      "c:\\Users\\felix\\Programmieren\\districtgenerator\\.venv\\Lib\\site-packages\\teaser\\logic\\buildingobjects\\useconditions.py:363: FutureWarning: 'H' is deprecated and will be removed in a future version, please use 'h' instead.\n",
      "  index=pd.date_range(\"2019-01-01 00:00:00\", periods=8760, freq=\"H\")\n"
     ]
    },
    {
     "name": "stdout",
     "output_type": "stream",
     "text": [
      "Creating building AB\n",
      "Creating building AB\n"
     ]
    },
    {
     "name": "stderr",
     "output_type": "stream",
     "text": [
      "c:\\Users\\felix\\Programmieren\\districtgenerator\\.venv\\Lib\\site-packages\\teaser\\logic\\buildingobjects\\useconditions.py:363: FutureWarning: 'H' is deprecated and will be removed in a future version, please use 'h' instead.\n",
      "  index=pd.date_range(\"2019-01-01 00:00:00\", periods=8760, freq=\"H\")\n",
      "c:\\Users\\felix\\Programmieren\\districtgenerator\\.venv\\Lib\\site-packages\\teaser\\logic\\buildingobjects\\useconditions.py:363: FutureWarning: 'H' is deprecated and will be removed in a future version, please use 'h' instead.\n",
      "  index=pd.date_range(\"2019-01-01 00:00:00\", periods=8760, freq=\"H\")\n"
     ]
    },
    {
     "name": "stdout",
     "output_type": "stream",
     "text": [
      "Creating building AB\n",
      "Creating building AB\n"
     ]
    },
    {
     "name": "stderr",
     "output_type": "stream",
     "text": [
      "c:\\Users\\felix\\Programmieren\\districtgenerator\\.venv\\Lib\\site-packages\\teaser\\logic\\buildingobjects\\useconditions.py:363: FutureWarning: 'H' is deprecated and will be removed in a future version, please use 'h' instead.\n",
      "  index=pd.date_range(\"2019-01-01 00:00:00\", periods=8760, freq=\"H\")\n",
      "c:\\Users\\felix\\Programmieren\\districtgenerator\\.venv\\Lib\\site-packages\\teaser\\logic\\buildingobjects\\useconditions.py:363: FutureWarning: 'H' is deprecated and will be removed in a future version, please use 'h' instead.\n",
      "  index=pd.date_range(\"2019-01-01 00:00:00\", periods=8760, freq=\"H\")\n"
     ]
    },
    {
     "name": "stdout",
     "output_type": "stream",
     "text": [
      "Creating building AB\n",
      "Creating building AB\n"
     ]
    },
    {
     "name": "stderr",
     "output_type": "stream",
     "text": [
      "c:\\Users\\felix\\Programmieren\\districtgenerator\\.venv\\Lib\\site-packages\\teaser\\logic\\buildingobjects\\useconditions.py:363: FutureWarning: 'H' is deprecated and will be removed in a future version, please use 'h' instead.\n",
      "  index=pd.date_range(\"2019-01-01 00:00:00\", periods=8760, freq=\"H\")\n",
      "c:\\Users\\felix\\Programmieren\\districtgenerator\\.venv\\Lib\\site-packages\\teaser\\logic\\buildingobjects\\useconditions.py:363: FutureWarning: 'H' is deprecated and will be removed in a future version, please use 'h' instead.\n",
      "  index=pd.date_range(\"2019-01-01 00:00:00\", periods=8760, freq=\"H\")\n"
     ]
    },
    {
     "name": "stdout",
     "output_type": "stream",
     "text": [
      "Creating building AB\n",
      "Creating building AB\n"
     ]
    },
    {
     "name": "stderr",
     "output_type": "stream",
     "text": [
      "c:\\Users\\felix\\Programmieren\\districtgenerator\\.venv\\Lib\\site-packages\\teaser\\logic\\buildingobjects\\useconditions.py:363: FutureWarning: 'H' is deprecated and will be removed in a future version, please use 'h' instead.\n",
      "  index=pd.date_range(\"2019-01-01 00:00:00\", periods=8760, freq=\"H\")\n",
      "c:\\Users\\felix\\Programmieren\\districtgenerator\\.venv\\Lib\\site-packages\\teaser\\logic\\buildingobjects\\useconditions.py:363: FutureWarning: 'H' is deprecated and will be removed in a future version, please use 'h' instead.\n",
      "  index=pd.date_range(\"2019-01-01 00:00:00\", periods=8760, freq=\"H\")\n"
     ]
    },
    {
     "name": "stdout",
     "output_type": "stream",
     "text": [
      "Creating building AB\n",
      "Creating building IWU School, Day Nursery and other Care\n",
      "We are about to generate a Non Residential building.\n",
      "Available building types: ['IWU Office, Administrative or Government Buildings', 'IWU Research and University Teaching', 'IWU Health and Care', 'IWU School, Day Nursery and other Care', 'IWU Culture and Leisure', 'IWU Sports Facilities', 'IWU Hotels, Boarding, Restaurants or Catering', 'IWU Production, Workshop, Warehouse or Operations', 'IWU Trade Buildings', 'IWU Technical and Utility (supply and disposal)', 'IWU Transport', 'IWU Generalized (1) Services building', 'IWU Generalized (2) Production buildings']\n",
      "Current usage: IWU School, Day Nursery and other Care\n"
     ]
    },
    {
     "name": "stderr",
     "output_type": "stream",
     "text": [
      "c:\\Users\\felix\\Programmieren\\districtgenerator\\.venv\\Lib\\site-packages\\teaser\\logic\\buildingobjects\\useconditions.py:363: FutureWarning: 'H' is deprecated and will be removed in a future version, please use 'h' instead.\n",
      "  index=pd.date_range(\"2019-01-01 00:00:00\", periods=8760, freq=\"H\")\n"
     ]
    },
    {
     "name": "stdout",
     "output_type": "stream",
     "text": [
      "Creating building AB\n",
      "Creating building AB\n"
     ]
    },
    {
     "name": "stderr",
     "output_type": "stream",
     "text": [
      "c:\\Users\\felix\\Programmieren\\districtgenerator\\.venv\\Lib\\site-packages\\teaser\\logic\\buildingobjects\\useconditions.py:363: FutureWarning: 'H' is deprecated and will be removed in a future version, please use 'h' instead.\n",
      "  index=pd.date_range(\"2019-01-01 00:00:00\", periods=8760, freq=\"H\")\n",
      "c:\\Users\\felix\\Programmieren\\districtgenerator\\.venv\\Lib\\site-packages\\teaser\\logic\\buildingobjects\\useconditions.py:363: FutureWarning: 'H' is deprecated and will be removed in a future version, please use 'h' instead.\n",
      "  index=pd.date_range(\"2019-01-01 00:00:00\", periods=8760, freq=\"H\")\n"
     ]
    },
    {
     "name": "stdout",
     "output_type": "stream",
     "text": [
      "Creating building AB\n",
      "Creating building AB\n"
     ]
    },
    {
     "name": "stderr",
     "output_type": "stream",
     "text": [
      "c:\\Users\\felix\\Programmieren\\districtgenerator\\.venv\\Lib\\site-packages\\teaser\\logic\\buildingobjects\\useconditions.py:363: FutureWarning: 'H' is deprecated and will be removed in a future version, please use 'h' instead.\n",
      "  index=pd.date_range(\"2019-01-01 00:00:00\", periods=8760, freq=\"H\")\n",
      "c:\\Users\\felix\\Programmieren\\districtgenerator\\.venv\\Lib\\site-packages\\teaser\\logic\\buildingobjects\\useconditions.py:363: FutureWarning: 'H' is deprecated and will be removed in a future version, please use 'h' instead.\n",
      "  index=pd.date_range(\"2019-01-01 00:00:00\", periods=8760, freq=\"H\")\n"
     ]
    },
    {
     "name": "stdout",
     "output_type": "stream",
     "text": [
      "Creating building AB\n",
      "Creating building IWU Transport\n",
      "We are about to generate a Non Residential building.\n",
      "Available building types: ['IWU Office, Administrative or Government Buildings', 'IWU Research and University Teaching', 'IWU Health and Care', 'IWU School, Day Nursery and other Care', 'IWU Culture and Leisure', 'IWU Sports Facilities', 'IWU Hotels, Boarding, Restaurants or Catering', 'IWU Production, Workshop, Warehouse or Operations', 'IWU Trade Buildings', 'IWU Technical and Utility (supply and disposal)', 'IWU Transport', 'IWU Generalized (1) Services building', 'IWU Generalized (2) Production buildings']\n",
      "Current usage: IWU Transport\n"
     ]
    },
    {
     "name": "stderr",
     "output_type": "stream",
     "text": [
      "c:\\Users\\felix\\Programmieren\\districtgenerator\\.venv\\Lib\\site-packages\\teaser\\logic\\buildingobjects\\useconditions.py:363: FutureWarning: 'H' is deprecated and will be removed in a future version, please use 'h' instead.\n",
      "  index=pd.date_range(\"2019-01-01 00:00:00\", periods=8760, freq=\"H\")\n"
     ]
    },
    {
     "name": "stdout",
     "output_type": "stream",
     "text": [
      "Creating building AB\n",
      "Creating building AB\n"
     ]
    },
    {
     "name": "stderr",
     "output_type": "stream",
     "text": [
      "c:\\Users\\felix\\Programmieren\\districtgenerator\\.venv\\Lib\\site-packages\\teaser\\logic\\buildingobjects\\useconditions.py:363: FutureWarning: 'H' is deprecated and will be removed in a future version, please use 'h' instead.\n",
      "  index=pd.date_range(\"2019-01-01 00:00:00\", periods=8760, freq=\"H\")\n",
      "c:\\Users\\felix\\Programmieren\\districtgenerator\\.venv\\Lib\\site-packages\\teaser\\logic\\buildingobjects\\useconditions.py:363: FutureWarning: 'H' is deprecated and will be removed in a future version, please use 'h' instead.\n",
      "  index=pd.date_range(\"2019-01-01 00:00:00\", periods=8760, freq=\"H\")\n"
     ]
    },
    {
     "name": "stdout",
     "output_type": "stream",
     "text": [
      "Creating building AB\n",
      "Creating building AB\n"
     ]
    },
    {
     "name": "stderr",
     "output_type": "stream",
     "text": [
      "c:\\Users\\felix\\Programmieren\\districtgenerator\\.venv\\Lib\\site-packages\\teaser\\logic\\buildingobjects\\useconditions.py:363: FutureWarning: 'H' is deprecated and will be removed in a future version, please use 'h' instead.\n",
      "  index=pd.date_range(\"2019-01-01 00:00:00\", periods=8760, freq=\"H\")\n",
      "c:\\Users\\felix\\Programmieren\\districtgenerator\\.venv\\Lib\\site-packages\\teaser\\logic\\buildingobjects\\useconditions.py:363: FutureWarning: 'H' is deprecated and will be removed in a future version, please use 'h' instead.\n",
      "  index=pd.date_range(\"2019-01-01 00:00:00\", periods=8760, freq=\"H\")\n"
     ]
    },
    {
     "name": "stdout",
     "output_type": "stream",
     "text": [
      "Creating building AB\n",
      "Creating building AB\n"
     ]
    },
    {
     "name": "stderr",
     "output_type": "stream",
     "text": [
      "c:\\Users\\felix\\Programmieren\\districtgenerator\\.venv\\Lib\\site-packages\\teaser\\logic\\buildingobjects\\useconditions.py:363: FutureWarning: 'H' is deprecated and will be removed in a future version, please use 'h' instead.\n",
      "  index=pd.date_range(\"2019-01-01 00:00:00\", periods=8760, freq=\"H\")\n",
      "c:\\Users\\felix\\Programmieren\\districtgenerator\\.venv\\Lib\\site-packages\\teaser\\logic\\buildingobjects\\useconditions.py:363: FutureWarning: 'H' is deprecated and will be removed in a future version, please use 'h' instead.\n",
      "  index=pd.date_range(\"2019-01-01 00:00:00\", periods=8760, freq=\"H\")\n"
     ]
    },
    {
     "name": "stdout",
     "output_type": "stream",
     "text": [
      "Creating building AB\n",
      "Creating building IWU Trade Buildings\n",
      "We are about to generate a Non Residential building.\n",
      "Available building types: ['IWU Office, Administrative or Government Buildings', 'IWU Research and University Teaching', 'IWU Health and Care', 'IWU School, Day Nursery and other Care', 'IWU Culture and Leisure', 'IWU Sports Facilities', 'IWU Hotels, Boarding, Restaurants or Catering', 'IWU Production, Workshop, Warehouse or Operations', 'IWU Trade Buildings', 'IWU Technical and Utility (supply and disposal)', 'IWU Transport', 'IWU Generalized (1) Services building', 'IWU Generalized (2) Production buildings']\n",
      "Current usage: IWU Trade Buildings\n"
     ]
    },
    {
     "name": "stderr",
     "output_type": "stream",
     "text": [
      "c:\\Users\\felix\\Programmieren\\districtgenerator\\.venv\\Lib\\site-packages\\teaser\\logic\\buildingobjects\\useconditions.py:363: FutureWarning: 'H' is deprecated and will be removed in a future version, please use 'h' instead.\n",
      "  index=pd.date_range(\"2019-01-01 00:00:00\", periods=8760, freq=\"H\")\n"
     ]
    },
    {
     "name": "stdout",
     "output_type": "stream",
     "text": [
      "Creating building AB\n",
      "Creating building AB\n"
     ]
    },
    {
     "name": "stderr",
     "output_type": "stream",
     "text": [
      "c:\\Users\\felix\\Programmieren\\districtgenerator\\.venv\\Lib\\site-packages\\teaser\\logic\\buildingobjects\\useconditions.py:363: FutureWarning: 'H' is deprecated and will be removed in a future version, please use 'h' instead.\n",
      "  index=pd.date_range(\"2019-01-01 00:00:00\", periods=8760, freq=\"H\")\n",
      "c:\\Users\\felix\\Programmieren\\districtgenerator\\.venv\\Lib\\site-packages\\teaser\\logic\\buildingobjects\\useconditions.py:363: FutureWarning: 'H' is deprecated and will be removed in a future version, please use 'h' instead.\n",
      "  index=pd.date_range(\"2019-01-01 00:00:00\", periods=8760, freq=\"H\")\n"
     ]
    },
    {
     "name": "stdout",
     "output_type": "stream",
     "text": [
      "Creating building AB\n",
      "Creating building AB\n"
     ]
    },
    {
     "name": "stderr",
     "output_type": "stream",
     "text": [
      "c:\\Users\\felix\\Programmieren\\districtgenerator\\.venv\\Lib\\site-packages\\teaser\\logic\\buildingobjects\\useconditions.py:363: FutureWarning: 'H' is deprecated and will be removed in a future version, please use 'h' instead.\n",
      "  index=pd.date_range(\"2019-01-01 00:00:00\", periods=8760, freq=\"H\")\n",
      "c:\\Users\\felix\\Programmieren\\districtgenerator\\.venv\\Lib\\site-packages\\teaser\\logic\\buildingobjects\\useconditions.py:363: FutureWarning: 'H' is deprecated and will be removed in a future version, please use 'h' instead.\n",
      "  index=pd.date_range(\"2019-01-01 00:00:00\", periods=8760, freq=\"H\")\n"
     ]
    },
    {
     "name": "stdout",
     "output_type": "stream",
     "text": [
      "Creating building AB\n",
      "Creating building AB\n"
     ]
    },
    {
     "name": "stderr",
     "output_type": "stream",
     "text": [
      "c:\\Users\\felix\\Programmieren\\districtgenerator\\.venv\\Lib\\site-packages\\teaser\\logic\\buildingobjects\\useconditions.py:363: FutureWarning: 'H' is deprecated and will be removed in a future version, please use 'h' instead.\n",
      "  index=pd.date_range(\"2019-01-01 00:00:00\", periods=8760, freq=\"H\")\n",
      "c:\\Users\\felix\\Programmieren\\districtgenerator\\.venv\\Lib\\site-packages\\teaser\\logic\\buildingobjects\\useconditions.py:363: FutureWarning: 'H' is deprecated and will be removed in a future version, please use 'h' instead.\n",
      "  index=pd.date_range(\"2019-01-01 00:00:00\", periods=8760, freq=\"H\")\n"
     ]
    },
    {
     "name": "stdout",
     "output_type": "stream",
     "text": [
      "Creating building AB\n",
      "Creating building IWU School, Day Nursery and other Care\n",
      "We are about to generate a Non Residential building.\n",
      "Available building types: ['IWU Office, Administrative or Government Buildings', 'IWU Research and University Teaching', 'IWU Health and Care', 'IWU School, Day Nursery and other Care', 'IWU Culture and Leisure', 'IWU Sports Facilities', 'IWU Hotels, Boarding, Restaurants or Catering', 'IWU Production, Workshop, Warehouse or Operations', 'IWU Trade Buildings', 'IWU Technical and Utility (supply and disposal)', 'IWU Transport', 'IWU Generalized (1) Services building', 'IWU Generalized (2) Production buildings']\n",
      "Current usage: IWU School, Day Nursery and other Care\n"
     ]
    },
    {
     "name": "stderr",
     "output_type": "stream",
     "text": [
      "c:\\Users\\felix\\Programmieren\\districtgenerator\\.venv\\Lib\\site-packages\\teaser\\logic\\buildingobjects\\useconditions.py:363: FutureWarning: 'H' is deprecated and will be removed in a future version, please use 'h' instead.\n",
      "  index=pd.date_range(\"2019-01-01 00:00:00\", periods=8760, freq=\"H\")\n"
     ]
    },
    {
     "name": "stdout",
     "output_type": "stream",
     "text": [
      "Creating building AB\n",
      "Creating building AB\n"
     ]
    },
    {
     "name": "stderr",
     "output_type": "stream",
     "text": [
      "c:\\Users\\felix\\Programmieren\\districtgenerator\\.venv\\Lib\\site-packages\\teaser\\logic\\buildingobjects\\useconditions.py:363: FutureWarning: 'H' is deprecated and will be removed in a future version, please use 'h' instead.\n",
      "  index=pd.date_range(\"2019-01-01 00:00:00\", periods=8760, freq=\"H\")\n",
      "c:\\Users\\felix\\Programmieren\\districtgenerator\\.venv\\Lib\\site-packages\\teaser\\logic\\buildingobjects\\useconditions.py:363: FutureWarning: 'H' is deprecated and will be removed in a future version, please use 'h' instead.\n",
      "  index=pd.date_range(\"2019-01-01 00:00:00\", periods=8760, freq=\"H\")\n"
     ]
    },
    {
     "name": "stdout",
     "output_type": "stream",
     "text": [
      "Creating building AB\n",
      "Creating building IWU Research and University Teaching\n",
      "We are about to generate a Non Residential building.\n",
      "Available building types: ['IWU Office, Administrative or Government Buildings', 'IWU Research and University Teaching', 'IWU Health and Care', 'IWU School, Day Nursery and other Care', 'IWU Culture and Leisure', 'IWU Sports Facilities', 'IWU Hotels, Boarding, Restaurants or Catering', 'IWU Production, Workshop, Warehouse or Operations', 'IWU Trade Buildings', 'IWU Technical and Utility (supply and disposal)', 'IWU Transport', 'IWU Generalized (1) Services building', 'IWU Generalized (2) Production buildings']\n",
      "Current usage: IWU Research and University Teaching\n"
     ]
    },
    {
     "name": "stderr",
     "output_type": "stream",
     "text": [
      "c:\\Users\\felix\\Programmieren\\districtgenerator\\.venv\\Lib\\site-packages\\teaser\\logic\\buildingobjects\\useconditions.py:363: FutureWarning: 'H' is deprecated and will be removed in a future version, please use 'h' instead.\n",
      "  index=pd.date_range(\"2019-01-01 00:00:00\", periods=8760, freq=\"H\")\n"
     ]
    },
    {
     "name": "stdout",
     "output_type": "stream",
     "text": [
      "Creating building AB\n",
      "Creating building AB\n"
     ]
    },
    {
     "name": "stderr",
     "output_type": "stream",
     "text": [
      "c:\\Users\\felix\\Programmieren\\districtgenerator\\.venv\\Lib\\site-packages\\teaser\\logic\\buildingobjects\\useconditions.py:363: FutureWarning: 'H' is deprecated and will be removed in a future version, please use 'h' instead.\n",
      "  index=pd.date_range(\"2019-01-01 00:00:00\", periods=8760, freq=\"H\")\n",
      "c:\\Users\\felix\\Programmieren\\districtgenerator\\.venv\\Lib\\site-packages\\teaser\\logic\\buildingobjects\\useconditions.py:363: FutureWarning: 'H' is deprecated and will be removed in a future version, please use 'h' instead.\n",
      "  index=pd.date_range(\"2019-01-01 00:00:00\", periods=8760, freq=\"H\")\n"
     ]
    },
    {
     "name": "stdout",
     "output_type": "stream",
     "text": [
      "Creating building AB\n",
      "Creating building AB\n"
     ]
    },
    {
     "name": "stderr",
     "output_type": "stream",
     "text": [
      "c:\\Users\\felix\\Programmieren\\districtgenerator\\.venv\\Lib\\site-packages\\teaser\\logic\\buildingobjects\\useconditions.py:363: FutureWarning: 'H' is deprecated and will be removed in a future version, please use 'h' instead.\n",
      "  index=pd.date_range(\"2019-01-01 00:00:00\", periods=8760, freq=\"H\")\n",
      "c:\\Users\\felix\\Programmieren\\districtgenerator\\.venv\\Lib\\site-packages\\teaser\\logic\\buildingobjects\\useconditions.py:363: FutureWarning: 'H' is deprecated and will be removed in a future version, please use 'h' instead.\n",
      "  index=pd.date_range(\"2019-01-01 00:00:00\", periods=8760, freq=\"H\")\n"
     ]
    },
    {
     "name": "stdout",
     "output_type": "stream",
     "text": [
      "Creating building AB\n",
      "Creating building AB\n"
     ]
    },
    {
     "name": "stderr",
     "output_type": "stream",
     "text": [
      "c:\\Users\\felix\\Programmieren\\districtgenerator\\.venv\\Lib\\site-packages\\teaser\\logic\\buildingobjects\\useconditions.py:363: FutureWarning: 'H' is deprecated and will be removed in a future version, please use 'h' instead.\n",
      "  index=pd.date_range(\"2019-01-01 00:00:00\", periods=8760, freq=\"H\")\n",
      "c:\\Users\\felix\\Programmieren\\districtgenerator\\.venv\\Lib\\site-packages\\teaser\\logic\\buildingobjects\\useconditions.py:363: FutureWarning: 'H' is deprecated and will be removed in a future version, please use 'h' instead.\n",
      "  index=pd.date_range(\"2019-01-01 00:00:00\", periods=8760, freq=\"H\")\n"
     ]
    },
    {
     "name": "stdout",
     "output_type": "stream",
     "text": [
      "Creating building AB\n",
      "Creating building AB\n"
     ]
    },
    {
     "name": "stderr",
     "output_type": "stream",
     "text": [
      "c:\\Users\\felix\\Programmieren\\districtgenerator\\.venv\\Lib\\site-packages\\teaser\\logic\\buildingobjects\\useconditions.py:363: FutureWarning: 'H' is deprecated and will be removed in a future version, please use 'h' instead.\n",
      "  index=pd.date_range(\"2019-01-01 00:00:00\", periods=8760, freq=\"H\")\n",
      "c:\\Users\\felix\\Programmieren\\districtgenerator\\.venv\\Lib\\site-packages\\teaser\\logic\\buildingobjects\\useconditions.py:363: FutureWarning: 'H' is deprecated and will be removed in a future version, please use 'h' instead.\n",
      "  index=pd.date_range(\"2019-01-01 00:00:00\", periods=8760, freq=\"H\")\n"
     ]
    },
    {
     "name": "stdout",
     "output_type": "stream",
     "text": [
      "Creating building AB\n",
      "Creating building AB\n"
     ]
    },
    {
     "name": "stderr",
     "output_type": "stream",
     "text": [
      "c:\\Users\\felix\\Programmieren\\districtgenerator\\.venv\\Lib\\site-packages\\teaser\\logic\\buildingobjects\\useconditions.py:363: FutureWarning: 'H' is deprecated and will be removed in a future version, please use 'h' instead.\n",
      "  index=pd.date_range(\"2019-01-01 00:00:00\", periods=8760, freq=\"H\")\n",
      "c:\\Users\\felix\\Programmieren\\districtgenerator\\.venv\\Lib\\site-packages\\teaser\\logic\\buildingobjects\\useconditions.py:363: FutureWarning: 'H' is deprecated and will be removed in a future version, please use 'h' instead.\n",
      "  index=pd.date_range(\"2019-01-01 00:00:00\", periods=8760, freq=\"H\")\n"
     ]
    },
    {
     "name": "stdout",
     "output_type": "stream",
     "text": [
      "Creating building AB\n",
      "Creating building AB\n"
     ]
    },
    {
     "name": "stderr",
     "output_type": "stream",
     "text": [
      "c:\\Users\\felix\\Programmieren\\districtgenerator\\.venv\\Lib\\site-packages\\teaser\\logic\\buildingobjects\\useconditions.py:363: FutureWarning: 'H' is deprecated and will be removed in a future version, please use 'h' instead.\n",
      "  index=pd.date_range(\"2019-01-01 00:00:00\", periods=8760, freq=\"H\")\n",
      "c:\\Users\\felix\\Programmieren\\districtgenerator\\.venv\\Lib\\site-packages\\teaser\\logic\\buildingobjects\\useconditions.py:363: FutureWarning: 'H' is deprecated and will be removed in a future version, please use 'h' instead.\n",
      "  index=pd.date_range(\"2019-01-01 00:00:00\", periods=8760, freq=\"H\")\n"
     ]
    },
    {
     "name": "stdout",
     "output_type": "stream",
     "text": [
      "Creating building AB\n",
      "Creating building AB\n"
     ]
    },
    {
     "name": "stderr",
     "output_type": "stream",
     "text": [
      "c:\\Users\\felix\\Programmieren\\districtgenerator\\.venv\\Lib\\site-packages\\teaser\\logic\\buildingobjects\\useconditions.py:363: FutureWarning: 'H' is deprecated and will be removed in a future version, please use 'h' instead.\n",
      "  index=pd.date_range(\"2019-01-01 00:00:00\", periods=8760, freq=\"H\")\n",
      "c:\\Users\\felix\\Programmieren\\districtgenerator\\.venv\\Lib\\site-packages\\teaser\\logic\\buildingobjects\\useconditions.py:363: FutureWarning: 'H' is deprecated and will be removed in a future version, please use 'h' instead.\n",
      "  index=pd.date_range(\"2019-01-01 00:00:00\", periods=8760, freq=\"H\")\n"
     ]
    },
    {
     "name": "stdout",
     "output_type": "stream",
     "text": [
      "Creating building AB\n",
      "Creating building AB\n"
     ]
    },
    {
     "name": "stderr",
     "output_type": "stream",
     "text": [
      "c:\\Users\\felix\\Programmieren\\districtgenerator\\.venv\\Lib\\site-packages\\teaser\\logic\\buildingobjects\\useconditions.py:363: FutureWarning: 'H' is deprecated and will be removed in a future version, please use 'h' instead.\n",
      "  index=pd.date_range(\"2019-01-01 00:00:00\", periods=8760, freq=\"H\")\n",
      "c:\\Users\\felix\\Programmieren\\districtgenerator\\.venv\\Lib\\site-packages\\teaser\\logic\\buildingobjects\\useconditions.py:363: FutureWarning: 'H' is deprecated and will be removed in a future version, please use 'h' instead.\n",
      "  index=pd.date_range(\"2019-01-01 00:00:00\", periods=8760, freq=\"H\")\n"
     ]
    },
    {
     "name": "stdout",
     "output_type": "stream",
     "text": [
      "Creating building AB\n",
      "Creating building AB\n"
     ]
    },
    {
     "name": "stderr",
     "output_type": "stream",
     "text": [
      "c:\\Users\\felix\\Programmieren\\districtgenerator\\.venv\\Lib\\site-packages\\teaser\\logic\\buildingobjects\\useconditions.py:363: FutureWarning: 'H' is deprecated and will be removed in a future version, please use 'h' instead.\n",
      "  index=pd.date_range(\"2019-01-01 00:00:00\", periods=8760, freq=\"H\")\n",
      "c:\\Users\\felix\\Programmieren\\districtgenerator\\.venv\\Lib\\site-packages\\teaser\\logic\\buildingobjects\\useconditions.py:363: FutureWarning: 'H' is deprecated and will be removed in a future version, please use 'h' instead.\n",
      "  index=pd.date_range(\"2019-01-01 00:00:00\", periods=8760, freq=\"H\")\n"
     ]
    },
    {
     "name": "stdout",
     "output_type": "stream",
     "text": [
      "Creating building AB\n",
      "Creating building IWU Culture and Leisure\n",
      "We are about to generate a Non Residential building.\n",
      "Available building types: ['IWU Office, Administrative or Government Buildings', 'IWU Research and University Teaching', 'IWU Health and Care', 'IWU School, Day Nursery and other Care', 'IWU Culture and Leisure', 'IWU Sports Facilities', 'IWU Hotels, Boarding, Restaurants or Catering', 'IWU Production, Workshop, Warehouse or Operations', 'IWU Trade Buildings', 'IWU Technical and Utility (supply and disposal)', 'IWU Transport', 'IWU Generalized (1) Services building', 'IWU Generalized (2) Production buildings']\n",
      "Current usage: IWU Culture and Leisure\n"
     ]
    },
    {
     "name": "stderr",
     "output_type": "stream",
     "text": [
      "c:\\Users\\felix\\Programmieren\\districtgenerator\\.venv\\Lib\\site-packages\\teaser\\logic\\buildingobjects\\useconditions.py:363: FutureWarning: 'H' is deprecated and will be removed in a future version, please use 'h' instead.\n",
      "  index=pd.date_range(\"2019-01-01 00:00:00\", periods=8760, freq=\"H\")\n"
     ]
    },
    {
     "name": "stdout",
     "output_type": "stream",
     "text": [
      "Creating building AB\n",
      "Creating building AB\n"
     ]
    },
    {
     "name": "stderr",
     "output_type": "stream",
     "text": [
      "c:\\Users\\felix\\Programmieren\\districtgenerator\\.venv\\Lib\\site-packages\\teaser\\logic\\buildingobjects\\useconditions.py:363: FutureWarning: 'H' is deprecated and will be removed in a future version, please use 'h' instead.\n",
      "  index=pd.date_range(\"2019-01-01 00:00:00\", periods=8760, freq=\"H\")\n",
      "c:\\Users\\felix\\Programmieren\\districtgenerator\\.venv\\Lib\\site-packages\\teaser\\logic\\buildingobjects\\useconditions.py:363: FutureWarning: 'H' is deprecated and will be removed in a future version, please use 'h' instead.\n",
      "  index=pd.date_range(\"2019-01-01 00:00:00\", periods=8760, freq=\"H\")\n"
     ]
    },
    {
     "name": "stdout",
     "output_type": "stream",
     "text": [
      "Creating building AB\n",
      "Creating building IWU Research and University Teaching\n",
      "We are about to generate a Non Residential building.\n",
      "Available building types: ['IWU Office, Administrative or Government Buildings', 'IWU Research and University Teaching', 'IWU Health and Care', 'IWU School, Day Nursery and other Care', 'IWU Culture and Leisure', 'IWU Sports Facilities', 'IWU Hotels, Boarding, Restaurants or Catering', 'IWU Production, Workshop, Warehouse or Operations', 'IWU Trade Buildings', 'IWU Technical and Utility (supply and disposal)', 'IWU Transport', 'IWU Generalized (1) Services building', 'IWU Generalized (2) Production buildings']\n",
      "Current usage: IWU Research and University Teaching\n"
     ]
    },
    {
     "name": "stderr",
     "output_type": "stream",
     "text": [
      "c:\\Users\\felix\\Programmieren\\districtgenerator\\.venv\\Lib\\site-packages\\teaser\\logic\\buildingobjects\\useconditions.py:363: FutureWarning: 'H' is deprecated and will be removed in a future version, please use 'h' instead.\n",
      "  index=pd.date_range(\"2019-01-01 00:00:00\", periods=8760, freq=\"H\")\n"
     ]
    },
    {
     "name": "stdout",
     "output_type": "stream",
     "text": [
      "Creating building AB\n",
      "Creating building AB\n"
     ]
    },
    {
     "name": "stderr",
     "output_type": "stream",
     "text": [
      "c:\\Users\\felix\\Programmieren\\districtgenerator\\.venv\\Lib\\site-packages\\teaser\\logic\\buildingobjects\\useconditions.py:363: FutureWarning: 'H' is deprecated and will be removed in a future version, please use 'h' instead.\n",
      "  index=pd.date_range(\"2019-01-01 00:00:00\", periods=8760, freq=\"H\")\n",
      "c:\\Users\\felix\\Programmieren\\districtgenerator\\.venv\\Lib\\site-packages\\teaser\\logic\\buildingobjects\\useconditions.py:363: FutureWarning: 'H' is deprecated and will be removed in a future version, please use 'h' instead.\n",
      "  index=pd.date_range(\"2019-01-01 00:00:00\", periods=8760, freq=\"H\")\n"
     ]
    },
    {
     "name": "stdout",
     "output_type": "stream",
     "text": [
      "Creating building AB\n",
      "Creating building AB\n"
     ]
    },
    {
     "name": "stderr",
     "output_type": "stream",
     "text": [
      "c:\\Users\\felix\\Programmieren\\districtgenerator\\.venv\\Lib\\site-packages\\teaser\\logic\\buildingobjects\\useconditions.py:363: FutureWarning: 'H' is deprecated and will be removed in a future version, please use 'h' instead.\n",
      "  index=pd.date_range(\"2019-01-01 00:00:00\", periods=8760, freq=\"H\")\n",
      "c:\\Users\\felix\\Programmieren\\districtgenerator\\.venv\\Lib\\site-packages\\teaser\\logic\\buildingobjects\\useconditions.py:363: FutureWarning: 'H' is deprecated and will be removed in a future version, please use 'h' instead.\n",
      "  index=pd.date_range(\"2019-01-01 00:00:00\", periods=8760, freq=\"H\")\n"
     ]
    },
    {
     "name": "stdout",
     "output_type": "stream",
     "text": [
      "Creating building IWU Office, Administrative or Government Buildings\n",
      "We are about to generate a Non Residential building.\n",
      "Available building types: ['IWU Office, Administrative or Government Buildings', 'IWU Research and University Teaching', 'IWU Health and Care', 'IWU School, Day Nursery and other Care', 'IWU Culture and Leisure', 'IWU Sports Facilities', 'IWU Hotels, Boarding, Restaurants or Catering', 'IWU Production, Workshop, Warehouse or Operations', 'IWU Trade Buildings', 'IWU Technical and Utility (supply and disposal)', 'IWU Transport', 'IWU Generalized (1) Services building', 'IWU Generalized (2) Production buildings']\n",
      "Current usage: IWU Office, Administrative or Government Buildings\n",
      "Creating building AB\n"
     ]
    },
    {
     "name": "stderr",
     "output_type": "stream",
     "text": [
      "c:\\Users\\felix\\Programmieren\\districtgenerator\\.venv\\Lib\\site-packages\\teaser\\logic\\buildingobjects\\useconditions.py:363: FutureWarning: 'H' is deprecated and will be removed in a future version, please use 'h' instead.\n",
      "  index=pd.date_range(\"2019-01-01 00:00:00\", periods=8760, freq=\"H\")\n",
      "c:\\Users\\felix\\Programmieren\\districtgenerator\\.venv\\Lib\\site-packages\\teaser\\logic\\buildingobjects\\useconditions.py:363: FutureWarning: 'H' is deprecated and will be removed in a future version, please use 'h' instead.\n",
      "  index=pd.date_range(\"2019-01-01 00:00:00\", periods=8760, freq=\"H\")\n"
     ]
    },
    {
     "name": "stdout",
     "output_type": "stream",
     "text": [
      "Creating building AB\n",
      "Creating building AB\n"
     ]
    },
    {
     "name": "stderr",
     "output_type": "stream",
     "text": [
      "c:\\Users\\felix\\Programmieren\\districtgenerator\\.venv\\Lib\\site-packages\\teaser\\logic\\buildingobjects\\useconditions.py:363: FutureWarning: 'H' is deprecated and will be removed in a future version, please use 'h' instead.\n",
      "  index=pd.date_range(\"2019-01-01 00:00:00\", periods=8760, freq=\"H\")\n"
     ]
    },
    {
     "name": "stdout",
     "output_type": "stream",
     "text": [
      "Creating building AB\n",
      "Creating building AB\n"
     ]
    },
    {
     "name": "stderr",
     "output_type": "stream",
     "text": [
      "c:\\Users\\felix\\Programmieren\\districtgenerator\\.venv\\Lib\\site-packages\\teaser\\logic\\buildingobjects\\useconditions.py:363: FutureWarning: 'H' is deprecated and will be removed in a future version, please use 'h' instead.\n",
      "  index=pd.date_range(\"2019-01-01 00:00:00\", periods=8760, freq=\"H\")\n",
      "c:\\Users\\felix\\Programmieren\\districtgenerator\\.venv\\Lib\\site-packages\\teaser\\logic\\buildingobjects\\useconditions.py:363: FutureWarning: 'H' is deprecated and will be removed in a future version, please use 'h' instead.\n",
      "  index=pd.date_range(\"2019-01-01 00:00:00\", periods=8760, freq=\"H\")\n"
     ]
    },
    {
     "name": "stdout",
     "output_type": "stream",
     "text": [
      "Creating building AB\n",
      "Creating building AB\n"
     ]
    },
    {
     "name": "stderr",
     "output_type": "stream",
     "text": [
      "c:\\Users\\felix\\Programmieren\\districtgenerator\\.venv\\Lib\\site-packages\\teaser\\logic\\buildingobjects\\useconditions.py:363: FutureWarning: 'H' is deprecated and will be removed in a future version, please use 'h' instead.\n",
      "  index=pd.date_range(\"2019-01-01 00:00:00\", periods=8760, freq=\"H\")\n",
      "c:\\Users\\felix\\Programmieren\\districtgenerator\\.venv\\Lib\\site-packages\\teaser\\logic\\buildingobjects\\useconditions.py:363: FutureWarning: 'H' is deprecated and will be removed in a future version, please use 'h' instead.\n",
      "  index=pd.date_range(\"2019-01-01 00:00:00\", periods=8760, freq=\"H\")\n"
     ]
    },
    {
     "name": "stdout",
     "output_type": "stream",
     "text": [
      "Creating building IWU School, Day Nursery and other Care\n",
      "We are about to generate a Non Residential building.\n",
      "Available building types: ['IWU Office, Administrative or Government Buildings', 'IWU Research and University Teaching', 'IWU Health and Care', 'IWU School, Day Nursery and other Care', 'IWU Culture and Leisure', 'IWU Sports Facilities', 'IWU Hotels, Boarding, Restaurants or Catering', 'IWU Production, Workshop, Warehouse or Operations', 'IWU Trade Buildings', 'IWU Technical and Utility (supply and disposal)', 'IWU Transport', 'IWU Generalized (1) Services building', 'IWU Generalized (2) Production buildings']\n",
      "Current usage: IWU School, Day Nursery and other Care\n",
      "Creating building AB\n"
     ]
    },
    {
     "name": "stderr",
     "output_type": "stream",
     "text": [
      "c:\\Users\\felix\\Programmieren\\districtgenerator\\.venv\\Lib\\site-packages\\teaser\\logic\\buildingobjects\\useconditions.py:363: FutureWarning: 'H' is deprecated and will be removed in a future version, please use 'h' instead.\n",
      "  index=pd.date_range(\"2019-01-01 00:00:00\", periods=8760, freq=\"H\")\n"
     ]
    },
    {
     "name": "stdout",
     "output_type": "stream",
     "text": [
      "Creating building IWU School, Day Nursery and other Care\n",
      "We are about to generate a Non Residential building.\n",
      "Available building types: ['IWU Office, Administrative or Government Buildings', 'IWU Research and University Teaching', 'IWU Health and Care', 'IWU School, Day Nursery and other Care', 'IWU Culture and Leisure', 'IWU Sports Facilities', 'IWU Hotels, Boarding, Restaurants or Catering', 'IWU Production, Workshop, Warehouse or Operations', 'IWU Trade Buildings', 'IWU Technical and Utility (supply and disposal)', 'IWU Transport', 'IWU Generalized (1) Services building', 'IWU Generalized (2) Production buildings']\n",
      "Current usage: IWU School, Day Nursery and other Care\n",
      "Creating building AB\n"
     ]
    },
    {
     "name": "stderr",
     "output_type": "stream",
     "text": [
      "c:\\Users\\felix\\Programmieren\\districtgenerator\\.venv\\Lib\\site-packages\\teaser\\logic\\buildingobjects\\useconditions.py:363: FutureWarning: 'H' is deprecated and will be removed in a future version, please use 'h' instead.\n",
      "  index=pd.date_range(\"2019-01-01 00:00:00\", periods=8760, freq=\"H\")\n"
     ]
    },
    {
     "name": "stdout",
     "output_type": "stream",
     "text": [
      "Creating building IWU Transport\n",
      "We are about to generate a Non Residential building.\n",
      "Available building types: ['IWU Office, Administrative or Government Buildings', 'IWU Research and University Teaching', 'IWU Health and Care', 'IWU School, Day Nursery and other Care', 'IWU Culture and Leisure', 'IWU Sports Facilities', 'IWU Hotels, Boarding, Restaurants or Catering', 'IWU Production, Workshop, Warehouse or Operations', 'IWU Trade Buildings', 'IWU Technical and Utility (supply and disposal)', 'IWU Transport', 'IWU Generalized (1) Services building', 'IWU Generalized (2) Production buildings']\n",
      "Current usage: IWU Transport\n",
      "Creating building AB\n"
     ]
    },
    {
     "name": "stderr",
     "output_type": "stream",
     "text": [
      "c:\\Users\\felix\\Programmieren\\districtgenerator\\.venv\\Lib\\site-packages\\teaser\\logic\\buildingobjects\\useconditions.py:363: FutureWarning: 'H' is deprecated and will be removed in a future version, please use 'h' instead.\n",
      "  index=pd.date_range(\"2019-01-01 00:00:00\", periods=8760, freq=\"H\")\n",
      "c:\\Users\\felix\\Programmieren\\districtgenerator\\.venv\\Lib\\site-packages\\teaser\\logic\\buildingobjects\\useconditions.py:363: FutureWarning: 'H' is deprecated and will be removed in a future version, please use 'h' instead.\n",
      "  index=pd.date_range(\"2019-01-01 00:00:00\", periods=8760, freq=\"H\")\n"
     ]
    },
    {
     "name": "stdout",
     "output_type": "stream",
     "text": [
      "Creating building AB\n",
      "Creating building AB\n"
     ]
    },
    {
     "name": "stderr",
     "output_type": "stream",
     "text": [
      "c:\\Users\\felix\\Programmieren\\districtgenerator\\.venv\\Lib\\site-packages\\teaser\\logic\\buildingobjects\\useconditions.py:363: FutureWarning: 'H' is deprecated and will be removed in a future version, please use 'h' instead.\n",
      "  index=pd.date_range(\"2019-01-01 00:00:00\", periods=8760, freq=\"H\")\n",
      "c:\\Users\\felix\\Programmieren\\districtgenerator\\.venv\\Lib\\site-packages\\teaser\\logic\\buildingobjects\\useconditions.py:363: FutureWarning: 'H' is deprecated and will be removed in a future version, please use 'h' instead.\n",
      "  index=pd.date_range(\"2019-01-01 00:00:00\", periods=8760, freq=\"H\")\n"
     ]
    },
    {
     "name": "stdout",
     "output_type": "stream",
     "text": [
      "Creating building AB\n",
      "Creating building IWU Transport\n",
      "We are about to generate a Non Residential building.\n",
      "Available building types: ['IWU Office, Administrative or Government Buildings', 'IWU Research and University Teaching', 'IWU Health and Care', 'IWU School, Day Nursery and other Care', 'IWU Culture and Leisure', 'IWU Sports Facilities', 'IWU Hotels, Boarding, Restaurants or Catering', 'IWU Production, Workshop, Warehouse or Operations', 'IWU Trade Buildings', 'IWU Technical and Utility (supply and disposal)', 'IWU Transport', 'IWU Generalized (1) Services building', 'IWU Generalized (2) Production buildings']\n",
      "Current usage: IWU Transport\n",
      "Creating building AB\n",
      "Creating building AB\n"
     ]
    },
    {
     "name": "stderr",
     "output_type": "stream",
     "text": [
      "c:\\Users\\felix\\Programmieren\\districtgenerator\\.venv\\Lib\\site-packages\\teaser\\logic\\buildingobjects\\useconditions.py:363: FutureWarning: 'H' is deprecated and will be removed in a future version, please use 'h' instead.\n",
      "  index=pd.date_range(\"2019-01-01 00:00:00\", periods=8760, freq=\"H\")\n",
      "c:\\Users\\felix\\Programmieren\\districtgenerator\\.venv\\Lib\\site-packages\\teaser\\logic\\buildingobjects\\useconditions.py:363: FutureWarning: 'H' is deprecated and will be removed in a future version, please use 'h' instead.\n",
      "  index=pd.date_range(\"2019-01-01 00:00:00\", periods=8760, freq=\"H\")\n"
     ]
    },
    {
     "name": "stdout",
     "output_type": "stream",
     "text": [
      "Creating building AB\n",
      "Creating building AB\n"
     ]
    },
    {
     "name": "stderr",
     "output_type": "stream",
     "text": [
      "c:\\Users\\felix\\Programmieren\\districtgenerator\\.venv\\Lib\\site-packages\\teaser\\logic\\buildingobjects\\useconditions.py:363: FutureWarning: 'H' is deprecated and will be removed in a future version, please use 'h' instead.\n",
      "  index=pd.date_range(\"2019-01-01 00:00:00\", periods=8760, freq=\"H\")\n",
      "c:\\Users\\felix\\Programmieren\\districtgenerator\\.venv\\Lib\\site-packages\\teaser\\logic\\buildingobjects\\useconditions.py:363: FutureWarning: 'H' is deprecated and will be removed in a future version, please use 'h' instead.\n",
      "  index=pd.date_range(\"2019-01-01 00:00:00\", periods=8760, freq=\"H\")\n"
     ]
    },
    {
     "name": "stdout",
     "output_type": "stream",
     "text": [
      "Creating building AB\n",
      "Creating building AB\n"
     ]
    },
    {
     "name": "stderr",
     "output_type": "stream",
     "text": [
      "c:\\Users\\felix\\Programmieren\\districtgenerator\\.venv\\Lib\\site-packages\\teaser\\logic\\buildingobjects\\useconditions.py:363: FutureWarning: 'H' is deprecated and will be removed in a future version, please use 'h' instead.\n",
      "  index=pd.date_range(\"2019-01-01 00:00:00\", periods=8760, freq=\"H\")\n",
      "c:\\Users\\felix\\Programmieren\\districtgenerator\\.venv\\Lib\\site-packages\\teaser\\logic\\buildingobjects\\useconditions.py:363: FutureWarning: 'H' is deprecated and will be removed in a future version, please use 'h' instead.\n",
      "  index=pd.date_range(\"2019-01-01 00:00:00\", periods=8760, freq=\"H\")\n"
     ]
    },
    {
     "name": "stdout",
     "output_type": "stream",
     "text": [
      "Creating building AB\n",
      "Creating building IWU School, Day Nursery and other Care\n",
      "We are about to generate a Non Residential building.\n",
      "Available building types: ['IWU Office, Administrative or Government Buildings', 'IWU Research and University Teaching', 'IWU Health and Care', 'IWU School, Day Nursery and other Care', 'IWU Culture and Leisure', 'IWU Sports Facilities', 'IWU Hotels, Boarding, Restaurants or Catering', 'IWU Production, Workshop, Warehouse or Operations', 'IWU Trade Buildings', 'IWU Technical and Utility (supply and disposal)', 'IWU Transport', 'IWU Generalized (1) Services building', 'IWU Generalized (2) Production buildings']\n",
      "Current usage: IWU School, Day Nursery and other Care\n"
     ]
    },
    {
     "name": "stderr",
     "output_type": "stream",
     "text": [
      "c:\\Users\\felix\\Programmieren\\districtgenerator\\.venv\\Lib\\site-packages\\teaser\\logic\\buildingobjects\\useconditions.py:363: FutureWarning: 'H' is deprecated and will be removed in a future version, please use 'h' instead.\n",
      "  index=pd.date_range(\"2019-01-01 00:00:00\", periods=8760, freq=\"H\")\n"
     ]
    },
    {
     "name": "stdout",
     "output_type": "stream",
     "text": [
      "Creating building AB\n",
      "Creating building AB\n"
     ]
    },
    {
     "name": "stderr",
     "output_type": "stream",
     "text": [
      "c:\\Users\\felix\\Programmieren\\districtgenerator\\.venv\\Lib\\site-packages\\teaser\\logic\\buildingobjects\\useconditions.py:363: FutureWarning: 'H' is deprecated and will be removed in a future version, please use 'h' instead.\n",
      "  index=pd.date_range(\"2019-01-01 00:00:00\", periods=8760, freq=\"H\")\n",
      "c:\\Users\\felix\\Programmieren\\districtgenerator\\.venv\\Lib\\site-packages\\teaser\\logic\\buildingobjects\\useconditions.py:363: FutureWarning: 'H' is deprecated and will be removed in a future version, please use 'h' instead.\n",
      "  index=pd.date_range(\"2019-01-01 00:00:00\", periods=8760, freq=\"H\")\n"
     ]
    },
    {
     "name": "stdout",
     "output_type": "stream",
     "text": [
      "Creating building IWU Transport\n",
      "We are about to generate a Non Residential building.\n",
      "Available building types: ['IWU Office, Administrative or Government Buildings', 'IWU Research and University Teaching', 'IWU Health and Care', 'IWU School, Day Nursery and other Care', 'IWU Culture and Leisure', 'IWU Sports Facilities', 'IWU Hotels, Boarding, Restaurants or Catering', 'IWU Production, Workshop, Warehouse or Operations', 'IWU Trade Buildings', 'IWU Technical and Utility (supply and disposal)', 'IWU Transport', 'IWU Generalized (1) Services building', 'IWU Generalized (2) Production buildings']\n",
      "Current usage: IWU Transport\n",
      "Creating building AB\n"
     ]
    },
    {
     "name": "stderr",
     "output_type": "stream",
     "text": [
      "c:\\Users\\felix\\Programmieren\\districtgenerator\\.venv\\Lib\\site-packages\\teaser\\logic\\buildingobjects\\useconditions.py:363: FutureWarning: 'H' is deprecated and will be removed in a future version, please use 'h' instead.\n",
      "  index=pd.date_range(\"2019-01-01 00:00:00\", periods=8760, freq=\"H\")\n",
      "c:\\Users\\felix\\Programmieren\\districtgenerator\\.venv\\Lib\\site-packages\\teaser\\logic\\buildingobjects\\useconditions.py:363: FutureWarning: 'H' is deprecated and will be removed in a future version, please use 'h' instead.\n",
      "  index=pd.date_range(\"2019-01-01 00:00:00\", periods=8760, freq=\"H\")\n"
     ]
    },
    {
     "name": "stdout",
     "output_type": "stream",
     "text": [
      "Creating building AB\n",
      "Creating building IWU Transport\n",
      "We are about to generate a Non Residential building.\n",
      "Available building types: ['IWU Office, Administrative or Government Buildings', 'IWU Research and University Teaching', 'IWU Health and Care', 'IWU School, Day Nursery and other Care', 'IWU Culture and Leisure', 'IWU Sports Facilities', 'IWU Hotels, Boarding, Restaurants or Catering', 'IWU Production, Workshop, Warehouse or Operations', 'IWU Trade Buildings', 'IWU Technical and Utility (supply and disposal)', 'IWU Transport', 'IWU Generalized (1) Services building', 'IWU Generalized (2) Production buildings']\n",
      "Current usage: IWU Transport\n",
      "Creating building IWU School, Day Nursery and other Care\n",
      "We are about to generate a Non Residential building.\n",
      "Available building types: ['IWU Office, Administrative or Government Buildings', 'IWU Research and University Teaching', 'IWU Health and Care', 'IWU School, Day Nursery and other Care', 'IWU Culture and Leisure', 'IWU Sports Facilities', 'IWU Hotels, Boarding, Restaurants or Catering', 'IWU Production, Workshop, Warehouse or Operations', 'IWU Trade Buildings', 'IWU Technical and Utility (supply and disposal)', 'IWU Transport', 'IWU Generalized (1) Services building', 'IWU Generalized (2) Production buildings']\n",
      "Current usage: IWU School, Day Nursery and other Care\n",
      "Creating building AB\n"
     ]
    },
    {
     "name": "stderr",
     "output_type": "stream",
     "text": [
      "c:\\Users\\felix\\Programmieren\\districtgenerator\\.venv\\Lib\\site-packages\\teaser\\logic\\buildingobjects\\useconditions.py:363: FutureWarning: 'H' is deprecated and will be removed in a future version, please use 'h' instead.\n",
      "  index=pd.date_range(\"2019-01-01 00:00:00\", periods=8760, freq=\"H\")\n"
     ]
    },
    {
     "name": "stdout",
     "output_type": "stream",
     "text": [
      "Creating building IWU Office, Administrative or Government Buildings\n",
      "We are about to generate a Non Residential building.\n",
      "Available building types: ['IWU Office, Administrative or Government Buildings', 'IWU Research and University Teaching', 'IWU Health and Care', 'IWU School, Day Nursery and other Care', 'IWU Culture and Leisure', 'IWU Sports Facilities', 'IWU Hotels, Boarding, Restaurants or Catering', 'IWU Production, Workshop, Warehouse or Operations', 'IWU Trade Buildings', 'IWU Technical and Utility (supply and disposal)', 'IWU Transport', 'IWU Generalized (1) Services building', 'IWU Generalized (2) Production buildings']\n",
      "Current usage: IWU Office, Administrative or Government Buildings\n",
      "Creating building AB\n"
     ]
    },
    {
     "name": "stderr",
     "output_type": "stream",
     "text": [
      "c:\\Users\\felix\\Programmieren\\districtgenerator\\.venv\\Lib\\site-packages\\teaser\\logic\\buildingobjects\\useconditions.py:363: FutureWarning: 'H' is deprecated and will be removed in a future version, please use 'h' instead.\n",
      "  index=pd.date_range(\"2019-01-01 00:00:00\", periods=8760, freq=\"H\")\n"
     ]
    },
    {
     "name": "stdout",
     "output_type": "stream",
     "text": [
      "Creating building AB\n"
     ]
    },
    {
     "name": "stderr",
     "output_type": "stream",
     "text": [
      "c:\\Users\\felix\\Programmieren\\districtgenerator\\.venv\\Lib\\site-packages\\teaser\\logic\\buildingobjects\\useconditions.py:363: FutureWarning: 'H' is deprecated and will be removed in a future version, please use 'h' instead.\n",
      "  index=pd.date_range(\"2019-01-01 00:00:00\", periods=8760, freq=\"H\")\n"
     ]
    },
    {
     "name": "stdout",
     "output_type": "stream",
     "text": [
      "Creating building AB\n",
      "Creating building AB\n"
     ]
    },
    {
     "name": "stderr",
     "output_type": "stream",
     "text": [
      "c:\\Users\\felix\\Programmieren\\districtgenerator\\.venv\\Lib\\site-packages\\teaser\\logic\\buildingobjects\\useconditions.py:363: FutureWarning: 'H' is deprecated and will be removed in a future version, please use 'h' instead.\n",
      "  index=pd.date_range(\"2019-01-01 00:00:00\", periods=8760, freq=\"H\")\n",
      "c:\\Users\\felix\\Programmieren\\districtgenerator\\.venv\\Lib\\site-packages\\teaser\\logic\\buildingobjects\\useconditions.py:363: FutureWarning: 'H' is deprecated and will be removed in a future version, please use 'h' instead.\n",
      "  index=pd.date_range(\"2019-01-01 00:00:00\", periods=8760, freq=\"H\")\n"
     ]
    },
    {
     "name": "stdout",
     "output_type": "stream",
     "text": [
      "Creating building AB\n",
      "Creating building AB\n"
     ]
    },
    {
     "name": "stderr",
     "output_type": "stream",
     "text": [
      "c:\\Users\\felix\\Programmieren\\districtgenerator\\.venv\\Lib\\site-packages\\teaser\\logic\\buildingobjects\\useconditions.py:363: FutureWarning: 'H' is deprecated and will be removed in a future version, please use 'h' instead.\n",
      "  index=pd.date_range(\"2019-01-01 00:00:00\", periods=8760, freq=\"H\")\n",
      "c:\\Users\\felix\\Programmieren\\districtgenerator\\.venv\\Lib\\site-packages\\teaser\\logic\\buildingobjects\\useconditions.py:363: FutureWarning: 'H' is deprecated and will be removed in a future version, please use 'h' instead.\n",
      "  index=pd.date_range(\"2019-01-01 00:00:00\", periods=8760, freq=\"H\")\n"
     ]
    },
    {
     "name": "stdout",
     "output_type": "stream",
     "text": [
      "Creating building AB\n",
      "Creating building IWU Technical and Utility (supply and disposal)\n",
      "We are about to generate a Non Residential building.\n",
      "Available building types: ['IWU Office, Administrative or Government Buildings', 'IWU Research and University Teaching', 'IWU Health and Care', 'IWU School, Day Nursery and other Care', 'IWU Culture and Leisure', 'IWU Sports Facilities', 'IWU Hotels, Boarding, Restaurants or Catering', 'IWU Production, Workshop, Warehouse or Operations', 'IWU Trade Buildings', 'IWU Technical and Utility (supply and disposal)', 'IWU Transport', 'IWU Generalized (1) Services building', 'IWU Generalized (2) Production buildings']\n",
      "Current usage: IWU Technical and Utility (supply and disposal)\n"
     ]
    },
    {
     "name": "stderr",
     "output_type": "stream",
     "text": [
      "c:\\Users\\felix\\Programmieren\\districtgenerator\\.venv\\Lib\\site-packages\\teaser\\logic\\buildingobjects\\useconditions.py:363: FutureWarning: 'H' is deprecated and will be removed in a future version, please use 'h' instead.\n",
      "  index=pd.date_range(\"2019-01-01 00:00:00\", periods=8760, freq=\"H\")\n"
     ]
    },
    {
     "name": "stdout",
     "output_type": "stream",
     "text": [
      "Creating building AB\n",
      "Creating building AB\n"
     ]
    },
    {
     "name": "stderr",
     "output_type": "stream",
     "text": [
      "c:\\Users\\felix\\Programmieren\\districtgenerator\\.venv\\Lib\\site-packages\\teaser\\logic\\buildingobjects\\useconditions.py:363: FutureWarning: 'H' is deprecated and will be removed in a future version, please use 'h' instead.\n",
      "  index=pd.date_range(\"2019-01-01 00:00:00\", periods=8760, freq=\"H\")\n",
      "c:\\Users\\felix\\Programmieren\\districtgenerator\\.venv\\Lib\\site-packages\\teaser\\logic\\buildingobjects\\useconditions.py:363: FutureWarning: 'H' is deprecated and will be removed in a future version, please use 'h' instead.\n",
      "  index=pd.date_range(\"2019-01-01 00:00:00\", periods=8760, freq=\"H\")\n"
     ]
    },
    {
     "name": "stdout",
     "output_type": "stream",
     "text": [
      "Creating building AB\n"
     ]
    },
    {
     "name": "stderr",
     "output_type": "stream",
     "text": [
      "c:\\Users\\felix\\Programmieren\\districtgenerator\\.venv\\Lib\\site-packages\\teaser\\logic\\buildingobjects\\useconditions.py:363: FutureWarning: 'H' is deprecated and will be removed in a future version, please use 'h' instead.\n",
      "  index=pd.date_range(\"2019-01-01 00:00:00\", periods=8760, freq=\"H\")\n"
     ]
    },
    {
     "name": "stdout",
     "output_type": "stream",
     "text": [
      "Creating building AB\n"
     ]
    },
    {
     "name": "stderr",
     "output_type": "stream",
     "text": [
      "c:\\Users\\felix\\Programmieren\\districtgenerator\\.venv\\Lib\\site-packages\\teaser\\logic\\buildingobjects\\useconditions.py:363: FutureWarning: 'H' is deprecated and will be removed in a future version, please use 'h' instead.\n",
      "  index=pd.date_range(\"2019-01-01 00:00:00\", periods=8760, freq=\"H\")\n"
     ]
    },
    {
     "name": "stdout",
     "output_type": "stream",
     "text": [
      "Creating building AB\n",
      "Creating building IWU School, Day Nursery and other Care\n",
      "We are about to generate a Non Residential building.\n",
      "Available building types: ['IWU Office, Administrative or Government Buildings', 'IWU Research and University Teaching', 'IWU Health and Care', 'IWU School, Day Nursery and other Care', 'IWU Culture and Leisure', 'IWU Sports Facilities', 'IWU Hotels, Boarding, Restaurants or Catering', 'IWU Production, Workshop, Warehouse or Operations', 'IWU Trade Buildings', 'IWU Technical and Utility (supply and disposal)', 'IWU Transport', 'IWU Generalized (1) Services building', 'IWU Generalized (2) Production buildings']\n",
      "Current usage: IWU School, Day Nursery and other Care\n"
     ]
    },
    {
     "name": "stderr",
     "output_type": "stream",
     "text": [
      "c:\\Users\\felix\\Programmieren\\districtgenerator\\.venv\\Lib\\site-packages\\teaser\\logic\\buildingobjects\\useconditions.py:363: FutureWarning: 'H' is deprecated and will be removed in a future version, please use 'h' instead.\n",
      "  index=pd.date_range(\"2019-01-01 00:00:00\", periods=8760, freq=\"H\")\n"
     ]
    },
    {
     "name": "stdout",
     "output_type": "stream",
     "text": [
      "Creating building AB\n"
     ]
    },
    {
     "name": "stderr",
     "output_type": "stream",
     "text": [
      "c:\\Users\\felix\\Programmieren\\districtgenerator\\.venv\\Lib\\site-packages\\teaser\\logic\\buildingobjects\\useconditions.py:363: FutureWarning: 'H' is deprecated and will be removed in a future version, please use 'h' instead.\n",
      "  index=pd.date_range(\"2019-01-01 00:00:00\", periods=8760, freq=\"H\")\n"
     ]
    },
    {
     "name": "stdout",
     "output_type": "stream",
     "text": [
      "Creating building AB\n"
     ]
    },
    {
     "name": "stderr",
     "output_type": "stream",
     "text": [
      "c:\\Users\\felix\\Programmieren\\districtgenerator\\.venv\\Lib\\site-packages\\teaser\\logic\\buildingobjects\\useconditions.py:363: FutureWarning: 'H' is deprecated and will be removed in a future version, please use 'h' instead.\n",
      "  index=pd.date_range(\"2019-01-01 00:00:00\", periods=8760, freq=\"H\")\n"
     ]
    },
    {
     "name": "stdout",
     "output_type": "stream",
     "text": [
      "Creating building MFH\n",
      "Creating building MFH\n"
     ]
    },
    {
     "name": "stderr",
     "output_type": "stream",
     "text": [
      "c:\\Users\\felix\\Programmieren\\districtgenerator\\.venv\\Lib\\site-packages\\teaser\\logic\\buildingobjects\\useconditions.py:363: FutureWarning: 'H' is deprecated and will be removed in a future version, please use 'h' instead.\n",
      "  index=pd.date_range(\"2019-01-01 00:00:00\", periods=8760, freq=\"H\")\n",
      "c:\\Users\\felix\\Programmieren\\districtgenerator\\.venv\\Lib\\site-packages\\teaser\\logic\\buildingobjects\\useconditions.py:363: FutureWarning: 'H' is deprecated and will be removed in a future version, please use 'h' instead.\n",
      "  index=pd.date_range(\"2019-01-01 00:00:00\", periods=8760, freq=\"H\")\n"
     ]
    },
    {
     "name": "stdout",
     "output_type": "stream",
     "text": [
      "Creating building MFH\n",
      "Creating building IWU Transport\n",
      "We are about to generate a Non Residential building.\n",
      "Available building types: ['IWU Office, Administrative or Government Buildings', 'IWU Research and University Teaching', 'IWU Health and Care', 'IWU School, Day Nursery and other Care', 'IWU Culture and Leisure', 'IWU Sports Facilities', 'IWU Hotels, Boarding, Restaurants or Catering', 'IWU Production, Workshop, Warehouse or Operations', 'IWU Trade Buildings', 'IWU Technical and Utility (supply and disposal)', 'IWU Transport', 'IWU Generalized (1) Services building', 'IWU Generalized (2) Production buildings']\n",
      "Current usage: IWU Transport\n"
     ]
    },
    {
     "name": "stderr",
     "output_type": "stream",
     "text": [
      "c:\\Users\\felix\\Programmieren\\districtgenerator\\.venv\\Lib\\site-packages\\teaser\\logic\\buildingobjects\\useconditions.py:363: FutureWarning: 'H' is deprecated and will be removed in a future version, please use 'h' instead.\n",
      "  index=pd.date_range(\"2019-01-01 00:00:00\", periods=8760, freq=\"H\")\n"
     ]
    },
    {
     "name": "stdout",
     "output_type": "stream",
     "text": [
      "Creating building TH\n",
      "Creating building AB\n"
     ]
    },
    {
     "name": "stderr",
     "output_type": "stream",
     "text": [
      "c:\\Users\\felix\\Programmieren\\districtgenerator\\.venv\\Lib\\site-packages\\teaser\\logic\\buildingobjects\\useconditions.py:363: FutureWarning: 'H' is deprecated and will be removed in a future version, please use 'h' instead.\n",
      "  index=pd.date_range(\"2019-01-01 00:00:00\", periods=8760, freq=\"H\")\n",
      "c:\\Users\\felix\\Programmieren\\districtgenerator\\.venv\\Lib\\site-packages\\teaser\\logic\\buildingobjects\\useconditions.py:363: FutureWarning: 'H' is deprecated and will be removed in a future version, please use 'h' instead.\n",
      "  index=pd.date_range(\"2019-01-01 00:00:00\", periods=8760, freq=\"H\")\n"
     ]
    },
    {
     "name": "stdout",
     "output_type": "stream",
     "text": [
      "Creating building MFH\n",
      "Creating building IWU Transport\n",
      "We are about to generate a Non Residential building.\n",
      "Available building types: ['IWU Office, Administrative or Government Buildings', 'IWU Research and University Teaching', 'IWU Health and Care', 'IWU School, Day Nursery and other Care', 'IWU Culture and Leisure', 'IWU Sports Facilities', 'IWU Hotels, Boarding, Restaurants or Catering', 'IWU Production, Workshop, Warehouse or Operations', 'IWU Trade Buildings', 'IWU Technical and Utility (supply and disposal)', 'IWU Transport', 'IWU Generalized (1) Services building', 'IWU Generalized (2) Production buildings']\n",
      "Current usage: IWU Transport\n"
     ]
    },
    {
     "name": "stderr",
     "output_type": "stream",
     "text": [
      "c:\\Users\\felix\\Programmieren\\districtgenerator\\.venv\\Lib\\site-packages\\teaser\\logic\\buildingobjects\\useconditions.py:363: FutureWarning: 'H' is deprecated and will be removed in a future version, please use 'h' instead.\n",
      "  index=pd.date_range(\"2019-01-01 00:00:00\", periods=8760, freq=\"H\")\n"
     ]
    },
    {
     "name": "stdout",
     "output_type": "stream",
     "text": [
      "Creating building MFH\n",
      "Creating building MFH\n"
     ]
    },
    {
     "name": "stderr",
     "output_type": "stream",
     "text": [
      "c:\\Users\\felix\\Programmieren\\districtgenerator\\.venv\\Lib\\site-packages\\teaser\\logic\\buildingobjects\\useconditions.py:363: FutureWarning: 'H' is deprecated and will be removed in a future version, please use 'h' instead.\n",
      "  index=pd.date_range(\"2019-01-01 00:00:00\", periods=8760, freq=\"H\")\n",
      "c:\\Users\\felix\\Programmieren\\districtgenerator\\.venv\\Lib\\site-packages\\teaser\\logic\\buildingobjects\\useconditions.py:363: FutureWarning: 'H' is deprecated and will be removed in a future version, please use 'h' instead.\n",
      "  index=pd.date_range(\"2019-01-01 00:00:00\", periods=8760, freq=\"H\")\n"
     ]
    },
    {
     "name": "stdout",
     "output_type": "stream",
     "text": [
      "Creating building IWU Office, Administrative or Government Buildings\n",
      "We are about to generate a Non Residential building.\n",
      "Available building types: ['IWU Office, Administrative or Government Buildings', 'IWU Research and University Teaching', 'IWU Health and Care', 'IWU School, Day Nursery and other Care', 'IWU Culture and Leisure', 'IWU Sports Facilities', 'IWU Hotels, Boarding, Restaurants or Catering', 'IWU Production, Workshop, Warehouse or Operations', 'IWU Trade Buildings', 'IWU Technical and Utility (supply and disposal)', 'IWU Transport', 'IWU Generalized (1) Services building', 'IWU Generalized (2) Production buildings']\n",
      "Current usage: IWU Office, Administrative or Government Buildings\n",
      "Creating building IWU Production, Workshop, Warehouse or Operations\n",
      "We are about to generate a Non Residential building.\n",
      "Available building types: ['IWU Office, Administrative or Government Buildings', 'IWU Research and University Teaching', 'IWU Health and Care', 'IWU School, Day Nursery and other Care', 'IWU Culture and Leisure', 'IWU Sports Facilities', 'IWU Hotels, Boarding, Restaurants or Catering', 'IWU Production, Workshop, Warehouse or Operations', 'IWU Trade Buildings', 'IWU Technical and Utility (supply and disposal)', 'IWU Transport', 'IWU Generalized (1) Services building', 'IWU Generalized (2) Production buildings']\n",
      "Current usage: IWU Production, Workshop, Warehouse or Operations\n",
      "No data about lighntning control available for IWU Production, Workshop, Warehouse or Operations and data type Technical and Utility Buildings (supply and disposal)Gewerbliche und industrielle Hallen (mittelschwere Arbeit, überw. stehende Tätigkeit)\n",
      "Creating building MFH\n",
      "Creating building AB\n"
     ]
    },
    {
     "name": "stderr",
     "output_type": "stream",
     "text": [
      "c:\\Users\\felix\\Programmieren\\districtgenerator\\.venv\\Lib\\site-packages\\teaser\\logic\\buildingobjects\\useconditions.py:363: FutureWarning: 'H' is deprecated and will be removed in a future version, please use 'h' instead.\n",
      "  index=pd.date_range(\"2019-01-01 00:00:00\", periods=8760, freq=\"H\")\n",
      "c:\\Users\\felix\\Programmieren\\districtgenerator\\.venv\\Lib\\site-packages\\teaser\\logic\\buildingobjects\\useconditions.py:363: FutureWarning: 'H' is deprecated and will be removed in a future version, please use 'h' instead.\n",
      "  index=pd.date_range(\"2019-01-01 00:00:00\", periods=8760, freq=\"H\")\n"
     ]
    },
    {
     "name": "stdout",
     "output_type": "stream",
     "text": [
      "Creating building AB\n",
      "Creating building MFH\n"
     ]
    },
    {
     "name": "stderr",
     "output_type": "stream",
     "text": [
      "c:\\Users\\felix\\Programmieren\\districtgenerator\\.venv\\Lib\\site-packages\\teaser\\logic\\buildingobjects\\useconditions.py:363: FutureWarning: 'H' is deprecated and will be removed in a future version, please use 'h' instead.\n",
      "  index=pd.date_range(\"2019-01-01 00:00:00\", periods=8760, freq=\"H\")\n",
      "c:\\Users\\felix\\Programmieren\\districtgenerator\\.venv\\Lib\\site-packages\\teaser\\logic\\buildingobjects\\useconditions.py:363: FutureWarning: 'H' is deprecated and will be removed in a future version, please use 'h' instead.\n",
      "  index=pd.date_range(\"2019-01-01 00:00:00\", periods=8760, freq=\"H\")\n"
     ]
    },
    {
     "name": "stdout",
     "output_type": "stream",
     "text": [
      "Creating building MFH\n",
      "Creating building MFH\n"
     ]
    },
    {
     "name": "stderr",
     "output_type": "stream",
     "text": [
      "c:\\Users\\felix\\Programmieren\\districtgenerator\\.venv\\Lib\\site-packages\\teaser\\logic\\buildingobjects\\useconditions.py:363: FutureWarning: 'H' is deprecated and will be removed in a future version, please use 'h' instead.\n",
      "  index=pd.date_range(\"2019-01-01 00:00:00\", periods=8760, freq=\"H\")\n",
      "c:\\Users\\felix\\Programmieren\\districtgenerator\\.venv\\Lib\\site-packages\\teaser\\logic\\buildingobjects\\useconditions.py:363: FutureWarning: 'H' is deprecated and will be removed in a future version, please use 'h' instead.\n",
      "  index=pd.date_range(\"2019-01-01 00:00:00\", periods=8760, freq=\"H\")\n"
     ]
    },
    {
     "name": "stdout",
     "output_type": "stream",
     "text": [
      "Creating building AB\n",
      "Creating building AB\n"
     ]
    },
    {
     "name": "stderr",
     "output_type": "stream",
     "text": [
      "c:\\Users\\felix\\Programmieren\\districtgenerator\\.venv\\Lib\\site-packages\\teaser\\logic\\buildingobjects\\useconditions.py:363: FutureWarning: 'H' is deprecated and will be removed in a future version, please use 'h' instead.\n",
      "  index=pd.date_range(\"2019-01-01 00:00:00\", periods=8760, freq=\"H\")\n",
      "c:\\Users\\felix\\Programmieren\\districtgenerator\\.venv\\Lib\\site-packages\\teaser\\logic\\buildingobjects\\useconditions.py:363: FutureWarning: 'H' is deprecated and will be removed in a future version, please use 'h' instead.\n",
      "  index=pd.date_range(\"2019-01-01 00:00:00\", periods=8760, freq=\"H\")\n"
     ]
    },
    {
     "name": "stdout",
     "output_type": "stream",
     "text": [
      "Creating building MFH\n",
      "Creating building IWU Production, Workshop, Warehouse or Operations\n",
      "We are about to generate a Non Residential building.\n",
      "Available building types: ['IWU Office, Administrative or Government Buildings', 'IWU Research and University Teaching', 'IWU Health and Care', 'IWU School, Day Nursery and other Care', 'IWU Culture and Leisure', 'IWU Sports Facilities', 'IWU Hotels, Boarding, Restaurants or Catering', 'IWU Production, Workshop, Warehouse or Operations', 'IWU Trade Buildings', 'IWU Technical and Utility (supply and disposal)', 'IWU Transport', 'IWU Generalized (1) Services building', 'IWU Generalized (2) Production buildings']\n",
      "Current usage: IWU Production, Workshop, Warehouse or Operations\n"
     ]
    },
    {
     "name": "stderr",
     "output_type": "stream",
     "text": [
      "c:\\Users\\felix\\Programmieren\\districtgenerator\\.venv\\Lib\\site-packages\\teaser\\logic\\buildingobjects\\useconditions.py:363: FutureWarning: 'H' is deprecated and will be removed in a future version, please use 'h' instead.\n",
      "  index=pd.date_range(\"2019-01-01 00:00:00\", periods=8760, freq=\"H\")\n"
     ]
    },
    {
     "name": "stdout",
     "output_type": "stream",
     "text": [
      "No data about lighntning control available for IWU Production, Workshop, Warehouse or Operations and data type Technical and Utility Buildings (supply and disposal)Gewerbliche und industrielle Hallen (mittelschwere Arbeit, überw. stehende Tätigkeit)\n",
      "Creating building MFH\n"
     ]
    },
    {
     "name": "stderr",
     "output_type": "stream",
     "text": [
      "c:\\Users\\felix\\Programmieren\\districtgenerator\\.venv\\Lib\\site-packages\\teaser\\logic\\buildingobjects\\useconditions.py:363: FutureWarning: 'H' is deprecated and will be removed in a future version, please use 'h' instead.\n",
      "  index=pd.date_range(\"2019-01-01 00:00:00\", periods=8760, freq=\"H\")\n"
     ]
    },
    {
     "name": "stdout",
     "output_type": "stream",
     "text": [
      "Creating building AB\n"
     ]
    },
    {
     "name": "stderr",
     "output_type": "stream",
     "text": [
      "c:\\Users\\felix\\Programmieren\\districtgenerator\\.venv\\Lib\\site-packages\\teaser\\logic\\buildingobjects\\useconditions.py:363: FutureWarning: 'H' is deprecated and will be removed in a future version, please use 'h' instead.\n",
      "  index=pd.date_range(\"2019-01-01 00:00:00\", periods=8760, freq=\"H\")\n"
     ]
    },
    {
     "name": "stdout",
     "output_type": "stream",
     "text": [
      "Creating building IWU Production, Workshop, Warehouse or Operations\n",
      "We are about to generate a Non Residential building.\n",
      "Available building types: ['IWU Office, Administrative or Government Buildings', 'IWU Research and University Teaching', 'IWU Health and Care', 'IWU School, Day Nursery and other Care', 'IWU Culture and Leisure', 'IWU Sports Facilities', 'IWU Hotels, Boarding, Restaurants or Catering', 'IWU Production, Workshop, Warehouse or Operations', 'IWU Trade Buildings', 'IWU Technical and Utility (supply and disposal)', 'IWU Transport', 'IWU Generalized (1) Services building', 'IWU Generalized (2) Production buildings']\n",
      "Current usage: IWU Production, Workshop, Warehouse or Operations\n",
      "No data about lighntning control available for IWU Production, Workshop, Warehouse or Operations and data type Technical and Utility Buildings (supply and disposal)Gewerbliche und industrielle Hallen (mittelschwere Arbeit, überw. stehende Tätigkeit)\n",
      "Creating building MFH\n"
     ]
    },
    {
     "name": "stderr",
     "output_type": "stream",
     "text": [
      "c:\\Users\\felix\\Programmieren\\districtgenerator\\.venv\\Lib\\site-packages\\teaser\\logic\\buildingobjects\\useconditions.py:363: FutureWarning: 'H' is deprecated and will be removed in a future version, please use 'h' instead.\n",
      "  index=pd.date_range(\"2019-01-01 00:00:00\", periods=8760, freq=\"H\")\n",
      "c:\\Users\\felix\\Programmieren\\districtgenerator\\.venv\\Lib\\site-packages\\teaser\\logic\\buildingobjects\\useconditions.py:363: FutureWarning: 'H' is deprecated and will be removed in a future version, please use 'h' instead.\n",
      "  index=pd.date_range(\"2019-01-01 00:00:00\", periods=8760, freq=\"H\")\n"
     ]
    },
    {
     "name": "stdout",
     "output_type": "stream",
     "text": [
      "Creating building MFH\n",
      "Creating building MFH\n"
     ]
    },
    {
     "name": "stderr",
     "output_type": "stream",
     "text": [
      "c:\\Users\\felix\\Programmieren\\districtgenerator\\.venv\\Lib\\site-packages\\teaser\\logic\\buildingobjects\\useconditions.py:363: FutureWarning: 'H' is deprecated and will be removed in a future version, please use 'h' instead.\n",
      "  index=pd.date_range(\"2019-01-01 00:00:00\", periods=8760, freq=\"H\")\n",
      "c:\\Users\\felix\\Programmieren\\districtgenerator\\.venv\\Lib\\site-packages\\teaser\\logic\\buildingobjects\\useconditions.py:363: FutureWarning: 'H' is deprecated and will be removed in a future version, please use 'h' instead.\n",
      "  index=pd.date_range(\"2019-01-01 00:00:00\", periods=8760, freq=\"H\")\n"
     ]
    },
    {
     "name": "stdout",
     "output_type": "stream",
     "text": [
      "Creating building MFH\n",
      "Creating building MFH\n"
     ]
    },
    {
     "name": "stderr",
     "output_type": "stream",
     "text": [
      "c:\\Users\\felix\\Programmieren\\districtgenerator\\.venv\\Lib\\site-packages\\teaser\\logic\\buildingobjects\\useconditions.py:363: FutureWarning: 'H' is deprecated and will be removed in a future version, please use 'h' instead.\n",
      "  index=pd.date_range(\"2019-01-01 00:00:00\", periods=8760, freq=\"H\")\n",
      "c:\\Users\\felix\\Programmieren\\districtgenerator\\.venv\\Lib\\site-packages\\teaser\\logic\\buildingobjects\\useconditions.py:363: FutureWarning: 'H' is deprecated and will be removed in a future version, please use 'h' instead.\n",
      "  index=pd.date_range(\"2019-01-01 00:00:00\", periods=8760, freq=\"H\")\n"
     ]
    },
    {
     "name": "stdout",
     "output_type": "stream",
     "text": [
      "Creating building MFH\n",
      "Creating building MFH\n"
     ]
    },
    {
     "name": "stderr",
     "output_type": "stream",
     "text": [
      "c:\\Users\\felix\\Programmieren\\districtgenerator\\.venv\\Lib\\site-packages\\teaser\\logic\\buildingobjects\\useconditions.py:363: FutureWarning: 'H' is deprecated and will be removed in a future version, please use 'h' instead.\n",
      "  index=pd.date_range(\"2019-01-01 00:00:00\", periods=8760, freq=\"H\")\n"
     ]
    },
    {
     "name": "stdout",
     "output_type": "stream",
     "text": [
      "Creating building IWU Transport\n",
      "We are about to generate a Non Residential building.\n",
      "Available building types: ['IWU Office, Administrative or Government Buildings', 'IWU Research and University Teaching', 'IWU Health and Care', 'IWU School, Day Nursery and other Care', 'IWU Culture and Leisure', 'IWU Sports Facilities', 'IWU Hotels, Boarding, Restaurants or Catering', 'IWU Production, Workshop, Warehouse or Operations', 'IWU Trade Buildings', 'IWU Technical and Utility (supply and disposal)', 'IWU Transport', 'IWU Generalized (1) Services building', 'IWU Generalized (2) Production buildings']\n",
      "Current usage: IWU Transport\n",
      "Creating building MFH\n"
     ]
    },
    {
     "name": "stderr",
     "output_type": "stream",
     "text": [
      "c:\\Users\\felix\\Programmieren\\districtgenerator\\.venv\\Lib\\site-packages\\teaser\\logic\\buildingobjects\\useconditions.py:363: FutureWarning: 'H' is deprecated and will be removed in a future version, please use 'h' instead.\n",
      "  index=pd.date_range(\"2019-01-01 00:00:00\", periods=8760, freq=\"H\")\n",
      "c:\\Users\\felix\\Programmieren\\districtgenerator\\.venv\\Lib\\site-packages\\teaser\\logic\\buildingobjects\\useconditions.py:363: FutureWarning: 'H' is deprecated and will be removed in a future version, please use 'h' instead.\n",
      "  index=pd.date_range(\"2019-01-01 00:00:00\", periods=8760, freq=\"H\")\n"
     ]
    },
    {
     "name": "stdout",
     "output_type": "stream",
     "text": [
      "Creating building AB\n",
      "Creating building AB\n"
     ]
    },
    {
     "name": "stderr",
     "output_type": "stream",
     "text": [
      "c:\\Users\\felix\\Programmieren\\districtgenerator\\.venv\\Lib\\site-packages\\teaser\\logic\\buildingobjects\\useconditions.py:363: FutureWarning: 'H' is deprecated and will be removed in a future version, please use 'h' instead.\n",
      "  index=pd.date_range(\"2019-01-01 00:00:00\", periods=8760, freq=\"H\")\n",
      "c:\\Users\\felix\\Programmieren\\districtgenerator\\.venv\\Lib\\site-packages\\teaser\\logic\\buildingobjects\\useconditions.py:363: FutureWarning: 'H' is deprecated and will be removed in a future version, please use 'h' instead.\n",
      "  index=pd.date_range(\"2019-01-01 00:00:00\", periods=8760, freq=\"H\")\n"
     ]
    },
    {
     "name": "stdout",
     "output_type": "stream",
     "text": [
      "Creating building MFH\n",
      "Creating building IWU Transport\n",
      "We are about to generate a Non Residential building.\n",
      "Available building types: ['IWU Office, Administrative or Government Buildings', 'IWU Research and University Teaching', 'IWU Health and Care', 'IWU School, Day Nursery and other Care', 'IWU Culture and Leisure', 'IWU Sports Facilities', 'IWU Hotels, Boarding, Restaurants or Catering', 'IWU Production, Workshop, Warehouse or Operations', 'IWU Trade Buildings', 'IWU Technical and Utility (supply and disposal)', 'IWU Transport', 'IWU Generalized (1) Services building', 'IWU Generalized (2) Production buildings']\n",
      "Current usage: IWU Transport\n",
      "Creating building AB\n",
      "Creating building AB\n"
     ]
    },
    {
     "name": "stderr",
     "output_type": "stream",
     "text": [
      "c:\\Users\\felix\\Programmieren\\districtgenerator\\.venv\\Lib\\site-packages\\teaser\\logic\\buildingobjects\\useconditions.py:363: FutureWarning: 'H' is deprecated and will be removed in a future version, please use 'h' instead.\n",
      "  index=pd.date_range(\"2019-01-01 00:00:00\", periods=8760, freq=\"H\")\n",
      "c:\\Users\\felix\\Programmieren\\districtgenerator\\.venv\\Lib\\site-packages\\teaser\\logic\\buildingobjects\\useconditions.py:363: FutureWarning: 'H' is deprecated and will be removed in a future version, please use 'h' instead.\n",
      "  index=pd.date_range(\"2019-01-01 00:00:00\", periods=8760, freq=\"H\")\n"
     ]
    },
    {
     "name": "stdout",
     "output_type": "stream",
     "text": [
      "Creating building AB\n",
      "Creating building MFH\n"
     ]
    },
    {
     "name": "stderr",
     "output_type": "stream",
     "text": [
      "c:\\Users\\felix\\Programmieren\\districtgenerator\\.venv\\Lib\\site-packages\\teaser\\logic\\buildingobjects\\useconditions.py:363: FutureWarning: 'H' is deprecated and will be removed in a future version, please use 'h' instead.\n",
      "  index=pd.date_range(\"2019-01-01 00:00:00\", periods=8760, freq=\"H\")\n",
      "c:\\Users\\felix\\Programmieren\\districtgenerator\\.venv\\Lib\\site-packages\\teaser\\logic\\buildingobjects\\useconditions.py:363: FutureWarning: 'H' is deprecated and will be removed in a future version, please use 'h' instead.\n",
      "  index=pd.date_range(\"2019-01-01 00:00:00\", periods=8760, freq=\"H\")\n"
     ]
    },
    {
     "name": "stdout",
     "output_type": "stream",
     "text": [
      "Creating building AB\n",
      "Creating building AB\n"
     ]
    },
    {
     "name": "stderr",
     "output_type": "stream",
     "text": [
      "c:\\Users\\felix\\Programmieren\\districtgenerator\\.venv\\Lib\\site-packages\\teaser\\logic\\buildingobjects\\useconditions.py:363: FutureWarning: 'H' is deprecated and will be removed in a future version, please use 'h' instead.\n",
      "  index=pd.date_range(\"2019-01-01 00:00:00\", periods=8760, freq=\"H\")\n",
      "c:\\Users\\felix\\Programmieren\\districtgenerator\\.venv\\Lib\\site-packages\\teaser\\logic\\buildingobjects\\useconditions.py:363: FutureWarning: 'H' is deprecated and will be removed in a future version, please use 'h' instead.\n",
      "  index=pd.date_range(\"2019-01-01 00:00:00\", periods=8760, freq=\"H\")\n"
     ]
    },
    {
     "name": "stdout",
     "output_type": "stream",
     "text": [
      "Creating building MFH\n",
      "Creating building AB\n"
     ]
    },
    {
     "name": "stderr",
     "output_type": "stream",
     "text": [
      "c:\\Users\\felix\\Programmieren\\districtgenerator\\.venv\\Lib\\site-packages\\teaser\\logic\\buildingobjects\\useconditions.py:363: FutureWarning: 'H' is deprecated and will be removed in a future version, please use 'h' instead.\n",
      "  index=pd.date_range(\"2019-01-01 00:00:00\", periods=8760, freq=\"H\")\n",
      "c:\\Users\\felix\\Programmieren\\districtgenerator\\.venv\\Lib\\site-packages\\teaser\\logic\\buildingobjects\\useconditions.py:363: FutureWarning: 'H' is deprecated and will be removed in a future version, please use 'h' instead.\n",
      "  index=pd.date_range(\"2019-01-01 00:00:00\", periods=8760, freq=\"H\")\n"
     ]
    },
    {
     "name": "stdout",
     "output_type": "stream",
     "text": [
      "Creating building AB\n",
      "Creating building MFH\n"
     ]
    },
    {
     "name": "stderr",
     "output_type": "stream",
     "text": [
      "c:\\Users\\felix\\Programmieren\\districtgenerator\\.venv\\Lib\\site-packages\\teaser\\logic\\buildingobjects\\useconditions.py:363: FutureWarning: 'H' is deprecated and will be removed in a future version, please use 'h' instead.\n",
      "  index=pd.date_range(\"2019-01-01 00:00:00\", periods=8760, freq=\"H\")\n",
      "c:\\Users\\felix\\Programmieren\\districtgenerator\\.venv\\Lib\\site-packages\\teaser\\logic\\buildingobjects\\useconditions.py:363: FutureWarning: 'H' is deprecated and will be removed in a future version, please use 'h' instead.\n",
      "  index=pd.date_range(\"2019-01-01 00:00:00\", periods=8760, freq=\"H\")\n"
     ]
    },
    {
     "name": "stdout",
     "output_type": "stream",
     "text": [
      "Creating building IWU Production, Workshop, Warehouse or Operations\n",
      "We are about to generate a Non Residential building.\n",
      "Available building types: ['IWU Office, Administrative or Government Buildings', 'IWU Research and University Teaching', 'IWU Health and Care', 'IWU School, Day Nursery and other Care', 'IWU Culture and Leisure', 'IWU Sports Facilities', 'IWU Hotels, Boarding, Restaurants or Catering', 'IWU Production, Workshop, Warehouse or Operations', 'IWU Trade Buildings', 'IWU Technical and Utility (supply and disposal)', 'IWU Transport', 'IWU Generalized (1) Services building', 'IWU Generalized (2) Production buildings']\n",
      "Current usage: IWU Production, Workshop, Warehouse or Operations\n",
      "No data about lighntning control available for IWU Production, Workshop, Warehouse or Operations and data type Technical and Utility Buildings (supply and disposal)Gewerbliche und industrielle Hallen (mittelschwere Arbeit, überw. stehende Tätigkeit)\n",
      "Creating building MFH\n"
     ]
    },
    {
     "name": "stderr",
     "output_type": "stream",
     "text": [
      "c:\\Users\\felix\\Programmieren\\districtgenerator\\.venv\\Lib\\site-packages\\teaser\\logic\\buildingobjects\\useconditions.py:363: FutureWarning: 'H' is deprecated and will be removed in a future version, please use 'h' instead.\n",
      "  index=pd.date_range(\"2019-01-01 00:00:00\", periods=8760, freq=\"H\")\n"
     ]
    },
    {
     "name": "stdout",
     "output_type": "stream",
     "text": [
      "Creating building IWU Technical and Utility (supply and disposal)\n",
      "We are about to generate a Non Residential building.\n",
      "Available building types: ['IWU Office, Administrative or Government Buildings', 'IWU Research and University Teaching', 'IWU Health and Care', 'IWU School, Day Nursery and other Care', 'IWU Culture and Leisure', 'IWU Sports Facilities', 'IWU Hotels, Boarding, Restaurants or Catering', 'IWU Production, Workshop, Warehouse or Operations', 'IWU Trade Buildings', 'IWU Technical and Utility (supply and disposal)', 'IWU Transport', 'IWU Generalized (1) Services building', 'IWU Generalized (2) Production buildings']\n",
      "Current usage: IWU Technical and Utility (supply and disposal)\n",
      "Creating building MFH\n"
     ]
    },
    {
     "name": "stderr",
     "output_type": "stream",
     "text": [
      "c:\\Users\\felix\\Programmieren\\districtgenerator\\.venv\\Lib\\site-packages\\teaser\\logic\\buildingobjects\\useconditions.py:363: FutureWarning: 'H' is deprecated and will be removed in a future version, please use 'h' instead.\n",
      "  index=pd.date_range(\"2019-01-01 00:00:00\", periods=8760, freq=\"H\")\n",
      "c:\\Users\\felix\\Programmieren\\districtgenerator\\.venv\\Lib\\site-packages\\teaser\\logic\\buildingobjects\\useconditions.py:363: FutureWarning: 'H' is deprecated and will be removed in a future version, please use 'h' instead.\n",
      "  index=pd.date_range(\"2019-01-01 00:00:00\", periods=8760, freq=\"H\")\n",
      "c:\\Users\\felix\\Programmieren\\districtgenerator\\.venv\\Lib\\site-packages\\teaser\\logic\\buildingobjects\\useconditions.py:363: FutureWarning: 'H' is deprecated and will be removed in a future version, please use 'h' instead.\n",
      "  index=pd.date_range(\"2019-01-01 00:00:00\", periods=8760, freq=\"H\")\n"
     ]
    },
    {
     "name": "stdout",
     "output_type": "stream",
     "text": [
      "Creating building MFH\n",
      "Creating building MFH\n",
      "Creating building IWU Production, Workshop, Warehouse or Operations\n",
      "We are about to generate a Non Residential building.\n",
      "Available building types: ['IWU Office, Administrative or Government Buildings', 'IWU Research and University Teaching', 'IWU Health and Care', 'IWU School, Day Nursery and other Care', 'IWU Culture and Leisure', 'IWU Sports Facilities', 'IWU Hotels, Boarding, Restaurants or Catering', 'IWU Production, Workshop, Warehouse or Operations', 'IWU Trade Buildings', 'IWU Technical and Utility (supply and disposal)', 'IWU Transport', 'IWU Generalized (1) Services building', 'IWU Generalized (2) Production buildings']\n",
      "Current usage: IWU Production, Workshop, Warehouse or Operations\n",
      "No data about lighntning control available for IWU Production, Workshop, Warehouse or Operations and data type Technical and Utility Buildings (supply and disposal)Gewerbliche und industrielle Hallen (mittelschwere Arbeit, überw. stehende Tätigkeit)\n",
      "Creating building IWU Production, Workshop, Warehouse or Operations\n",
      "We are about to generate a Non Residential building.\n",
      "Available building types: ['IWU Office, Administrative or Government Buildings', 'IWU Research and University Teaching', 'IWU Health and Care', 'IWU School, Day Nursery and other Care', 'IWU Culture and Leisure', 'IWU Sports Facilities', 'IWU Hotels, Boarding, Restaurants or Catering', 'IWU Production, Workshop, Warehouse or Operations', 'IWU Trade Buildings', 'IWU Technical and Utility (supply and disposal)', 'IWU Transport', 'IWU Generalized (1) Services building', 'IWU Generalized (2) Production buildings']\n",
      "Current usage: IWU Production, Workshop, Warehouse or Operations\n",
      "No data about lighntning control available for IWU Production, Workshop, Warehouse or Operations and data type Technical and Utility Buildings (supply and disposal)Gewerbliche und industrielle Hallen (mittelschwere Arbeit, überw. stehende Tätigkeit)\n",
      "Creating building MFH\n"
     ]
    },
    {
     "name": "stderr",
     "output_type": "stream",
     "text": [
      "c:\\Users\\felix\\Programmieren\\districtgenerator\\.venv\\Lib\\site-packages\\teaser\\logic\\buildingobjects\\useconditions.py:363: FutureWarning: 'H' is deprecated and will be removed in a future version, please use 'h' instead.\n",
      "  index=pd.date_range(\"2019-01-01 00:00:00\", periods=8760, freq=\"H\")\n"
     ]
    },
    {
     "name": "stdout",
     "output_type": "stream",
     "text": [
      "Creating building MFH\n"
     ]
    },
    {
     "name": "stderr",
     "output_type": "stream",
     "text": [
      "c:\\Users\\felix\\Programmieren\\districtgenerator\\.venv\\Lib\\site-packages\\teaser\\logic\\buildingobjects\\useconditions.py:363: FutureWarning: 'H' is deprecated and will be removed in a future version, please use 'h' instead.\n",
      "  index=pd.date_range(\"2019-01-01 00:00:00\", periods=8760, freq=\"H\")\n"
     ]
    },
    {
     "name": "stdout",
     "output_type": "stream",
     "text": [
      "Creating building AB\n",
      "Creating building IWU Transport\n",
      "We are about to generate a Non Residential building.\n",
      "Available building types: ['IWU Office, Administrative or Government Buildings', 'IWU Research and University Teaching', 'IWU Health and Care', 'IWU School, Day Nursery and other Care', 'IWU Culture and Leisure', 'IWU Sports Facilities', 'IWU Hotels, Boarding, Restaurants or Catering', 'IWU Production, Workshop, Warehouse or Operations', 'IWU Trade Buildings', 'IWU Technical and Utility (supply and disposal)', 'IWU Transport', 'IWU Generalized (1) Services building', 'IWU Generalized (2) Production buildings']\n",
      "Current usage: IWU Transport\n"
     ]
    },
    {
     "name": "stderr",
     "output_type": "stream",
     "text": [
      "c:\\Users\\felix\\Programmieren\\districtgenerator\\.venv\\Lib\\site-packages\\teaser\\logic\\buildingobjects\\useconditions.py:363: FutureWarning: 'H' is deprecated and will be removed in a future version, please use 'h' instead.\n",
      "  index=pd.date_range(\"2019-01-01 00:00:00\", periods=8760, freq=\"H\")\n"
     ]
    },
    {
     "name": "stdout",
     "output_type": "stream",
     "text": [
      "Creating building IWU Production, Workshop, Warehouse or Operations\n",
      "We are about to generate a Non Residential building.\n",
      "Available building types: ['IWU Office, Administrative or Government Buildings', 'IWU Research and University Teaching', 'IWU Health and Care', 'IWU School, Day Nursery and other Care', 'IWU Culture and Leisure', 'IWU Sports Facilities', 'IWU Hotels, Boarding, Restaurants or Catering', 'IWU Production, Workshop, Warehouse or Operations', 'IWU Trade Buildings', 'IWU Technical and Utility (supply and disposal)', 'IWU Transport', 'IWU Generalized (1) Services building', 'IWU Generalized (2) Production buildings']\n",
      "Current usage: IWU Production, Workshop, Warehouse or Operations\n",
      "No data about lighntning control available for IWU Production, Workshop, Warehouse or Operations and data type Technical and Utility Buildings (supply and disposal)Gewerbliche und industrielle Hallen (mittelschwere Arbeit, überw. stehende Tätigkeit)\n",
      "Creating building MFH\n"
     ]
    },
    {
     "name": "stderr",
     "output_type": "stream",
     "text": [
      "c:\\Users\\felix\\Programmieren\\districtgenerator\\.venv\\Lib\\site-packages\\teaser\\logic\\buildingobjects\\useconditions.py:363: FutureWarning: 'H' is deprecated and will be removed in a future version, please use 'h' instead.\n",
      "  index=pd.date_range(\"2019-01-01 00:00:00\", periods=8760, freq=\"H\")\n",
      "c:\\Users\\felix\\Programmieren\\districtgenerator\\.venv\\Lib\\site-packages\\teaser\\logic\\buildingobjects\\useconditions.py:363: FutureWarning: 'H' is deprecated and will be removed in a future version, please use 'h' instead.\n",
      "  index=pd.date_range(\"2019-01-01 00:00:00\", periods=8760, freq=\"H\")\n",
      "c:\\Users\\felix\\Programmieren\\districtgenerator\\.venv\\Lib\\site-packages\\teaser\\logic\\buildingobjects\\useconditions.py:363: FutureWarning: 'H' is deprecated and will be removed in a future version, please use 'h' instead.\n",
      "  index=pd.date_range(\"2019-01-01 00:00:00\", periods=8760, freq=\"H\")\n"
     ]
    },
    {
     "name": "stdout",
     "output_type": "stream",
     "text": [
      "Creating building MFH\n",
      "Creating building MFH\n",
      "Creating building MFH\n"
     ]
    },
    {
     "name": "stderr",
     "output_type": "stream",
     "text": [
      "c:\\Users\\felix\\Programmieren\\districtgenerator\\.venv\\Lib\\site-packages\\teaser\\logic\\buildingobjects\\useconditions.py:363: FutureWarning: 'H' is deprecated and will be removed in a future version, please use 'h' instead.\n",
      "  index=pd.date_range(\"2019-01-01 00:00:00\", periods=8760, freq=\"H\")\n"
     ]
    },
    {
     "name": "stdout",
     "output_type": "stream",
     "text": [
      "Creating building IWU Production, Workshop, Warehouse or Operations\n",
      "We are about to generate a Non Residential building.\n",
      "Available building types: ['IWU Office, Administrative or Government Buildings', 'IWU Research and University Teaching', 'IWU Health and Care', 'IWU School, Day Nursery and other Care', 'IWU Culture and Leisure', 'IWU Sports Facilities', 'IWU Hotels, Boarding, Restaurants or Catering', 'IWU Production, Workshop, Warehouse or Operations', 'IWU Trade Buildings', 'IWU Technical and Utility (supply and disposal)', 'IWU Transport', 'IWU Generalized (1) Services building', 'IWU Generalized (2) Production buildings']\n",
      "Current usage: IWU Production, Workshop, Warehouse or Operations\n",
      "No data about lighntning control available for IWU Production, Workshop, Warehouse or Operations and data type Technical and Utility Buildings (supply and disposal)Gewerbliche und industrielle Hallen (mittelschwere Arbeit, überw. stehende Tätigkeit)\n",
      "Creating building MFH\n"
     ]
    },
    {
     "name": "stderr",
     "output_type": "stream",
     "text": [
      "c:\\Users\\felix\\Programmieren\\districtgenerator\\.venv\\Lib\\site-packages\\teaser\\logic\\buildingobjects\\useconditions.py:363: FutureWarning: 'H' is deprecated and will be removed in a future version, please use 'h' instead.\n",
      "  index=pd.date_range(\"2019-01-01 00:00:00\", periods=8760, freq=\"H\")\n",
      "c:\\Users\\felix\\Programmieren\\districtgenerator\\.venv\\Lib\\site-packages\\teaser\\logic\\buildingobjects\\useconditions.py:363: FutureWarning: 'H' is deprecated and will be removed in a future version, please use 'h' instead.\n",
      "  index=pd.date_range(\"2019-01-01 00:00:00\", periods=8760, freq=\"H\")\n"
     ]
    },
    {
     "name": "stdout",
     "output_type": "stream",
     "text": [
      "Creating building MFH\n",
      "Creating building AB\n"
     ]
    },
    {
     "name": "stderr",
     "output_type": "stream",
     "text": [
      "c:\\Users\\felix\\Programmieren\\districtgenerator\\.venv\\Lib\\site-packages\\teaser\\logic\\buildingobjects\\useconditions.py:363: FutureWarning: 'H' is deprecated and will be removed in a future version, please use 'h' instead.\n",
      "  index=pd.date_range(\"2019-01-01 00:00:00\", periods=8760, freq=\"H\")\n",
      "c:\\Users\\felix\\Programmieren\\districtgenerator\\.venv\\Lib\\site-packages\\teaser\\logic\\buildingobjects\\useconditions.py:363: FutureWarning: 'H' is deprecated and will be removed in a future version, please use 'h' instead.\n",
      "  index=pd.date_range(\"2019-01-01 00:00:00\", periods=8760, freq=\"H\")\n"
     ]
    },
    {
     "name": "stdout",
     "output_type": "stream",
     "text": [
      "Creating building AB\n",
      "Creating building MFH\n"
     ]
    },
    {
     "name": "stderr",
     "output_type": "stream",
     "text": [
      "c:\\Users\\felix\\Programmieren\\districtgenerator\\.venv\\Lib\\site-packages\\teaser\\logic\\buildingobjects\\useconditions.py:363: FutureWarning: 'H' is deprecated and will be removed in a future version, please use 'h' instead.\n",
      "  index=pd.date_range(\"2019-01-01 00:00:00\", periods=8760, freq=\"H\")\n",
      "c:\\Users\\felix\\Programmieren\\districtgenerator\\.venv\\Lib\\site-packages\\teaser\\logic\\buildingobjects\\useconditions.py:363: FutureWarning: 'H' is deprecated and will be removed in a future version, please use 'h' instead.\n",
      "  index=pd.date_range(\"2019-01-01 00:00:00\", periods=8760, freq=\"H\")\n"
     ]
    },
    {
     "name": "stdout",
     "output_type": "stream",
     "text": [
      "Creating building MFH\n",
      "Creating building MFH\n"
     ]
    },
    {
     "name": "stderr",
     "output_type": "stream",
     "text": [
      "c:\\Users\\felix\\Programmieren\\districtgenerator\\.venv\\Lib\\site-packages\\teaser\\logic\\buildingobjects\\useconditions.py:363: FutureWarning: 'H' is deprecated and will be removed in a future version, please use 'h' instead.\n",
      "  index=pd.date_range(\"2019-01-01 00:00:00\", periods=8760, freq=\"H\")\n"
     ]
    },
    {
     "name": "stdout",
     "output_type": "stream",
     "text": [
      "Creating building IWU Production, Workshop, Warehouse or Operations\n",
      "We are about to generate a Non Residential building.\n",
      "Available building types: ['IWU Office, Administrative or Government Buildings', 'IWU Research and University Teaching', 'IWU Health and Care', 'IWU School, Day Nursery and other Care', 'IWU Culture and Leisure', 'IWU Sports Facilities', 'IWU Hotels, Boarding, Restaurants or Catering', 'IWU Production, Workshop, Warehouse or Operations', 'IWU Trade Buildings', 'IWU Technical and Utility (supply and disposal)', 'IWU Transport', 'IWU Generalized (1) Services building', 'IWU Generalized (2) Production buildings']\n",
      "Current usage: IWU Production, Workshop, Warehouse or Operations\n",
      "No data about lighntning control available for IWU Production, Workshop, Warehouse or Operations and data type Technical and Utility Buildings (supply and disposal)Gewerbliche und industrielle Hallen (mittelschwere Arbeit, überw. stehende Tätigkeit)\n",
      "Creating building AB\n"
     ]
    },
    {
     "name": "stderr",
     "output_type": "stream",
     "text": [
      "c:\\Users\\felix\\Programmieren\\districtgenerator\\.venv\\Lib\\site-packages\\teaser\\logic\\buildingobjects\\useconditions.py:363: FutureWarning: 'H' is deprecated and will be removed in a future version, please use 'h' instead.\n",
      "  index=pd.date_range(\"2019-01-01 00:00:00\", periods=8760, freq=\"H\")\n",
      "c:\\Users\\felix\\Programmieren\\districtgenerator\\.venv\\Lib\\site-packages\\teaser\\logic\\buildingobjects\\useconditions.py:363: FutureWarning: 'H' is deprecated and will be removed in a future version, please use 'h' instead.\n",
      "  index=pd.date_range(\"2019-01-01 00:00:00\", periods=8760, freq=\"H\")\n"
     ]
    },
    {
     "name": "stdout",
     "output_type": "stream",
     "text": [
      "Creating building MFH\n",
      "Creating building MFH\n",
      "Creating building AB\n"
     ]
    },
    {
     "name": "stderr",
     "output_type": "stream",
     "text": [
      "c:\\Users\\felix\\Programmieren\\districtgenerator\\.venv\\Lib\\site-packages\\teaser\\logic\\buildingobjects\\useconditions.py:363: FutureWarning: 'H' is deprecated and will be removed in a future version, please use 'h' instead.\n",
      "  index=pd.date_range(\"2019-01-01 00:00:00\", periods=8760, freq=\"H\")\n",
      "c:\\Users\\felix\\Programmieren\\districtgenerator\\.venv\\Lib\\site-packages\\teaser\\logic\\buildingobjects\\useconditions.py:363: FutureWarning: 'H' is deprecated and will be removed in a future version, please use 'h' instead.\n",
      "  index=pd.date_range(\"2019-01-01 00:00:00\", periods=8760, freq=\"H\")\n"
     ]
    },
    {
     "name": "stdout",
     "output_type": "stream",
     "text": [
      "Creating building IWU Production, Workshop, Warehouse or Operations\n",
      "We are about to generate a Non Residential building.\n",
      "Available building types: ['IWU Office, Administrative or Government Buildings', 'IWU Research and University Teaching', 'IWU Health and Care', 'IWU School, Day Nursery and other Care', 'IWU Culture and Leisure', 'IWU Sports Facilities', 'IWU Hotels, Boarding, Restaurants or Catering', 'IWU Production, Workshop, Warehouse or Operations', 'IWU Trade Buildings', 'IWU Technical and Utility (supply and disposal)', 'IWU Transport', 'IWU Generalized (1) Services building', 'IWU Generalized (2) Production buildings']\n",
      "Current usage: IWU Production, Workshop, Warehouse or Operations\n",
      "No data about lighntning control available for IWU Production, Workshop, Warehouse or Operations and data type Technical and Utility Buildings (supply and disposal)Gewerbliche und industrielle Hallen (mittelschwere Arbeit, überw. stehende Tätigkeit)\n",
      "Creating building IWU Trade Buildings\n",
      "We are about to generate a Non Residential building.\n",
      "Available building types: ['IWU Office, Administrative or Government Buildings', 'IWU Research and University Teaching', 'IWU Health and Care', 'IWU School, Day Nursery and other Care', 'IWU Culture and Leisure', 'IWU Sports Facilities', 'IWU Hotels, Boarding, Restaurants or Catering', 'IWU Production, Workshop, Warehouse or Operations', 'IWU Trade Buildings', 'IWU Technical and Utility (supply and disposal)', 'IWU Transport', 'IWU Generalized (1) Services building', 'IWU Generalized (2) Production buildings']\n",
      "Current usage: IWU Trade Buildings\n",
      "Creating building AB\n",
      "Creating building MFH\n"
     ]
    },
    {
     "name": "stderr",
     "output_type": "stream",
     "text": [
      "c:\\Users\\felix\\Programmieren\\districtgenerator\\.venv\\Lib\\site-packages\\teaser\\logic\\buildingobjects\\useconditions.py:363: FutureWarning: 'H' is deprecated and will be removed in a future version, please use 'h' instead.\n",
      "  index=pd.date_range(\"2019-01-01 00:00:00\", periods=8760, freq=\"H\")\n",
      "c:\\Users\\felix\\Programmieren\\districtgenerator\\.venv\\Lib\\site-packages\\teaser\\logic\\buildingobjects\\useconditions.py:363: FutureWarning: 'H' is deprecated and will be removed in a future version, please use 'h' instead.\n",
      "  index=pd.date_range(\"2019-01-01 00:00:00\", periods=8760, freq=\"H\")\n"
     ]
    },
    {
     "name": "stdout",
     "output_type": "stream",
     "text": [
      "Creating building MFH\n",
      "Creating building MFH\n"
     ]
    },
    {
     "name": "stderr",
     "output_type": "stream",
     "text": [
      "c:\\Users\\felix\\Programmieren\\districtgenerator\\.venv\\Lib\\site-packages\\teaser\\logic\\buildingobjects\\useconditions.py:363: FutureWarning: 'H' is deprecated and will be removed in a future version, please use 'h' instead.\n",
      "  index=pd.date_range(\"2019-01-01 00:00:00\", periods=8760, freq=\"H\")\n",
      "c:\\Users\\felix\\Programmieren\\districtgenerator\\.venv\\Lib\\site-packages\\teaser\\logic\\buildingobjects\\useconditions.py:363: FutureWarning: 'H' is deprecated and will be removed in a future version, please use 'h' instead.\n",
      "  index=pd.date_range(\"2019-01-01 00:00:00\", periods=8760, freq=\"H\")\n"
     ]
    },
    {
     "name": "stdout",
     "output_type": "stream",
     "text": [
      "Creating building MFH\n",
      "Creating building AB\n"
     ]
    },
    {
     "name": "stderr",
     "output_type": "stream",
     "text": [
      "c:\\Users\\felix\\Programmieren\\districtgenerator\\.venv\\Lib\\site-packages\\teaser\\logic\\buildingobjects\\useconditions.py:363: FutureWarning: 'H' is deprecated and will be removed in a future version, please use 'h' instead.\n",
      "  index=pd.date_range(\"2019-01-01 00:00:00\", periods=8760, freq=\"H\")\n",
      "c:\\Users\\felix\\Programmieren\\districtgenerator\\.venv\\Lib\\site-packages\\teaser\\logic\\buildingobjects\\useconditions.py:363: FutureWarning: 'H' is deprecated and will be removed in a future version, please use 'h' instead.\n",
      "  index=pd.date_range(\"2019-01-01 00:00:00\", periods=8760, freq=\"H\")\n"
     ]
    },
    {
     "name": "stdout",
     "output_type": "stream",
     "text": [
      "Creating building AB\n",
      "Creating building AB\n"
     ]
    },
    {
     "name": "stderr",
     "output_type": "stream",
     "text": [
      "c:\\Users\\felix\\Programmieren\\districtgenerator\\.venv\\Lib\\site-packages\\teaser\\logic\\buildingobjects\\useconditions.py:363: FutureWarning: 'H' is deprecated and will be removed in a future version, please use 'h' instead.\n",
      "  index=pd.date_range(\"2019-01-01 00:00:00\", periods=8760, freq=\"H\")\n",
      "c:\\Users\\felix\\Programmieren\\districtgenerator\\.venv\\Lib\\site-packages\\teaser\\logic\\buildingobjects\\useconditions.py:363: FutureWarning: 'H' is deprecated and will be removed in a future version, please use 'h' instead.\n",
      "  index=pd.date_range(\"2019-01-01 00:00:00\", periods=8760, freq=\"H\")\n"
     ]
    },
    {
     "name": "stdout",
     "output_type": "stream",
     "text": [
      "Creating building IWU Trade Buildings\n",
      "We are about to generate a Non Residential building.\n",
      "Available building types: ['IWU Office, Administrative or Government Buildings', 'IWU Research and University Teaching', 'IWU Health and Care', 'IWU School, Day Nursery and other Care', 'IWU Culture and Leisure', 'IWU Sports Facilities', 'IWU Hotels, Boarding, Restaurants or Catering', 'IWU Production, Workshop, Warehouse or Operations', 'IWU Trade Buildings', 'IWU Technical and Utility (supply and disposal)', 'IWU Transport', 'IWU Generalized (1) Services building', 'IWU Generalized (2) Production buildings']\n",
      "Current usage: IWU Trade Buildings\n",
      "Creating building MFH\n"
     ]
    },
    {
     "name": "stderr",
     "output_type": "stream",
     "text": [
      "c:\\Users\\felix\\Programmieren\\districtgenerator\\.venv\\Lib\\site-packages\\teaser\\logic\\buildingobjects\\useconditions.py:363: FutureWarning: 'H' is deprecated and will be removed in a future version, please use 'h' instead.\n",
      "  index=pd.date_range(\"2019-01-01 00:00:00\", periods=8760, freq=\"H\")\n"
     ]
    },
    {
     "name": "stdout",
     "output_type": "stream",
     "text": [
      "Creating building AB\n"
     ]
    },
    {
     "name": "stderr",
     "output_type": "stream",
     "text": [
      "c:\\Users\\felix\\Programmieren\\districtgenerator\\.venv\\Lib\\site-packages\\teaser\\logic\\buildingobjects\\useconditions.py:363: FutureWarning: 'H' is deprecated and will be removed in a future version, please use 'h' instead.\n",
      "  index=pd.date_range(\"2019-01-01 00:00:00\", periods=8760, freq=\"H\")\n"
     ]
    },
    {
     "name": "stdout",
     "output_type": "stream",
     "text": [
      "Creating building AB\n",
      "Creating building MFH\n"
     ]
    },
    {
     "name": "stderr",
     "output_type": "stream",
     "text": [
      "c:\\Users\\felix\\Programmieren\\districtgenerator\\.venv\\Lib\\site-packages\\teaser\\logic\\buildingobjects\\useconditions.py:363: FutureWarning: 'H' is deprecated and will be removed in a future version, please use 'h' instead.\n",
      "  index=pd.date_range(\"2019-01-01 00:00:00\", periods=8760, freq=\"H\")\n",
      "c:\\Users\\felix\\Programmieren\\districtgenerator\\.venv\\Lib\\site-packages\\teaser\\logic\\buildingobjects\\useconditions.py:363: FutureWarning: 'H' is deprecated and will be removed in a future version, please use 'h' instead.\n",
      "  index=pd.date_range(\"2019-01-01 00:00:00\", periods=8760, freq=\"H\")\n"
     ]
    },
    {
     "name": "stdout",
     "output_type": "stream",
     "text": [
      "Creating building MFH\n",
      "Creating building MFH\n"
     ]
    },
    {
     "name": "stderr",
     "output_type": "stream",
     "text": [
      "c:\\Users\\felix\\Programmieren\\districtgenerator\\.venv\\Lib\\site-packages\\teaser\\logic\\buildingobjects\\useconditions.py:363: FutureWarning: 'H' is deprecated and will be removed in a future version, please use 'h' instead.\n",
      "  index=pd.date_range(\"2019-01-01 00:00:00\", periods=8760, freq=\"H\")\n",
      "c:\\Users\\felix\\Programmieren\\districtgenerator\\.venv\\Lib\\site-packages\\teaser\\logic\\buildingobjects\\useconditions.py:363: FutureWarning: 'H' is deprecated and will be removed in a future version, please use 'h' instead.\n",
      "  index=pd.date_range(\"2019-01-01 00:00:00\", periods=8760, freq=\"H\")\n"
     ]
    },
    {
     "name": "stdout",
     "output_type": "stream",
     "text": [
      "Creating building MFH\n",
      "Creating building MFH\n"
     ]
    },
    {
     "name": "stderr",
     "output_type": "stream",
     "text": [
      "c:\\Users\\felix\\Programmieren\\districtgenerator\\.venv\\Lib\\site-packages\\teaser\\logic\\buildingobjects\\useconditions.py:363: FutureWarning: 'H' is deprecated and will be removed in a future version, please use 'h' instead.\n",
      "  index=pd.date_range(\"2019-01-01 00:00:00\", periods=8760, freq=\"H\")\n",
      "c:\\Users\\felix\\Programmieren\\districtgenerator\\.venv\\Lib\\site-packages\\teaser\\logic\\buildingobjects\\useconditions.py:363: FutureWarning: 'H' is deprecated and will be removed in a future version, please use 'h' instead.\n",
      "  index=pd.date_range(\"2019-01-01 00:00:00\", periods=8760, freq=\"H\")\n"
     ]
    },
    {
     "name": "stdout",
     "output_type": "stream",
     "text": [
      "Creating building MFH\n"
     ]
    },
    {
     "name": "stderr",
     "output_type": "stream",
     "text": [
      "c:\\Users\\felix\\Programmieren\\districtgenerator\\.venv\\Lib\\site-packages\\teaser\\logic\\buildingobjects\\useconditions.py:363: FutureWarning: 'H' is deprecated and will be removed in a future version, please use 'h' instead.\n",
      "  index=pd.date_range(\"2019-01-01 00:00:00\", periods=8760, freq=\"H\")\n"
     ]
    },
    {
     "name": "stdout",
     "output_type": "stream",
     "text": [
      "Creating building IWU Production, Workshop, Warehouse or Operations\n",
      "We are about to generate a Non Residential building.\n",
      "Available building types: ['IWU Office, Administrative or Government Buildings', 'IWU Research and University Teaching', 'IWU Health and Care', 'IWU School, Day Nursery and other Care', 'IWU Culture and Leisure', 'IWU Sports Facilities', 'IWU Hotels, Boarding, Restaurants or Catering', 'IWU Production, Workshop, Warehouse or Operations', 'IWU Trade Buildings', 'IWU Technical and Utility (supply and disposal)', 'IWU Transport', 'IWU Generalized (1) Services building', 'IWU Generalized (2) Production buildings']\n",
      "Current usage: IWU Production, Workshop, Warehouse or Operations\n",
      "No data about lighntning control available for IWU Production, Workshop, Warehouse or Operations and data type Technical and Utility Buildings (supply and disposal)Gewerbliche und industrielle Hallen (mittelschwere Arbeit, überw. stehende Tätigkeit)\n",
      "Creating building AB\n"
     ]
    },
    {
     "name": "stderr",
     "output_type": "stream",
     "text": [
      "c:\\Users\\felix\\Programmieren\\districtgenerator\\.venv\\Lib\\site-packages\\teaser\\logic\\buildingobjects\\useconditions.py:363: FutureWarning: 'H' is deprecated and will be removed in a future version, please use 'h' instead.\n",
      "  index=pd.date_range(\"2019-01-01 00:00:00\", periods=8760, freq=\"H\")\n",
      "c:\\Users\\felix\\Programmieren\\districtgenerator\\.venv\\Lib\\site-packages\\teaser\\logic\\buildingobjects\\useconditions.py:363: FutureWarning: 'H' is deprecated and will be removed in a future version, please use 'h' instead.\n",
      "  index=pd.date_range(\"2019-01-01 00:00:00\", periods=8760, freq=\"H\")\n"
     ]
    },
    {
     "name": "stdout",
     "output_type": "stream",
     "text": [
      "Creating building MFH\n",
      "Creating building AB\n"
     ]
    },
    {
     "name": "stderr",
     "output_type": "stream",
     "text": [
      "c:\\Users\\felix\\Programmieren\\districtgenerator\\.venv\\Lib\\site-packages\\teaser\\logic\\buildingobjects\\useconditions.py:363: FutureWarning: 'H' is deprecated and will be removed in a future version, please use 'h' instead.\n",
      "  index=pd.date_range(\"2019-01-01 00:00:00\", periods=8760, freq=\"H\")\n"
     ]
    },
    {
     "name": "stdout",
     "output_type": "stream",
     "text": [
      "Creating building MFH\n"
     ]
    },
    {
     "name": "stderr",
     "output_type": "stream",
     "text": [
      "c:\\Users\\felix\\Programmieren\\districtgenerator\\.venv\\Lib\\site-packages\\teaser\\logic\\buildingobjects\\useconditions.py:363: FutureWarning: 'H' is deprecated and will be removed in a future version, please use 'h' instead.\n",
      "  index=pd.date_range(\"2019-01-01 00:00:00\", periods=8760, freq=\"H\")\n"
     ]
    },
    {
     "name": "stdout",
     "output_type": "stream",
     "text": [
      "Creating building MFH\n",
      "Creating building MFH\n"
     ]
    },
    {
     "name": "stderr",
     "output_type": "stream",
     "text": [
      "c:\\Users\\felix\\Programmieren\\districtgenerator\\.venv\\Lib\\site-packages\\teaser\\logic\\buildingobjects\\useconditions.py:363: FutureWarning: 'H' is deprecated and will be removed in a future version, please use 'h' instead.\n",
      "  index=pd.date_range(\"2019-01-01 00:00:00\", periods=8760, freq=\"H\")\n",
      "c:\\Users\\felix\\Programmieren\\districtgenerator\\.venv\\Lib\\site-packages\\teaser\\logic\\buildingobjects\\useconditions.py:363: FutureWarning: 'H' is deprecated and will be removed in a future version, please use 'h' instead.\n",
      "  index=pd.date_range(\"2019-01-01 00:00:00\", periods=8760, freq=\"H\")\n"
     ]
    },
    {
     "name": "stdout",
     "output_type": "stream",
     "text": [
      "Creating building AB\n"
     ]
    },
    {
     "name": "stderr",
     "output_type": "stream",
     "text": [
      "c:\\Users\\felix\\Programmieren\\districtgenerator\\.venv\\Lib\\site-packages\\teaser\\logic\\buildingobjects\\useconditions.py:363: FutureWarning: 'H' is deprecated and will be removed in a future version, please use 'h' instead.\n",
      "  index=pd.date_range(\"2019-01-01 00:00:00\", periods=8760, freq=\"H\")\n"
     ]
    },
    {
     "name": "stdout",
     "output_type": "stream",
     "text": [
      "Creating building MFH\n",
      "Creating building AB\n"
     ]
    },
    {
     "name": "stderr",
     "output_type": "stream",
     "text": [
      "c:\\Users\\felix\\Programmieren\\districtgenerator\\.venv\\Lib\\site-packages\\teaser\\logic\\buildingobjects\\useconditions.py:363: FutureWarning: 'H' is deprecated and will be removed in a future version, please use 'h' instead.\n",
      "  index=pd.date_range(\"2019-01-01 00:00:00\", periods=8760, freq=\"H\")\n",
      "c:\\Users\\felix\\Programmieren\\districtgenerator\\.venv\\Lib\\site-packages\\teaser\\logic\\buildingobjects\\useconditions.py:363: FutureWarning: 'H' is deprecated and will be removed in a future version, please use 'h' instead.\n",
      "  index=pd.date_range(\"2019-01-01 00:00:00\", periods=8760, freq=\"H\")\n"
     ]
    },
    {
     "name": "stdout",
     "output_type": "stream",
     "text": [
      "Creating building AB\n",
      "Creating building MFH\n"
     ]
    },
    {
     "name": "stderr",
     "output_type": "stream",
     "text": [
      "c:\\Users\\felix\\Programmieren\\districtgenerator\\.venv\\Lib\\site-packages\\teaser\\logic\\buildingobjects\\useconditions.py:363: FutureWarning: 'H' is deprecated and will be removed in a future version, please use 'h' instead.\n",
      "  index=pd.date_range(\"2019-01-01 00:00:00\", periods=8760, freq=\"H\")\n",
      "c:\\Users\\felix\\Programmieren\\districtgenerator\\.venv\\Lib\\site-packages\\teaser\\logic\\buildingobjects\\useconditions.py:363: FutureWarning: 'H' is deprecated and will be removed in a future version, please use 'h' instead.\n",
      "  index=pd.date_range(\"2019-01-01 00:00:00\", periods=8760, freq=\"H\")\n"
     ]
    },
    {
     "name": "stdout",
     "output_type": "stream",
     "text": [
      "Creating building AB\n",
      "Creating building MFH\n"
     ]
    },
    {
     "name": "stderr",
     "output_type": "stream",
     "text": [
      "c:\\Users\\felix\\Programmieren\\districtgenerator\\.venv\\Lib\\site-packages\\teaser\\logic\\buildingobjects\\useconditions.py:363: FutureWarning: 'H' is deprecated and will be removed in a future version, please use 'h' instead.\n",
      "  index=pd.date_range(\"2019-01-01 00:00:00\", periods=8760, freq=\"H\")\n",
      "c:\\Users\\felix\\Programmieren\\districtgenerator\\.venv\\Lib\\site-packages\\teaser\\logic\\buildingobjects\\useconditions.py:363: FutureWarning: 'H' is deprecated and will be removed in a future version, please use 'h' instead.\n",
      "  index=pd.date_range(\"2019-01-01 00:00:00\", periods=8760, freq=\"H\")\n"
     ]
    },
    {
     "name": "stdout",
     "output_type": "stream",
     "text": [
      "Creating building MFH\n"
     ]
    },
    {
     "name": "stderr",
     "output_type": "stream",
     "text": [
      "c:\\Users\\felix\\Programmieren\\districtgenerator\\.venv\\Lib\\site-packages\\teaser\\logic\\buildingobjects\\useconditions.py:363: FutureWarning: 'H' is deprecated and will be removed in a future version, please use 'h' instead.\n",
      "  index=pd.date_range(\"2019-01-01 00:00:00\", periods=8760, freq=\"H\")\n"
     ]
    },
    {
     "name": "stdout",
     "output_type": "stream",
     "text": [
      "Creating building IWU Production, Workshop, Warehouse or Operations\n",
      "We are about to generate a Non Residential building.\n",
      "Available building types: ['IWU Office, Administrative or Government Buildings', 'IWU Research and University Teaching', 'IWU Health and Care', 'IWU School, Day Nursery and other Care', 'IWU Culture and Leisure', 'IWU Sports Facilities', 'IWU Hotels, Boarding, Restaurants or Catering', 'IWU Production, Workshop, Warehouse or Operations', 'IWU Trade Buildings', 'IWU Technical and Utility (supply and disposal)', 'IWU Transport', 'IWU Generalized (1) Services building', 'IWU Generalized (2) Production buildings']\n",
      "Current usage: IWU Production, Workshop, Warehouse or Operations\n",
      "No data about lighntning control available for IWU Production, Workshop, Warehouse or Operations and data type Technical and Utility Buildings (supply and disposal)Gewerbliche und industrielle Hallen (mittelschwere Arbeit, überw. stehende Tätigkeit)\n",
      "Creating building MFH\n"
     ]
    },
    {
     "name": "stderr",
     "output_type": "stream",
     "text": [
      "c:\\Users\\felix\\Programmieren\\districtgenerator\\.venv\\Lib\\site-packages\\teaser\\logic\\buildingobjects\\useconditions.py:363: FutureWarning: 'H' is deprecated and will be removed in a future version, please use 'h' instead.\n",
      "  index=pd.date_range(\"2019-01-01 00:00:00\", periods=8760, freq=\"H\")\n",
      "c:\\Users\\felix\\Programmieren\\districtgenerator\\.venv\\Lib\\site-packages\\teaser\\logic\\buildingobjects\\useconditions.py:363: FutureWarning: 'H' is deprecated and will be removed in a future version, please use 'h' instead.\n",
      "  index=pd.date_range(\"2019-01-01 00:00:00\", periods=8760, freq=\"H\")\n"
     ]
    },
    {
     "name": "stdout",
     "output_type": "stream",
     "text": [
      "Creating building MFH\n",
      "Creating building IWU Transport\n",
      "We are about to generate a Non Residential building.\n",
      "Available building types: ['IWU Office, Administrative or Government Buildings', 'IWU Research and University Teaching', 'IWU Health and Care', 'IWU School, Day Nursery and other Care', 'IWU Culture and Leisure', 'IWU Sports Facilities', 'IWU Hotels, Boarding, Restaurants or Catering', 'IWU Production, Workshop, Warehouse or Operations', 'IWU Trade Buildings', 'IWU Technical and Utility (supply and disposal)', 'IWU Transport', 'IWU Generalized (1) Services building', 'IWU Generalized (2) Production buildings']\n",
      "Current usage: IWU Transport\n",
      "Creating building AB\n",
      "Creating building MFH\n"
     ]
    },
    {
     "name": "stderr",
     "output_type": "stream",
     "text": [
      "c:\\Users\\felix\\Programmieren\\districtgenerator\\.venv\\Lib\\site-packages\\teaser\\logic\\buildingobjects\\useconditions.py:363: FutureWarning: 'H' is deprecated and will be removed in a future version, please use 'h' instead.\n",
      "  index=pd.date_range(\"2019-01-01 00:00:00\", periods=8760, freq=\"H\")\n",
      "c:\\Users\\felix\\Programmieren\\districtgenerator\\.venv\\Lib\\site-packages\\teaser\\logic\\buildingobjects\\useconditions.py:363: FutureWarning: 'H' is deprecated and will be removed in a future version, please use 'h' instead.\n",
      "  index=pd.date_range(\"2019-01-01 00:00:00\", periods=8760, freq=\"H\")\n"
     ]
    },
    {
     "name": "stdout",
     "output_type": "stream",
     "text": [
      "Creating building MFH\n",
      "Creating building IWU Production, Workshop, Warehouse or Operations\n",
      "We are about to generate a Non Residential building.\n",
      "Available building types: ['IWU Office, Administrative or Government Buildings', 'IWU Research and University Teaching', 'IWU Health and Care', 'IWU School, Day Nursery and other Care', 'IWU Culture and Leisure', 'IWU Sports Facilities', 'IWU Hotels, Boarding, Restaurants or Catering', 'IWU Production, Workshop, Warehouse or Operations', 'IWU Trade Buildings', 'IWU Technical and Utility (supply and disposal)', 'IWU Transport', 'IWU Generalized (1) Services building', 'IWU Generalized (2) Production buildings']\n",
      "Current usage: IWU Production, Workshop, Warehouse or Operations\n"
     ]
    },
    {
     "name": "stderr",
     "output_type": "stream",
     "text": [
      "c:\\Users\\felix\\Programmieren\\districtgenerator\\.venv\\Lib\\site-packages\\teaser\\logic\\buildingobjects\\useconditions.py:363: FutureWarning: 'H' is deprecated and will be removed in a future version, please use 'h' instead.\n",
      "  index=pd.date_range(\"2019-01-01 00:00:00\", periods=8760, freq=\"H\")\n"
     ]
    },
    {
     "name": "stdout",
     "output_type": "stream",
     "text": [
      "No data about lighntning control available for IWU Production, Workshop, Warehouse or Operations and data type Technical and Utility Buildings (supply and disposal)Gewerbliche und industrielle Hallen (mittelschwere Arbeit, überw. stehende Tätigkeit)\n",
      "Creating building MFH\n",
      "Creating building AB\n"
     ]
    },
    {
     "name": "stderr",
     "output_type": "stream",
     "text": [
      "c:\\Users\\felix\\Programmieren\\districtgenerator\\.venv\\Lib\\site-packages\\teaser\\logic\\buildingobjects\\useconditions.py:363: FutureWarning: 'H' is deprecated and will be removed in a future version, please use 'h' instead.\n",
      "  index=pd.date_range(\"2019-01-01 00:00:00\", periods=8760, freq=\"H\")\n",
      "c:\\Users\\felix\\Programmieren\\districtgenerator\\.venv\\Lib\\site-packages\\teaser\\logic\\buildingobjects\\useconditions.py:363: FutureWarning: 'H' is deprecated and will be removed in a future version, please use 'h' instead.\n",
      "  index=pd.date_range(\"2019-01-01 00:00:00\", periods=8760, freq=\"H\")\n"
     ]
    },
    {
     "name": "stdout",
     "output_type": "stream",
     "text": [
      "Creating building MFH\n",
      "Creating building AB\n"
     ]
    },
    {
     "name": "stderr",
     "output_type": "stream",
     "text": [
      "c:\\Users\\felix\\Programmieren\\districtgenerator\\.venv\\Lib\\site-packages\\teaser\\logic\\buildingobjects\\useconditions.py:363: FutureWarning: 'H' is deprecated and will be removed in a future version, please use 'h' instead.\n",
      "  index=pd.date_range(\"2019-01-01 00:00:00\", periods=8760, freq=\"H\")\n",
      "c:\\Users\\felix\\Programmieren\\districtgenerator\\.venv\\Lib\\site-packages\\teaser\\logic\\buildingobjects\\useconditions.py:363: FutureWarning: 'H' is deprecated and will be removed in a future version, please use 'h' instead.\n",
      "  index=pd.date_range(\"2019-01-01 00:00:00\", periods=8760, freq=\"H\")\n"
     ]
    },
    {
     "name": "stdout",
     "output_type": "stream",
     "text": [
      "Creating building AB\n",
      "Creating building MFH\n"
     ]
    },
    {
     "name": "stderr",
     "output_type": "stream",
     "text": [
      "c:\\Users\\felix\\Programmieren\\districtgenerator\\.venv\\Lib\\site-packages\\teaser\\logic\\buildingobjects\\useconditions.py:363: FutureWarning: 'H' is deprecated and will be removed in a future version, please use 'h' instead.\n",
      "  index=pd.date_range(\"2019-01-01 00:00:00\", periods=8760, freq=\"H\")\n",
      "c:\\Users\\felix\\Programmieren\\districtgenerator\\.venv\\Lib\\site-packages\\teaser\\logic\\buildingobjects\\useconditions.py:363: FutureWarning: 'H' is deprecated and will be removed in a future version, please use 'h' instead.\n",
      "  index=pd.date_range(\"2019-01-01 00:00:00\", periods=8760, freq=\"H\")\n"
     ]
    },
    {
     "name": "stdout",
     "output_type": "stream",
     "text": [
      "Creating building AB\n",
      "Creating building AB\n"
     ]
    },
    {
     "name": "stderr",
     "output_type": "stream",
     "text": [
      "c:\\Users\\felix\\Programmieren\\districtgenerator\\.venv\\Lib\\site-packages\\teaser\\logic\\buildingobjects\\useconditions.py:363: FutureWarning: 'H' is deprecated and will be removed in a future version, please use 'h' instead.\n",
      "  index=pd.date_range(\"2019-01-01 00:00:00\", periods=8760, freq=\"H\")\n",
      "c:\\Users\\felix\\Programmieren\\districtgenerator\\.venv\\Lib\\site-packages\\teaser\\logic\\buildingobjects\\useconditions.py:363: FutureWarning: 'H' is deprecated and will be removed in a future version, please use 'h' instead.\n",
      "  index=pd.date_range(\"2019-01-01 00:00:00\", periods=8760, freq=\"H\")\n"
     ]
    },
    {
     "name": "stdout",
     "output_type": "stream",
     "text": [
      "Creating building MFH\n"
     ]
    },
    {
     "name": "stderr",
     "output_type": "stream",
     "text": [
      "c:\\Users\\felix\\Programmieren\\districtgenerator\\.venv\\Lib\\site-packages\\teaser\\logic\\buildingobjects\\useconditions.py:363: FutureWarning: 'H' is deprecated and will be removed in a future version, please use 'h' instead.\n",
      "  index=pd.date_range(\"2019-01-01 00:00:00\", periods=8760, freq=\"H\")\n"
     ]
    },
    {
     "name": "stdout",
     "output_type": "stream",
     "text": [
      "Creating building IWU Production, Workshop, Warehouse or Operations\n",
      "We are about to generate a Non Residential building.\n",
      "Available building types: ['IWU Office, Administrative or Government Buildings', 'IWU Research and University Teaching', 'IWU Health and Care', 'IWU School, Day Nursery and other Care', 'IWU Culture and Leisure', 'IWU Sports Facilities', 'IWU Hotels, Boarding, Restaurants or Catering', 'IWU Production, Workshop, Warehouse or Operations', 'IWU Trade Buildings', 'IWU Technical and Utility (supply and disposal)', 'IWU Transport', 'IWU Generalized (1) Services building', 'IWU Generalized (2) Production buildings']\n",
      "Current usage: IWU Production, Workshop, Warehouse or Operations\n",
      "No data about lighntning control available for IWU Production, Workshop, Warehouse or Operations and data type Technical and Utility Buildings (supply and disposal)Gewerbliche und industrielle Hallen (mittelschwere Arbeit, überw. stehende Tätigkeit)\n",
      "Creating building MFH\n"
     ]
    },
    {
     "name": "stderr",
     "output_type": "stream",
     "text": [
      "c:\\Users\\felix\\Programmieren\\districtgenerator\\.venv\\Lib\\site-packages\\teaser\\logic\\buildingobjects\\useconditions.py:363: FutureWarning: 'H' is deprecated and will be removed in a future version, please use 'h' instead.\n",
      "  index=pd.date_range(\"2019-01-01 00:00:00\", periods=8760, freq=\"H\")\n"
     ]
    },
    {
     "name": "stdout",
     "output_type": "stream",
     "text": [
      "Creating building IWU Production, Workshop, Warehouse or Operations\n",
      "We are about to generate a Non Residential building.\n",
      "Available building types: ['IWU Office, Administrative or Government Buildings', 'IWU Research and University Teaching', 'IWU Health and Care', 'IWU School, Day Nursery and other Care', 'IWU Culture and Leisure', 'IWU Sports Facilities', 'IWU Hotels, Boarding, Restaurants or Catering', 'IWU Production, Workshop, Warehouse or Operations', 'IWU Trade Buildings', 'IWU Technical and Utility (supply and disposal)', 'IWU Transport', 'IWU Generalized (1) Services building', 'IWU Generalized (2) Production buildings']\n",
      "Current usage: IWU Production, Workshop, Warehouse or Operations\n",
      "No data about lighntning control available for IWU Production, Workshop, Warehouse or Operations and data type Technical and Utility Buildings (supply and disposal)Gewerbliche und industrielle Hallen (mittelschwere Arbeit, überw. stehende Tätigkeit)\n",
      "Creating building AB\n"
     ]
    },
    {
     "name": "stderr",
     "output_type": "stream",
     "text": [
      "c:\\Users\\felix\\Programmieren\\districtgenerator\\.venv\\Lib\\site-packages\\teaser\\logic\\buildingobjects\\useconditions.py:363: FutureWarning: 'H' is deprecated and will be removed in a future version, please use 'h' instead.\n",
      "  index=pd.date_range(\"2019-01-01 00:00:00\", periods=8760, freq=\"H\")\n",
      "c:\\Users\\felix\\Programmieren\\districtgenerator\\.venv\\Lib\\site-packages\\teaser\\logic\\buildingobjects\\useconditions.py:363: FutureWarning: 'H' is deprecated and will be removed in a future version, please use 'h' instead.\n",
      "  index=pd.date_range(\"2019-01-01 00:00:00\", periods=8760, freq=\"H\")\n"
     ]
    },
    {
     "name": "stdout",
     "output_type": "stream",
     "text": [
      "Creating building AB\n",
      "Creating building AB\n"
     ]
    },
    {
     "name": "stderr",
     "output_type": "stream",
     "text": [
      "c:\\Users\\felix\\Programmieren\\districtgenerator\\.venv\\Lib\\site-packages\\teaser\\logic\\buildingobjects\\useconditions.py:363: FutureWarning: 'H' is deprecated and will be removed in a future version, please use 'h' instead.\n",
      "  index=pd.date_range(\"2019-01-01 00:00:00\", periods=8760, freq=\"H\")\n",
      "c:\\Users\\felix\\Programmieren\\districtgenerator\\.venv\\Lib\\site-packages\\teaser\\logic\\buildingobjects\\useconditions.py:363: FutureWarning: 'H' is deprecated and will be removed in a future version, please use 'h' instead.\n",
      "  index=pd.date_range(\"2019-01-01 00:00:00\", periods=8760, freq=\"H\")\n"
     ]
    },
    {
     "name": "stdout",
     "output_type": "stream",
     "text": [
      "Creating building AB\n",
      "Creating building AB\n"
     ]
    },
    {
     "name": "stderr",
     "output_type": "stream",
     "text": [
      "c:\\Users\\felix\\Programmieren\\districtgenerator\\.venv\\Lib\\site-packages\\teaser\\logic\\buildingobjects\\useconditions.py:363: FutureWarning: 'H' is deprecated and will be removed in a future version, please use 'h' instead.\n",
      "  index=pd.date_range(\"2019-01-01 00:00:00\", periods=8760, freq=\"H\")\n"
     ]
    },
    {
     "name": "stdout",
     "output_type": "stream",
     "text": [
      "Creating building IWU Transport\n",
      "We are about to generate a Non Residential building.\n",
      "Available building types: ['IWU Office, Administrative or Government Buildings', 'IWU Research and University Teaching', 'IWU Health and Care', 'IWU School, Day Nursery and other Care', 'IWU Culture and Leisure', 'IWU Sports Facilities', 'IWU Hotels, Boarding, Restaurants or Catering', 'IWU Production, Workshop, Warehouse or Operations', 'IWU Trade Buildings', 'IWU Technical and Utility (supply and disposal)', 'IWU Transport', 'IWU Generalized (1) Services building', 'IWU Generalized (2) Production buildings']\n",
      "Current usage: IWU Transport\n",
      "Creating building MFH\n"
     ]
    },
    {
     "name": "stderr",
     "output_type": "stream",
     "text": [
      "c:\\Users\\felix\\Programmieren\\districtgenerator\\.venv\\Lib\\site-packages\\teaser\\logic\\buildingobjects\\useconditions.py:363: FutureWarning: 'H' is deprecated and will be removed in a future version, please use 'h' instead.\n",
      "  index=pd.date_range(\"2019-01-01 00:00:00\", periods=8760, freq=\"H\")\n",
      "c:\\Users\\felix\\Programmieren\\districtgenerator\\.venv\\Lib\\site-packages\\teaser\\logic\\buildingobjects\\useconditions.py:363: FutureWarning: 'H' is deprecated and will be removed in a future version, please use 'h' instead.\n",
      "  index=pd.date_range(\"2019-01-01 00:00:00\", periods=8760, freq=\"H\")\n"
     ]
    },
    {
     "name": "stdout",
     "output_type": "stream",
     "text": [
      "Creating building AB\n",
      "Creating building IWU Production, Workshop, Warehouse or Operations\n",
      "We are about to generate a Non Residential building.\n",
      "Available building types: ['IWU Office, Administrative or Government Buildings', 'IWU Research and University Teaching', 'IWU Health and Care', 'IWU School, Day Nursery and other Care', 'IWU Culture and Leisure', 'IWU Sports Facilities', 'IWU Hotels, Boarding, Restaurants or Catering', 'IWU Production, Workshop, Warehouse or Operations', 'IWU Trade Buildings', 'IWU Technical and Utility (supply and disposal)', 'IWU Transport', 'IWU Generalized (1) Services building', 'IWU Generalized (2) Production buildings']\n",
      "Current usage: IWU Production, Workshop, Warehouse or Operations\n",
      "No data about lighntning control available for IWU Production, Workshop, Warehouse or Operations and data type Technical and Utility Buildings (supply and disposal)Gewerbliche und industrielle Hallen (mittelschwere Arbeit, überw. stehende Tätigkeit)\n",
      "Creating building TH\n",
      "Creating building IWU Production, Workshop, Warehouse or Operations\n",
      "We are about to generate a Non Residential building.\n",
      "Available building types: ['IWU Office, Administrative or Government Buildings', 'IWU Research and University Teaching', 'IWU Health and Care', 'IWU School, Day Nursery and other Care', 'IWU Culture and Leisure', 'IWU Sports Facilities', 'IWU Hotels, Boarding, Restaurants or Catering', 'IWU Production, Workshop, Warehouse or Operations', 'IWU Trade Buildings', 'IWU Technical and Utility (supply and disposal)', 'IWU Transport', 'IWU Generalized (1) Services building', 'IWU Generalized (2) Production buildings']\n",
      "Current usage: IWU Production, Workshop, Warehouse or Operations\n",
      "No data about lighntning control available for IWU Production, Workshop, Warehouse or Operations and data type Technical and Utility Buildings (supply and disposal)Gewerbliche und industrielle Hallen (mittelschwere Arbeit, überw. stehende Tätigkeit)\n",
      "Creating building IWU Production, Workshop, Warehouse or Operations\n",
      "We are about to generate a Non Residential building.\n",
      "Available building types: ['IWU Office, Administrative or Government Buildings', 'IWU Research and University Teaching', 'IWU Health and Care', 'IWU School, Day Nursery and other Care', 'IWU Culture and Leisure', 'IWU Sports Facilities', 'IWU Hotels, Boarding, Restaurants or Catering', 'IWU Production, Workshop, Warehouse or Operations', 'IWU Trade Buildings', 'IWU Technical and Utility (supply and disposal)', 'IWU Transport', 'IWU Generalized (1) Services building', 'IWU Generalized (2) Production buildings']\n",
      "Current usage: IWU Production, Workshop, Warehouse or Operations\n"
     ]
    },
    {
     "name": "stderr",
     "output_type": "stream",
     "text": [
      "c:\\Users\\felix\\Programmieren\\districtgenerator\\.venv\\Lib\\site-packages\\teaser\\logic\\buildingobjects\\useconditions.py:363: FutureWarning: 'H' is deprecated and will be removed in a future version, please use 'h' instead.\n",
      "  index=pd.date_range(\"2019-01-01 00:00:00\", periods=8760, freq=\"H\")\n"
     ]
    },
    {
     "name": "stdout",
     "output_type": "stream",
     "text": [
      "No data about lighntning control available for IWU Production, Workshop, Warehouse or Operations and data type Technical and Utility Buildings (supply and disposal)Gewerbliche und industrielle Hallen (mittelschwere Arbeit, überw. stehende Tätigkeit)\n",
      "Creating building MFH\n",
      "Creating building MFH\n"
     ]
    },
    {
     "name": "stderr",
     "output_type": "stream",
     "text": [
      "c:\\Users\\felix\\Programmieren\\districtgenerator\\.venv\\Lib\\site-packages\\teaser\\logic\\buildingobjects\\useconditions.py:363: FutureWarning: 'H' is deprecated and will be removed in a future version, please use 'h' instead.\n",
      "  index=pd.date_range(\"2019-01-01 00:00:00\", periods=8760, freq=\"H\")\n",
      "c:\\Users\\felix\\Programmieren\\districtgenerator\\.venv\\Lib\\site-packages\\teaser\\logic\\buildingobjects\\useconditions.py:363: FutureWarning: 'H' is deprecated and will be removed in a future version, please use 'h' instead.\n",
      "  index=pd.date_range(\"2019-01-01 00:00:00\", periods=8760, freq=\"H\")\n"
     ]
    },
    {
     "name": "stdout",
     "output_type": "stream",
     "text": [
      "Creating building AB\n",
      "Creating building MFH\n"
     ]
    },
    {
     "name": "stderr",
     "output_type": "stream",
     "text": [
      "c:\\Users\\felix\\Programmieren\\districtgenerator\\.venv\\Lib\\site-packages\\teaser\\logic\\buildingobjects\\useconditions.py:363: FutureWarning: 'H' is deprecated and will be removed in a future version, please use 'h' instead.\n",
      "  index=pd.date_range(\"2019-01-01 00:00:00\", periods=8760, freq=\"H\")\n",
      "c:\\Users\\felix\\Programmieren\\districtgenerator\\.venv\\Lib\\site-packages\\teaser\\logic\\buildingobjects\\useconditions.py:363: FutureWarning: 'H' is deprecated and will be removed in a future version, please use 'h' instead.\n",
      "  index=pd.date_range(\"2019-01-01 00:00:00\", periods=8760, freq=\"H\")\n"
     ]
    },
    {
     "name": "stdout",
     "output_type": "stream",
     "text": [
      "Creating building MFH\n",
      "Creating building AB\n"
     ]
    },
    {
     "name": "stderr",
     "output_type": "stream",
     "text": [
      "c:\\Users\\felix\\Programmieren\\districtgenerator\\.venv\\Lib\\site-packages\\teaser\\logic\\buildingobjects\\useconditions.py:363: FutureWarning: 'H' is deprecated and will be removed in a future version, please use 'h' instead.\n",
      "  index=pd.date_range(\"2019-01-01 00:00:00\", periods=8760, freq=\"H\")\n",
      "c:\\Users\\felix\\Programmieren\\districtgenerator\\.venv\\Lib\\site-packages\\teaser\\logic\\buildingobjects\\useconditions.py:363: FutureWarning: 'H' is deprecated and will be removed in a future version, please use 'h' instead.\n",
      "  index=pd.date_range(\"2019-01-01 00:00:00\", periods=8760, freq=\"H\")\n"
     ]
    },
    {
     "name": "stdout",
     "output_type": "stream",
     "text": [
      "Creating building IWU Production, Workshop, Warehouse or Operations\n",
      "We are about to generate a Non Residential building.\n",
      "Available building types: ['IWU Office, Administrative or Government Buildings', 'IWU Research and University Teaching', 'IWU Health and Care', 'IWU School, Day Nursery and other Care', 'IWU Culture and Leisure', 'IWU Sports Facilities', 'IWU Hotels, Boarding, Restaurants or Catering', 'IWU Production, Workshop, Warehouse or Operations', 'IWU Trade Buildings', 'IWU Technical and Utility (supply and disposal)', 'IWU Transport', 'IWU Generalized (1) Services building', 'IWU Generalized (2) Production buildings']\n",
      "Current usage: IWU Production, Workshop, Warehouse or Operations\n",
      "No data about lighntning control available for IWU Production, Workshop, Warehouse or Operations and data type Technical and Utility Buildings (supply and disposal)Gewerbliche und industrielle Hallen (mittelschwere Arbeit, überw. stehende Tätigkeit)\n",
      "Creating building MFH\n"
     ]
    },
    {
     "name": "stderr",
     "output_type": "stream",
     "text": [
      "c:\\Users\\felix\\Programmieren\\districtgenerator\\.venv\\Lib\\site-packages\\teaser\\logic\\buildingobjects\\useconditions.py:363: FutureWarning: 'H' is deprecated and will be removed in a future version, please use 'h' instead.\n",
      "  index=pd.date_range(\"2019-01-01 00:00:00\", periods=8760, freq=\"H\")\n",
      "c:\\Users\\felix\\Programmieren\\districtgenerator\\.venv\\Lib\\site-packages\\teaser\\logic\\buildingobjects\\useconditions.py:363: FutureWarning: 'H' is deprecated and will be removed in a future version, please use 'h' instead.\n",
      "  index=pd.date_range(\"2019-01-01 00:00:00\", periods=8760, freq=\"H\")\n"
     ]
    },
    {
     "name": "stdout",
     "output_type": "stream",
     "text": [
      "Creating building AB\n",
      "Creating building MFH\n"
     ]
    },
    {
     "name": "stderr",
     "output_type": "stream",
     "text": [
      "c:\\Users\\felix\\Programmieren\\districtgenerator\\.venv\\Lib\\site-packages\\teaser\\logic\\buildingobjects\\useconditions.py:363: FutureWarning: 'H' is deprecated and will be removed in a future version, please use 'h' instead.\n",
      "  index=pd.date_range(\"2019-01-01 00:00:00\", periods=8760, freq=\"H\")\n"
     ]
    },
    {
     "name": "stdout",
     "output_type": "stream",
     "text": [
      "Creating building AB\n",
      "Creating building AB\n"
     ]
    },
    {
     "name": "stderr",
     "output_type": "stream",
     "text": [
      "c:\\Users\\felix\\Programmieren\\districtgenerator\\.venv\\Lib\\site-packages\\teaser\\logic\\buildingobjects\\useconditions.py:363: FutureWarning: 'H' is deprecated and will be removed in a future version, please use 'h' instead.\n",
      "  index=pd.date_range(\"2019-01-01 00:00:00\", periods=8760, freq=\"H\")\n",
      "c:\\Users\\felix\\Programmieren\\districtgenerator\\.venv\\Lib\\site-packages\\teaser\\logic\\buildingobjects\\useconditions.py:363: FutureWarning: 'H' is deprecated and will be removed in a future version, please use 'h' instead.\n",
      "  index=pd.date_range(\"2019-01-01 00:00:00\", periods=8760, freq=\"H\")\n"
     ]
    },
    {
     "name": "stdout",
     "output_type": "stream",
     "text": [
      "Creating building MFH\n",
      "Creating building MFH\n"
     ]
    },
    {
     "name": "stderr",
     "output_type": "stream",
     "text": [
      "c:\\Users\\felix\\Programmieren\\districtgenerator\\.venv\\Lib\\site-packages\\teaser\\logic\\buildingobjects\\useconditions.py:363: FutureWarning: 'H' is deprecated and will be removed in a future version, please use 'h' instead.\n",
      "  index=pd.date_range(\"2019-01-01 00:00:00\", periods=8760, freq=\"H\")\n",
      "c:\\Users\\felix\\Programmieren\\districtgenerator\\.venv\\Lib\\site-packages\\teaser\\logic\\buildingobjects\\useconditions.py:363: FutureWarning: 'H' is deprecated and will be removed in a future version, please use 'h' instead.\n",
      "  index=pd.date_range(\"2019-01-01 00:00:00\", periods=8760, freq=\"H\")\n"
     ]
    },
    {
     "name": "stdout",
     "output_type": "stream",
     "text": [
      "Creating building MFH\n",
      "Creating building MFH\n",
      "Creating building MFH\n"
     ]
    },
    {
     "name": "stderr",
     "output_type": "stream",
     "text": [
      "c:\\Users\\felix\\Programmieren\\districtgenerator\\.venv\\Lib\\site-packages\\teaser\\logic\\buildingobjects\\useconditions.py:363: FutureWarning: 'H' is deprecated and will be removed in a future version, please use 'h' instead.\n",
      "  index=pd.date_range(\"2019-01-01 00:00:00\", periods=8760, freq=\"H\")\n",
      "c:\\Users\\felix\\Programmieren\\districtgenerator\\.venv\\Lib\\site-packages\\teaser\\logic\\buildingobjects\\useconditions.py:363: FutureWarning: 'H' is deprecated and will be removed in a future version, please use 'h' instead.\n",
      "  index=pd.date_range(\"2019-01-01 00:00:00\", periods=8760, freq=\"H\")\n",
      "c:\\Users\\felix\\Programmieren\\districtgenerator\\.venv\\Lib\\site-packages\\teaser\\logic\\buildingobjects\\useconditions.py:363: FutureWarning: 'H' is deprecated and will be removed in a future version, please use 'h' instead.\n",
      "  index=pd.date_range(\"2019-01-01 00:00:00\", periods=8760, freq=\"H\")\n"
     ]
    },
    {
     "name": "stdout",
     "output_type": "stream",
     "text": [
      "Creating building MFH\n"
     ]
    },
    {
     "name": "stderr",
     "output_type": "stream",
     "text": [
      "c:\\Users\\felix\\Programmieren\\districtgenerator\\.venv\\Lib\\site-packages\\teaser\\logic\\buildingobjects\\useconditions.py:363: FutureWarning: 'H' is deprecated and will be removed in a future version, please use 'h' instead.\n",
      "  index=pd.date_range(\"2019-01-01 00:00:00\", periods=8760, freq=\"H\")\n"
     ]
    },
    {
     "name": "stdout",
     "output_type": "stream",
     "text": [
      "Creating building MFH\n",
      "Creating building MFH\n"
     ]
    },
    {
     "name": "stderr",
     "output_type": "stream",
     "text": [
      "c:\\Users\\felix\\Programmieren\\districtgenerator\\.venv\\Lib\\site-packages\\teaser\\logic\\buildingobjects\\useconditions.py:363: FutureWarning: 'H' is deprecated and will be removed in a future version, please use 'h' instead.\n",
      "  index=pd.date_range(\"2019-01-01 00:00:00\", periods=8760, freq=\"H\")\n",
      "c:\\Users\\felix\\Programmieren\\districtgenerator\\.venv\\Lib\\site-packages\\teaser\\logic\\buildingobjects\\useconditions.py:363: FutureWarning: 'H' is deprecated and will be removed in a future version, please use 'h' instead.\n",
      "  index=pd.date_range(\"2019-01-01 00:00:00\", periods=8760, freq=\"H\")\n"
     ]
    },
    {
     "name": "stdout",
     "output_type": "stream",
     "text": [
      "Creating building MFH\n",
      "Creating building MFH\n",
      "Creating building IWU Health and Care\n",
      "We are about to generate a Non Residential building.\n",
      "Available building types: ['IWU Office, Administrative or Government Buildings', 'IWU Research and University Teaching', 'IWU Health and Care', 'IWU School, Day Nursery and other Care', 'IWU Culture and Leisure', 'IWU Sports Facilities', 'IWU Hotels, Boarding, Restaurants or Catering', 'IWU Production, Workshop, Warehouse or Operations', 'IWU Trade Buildings', 'IWU Technical and Utility (supply and disposal)', 'IWU Transport', 'IWU Generalized (1) Services building', 'IWU Generalized (2) Production buildings']\n",
      "Current usage: IWU Health and Care\n"
     ]
    },
    {
     "name": "stderr",
     "output_type": "stream",
     "text": [
      "c:\\Users\\felix\\Programmieren\\districtgenerator\\.venv\\Lib\\site-packages\\teaser\\logic\\buildingobjects\\useconditions.py:363: FutureWarning: 'H' is deprecated and will be removed in a future version, please use 'h' instead.\n",
      "  index=pd.date_range(\"2019-01-01 00:00:00\", periods=8760, freq=\"H\")\n",
      "c:\\Users\\felix\\Programmieren\\districtgenerator\\.venv\\Lib\\site-packages\\teaser\\logic\\buildingobjects\\useconditions.py:363: FutureWarning: 'H' is deprecated and will be removed in a future version, please use 'h' instead.\n",
      "  index=pd.date_range(\"2019-01-01 00:00:00\", periods=8760, freq=\"H\")\n"
     ]
    },
    {
     "name": "stdout",
     "output_type": "stream",
     "text": [
      "Creating building MFH\n",
      "Creating building MFH\n"
     ]
    },
    {
     "name": "stderr",
     "output_type": "stream",
     "text": [
      "c:\\Users\\felix\\Programmieren\\districtgenerator\\.venv\\Lib\\site-packages\\teaser\\logic\\buildingobjects\\useconditions.py:363: FutureWarning: 'H' is deprecated and will be removed in a future version, please use 'h' instead.\n",
      "  index=pd.date_range(\"2019-01-01 00:00:00\", periods=8760, freq=\"H\")\n",
      "c:\\Users\\felix\\Programmieren\\districtgenerator\\.venv\\Lib\\site-packages\\teaser\\logic\\buildingobjects\\useconditions.py:363: FutureWarning: 'H' is deprecated and will be removed in a future version, please use 'h' instead.\n",
      "  index=pd.date_range(\"2019-01-01 00:00:00\", periods=8760, freq=\"H\")\n"
     ]
    },
    {
     "name": "stdout",
     "output_type": "stream",
     "text": [
      "Creating building MFH\n",
      "Creating building MFH\n"
     ]
    },
    {
     "name": "stderr",
     "output_type": "stream",
     "text": [
      "c:\\Users\\felix\\Programmieren\\districtgenerator\\.venv\\Lib\\site-packages\\teaser\\logic\\buildingobjects\\useconditions.py:363: FutureWarning: 'H' is deprecated and will be removed in a future version, please use 'h' instead.\n",
      "  index=pd.date_range(\"2019-01-01 00:00:00\", periods=8760, freq=\"H\")\n",
      "c:\\Users\\felix\\Programmieren\\districtgenerator\\.venv\\Lib\\site-packages\\teaser\\logic\\buildingobjects\\useconditions.py:363: FutureWarning: 'H' is deprecated and will be removed in a future version, please use 'h' instead.\n",
      "  index=pd.date_range(\"2019-01-01 00:00:00\", periods=8760, freq=\"H\")\n"
     ]
    },
    {
     "name": "stdout",
     "output_type": "stream",
     "text": [
      "Creating building MFH\n",
      "Creating building AB\n"
     ]
    },
    {
     "name": "stderr",
     "output_type": "stream",
     "text": [
      "c:\\Users\\felix\\Programmieren\\districtgenerator\\.venv\\Lib\\site-packages\\teaser\\logic\\buildingobjects\\useconditions.py:363: FutureWarning: 'H' is deprecated and will be removed in a future version, please use 'h' instead.\n",
      "  index=pd.date_range(\"2019-01-01 00:00:00\", periods=8760, freq=\"H\")\n",
      "c:\\Users\\felix\\Programmieren\\districtgenerator\\.venv\\Lib\\site-packages\\teaser\\logic\\buildingobjects\\useconditions.py:363: FutureWarning: 'H' is deprecated and will be removed in a future version, please use 'h' instead.\n",
      "  index=pd.date_range(\"2019-01-01 00:00:00\", periods=8760, freq=\"H\")\n"
     ]
    },
    {
     "name": "stdout",
     "output_type": "stream",
     "text": [
      "Creating building IWU Health and Care\n",
      "We are about to generate a Non Residential building.\n",
      "Available building types: ['IWU Office, Administrative or Government Buildings', 'IWU Research and University Teaching', 'IWU Health and Care', 'IWU School, Day Nursery and other Care', 'IWU Culture and Leisure', 'IWU Sports Facilities', 'IWU Hotels, Boarding, Restaurants or Catering', 'IWU Production, Workshop, Warehouse or Operations', 'IWU Trade Buildings', 'IWU Technical and Utility (supply and disposal)', 'IWU Transport', 'IWU Generalized (1) Services building', 'IWU Generalized (2) Production buildings']\n",
      "Current usage: IWU Health and Care\n",
      "Creating building AB\n"
     ]
    },
    {
     "name": "stderr",
     "output_type": "stream",
     "text": [
      "c:\\Users\\felix\\Programmieren\\districtgenerator\\.venv\\Lib\\site-packages\\teaser\\logic\\buildingobjects\\useconditions.py:363: FutureWarning: 'H' is deprecated and will be removed in a future version, please use 'h' instead.\n",
      "  index=pd.date_range(\"2019-01-01 00:00:00\", periods=8760, freq=\"H\")\n"
     ]
    },
    {
     "name": "stdout",
     "output_type": "stream",
     "text": [
      "Creating building MFH\n"
     ]
    },
    {
     "name": "stderr",
     "output_type": "stream",
     "text": [
      "c:\\Users\\felix\\Programmieren\\districtgenerator\\.venv\\Lib\\site-packages\\teaser\\logic\\buildingobjects\\useconditions.py:363: FutureWarning: 'H' is deprecated and will be removed in a future version, please use 'h' instead.\n",
      "  index=pd.date_range(\"2019-01-01 00:00:00\", periods=8760, freq=\"H\")\n"
     ]
    },
    {
     "name": "stdout",
     "output_type": "stream",
     "text": [
      "Creating building AB\n"
     ]
    },
    {
     "name": "stderr",
     "output_type": "stream",
     "text": [
      "c:\\Users\\felix\\Programmieren\\districtgenerator\\.venv\\Lib\\site-packages\\teaser\\logic\\buildingobjects\\useconditions.py:363: FutureWarning: 'H' is deprecated and will be removed in a future version, please use 'h' instead.\n",
      "  index=pd.date_range(\"2019-01-01 00:00:00\", periods=8760, freq=\"H\")\n"
     ]
    },
    {
     "name": "stdout",
     "output_type": "stream",
     "text": [
      "Creating building MFH\n"
     ]
    },
    {
     "name": "stderr",
     "output_type": "stream",
     "text": [
      "c:\\Users\\felix\\Programmieren\\districtgenerator\\.venv\\Lib\\site-packages\\teaser\\logic\\buildingobjects\\useconditions.py:363: FutureWarning: 'H' is deprecated and will be removed in a future version, please use 'h' instead.\n",
      "  index=pd.date_range(\"2019-01-01 00:00:00\", periods=8760, freq=\"H\")\n"
     ]
    },
    {
     "name": "stdout",
     "output_type": "stream",
     "text": [
      "Creating building AB\n"
     ]
    },
    {
     "name": "stderr",
     "output_type": "stream",
     "text": [
      "c:\\Users\\felix\\Programmieren\\districtgenerator\\.venv\\Lib\\site-packages\\teaser\\logic\\buildingobjects\\useconditions.py:363: FutureWarning: 'H' is deprecated and will be removed in a future version, please use 'h' instead.\n",
      "  index=pd.date_range(\"2019-01-01 00:00:00\", periods=8760, freq=\"H\")\n"
     ]
    },
    {
     "name": "stdout",
     "output_type": "stream",
     "text": [
      "Creating building AB\n",
      "The folder already exists. Will overwrite existing files.\n"
     ]
    },
    {
     "name": "stderr",
     "output_type": "stream",
     "text": [
      "c:\\Users\\felix\\Programmieren\\districtgenerator\\.venv\\Lib\\site-packages\\teaser\\logic\\buildingobjects\\useconditions.py:363: FutureWarning: 'H' is deprecated and will be removed in a future version, please use 'h' instead.\n",
      "  index=pd.date_range(\"2019-01-01 00:00:00\", periods=8760, freq=\"H\")\n"
     ]
    },
    {
     "name": "stdout",
     "output_type": "stream",
     "text": [
      "Calculate demands of building 0_AB_63_0\n",
      "Save heating profile of building 0_AB_63_0 in None\n",
      "Calculate demands of building 1_AB_65_0\n",
      "Save heating profile of building 1_AB_65_0 in None\n",
      "No data about TEK available for Verkehrsgebäude\n",
      "No data about annual dhw consumption available for building type: IWU Transport. DHW demand is set to zero.\n",
      "Calculate demands of building 2_IWU Transport_[2]_0\n",
      "Save heating profile of building 2_IWU Transport_[2]_0 in None\n",
      "Calculate demands of building 3_AB_15_0\n",
      "Save heating profile of building 3_AB_15_0 in None\n",
      "Calculate demands of building 4_AB_45_0\n",
      "Save heating profile of building 4_AB_45_0 in None\n",
      "Calculate demands of building 5_AB_43_0\n",
      "Save heating profile of building 5_AB_43_0 in None\n",
      "Calculate demands of building 6_AB_47_0\n",
      "Save heating profile of building 6_AB_47_0 in None\n",
      "No data about TEK available for Verkehrsgebäude\n",
      "No data about annual dhw consumption available for building type: IWU Transport. DHW demand is set to zero.\n",
      "Calculate demands of building 7_IWU Transport_[6]_0\n",
      "Save heating profile of building 7_IWU Transport_[6]_0 in None\n",
      "Calculate demands of building 8_IWU Technical and Utility (supply and disposal)_[1]_0\n",
      "Save heating profile of building 8_IWU Technical and Utility (supply and disposal)_[1]_0 in None\n",
      "Calculate demands of building 9_AB_13_0\n",
      "Save heating profile of building 9_AB_13_0 in None\n",
      "Calculate demands of building 10_AB_41_0\n",
      "Save heating profile of building 10_AB_41_0 in None\n",
      "Calculate demands of building 11_AB_21_0\n",
      "Save heating profile of building 11_AB_21_0 in None\n",
      "Internal gains are negative. Setting to zero.\n",
      "Occupancy gains: 137156.6121766193\n",
      "Lighting gains: 2949.7650000000003\n",
      "Appliance gains: -209039.72704991937\n",
      "Total gains: -68933.34987330016\n",
      "Calculate demands of building 12_IWU Trade Buildings_[11]_0\n",
      "Save heating profile of building 12_IWU Trade Buildings_[11]_0 in None\n",
      "Calculate demands of building 13_AB_62_0\n",
      "Save heating profile of building 13_AB_62_0 in None\n",
      "Calculate demands of building 14_AB_21_0\n",
      "Save heating profile of building 14_AB_21_0 in None\n",
      "Calculate demands of building 15_AB_72_0\n",
      "Save heating profile of building 15_AB_72_0 in None\n",
      "Calculate demands of building 16_AB_63_0\n",
      "Save heating profile of building 16_AB_63_0 in None\n",
      "Calculate demands of building 17_IWU Culture and Leisure_[957]_0\n",
      "Save heating profile of building 17_IWU Culture and Leisure_[957]_0 in None\n",
      "Calculate demands of building 18_AB_60_0\n",
      "Save heating profile of building 18_AB_60_0 in None\n",
      "Calculate demands of building 19_AB_46_0\n",
      "Save heating profile of building 19_AB_46_0 in None\n",
      "Calculate demands of building 20_AB_73_0\n",
      "Save heating profile of building 20_AB_73_0 in None\n",
      "Calculate demands of building 21_AB_38_0\n",
      "Save heating profile of building 21_AB_38_0 in None\n",
      "Calculate demands of building 22_AB_11_0\n",
      "Save heating profile of building 22_AB_11_0 in None\n",
      "Calculate demands of building 23_AB_64_0\n",
      "Save heating profile of building 23_AB_64_0 in None\n",
      "Calculate demands of building 24_AB_72_0\n",
      "Save heating profile of building 24_AB_72_0 in None\n",
      "Calculate demands of building 25_AB_49_0\n",
      "Save heating profile of building 25_AB_49_0 in None\n",
      "Calculate demands of building 26_AB_21_0\n",
      "Save heating profile of building 26_AB_21_0 in None\n",
      "Calculate demands of building 27_AB_44_0\n",
      "Save heating profile of building 27_AB_44_0 in None\n",
      "Calculate demands of building 28_AB_65_0\n",
      "Save heating profile of building 28_AB_65_0 in None\n",
      "Calculate demands of building 29_AB_67_0\n",
      "Save heating profile of building 29_AB_67_0 in None\n",
      "Calculate demands of building 30_AB_74_0\n",
      "Save heating profile of building 30_AB_74_0 in None\n",
      "Calculate demands of building 31_AB_71_0\n",
      "Save heating profile of building 31_AB_71_0 in None\n",
      "Calculate demands of building 32_AB_17_0\n",
      "Save heating profile of building 32_AB_17_0 in None\n",
      "Calculate demands of building 33_IWU Sports Facilities_[2509]_0\n",
      "Save heating profile of building 33_IWU Sports Facilities_[2509]_0 in None\n",
      "Calculate demands of building 34_SFH_1_0\n",
      "Save heating profile of building 34_SFH_1_0 in None\n",
      "Calculate demands of building 35_AB_28_0\n",
      "Save heating profile of building 35_AB_28_0 in None\n",
      "Calculate demands of building 36_IWU Health and Care_[226]_0\n",
      "Save heating profile of building 36_IWU Health and Care_[226]_0 in None\n",
      "Calculate demands of building 37_AB_64_0\n",
      "Save heating profile of building 37_AB_64_0 in None\n",
      "Calculate demands of building 38_AB_24_0\n",
      "Save heating profile of building 38_AB_24_0 in None\n",
      "Calculate demands of building 39_AB_15_0\n",
      "Save heating profile of building 39_AB_15_0 in None\n",
      "Calculate demands of building 40_AB_95_0\n",
      "Save heating profile of building 40_AB_95_0 in None\n",
      "Calculate demands of building 41_AB_72_0\n",
      "Save heating profile of building 41_AB_72_0 in None\n",
      "Calculate demands of building 42_AB_18_0\n",
      "Save heating profile of building 42_AB_18_0 in None\n",
      "Calculate demands of building 43_AB_69_0\n",
      "Save heating profile of building 43_AB_69_0 in None\n",
      "Calculate demands of building 44_AB_31_0\n",
      "Save heating profile of building 44_AB_31_0 in None\n",
      "Calculate demands of building 45_AB_47_0\n",
      "Save heating profile of building 45_AB_47_0 in None\n",
      "Calculate demands of building 46_AB_50_0\n",
      "Save heating profile of building 46_AB_50_0 in None\n",
      "Calculate demands of building 47_AB_67_0\n",
      "Save heating profile of building 47_AB_67_0 in None\n",
      "Calculate demands of building 48_AB_60_0\n",
      "Save heating profile of building 48_AB_60_0 in None\n",
      "Calculate demands of building 49_AB_25_0\n",
      "Save heating profile of building 49_AB_25_0 in None\n",
      "Calculate demands of building 50_AB_101_0\n",
      "Save heating profile of building 50_AB_101_0 in None\n",
      "Calculate demands of building 51_AB_76_0\n",
      "Save heating profile of building 51_AB_76_0 in None\n",
      "Calculate demands of building 52_AB_42_0\n",
      "Save heating profile of building 52_AB_42_0 in None\n",
      "Calculate demands of building 53_AB_81_0\n",
      "Save heating profile of building 53_AB_81_0 in None\n",
      "Calculate demands of building 54_AB_87_0\n",
      "Save heating profile of building 54_AB_87_0 in None\n",
      "Calculate demands of building 55_AB_39_0\n",
      "Save heating profile of building 55_AB_39_0 in None\n",
      "Calculate demands of building 56_AB_83_0\n",
      "Save heating profile of building 56_AB_83_0 in None\n",
      "Calculate demands of building 57_TH_1_0\n",
      "Save heating profile of building 57_TH_1_0 in None\n",
      "Calculate demands of building 58_AB_34_0\n",
      "Save heating profile of building 58_AB_34_0 in None\n",
      "No data about TEK available for Verkehrsgebäude\n",
      "No data about annual dhw consumption available for building type: IWU Transport. DHW demand is set to zero.\n",
      "Calculate demands of building 59_IWU Transport_[51]_0\n",
      "Save heating profile of building 59_IWU Transport_[51]_0 in None\n",
      "Calculate demands of building 60_AB_53_0\n",
      "Save heating profile of building 60_AB_53_0 in None\n",
      "Calculate demands of building 61_AB_39_0\n",
      "Save heating profile of building 61_AB_39_0 in None\n",
      "Calculate demands of building 62_AB_15_0\n",
      "Save heating profile of building 62_AB_15_0 in None\n",
      "Calculate demands of building 63_AB_36_0\n",
      "Save heating profile of building 63_AB_36_0 in None\n",
      "Calculate demands of building 64_AB_25_0\n",
      "Save heating profile of building 64_AB_25_0 in None\n",
      "Calculate demands of building 65_AB_18_0\n",
      "Save heating profile of building 65_AB_18_0 in None\n",
      "Calculate demands of building 66_AB_66_0\n",
      "Save heating profile of building 66_AB_66_0 in None\n",
      "No data about TEK available for Verkehrsgebäude\n",
      "No data about annual dhw consumption available for building type: IWU Transport. DHW demand is set to zero.\n",
      "Calculate demands of building 67_IWU Transport_[6]_0\n",
      "Save heating profile of building 67_IWU Transport_[6]_0 in None\n",
      "Calculate demands of building 68_AB_18_0\n",
      "Save heating profile of building 68_AB_18_0 in None\n",
      "Calculate demands of building 69_AB_25_0\n",
      "Save heating profile of building 69_AB_25_0 in None\n",
      "Calculate demands of building 70_AB_78_0\n",
      "Save heating profile of building 70_AB_78_0 in None\n",
      "No data about TEK available for Verkehrsgebäude\n",
      "No data about annual dhw consumption available for building type: IWU Transport. DHW demand is set to zero.\n",
      "Calculate demands of building 71_IWU Transport_[4]_0\n",
      "Save heating profile of building 71_IWU Transport_[4]_0 in None\n",
      "Calculate demands of building 72_AB_54_0\n",
      "Save heating profile of building 72_AB_54_0 in None\n",
      "Calculate demands of building 73_AB_22_0\n",
      "Save heating profile of building 73_AB_22_0 in None\n",
      "Calculate demands of building 74_AB_36_0\n",
      "Save heating profile of building 74_AB_36_0 in None\n",
      "Calculate demands of building 75_AB_55_0\n",
      "Save heating profile of building 75_AB_55_0 in None\n",
      "Calculate demands of building 76_AB_26_0\n",
      "Save heating profile of building 76_AB_26_0 in None\n",
      "Calculate demands of building 77_AB_14_0\n",
      "Save heating profile of building 77_AB_14_0 in None\n",
      "Calculate demands of building 78_IWU Hotels, Boarding, Restaurants or Catering_[418]_0\n",
      "Save heating profile of building 78_IWU Hotels, Boarding, Restaurants or Catering_[418]_0 in None\n",
      "Calculate demands of building 79_AB_59_0\n",
      "Save heating profile of building 79_AB_59_0 in None\n",
      "No data about TEK available for Verkehrsgebäude\n",
      "No data about annual dhw consumption available for building type: IWU Transport. DHW demand is set to zero.\n",
      "Calculate demands of building 80_IWU Transport_[9]_0\n",
      "Save heating profile of building 80_IWU Transport_[9]_0 in None\n",
      "Calculate demands of building 81_AB_61_0\n",
      "Save heating profile of building 81_AB_61_0 in None\n",
      "No data about TEK available for Verkehrsgebäude\n",
      "No data about annual dhw consumption available for building type: IWU Transport. DHW demand is set to zero.\n",
      "Calculate demands of building 82_IWU Transport_[5]_0\n",
      "Save heating profile of building 82_IWU Transport_[5]_0 in None\n",
      "Calculate demands of building 83_AB_47_0\n",
      "Save heating profile of building 83_AB_47_0 in None\n",
      "Calculate demands of building 84_AB_46_0\n",
      "Save heating profile of building 84_AB_46_0 in None\n",
      "Calculate demands of building 85_AB_43_0\n",
      "Save heating profile of building 85_AB_43_0 in None\n",
      "No data about TEK available for Verkehrsgebäude\n",
      "No data about annual dhw consumption available for building type: IWU Transport. DHW demand is set to zero.\n",
      "Calculate demands of building 86_IWU Transport_[6]_0\n",
      "Save heating profile of building 86_IWU Transport_[6]_0 in None\n",
      "Calculate demands of building 87_AB_22_0\n",
      "Save heating profile of building 87_AB_22_0 in None\n",
      "Calculate demands of building 88_AB_33_0\n",
      "Save heating profile of building 88_AB_33_0 in None\n",
      "Calculate demands of building 89_AB_79_0\n",
      "Save heating profile of building 89_AB_79_0 in None\n",
      "Calculate demands of building 90_AB_47_0\n",
      "Save heating profile of building 90_AB_47_0 in None\n",
      "Calculate demands of building 91_AB_52_0\n",
      "Save heating profile of building 91_AB_52_0 in None\n",
      "Calculate demands of building 92_AB_60_0\n",
      "Save heating profile of building 92_AB_60_0 in None\n",
      "Calculate demands of building 93_AB_50_0\n",
      "Save heating profile of building 93_AB_50_0 in None\n",
      "Calculate demands of building 94_AB_74_0\n",
      "Save heating profile of building 94_AB_74_0 in None\n",
      "Calculate demands of building 95_AB_36_0\n",
      "Save heating profile of building 95_AB_36_0 in None\n",
      "Calculate demands of building 96_AB_51_0\n",
      "Save heating profile of building 96_AB_51_0 in None\n",
      "Calculate demands of building 97_AB_65_0\n",
      "Save heating profile of building 97_AB_65_0 in None\n",
      "Calculate demands of building 98_AB_65_0\n",
      "Save heating profile of building 98_AB_65_0 in None\n",
      "Calculate demands of building 99_AB_11_0\n",
      "Save heating profile of building 99_AB_11_0 in None\n",
      "Calculate demands of building 100_AB_29_0\n",
      "Save heating profile of building 100_AB_29_0 in None\n",
      "Calculate demands of building 101_IWU School, Day Nursery and other Care_[3758]_0\n",
      "Save heating profile of building 101_IWU School, Day Nursery and other Care_[3758]_0 in None\n",
      "Calculate demands of building 102_AB_54_0\n",
      "Save heating profile of building 102_AB_54_0 in None\n",
      "Calculate demands of building 103_AB_38_0\n",
      "Save heating profile of building 103_AB_38_0 in None\n",
      "Calculate demands of building 104_AB_12_0\n",
      "Save heating profile of building 104_AB_12_0 in None\n",
      "Calculate demands of building 105_AB_22_0\n",
      "Save heating profile of building 105_AB_22_0 in None\n",
      "Calculate demands of building 106_AB_14_0\n",
      "Save heating profile of building 106_AB_14_0 in None\n",
      "No data about TEK available for Verkehrsgebäude\n",
      "No data about annual dhw consumption available for building type: IWU Transport. DHW demand is set to zero.\n",
      "Calculate demands of building 107_IWU Transport_[2]_0\n",
      "Save heating profile of building 107_IWU Transport_[2]_0 in None\n",
      "Calculate demands of building 108_AB_41_0\n",
      "Save heating profile of building 108_AB_41_0 in None\n",
      "Calculate demands of building 109_AB_58_0\n",
      "Save heating profile of building 109_AB_58_0 in None\n",
      "Calculate demands of building 110_AB_27_0\n",
      "Save heating profile of building 110_AB_27_0 in None\n",
      "Calculate demands of building 111_AB_60_0\n",
      "Save heating profile of building 111_AB_60_0 in None\n",
      "Calculate demands of building 112_AB_67_0\n",
      "Save heating profile of building 112_AB_67_0 in None\n",
      "Calculate demands of building 113_AB_29_0\n",
      "Save heating profile of building 113_AB_29_0 in None\n",
      "Calculate demands of building 114_AB_39_0\n",
      "Save heating profile of building 114_AB_39_0 in None\n",
      "Internal gains are negative. Setting to zero.\n",
      "Occupancy gains: 137156.6121766193\n",
      "Lighting gains: 2949.7650000000003\n",
      "Appliance gains: -209039.72704991937\n",
      "Total gains: -68933.34987330016\n",
      "Calculate demands of building 115_IWU Trade Buildings_[34]_0\n",
      "Save heating profile of building 115_IWU Trade Buildings_[34]_0 in None\n",
      "Calculate demands of building 116_AB_46_0\n",
      "Save heating profile of building 116_AB_46_0 in None\n",
      "Calculate demands of building 117_AB_38_0\n",
      "Save heating profile of building 117_AB_38_0 in None\n",
      "Calculate demands of building 118_AB_18_0\n",
      "Save heating profile of building 118_AB_18_0 in None\n",
      "Calculate demands of building 119_AB_29_0\n",
      "Save heating profile of building 119_AB_29_0 in None\n",
      "Calculate demands of building 120_AB_15_0\n",
      "Save heating profile of building 120_AB_15_0 in None\n",
      "Calculate demands of building 121_AB_14_0\n",
      "Save heating profile of building 121_AB_14_0 in None\n",
      "Calculate demands of building 122_AB_53_0\n",
      "Save heating profile of building 122_AB_53_0 in None\n",
      "Calculate demands of building 123_IWU School, Day Nursery and other Care_[13188]_0\n",
      "Save heating profile of building 123_IWU School, Day Nursery and other Care_[13188]_0 in None\n",
      "Calculate demands of building 124_AB_12_0\n",
      "Save heating profile of building 124_AB_12_0 in None\n",
      "Calculate demands of building 125_AB_43_0\n",
      "Save heating profile of building 125_AB_43_0 in None\n",
      "Calculate demands of building 126_AB_70_0\n",
      "Save heating profile of building 126_AB_70_0 in None\n",
      "Calculate demands of building 127_IWU Research and University Teaching_[9518]_0\n",
      "Save heating profile of building 127_IWU Research and University Teaching_[9518]_0 in None\n",
      "Calculate demands of building 128_AB_41_0\n",
      "Save heating profile of building 128_AB_41_0 in None\n",
      "Calculate demands of building 129_AB_53_0\n",
      "Save heating profile of building 129_AB_53_0 in None\n",
      "Calculate demands of building 130_AB_63_0\n",
      "Save heating profile of building 130_AB_63_0 in None\n",
      "Calculate demands of building 131_AB_10_0\n",
      "Save heating profile of building 131_AB_10_0 in None\n",
      "Calculate demands of building 132_AB_20_0\n",
      "Save heating profile of building 132_AB_20_0 in None\n",
      "Calculate demands of building 133_AB_48_0\n",
      "Save heating profile of building 133_AB_48_0 in None\n",
      "Calculate demands of building 134_AB_48_0\n",
      "Save heating profile of building 134_AB_48_0 in None\n",
      "Calculate demands of building 135_AB_42_0\n",
      "Save heating profile of building 135_AB_42_0 in None\n",
      "Calculate demands of building 136_AB_20_0\n",
      "Save heating profile of building 136_AB_20_0 in None\n",
      "Calculate demands of building 137_AB_46_0\n",
      "Save heating profile of building 137_AB_46_0 in None\n",
      "Calculate demands of building 138_AB_19_0\n",
      "Save heating profile of building 138_AB_19_0 in None\n",
      "Calculate demands of building 139_AB_83_0\n",
      "Save heating profile of building 139_AB_83_0 in None\n",
      "Calculate demands of building 140_AB_20_0\n",
      "Save heating profile of building 140_AB_20_0 in None\n",
      "Calculate demands of building 141_AB_77_0\n",
      "Save heating profile of building 141_AB_77_0 in None\n",
      "Calculate demands of building 142_AB_51_0\n",
      "Save heating profile of building 142_AB_51_0 in None\n",
      "Calculate demands of building 143_AB_11_0\n",
      "Save heating profile of building 143_AB_11_0 in None\n",
      "Calculate demands of building 144_AB_10_0\n",
      "Save heating profile of building 144_AB_10_0 in None\n",
      "Calculate demands of building 145_AB_18_0\n",
      "Save heating profile of building 145_AB_18_0 in None\n",
      "Calculate demands of building 146_AB_47_0\n",
      "Save heating profile of building 146_AB_47_0 in None\n",
      "Calculate demands of building 147_IWU Culture and Leisure_[1817]_0\n",
      "Save heating profile of building 147_IWU Culture and Leisure_[1817]_0 in None\n",
      "Calculate demands of building 148_AB_65_0\n",
      "Save heating profile of building 148_AB_65_0 in None\n",
      "Calculate demands of building 149_AB_34_0\n",
      "Save heating profile of building 149_AB_34_0 in None\n",
      "Calculate demands of building 150_AB_29_0\n",
      "Save heating profile of building 150_AB_29_0 in None\n",
      "Calculate demands of building 151_IWU Research and University Teaching_[26]_0\n",
      "Save heating profile of building 151_IWU Research and University Teaching_[26]_0 in None\n",
      "Calculate demands of building 152_AB_14_0\n",
      "Save heating profile of building 152_AB_14_0 in None\n",
      "Calculate demands of building 153_AB_54_0\n",
      "Save heating profile of building 153_AB_54_0 in None\n",
      "Calculate demands of building 154_AB_47_0\n",
      "Save heating profile of building 154_AB_47_0 in None\n",
      "Calculate demands of building 155_AB_49_0\n",
      "Save heating profile of building 155_AB_49_0 in None\n",
      "Calculate demands of building 156_IWU Office, Administrative or Government Buildings_[3686]_0\n",
      "Save heating profile of building 156_IWU Office, Administrative or Government Buildings_[3686]_0 in None\n",
      "Calculate demands of building 157_AB_60_0\n",
      "Save heating profile of building 157_AB_60_0 in None\n",
      "Calculate demands of building 158_AB_76_0\n",
      "Save heating profile of building 158_AB_76_0 in None\n",
      "Calculate demands of building 159_AB_109_0\n",
      "Save heating profile of building 159_AB_109_0 in None\n",
      "Calculate demands of building 160_AB_36_0\n",
      "Save heating profile of building 160_AB_36_0 in None\n",
      "Calculate demands of building 161_AB_415_0\n",
      "Save heating profile of building 161_AB_415_0 in None\n",
      "Calculate demands of building 162_AB_38_0\n",
      "Save heating profile of building 162_AB_38_0 in None\n",
      "Calculate demands of building 163_AB_53_0\n",
      "Save heating profile of building 163_AB_53_0 in None\n",
      "Calculate demands of building 164_IWU School, Day Nursery and other Care_[2025]_0\n",
      "Save heating profile of building 164_IWU School, Day Nursery and other Care_[2025]_0 in None\n",
      "Calculate demands of building 165_AB_24_0\n",
      "Save heating profile of building 165_AB_24_0 in None\n",
      "Calculate demands of building 166_IWU School, Day Nursery and other Care_[33]_0\n",
      "Save heating profile of building 166_IWU School, Day Nursery and other Care_[33]_0 in None\n",
      "Calculate demands of building 167_AB_19_0\n",
      "Save heating profile of building 167_AB_19_0 in None\n",
      "No data about TEK available for Verkehrsgebäude\n",
      "No data about annual dhw consumption available for building type: IWU Transport. DHW demand is set to zero.\n",
      "Calculate demands of building 168_IWU Transport_[23]_0\n",
      "Save heating profile of building 168_IWU Transport_[23]_0 in None\n",
      "Calculate demands of building 169_AB_53_0\n",
      "Save heating profile of building 169_AB_53_0 in None\n",
      "Calculate demands of building 170_AB_56_0\n",
      "Save heating profile of building 170_AB_56_0 in None\n",
      "Calculate demands of building 171_AB_68_0\n",
      "Save heating profile of building 171_AB_68_0 in None\n",
      "Calculate demands of building 172_AB_65_0\n",
      "Save heating profile of building 172_AB_65_0 in None\n",
      "No data about TEK available for Verkehrsgebäude\n",
      "No data about annual dhw consumption available for building type: IWU Transport. DHW demand is set to zero.\n",
      "Calculate demands of building 173_IWU Transport_[77]_0\n",
      "Save heating profile of building 173_IWU Transport_[77]_0 in None\n",
      "Calculate demands of building 174_AB_35_0\n",
      "Save heating profile of building 174_AB_35_0 in None\n",
      "Calculate demands of building 175_AB_59_0\n",
      "Save heating profile of building 175_AB_59_0 in None\n",
      "Calculate demands of building 176_AB_48_0\n",
      "Save heating profile of building 176_AB_48_0 in None\n",
      "Calculate demands of building 177_AB_127_0\n",
      "Save heating profile of building 177_AB_127_0 in None\n",
      "Calculate demands of building 178_AB_63_0\n",
      "Save heating profile of building 178_AB_63_0 in None\n",
      "Calculate demands of building 179_AB_207_0\n",
      "Save heating profile of building 179_AB_207_0 in None\n",
      "Calculate demands of building 180_AB_59_0\n",
      "Save heating profile of building 180_AB_59_0 in None\n",
      "Calculate demands of building 181_IWU School, Day Nursery and other Care_[145]_0\n",
      "Save heating profile of building 181_IWU School, Day Nursery and other Care_[145]_0 in None\n",
      "Calculate demands of building 182_AB_39_0\n",
      "Save heating profile of building 182_AB_39_0 in None\n",
      "Calculate demands of building 183_AB_80_0\n",
      "Save heating profile of building 183_AB_80_0 in None\n",
      "No data about TEK available for Verkehrsgebäude\n",
      "No data about annual dhw consumption available for building type: IWU Transport. DHW demand is set to zero.\n",
      "Calculate demands of building 184_IWU Transport_[18]_0\n",
      "Save heating profile of building 184_IWU Transport_[18]_0 in None\n",
      "Calculate demands of building 185_AB_58_0\n",
      "Save heating profile of building 185_AB_58_0 in None\n",
      "Calculate demands of building 186_AB_18_0\n",
      "Save heating profile of building 186_AB_18_0 in None\n",
      "No data about TEK available for Verkehrsgebäude\n",
      "No data about annual dhw consumption available for building type: IWU Transport. DHW demand is set to zero.\n",
      "Calculate demands of building 187_IWU Transport_[24]_0\n",
      "Save heating profile of building 187_IWU Transport_[24]_0 in None\n",
      "Calculate demands of building 188_IWU School, Day Nursery and other Care_[1372]_0\n",
      "Save heating profile of building 188_IWU School, Day Nursery and other Care_[1372]_0 in None\n",
      "Calculate demands of building 189_AB_163_0\n",
      "Save heating profile of building 189_AB_163_0 in None\n",
      "Calculate demands of building 190_IWU Office, Administrative or Government Buildings_[485]_0\n",
      "Save heating profile of building 190_IWU Office, Administrative or Government Buildings_[485]_0 in None\n",
      "Calculate demands of building 191_AB_65_0\n",
      "Save heating profile of building 191_AB_65_0 in None\n",
      "Calculate demands of building 192_AB_284_0\n",
      "Save heating profile of building 192_AB_284_0 in None\n",
      "Calculate demands of building 193_AB_54_0\n",
      "Save heating profile of building 193_AB_54_0 in None\n",
      "Calculate demands of building 194_AB_65_0\n",
      "Save heating profile of building 194_AB_65_0 in None\n",
      "Calculate demands of building 195_AB_31_0\n",
      "Save heating profile of building 195_AB_31_0 in None\n",
      "Calculate demands of building 196_AB_45_0\n",
      "Save heating profile of building 196_AB_45_0 in None\n",
      "Calculate demands of building 197_AB_24_0\n",
      "Save heating profile of building 197_AB_24_0 in None\n",
      "Calculate demands of building 198_IWU Technical and Utility (supply and disposal)_[1]_0\n",
      "Save heating profile of building 198_IWU Technical and Utility (supply and disposal)_[1]_0 in None\n",
      "Calculate demands of building 199_AB_23_0\n",
      "Save heating profile of building 199_AB_23_0 in None\n",
      "Calculate demands of building 200_AB_29_0\n",
      "Save heating profile of building 200_AB_29_0 in None\n",
      "Calculate demands of building 201_AB_97_0\n",
      "Save heating profile of building 201_AB_97_0 in None\n",
      "Calculate demands of building 202_AB_83_0\n",
      "Save heating profile of building 202_AB_83_0 in None\n",
      "Calculate demands of building 203_AB_55_0\n",
      "Save heating profile of building 203_AB_55_0 in None\n",
      "Calculate demands of building 204_IWU School, Day Nursery and other Care_[14891]_0\n",
      "Save heating profile of building 204_IWU School, Day Nursery and other Care_[14891]_0 in None\n",
      "Calculate demands of building 205_AB_194_0\n",
      "Save heating profile of building 205_AB_194_0 in None\n",
      "Calculate demands of building 206_AB_530_0\n",
      "Save heating profile of building 206_AB_530_0 in None\n",
      "Calculate demands of building 207_MFH_4_0\n",
      "Save heating profile of building 207_MFH_4_0 in None\n",
      "Calculate demands of building 208_MFH_74_0\n",
      "Save heating profile of building 208_MFH_74_0 in None\n",
      "Calculate demands of building 209_MFH_12_0\n",
      "Save heating profile of building 209_MFH_12_0 in None\n",
      "No data about TEK available for Verkehrsgebäude\n",
      "No data about annual dhw consumption available for building type: IWU Transport. DHW demand is set to zero.\n",
      "Calculate demands of building 210_IWU Transport_[4]_0\n",
      "Save heating profile of building 210_IWU Transport_[4]_0 in None\n",
      "Calculate demands of building 211_TH_1_0\n",
      "Save heating profile of building 211_TH_1_0 in None\n",
      "Calculate demands of building 212_AB_29_0\n",
      "Save heating profile of building 212_AB_29_0 in None\n",
      "Calculate demands of building 213_MFH_7_0\n",
      "Save heating profile of building 213_MFH_7_0 in None\n",
      "No data about TEK available for Verkehrsgebäude\n",
      "No data about annual dhw consumption available for building type: IWU Transport. DHW demand is set to zero.\n",
      "Calculate demands of building 214_IWU Transport_[3]_0\n",
      "Save heating profile of building 214_IWU Transport_[3]_0 in None\n",
      "Calculate demands of building 215_MFH_39_0\n",
      "Save heating profile of building 215_MFH_39_0 in None\n",
      "Calculate demands of building 216_MFH_260_0\n",
      "Save heating profile of building 216_MFH_260_0 in None\n",
      "Calculate demands of building 217_IWU Office, Administrative or Government Buildings_[541]_0\n",
      "Save heating profile of building 217_IWU Office, Administrative or Government Buildings_[541]_0 in None\n",
      "Calculate demands of building 218_IWU Production, Workshop, Warehouse or Operations_[141]_0\n",
      "Save heating profile of building 218_IWU Production, Workshop, Warehouse or Operations_[141]_0 in None\n",
      "Calculate demands of building 219_MFH_49_0\n",
      "Save heating profile of building 219_MFH_49_0 in None\n",
      "Calculate demands of building 220_AB_24_0\n",
      "Save heating profile of building 220_AB_24_0 in None\n",
      "Calculate demands of building 221_AB_48_0\n",
      "Save heating profile of building 221_AB_48_0 in None\n",
      "Calculate demands of building 222_MFH_4_0\n",
      "Save heating profile of building 222_MFH_4_0 in None\n",
      "Calculate demands of building 223_MFH_26_0\n",
      "Save heating profile of building 223_MFH_26_0 in None\n",
      "Calculate demands of building 224_MFH_73_0\n",
      "Save heating profile of building 224_MFH_73_0 in None\n",
      "Calculate demands of building 225_AB_43_0\n",
      "Save heating profile of building 225_AB_43_0 in None\n",
      "Calculate demands of building 226_AB_165_0\n",
      "Save heating profile of building 226_AB_165_0 in None\n",
      "Calculate demands of building 227_MFH_4_0\n",
      "Save heating profile of building 227_MFH_4_0 in None\n",
      "Calculate demands of building 228_IWU Production, Workshop, Warehouse or Operations_[36]_0\n",
      "Save heating profile of building 228_IWU Production, Workshop, Warehouse or Operations_[36]_0 in None\n",
      "Calculate demands of building 229_MFH_579_0\n",
      "Save heating profile of building 229_MFH_579_0 in None\n",
      "Calculate demands of building 230_AB_46_0\n",
      "Save heating profile of building 230_AB_46_0 in None\n",
      "Calculate demands of building 231_IWU Production, Workshop, Warehouse or Operations_[404]_0\n",
      "Save heating profile of building 231_IWU Production, Workshop, Warehouse or Operations_[404]_0 in None\n",
      "Calculate demands of building 232_MFH_4_0\n",
      "Save heating profile of building 232_MFH_4_0 in None\n",
      "Calculate demands of building 233_MFH_4_0\n",
      "Save heating profile of building 233_MFH_4_0 in None\n",
      "Calculate demands of building 234_MFH_22_0\n",
      "Save heating profile of building 234_MFH_22_0 in None\n",
      "Calculate demands of building 235_MFH_8_0\n",
      "Save heating profile of building 235_MFH_8_0 in None\n",
      "Calculate demands of building 236_MFH_4_0\n",
      "Save heating profile of building 236_MFH_4_0 in None\n",
      "Calculate demands of building 237_MFH_19_0\n",
      "Save heating profile of building 237_MFH_19_0 in None\n",
      "Calculate demands of building 238_MFH_106_0\n",
      "Save heating profile of building 238_MFH_106_0 in None\n",
      "No data about TEK available for Verkehrsgebäude\n",
      "No data about annual dhw consumption available for building type: IWU Transport. DHW demand is set to zero.\n",
      "Calculate demands of building 239_IWU Transport_[17]_0\n",
      "Save heating profile of building 239_IWU Transport_[17]_0 in None\n",
      "Calculate demands of building 240_MFH_4_0\n",
      "Save heating profile of building 240_MFH_4_0 in None\n",
      "Calculate demands of building 241_AB_19_0\n",
      "Save heating profile of building 241_AB_19_0 in None\n",
      "Calculate demands of building 242_AB_67_0\n",
      "Save heating profile of building 242_AB_67_0 in None\n",
      "Calculate demands of building 243_MFH_25_0\n",
      "Save heating profile of building 243_MFH_25_0 in None\n",
      "No data about TEK available for Verkehrsgebäude\n",
      "No data about annual dhw consumption available for building type: IWU Transport. DHW demand is set to zero.\n",
      "Calculate demands of building 244_IWU Transport_[17]_0\n",
      "Save heating profile of building 244_IWU Transport_[17]_0 in None\n",
      "Calculate demands of building 245_AB_88_0\n",
      "Save heating profile of building 245_AB_88_0 in None\n",
      "Calculate demands of building 246_AB_17_0\n",
      "Save heating profile of building 246_AB_17_0 in None\n",
      "Calculate demands of building 247_AB_67_0\n",
      "Save heating profile of building 247_AB_67_0 in None\n",
      "Calculate demands of building 248_MFH_63_0\n",
      "Save heating profile of building 248_MFH_63_0 in None\n",
      "Calculate demands of building 249_AB_14_0\n",
      "Save heating profile of building 249_AB_14_0 in None\n",
      "Calculate demands of building 250_AB_93_0\n",
      "Save heating profile of building 250_AB_93_0 in None\n",
      "Calculate demands of building 251_MFH_74_0\n",
      "Save heating profile of building 251_MFH_74_0 in None\n",
      "Calculate demands of building 252_AB_74_0\n",
      "Save heating profile of building 252_AB_74_0 in None\n",
      "Calculate demands of building 253_AB_18_0\n",
      "Save heating profile of building 253_AB_18_0 in None\n",
      "Calculate demands of building 254_MFH_53_0\n",
      "Save heating profile of building 254_MFH_53_0 in None\n",
      "Calculate demands of building 255_IWU Production, Workshop, Warehouse or Operations_[60]_0\n",
      "Save heating profile of building 255_IWU Production, Workshop, Warehouse or Operations_[60]_0 in None\n",
      "Calculate demands of building 256_MFH_82_0\n",
      "Save heating profile of building 256_MFH_82_0 in None\n",
      "Calculate demands of building 257_IWU Technical and Utility (supply and disposal)_[3]_0\n",
      "Save heating profile of building 257_IWU Technical and Utility (supply and disposal)_[3]_0 in None\n",
      "Calculate demands of building 258_MFH_17_0\n",
      "Save heating profile of building 258_MFH_17_0 in None\n",
      "Calculate demands of building 259_MFH_8_0\n",
      "Save heating profile of building 259_MFH_8_0 in None\n",
      "Calculate demands of building 260_MFH_10_0\n",
      "Save heating profile of building 260_MFH_10_0 in None\n",
      "Calculate demands of building 261_IWU Production, Workshop, Warehouse or Operations_[34]_0\n",
      "Save heating profile of building 261_IWU Production, Workshop, Warehouse or Operations_[34]_0 in None\n",
      "Calculate demands of building 262_IWU Production, Workshop, Warehouse or Operations_[61]_0\n",
      "Save heating profile of building 262_IWU Production, Workshop, Warehouse or Operations_[61]_0 in None\n",
      "Calculate demands of building 263_MFH_83_0\n",
      "Save heating profile of building 263_MFH_83_0 in None\n",
      "Calculate demands of building 264_MFH_109_0\n",
      "Save heating profile of building 264_MFH_109_0 in None\n",
      "Calculate demands of building 265_AB_24_0\n",
      "Save heating profile of building 265_AB_24_0 in None\n",
      "No data about TEK available for Verkehrsgebäude\n",
      "No data about annual dhw consumption available for building type: IWU Transport. DHW demand is set to zero.\n",
      "Calculate demands of building 266_IWU Transport_[125]_0\n",
      "Save heating profile of building 266_IWU Transport_[125]_0 in None\n",
      "Calculate demands of building 267_IWU Production, Workshop, Warehouse or Operations_[48]_0\n",
      "Save heating profile of building 267_IWU Production, Workshop, Warehouse or Operations_[48]_0 in None\n",
      "Calculate demands of building 268_MFH_4_0\n",
      "Save heating profile of building 268_MFH_4_0 in None\n",
      "Calculate demands of building 269_MFH_4_0\n",
      "Save heating profile of building 269_MFH_4_0 in None\n",
      "Calculate demands of building 270_MFH_19_0\n",
      "Save heating profile of building 270_MFH_19_0 in None\n",
      "Calculate demands of building 271_MFH_5_0\n",
      "Save heating profile of building 271_MFH_5_0 in None\n",
      "Calculate demands of building 272_IWU Production, Workshop, Warehouse or Operations_[119]_0\n",
      "Save heating profile of building 272_IWU Production, Workshop, Warehouse or Operations_[119]_0 in None\n",
      "Calculate demands of building 273_MFH_20_0\n",
      "Save heating profile of building 273_MFH_20_0 in None\n",
      "Calculate demands of building 274_MFH_79_0\n",
      "Save heating profile of building 274_MFH_79_0 in None\n",
      "Calculate demands of building 275_AB_77_0\n",
      "Save heating profile of building 275_AB_77_0 in None\n",
      "Calculate demands of building 276_AB_12_0\n",
      "Save heating profile of building 276_AB_12_0 in None\n",
      "Calculate demands of building 277_MFH_68_0\n",
      "Save heating profile of building 277_MFH_68_0 in None\n",
      "Calculate demands of building 278_MFH_13_0\n",
      "Save heating profile of building 278_MFH_13_0 in None\n",
      "Calculate demands of building 279_MFH_4_0\n",
      "Save heating profile of building 279_MFH_4_0 in None\n",
      "Calculate demands of building 280_IWU Production, Workshop, Warehouse or Operations_[79]_0\n",
      "Save heating profile of building 280_IWU Production, Workshop, Warehouse or Operations_[79]_0 in None\n",
      "Calculate demands of building 281_AB_59_0\n",
      "Save heating profile of building 281_AB_59_0 in None\n",
      "Calculate demands of building 282_MFH_115_0\n",
      "Save heating profile of building 282_MFH_115_0 in None\n",
      "Calculate demands of building 283_MFH_63_0\n",
      "Save heating profile of building 283_MFH_63_0 in None\n",
      "Calculate demands of building 284_AB_25_0\n",
      "Save heating profile of building 284_AB_25_0 in None\n",
      "Calculate demands of building 285_IWU Production, Workshop, Warehouse or Operations_[50]_0\n",
      "Save heating profile of building 285_IWU Production, Workshop, Warehouse or Operations_[50]_0 in None\n",
      "Internal gains are negative. Setting to zero.\n",
      "Occupancy gains: 137156.6121766193\n",
      "Lighting gains: 2949.7650000000003\n",
      "Appliance gains: -209039.72704991937\n",
      "Total gains: -68933.34987330016\n",
      "Calculate demands of building 286_IWU Trade Buildings_[450]_0\n",
      "Save heating profile of building 286_IWU Trade Buildings_[450]_0 in None\n",
      "Calculate demands of building 287_AB_40_0\n",
      "Save heating profile of building 287_AB_40_0 in None\n",
      "Calculate demands of building 288_MFH_4_0\n",
      "Save heating profile of building 288_MFH_4_0 in None\n",
      "Calculate demands of building 289_MFH_74_0\n",
      "Save heating profile of building 289_MFH_74_0 in None\n",
      "Calculate demands of building 290_MFH_32_0\n",
      "Save heating profile of building 290_MFH_32_0 in None\n",
      "Calculate demands of building 291_MFH_8_0\n",
      "Save heating profile of building 291_MFH_8_0 in None\n",
      "Calculate demands of building 292_AB_21_0\n",
      "Save heating profile of building 292_AB_21_0 in None\n",
      "Calculate demands of building 293_AB_46_0\n",
      "Save heating profile of building 293_AB_46_0 in None\n",
      "Calculate demands of building 294_AB_57_0\n",
      "Save heating profile of building 294_AB_57_0 in None\n",
      "Internal gains are negative. Setting to zero.\n",
      "Occupancy gains: 137156.6121766193\n",
      "Lighting gains: 2949.7650000000003\n",
      "Appliance gains: -209039.72704991937\n",
      "Total gains: -68933.34987330016\n",
      "Calculate demands of building 295_IWU Trade Buildings_[2556]_0\n",
      "Save heating profile of building 295_IWU Trade Buildings_[2556]_0 in None\n",
      "Calculate demands of building 296_MFH_131_0\n",
      "Save heating profile of building 296_MFH_131_0 in None\n",
      "Calculate demands of building 297_AB_104_0\n",
      "Save heating profile of building 297_AB_104_0 in None\n",
      "Calculate demands of building 298_AB_32_0\n",
      "Save heating profile of building 298_AB_32_0 in None\n",
      "Calculate demands of building 299_MFH_85_0\n",
      "Save heating profile of building 299_MFH_85_0 in None\n",
      "Calculate demands of building 300_MFH_10_0\n",
      "Save heating profile of building 300_MFH_10_0 in None\n",
      "Calculate demands of building 301_MFH_45_0\n",
      "Save heating profile of building 301_MFH_45_0 in None\n",
      "Calculate demands of building 302_MFH_54_0\n",
      "Save heating profile of building 302_MFH_54_0 in None\n",
      "Calculate demands of building 303_MFH_20_0\n",
      "Save heating profile of building 303_MFH_20_0 in None\n",
      "Calculate demands of building 304_MFH_300_0\n",
      "Save heating profile of building 304_MFH_300_0 in None\n",
      "Calculate demands of building 305_IWU Production, Workshop, Warehouse or Operations_[34]_0\n",
      "Save heating profile of building 305_IWU Production, Workshop, Warehouse or Operations_[34]_0 in None\n",
      "Calculate demands of building 306_AB_46_0\n",
      "Save heating profile of building 306_AB_46_0 in None\n",
      "Calculate demands of building 307_MFH_19_0\n",
      "Save heating profile of building 307_MFH_19_0 in None\n",
      "Calculate demands of building 308_AB_227_0\n",
      "Save heating profile of building 308_AB_227_0 in None\n",
      "Calculate demands of building 309_MFH_101_0\n",
      "Save heating profile of building 309_MFH_101_0 in None\n",
      "Calculate demands of building 310_MFH_38_0\n",
      "Save heating profile of building 310_MFH_38_0 in None\n",
      "Calculate demands of building 311_MFH_125_0\n",
      "Save heating profile of building 311_MFH_125_0 in None\n",
      "Calculate demands of building 312_AB_293_0\n",
      "Save heating profile of building 312_AB_293_0 in None\n",
      "Calculate demands of building 313_MFH_16_0\n",
      "Save heating profile of building 313_MFH_16_0 in None\n",
      "Calculate demands of building 314_AB_33_0\n",
      "Save heating profile of building 314_AB_33_0 in None\n",
      "Calculate demands of building 315_AB_53_0\n",
      "Save heating profile of building 315_AB_53_0 in None\n",
      "Calculate demands of building 316_MFH_4_0\n",
      "Save heating profile of building 316_MFH_4_0 in None\n",
      "Calculate demands of building 317_AB_69_0\n",
      "Save heating profile of building 317_AB_69_0 in None\n",
      "Calculate demands of building 318_MFH_61_0\n",
      "Save heating profile of building 318_MFH_61_0 in None\n",
      "Calculate demands of building 319_MFH_174_0\n",
      "Save heating profile of building 319_MFH_174_0 in None\n",
      "Calculate demands of building 320_IWU Production, Workshop, Warehouse or Operations_[2]_0\n",
      "Save heating profile of building 320_IWU Production, Workshop, Warehouse or Operations_[2]_0 in None\n",
      "Calculate demands of building 321_MFH_83_0\n",
      "Save heating profile of building 321_MFH_83_0 in None\n",
      "Calculate demands of building 322_MFH_89_0\n",
      "Save heating profile of building 322_MFH_89_0 in None\n",
      "No data about TEK available for Verkehrsgebäude\n",
      "No data about annual dhw consumption available for building type: IWU Transport. DHW demand is set to zero.\n",
      "Calculate demands of building 323_IWU Transport_[23]_0\n",
      "Save heating profile of building 323_IWU Transport_[23]_0 in None\n",
      "Calculate demands of building 324_AB_84_0\n",
      "Save heating profile of building 324_AB_84_0 in None\n",
      "Calculate demands of building 325_MFH_154_0\n",
      "Save heating profile of building 325_MFH_154_0 in None\n",
      "Calculate demands of building 326_MFH_10_0\n",
      "Save heating profile of building 326_MFH_10_0 in None\n",
      "Calculate demands of building 327_IWU Production, Workshop, Warehouse or Operations_[106]_0\n",
      "Save heating profile of building 327_IWU Production, Workshop, Warehouse or Operations_[106]_0 in None\n",
      "Calculate demands of building 328_MFH_27_0\n",
      "Save heating profile of building 328_MFH_27_0 in None\n",
      "Calculate demands of building 329_AB_287_0\n",
      "Save heating profile of building 329_AB_287_0 in None\n",
      "Calculate demands of building 330_MFH_9_0\n",
      "Save heating profile of building 330_MFH_9_0 in None\n",
      "Calculate demands of building 331_AB_40_0\n",
      "Save heating profile of building 331_AB_40_0 in None\n",
      "Calculate demands of building 332_AB_54_0\n",
      "Save heating profile of building 332_AB_54_0 in None\n",
      "Calculate demands of building 333_MFH_4_0\n",
      "Save heating profile of building 333_MFH_4_0 in None\n",
      "Calculate demands of building 334_AB_17_0\n",
      "Save heating profile of building 334_AB_17_0 in None\n",
      "Calculate demands of building 335_AB_63_0\n",
      "Save heating profile of building 335_AB_63_0 in None\n",
      "Calculate demands of building 336_MFH_143_0\n",
      "Save heating profile of building 336_MFH_143_0 in None\n",
      "Calculate demands of building 337_IWU Production, Workshop, Warehouse or Operations_[319]_0\n",
      "Save heating profile of building 337_IWU Production, Workshop, Warehouse or Operations_[319]_0 in None\n",
      "Calculate demands of building 338_MFH_4_0\n",
      "Save heating profile of building 338_MFH_4_0 in None\n",
      "Calculate demands of building 339_IWU Production, Workshop, Warehouse or Operations_[45]_0\n",
      "Save heating profile of building 339_IWU Production, Workshop, Warehouse or Operations_[45]_0 in None\n",
      "Calculate demands of building 340_AB_52_0\n",
      "Save heating profile of building 340_AB_52_0 in None\n",
      "Calculate demands of building 341_AB_58_0\n",
      "Save heating profile of building 341_AB_58_0 in None\n",
      "Calculate demands of building 342_AB_18_0\n",
      "Save heating profile of building 342_AB_18_0 in None\n",
      "Calculate demands of building 343_AB_25_0\n",
      "Save heating profile of building 343_AB_25_0 in None\n",
      "Calculate demands of building 344_AB_57_0\n",
      "Save heating profile of building 344_AB_57_0 in None\n",
      "No data about TEK available for Verkehrsgebäude\n",
      "No data about annual dhw consumption available for building type: IWU Transport. DHW demand is set to zero.\n",
      "Calculate demands of building 345_IWU Transport_[13]_0\n",
      "Save heating profile of building 345_IWU Transport_[13]_0 in None\n",
      "Calculate demands of building 346_MFH_4_0\n",
      "Save heating profile of building 346_MFH_4_0 in None\n",
      "Calculate demands of building 347_AB_17_0\n",
      "Save heating profile of building 347_AB_17_0 in None\n",
      "Calculate demands of building 348_IWU Production, Workshop, Warehouse or Operations_[194]_0\n",
      "Save heating profile of building 348_IWU Production, Workshop, Warehouse or Operations_[194]_0 in None\n",
      "Calculate demands of building 349_TH_1_0\n",
      "Save heating profile of building 349_TH_1_0 in None\n",
      "Calculate demands of building 350_IWU Production, Workshop, Warehouse or Operations_[47]_0\n",
      "Save heating profile of building 350_IWU Production, Workshop, Warehouse or Operations_[47]_0 in None\n",
      "Calculate demands of building 351_IWU Production, Workshop, Warehouse or Operations_[17]_0\n",
      "Save heating profile of building 351_IWU Production, Workshop, Warehouse or Operations_[17]_0 in None\n",
      "Calculate demands of building 352_MFH_21_0\n",
      "Save heating profile of building 352_MFH_21_0 in None\n",
      "Calculate demands of building 353_MFH_68_0\n",
      "Save heating profile of building 353_MFH_68_0 in None\n",
      "Calculate demands of building 354_AB_16_0\n",
      "Save heating profile of building 354_AB_16_0 in None\n",
      "Calculate demands of building 355_MFH_80_0\n",
      "Save heating profile of building 355_MFH_80_0 in None\n",
      "Calculate demands of building 356_MFH_56_0\n",
      "Save heating profile of building 356_MFH_56_0 in None\n",
      "Calculate demands of building 357_AB_42_0\n",
      "Save heating profile of building 357_AB_42_0 in None\n",
      "Calculate demands of building 358_IWU Production, Workshop, Warehouse or Operations_[182]_0\n",
      "Save heating profile of building 358_IWU Production, Workshop, Warehouse or Operations_[182]_0 in None\n",
      "Calculate demands of building 359_MFH_18_0\n",
      "Save heating profile of building 359_MFH_18_0 in None\n",
      "Calculate demands of building 360_AB_91_0\n",
      "Save heating profile of building 360_AB_91_0 in None\n",
      "Calculate demands of building 361_MFH_103_0\n",
      "Save heating profile of building 361_MFH_103_0 in None\n",
      "Calculate demands of building 362_AB_60_0\n",
      "Save heating profile of building 362_AB_60_0 in None\n",
      "Calculate demands of building 363_AB_67_0\n",
      "Save heating profile of building 363_AB_67_0 in None\n",
      "Calculate demands of building 364_MFH_5_0\n",
      "Save heating profile of building 364_MFH_5_0 in None\n",
      "Calculate demands of building 365_MFH_18_0\n",
      "Save heating profile of building 365_MFH_18_0 in None\n",
      "Calculate demands of building 366_MFH_16_0\n",
      "Save heating profile of building 366_MFH_16_0 in None\n",
      "Calculate demands of building 367_MFH_4_0\n",
      "Save heating profile of building 367_MFH_4_0 in None\n",
      "Calculate demands of building 368_MFH_4_0\n",
      "Save heating profile of building 368_MFH_4_0 in None\n",
      "Calculate demands of building 369_MFH_1160_0\n",
      "Save heating profile of building 369_MFH_1160_0 in None\n",
      "Calculate demands of building 370_MFH_62_0\n",
      "Save heating profile of building 370_MFH_62_0 in None\n",
      "Calculate demands of building 371_MFH_5_0\n",
      "Save heating profile of building 371_MFH_5_0 in None\n",
      "Calculate demands of building 372_MFH_4_0\n",
      "Save heating profile of building 372_MFH_4_0 in None\n",
      "Calculate demands of building 373_MFH_27_0\n",
      "Save heating profile of building 373_MFH_27_0 in None\n",
      "Calculate demands of building 374_IWU Health and Care_[195]_0\n",
      "Save heating profile of building 374_IWU Health and Care_[195]_0 in None\n",
      "Calculate demands of building 375_MFH_4_0\n",
      "Save heating profile of building 375_MFH_4_0 in None\n",
      "Calculate demands of building 376_MFH_98_0\n",
      "Save heating profile of building 376_MFH_98_0 in None\n",
      "Calculate demands of building 377_MFH_4_0\n",
      "Save heating profile of building 377_MFH_4_0 in None\n",
      "Calculate demands of building 378_MFH_4_0\n",
      "Save heating profile of building 378_MFH_4_0 in None\n",
      "Calculate demands of building 379_MFH_4_0\n",
      "Save heating profile of building 379_MFH_4_0 in None\n",
      "Calculate demands of building 380_AB_109_0\n",
      "Save heating profile of building 380_AB_109_0 in None\n",
      "Calculate demands of building 381_IWU Health and Care_[235]_0\n",
      "Save heating profile of building 381_IWU Health and Care_[235]_0 in None\n",
      "Calculate demands of building 382_AB_31_0\n",
      "Save heating profile of building 382_AB_31_0 in None\n",
      "Calculate demands of building 383_MFH_53_0\n",
      "Save heating profile of building 383_MFH_53_0 in None\n",
      "Calculate demands of building 384_AB_65_0\n",
      "Save heating profile of building 384_AB_65_0 in None\n",
      "Calculate demands of building 385_MFH_28_0\n",
      "Save heating profile of building 385_MFH_28_0 in None\n",
      "Calculate demands of building 386_AB_83_0\n",
      "Save heating profile of building 386_AB_83_0 in None\n",
      "Calculate demands of building 387_AB_41_0\n",
      "Save heating profile of building 387_AB_41_0 in None\n",
      "Finished generating demands!\n"
     ]
    }
   ],
   "source": [
    "data_22 = Datahandler()\n",
    "data_22.setWeatherFile('data/weather/EPW/AMY_2010_2022_2021.epw')\n",
    "\n",
    "# Generate Environment for the District\n",
    "\n",
    "data_22.generateEnvironment()\n",
    "\n",
    "data_22.initializeBuildings('Mierendorff_Baseline_updated_cleaned_2022')\n",
    "data_22.generateBuildings()\n",
    "data_22.setResultPath()\n",
    "\n",
    "data_22.generateDemands()"
   ]
  },
  {
   "cell_type": "code",
   "execution_count": 6,
   "metadata": {},
   "outputs": [],
   "source": [
    "# Insepct \n",
    "import pandas as pd\n",
    "precleaned_data = pd.read_csv(r'data\\scenarios\\Mierendorff_Baseline_updated.csv', sep = ';')\n",
    "\n",
    "# Drop all buildings wheare area & year is nan\n",
    "\n",
    "clean_data = precleaned_data.dropna(subset = ['area', 'year', 'building'])\n",
    "# Dop data where area os 0\n",
    "clean_data = clean_data[clean_data[\"area\"] != 0]\n",
    "clean_data = clean_data[clean_data[\"building\"] != '-']\n",
    "clean_data.reset_index(drop = True, inplace = True)\n"
   ]
  },
  {
   "cell_type": "code",
   "execution_count": 7,
   "metadata": {},
   "outputs": [
    {
     "name": "stdout",
     "output_type": "stream",
     "text": [
      "<class 'pandas.core.frame.DataFrame'>\n",
      "RangeIndex: 673 entries, 0 to 672\n",
      "Data columns (total 5 columns):\n",
      " #   Column    Non-Null Count  Dtype  \n",
      "---  ------    --------------  -----  \n",
      " 0   id        673 non-null    int64  \n",
      " 1   building  673 non-null    object \n",
      " 2   year      523 non-null    float64\n",
      " 3   retrofit  0 non-null      float64\n",
      " 4   area      673 non-null    float64\n",
      "dtypes: float64(3), int64(1), object(1)\n",
      "memory usage: 26.4+ KB\n"
     ]
    }
   ],
   "source": [
    "precleaned_data.info()"
   ]
  }
 ],
 "metadata": {
  "kernelspec": {
   "display_name": ".venv",
   "language": "python",
   "name": "python3"
  },
  "language_info": {
   "codemirror_mode": {
    "name": "ipython",
    "version": 3
   },
   "file_extension": ".py",
   "mimetype": "text/x-python",
   "name": "python",
   "nbconvert_exporter": "python",
   "pygments_lexer": "ipython3",
   "version": "3.12.5"
  }
 },
 "nbformat": 4,
 "nbformat_minor": 2
}
