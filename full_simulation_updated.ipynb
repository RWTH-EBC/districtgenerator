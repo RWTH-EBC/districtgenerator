{
 "cells": [
  {
   "cell_type": "code",
   "execution_count": 1,
   "metadata": {},
   "outputs": [],
   "source": [
    "# Full Simlation Worklow for the Districtgenerator \n",
    "# \n",
    "from districtgenerator import * \n",
    "import pandas as pd"
   ]
  },
  {
   "cell_type": "code",
   "execution_count": 2,
   "metadata": {},
   "outputs": [],
   "source": [
    "data = Datahandler()"
   ]
  },
  {
   "cell_type": "code",
   "execution_count": 3,
   "metadata": {},
   "outputs": [],
   "source": [
    "# Insepct \n",
    "\n",
    "precleaned_data = pd.read_csv(r'data\\scenarios\\Mierendorff_Baseline_updated.csv', sep = ';')\n",
    "\n",
    "# Drop all buildings wheare area & year is nan\n",
    "\n",
    "clean_data = precleaned_data.dropna(subset = ['area', 'year', 'building'])\n",
    "# Dop data where area os 0\n",
    "clean_data = clean_data[clean_data[\"area\"] != 0]\n",
    "clean_data = clean_data[clean_data[\"building\"] != '-']\n",
    "clean_data.reset_index(drop = True, inplace = True)\n"
   ]
  },
  {
   "cell_type": "code",
   "execution_count": 4,
   "metadata": {},
   "outputs": [
    {
     "name": "stdout",
     "output_type": "stream",
     "text": [
      "<class 'pandas.core.frame.DataFrame'>\n",
      "RangeIndex: 388 entries, 0 to 387\n",
      "Data columns (total 5 columns):\n",
      " #   Column    Non-Null Count  Dtype  \n",
      "---  ------    --------------  -----  \n",
      " 0   id        388 non-null    int64  \n",
      " 1   building  388 non-null    object \n",
      " 2   year      388 non-null    float64\n",
      " 3   retrofit  0 non-null      float64\n",
      " 4   area      388 non-null    float64\n",
      "dtypes: float64(3), int64(1), object(1)\n",
      "memory usage: 15.3+ KB\n"
     ]
    }
   ],
   "source": [
    "clean_data.info()\n",
    "clean_data.loc[:,\"id\"]    = clean_data.index\n",
    "clean_data.loc[:,\"retrofit\"]  = 0\n",
    "\n",
    "# Replace AB archetype with MFH if Year of construction is after 1979\n",
    "clean_data.loc[clean_data[\"year\"] > 1979, \"building\"] = \"MFH\"\n",
    "\n",
    "clean_data.to_csv(r'data\\scenarios\\Mierendorff_Baseline_updated_cleaned.csv', sep = ';', index = False)"
   ]
  },
  {
   "cell_type": "code",
   "execution_count": 5,
   "metadata": {},
   "outputs": [
    {
     "name": "stdout",
     "output_type": "stream",
     "text": [
      "Creating buildings for Mierendorff_Baseline_cleaned\n",
      "Creating building AB\n"
     ]
    },
    {
     "name": "stderr",
     "output_type": "stream",
     "text": [
      "c:\\Users\\felix\\Programmieren\\districtgenerator\\.venv\\Lib\\site-packages\\teaser\\logic\\buildingobjects\\useconditions.py:363: FutureWarning: 'H' is deprecated and will be removed in a future version, please use 'h' instead.\n",
      "  index=pd.date_range(\"2019-01-01 00:00:00\", periods=8760, freq=\"H\")\n",
      "c:\\Users\\felix\\Programmieren\\districtgenerator\\.venv\\Lib\\site-packages\\teaser\\logic\\buildingobjects\\useconditions.py:363: FutureWarning: 'H' is deprecated and will be removed in a future version, please use 'h' instead.\n",
      "  index=pd.date_range(\"2019-01-01 00:00:00\", periods=8760, freq=\"H\")\n"
     ]
    },
    {
     "name": "stdout",
     "output_type": "stream",
     "text": [
      "Creating building AB\n",
      "Creating building IWU Transport\n",
      "We are about to generate a Non Residential building.\n",
      "Available building types: ['IWU Office, Administrative or Government Buildings', 'IWU Research and University Teaching', 'IWU Health and Care', 'IWU School, Day Nursery and other Care', 'IWU Culture and Leisure', 'IWU Sports Facilities', 'IWU Hotels, Boarding, Restaurants or Catering', 'IWU Production, Workshop, Warehouse or Operations', 'IWU Trade Buildings', 'IWU Technical and Utility (supply and disposal)', 'IWU Transport', 'IWU Generalized (1) Services building', 'IWU Generalized (2) Production buildings']\n",
      "Current usage: IWU Transport\n",
      "Creating building AB\n"
     ]
    },
    {
     "name": "stderr",
     "output_type": "stream",
     "text": [
      "c:\\Users\\felix\\Programmieren\\districtgenerator\\.venv\\Lib\\site-packages\\teaser\\logic\\buildingobjects\\useconditions.py:363: FutureWarning: 'H' is deprecated and will be removed in a future version, please use 'h' instead.\n",
      "  index=pd.date_range(\"2019-01-01 00:00:00\", periods=8760, freq=\"H\")\n",
      "c:\\Users\\felix\\Programmieren\\districtgenerator\\.venv\\Lib\\site-packages\\teaser\\logic\\buildingobjects\\useconditions.py:363: FutureWarning: 'H' is deprecated and will be removed in a future version, please use 'h' instead.\n",
      "  index=pd.date_range(\"2019-01-01 00:00:00\", periods=8760, freq=\"H\")\n"
     ]
    },
    {
     "name": "stdout",
     "output_type": "stream",
     "text": [
      "Creating building AB\n",
      "Creating building AB\n"
     ]
    },
    {
     "name": "stderr",
     "output_type": "stream",
     "text": [
      "c:\\Users\\felix\\Programmieren\\districtgenerator\\.venv\\Lib\\site-packages\\teaser\\logic\\buildingobjects\\useconditions.py:363: FutureWarning: 'H' is deprecated and will be removed in a future version, please use 'h' instead.\n",
      "  index=pd.date_range(\"2019-01-01 00:00:00\", periods=8760, freq=\"H\")\n",
      "c:\\Users\\felix\\Programmieren\\districtgenerator\\.venv\\Lib\\site-packages\\teaser\\logic\\buildingobjects\\useconditions.py:363: FutureWarning: 'H' is deprecated and will be removed in a future version, please use 'h' instead.\n",
      "  index=pd.date_range(\"2019-01-01 00:00:00\", periods=8760, freq=\"H\")\n"
     ]
    },
    {
     "name": "stdout",
     "output_type": "stream",
     "text": [
      "Creating building AB\n",
      "Creating building IWU Transport\n",
      "We are about to generate a Non Residential building.\n",
      "Available building types: ['IWU Office, Administrative or Government Buildings', 'IWU Research and University Teaching', 'IWU Health and Care', 'IWU School, Day Nursery and other Care', 'IWU Culture and Leisure', 'IWU Sports Facilities', 'IWU Hotels, Boarding, Restaurants or Catering', 'IWU Production, Workshop, Warehouse or Operations', 'IWU Trade Buildings', 'IWU Technical and Utility (supply and disposal)', 'IWU Transport', 'IWU Generalized (1) Services building', 'IWU Generalized (2) Production buildings']\n",
      "Current usage: IWU Transport\n",
      "Creating building IWU Technical and Utility (supply and disposal)\n",
      "We are about to generate a Non Residential building.\n",
      "Available building types: ['IWU Office, Administrative or Government Buildings', 'IWU Research and University Teaching', 'IWU Health and Care', 'IWU School, Day Nursery and other Care', 'IWU Culture and Leisure', 'IWU Sports Facilities', 'IWU Hotels, Boarding, Restaurants or Catering', 'IWU Production, Workshop, Warehouse or Operations', 'IWU Trade Buildings', 'IWU Technical and Utility (supply and disposal)', 'IWU Transport', 'IWU Generalized (1) Services building', 'IWU Generalized (2) Production buildings']\n",
      "Current usage: IWU Technical and Utility (supply and disposal)\n",
      "Creating building AB\n"
     ]
    },
    {
     "name": "stderr",
     "output_type": "stream",
     "text": [
      "c:\\Users\\felix\\Programmieren\\districtgenerator\\.venv\\Lib\\site-packages\\teaser\\logic\\buildingobjects\\useconditions.py:363: FutureWarning: 'H' is deprecated and will be removed in a future version, please use 'h' instead.\n",
      "  index=pd.date_range(\"2019-01-01 00:00:00\", periods=8760, freq=\"H\")\n",
      "c:\\Users\\felix\\Programmieren\\districtgenerator\\.venv\\Lib\\site-packages\\teaser\\logic\\buildingobjects\\useconditions.py:363: FutureWarning: 'H' is deprecated and will be removed in a future version, please use 'h' instead.\n",
      "  index=pd.date_range(\"2019-01-01 00:00:00\", periods=8760, freq=\"H\")\n"
     ]
    },
    {
     "name": "stdout",
     "output_type": "stream",
     "text": [
      "Creating building AB\n",
      "Creating building AB\n"
     ]
    },
    {
     "name": "stderr",
     "output_type": "stream",
     "text": [
      "c:\\Users\\felix\\Programmieren\\districtgenerator\\.venv\\Lib\\site-packages\\teaser\\logic\\buildingobjects\\useconditions.py:363: FutureWarning: 'H' is deprecated and will be removed in a future version, please use 'h' instead.\n",
      "  index=pd.date_range(\"2019-01-01 00:00:00\", periods=8760, freq=\"H\")\n",
      "c:\\Users\\felix\\Programmieren\\districtgenerator\\.venv\\Lib\\site-packages\\teaser\\logic\\buildingobjects\\useconditions.py:363: FutureWarning: 'H' is deprecated and will be removed in a future version, please use 'h' instead.\n",
      "  index=pd.date_range(\"2019-01-01 00:00:00\", periods=8760, freq=\"H\")\n"
     ]
    },
    {
     "name": "stdout",
     "output_type": "stream",
     "text": [
      "Creating building IWU Trade Buildings\n",
      "We are about to generate a Non Residential building.\n",
      "Available building types: ['IWU Office, Administrative or Government Buildings', 'IWU Research and University Teaching', 'IWU Health and Care', 'IWU School, Day Nursery and other Care', 'IWU Culture and Leisure', 'IWU Sports Facilities', 'IWU Hotels, Boarding, Restaurants or Catering', 'IWU Production, Workshop, Warehouse or Operations', 'IWU Trade Buildings', 'IWU Technical and Utility (supply and disposal)', 'IWU Transport', 'IWU Generalized (1) Services building', 'IWU Generalized (2) Production buildings']\n",
      "Current usage: IWU Trade Buildings\n",
      "Creating building AB\n",
      "Creating building AB\n",
      "Creating building AB\n"
     ]
    },
    {
     "name": "stderr",
     "output_type": "stream",
     "text": [
      "c:\\Users\\felix\\Programmieren\\districtgenerator\\.venv\\Lib\\site-packages\\teaser\\logic\\buildingobjects\\useconditions.py:363: FutureWarning: 'H' is deprecated and will be removed in a future version, please use 'h' instead.\n",
      "  index=pd.date_range(\"2019-01-01 00:00:00\", periods=8760, freq=\"H\")\n",
      "c:\\Users\\felix\\Programmieren\\districtgenerator\\.venv\\Lib\\site-packages\\teaser\\logic\\buildingobjects\\useconditions.py:363: FutureWarning: 'H' is deprecated and will be removed in a future version, please use 'h' instead.\n",
      "  index=pd.date_range(\"2019-01-01 00:00:00\", periods=8760, freq=\"H\")\n"
     ]
    },
    {
     "name": "stdout",
     "output_type": "stream",
     "text": [
      "Creating building AB\n",
      "Creating building IWU Culture and Leisure\n",
      "We are about to generate a Non Residential building.\n",
      "Available building types: ['IWU Office, Administrative or Government Buildings', 'IWU Research and University Teaching', 'IWU Health and Care', 'IWU School, Day Nursery and other Care', 'IWU Culture and Leisure', 'IWU Sports Facilities', 'IWU Hotels, Boarding, Restaurants or Catering', 'IWU Production, Workshop, Warehouse or Operations', 'IWU Trade Buildings', 'IWU Technical and Utility (supply and disposal)', 'IWU Transport', 'IWU Generalized (1) Services building', 'IWU Generalized (2) Production buildings']\n",
      "Current usage: IWU Culture and Leisure\n",
      "Creating building AB\n"
     ]
    },
    {
     "name": "stderr",
     "output_type": "stream",
     "text": [
      "c:\\Users\\felix\\Programmieren\\districtgenerator\\.venv\\Lib\\site-packages\\teaser\\logic\\buildingobjects\\useconditions.py:363: FutureWarning: 'H' is deprecated and will be removed in a future version, please use 'h' instead.\n",
      "  index=pd.date_range(\"2019-01-01 00:00:00\", periods=8760, freq=\"H\")\n",
      "c:\\Users\\felix\\Programmieren\\districtgenerator\\.venv\\Lib\\site-packages\\teaser\\logic\\buildingobjects\\useconditions.py:363: FutureWarning: 'H' is deprecated and will be removed in a future version, please use 'h' instead.\n",
      "  index=pd.date_range(\"2019-01-01 00:00:00\", periods=8760, freq=\"H\")\n"
     ]
    },
    {
     "name": "stdout",
     "output_type": "stream",
     "text": [
      "Creating building AB\n",
      "Creating building AB\n"
     ]
    },
    {
     "name": "stderr",
     "output_type": "stream",
     "text": [
      "c:\\Users\\felix\\Programmieren\\districtgenerator\\.venv\\Lib\\site-packages\\teaser\\logic\\buildingobjects\\useconditions.py:363: FutureWarning: 'H' is deprecated and will be removed in a future version, please use 'h' instead.\n",
      "  index=pd.date_range(\"2019-01-01 00:00:00\", periods=8760, freq=\"H\")\n",
      "c:\\Users\\felix\\Programmieren\\districtgenerator\\.venv\\Lib\\site-packages\\teaser\\logic\\buildingobjects\\useconditions.py:363: FutureWarning: 'H' is deprecated and will be removed in a future version, please use 'h' instead.\n",
      "  index=pd.date_range(\"2019-01-01 00:00:00\", periods=8760, freq=\"H\")\n"
     ]
    },
    {
     "name": "stdout",
     "output_type": "stream",
     "text": [
      "Creating building AB\n",
      "Creating building AB\n",
      "Creating building AB\n"
     ]
    },
    {
     "name": "stderr",
     "output_type": "stream",
     "text": [
      "c:\\Users\\felix\\Programmieren\\districtgenerator\\.venv\\Lib\\site-packages\\teaser\\logic\\buildingobjects\\useconditions.py:363: FutureWarning: 'H' is deprecated and will be removed in a future version, please use 'h' instead.\n",
      "  index=pd.date_range(\"2019-01-01 00:00:00\", periods=8760, freq=\"H\")\n",
      "c:\\Users\\felix\\Programmieren\\districtgenerator\\.venv\\Lib\\site-packages\\teaser\\logic\\buildingobjects\\useconditions.py:363: FutureWarning: 'H' is deprecated and will be removed in a future version, please use 'h' instead.\n",
      "  index=pd.date_range(\"2019-01-01 00:00:00\", periods=8760, freq=\"H\")\n",
      "c:\\Users\\felix\\Programmieren\\districtgenerator\\.venv\\Lib\\site-packages\\teaser\\logic\\buildingobjects\\useconditions.py:363: FutureWarning: 'H' is deprecated and will be removed in a future version, please use 'h' instead.\n",
      "  index=pd.date_range(\"2019-01-01 00:00:00\", periods=8760, freq=\"H\")\n"
     ]
    },
    {
     "name": "stdout",
     "output_type": "stream",
     "text": [
      "Creating building AB\n",
      "Creating building AB\n"
     ]
    },
    {
     "name": "stderr",
     "output_type": "stream",
     "text": [
      "c:\\Users\\felix\\Programmieren\\districtgenerator\\.venv\\Lib\\site-packages\\teaser\\logic\\buildingobjects\\useconditions.py:363: FutureWarning: 'H' is deprecated and will be removed in a future version, please use 'h' instead.\n",
      "  index=pd.date_range(\"2019-01-01 00:00:00\", periods=8760, freq=\"H\")\n",
      "c:\\Users\\felix\\Programmieren\\districtgenerator\\.venv\\Lib\\site-packages\\teaser\\logic\\buildingobjects\\useconditions.py:363: FutureWarning: 'H' is deprecated and will be removed in a future version, please use 'h' instead.\n",
      "  index=pd.date_range(\"2019-01-01 00:00:00\", periods=8760, freq=\"H\")\n"
     ]
    },
    {
     "name": "stdout",
     "output_type": "stream",
     "text": [
      "Creating building AB\n",
      "Creating building AB\n",
      "Creating building AB\n"
     ]
    },
    {
     "name": "stderr",
     "output_type": "stream",
     "text": [
      "c:\\Users\\felix\\Programmieren\\districtgenerator\\.venv\\Lib\\site-packages\\teaser\\logic\\buildingobjects\\useconditions.py:363: FutureWarning: 'H' is deprecated and will be removed in a future version, please use 'h' instead.\n",
      "  index=pd.date_range(\"2019-01-01 00:00:00\", periods=8760, freq=\"H\")\n",
      "c:\\Users\\felix\\Programmieren\\districtgenerator\\.venv\\Lib\\site-packages\\teaser\\logic\\buildingobjects\\useconditions.py:363: FutureWarning: 'H' is deprecated and will be removed in a future version, please use 'h' instead.\n",
      "  index=pd.date_range(\"2019-01-01 00:00:00\", periods=8760, freq=\"H\")\n",
      "c:\\Users\\felix\\Programmieren\\districtgenerator\\.venv\\Lib\\site-packages\\teaser\\logic\\buildingobjects\\useconditions.py:363: FutureWarning: 'H' is deprecated and will be removed in a future version, please use 'h' instead.\n",
      "  index=pd.date_range(\"2019-01-01 00:00:00\", periods=8760, freq=\"H\")\n"
     ]
    },
    {
     "name": "stdout",
     "output_type": "stream",
     "text": [
      "Creating building AB\n",
      "Creating building AB\n"
     ]
    },
    {
     "name": "stderr",
     "output_type": "stream",
     "text": [
      "c:\\Users\\felix\\Programmieren\\districtgenerator\\.venv\\Lib\\site-packages\\teaser\\logic\\buildingobjects\\useconditions.py:363: FutureWarning: 'H' is deprecated and will be removed in a future version, please use 'h' instead.\n",
      "  index=pd.date_range(\"2019-01-01 00:00:00\", periods=8760, freq=\"H\")\n",
      "c:\\Users\\felix\\Programmieren\\districtgenerator\\.venv\\Lib\\site-packages\\teaser\\logic\\buildingobjects\\useconditions.py:363: FutureWarning: 'H' is deprecated and will be removed in a future version, please use 'h' instead.\n",
      "  index=pd.date_range(\"2019-01-01 00:00:00\", periods=8760, freq=\"H\")\n"
     ]
    },
    {
     "name": "stdout",
     "output_type": "stream",
     "text": [
      "Creating building AB\n",
      "Creating building AB\n"
     ]
    },
    {
     "name": "stderr",
     "output_type": "stream",
     "text": [
      "c:\\Users\\felix\\Programmieren\\districtgenerator\\.venv\\Lib\\site-packages\\teaser\\logic\\buildingobjects\\useconditions.py:363: FutureWarning: 'H' is deprecated and will be removed in a future version, please use 'h' instead.\n",
      "  index=pd.date_range(\"2019-01-01 00:00:00\", periods=8760, freq=\"H\")\n",
      "c:\\Users\\felix\\Programmieren\\districtgenerator\\.venv\\Lib\\site-packages\\teaser\\logic\\buildingobjects\\useconditions.py:363: FutureWarning: 'H' is deprecated and will be removed in a future version, please use 'h' instead.\n",
      "  index=pd.date_range(\"2019-01-01 00:00:00\", periods=8760, freq=\"H\")\n"
     ]
    },
    {
     "name": "stdout",
     "output_type": "stream",
     "text": [
      "Creating building IWU Sports Facilities\n",
      "We are about to generate a Non Residential building.\n",
      "Available building types: ['IWU Office, Administrative or Government Buildings', 'IWU Research and University Teaching', 'IWU Health and Care', 'IWU School, Day Nursery and other Care', 'IWU Culture and Leisure', 'IWU Sports Facilities', 'IWU Hotels, Boarding, Restaurants or Catering', 'IWU Production, Workshop, Warehouse or Operations', 'IWU Trade Buildings', 'IWU Technical and Utility (supply and disposal)', 'IWU Transport', 'IWU Generalized (1) Services building', 'IWU Generalized (2) Production buildings']\n",
      "Current usage: IWU Sports Facilities\n",
      "No data about lighntning control available for IWU Sports Facilities and data type Turnhalle\n",
      "Creating building SFH\n",
      "Creating building AB\n"
     ]
    },
    {
     "name": "stderr",
     "output_type": "stream",
     "text": [
      "c:\\Users\\felix\\Programmieren\\districtgenerator\\.venv\\Lib\\site-packages\\teaser\\logic\\buildingobjects\\useconditions.py:363: FutureWarning: 'H' is deprecated and will be removed in a future version, please use 'h' instead.\n",
      "  index=pd.date_range(\"2019-01-01 00:00:00\", periods=8760, freq=\"H\")\n",
      "c:\\Users\\felix\\Programmieren\\districtgenerator\\.venv\\Lib\\site-packages\\teaser\\logic\\buildingobjects\\useconditions.py:363: FutureWarning: 'H' is deprecated and will be removed in a future version, please use 'h' instead.\n",
      "  index=pd.date_range(\"2019-01-01 00:00:00\", periods=8760, freq=\"H\")\n",
      "c:\\Users\\felix\\Programmieren\\districtgenerator\\.venv\\Lib\\site-packages\\teaser\\logic\\buildingobjects\\useconditions.py:363: FutureWarning: 'H' is deprecated and will be removed in a future version, please use 'h' instead.\n",
      "  index=pd.date_range(\"2019-01-01 00:00:00\", periods=8760, freq=\"H\")\n"
     ]
    },
    {
     "name": "stdout",
     "output_type": "stream",
     "text": [
      "Creating building IWU Health and Care\n",
      "We are about to generate a Non Residential building.\n",
      "Available building types: ['IWU Office, Administrative or Government Buildings', 'IWU Research and University Teaching', 'IWU Health and Care', 'IWU School, Day Nursery and other Care', 'IWU Culture and Leisure', 'IWU Sports Facilities', 'IWU Hotels, Boarding, Restaurants or Catering', 'IWU Production, Workshop, Warehouse or Operations', 'IWU Trade Buildings', 'IWU Technical and Utility (supply and disposal)', 'IWU Transport', 'IWU Generalized (1) Services building', 'IWU Generalized (2) Production buildings']\n",
      "Current usage: IWU Health and Care\n",
      "Creating building AB\n",
      "Creating building AB\n",
      "Creating building AB\n"
     ]
    },
    {
     "name": "stderr",
     "output_type": "stream",
     "text": [
      "c:\\Users\\felix\\Programmieren\\districtgenerator\\.venv\\Lib\\site-packages\\teaser\\logic\\buildingobjects\\useconditions.py:363: FutureWarning: 'H' is deprecated and will be removed in a future version, please use 'h' instead.\n",
      "  index=pd.date_range(\"2019-01-01 00:00:00\", periods=8760, freq=\"H\")\n",
      "c:\\Users\\felix\\Programmieren\\districtgenerator\\.venv\\Lib\\site-packages\\teaser\\logic\\buildingobjects\\useconditions.py:363: FutureWarning: 'H' is deprecated and will be removed in a future version, please use 'h' instead.\n",
      "  index=pd.date_range(\"2019-01-01 00:00:00\", periods=8760, freq=\"H\")\n"
     ]
    },
    {
     "name": "stdout",
     "output_type": "stream",
     "text": [
      "Creating building AB\n"
     ]
    },
    {
     "name": "stderr",
     "output_type": "stream",
     "text": [
      "c:\\Users\\felix\\Programmieren\\districtgenerator\\.venv\\Lib\\site-packages\\teaser\\logic\\buildingobjects\\useconditions.py:363: FutureWarning: 'H' is deprecated and will be removed in a future version, please use 'h' instead.\n",
      "  index=pd.date_range(\"2019-01-01 00:00:00\", periods=8760, freq=\"H\")\n"
     ]
    },
    {
     "name": "stdout",
     "output_type": "stream",
     "text": [
      "Creating building AB\n",
      "Creating building AB\n"
     ]
    },
    {
     "name": "stderr",
     "output_type": "stream",
     "text": [
      "c:\\Users\\felix\\Programmieren\\districtgenerator\\.venv\\Lib\\site-packages\\teaser\\logic\\buildingobjects\\useconditions.py:363: FutureWarning: 'H' is deprecated and will be removed in a future version, please use 'h' instead.\n",
      "  index=pd.date_range(\"2019-01-01 00:00:00\", periods=8760, freq=\"H\")\n",
      "c:\\Users\\felix\\Programmieren\\districtgenerator\\.venv\\Lib\\site-packages\\teaser\\logic\\buildingobjects\\useconditions.py:363: FutureWarning: 'H' is deprecated and will be removed in a future version, please use 'h' instead.\n",
      "  index=pd.date_range(\"2019-01-01 00:00:00\", periods=8760, freq=\"H\")\n"
     ]
    },
    {
     "name": "stdout",
     "output_type": "stream",
     "text": [
      "Creating building AB\n",
      "Creating building AB\n"
     ]
    },
    {
     "name": "stderr",
     "output_type": "stream",
     "text": [
      "c:\\Users\\felix\\Programmieren\\districtgenerator\\.venv\\Lib\\site-packages\\teaser\\logic\\buildingobjects\\useconditions.py:363: FutureWarning: 'H' is deprecated and will be removed in a future version, please use 'h' instead.\n",
      "  index=pd.date_range(\"2019-01-01 00:00:00\", periods=8760, freq=\"H\")\n",
      "c:\\Users\\felix\\Programmieren\\districtgenerator\\.venv\\Lib\\site-packages\\teaser\\logic\\buildingobjects\\useconditions.py:363: FutureWarning: 'H' is deprecated and will be removed in a future version, please use 'h' instead.\n",
      "  index=pd.date_range(\"2019-01-01 00:00:00\", periods=8760, freq=\"H\")\n"
     ]
    },
    {
     "name": "stdout",
     "output_type": "stream",
     "text": [
      "Creating building AB\n",
      "Creating building AB\n"
     ]
    },
    {
     "name": "stderr",
     "output_type": "stream",
     "text": [
      "c:\\Users\\felix\\Programmieren\\districtgenerator\\.venv\\Lib\\site-packages\\teaser\\logic\\buildingobjects\\useconditions.py:363: FutureWarning: 'H' is deprecated and will be removed in a future version, please use 'h' instead.\n",
      "  index=pd.date_range(\"2019-01-01 00:00:00\", periods=8760, freq=\"H\")\n",
      "c:\\Users\\felix\\Programmieren\\districtgenerator\\.venv\\Lib\\site-packages\\teaser\\logic\\buildingobjects\\useconditions.py:363: FutureWarning: 'H' is deprecated and will be removed in a future version, please use 'h' instead.\n",
      "  index=pd.date_range(\"2019-01-01 00:00:00\", periods=8760, freq=\"H\")\n"
     ]
    },
    {
     "name": "stdout",
     "output_type": "stream",
     "text": [
      "Creating building AB\n",
      "Creating building AB\n"
     ]
    },
    {
     "name": "stderr",
     "output_type": "stream",
     "text": [
      "c:\\Users\\felix\\Programmieren\\districtgenerator\\.venv\\Lib\\site-packages\\teaser\\logic\\buildingobjects\\useconditions.py:363: FutureWarning: 'H' is deprecated and will be removed in a future version, please use 'h' instead.\n",
      "  index=pd.date_range(\"2019-01-01 00:00:00\", periods=8760, freq=\"H\")\n",
      "c:\\Users\\felix\\Programmieren\\districtgenerator\\.venv\\Lib\\site-packages\\teaser\\logic\\buildingobjects\\useconditions.py:363: FutureWarning: 'H' is deprecated and will be removed in a future version, please use 'h' instead.\n",
      "  index=pd.date_range(\"2019-01-01 00:00:00\", periods=8760, freq=\"H\")\n"
     ]
    },
    {
     "name": "stdout",
     "output_type": "stream",
     "text": [
      "Creating building AB\n",
      "Creating building AB\n"
     ]
    },
    {
     "name": "stderr",
     "output_type": "stream",
     "text": [
      "c:\\Users\\felix\\Programmieren\\districtgenerator\\.venv\\Lib\\site-packages\\teaser\\logic\\buildingobjects\\useconditions.py:363: FutureWarning: 'H' is deprecated and will be removed in a future version, please use 'h' instead.\n",
      "  index=pd.date_range(\"2019-01-01 00:00:00\", periods=8760, freq=\"H\")\n",
      "c:\\Users\\felix\\Programmieren\\districtgenerator\\.venv\\Lib\\site-packages\\teaser\\logic\\buildingobjects\\useconditions.py:363: FutureWarning: 'H' is deprecated and will be removed in a future version, please use 'h' instead.\n",
      "  index=pd.date_range(\"2019-01-01 00:00:00\", periods=8760, freq=\"H\")\n"
     ]
    },
    {
     "name": "stdout",
     "output_type": "stream",
     "text": [
      "Creating building AB\n",
      "Creating building AB\n"
     ]
    },
    {
     "name": "stderr",
     "output_type": "stream",
     "text": [
      "c:\\Users\\felix\\Programmieren\\districtgenerator\\.venv\\Lib\\site-packages\\teaser\\logic\\buildingobjects\\useconditions.py:363: FutureWarning: 'H' is deprecated and will be removed in a future version, please use 'h' instead.\n",
      "  index=pd.date_range(\"2019-01-01 00:00:00\", periods=8760, freq=\"H\")\n",
      "c:\\Users\\felix\\Programmieren\\districtgenerator\\.venv\\Lib\\site-packages\\teaser\\logic\\buildingobjects\\useconditions.py:363: FutureWarning: 'H' is deprecated and will be removed in a future version, please use 'h' instead.\n",
      "  index=pd.date_range(\"2019-01-01 00:00:00\", periods=8760, freq=\"H\")\n"
     ]
    },
    {
     "name": "stdout",
     "output_type": "stream",
     "text": [
      "Creating building AB\n",
      "Creating building AB\n"
     ]
    },
    {
     "name": "stderr",
     "output_type": "stream",
     "text": [
      "c:\\Users\\felix\\Programmieren\\districtgenerator\\.venv\\Lib\\site-packages\\teaser\\logic\\buildingobjects\\useconditions.py:363: FutureWarning: 'H' is deprecated and will be removed in a future version, please use 'h' instead.\n",
      "  index=pd.date_range(\"2019-01-01 00:00:00\", periods=8760, freq=\"H\")\n",
      "c:\\Users\\felix\\Programmieren\\districtgenerator\\.venv\\Lib\\site-packages\\teaser\\logic\\buildingobjects\\useconditions.py:363: FutureWarning: 'H' is deprecated and will be removed in a future version, please use 'h' instead.\n",
      "  index=pd.date_range(\"2019-01-01 00:00:00\", periods=8760, freq=\"H\")\n"
     ]
    },
    {
     "name": "stdout",
     "output_type": "stream",
     "text": [
      "Creating building AB\n",
      "Creating building AB\n"
     ]
    },
    {
     "name": "stderr",
     "output_type": "stream",
     "text": [
      "c:\\Users\\felix\\Programmieren\\districtgenerator\\.venv\\Lib\\site-packages\\teaser\\logic\\buildingobjects\\useconditions.py:363: FutureWarning: 'H' is deprecated and will be removed in a future version, please use 'h' instead.\n",
      "  index=pd.date_range(\"2019-01-01 00:00:00\", periods=8760, freq=\"H\")\n",
      "c:\\Users\\felix\\Programmieren\\districtgenerator\\.venv\\Lib\\site-packages\\teaser\\logic\\buildingobjects\\useconditions.py:363: FutureWarning: 'H' is deprecated and will be removed in a future version, please use 'h' instead.\n",
      "  index=pd.date_range(\"2019-01-01 00:00:00\", periods=8760, freq=\"H\")\n"
     ]
    },
    {
     "name": "stdout",
     "output_type": "stream",
     "text": [
      "Creating building TH\n",
      "Creating building AB\n",
      "Creating building IWU Transport\n",
      "We are about to generate a Non Residential building.\n",
      "Available building types: ['IWU Office, Administrative or Government Buildings', 'IWU Research and University Teaching', 'IWU Health and Care', 'IWU School, Day Nursery and other Care', 'IWU Culture and Leisure', 'IWU Sports Facilities', 'IWU Hotels, Boarding, Restaurants or Catering', 'IWU Production, Workshop, Warehouse or Operations', 'IWU Trade Buildings', 'IWU Technical and Utility (supply and disposal)', 'IWU Transport', 'IWU Generalized (1) Services building', 'IWU Generalized (2) Production buildings']\n",
      "Current usage: IWU Transport\n"
     ]
    },
    {
     "name": "stderr",
     "output_type": "stream",
     "text": [
      "c:\\Users\\felix\\Programmieren\\districtgenerator\\.venv\\Lib\\site-packages\\teaser\\logic\\buildingobjects\\useconditions.py:363: FutureWarning: 'H' is deprecated and will be removed in a future version, please use 'h' instead.\n",
      "  index=pd.date_range(\"2019-01-01 00:00:00\", periods=8760, freq=\"H\")\n",
      "c:\\Users\\felix\\Programmieren\\districtgenerator\\.venv\\Lib\\site-packages\\teaser\\logic\\buildingobjects\\useconditions.py:363: FutureWarning: 'H' is deprecated and will be removed in a future version, please use 'h' instead.\n",
      "  index=pd.date_range(\"2019-01-01 00:00:00\", periods=8760, freq=\"H\")\n"
     ]
    },
    {
     "name": "stdout",
     "output_type": "stream",
     "text": [
      "Creating building AB\n",
      "Creating building AB\n"
     ]
    },
    {
     "name": "stderr",
     "output_type": "stream",
     "text": [
      "c:\\Users\\felix\\Programmieren\\districtgenerator\\.venv\\Lib\\site-packages\\teaser\\logic\\buildingobjects\\useconditions.py:363: FutureWarning: 'H' is deprecated and will be removed in a future version, please use 'h' instead.\n",
      "  index=pd.date_range(\"2019-01-01 00:00:00\", periods=8760, freq=\"H\")\n",
      "c:\\Users\\felix\\Programmieren\\districtgenerator\\.venv\\Lib\\site-packages\\teaser\\logic\\buildingobjects\\useconditions.py:363: FutureWarning: 'H' is deprecated and will be removed in a future version, please use 'h' instead.\n",
      "  index=pd.date_range(\"2019-01-01 00:00:00\", periods=8760, freq=\"H\")\n"
     ]
    },
    {
     "name": "stdout",
     "output_type": "stream",
     "text": [
      "Creating building AB\n",
      "Creating building AB\n"
     ]
    },
    {
     "name": "stderr",
     "output_type": "stream",
     "text": [
      "c:\\Users\\felix\\Programmieren\\districtgenerator\\.venv\\Lib\\site-packages\\teaser\\logic\\buildingobjects\\useconditions.py:363: FutureWarning: 'H' is deprecated and will be removed in a future version, please use 'h' instead.\n",
      "  index=pd.date_range(\"2019-01-01 00:00:00\", periods=8760, freq=\"H\")\n",
      "c:\\Users\\felix\\Programmieren\\districtgenerator\\.venv\\Lib\\site-packages\\teaser\\logic\\buildingobjects\\useconditions.py:363: FutureWarning: 'H' is deprecated and will be removed in a future version, please use 'h' instead.\n",
      "  index=pd.date_range(\"2019-01-01 00:00:00\", periods=8760, freq=\"H\")\n"
     ]
    },
    {
     "name": "stdout",
     "output_type": "stream",
     "text": [
      "Creating building AB\n",
      "Creating building AB\n"
     ]
    },
    {
     "name": "stderr",
     "output_type": "stream",
     "text": [
      "c:\\Users\\felix\\Programmieren\\districtgenerator\\.venv\\Lib\\site-packages\\teaser\\logic\\buildingobjects\\useconditions.py:363: FutureWarning: 'H' is deprecated and will be removed in a future version, please use 'h' instead.\n",
      "  index=pd.date_range(\"2019-01-01 00:00:00\", periods=8760, freq=\"H\")\n",
      "c:\\Users\\felix\\Programmieren\\districtgenerator\\.venv\\Lib\\site-packages\\teaser\\logic\\buildingobjects\\useconditions.py:363: FutureWarning: 'H' is deprecated and will be removed in a future version, please use 'h' instead.\n",
      "  index=pd.date_range(\"2019-01-01 00:00:00\", periods=8760, freq=\"H\")\n"
     ]
    },
    {
     "name": "stdout",
     "output_type": "stream",
     "text": [
      "Creating building AB\n",
      "Creating building IWU Transport\n",
      "We are about to generate a Non Residential building.\n",
      "Available building types: ['IWU Office, Administrative or Government Buildings', 'IWU Research and University Teaching', 'IWU Health and Care', 'IWU School, Day Nursery and other Care', 'IWU Culture and Leisure', 'IWU Sports Facilities', 'IWU Hotels, Boarding, Restaurants or Catering', 'IWU Production, Workshop, Warehouse or Operations', 'IWU Trade Buildings', 'IWU Technical and Utility (supply and disposal)', 'IWU Transport', 'IWU Generalized (1) Services building', 'IWU Generalized (2) Production buildings']\n",
      "Current usage: IWU Transport\n"
     ]
    },
    {
     "name": "stderr",
     "output_type": "stream",
     "text": [
      "c:\\Users\\felix\\Programmieren\\districtgenerator\\.venv\\Lib\\site-packages\\teaser\\logic\\buildingobjects\\useconditions.py:363: FutureWarning: 'H' is deprecated and will be removed in a future version, please use 'h' instead.\n",
      "  index=pd.date_range(\"2019-01-01 00:00:00\", periods=8760, freq=\"H\")\n"
     ]
    },
    {
     "name": "stdout",
     "output_type": "stream",
     "text": [
      "Creating building AB\n",
      "Creating building AB\n",
      "Creating building AB\n"
     ]
    },
    {
     "name": "stderr",
     "output_type": "stream",
     "text": [
      "c:\\Users\\felix\\Programmieren\\districtgenerator\\.venv\\Lib\\site-packages\\teaser\\logic\\buildingobjects\\useconditions.py:363: FutureWarning: 'H' is deprecated and will be removed in a future version, please use 'h' instead.\n",
      "  index=pd.date_range(\"2019-01-01 00:00:00\", periods=8760, freq=\"H\")\n",
      "c:\\Users\\felix\\Programmieren\\districtgenerator\\.venv\\Lib\\site-packages\\teaser\\logic\\buildingobjects\\useconditions.py:363: FutureWarning: 'H' is deprecated and will be removed in a future version, please use 'h' instead.\n",
      "  index=pd.date_range(\"2019-01-01 00:00:00\", periods=8760, freq=\"H\")\n",
      "c:\\Users\\felix\\Programmieren\\districtgenerator\\.venv\\Lib\\site-packages\\teaser\\logic\\buildingobjects\\useconditions.py:363: FutureWarning: 'H' is deprecated and will be removed in a future version, please use 'h' instead.\n",
      "  index=pd.date_range(\"2019-01-01 00:00:00\", periods=8760, freq=\"H\")\n"
     ]
    },
    {
     "name": "stdout",
     "output_type": "stream",
     "text": [
      "Creating building IWU Transport\n",
      "We are about to generate a Non Residential building.\n",
      "Available building types: ['IWU Office, Administrative or Government Buildings', 'IWU Research and University Teaching', 'IWU Health and Care', 'IWU School, Day Nursery and other Care', 'IWU Culture and Leisure', 'IWU Sports Facilities', 'IWU Hotels, Boarding, Restaurants or Catering', 'IWU Production, Workshop, Warehouse or Operations', 'IWU Trade Buildings', 'IWU Technical and Utility (supply and disposal)', 'IWU Transport', 'IWU Generalized (1) Services building', 'IWU Generalized (2) Production buildings']\n",
      "Current usage: IWU Transport\n",
      "Creating building AB\n"
     ]
    },
    {
     "name": "stderr",
     "output_type": "stream",
     "text": [
      "c:\\Users\\felix\\Programmieren\\districtgenerator\\.venv\\Lib\\site-packages\\teaser\\logic\\buildingobjects\\useconditions.py:363: FutureWarning: 'H' is deprecated and will be removed in a future version, please use 'h' instead.\n",
      "  index=pd.date_range(\"2019-01-01 00:00:00\", periods=8760, freq=\"H\")\n",
      "c:\\Users\\felix\\Programmieren\\districtgenerator\\.venv\\Lib\\site-packages\\teaser\\logic\\buildingobjects\\useconditions.py:363: FutureWarning: 'H' is deprecated and will be removed in a future version, please use 'h' instead.\n",
      "  index=pd.date_range(\"2019-01-01 00:00:00\", periods=8760, freq=\"H\")\n"
     ]
    },
    {
     "name": "stdout",
     "output_type": "stream",
     "text": [
      "Creating building AB\n",
      "Creating building AB\n"
     ]
    },
    {
     "name": "stderr",
     "output_type": "stream",
     "text": [
      "c:\\Users\\felix\\Programmieren\\districtgenerator\\.venv\\Lib\\site-packages\\teaser\\logic\\buildingobjects\\useconditions.py:363: FutureWarning: 'H' is deprecated and will be removed in a future version, please use 'h' instead.\n",
      "  index=pd.date_range(\"2019-01-01 00:00:00\", periods=8760, freq=\"H\")\n",
      "c:\\Users\\felix\\Programmieren\\districtgenerator\\.venv\\Lib\\site-packages\\teaser\\logic\\buildingobjects\\useconditions.py:363: FutureWarning: 'H' is deprecated and will be removed in a future version, please use 'h' instead.\n",
      "  index=pd.date_range(\"2019-01-01 00:00:00\", periods=8760, freq=\"H\")\n"
     ]
    },
    {
     "name": "stdout",
     "output_type": "stream",
     "text": [
      "Creating building AB\n",
      "Creating building AB\n"
     ]
    },
    {
     "name": "stderr",
     "output_type": "stream",
     "text": [
      "c:\\Users\\felix\\Programmieren\\districtgenerator\\.venv\\Lib\\site-packages\\teaser\\logic\\buildingobjects\\useconditions.py:363: FutureWarning: 'H' is deprecated and will be removed in a future version, please use 'h' instead.\n",
      "  index=pd.date_range(\"2019-01-01 00:00:00\", periods=8760, freq=\"H\")\n",
      "c:\\Users\\felix\\Programmieren\\districtgenerator\\.venv\\Lib\\site-packages\\teaser\\logic\\buildingobjects\\useconditions.py:363: FutureWarning: 'H' is deprecated and will be removed in a future version, please use 'h' instead.\n",
      "  index=pd.date_range(\"2019-01-01 00:00:00\", periods=8760, freq=\"H\")\n"
     ]
    },
    {
     "name": "stdout",
     "output_type": "stream",
     "text": [
      "Creating building AB\n",
      "Creating building IWU Hotels, Boarding, Restaurants or Catering\n",
      "We are about to generate a Non Residential building.\n",
      "Available building types: ['IWU Office, Administrative or Government Buildings', 'IWU Research and University Teaching', 'IWU Health and Care', 'IWU School, Day Nursery and other Care', 'IWU Culture and Leisure', 'IWU Sports Facilities', 'IWU Hotels, Boarding, Restaurants or Catering', 'IWU Production, Workshop, Warehouse or Operations', 'IWU Trade Buildings', 'IWU Technical and Utility (supply and disposal)', 'IWU Transport', 'IWU Generalized (1) Services building', 'IWU Generalized (2) Production buildings']\n",
      "Current usage: IWU Hotels, Boarding, Restaurants or Catering\n",
      "Creating building AB\n"
     ]
    },
    {
     "name": "stderr",
     "output_type": "stream",
     "text": [
      "c:\\Users\\felix\\Programmieren\\districtgenerator\\.venv\\Lib\\site-packages\\teaser\\logic\\buildingobjects\\useconditions.py:363: FutureWarning: 'H' is deprecated and will be removed in a future version, please use 'h' instead.\n",
      "  index=pd.date_range(\"2019-01-01 00:00:00\", periods=8760, freq=\"H\")\n",
      "c:\\Users\\felix\\Programmieren\\districtgenerator\\.venv\\Lib\\site-packages\\teaser\\logic\\buildingobjects\\useconditions.py:363: FutureWarning: 'H' is deprecated and will be removed in a future version, please use 'h' instead.\n",
      "  index=pd.date_range(\"2019-01-01 00:00:00\", periods=8760, freq=\"H\")\n"
     ]
    },
    {
     "name": "stdout",
     "output_type": "stream",
     "text": [
      "Creating building IWU Transport\n",
      "We are about to generate a Non Residential building.\n",
      "Available building types: ['IWU Office, Administrative or Government Buildings', 'IWU Research and University Teaching', 'IWU Health and Care', 'IWU School, Day Nursery and other Care', 'IWU Culture and Leisure', 'IWU Sports Facilities', 'IWU Hotels, Boarding, Restaurants or Catering', 'IWU Production, Workshop, Warehouse or Operations', 'IWU Trade Buildings', 'IWU Technical and Utility (supply and disposal)', 'IWU Transport', 'IWU Generalized (1) Services building', 'IWU Generalized (2) Production buildings']\n",
      "Current usage: IWU Transport\n",
      "Creating building AB\n",
      "Creating building IWU Transport\n",
      "We are about to generate a Non Residential building.\n",
      "Available building types: ['IWU Office, Administrative or Government Buildings', 'IWU Research and University Teaching', 'IWU Health and Care', 'IWU School, Day Nursery and other Care', 'IWU Culture and Leisure', 'IWU Sports Facilities', 'IWU Hotels, Boarding, Restaurants or Catering', 'IWU Production, Workshop, Warehouse or Operations', 'IWU Trade Buildings', 'IWU Technical and Utility (supply and disposal)', 'IWU Transport', 'IWU Generalized (1) Services building', 'IWU Generalized (2) Production buildings']\n",
      "Current usage: IWU Transport\n",
      "Creating building AB\n"
     ]
    },
    {
     "name": "stderr",
     "output_type": "stream",
     "text": [
      "c:\\Users\\felix\\Programmieren\\districtgenerator\\.venv\\Lib\\site-packages\\teaser\\logic\\buildingobjects\\useconditions.py:363: FutureWarning: 'H' is deprecated and will be removed in a future version, please use 'h' instead.\n",
      "  index=pd.date_range(\"2019-01-01 00:00:00\", periods=8760, freq=\"H\")\n",
      "c:\\Users\\felix\\Programmieren\\districtgenerator\\.venv\\Lib\\site-packages\\teaser\\logic\\buildingobjects\\useconditions.py:363: FutureWarning: 'H' is deprecated and will be removed in a future version, please use 'h' instead.\n",
      "  index=pd.date_range(\"2019-01-01 00:00:00\", periods=8760, freq=\"H\")\n"
     ]
    },
    {
     "name": "stdout",
     "output_type": "stream",
     "text": [
      "Creating building AB\n",
      "Creating building AB\n"
     ]
    },
    {
     "name": "stderr",
     "output_type": "stream",
     "text": [
      "c:\\Users\\felix\\Programmieren\\districtgenerator\\.venv\\Lib\\site-packages\\teaser\\logic\\buildingobjects\\useconditions.py:363: FutureWarning: 'H' is deprecated and will be removed in a future version, please use 'h' instead.\n",
      "  index=pd.date_range(\"2019-01-01 00:00:00\", periods=8760, freq=\"H\")\n",
      "c:\\Users\\felix\\Programmieren\\districtgenerator\\.venv\\Lib\\site-packages\\teaser\\logic\\buildingobjects\\useconditions.py:363: FutureWarning: 'H' is deprecated and will be removed in a future version, please use 'h' instead.\n",
      "  index=pd.date_range(\"2019-01-01 00:00:00\", periods=8760, freq=\"H\")\n"
     ]
    },
    {
     "name": "stdout",
     "output_type": "stream",
     "text": [
      "Creating building IWU Transport\n",
      "We are about to generate a Non Residential building.\n",
      "Available building types: ['IWU Office, Administrative or Government Buildings', 'IWU Research and University Teaching', 'IWU Health and Care', 'IWU School, Day Nursery and other Care', 'IWU Culture and Leisure', 'IWU Sports Facilities', 'IWU Hotels, Boarding, Restaurants or Catering', 'IWU Production, Workshop, Warehouse or Operations', 'IWU Trade Buildings', 'IWU Technical and Utility (supply and disposal)', 'IWU Transport', 'IWU Generalized (1) Services building', 'IWU Generalized (2) Production buildings']\n",
      "Current usage: IWU Transport\n",
      "Creating building AB\n",
      "Creating building AB\n"
     ]
    },
    {
     "name": "stderr",
     "output_type": "stream",
     "text": [
      "c:\\Users\\felix\\Programmieren\\districtgenerator\\.venv\\Lib\\site-packages\\teaser\\logic\\buildingobjects\\useconditions.py:363: FutureWarning: 'H' is deprecated and will be removed in a future version, please use 'h' instead.\n",
      "  index=pd.date_range(\"2019-01-01 00:00:00\", periods=8760, freq=\"H\")\n",
      "c:\\Users\\felix\\Programmieren\\districtgenerator\\.venv\\Lib\\site-packages\\teaser\\logic\\buildingobjects\\useconditions.py:363: FutureWarning: 'H' is deprecated and will be removed in a future version, please use 'h' instead.\n",
      "  index=pd.date_range(\"2019-01-01 00:00:00\", periods=8760, freq=\"H\")\n"
     ]
    },
    {
     "name": "stdout",
     "output_type": "stream",
     "text": [
      "Creating building AB\n",
      "Creating building AB\n",
      "Creating building AB\n"
     ]
    },
    {
     "name": "stderr",
     "output_type": "stream",
     "text": [
      "c:\\Users\\felix\\Programmieren\\districtgenerator\\.venv\\Lib\\site-packages\\teaser\\logic\\buildingobjects\\useconditions.py:363: FutureWarning: 'H' is deprecated and will be removed in a future version, please use 'h' instead.\n",
      "  index=pd.date_range(\"2019-01-01 00:00:00\", periods=8760, freq=\"H\")\n",
      "c:\\Users\\felix\\Programmieren\\districtgenerator\\.venv\\Lib\\site-packages\\teaser\\logic\\buildingobjects\\useconditions.py:363: FutureWarning: 'H' is deprecated and will be removed in a future version, please use 'h' instead.\n",
      "  index=pd.date_range(\"2019-01-01 00:00:00\", periods=8760, freq=\"H\")\n"
     ]
    },
    {
     "name": "stdout",
     "output_type": "stream",
     "text": [
      "Creating building AB\n",
      "Creating building AB\n"
     ]
    },
    {
     "name": "stderr",
     "output_type": "stream",
     "text": [
      "c:\\Users\\felix\\Programmieren\\districtgenerator\\.venv\\Lib\\site-packages\\teaser\\logic\\buildingobjects\\useconditions.py:363: FutureWarning: 'H' is deprecated and will be removed in a future version, please use 'h' instead.\n",
      "  index=pd.date_range(\"2019-01-01 00:00:00\", periods=8760, freq=\"H\")\n",
      "c:\\Users\\felix\\Programmieren\\districtgenerator\\.venv\\Lib\\site-packages\\teaser\\logic\\buildingobjects\\useconditions.py:363: FutureWarning: 'H' is deprecated and will be removed in a future version, please use 'h' instead.\n",
      "  index=pd.date_range(\"2019-01-01 00:00:00\", periods=8760, freq=\"H\")\n"
     ]
    },
    {
     "name": "stdout",
     "output_type": "stream",
     "text": [
      "Creating building AB\n"
     ]
    },
    {
     "name": "stderr",
     "output_type": "stream",
     "text": [
      "c:\\Users\\felix\\Programmieren\\districtgenerator\\.venv\\Lib\\site-packages\\teaser\\logic\\buildingobjects\\useconditions.py:363: FutureWarning: 'H' is deprecated and will be removed in a future version, please use 'h' instead.\n",
      "  index=pd.date_range(\"2019-01-01 00:00:00\", periods=8760, freq=\"H\")\n"
     ]
    },
    {
     "name": "stdout",
     "output_type": "stream",
     "text": [
      "Creating building AB\n",
      "Creating building AB\n"
     ]
    },
    {
     "name": "stderr",
     "output_type": "stream",
     "text": [
      "c:\\Users\\felix\\Programmieren\\districtgenerator\\.venv\\Lib\\site-packages\\teaser\\logic\\buildingobjects\\useconditions.py:363: FutureWarning: 'H' is deprecated and will be removed in a future version, please use 'h' instead.\n",
      "  index=pd.date_range(\"2019-01-01 00:00:00\", periods=8760, freq=\"H\")\n",
      "c:\\Users\\felix\\Programmieren\\districtgenerator\\.venv\\Lib\\site-packages\\teaser\\logic\\buildingobjects\\useconditions.py:363: FutureWarning: 'H' is deprecated and will be removed in a future version, please use 'h' instead.\n",
      "  index=pd.date_range(\"2019-01-01 00:00:00\", periods=8760, freq=\"H\")\n"
     ]
    },
    {
     "name": "stdout",
     "output_type": "stream",
     "text": [
      "Creating building AB\n",
      "Creating building AB\n"
     ]
    },
    {
     "name": "stderr",
     "output_type": "stream",
     "text": [
      "c:\\Users\\felix\\Programmieren\\districtgenerator\\.venv\\Lib\\site-packages\\teaser\\logic\\buildingobjects\\useconditions.py:363: FutureWarning: 'H' is deprecated and will be removed in a future version, please use 'h' instead.\n",
      "  index=pd.date_range(\"2019-01-01 00:00:00\", periods=8760, freq=\"H\")\n",
      "c:\\Users\\felix\\Programmieren\\districtgenerator\\.venv\\Lib\\site-packages\\teaser\\logic\\buildingobjects\\useconditions.py:363: FutureWarning: 'H' is deprecated and will be removed in a future version, please use 'h' instead.\n",
      "  index=pd.date_range(\"2019-01-01 00:00:00\", periods=8760, freq=\"H\")\n"
     ]
    },
    {
     "name": "stdout",
     "output_type": "stream",
     "text": [
      "Creating building AB\n",
      "Creating building AB\n",
      "Creating building IWU School, Day Nursery and other Care\n",
      "We are about to generate a Non Residential building.\n",
      "Available building types: ['IWU Office, Administrative or Government Buildings', 'IWU Research and University Teaching', 'IWU Health and Care', 'IWU School, Day Nursery and other Care', 'IWU Culture and Leisure', 'IWU Sports Facilities', 'IWU Hotels, Boarding, Restaurants or Catering', 'IWU Production, Workshop, Warehouse or Operations', 'IWU Trade Buildings', 'IWU Technical and Utility (supply and disposal)', 'IWU Transport', 'IWU Generalized (1) Services building', 'IWU Generalized (2) Production buildings']\n",
      "Current usage: IWU School, Day Nursery and other Care\n",
      "Creating building AB\n"
     ]
    },
    {
     "name": "stderr",
     "output_type": "stream",
     "text": [
      "c:\\Users\\felix\\Programmieren\\districtgenerator\\.venv\\Lib\\site-packages\\teaser\\logic\\buildingobjects\\useconditions.py:363: FutureWarning: 'H' is deprecated and will be removed in a future version, please use 'h' instead.\n",
      "  index=pd.date_range(\"2019-01-01 00:00:00\", periods=8760, freq=\"H\")\n",
      "c:\\Users\\felix\\Programmieren\\districtgenerator\\.venv\\Lib\\site-packages\\teaser\\logic\\buildingobjects\\useconditions.py:363: FutureWarning: 'H' is deprecated and will be removed in a future version, please use 'h' instead.\n",
      "  index=pd.date_range(\"2019-01-01 00:00:00\", periods=8760, freq=\"H\")\n",
      "c:\\Users\\felix\\Programmieren\\districtgenerator\\.venv\\Lib\\site-packages\\teaser\\logic\\buildingobjects\\useconditions.py:363: FutureWarning: 'H' is deprecated and will be removed in a future version, please use 'h' instead.\n",
      "  index=pd.date_range(\"2019-01-01 00:00:00\", periods=8760, freq=\"H\")\n"
     ]
    },
    {
     "name": "stdout",
     "output_type": "stream",
     "text": [
      "Creating building AB\n",
      "Creating building AB\n"
     ]
    },
    {
     "name": "stderr",
     "output_type": "stream",
     "text": [
      "c:\\Users\\felix\\Programmieren\\districtgenerator\\.venv\\Lib\\site-packages\\teaser\\logic\\buildingobjects\\useconditions.py:363: FutureWarning: 'H' is deprecated and will be removed in a future version, please use 'h' instead.\n",
      "  index=pd.date_range(\"2019-01-01 00:00:00\", periods=8760, freq=\"H\")\n",
      "c:\\Users\\felix\\Programmieren\\districtgenerator\\.venv\\Lib\\site-packages\\teaser\\logic\\buildingobjects\\useconditions.py:363: FutureWarning: 'H' is deprecated and will be removed in a future version, please use 'h' instead.\n",
      "  index=pd.date_range(\"2019-01-01 00:00:00\", periods=8760, freq=\"H\")\n"
     ]
    },
    {
     "name": "stdout",
     "output_type": "stream",
     "text": [
      "Creating building AB\n",
      "Creating building AB\n",
      "Creating building IWU Transport\n",
      "We are about to generate a Non Residential building.\n",
      "Available building types: ['IWU Office, Administrative or Government Buildings', 'IWU Research and University Teaching', 'IWU Health and Care', 'IWU School, Day Nursery and other Care', 'IWU Culture and Leisure', 'IWU Sports Facilities', 'IWU Hotels, Boarding, Restaurants or Catering', 'IWU Production, Workshop, Warehouse or Operations', 'IWU Trade Buildings', 'IWU Technical and Utility (supply and disposal)', 'IWU Transport', 'IWU Generalized (1) Services building', 'IWU Generalized (2) Production buildings']\n",
      "Current usage: IWU Transport\n"
     ]
    },
    {
     "name": "stderr",
     "output_type": "stream",
     "text": [
      "c:\\Users\\felix\\Programmieren\\districtgenerator\\.venv\\Lib\\site-packages\\teaser\\logic\\buildingobjects\\useconditions.py:363: FutureWarning: 'H' is deprecated and will be removed in a future version, please use 'h' instead.\n",
      "  index=pd.date_range(\"2019-01-01 00:00:00\", periods=8760, freq=\"H\")\n",
      "c:\\Users\\felix\\Programmieren\\districtgenerator\\.venv\\Lib\\site-packages\\teaser\\logic\\buildingobjects\\useconditions.py:363: FutureWarning: 'H' is deprecated and will be removed in a future version, please use 'h' instead.\n",
      "  index=pd.date_range(\"2019-01-01 00:00:00\", periods=8760, freq=\"H\")\n"
     ]
    },
    {
     "name": "stdout",
     "output_type": "stream",
     "text": [
      "Creating building AB\n",
      "Creating building AB\n"
     ]
    },
    {
     "name": "stderr",
     "output_type": "stream",
     "text": [
      "c:\\Users\\felix\\Programmieren\\districtgenerator\\.venv\\Lib\\site-packages\\teaser\\logic\\buildingobjects\\useconditions.py:363: FutureWarning: 'H' is deprecated and will be removed in a future version, please use 'h' instead.\n",
      "  index=pd.date_range(\"2019-01-01 00:00:00\", periods=8760, freq=\"H\")\n",
      "c:\\Users\\felix\\Programmieren\\districtgenerator\\.venv\\Lib\\site-packages\\teaser\\logic\\buildingobjects\\useconditions.py:363: FutureWarning: 'H' is deprecated and will be removed in a future version, please use 'h' instead.\n",
      "  index=pd.date_range(\"2019-01-01 00:00:00\", periods=8760, freq=\"H\")\n"
     ]
    },
    {
     "name": "stdout",
     "output_type": "stream",
     "text": [
      "Creating building AB\n",
      "Creating building AB\n"
     ]
    },
    {
     "name": "stderr",
     "output_type": "stream",
     "text": [
      "c:\\Users\\felix\\Programmieren\\districtgenerator\\.venv\\Lib\\site-packages\\teaser\\logic\\buildingobjects\\useconditions.py:363: FutureWarning: 'H' is deprecated and will be removed in a future version, please use 'h' instead.\n",
      "  index=pd.date_range(\"2019-01-01 00:00:00\", periods=8760, freq=\"H\")\n",
      "c:\\Users\\felix\\Programmieren\\districtgenerator\\.venv\\Lib\\site-packages\\teaser\\logic\\buildingobjects\\useconditions.py:363: FutureWarning: 'H' is deprecated and will be removed in a future version, please use 'h' instead.\n",
      "  index=pd.date_range(\"2019-01-01 00:00:00\", periods=8760, freq=\"H\")\n"
     ]
    },
    {
     "name": "stdout",
     "output_type": "stream",
     "text": [
      "Creating building AB\n"
     ]
    },
    {
     "name": "stderr",
     "output_type": "stream",
     "text": [
      "c:\\Users\\felix\\Programmieren\\districtgenerator\\.venv\\Lib\\site-packages\\teaser\\logic\\buildingobjects\\useconditions.py:363: FutureWarning: 'H' is deprecated and will be removed in a future version, please use 'h' instead.\n",
      "  index=pd.date_range(\"2019-01-01 00:00:00\", periods=8760, freq=\"H\")\n"
     ]
    },
    {
     "name": "stdout",
     "output_type": "stream",
     "text": [
      "Creating building AB\n",
      "Creating building AB\n"
     ]
    },
    {
     "name": "stderr",
     "output_type": "stream",
     "text": [
      "c:\\Users\\felix\\Programmieren\\districtgenerator\\.venv\\Lib\\site-packages\\teaser\\logic\\buildingobjects\\useconditions.py:363: FutureWarning: 'H' is deprecated and will be removed in a future version, please use 'h' instead.\n",
      "  index=pd.date_range(\"2019-01-01 00:00:00\", periods=8760, freq=\"H\")\n",
      "c:\\Users\\felix\\Programmieren\\districtgenerator\\.venv\\Lib\\site-packages\\teaser\\logic\\buildingobjects\\useconditions.py:363: FutureWarning: 'H' is deprecated and will be removed in a future version, please use 'h' instead.\n",
      "  index=pd.date_range(\"2019-01-01 00:00:00\", periods=8760, freq=\"H\")\n"
     ]
    },
    {
     "name": "stdout",
     "output_type": "stream",
     "text": [
      "Creating building IWU Trade Buildings\n",
      "We are about to generate a Non Residential building.\n",
      "Available building types: ['IWU Office, Administrative or Government Buildings', 'IWU Research and University Teaching', 'IWU Health and Care', 'IWU School, Day Nursery and other Care', 'IWU Culture and Leisure', 'IWU Sports Facilities', 'IWU Hotels, Boarding, Restaurants or Catering', 'IWU Production, Workshop, Warehouse or Operations', 'IWU Trade Buildings', 'IWU Technical and Utility (supply and disposal)', 'IWU Transport', 'IWU Generalized (1) Services building', 'IWU Generalized (2) Production buildings']\n",
      "Current usage: IWU Trade Buildings\n",
      "Creating building AB\n"
     ]
    },
    {
     "name": "stderr",
     "output_type": "stream",
     "text": [
      "c:\\Users\\felix\\Programmieren\\districtgenerator\\.venv\\Lib\\site-packages\\teaser\\logic\\buildingobjects\\useconditions.py:363: FutureWarning: 'H' is deprecated and will be removed in a future version, please use 'h' instead.\n",
      "  index=pd.date_range(\"2019-01-01 00:00:00\", periods=8760, freq=\"H\")\n",
      "c:\\Users\\felix\\Programmieren\\districtgenerator\\.venv\\Lib\\site-packages\\teaser\\logic\\buildingobjects\\useconditions.py:363: FutureWarning: 'H' is deprecated and will be removed in a future version, please use 'h' instead.\n",
      "  index=pd.date_range(\"2019-01-01 00:00:00\", periods=8760, freq=\"H\")\n"
     ]
    },
    {
     "name": "stdout",
     "output_type": "stream",
     "text": [
      "Creating building AB\n",
      "Creating building AB\n"
     ]
    },
    {
     "name": "stderr",
     "output_type": "stream",
     "text": [
      "c:\\Users\\felix\\Programmieren\\districtgenerator\\.venv\\Lib\\site-packages\\teaser\\logic\\buildingobjects\\useconditions.py:363: FutureWarning: 'H' is deprecated and will be removed in a future version, please use 'h' instead.\n",
      "  index=pd.date_range(\"2019-01-01 00:00:00\", periods=8760, freq=\"H\")\n",
      "c:\\Users\\felix\\Programmieren\\districtgenerator\\.venv\\Lib\\site-packages\\teaser\\logic\\buildingobjects\\useconditions.py:363: FutureWarning: 'H' is deprecated and will be removed in a future version, please use 'h' instead.\n",
      "  index=pd.date_range(\"2019-01-01 00:00:00\", periods=8760, freq=\"H\")\n"
     ]
    },
    {
     "name": "stdout",
     "output_type": "stream",
     "text": [
      "Creating building AB\n",
      "Creating building AB\n"
     ]
    },
    {
     "name": "stderr",
     "output_type": "stream",
     "text": [
      "c:\\Users\\felix\\Programmieren\\districtgenerator\\.venv\\Lib\\site-packages\\teaser\\logic\\buildingobjects\\useconditions.py:363: FutureWarning: 'H' is deprecated and will be removed in a future version, please use 'h' instead.\n",
      "  index=pd.date_range(\"2019-01-01 00:00:00\", periods=8760, freq=\"H\")\n",
      "c:\\Users\\felix\\Programmieren\\districtgenerator\\.venv\\Lib\\site-packages\\teaser\\logic\\buildingobjects\\useconditions.py:363: FutureWarning: 'H' is deprecated and will be removed in a future version, please use 'h' instead.\n",
      "  index=pd.date_range(\"2019-01-01 00:00:00\", periods=8760, freq=\"H\")\n"
     ]
    },
    {
     "name": "stdout",
     "output_type": "stream",
     "text": [
      "Creating building AB\n",
      "Creating building AB\n"
     ]
    },
    {
     "name": "stderr",
     "output_type": "stream",
     "text": [
      "c:\\Users\\felix\\Programmieren\\districtgenerator\\.venv\\Lib\\site-packages\\teaser\\logic\\buildingobjects\\useconditions.py:363: FutureWarning: 'H' is deprecated and will be removed in a future version, please use 'h' instead.\n",
      "  index=pd.date_range(\"2019-01-01 00:00:00\", periods=8760, freq=\"H\")\n"
     ]
    },
    {
     "name": "stdout",
     "output_type": "stream",
     "text": [
      "Creating building IWU School, Day Nursery and other Care\n",
      "We are about to generate a Non Residential building.\n",
      "Available building types: ['IWU Office, Administrative or Government Buildings', 'IWU Research and University Teaching', 'IWU Health and Care', 'IWU School, Day Nursery and other Care', 'IWU Culture and Leisure', 'IWU Sports Facilities', 'IWU Hotels, Boarding, Restaurants or Catering', 'IWU Production, Workshop, Warehouse or Operations', 'IWU Trade Buildings', 'IWU Technical and Utility (supply and disposal)', 'IWU Transport', 'IWU Generalized (1) Services building', 'IWU Generalized (2) Production buildings']\n",
      "Current usage: IWU School, Day Nursery and other Care\n",
      "Creating building AB\n",
      "Creating building AB\n"
     ]
    },
    {
     "name": "stderr",
     "output_type": "stream",
     "text": [
      "c:\\Users\\felix\\Programmieren\\districtgenerator\\.venv\\Lib\\site-packages\\teaser\\logic\\buildingobjects\\useconditions.py:363: FutureWarning: 'H' is deprecated and will be removed in a future version, please use 'h' instead.\n",
      "  index=pd.date_range(\"2019-01-01 00:00:00\", periods=8760, freq=\"H\")\n",
      "c:\\Users\\felix\\Programmieren\\districtgenerator\\.venv\\Lib\\site-packages\\teaser\\logic\\buildingobjects\\useconditions.py:363: FutureWarning: 'H' is deprecated and will be removed in a future version, please use 'h' instead.\n",
      "  index=pd.date_range(\"2019-01-01 00:00:00\", periods=8760, freq=\"H\")\n"
     ]
    },
    {
     "name": "stdout",
     "output_type": "stream",
     "text": [
      "Creating building AB\n"
     ]
    },
    {
     "name": "stderr",
     "output_type": "stream",
     "text": [
      "c:\\Users\\felix\\Programmieren\\districtgenerator\\.venv\\Lib\\site-packages\\teaser\\logic\\buildingobjects\\useconditions.py:363: FutureWarning: 'H' is deprecated and will be removed in a future version, please use 'h' instead.\n",
      "  index=pd.date_range(\"2019-01-01 00:00:00\", periods=8760, freq=\"H\")\n"
     ]
    },
    {
     "name": "stdout",
     "output_type": "stream",
     "text": [
      "Creating building IWU Research and University Teaching\n",
      "We are about to generate a Non Residential building.\n",
      "Available building types: ['IWU Office, Administrative or Government Buildings', 'IWU Research and University Teaching', 'IWU Health and Care', 'IWU School, Day Nursery and other Care', 'IWU Culture and Leisure', 'IWU Sports Facilities', 'IWU Hotels, Boarding, Restaurants or Catering', 'IWU Production, Workshop, Warehouse or Operations', 'IWU Trade Buildings', 'IWU Technical and Utility (supply and disposal)', 'IWU Transport', 'IWU Generalized (1) Services building', 'IWU Generalized (2) Production buildings']\n",
      "Current usage: IWU Research and University Teaching\n",
      "Creating building AB\n"
     ]
    },
    {
     "name": "stderr",
     "output_type": "stream",
     "text": [
      "c:\\Users\\felix\\Programmieren\\districtgenerator\\.venv\\Lib\\site-packages\\teaser\\logic\\buildingobjects\\useconditions.py:363: FutureWarning: 'H' is deprecated and will be removed in a future version, please use 'h' instead.\n",
      "  index=pd.date_range(\"2019-01-01 00:00:00\", periods=8760, freq=\"H\")\n",
      "c:\\Users\\felix\\Programmieren\\districtgenerator\\.venv\\Lib\\site-packages\\teaser\\logic\\buildingobjects\\useconditions.py:363: FutureWarning: 'H' is deprecated and will be removed in a future version, please use 'h' instead.\n",
      "  index=pd.date_range(\"2019-01-01 00:00:00\", periods=8760, freq=\"H\")\n"
     ]
    },
    {
     "name": "stdout",
     "output_type": "stream",
     "text": [
      "Creating building AB\n",
      "Creating building AB\n"
     ]
    },
    {
     "name": "stderr",
     "output_type": "stream",
     "text": [
      "c:\\Users\\felix\\Programmieren\\districtgenerator\\.venv\\Lib\\site-packages\\teaser\\logic\\buildingobjects\\useconditions.py:363: FutureWarning: 'H' is deprecated and will be removed in a future version, please use 'h' instead.\n",
      "  index=pd.date_range(\"2019-01-01 00:00:00\", periods=8760, freq=\"H\")\n",
      "c:\\Users\\felix\\Programmieren\\districtgenerator\\.venv\\Lib\\site-packages\\teaser\\logic\\buildingobjects\\useconditions.py:363: FutureWarning: 'H' is deprecated and will be removed in a future version, please use 'h' instead.\n",
      "  index=pd.date_range(\"2019-01-01 00:00:00\", periods=8760, freq=\"H\")\n"
     ]
    },
    {
     "name": "stdout",
     "output_type": "stream",
     "text": [
      "Creating building AB\n",
      "Creating building AB\n",
      "Creating building AB\n"
     ]
    },
    {
     "name": "stderr",
     "output_type": "stream",
     "text": [
      "c:\\Users\\felix\\Programmieren\\districtgenerator\\.venv\\Lib\\site-packages\\teaser\\logic\\buildingobjects\\useconditions.py:363: FutureWarning: 'H' is deprecated and will be removed in a future version, please use 'h' instead.\n",
      "  index=pd.date_range(\"2019-01-01 00:00:00\", periods=8760, freq=\"H\")\n",
      "c:\\Users\\felix\\Programmieren\\districtgenerator\\.venv\\Lib\\site-packages\\teaser\\logic\\buildingobjects\\useconditions.py:363: FutureWarning: 'H' is deprecated and will be removed in a future version, please use 'h' instead.\n",
      "  index=pd.date_range(\"2019-01-01 00:00:00\", periods=8760, freq=\"H\")\n"
     ]
    },
    {
     "name": "stdout",
     "output_type": "stream",
     "text": [
      "Creating building AB\n",
      "Creating building AB\n"
     ]
    },
    {
     "name": "stderr",
     "output_type": "stream",
     "text": [
      "c:\\Users\\felix\\Programmieren\\districtgenerator\\.venv\\Lib\\site-packages\\teaser\\logic\\buildingobjects\\useconditions.py:363: FutureWarning: 'H' is deprecated and will be removed in a future version, please use 'h' instead.\n",
      "  index=pd.date_range(\"2019-01-01 00:00:00\", periods=8760, freq=\"H\")\n",
      "c:\\Users\\felix\\Programmieren\\districtgenerator\\.venv\\Lib\\site-packages\\teaser\\logic\\buildingobjects\\useconditions.py:363: FutureWarning: 'H' is deprecated and will be removed in a future version, please use 'h' instead.\n",
      "  index=pd.date_range(\"2019-01-01 00:00:00\", periods=8760, freq=\"H\")\n"
     ]
    },
    {
     "name": "stdout",
     "output_type": "stream",
     "text": [
      "Creating building AB\n",
      "Creating building AB\n"
     ]
    },
    {
     "name": "stderr",
     "output_type": "stream",
     "text": [
      "c:\\Users\\felix\\Programmieren\\districtgenerator\\.venv\\Lib\\site-packages\\teaser\\logic\\buildingobjects\\useconditions.py:363: FutureWarning: 'H' is deprecated and will be removed in a future version, please use 'h' instead.\n",
      "  index=pd.date_range(\"2019-01-01 00:00:00\", periods=8760, freq=\"H\")\n",
      "c:\\Users\\felix\\Programmieren\\districtgenerator\\.venv\\Lib\\site-packages\\teaser\\logic\\buildingobjects\\useconditions.py:363: FutureWarning: 'H' is deprecated and will be removed in a future version, please use 'h' instead.\n",
      "  index=pd.date_range(\"2019-01-01 00:00:00\", periods=8760, freq=\"H\")\n"
     ]
    },
    {
     "name": "stdout",
     "output_type": "stream",
     "text": [
      "Creating building AB\n",
      "Creating building AB\n"
     ]
    },
    {
     "name": "stderr",
     "output_type": "stream",
     "text": [
      "c:\\Users\\felix\\Programmieren\\districtgenerator\\.venv\\Lib\\site-packages\\teaser\\logic\\buildingobjects\\useconditions.py:363: FutureWarning: 'H' is deprecated and will be removed in a future version, please use 'h' instead.\n",
      "  index=pd.date_range(\"2019-01-01 00:00:00\", periods=8760, freq=\"H\")\n",
      "c:\\Users\\felix\\Programmieren\\districtgenerator\\.venv\\Lib\\site-packages\\teaser\\logic\\buildingobjects\\useconditions.py:363: FutureWarning: 'H' is deprecated and will be removed in a future version, please use 'h' instead.\n",
      "  index=pd.date_range(\"2019-01-01 00:00:00\", periods=8760, freq=\"H\")\n"
     ]
    },
    {
     "name": "stdout",
     "output_type": "stream",
     "text": [
      "Creating building AB\n",
      "Creating building AB\n"
     ]
    },
    {
     "name": "stderr",
     "output_type": "stream",
     "text": [
      "c:\\Users\\felix\\Programmieren\\districtgenerator\\.venv\\Lib\\site-packages\\teaser\\logic\\buildingobjects\\useconditions.py:363: FutureWarning: 'H' is deprecated and will be removed in a future version, please use 'h' instead.\n",
      "  index=pd.date_range(\"2019-01-01 00:00:00\", periods=8760, freq=\"H\")\n",
      "c:\\Users\\felix\\Programmieren\\districtgenerator\\.venv\\Lib\\site-packages\\teaser\\logic\\buildingobjects\\useconditions.py:363: FutureWarning: 'H' is deprecated and will be removed in a future version, please use 'h' instead.\n",
      "  index=pd.date_range(\"2019-01-01 00:00:00\", periods=8760, freq=\"H\")\n"
     ]
    },
    {
     "name": "stdout",
     "output_type": "stream",
     "text": [
      "Creating building AB\n",
      "Creating building AB\n"
     ]
    },
    {
     "name": "stderr",
     "output_type": "stream",
     "text": [
      "c:\\Users\\felix\\Programmieren\\districtgenerator\\.venv\\Lib\\site-packages\\teaser\\logic\\buildingobjects\\useconditions.py:363: FutureWarning: 'H' is deprecated and will be removed in a future version, please use 'h' instead.\n",
      "  index=pd.date_range(\"2019-01-01 00:00:00\", periods=8760, freq=\"H\")\n",
      "c:\\Users\\felix\\Programmieren\\districtgenerator\\.venv\\Lib\\site-packages\\teaser\\logic\\buildingobjects\\useconditions.py:363: FutureWarning: 'H' is deprecated and will be removed in a future version, please use 'h' instead.\n",
      "  index=pd.date_range(\"2019-01-01 00:00:00\", periods=8760, freq=\"H\")\n"
     ]
    },
    {
     "name": "stdout",
     "output_type": "stream",
     "text": [
      "Creating building AB\n",
      "Creating building AB\n"
     ]
    },
    {
     "name": "stderr",
     "output_type": "stream",
     "text": [
      "c:\\Users\\felix\\Programmieren\\districtgenerator\\.venv\\Lib\\site-packages\\teaser\\logic\\buildingobjects\\useconditions.py:363: FutureWarning: 'H' is deprecated and will be removed in a future version, please use 'h' instead.\n",
      "  index=pd.date_range(\"2019-01-01 00:00:00\", periods=8760, freq=\"H\")\n",
      "c:\\Users\\felix\\Programmieren\\districtgenerator\\.venv\\Lib\\site-packages\\teaser\\logic\\buildingobjects\\useconditions.py:363: FutureWarning: 'H' is deprecated and will be removed in a future version, please use 'h' instead.\n",
      "  index=pd.date_range(\"2019-01-01 00:00:00\", periods=8760, freq=\"H\")\n"
     ]
    },
    {
     "name": "stdout",
     "output_type": "stream",
     "text": [
      "Creating building AB\n",
      "Creating building IWU Culture and Leisure\n",
      "We are about to generate a Non Residential building.\n",
      "Available building types: ['IWU Office, Administrative or Government Buildings', 'IWU Research and University Teaching', 'IWU Health and Care', 'IWU School, Day Nursery and other Care', 'IWU Culture and Leisure', 'IWU Sports Facilities', 'IWU Hotels, Boarding, Restaurants or Catering', 'IWU Production, Workshop, Warehouse or Operations', 'IWU Trade Buildings', 'IWU Technical and Utility (supply and disposal)', 'IWU Transport', 'IWU Generalized (1) Services building', 'IWU Generalized (2) Production buildings']\n",
      "Current usage: IWU Culture and Leisure\n",
      "Creating building AB\n"
     ]
    },
    {
     "name": "stderr",
     "output_type": "stream",
     "text": [
      "c:\\Users\\felix\\Programmieren\\districtgenerator\\.venv\\Lib\\site-packages\\teaser\\logic\\buildingobjects\\useconditions.py:363: FutureWarning: 'H' is deprecated and will be removed in a future version, please use 'h' instead.\n",
      "  index=pd.date_range(\"2019-01-01 00:00:00\", periods=8760, freq=\"H\")\n",
      "c:\\Users\\felix\\Programmieren\\districtgenerator\\.venv\\Lib\\site-packages\\teaser\\logic\\buildingobjects\\useconditions.py:363: FutureWarning: 'H' is deprecated and will be removed in a future version, please use 'h' instead.\n",
      "  index=pd.date_range(\"2019-01-01 00:00:00\", periods=8760, freq=\"H\")\n"
     ]
    },
    {
     "name": "stdout",
     "output_type": "stream",
     "text": [
      "Creating building AB\n",
      "Creating building AB\n"
     ]
    },
    {
     "name": "stderr",
     "output_type": "stream",
     "text": [
      "c:\\Users\\felix\\Programmieren\\districtgenerator\\.venv\\Lib\\site-packages\\teaser\\logic\\buildingobjects\\useconditions.py:363: FutureWarning: 'H' is deprecated and will be removed in a future version, please use 'h' instead.\n",
      "  index=pd.date_range(\"2019-01-01 00:00:00\", periods=8760, freq=\"H\")\n",
      "c:\\Users\\felix\\Programmieren\\districtgenerator\\.venv\\Lib\\site-packages\\teaser\\logic\\buildingobjects\\useconditions.py:363: FutureWarning: 'H' is deprecated and will be removed in a future version, please use 'h' instead.\n",
      "  index=pd.date_range(\"2019-01-01 00:00:00\", periods=8760, freq=\"H\")\n"
     ]
    },
    {
     "name": "stdout",
     "output_type": "stream",
     "text": [
      "Creating building IWU Research and University Teaching\n",
      "We are about to generate a Non Residential building.\n",
      "Available building types: ['IWU Office, Administrative or Government Buildings', 'IWU Research and University Teaching', 'IWU Health and Care', 'IWU School, Day Nursery and other Care', 'IWU Culture and Leisure', 'IWU Sports Facilities', 'IWU Hotels, Boarding, Restaurants or Catering', 'IWU Production, Workshop, Warehouse or Operations', 'IWU Trade Buildings', 'IWU Technical and Utility (supply and disposal)', 'IWU Transport', 'IWU Generalized (1) Services building', 'IWU Generalized (2) Production buildings']\n",
      "Current usage: IWU Research and University Teaching\n",
      "Creating building AB\n",
      "Creating building AB\n"
     ]
    },
    {
     "name": "stderr",
     "output_type": "stream",
     "text": [
      "c:\\Users\\felix\\Programmieren\\districtgenerator\\.venv\\Lib\\site-packages\\teaser\\logic\\buildingobjects\\useconditions.py:363: FutureWarning: 'H' is deprecated and will be removed in a future version, please use 'h' instead.\n",
      "  index=pd.date_range(\"2019-01-01 00:00:00\", periods=8760, freq=\"H\")\n",
      "c:\\Users\\felix\\Programmieren\\districtgenerator\\.venv\\Lib\\site-packages\\teaser\\logic\\buildingobjects\\useconditions.py:363: FutureWarning: 'H' is deprecated and will be removed in a future version, please use 'h' instead.\n",
      "  index=pd.date_range(\"2019-01-01 00:00:00\", periods=8760, freq=\"H\")\n"
     ]
    },
    {
     "name": "stdout",
     "output_type": "stream",
     "text": [
      "Creating building AB\n",
      "Creating building AB\n"
     ]
    },
    {
     "name": "stderr",
     "output_type": "stream",
     "text": [
      "c:\\Users\\felix\\Programmieren\\districtgenerator\\.venv\\Lib\\site-packages\\teaser\\logic\\buildingobjects\\useconditions.py:363: FutureWarning: 'H' is deprecated and will be removed in a future version, please use 'h' instead.\n",
      "  index=pd.date_range(\"2019-01-01 00:00:00\", periods=8760, freq=\"H\")\n",
      "c:\\Users\\felix\\Programmieren\\districtgenerator\\.venv\\Lib\\site-packages\\teaser\\logic\\buildingobjects\\useconditions.py:363: FutureWarning: 'H' is deprecated and will be removed in a future version, please use 'h' instead.\n",
      "  index=pd.date_range(\"2019-01-01 00:00:00\", periods=8760, freq=\"H\")\n"
     ]
    },
    {
     "name": "stdout",
     "output_type": "stream",
     "text": [
      "Creating building IWU Office, Administrative or Government Buildings\n",
      "We are about to generate a Non Residential building.\n",
      "Available building types: ['IWU Office, Administrative or Government Buildings', 'IWU Research and University Teaching', 'IWU Health and Care', 'IWU School, Day Nursery and other Care', 'IWU Culture and Leisure', 'IWU Sports Facilities', 'IWU Hotels, Boarding, Restaurants or Catering', 'IWU Production, Workshop, Warehouse or Operations', 'IWU Trade Buildings', 'IWU Technical and Utility (supply and disposal)', 'IWU Transport', 'IWU Generalized (1) Services building', 'IWU Generalized (2) Production buildings']\n",
      "Current usage: IWU Office, Administrative or Government Buildings\n",
      "Creating building AB\n"
     ]
    },
    {
     "name": "stderr",
     "output_type": "stream",
     "text": [
      "c:\\Users\\felix\\Programmieren\\districtgenerator\\.venv\\Lib\\site-packages\\teaser\\logic\\buildingobjects\\useconditions.py:363: FutureWarning: 'H' is deprecated and will be removed in a future version, please use 'h' instead.\n",
      "  index=pd.date_range(\"2019-01-01 00:00:00\", periods=8760, freq=\"H\")\n",
      "c:\\Users\\felix\\Programmieren\\districtgenerator\\.venv\\Lib\\site-packages\\teaser\\logic\\buildingobjects\\useconditions.py:363: FutureWarning: 'H' is deprecated and will be removed in a future version, please use 'h' instead.\n",
      "  index=pd.date_range(\"2019-01-01 00:00:00\", periods=8760, freq=\"H\")\n"
     ]
    },
    {
     "name": "stdout",
     "output_type": "stream",
     "text": [
      "Creating building AB\n",
      "Creating building AB\n"
     ]
    },
    {
     "name": "stderr",
     "output_type": "stream",
     "text": [
      "c:\\Users\\felix\\Programmieren\\districtgenerator\\.venv\\Lib\\site-packages\\teaser\\logic\\buildingobjects\\useconditions.py:363: FutureWarning: 'H' is deprecated and will be removed in a future version, please use 'h' instead.\n",
      "  index=pd.date_range(\"2019-01-01 00:00:00\", periods=8760, freq=\"H\")\n"
     ]
    },
    {
     "name": "stdout",
     "output_type": "stream",
     "text": [
      "Creating building AB\n",
      "Creating building AB\n"
     ]
    },
    {
     "name": "stderr",
     "output_type": "stream",
     "text": [
      "c:\\Users\\felix\\Programmieren\\districtgenerator\\.venv\\Lib\\site-packages\\teaser\\logic\\buildingobjects\\useconditions.py:363: FutureWarning: 'H' is deprecated and will be removed in a future version, please use 'h' instead.\n",
      "  index=pd.date_range(\"2019-01-01 00:00:00\", periods=8760, freq=\"H\")\n",
      "c:\\Users\\felix\\Programmieren\\districtgenerator\\.venv\\Lib\\site-packages\\teaser\\logic\\buildingobjects\\useconditions.py:363: FutureWarning: 'H' is deprecated and will be removed in a future version, please use 'h' instead.\n",
      "  index=pd.date_range(\"2019-01-01 00:00:00\", periods=8760, freq=\"H\")\n"
     ]
    },
    {
     "name": "stdout",
     "output_type": "stream",
     "text": [
      "Creating building AB\n",
      "Creating building AB\n"
     ]
    },
    {
     "name": "stderr",
     "output_type": "stream",
     "text": [
      "c:\\Users\\felix\\Programmieren\\districtgenerator\\.venv\\Lib\\site-packages\\teaser\\logic\\buildingobjects\\useconditions.py:363: FutureWarning: 'H' is deprecated and will be removed in a future version, please use 'h' instead.\n",
      "  index=pd.date_range(\"2019-01-01 00:00:00\", periods=8760, freq=\"H\")\n",
      "c:\\Users\\felix\\Programmieren\\districtgenerator\\.venv\\Lib\\site-packages\\teaser\\logic\\buildingobjects\\useconditions.py:363: FutureWarning: 'H' is deprecated and will be removed in a future version, please use 'h' instead.\n",
      "  index=pd.date_range(\"2019-01-01 00:00:00\", periods=8760, freq=\"H\")\n"
     ]
    },
    {
     "name": "stdout",
     "output_type": "stream",
     "text": [
      "Creating building IWU School, Day Nursery and other Care\n",
      "We are about to generate a Non Residential building.\n",
      "Available building types: ['IWU Office, Administrative or Government Buildings', 'IWU Research and University Teaching', 'IWU Health and Care', 'IWU School, Day Nursery and other Care', 'IWU Culture and Leisure', 'IWU Sports Facilities', 'IWU Hotels, Boarding, Restaurants or Catering', 'IWU Production, Workshop, Warehouse or Operations', 'IWU Trade Buildings', 'IWU Technical and Utility (supply and disposal)', 'IWU Transport', 'IWU Generalized (1) Services building', 'IWU Generalized (2) Production buildings']\n",
      "Current usage: IWU School, Day Nursery and other Care\n",
      "Creating building AB\n",
      "Creating building IWU School, Day Nursery and other Care\n",
      "We are about to generate a Non Residential building.\n",
      "Available building types: ['IWU Office, Administrative or Government Buildings', 'IWU Research and University Teaching', 'IWU Health and Care', 'IWU School, Day Nursery and other Care', 'IWU Culture and Leisure', 'IWU Sports Facilities', 'IWU Hotels, Boarding, Restaurants or Catering', 'IWU Production, Workshop, Warehouse or Operations', 'IWU Trade Buildings', 'IWU Technical and Utility (supply and disposal)', 'IWU Transport', 'IWU Generalized (1) Services building', 'IWU Generalized (2) Production buildings']\n",
      "Current usage: IWU School, Day Nursery and other Care\n",
      "Creating building AB\n"
     ]
    },
    {
     "name": "stderr",
     "output_type": "stream",
     "text": [
      "c:\\Users\\felix\\Programmieren\\districtgenerator\\.venv\\Lib\\site-packages\\teaser\\logic\\buildingobjects\\useconditions.py:363: FutureWarning: 'H' is deprecated and will be removed in a future version, please use 'h' instead.\n",
      "  index=pd.date_range(\"2019-01-01 00:00:00\", periods=8760, freq=\"H\")\n",
      "c:\\Users\\felix\\Programmieren\\districtgenerator\\.venv\\Lib\\site-packages\\teaser\\logic\\buildingobjects\\useconditions.py:363: FutureWarning: 'H' is deprecated and will be removed in a future version, please use 'h' instead.\n",
      "  index=pd.date_range(\"2019-01-01 00:00:00\", periods=8760, freq=\"H\")\n"
     ]
    },
    {
     "name": "stdout",
     "output_type": "stream",
     "text": [
      "Creating building IWU Transport\n",
      "We are about to generate a Non Residential building.\n",
      "Available building types: ['IWU Office, Administrative or Government Buildings', 'IWU Research and University Teaching', 'IWU Health and Care', 'IWU School, Day Nursery and other Care', 'IWU Culture and Leisure', 'IWU Sports Facilities', 'IWU Hotels, Boarding, Restaurants or Catering', 'IWU Production, Workshop, Warehouse or Operations', 'IWU Trade Buildings', 'IWU Technical and Utility (supply and disposal)', 'IWU Transport', 'IWU Generalized (1) Services building', 'IWU Generalized (2) Production buildings']\n",
      "Current usage: IWU Transport\n",
      "Creating building AB\n"
     ]
    },
    {
     "name": "stderr",
     "output_type": "stream",
     "text": [
      "c:\\Users\\felix\\Programmieren\\districtgenerator\\.venv\\Lib\\site-packages\\teaser\\logic\\buildingobjects\\useconditions.py:363: FutureWarning: 'H' is deprecated and will be removed in a future version, please use 'h' instead.\n",
      "  index=pd.date_range(\"2019-01-01 00:00:00\", periods=8760, freq=\"H\")\n",
      "c:\\Users\\felix\\Programmieren\\districtgenerator\\.venv\\Lib\\site-packages\\teaser\\logic\\buildingobjects\\useconditions.py:363: FutureWarning: 'H' is deprecated and will be removed in a future version, please use 'h' instead.\n",
      "  index=pd.date_range(\"2019-01-01 00:00:00\", periods=8760, freq=\"H\")\n"
     ]
    },
    {
     "name": "stdout",
     "output_type": "stream",
     "text": [
      "Creating building AB\n",
      "Creating building AB\n"
     ]
    },
    {
     "name": "stderr",
     "output_type": "stream",
     "text": [
      "c:\\Users\\felix\\Programmieren\\districtgenerator\\.venv\\Lib\\site-packages\\teaser\\logic\\buildingobjects\\useconditions.py:363: FutureWarning: 'H' is deprecated and will be removed in a future version, please use 'h' instead.\n",
      "  index=pd.date_range(\"2019-01-01 00:00:00\", periods=8760, freq=\"H\")\n",
      "c:\\Users\\felix\\Programmieren\\districtgenerator\\.venv\\Lib\\site-packages\\teaser\\logic\\buildingobjects\\useconditions.py:363: FutureWarning: 'H' is deprecated and will be removed in a future version, please use 'h' instead.\n",
      "  index=pd.date_range(\"2019-01-01 00:00:00\", periods=8760, freq=\"H\")\n"
     ]
    },
    {
     "name": "stdout",
     "output_type": "stream",
     "text": [
      "Creating building AB\n",
      "Creating building IWU Transport\n",
      "We are about to generate a Non Residential building.\n",
      "Available building types: ['IWU Office, Administrative or Government Buildings', 'IWU Research and University Teaching', 'IWU Health and Care', 'IWU School, Day Nursery and other Care', 'IWU Culture and Leisure', 'IWU Sports Facilities', 'IWU Hotels, Boarding, Restaurants or Catering', 'IWU Production, Workshop, Warehouse or Operations', 'IWU Trade Buildings', 'IWU Technical and Utility (supply and disposal)', 'IWU Transport', 'IWU Generalized (1) Services building', 'IWU Generalized (2) Production buildings']\n",
      "Current usage: IWU Transport\n",
      "Creating building AB\n"
     ]
    },
    {
     "name": "stderr",
     "output_type": "stream",
     "text": [
      "c:\\Users\\felix\\Programmieren\\districtgenerator\\.venv\\Lib\\site-packages\\teaser\\logic\\buildingobjects\\useconditions.py:363: FutureWarning: 'H' is deprecated and will be removed in a future version, please use 'h' instead.\n",
      "  index=pd.date_range(\"2019-01-01 00:00:00\", periods=8760, freq=\"H\")\n",
      "c:\\Users\\felix\\Programmieren\\districtgenerator\\.venv\\Lib\\site-packages\\teaser\\logic\\buildingobjects\\useconditions.py:363: FutureWarning: 'H' is deprecated and will be removed in a future version, please use 'h' instead.\n",
      "  index=pd.date_range(\"2019-01-01 00:00:00\", periods=8760, freq=\"H\")\n"
     ]
    },
    {
     "name": "stdout",
     "output_type": "stream",
     "text": [
      "Creating building AB\n",
      "Creating building AB\n"
     ]
    },
    {
     "name": "stderr",
     "output_type": "stream",
     "text": [
      "c:\\Users\\felix\\Programmieren\\districtgenerator\\.venv\\Lib\\site-packages\\teaser\\logic\\buildingobjects\\useconditions.py:363: FutureWarning: 'H' is deprecated and will be removed in a future version, please use 'h' instead.\n",
      "  index=pd.date_range(\"2019-01-01 00:00:00\", periods=8760, freq=\"H\")\n",
      "c:\\Users\\felix\\Programmieren\\districtgenerator\\.venv\\Lib\\site-packages\\teaser\\logic\\buildingobjects\\useconditions.py:363: FutureWarning: 'H' is deprecated and will be removed in a future version, please use 'h' instead.\n",
      "  index=pd.date_range(\"2019-01-01 00:00:00\", periods=8760, freq=\"H\")\n"
     ]
    },
    {
     "name": "stdout",
     "output_type": "stream",
     "text": [
      "Creating building AB\n",
      "Creating building AB\n"
     ]
    },
    {
     "name": "stderr",
     "output_type": "stream",
     "text": [
      "c:\\Users\\felix\\Programmieren\\districtgenerator\\.venv\\Lib\\site-packages\\teaser\\logic\\buildingobjects\\useconditions.py:363: FutureWarning: 'H' is deprecated and will be removed in a future version, please use 'h' instead.\n",
      "  index=pd.date_range(\"2019-01-01 00:00:00\", periods=8760, freq=\"H\")\n"
     ]
    },
    {
     "name": "stdout",
     "output_type": "stream",
     "text": [
      "Creating building AB\n"
     ]
    },
    {
     "name": "stderr",
     "output_type": "stream",
     "text": [
      "c:\\Users\\felix\\Programmieren\\districtgenerator\\.venv\\Lib\\site-packages\\teaser\\logic\\buildingobjects\\useconditions.py:363: FutureWarning: 'H' is deprecated and will be removed in a future version, please use 'h' instead.\n",
      "  index=pd.date_range(\"2019-01-01 00:00:00\", periods=8760, freq=\"H\")\n"
     ]
    },
    {
     "name": "stdout",
     "output_type": "stream",
     "text": [
      "Creating building AB\n",
      "Creating building IWU School, Day Nursery and other Care\n",
      "We are about to generate a Non Residential building.\n",
      "Available building types: ['IWU Office, Administrative or Government Buildings', 'IWU Research and University Teaching', 'IWU Health and Care', 'IWU School, Day Nursery and other Care', 'IWU Culture and Leisure', 'IWU Sports Facilities', 'IWU Hotels, Boarding, Restaurants or Catering', 'IWU Production, Workshop, Warehouse or Operations', 'IWU Trade Buildings', 'IWU Technical and Utility (supply and disposal)', 'IWU Transport', 'IWU Generalized (1) Services building', 'IWU Generalized (2) Production buildings']\n",
      "Current usage: IWU School, Day Nursery and other Care\n",
      "Creating building AB\n"
     ]
    },
    {
     "name": "stderr",
     "output_type": "stream",
     "text": [
      "c:\\Users\\felix\\Programmieren\\districtgenerator\\.venv\\Lib\\site-packages\\teaser\\logic\\buildingobjects\\useconditions.py:363: FutureWarning: 'H' is deprecated and will be removed in a future version, please use 'h' instead.\n",
      "  index=pd.date_range(\"2019-01-01 00:00:00\", periods=8760, freq=\"H\")\n",
      "c:\\Users\\felix\\Programmieren\\districtgenerator\\.venv\\Lib\\site-packages\\teaser\\logic\\buildingobjects\\useconditions.py:363: FutureWarning: 'H' is deprecated and will be removed in a future version, please use 'h' instead.\n",
      "  index=pd.date_range(\"2019-01-01 00:00:00\", periods=8760, freq=\"H\")\n"
     ]
    },
    {
     "name": "stdout",
     "output_type": "stream",
     "text": [
      "Creating building AB\n",
      "Creating building IWU Transport\n",
      "We are about to generate a Non Residential building.\n",
      "Available building types: ['IWU Office, Administrative or Government Buildings', 'IWU Research and University Teaching', 'IWU Health and Care', 'IWU School, Day Nursery and other Care', 'IWU Culture and Leisure', 'IWU Sports Facilities', 'IWU Hotels, Boarding, Restaurants or Catering', 'IWU Production, Workshop, Warehouse or Operations', 'IWU Trade Buildings', 'IWU Technical and Utility (supply and disposal)', 'IWU Transport', 'IWU Generalized (1) Services building', 'IWU Generalized (2) Production buildings']\n",
      "Current usage: IWU Transport\n"
     ]
    },
    {
     "name": "stderr",
     "output_type": "stream",
     "text": [
      "c:\\Users\\felix\\Programmieren\\districtgenerator\\.venv\\Lib\\site-packages\\teaser\\logic\\buildingobjects\\useconditions.py:363: FutureWarning: 'H' is deprecated and will be removed in a future version, please use 'h' instead.\n",
      "  index=pd.date_range(\"2019-01-01 00:00:00\", periods=8760, freq=\"H\")\n"
     ]
    },
    {
     "name": "stdout",
     "output_type": "stream",
     "text": [
      "Creating building AB\n",
      "Creating building AB\n"
     ]
    },
    {
     "name": "stderr",
     "output_type": "stream",
     "text": [
      "c:\\Users\\felix\\Programmieren\\districtgenerator\\.venv\\Lib\\site-packages\\teaser\\logic\\buildingobjects\\useconditions.py:363: FutureWarning: 'H' is deprecated and will be removed in a future version, please use 'h' instead.\n",
      "  index=pd.date_range(\"2019-01-01 00:00:00\", periods=8760, freq=\"H\")\n",
      "c:\\Users\\felix\\Programmieren\\districtgenerator\\.venv\\Lib\\site-packages\\teaser\\logic\\buildingobjects\\useconditions.py:363: FutureWarning: 'H' is deprecated and will be removed in a future version, please use 'h' instead.\n",
      "  index=pd.date_range(\"2019-01-01 00:00:00\", periods=8760, freq=\"H\")\n"
     ]
    },
    {
     "name": "stdout",
     "output_type": "stream",
     "text": [
      "Creating building IWU Transport\n",
      "We are about to generate a Non Residential building.\n",
      "Available building types: ['IWU Office, Administrative or Government Buildings', 'IWU Research and University Teaching', 'IWU Health and Care', 'IWU School, Day Nursery and other Care', 'IWU Culture and Leisure', 'IWU Sports Facilities', 'IWU Hotels, Boarding, Restaurants or Catering', 'IWU Production, Workshop, Warehouse or Operations', 'IWU Trade Buildings', 'IWU Technical and Utility (supply and disposal)', 'IWU Transport', 'IWU Generalized (1) Services building', 'IWU Generalized (2) Production buildings']\n",
      "Current usage: IWU Transport\n",
      "Creating building IWU School, Day Nursery and other Care\n",
      "We are about to generate a Non Residential building.\n",
      "Available building types: ['IWU Office, Administrative or Government Buildings', 'IWU Research and University Teaching', 'IWU Health and Care', 'IWU School, Day Nursery and other Care', 'IWU Culture and Leisure', 'IWU Sports Facilities', 'IWU Hotels, Boarding, Restaurants or Catering', 'IWU Production, Workshop, Warehouse or Operations', 'IWU Trade Buildings', 'IWU Technical and Utility (supply and disposal)', 'IWU Transport', 'IWU Generalized (1) Services building', 'IWU Generalized (2) Production buildings']\n",
      "Current usage: IWU School, Day Nursery and other Care\n",
      "Creating building AB\n"
     ]
    },
    {
     "name": "stderr",
     "output_type": "stream",
     "text": [
      "c:\\Users\\felix\\Programmieren\\districtgenerator\\.venv\\Lib\\site-packages\\teaser\\logic\\buildingobjects\\useconditions.py:363: FutureWarning: 'H' is deprecated and will be removed in a future version, please use 'h' instead.\n",
      "  index=pd.date_range(\"2019-01-01 00:00:00\", periods=8760, freq=\"H\")\n"
     ]
    },
    {
     "name": "stdout",
     "output_type": "stream",
     "text": [
      "Creating building IWU Office, Administrative or Government Buildings\n",
      "We are about to generate a Non Residential building.\n",
      "Available building types: ['IWU Office, Administrative or Government Buildings', 'IWU Research and University Teaching', 'IWU Health and Care', 'IWU School, Day Nursery and other Care', 'IWU Culture and Leisure', 'IWU Sports Facilities', 'IWU Hotels, Boarding, Restaurants or Catering', 'IWU Production, Workshop, Warehouse or Operations', 'IWU Trade Buildings', 'IWU Technical and Utility (supply and disposal)', 'IWU Transport', 'IWU Generalized (1) Services building', 'IWU Generalized (2) Production buildings']\n",
      "Current usage: IWU Office, Administrative or Government Buildings\n",
      "Creating building AB\n"
     ]
    },
    {
     "name": "stderr",
     "output_type": "stream",
     "text": [
      "c:\\Users\\felix\\Programmieren\\districtgenerator\\.venv\\Lib\\site-packages\\teaser\\logic\\buildingobjects\\useconditions.py:363: FutureWarning: 'H' is deprecated and will be removed in a future version, please use 'h' instead.\n",
      "  index=pd.date_range(\"2019-01-01 00:00:00\", periods=8760, freq=\"H\")\n",
      "c:\\Users\\felix\\Programmieren\\districtgenerator\\.venv\\Lib\\site-packages\\teaser\\logic\\buildingobjects\\useconditions.py:363: FutureWarning: 'H' is deprecated and will be removed in a future version, please use 'h' instead.\n",
      "  index=pd.date_range(\"2019-01-01 00:00:00\", periods=8760, freq=\"H\")\n"
     ]
    },
    {
     "name": "stdout",
     "output_type": "stream",
     "text": [
      "Creating building AB\n",
      "Creating building AB\n",
      "Creating building AB\n"
     ]
    },
    {
     "name": "stderr",
     "output_type": "stream",
     "text": [
      "c:\\Users\\felix\\Programmieren\\districtgenerator\\.venv\\Lib\\site-packages\\teaser\\logic\\buildingobjects\\useconditions.py:363: FutureWarning: 'H' is deprecated and will be removed in a future version, please use 'h' instead.\n",
      "  index=pd.date_range(\"2019-01-01 00:00:00\", periods=8760, freq=\"H\")\n",
      "c:\\Users\\felix\\Programmieren\\districtgenerator\\.venv\\Lib\\site-packages\\teaser\\logic\\buildingobjects\\useconditions.py:363: FutureWarning: 'H' is deprecated and will be removed in a future version, please use 'h' instead.\n",
      "  index=pd.date_range(\"2019-01-01 00:00:00\", periods=8760, freq=\"H\")\n"
     ]
    },
    {
     "name": "stdout",
     "output_type": "stream",
     "text": [
      "Creating building AB\n",
      "Creating building AB\n"
     ]
    },
    {
     "name": "stderr",
     "output_type": "stream",
     "text": [
      "c:\\Users\\felix\\Programmieren\\districtgenerator\\.venv\\Lib\\site-packages\\teaser\\logic\\buildingobjects\\useconditions.py:363: FutureWarning: 'H' is deprecated and will be removed in a future version, please use 'h' instead.\n",
      "  index=pd.date_range(\"2019-01-01 00:00:00\", periods=8760, freq=\"H\")\n",
      "c:\\Users\\felix\\Programmieren\\districtgenerator\\.venv\\Lib\\site-packages\\teaser\\logic\\buildingobjects\\useconditions.py:363: FutureWarning: 'H' is deprecated and will be removed in a future version, please use 'h' instead.\n",
      "  index=pd.date_range(\"2019-01-01 00:00:00\", periods=8760, freq=\"H\")\n"
     ]
    },
    {
     "name": "stdout",
     "output_type": "stream",
     "text": [
      "Creating building AB\n",
      "Creating building IWU Technical and Utility (supply and disposal)\n",
      "We are about to generate a Non Residential building.\n",
      "Available building types: ['IWU Office, Administrative or Government Buildings', 'IWU Research and University Teaching', 'IWU Health and Care', 'IWU School, Day Nursery and other Care', 'IWU Culture and Leisure', 'IWU Sports Facilities', 'IWU Hotels, Boarding, Restaurants or Catering', 'IWU Production, Workshop, Warehouse or Operations', 'IWU Trade Buildings', 'IWU Technical and Utility (supply and disposal)', 'IWU Transport', 'IWU Generalized (1) Services building', 'IWU Generalized (2) Production buildings']\n",
      "Current usage: IWU Technical and Utility (supply and disposal)\n",
      "Creating building AB\n"
     ]
    },
    {
     "name": "stderr",
     "output_type": "stream",
     "text": [
      "c:\\Users\\felix\\Programmieren\\districtgenerator\\.venv\\Lib\\site-packages\\teaser\\logic\\buildingobjects\\useconditions.py:363: FutureWarning: 'H' is deprecated and will be removed in a future version, please use 'h' instead.\n",
      "  index=pd.date_range(\"2019-01-01 00:00:00\", periods=8760, freq=\"H\")\n",
      "c:\\Users\\felix\\Programmieren\\districtgenerator\\.venv\\Lib\\site-packages\\teaser\\logic\\buildingobjects\\useconditions.py:363: FutureWarning: 'H' is deprecated and will be removed in a future version, please use 'h' instead.\n",
      "  index=pd.date_range(\"2019-01-01 00:00:00\", periods=8760, freq=\"H\")\n",
      "c:\\Users\\felix\\Programmieren\\districtgenerator\\.venv\\Lib\\site-packages\\teaser\\logic\\buildingobjects\\useconditions.py:363: FutureWarning: 'H' is deprecated and will be removed in a future version, please use 'h' instead.\n",
      "  index=pd.date_range(\"2019-01-01 00:00:00\", periods=8760, freq=\"H\")\n",
      "c:\\Users\\felix\\Programmieren\\districtgenerator\\.venv\\Lib\\site-packages\\teaser\\logic\\buildingobjects\\useconditions.py:363: FutureWarning: 'H' is deprecated and will be removed in a future version, please use 'h' instead.\n",
      "  index=pd.date_range(\"2019-01-01 00:00:00\", periods=8760, freq=\"H\")\n"
     ]
    },
    {
     "name": "stdout",
     "output_type": "stream",
     "text": [
      "Creating building AB\n",
      "Creating building AB\n",
      "Creating building AB\n",
      "Creating building AB\n"
     ]
    },
    {
     "name": "stderr",
     "output_type": "stream",
     "text": [
      "c:\\Users\\felix\\Programmieren\\districtgenerator\\.venv\\Lib\\site-packages\\teaser\\logic\\buildingobjects\\useconditions.py:363: FutureWarning: 'H' is deprecated and will be removed in a future version, please use 'h' instead.\n",
      "  index=pd.date_range(\"2019-01-01 00:00:00\", periods=8760, freq=\"H\")\n",
      "c:\\Users\\felix\\Programmieren\\districtgenerator\\.venv\\Lib\\site-packages\\teaser\\logic\\buildingobjects\\useconditions.py:363: FutureWarning: 'H' is deprecated and will be removed in a future version, please use 'h' instead.\n",
      "  index=pd.date_range(\"2019-01-01 00:00:00\", periods=8760, freq=\"H\")\n"
     ]
    },
    {
     "name": "stdout",
     "output_type": "stream",
     "text": [
      "Creating building IWU School, Day Nursery and other Care\n",
      "We are about to generate a Non Residential building.\n",
      "Available building types: ['IWU Office, Administrative or Government Buildings', 'IWU Research and University Teaching', 'IWU Health and Care', 'IWU School, Day Nursery and other Care', 'IWU Culture and Leisure', 'IWU Sports Facilities', 'IWU Hotels, Boarding, Restaurants or Catering', 'IWU Production, Workshop, Warehouse or Operations', 'IWU Trade Buildings', 'IWU Technical and Utility (supply and disposal)', 'IWU Transport', 'IWU Generalized (1) Services building', 'IWU Generalized (2) Production buildings']\n",
      "Current usage: IWU School, Day Nursery and other Care\n",
      "Creating building AB\n"
     ]
    },
    {
     "name": "stderr",
     "output_type": "stream",
     "text": [
      "c:\\Users\\felix\\Programmieren\\districtgenerator\\.venv\\Lib\\site-packages\\teaser\\logic\\buildingobjects\\useconditions.py:363: FutureWarning: 'H' is deprecated and will be removed in a future version, please use 'h' instead.\n",
      "  index=pd.date_range(\"2019-01-01 00:00:00\", periods=8760, freq=\"H\")\n"
     ]
    },
    {
     "name": "stdout",
     "output_type": "stream",
     "text": [
      "Creating building AB\n"
     ]
    },
    {
     "name": "stderr",
     "output_type": "stream",
     "text": [
      "c:\\Users\\felix\\Programmieren\\districtgenerator\\.venv\\Lib\\site-packages\\teaser\\logic\\buildingobjects\\useconditions.py:363: FutureWarning: 'H' is deprecated and will be removed in a future version, please use 'h' instead.\n",
      "  index=pd.date_range(\"2019-01-01 00:00:00\", periods=8760, freq=\"H\")\n"
     ]
    },
    {
     "name": "stdout",
     "output_type": "stream",
     "text": [
      "Creating building MFH\n",
      "Creating building MFH\n",
      "Creating building MFH\n"
     ]
    },
    {
     "name": "stderr",
     "output_type": "stream",
     "text": [
      "c:\\Users\\felix\\Programmieren\\districtgenerator\\.venv\\Lib\\site-packages\\teaser\\logic\\buildingobjects\\useconditions.py:363: FutureWarning: 'H' is deprecated and will be removed in a future version, please use 'h' instead.\n",
      "  index=pd.date_range(\"2019-01-01 00:00:00\", periods=8760, freq=\"H\")\n",
      "c:\\Users\\felix\\Programmieren\\districtgenerator\\.venv\\Lib\\site-packages\\teaser\\logic\\buildingobjects\\useconditions.py:363: FutureWarning: 'H' is deprecated and will be removed in a future version, please use 'h' instead.\n",
      "  index=pd.date_range(\"2019-01-01 00:00:00\", periods=8760, freq=\"H\")\n",
      "c:\\Users\\felix\\Programmieren\\districtgenerator\\.venv\\Lib\\site-packages\\teaser\\logic\\buildingobjects\\useconditions.py:363: FutureWarning: 'H' is deprecated and will be removed in a future version, please use 'h' instead.\n",
      "  index=pd.date_range(\"2019-01-01 00:00:00\", periods=8760, freq=\"H\")\n"
     ]
    },
    {
     "name": "stdout",
     "output_type": "stream",
     "text": [
      "Creating building IWU Transport\n",
      "We are about to generate a Non Residential building.\n",
      "Available building types: ['IWU Office, Administrative or Government Buildings', 'IWU Research and University Teaching', 'IWU Health and Care', 'IWU School, Day Nursery and other Care', 'IWU Culture and Leisure', 'IWU Sports Facilities', 'IWU Hotels, Boarding, Restaurants or Catering', 'IWU Production, Workshop, Warehouse or Operations', 'IWU Trade Buildings', 'IWU Technical and Utility (supply and disposal)', 'IWU Transport', 'IWU Generalized (1) Services building', 'IWU Generalized (2) Production buildings']\n",
      "Current usage: IWU Transport\n",
      "Creating building TH\n",
      "Creating building AB\n",
      "Creating building MFH\n"
     ]
    },
    {
     "name": "stderr",
     "output_type": "stream",
     "text": [
      "c:\\Users\\felix\\Programmieren\\districtgenerator\\.venv\\Lib\\site-packages\\teaser\\logic\\buildingobjects\\useconditions.py:363: FutureWarning: 'H' is deprecated and will be removed in a future version, please use 'h' instead.\n",
      "  index=pd.date_range(\"2019-01-01 00:00:00\", periods=8760, freq=\"H\")\n",
      "c:\\Users\\felix\\Programmieren\\districtgenerator\\.venv\\Lib\\site-packages\\teaser\\logic\\buildingobjects\\useconditions.py:363: FutureWarning: 'H' is deprecated and will be removed in a future version, please use 'h' instead.\n",
      "  index=pd.date_range(\"2019-01-01 00:00:00\", periods=8760, freq=\"H\")\n",
      "c:\\Users\\felix\\Programmieren\\districtgenerator\\.venv\\Lib\\site-packages\\teaser\\logic\\buildingobjects\\useconditions.py:363: FutureWarning: 'H' is deprecated and will be removed in a future version, please use 'h' instead.\n",
      "  index=pd.date_range(\"2019-01-01 00:00:00\", periods=8760, freq=\"H\")\n"
     ]
    },
    {
     "name": "stdout",
     "output_type": "stream",
     "text": [
      "Creating building IWU Transport\n",
      "We are about to generate a Non Residential building.\n",
      "Available building types: ['IWU Office, Administrative or Government Buildings', 'IWU Research and University Teaching', 'IWU Health and Care', 'IWU School, Day Nursery and other Care', 'IWU Culture and Leisure', 'IWU Sports Facilities', 'IWU Hotels, Boarding, Restaurants or Catering', 'IWU Production, Workshop, Warehouse or Operations', 'IWU Trade Buildings', 'IWU Technical and Utility (supply and disposal)', 'IWU Transport', 'IWU Generalized (1) Services building', 'IWU Generalized (2) Production buildings']\n",
      "Current usage: IWU Transport\n",
      "Creating building MFH\n",
      "Creating building MFH\n"
     ]
    },
    {
     "name": "stderr",
     "output_type": "stream",
     "text": [
      "c:\\Users\\felix\\Programmieren\\districtgenerator\\.venv\\Lib\\site-packages\\teaser\\logic\\buildingobjects\\useconditions.py:363: FutureWarning: 'H' is deprecated and will be removed in a future version, please use 'h' instead.\n",
      "  index=pd.date_range(\"2019-01-01 00:00:00\", periods=8760, freq=\"H\")\n",
      "c:\\Users\\felix\\Programmieren\\districtgenerator\\.venv\\Lib\\site-packages\\teaser\\logic\\buildingobjects\\useconditions.py:363: FutureWarning: 'H' is deprecated and will be removed in a future version, please use 'h' instead.\n",
      "  index=pd.date_range(\"2019-01-01 00:00:00\", periods=8760, freq=\"H\")\n"
     ]
    },
    {
     "name": "stdout",
     "output_type": "stream",
     "text": [
      "Creating building IWU Office, Administrative or Government Buildings\n",
      "We are about to generate a Non Residential building.\n",
      "Available building types: ['IWU Office, Administrative or Government Buildings', 'IWU Research and University Teaching', 'IWU Health and Care', 'IWU School, Day Nursery and other Care', 'IWU Culture and Leisure', 'IWU Sports Facilities', 'IWU Hotels, Boarding, Restaurants or Catering', 'IWU Production, Workshop, Warehouse or Operations', 'IWU Trade Buildings', 'IWU Technical and Utility (supply and disposal)', 'IWU Transport', 'IWU Generalized (1) Services building', 'IWU Generalized (2) Production buildings']\n",
      "Current usage: IWU Office, Administrative or Government Buildings\n",
      "Creating building IWU Production, Workshop, Warehouse or Operations\n",
      "We are about to generate a Non Residential building.\n",
      "Available building types: ['IWU Office, Administrative or Government Buildings', 'IWU Research and University Teaching', 'IWU Health and Care', 'IWU School, Day Nursery and other Care', 'IWU Culture and Leisure', 'IWU Sports Facilities', 'IWU Hotels, Boarding, Restaurants or Catering', 'IWU Production, Workshop, Warehouse or Operations', 'IWU Trade Buildings', 'IWU Technical and Utility (supply and disposal)', 'IWU Transport', 'IWU Generalized (1) Services building', 'IWU Generalized (2) Production buildings']\n",
      "Current usage: IWU Production, Workshop, Warehouse or Operations\n",
      "No data about lighntning control available for IWU Production, Workshop, Warehouse or Operations and data type Technical and Utility Buildings (supply and disposal)Gewerbliche und industrielle Hallen (mittelschwere Arbeit, überw. stehende Tätigkeit)\n",
      "Creating building MFH\n",
      "Creating building AB\n"
     ]
    },
    {
     "name": "stderr",
     "output_type": "stream",
     "text": [
      "c:\\Users\\felix\\Programmieren\\districtgenerator\\.venv\\Lib\\site-packages\\teaser\\logic\\buildingobjects\\useconditions.py:363: FutureWarning: 'H' is deprecated and will be removed in a future version, please use 'h' instead.\n",
      "  index=pd.date_range(\"2019-01-01 00:00:00\", periods=8760, freq=\"H\")\n",
      "c:\\Users\\felix\\Programmieren\\districtgenerator\\.venv\\Lib\\site-packages\\teaser\\logic\\buildingobjects\\useconditions.py:363: FutureWarning: 'H' is deprecated and will be removed in a future version, please use 'h' instead.\n",
      "  index=pd.date_range(\"2019-01-01 00:00:00\", periods=8760, freq=\"H\")\n",
      "c:\\Users\\felix\\Programmieren\\districtgenerator\\.venv\\Lib\\site-packages\\teaser\\logic\\buildingobjects\\useconditions.py:363: FutureWarning: 'H' is deprecated and will be removed in a future version, please use 'h' instead.\n",
      "  index=pd.date_range(\"2019-01-01 00:00:00\", periods=8760, freq=\"H\")\n"
     ]
    },
    {
     "name": "stdout",
     "output_type": "stream",
     "text": [
      "Creating building AB\n",
      "Creating building MFH\n",
      "Creating building MFH\n"
     ]
    },
    {
     "name": "stderr",
     "output_type": "stream",
     "text": [
      "c:\\Users\\felix\\Programmieren\\districtgenerator\\.venv\\Lib\\site-packages\\teaser\\logic\\buildingobjects\\useconditions.py:363: FutureWarning: 'H' is deprecated and will be removed in a future version, please use 'h' instead.\n",
      "  index=pd.date_range(\"2019-01-01 00:00:00\", periods=8760, freq=\"H\")\n",
      "c:\\Users\\felix\\Programmieren\\districtgenerator\\.venv\\Lib\\site-packages\\teaser\\logic\\buildingobjects\\useconditions.py:363: FutureWarning: 'H' is deprecated and will be removed in a future version, please use 'h' instead.\n",
      "  index=pd.date_range(\"2019-01-01 00:00:00\", periods=8760, freq=\"H\")\n",
      "c:\\Users\\felix\\Programmieren\\districtgenerator\\.venv\\Lib\\site-packages\\teaser\\logic\\buildingobjects\\useconditions.py:363: FutureWarning: 'H' is deprecated and will be removed in a future version, please use 'h' instead.\n",
      "  index=pd.date_range(\"2019-01-01 00:00:00\", periods=8760, freq=\"H\")\n"
     ]
    },
    {
     "name": "stdout",
     "output_type": "stream",
     "text": [
      "Creating building MFH\n",
      "Creating building AB\n"
     ]
    },
    {
     "name": "stderr",
     "output_type": "stream",
     "text": [
      "c:\\Users\\felix\\Programmieren\\districtgenerator\\.venv\\Lib\\site-packages\\teaser\\logic\\buildingobjects\\useconditions.py:363: FutureWarning: 'H' is deprecated and will be removed in a future version, please use 'h' instead.\n",
      "  index=pd.date_range(\"2019-01-01 00:00:00\", periods=8760, freq=\"H\")\n",
      "c:\\Users\\felix\\Programmieren\\districtgenerator\\.venv\\Lib\\site-packages\\teaser\\logic\\buildingobjects\\useconditions.py:363: FutureWarning: 'H' is deprecated and will be removed in a future version, please use 'h' instead.\n",
      "  index=pd.date_range(\"2019-01-01 00:00:00\", periods=8760, freq=\"H\")\n"
     ]
    },
    {
     "name": "stdout",
     "output_type": "stream",
     "text": [
      "Creating building AB\n",
      "Creating building MFH\n",
      "Creating building IWU Production, Workshop, Warehouse or Operations\n",
      "We are about to generate a Non Residential building.\n",
      "Available building types: ['IWU Office, Administrative or Government Buildings', 'IWU Research and University Teaching', 'IWU Health and Care', 'IWU School, Day Nursery and other Care', 'IWU Culture and Leisure', 'IWU Sports Facilities', 'IWU Hotels, Boarding, Restaurants or Catering', 'IWU Production, Workshop, Warehouse or Operations', 'IWU Trade Buildings', 'IWU Technical and Utility (supply and disposal)', 'IWU Transport', 'IWU Generalized (1) Services building', 'IWU Generalized (2) Production buildings']\n",
      "Current usage: IWU Production, Workshop, Warehouse or Operations\n",
      "No data about lighntning control available for IWU Production, Workshop, Warehouse or Operations and data type Technical and Utility Buildings (supply and disposal)Gewerbliche und industrielle Hallen (mittelschwere Arbeit, überw. stehende Tätigkeit)\n",
      "Creating building MFH\n"
     ]
    },
    {
     "name": "stderr",
     "output_type": "stream",
     "text": [
      "c:\\Users\\felix\\Programmieren\\districtgenerator\\.venv\\Lib\\site-packages\\teaser\\logic\\buildingobjects\\useconditions.py:363: FutureWarning: 'H' is deprecated and will be removed in a future version, please use 'h' instead.\n",
      "  index=pd.date_range(\"2019-01-01 00:00:00\", periods=8760, freq=\"H\")\n",
      "c:\\Users\\felix\\Programmieren\\districtgenerator\\.venv\\Lib\\site-packages\\teaser\\logic\\buildingobjects\\useconditions.py:363: FutureWarning: 'H' is deprecated and will be removed in a future version, please use 'h' instead.\n",
      "  index=pd.date_range(\"2019-01-01 00:00:00\", periods=8760, freq=\"H\")\n"
     ]
    },
    {
     "name": "stdout",
     "output_type": "stream",
     "text": [
      "Creating building AB\n",
      "Creating building IWU Production, Workshop, Warehouse or Operations\n",
      "We are about to generate a Non Residential building.\n",
      "Available building types: ['IWU Office, Administrative or Government Buildings', 'IWU Research and University Teaching', 'IWU Health and Care', 'IWU School, Day Nursery and other Care', 'IWU Culture and Leisure', 'IWU Sports Facilities', 'IWU Hotels, Boarding, Restaurants or Catering', 'IWU Production, Workshop, Warehouse or Operations', 'IWU Trade Buildings', 'IWU Technical and Utility (supply and disposal)', 'IWU Transport', 'IWU Generalized (1) Services building', 'IWU Generalized (2) Production buildings']\n",
      "Current usage: IWU Production, Workshop, Warehouse or Operations\n",
      "No data about lighntning control available for IWU Production, Workshop, Warehouse or Operations and data type Technical and Utility Buildings (supply and disposal)Gewerbliche und industrielle Hallen (mittelschwere Arbeit, überw. stehende Tätigkeit)\n",
      "Creating building MFH\n"
     ]
    },
    {
     "name": "stderr",
     "output_type": "stream",
     "text": [
      "c:\\Users\\felix\\Programmieren\\districtgenerator\\.venv\\Lib\\site-packages\\teaser\\logic\\buildingobjects\\useconditions.py:363: FutureWarning: 'H' is deprecated and will be removed in a future version, please use 'h' instead.\n",
      "  index=pd.date_range(\"2019-01-01 00:00:00\", periods=8760, freq=\"H\")\n",
      "c:\\Users\\felix\\Programmieren\\districtgenerator\\.venv\\Lib\\site-packages\\teaser\\logic\\buildingobjects\\useconditions.py:363: FutureWarning: 'H' is deprecated and will be removed in a future version, please use 'h' instead.\n",
      "  index=pd.date_range(\"2019-01-01 00:00:00\", periods=8760, freq=\"H\")\n"
     ]
    },
    {
     "name": "stdout",
     "output_type": "stream",
     "text": [
      "Creating building MFH\n",
      "Creating building MFH\n",
      "Creating building MFH\n"
     ]
    },
    {
     "name": "stderr",
     "output_type": "stream",
     "text": [
      "c:\\Users\\felix\\Programmieren\\districtgenerator\\.venv\\Lib\\site-packages\\teaser\\logic\\buildingobjects\\useconditions.py:363: FutureWarning: 'H' is deprecated and will be removed in a future version, please use 'h' instead.\n",
      "  index=pd.date_range(\"2019-01-01 00:00:00\", periods=8760, freq=\"H\")\n",
      "c:\\Users\\felix\\Programmieren\\districtgenerator\\.venv\\Lib\\site-packages\\teaser\\logic\\buildingobjects\\useconditions.py:363: FutureWarning: 'H' is deprecated and will be removed in a future version, please use 'h' instead.\n",
      "  index=pd.date_range(\"2019-01-01 00:00:00\", periods=8760, freq=\"H\")\n",
      "c:\\Users\\felix\\Programmieren\\districtgenerator\\.venv\\Lib\\site-packages\\teaser\\logic\\buildingobjects\\useconditions.py:363: FutureWarning: 'H' is deprecated and will be removed in a future version, please use 'h' instead.\n",
      "  index=pd.date_range(\"2019-01-01 00:00:00\", periods=8760, freq=\"H\")\n"
     ]
    },
    {
     "name": "stdout",
     "output_type": "stream",
     "text": [
      "Creating building MFH\n",
      "Creating building MFH\n",
      "Creating building MFH\n"
     ]
    },
    {
     "name": "stderr",
     "output_type": "stream",
     "text": [
      "c:\\Users\\felix\\Programmieren\\districtgenerator\\.venv\\Lib\\site-packages\\teaser\\logic\\buildingobjects\\useconditions.py:363: FutureWarning: 'H' is deprecated and will be removed in a future version, please use 'h' instead.\n",
      "  index=pd.date_range(\"2019-01-01 00:00:00\", periods=8760, freq=\"H\")\n",
      "c:\\Users\\felix\\Programmieren\\districtgenerator\\.venv\\Lib\\site-packages\\teaser\\logic\\buildingobjects\\useconditions.py:363: FutureWarning: 'H' is deprecated and will be removed in a future version, please use 'h' instead.\n",
      "  index=pd.date_range(\"2019-01-01 00:00:00\", periods=8760, freq=\"H\")\n",
      "c:\\Users\\felix\\Programmieren\\districtgenerator\\.venv\\Lib\\site-packages\\teaser\\logic\\buildingobjects\\useconditions.py:363: FutureWarning: 'H' is deprecated and will be removed in a future version, please use 'h' instead.\n",
      "  index=pd.date_range(\"2019-01-01 00:00:00\", periods=8760, freq=\"H\")\n"
     ]
    },
    {
     "name": "stdout",
     "output_type": "stream",
     "text": [
      "Creating building IWU Transport\n",
      "We are about to generate a Non Residential building.\n",
      "Available building types: ['IWU Office, Administrative or Government Buildings', 'IWU Research and University Teaching', 'IWU Health and Care', 'IWU School, Day Nursery and other Care', 'IWU Culture and Leisure', 'IWU Sports Facilities', 'IWU Hotels, Boarding, Restaurants or Catering', 'IWU Production, Workshop, Warehouse or Operations', 'IWU Trade Buildings', 'IWU Technical and Utility (supply and disposal)', 'IWU Transport', 'IWU Generalized (1) Services building', 'IWU Generalized (2) Production buildings']\n",
      "Current usage: IWU Transport\n",
      "Creating building MFH\n",
      "Creating building AB\n"
     ]
    },
    {
     "name": "stderr",
     "output_type": "stream",
     "text": [
      "c:\\Users\\felix\\Programmieren\\districtgenerator\\.venv\\Lib\\site-packages\\teaser\\logic\\buildingobjects\\useconditions.py:363: FutureWarning: 'H' is deprecated and will be removed in a future version, please use 'h' instead.\n",
      "  index=pd.date_range(\"2019-01-01 00:00:00\", periods=8760, freq=\"H\")\n",
      "c:\\Users\\felix\\Programmieren\\districtgenerator\\.venv\\Lib\\site-packages\\teaser\\logic\\buildingobjects\\useconditions.py:363: FutureWarning: 'H' is deprecated and will be removed in a future version, please use 'h' instead.\n",
      "  index=pd.date_range(\"2019-01-01 00:00:00\", periods=8760, freq=\"H\")\n",
      "c:\\Users\\felix\\Programmieren\\districtgenerator\\.venv\\Lib\\site-packages\\teaser\\logic\\buildingobjects\\useconditions.py:363: FutureWarning: 'H' is deprecated and will be removed in a future version, please use 'h' instead.\n",
      "  index=pd.date_range(\"2019-01-01 00:00:00\", periods=8760, freq=\"H\")\n"
     ]
    },
    {
     "name": "stdout",
     "output_type": "stream",
     "text": [
      "Creating building AB\n",
      "Creating building MFH\n"
     ]
    },
    {
     "name": "stderr",
     "output_type": "stream",
     "text": [
      "c:\\Users\\felix\\Programmieren\\districtgenerator\\.venv\\Lib\\site-packages\\teaser\\logic\\buildingobjects\\useconditions.py:363: FutureWarning: 'H' is deprecated and will be removed in a future version, please use 'h' instead.\n",
      "  index=pd.date_range(\"2019-01-01 00:00:00\", periods=8760, freq=\"H\")\n",
      "c:\\Users\\felix\\Programmieren\\districtgenerator\\.venv\\Lib\\site-packages\\teaser\\logic\\buildingobjects\\useconditions.py:363: FutureWarning: 'H' is deprecated and will be removed in a future version, please use 'h' instead.\n",
      "  index=pd.date_range(\"2019-01-01 00:00:00\", periods=8760, freq=\"H\")\n"
     ]
    },
    {
     "name": "stdout",
     "output_type": "stream",
     "text": [
      "Creating building IWU Transport\n",
      "We are about to generate a Non Residential building.\n",
      "Available building types: ['IWU Office, Administrative or Government Buildings', 'IWU Research and University Teaching', 'IWU Health and Care', 'IWU School, Day Nursery and other Care', 'IWU Culture and Leisure', 'IWU Sports Facilities', 'IWU Hotels, Boarding, Restaurants or Catering', 'IWU Production, Workshop, Warehouse or Operations', 'IWU Trade Buildings', 'IWU Technical and Utility (supply and disposal)', 'IWU Transport', 'IWU Generalized (1) Services building', 'IWU Generalized (2) Production buildings']\n",
      "Current usage: IWU Transport\n",
      "Creating building AB\n",
      "Creating building AB\n",
      "Creating building AB\n"
     ]
    },
    {
     "name": "stderr",
     "output_type": "stream",
     "text": [
      "c:\\Users\\felix\\Programmieren\\districtgenerator\\.venv\\Lib\\site-packages\\teaser\\logic\\buildingobjects\\useconditions.py:363: FutureWarning: 'H' is deprecated and will be removed in a future version, please use 'h' instead.\n",
      "  index=pd.date_range(\"2019-01-01 00:00:00\", periods=8760, freq=\"H\")\n",
      "c:\\Users\\felix\\Programmieren\\districtgenerator\\.venv\\Lib\\site-packages\\teaser\\logic\\buildingobjects\\useconditions.py:363: FutureWarning: 'H' is deprecated and will be removed in a future version, please use 'h' instead.\n",
      "  index=pd.date_range(\"2019-01-01 00:00:00\", periods=8760, freq=\"H\")\n"
     ]
    },
    {
     "name": "stdout",
     "output_type": "stream",
     "text": [
      "Creating building MFH\n",
      "Creating building AB\n"
     ]
    },
    {
     "name": "stderr",
     "output_type": "stream",
     "text": [
      "c:\\Users\\felix\\Programmieren\\districtgenerator\\.venv\\Lib\\site-packages\\teaser\\logic\\buildingobjects\\useconditions.py:363: FutureWarning: 'H' is deprecated and will be removed in a future version, please use 'h' instead.\n",
      "  index=pd.date_range(\"2019-01-01 00:00:00\", periods=8760, freq=\"H\")\n",
      "c:\\Users\\felix\\Programmieren\\districtgenerator\\.venv\\Lib\\site-packages\\teaser\\logic\\buildingobjects\\useconditions.py:363: FutureWarning: 'H' is deprecated and will be removed in a future version, please use 'h' instead.\n",
      "  index=pd.date_range(\"2019-01-01 00:00:00\", periods=8760, freq=\"H\")\n"
     ]
    },
    {
     "name": "stdout",
     "output_type": "stream",
     "text": [
      "Creating building AB\n"
     ]
    },
    {
     "name": "stderr",
     "output_type": "stream",
     "text": [
      "c:\\Users\\felix\\Programmieren\\districtgenerator\\.venv\\Lib\\site-packages\\teaser\\logic\\buildingobjects\\useconditions.py:363: FutureWarning: 'H' is deprecated and will be removed in a future version, please use 'h' instead.\n",
      "  index=pd.date_range(\"2019-01-01 00:00:00\", periods=8760, freq=\"H\")\n"
     ]
    },
    {
     "name": "stdout",
     "output_type": "stream",
     "text": [
      "Creating building MFH\n",
      "Creating building AB\n"
     ]
    },
    {
     "name": "stderr",
     "output_type": "stream",
     "text": [
      "c:\\Users\\felix\\Programmieren\\districtgenerator\\.venv\\Lib\\site-packages\\teaser\\logic\\buildingobjects\\useconditions.py:363: FutureWarning: 'H' is deprecated and will be removed in a future version, please use 'h' instead.\n",
      "  index=pd.date_range(\"2019-01-01 00:00:00\", periods=8760, freq=\"H\")\n",
      "c:\\Users\\felix\\Programmieren\\districtgenerator\\.venv\\Lib\\site-packages\\teaser\\logic\\buildingobjects\\useconditions.py:363: FutureWarning: 'H' is deprecated and will be removed in a future version, please use 'h' instead.\n",
      "  index=pd.date_range(\"2019-01-01 00:00:00\", periods=8760, freq=\"H\")\n"
     ]
    },
    {
     "name": "stdout",
     "output_type": "stream",
     "text": [
      "Creating building AB\n",
      "Creating building MFH\n"
     ]
    },
    {
     "name": "stderr",
     "output_type": "stream",
     "text": [
      "c:\\Users\\felix\\Programmieren\\districtgenerator\\.venv\\Lib\\site-packages\\teaser\\logic\\buildingobjects\\useconditions.py:363: FutureWarning: 'H' is deprecated and will be removed in a future version, please use 'h' instead.\n",
      "  index=pd.date_range(\"2019-01-01 00:00:00\", periods=8760, freq=\"H\")\n",
      "c:\\Users\\felix\\Programmieren\\districtgenerator\\.venv\\Lib\\site-packages\\teaser\\logic\\buildingobjects\\useconditions.py:363: FutureWarning: 'H' is deprecated and will be removed in a future version, please use 'h' instead.\n",
      "  index=pd.date_range(\"2019-01-01 00:00:00\", periods=8760, freq=\"H\")\n"
     ]
    },
    {
     "name": "stdout",
     "output_type": "stream",
     "text": [
      "Creating building IWU Production, Workshop, Warehouse or Operations\n",
      "We are about to generate a Non Residential building.\n",
      "Available building types: ['IWU Office, Administrative or Government Buildings', 'IWU Research and University Teaching', 'IWU Health and Care', 'IWU School, Day Nursery and other Care', 'IWU Culture and Leisure', 'IWU Sports Facilities', 'IWU Hotels, Boarding, Restaurants or Catering', 'IWU Production, Workshop, Warehouse or Operations', 'IWU Trade Buildings', 'IWU Technical and Utility (supply and disposal)', 'IWU Transport', 'IWU Generalized (1) Services building', 'IWU Generalized (2) Production buildings']\n",
      "Current usage: IWU Production, Workshop, Warehouse or Operations\n",
      "No data about lighntning control available for IWU Production, Workshop, Warehouse or Operations and data type Technical and Utility Buildings (supply and disposal)Gewerbliche und industrielle Hallen (mittelschwere Arbeit, überw. stehende Tätigkeit)\n",
      "Creating building MFH\n"
     ]
    },
    {
     "name": "stderr",
     "output_type": "stream",
     "text": [
      "c:\\Users\\felix\\Programmieren\\districtgenerator\\.venv\\Lib\\site-packages\\teaser\\logic\\buildingobjects\\useconditions.py:363: FutureWarning: 'H' is deprecated and will be removed in a future version, please use 'h' instead.\n",
      "  index=pd.date_range(\"2019-01-01 00:00:00\", periods=8760, freq=\"H\")\n"
     ]
    },
    {
     "name": "stdout",
     "output_type": "stream",
     "text": [
      "Creating building IWU Technical and Utility (supply and disposal)\n",
      "We are about to generate a Non Residential building.\n",
      "Available building types: ['IWU Office, Administrative or Government Buildings', 'IWU Research and University Teaching', 'IWU Health and Care', 'IWU School, Day Nursery and other Care', 'IWU Culture and Leisure', 'IWU Sports Facilities', 'IWU Hotels, Boarding, Restaurants or Catering', 'IWU Production, Workshop, Warehouse or Operations', 'IWU Trade Buildings', 'IWU Technical and Utility (supply and disposal)', 'IWU Transport', 'IWU Generalized (1) Services building', 'IWU Generalized (2) Production buildings']\n",
      "Current usage: IWU Technical and Utility (supply and disposal)\n",
      "Creating building MFH\n",
      "Creating building MFH\n"
     ]
    },
    {
     "name": "stderr",
     "output_type": "stream",
     "text": [
      "c:\\Users\\felix\\Programmieren\\districtgenerator\\.venv\\Lib\\site-packages\\teaser\\logic\\buildingobjects\\useconditions.py:363: FutureWarning: 'H' is deprecated and will be removed in a future version, please use 'h' instead.\n",
      "  index=pd.date_range(\"2019-01-01 00:00:00\", periods=8760, freq=\"H\")\n",
      "c:\\Users\\felix\\Programmieren\\districtgenerator\\.venv\\Lib\\site-packages\\teaser\\logic\\buildingobjects\\useconditions.py:363: FutureWarning: 'H' is deprecated and will be removed in a future version, please use 'h' instead.\n",
      "  index=pd.date_range(\"2019-01-01 00:00:00\", periods=8760, freq=\"H\")\n",
      "c:\\Users\\felix\\Programmieren\\districtgenerator\\.venv\\Lib\\site-packages\\teaser\\logic\\buildingobjects\\useconditions.py:363: FutureWarning: 'H' is deprecated and will be removed in a future version, please use 'h' instead.\n",
      "  index=pd.date_range(\"2019-01-01 00:00:00\", periods=8760, freq=\"H\")\n"
     ]
    },
    {
     "name": "stdout",
     "output_type": "stream",
     "text": [
      "Creating building MFH\n",
      "Creating building IWU Production, Workshop, Warehouse or Operations\n",
      "We are about to generate a Non Residential building.\n",
      "Available building types: ['IWU Office, Administrative or Government Buildings', 'IWU Research and University Teaching', 'IWU Health and Care', 'IWU School, Day Nursery and other Care', 'IWU Culture and Leisure', 'IWU Sports Facilities', 'IWU Hotels, Boarding, Restaurants or Catering', 'IWU Production, Workshop, Warehouse or Operations', 'IWU Trade Buildings', 'IWU Technical and Utility (supply and disposal)', 'IWU Transport', 'IWU Generalized (1) Services building', 'IWU Generalized (2) Production buildings']\n",
      "Current usage: IWU Production, Workshop, Warehouse or Operations\n",
      "No data about lighntning control available for IWU Production, Workshop, Warehouse or Operations and data type Technical and Utility Buildings (supply and disposal)Gewerbliche und industrielle Hallen (mittelschwere Arbeit, überw. stehende Tätigkeit)\n",
      "Creating building IWU Production, Workshop, Warehouse or Operations\n",
      "We are about to generate a Non Residential building.\n",
      "Available building types: ['IWU Office, Administrative or Government Buildings', 'IWU Research and University Teaching', 'IWU Health and Care', 'IWU School, Day Nursery and other Care', 'IWU Culture and Leisure', 'IWU Sports Facilities', 'IWU Hotels, Boarding, Restaurants or Catering', 'IWU Production, Workshop, Warehouse or Operations', 'IWU Trade Buildings', 'IWU Technical and Utility (supply and disposal)', 'IWU Transport', 'IWU Generalized (1) Services building', 'IWU Generalized (2) Production buildings']\n",
      "Current usage: IWU Production, Workshop, Warehouse or Operations\n",
      "No data about lighntning control available for IWU Production, Workshop, Warehouse or Operations and data type Technical and Utility Buildings (supply and disposal)Gewerbliche und industrielle Hallen (mittelschwere Arbeit, überw. stehende Tätigkeit)\n",
      "Creating building MFH\n"
     ]
    },
    {
     "name": "stderr",
     "output_type": "stream",
     "text": [
      "c:\\Users\\felix\\Programmieren\\districtgenerator\\.venv\\Lib\\site-packages\\teaser\\logic\\buildingobjects\\useconditions.py:363: FutureWarning: 'H' is deprecated and will be removed in a future version, please use 'h' instead.\n",
      "  index=pd.date_range(\"2019-01-01 00:00:00\", periods=8760, freq=\"H\")\n",
      "c:\\Users\\felix\\Programmieren\\districtgenerator\\.venv\\Lib\\site-packages\\teaser\\logic\\buildingobjects\\useconditions.py:363: FutureWarning: 'H' is deprecated and will be removed in a future version, please use 'h' instead.\n",
      "  index=pd.date_range(\"2019-01-01 00:00:00\", periods=8760, freq=\"H\")\n"
     ]
    },
    {
     "name": "stdout",
     "output_type": "stream",
     "text": [
      "Creating building MFH\n",
      "Creating building AB\n"
     ]
    },
    {
     "name": "stderr",
     "output_type": "stream",
     "text": [
      "c:\\Users\\felix\\Programmieren\\districtgenerator\\.venv\\Lib\\site-packages\\teaser\\logic\\buildingobjects\\useconditions.py:363: FutureWarning: 'H' is deprecated and will be removed in a future version, please use 'h' instead.\n",
      "  index=pd.date_range(\"2019-01-01 00:00:00\", periods=8760, freq=\"H\")\n",
      "c:\\Users\\felix\\Programmieren\\districtgenerator\\.venv\\Lib\\site-packages\\teaser\\logic\\buildingobjects\\useconditions.py:363: FutureWarning: 'H' is deprecated and will be removed in a future version, please use 'h' instead.\n",
      "  index=pd.date_range(\"2019-01-01 00:00:00\", periods=8760, freq=\"H\")\n",
      "c:\\Users\\felix\\Programmieren\\districtgenerator\\.venv\\Lib\\site-packages\\teaser\\logic\\buildingobjects\\useconditions.py:363: FutureWarning: 'H' is deprecated and will be removed in a future version, please use 'h' instead.\n",
      "  index=pd.date_range(\"2019-01-01 00:00:00\", periods=8760, freq=\"H\")\n",
      "c:\\Users\\felix\\Programmieren\\districtgenerator\\.venv\\Lib\\site-packages\\teaser\\logic\\buildingobjects\\useconditions.py:363: FutureWarning: 'H' is deprecated and will be removed in a future version, please use 'h' instead.\n",
      "  index=pd.date_range(\"2019-01-01 00:00:00\", periods=8760, freq=\"H\")\n"
     ]
    },
    {
     "name": "stdout",
     "output_type": "stream",
     "text": [
      "Creating building IWU Transport\n",
      "We are about to generate a Non Residential building.\n",
      "Available building types: ['IWU Office, Administrative or Government Buildings', 'IWU Research and University Teaching', 'IWU Health and Care', 'IWU School, Day Nursery and other Care', 'IWU Culture and Leisure', 'IWU Sports Facilities', 'IWU Hotels, Boarding, Restaurants or Catering', 'IWU Production, Workshop, Warehouse or Operations', 'IWU Trade Buildings', 'IWU Technical and Utility (supply and disposal)', 'IWU Transport', 'IWU Generalized (1) Services building', 'IWU Generalized (2) Production buildings']\n",
      "Current usage: IWU Transport\n",
      "Creating building IWU Production, Workshop, Warehouse or Operations\n",
      "We are about to generate a Non Residential building.\n",
      "Available building types: ['IWU Office, Administrative or Government Buildings', 'IWU Research and University Teaching', 'IWU Health and Care', 'IWU School, Day Nursery and other Care', 'IWU Culture and Leisure', 'IWU Sports Facilities', 'IWU Hotels, Boarding, Restaurants or Catering', 'IWU Production, Workshop, Warehouse or Operations', 'IWU Trade Buildings', 'IWU Technical and Utility (supply and disposal)', 'IWU Transport', 'IWU Generalized (1) Services building', 'IWU Generalized (2) Production buildings']\n",
      "Current usage: IWU Production, Workshop, Warehouse or Operations\n",
      "No data about lighntning control available for IWU Production, Workshop, Warehouse or Operations and data type Technical and Utility Buildings (supply and disposal)Gewerbliche und industrielle Hallen (mittelschwere Arbeit, überw. stehende Tätigkeit)\n",
      "Creating building MFH\n",
      "Creating building MFH\n",
      "Creating building MFH\n",
      "Creating building MFH\n",
      "Creating building IWU Production, Workshop, Warehouse or Operations\n",
      "We are about to generate a Non Residential building.\n",
      "Available building types: ['IWU Office, Administrative or Government Buildings', 'IWU Research and University Teaching', 'IWU Health and Care', 'IWU School, Day Nursery and other Care', 'IWU Culture and Leisure', 'IWU Sports Facilities', 'IWU Hotels, Boarding, Restaurants or Catering', 'IWU Production, Workshop, Warehouse or Operations', 'IWU Trade Buildings', 'IWU Technical and Utility (supply and disposal)', 'IWU Transport', 'IWU Generalized (1) Services building', 'IWU Generalized (2) Production buildings']\n",
      "Current usage: IWU Production, Workshop, Warehouse or Operations\n",
      "No data about lighntning control available for IWU Production, Workshop, Warehouse or Operations and data type Technical and Utility Buildings (supply and disposal)Gewerbliche und industrielle Hallen (mittelschwere Arbeit, überw. stehende Tätigkeit)\n",
      "Creating building MFH\n",
      "Creating building MFH\n"
     ]
    },
    {
     "name": "stderr",
     "output_type": "stream",
     "text": [
      "c:\\Users\\felix\\Programmieren\\districtgenerator\\.venv\\Lib\\site-packages\\teaser\\logic\\buildingobjects\\useconditions.py:363: FutureWarning: 'H' is deprecated and will be removed in a future version, please use 'h' instead.\n",
      "  index=pd.date_range(\"2019-01-01 00:00:00\", periods=8760, freq=\"H\")\n",
      "c:\\Users\\felix\\Programmieren\\districtgenerator\\.venv\\Lib\\site-packages\\teaser\\logic\\buildingobjects\\useconditions.py:363: FutureWarning: 'H' is deprecated and will be removed in a future version, please use 'h' instead.\n",
      "  index=pd.date_range(\"2019-01-01 00:00:00\", periods=8760, freq=\"H\")\n",
      "c:\\Users\\felix\\Programmieren\\districtgenerator\\.venv\\Lib\\site-packages\\teaser\\logic\\buildingobjects\\useconditions.py:363: FutureWarning: 'H' is deprecated and will be removed in a future version, please use 'h' instead.\n",
      "  index=pd.date_range(\"2019-01-01 00:00:00\", periods=8760, freq=\"H\")\n"
     ]
    },
    {
     "name": "stdout",
     "output_type": "stream",
     "text": [
      "Creating building AB\n",
      "Creating building AB\n",
      "Creating building MFH\n"
     ]
    },
    {
     "name": "stderr",
     "output_type": "stream",
     "text": [
      "c:\\Users\\felix\\Programmieren\\districtgenerator\\.venv\\Lib\\site-packages\\teaser\\logic\\buildingobjects\\useconditions.py:363: FutureWarning: 'H' is deprecated and will be removed in a future version, please use 'h' instead.\n",
      "  index=pd.date_range(\"2019-01-01 00:00:00\", periods=8760, freq=\"H\")\n",
      "c:\\Users\\felix\\Programmieren\\districtgenerator\\.venv\\Lib\\site-packages\\teaser\\logic\\buildingobjects\\useconditions.py:363: FutureWarning: 'H' is deprecated and will be removed in a future version, please use 'h' instead.\n",
      "  index=pd.date_range(\"2019-01-01 00:00:00\", periods=8760, freq=\"H\")\n",
      "c:\\Users\\felix\\Programmieren\\districtgenerator\\.venv\\Lib\\site-packages\\teaser\\logic\\buildingobjects\\useconditions.py:363: FutureWarning: 'H' is deprecated and will be removed in a future version, please use 'h' instead.\n",
      "  index=pd.date_range(\"2019-01-01 00:00:00\", periods=8760, freq=\"H\")\n"
     ]
    },
    {
     "name": "stdout",
     "output_type": "stream",
     "text": [
      "Creating building MFH\n",
      "Creating building MFH\n",
      "Creating building IWU Production, Workshop, Warehouse or Operations\n",
      "We are about to generate a Non Residential building.\n",
      "Available building types: ['IWU Office, Administrative or Government Buildings', 'IWU Research and University Teaching', 'IWU Health and Care', 'IWU School, Day Nursery and other Care', 'IWU Culture and Leisure', 'IWU Sports Facilities', 'IWU Hotels, Boarding, Restaurants or Catering', 'IWU Production, Workshop, Warehouse or Operations', 'IWU Trade Buildings', 'IWU Technical and Utility (supply and disposal)', 'IWU Transport', 'IWU Generalized (1) Services building', 'IWU Generalized (2) Production buildings']\n",
      "Current usage: IWU Production, Workshop, Warehouse or Operations\n",
      "No data about lighntning control available for IWU Production, Workshop, Warehouse or Operations and data type Technical and Utility Buildings (supply and disposal)Gewerbliche und industrielle Hallen (mittelschwere Arbeit, überw. stehende Tätigkeit)\n",
      "Creating building AB\n"
     ]
    },
    {
     "name": "stderr",
     "output_type": "stream",
     "text": [
      "c:\\Users\\felix\\Programmieren\\districtgenerator\\.venv\\Lib\\site-packages\\teaser\\logic\\buildingobjects\\useconditions.py:363: FutureWarning: 'H' is deprecated and will be removed in a future version, please use 'h' instead.\n",
      "  index=pd.date_range(\"2019-01-01 00:00:00\", periods=8760, freq=\"H\")\n",
      "c:\\Users\\felix\\Programmieren\\districtgenerator\\.venv\\Lib\\site-packages\\teaser\\logic\\buildingobjects\\useconditions.py:363: FutureWarning: 'H' is deprecated and will be removed in a future version, please use 'h' instead.\n",
      "  index=pd.date_range(\"2019-01-01 00:00:00\", periods=8760, freq=\"H\")\n",
      "c:\\Users\\felix\\Programmieren\\districtgenerator\\.venv\\Lib\\site-packages\\teaser\\logic\\buildingobjects\\useconditions.py:363: FutureWarning: 'H' is deprecated and will be removed in a future version, please use 'h' instead.\n",
      "  index=pd.date_range(\"2019-01-01 00:00:00\", periods=8760, freq=\"H\")\n"
     ]
    },
    {
     "name": "stdout",
     "output_type": "stream",
     "text": [
      "Creating building MFH\n",
      "Creating building MFH\n"
     ]
    },
    {
     "name": "stderr",
     "output_type": "stream",
     "text": [
      "c:\\Users\\felix\\Programmieren\\districtgenerator\\.venv\\Lib\\site-packages\\teaser\\logic\\buildingobjects\\useconditions.py:363: FutureWarning: 'H' is deprecated and will be removed in a future version, please use 'h' instead.\n",
      "  index=pd.date_range(\"2019-01-01 00:00:00\", periods=8760, freq=\"H\")\n",
      "c:\\Users\\felix\\Programmieren\\districtgenerator\\.venv\\Lib\\site-packages\\teaser\\logic\\buildingobjects\\useconditions.py:363: FutureWarning: 'H' is deprecated and will be removed in a future version, please use 'h' instead.\n",
      "  index=pd.date_range(\"2019-01-01 00:00:00\", periods=8760, freq=\"H\")\n"
     ]
    },
    {
     "name": "stdout",
     "output_type": "stream",
     "text": [
      "Creating building AB\n",
      "Creating building IWU Production, Workshop, Warehouse or Operations\n",
      "We are about to generate a Non Residential building.\n",
      "Available building types: ['IWU Office, Administrative or Government Buildings', 'IWU Research and University Teaching', 'IWU Health and Care', 'IWU School, Day Nursery and other Care', 'IWU Culture and Leisure', 'IWU Sports Facilities', 'IWU Hotels, Boarding, Restaurants or Catering', 'IWU Production, Workshop, Warehouse or Operations', 'IWU Trade Buildings', 'IWU Technical and Utility (supply and disposal)', 'IWU Transport', 'IWU Generalized (1) Services building', 'IWU Generalized (2) Production buildings']\n",
      "Current usage: IWU Production, Workshop, Warehouse or Operations\n",
      "No data about lighntning control available for IWU Production, Workshop, Warehouse or Operations and data type Technical and Utility Buildings (supply and disposal)Gewerbliche und industrielle Hallen (mittelschwere Arbeit, überw. stehende Tätigkeit)\n",
      "Creating building IWU Trade Buildings\n",
      "We are about to generate a Non Residential building.\n",
      "Available building types: ['IWU Office, Administrative or Government Buildings', 'IWU Research and University Teaching', 'IWU Health and Care', 'IWU School, Day Nursery and other Care', 'IWU Culture and Leisure', 'IWU Sports Facilities', 'IWU Hotels, Boarding, Restaurants or Catering', 'IWU Production, Workshop, Warehouse or Operations', 'IWU Trade Buildings', 'IWU Technical and Utility (supply and disposal)', 'IWU Transport', 'IWU Generalized (1) Services building', 'IWU Generalized (2) Production buildings']\n",
      "Current usage: IWU Trade Buildings\n",
      "Creating building AB\n"
     ]
    },
    {
     "name": "stderr",
     "output_type": "stream",
     "text": [
      "c:\\Users\\felix\\Programmieren\\districtgenerator\\.venv\\Lib\\site-packages\\teaser\\logic\\buildingobjects\\useconditions.py:363: FutureWarning: 'H' is deprecated and will be removed in a future version, please use 'h' instead.\n",
      "  index=pd.date_range(\"2019-01-01 00:00:00\", periods=8760, freq=\"H\")\n",
      "c:\\Users\\felix\\Programmieren\\districtgenerator\\.venv\\Lib\\site-packages\\teaser\\logic\\buildingobjects\\useconditions.py:363: FutureWarning: 'H' is deprecated and will be removed in a future version, please use 'h' instead.\n",
      "  index=pd.date_range(\"2019-01-01 00:00:00\", periods=8760, freq=\"H\")\n"
     ]
    },
    {
     "name": "stdout",
     "output_type": "stream",
     "text": [
      "Creating building MFH\n",
      "Creating building MFH\n"
     ]
    },
    {
     "name": "stderr",
     "output_type": "stream",
     "text": [
      "c:\\Users\\felix\\Programmieren\\districtgenerator\\.venv\\Lib\\site-packages\\teaser\\logic\\buildingobjects\\useconditions.py:363: FutureWarning: 'H' is deprecated and will be removed in a future version, please use 'h' instead.\n",
      "  index=pd.date_range(\"2019-01-01 00:00:00\", periods=8760, freq=\"H\")\n",
      "c:\\Users\\felix\\Programmieren\\districtgenerator\\.venv\\Lib\\site-packages\\teaser\\logic\\buildingobjects\\useconditions.py:363: FutureWarning: 'H' is deprecated and will be removed in a future version, please use 'h' instead.\n",
      "  index=pd.date_range(\"2019-01-01 00:00:00\", periods=8760, freq=\"H\")\n"
     ]
    },
    {
     "name": "stdout",
     "output_type": "stream",
     "text": [
      "Creating building MFH\n",
      "Creating building MFH\n",
      "Creating building AB\n",
      "Creating building AB\n"
     ]
    },
    {
     "name": "stderr",
     "output_type": "stream",
     "text": [
      "c:\\Users\\felix\\Programmieren\\districtgenerator\\.venv\\Lib\\site-packages\\teaser\\logic\\buildingobjects\\useconditions.py:363: FutureWarning: 'H' is deprecated and will be removed in a future version, please use 'h' instead.\n",
      "  index=pd.date_range(\"2019-01-01 00:00:00\", periods=8760, freq=\"H\")\n",
      "c:\\Users\\felix\\Programmieren\\districtgenerator\\.venv\\Lib\\site-packages\\teaser\\logic\\buildingobjects\\useconditions.py:363: FutureWarning: 'H' is deprecated and will be removed in a future version, please use 'h' instead.\n",
      "  index=pd.date_range(\"2019-01-01 00:00:00\", periods=8760, freq=\"H\")\n",
      "c:\\Users\\felix\\Programmieren\\districtgenerator\\.venv\\Lib\\site-packages\\teaser\\logic\\buildingobjects\\useconditions.py:363: FutureWarning: 'H' is deprecated and will be removed in a future version, please use 'h' instead.\n",
      "  index=pd.date_range(\"2019-01-01 00:00:00\", periods=8760, freq=\"H\")\n",
      "c:\\Users\\felix\\Programmieren\\districtgenerator\\.venv\\Lib\\site-packages\\teaser\\logic\\buildingobjects\\useconditions.py:363: FutureWarning: 'H' is deprecated and will be removed in a future version, please use 'h' instead.\n",
      "  index=pd.date_range(\"2019-01-01 00:00:00\", periods=8760, freq=\"H\")\n"
     ]
    },
    {
     "name": "stdout",
     "output_type": "stream",
     "text": [
      "Creating building AB\n",
      "Creating building IWU Trade Buildings\n",
      "We are about to generate a Non Residential building.\n",
      "Available building types: ['IWU Office, Administrative or Government Buildings', 'IWU Research and University Teaching', 'IWU Health and Care', 'IWU School, Day Nursery and other Care', 'IWU Culture and Leisure', 'IWU Sports Facilities', 'IWU Hotels, Boarding, Restaurants or Catering', 'IWU Production, Workshop, Warehouse or Operations', 'IWU Trade Buildings', 'IWU Technical and Utility (supply and disposal)', 'IWU Transport', 'IWU Generalized (1) Services building', 'IWU Generalized (2) Production buildings']\n",
      "Current usage: IWU Trade Buildings\n",
      "Creating building MFH\n"
     ]
    },
    {
     "name": "stderr",
     "output_type": "stream",
     "text": [
      "c:\\Users\\felix\\Programmieren\\districtgenerator\\.venv\\Lib\\site-packages\\teaser\\logic\\buildingobjects\\useconditions.py:363: FutureWarning: 'H' is deprecated and will be removed in a future version, please use 'h' instead.\n",
      "  index=pd.date_range(\"2019-01-01 00:00:00\", periods=8760, freq=\"H\")\n",
      "c:\\Users\\felix\\Programmieren\\districtgenerator\\.venv\\Lib\\site-packages\\teaser\\logic\\buildingobjects\\useconditions.py:363: FutureWarning: 'H' is deprecated and will be removed in a future version, please use 'h' instead.\n",
      "  index=pd.date_range(\"2019-01-01 00:00:00\", periods=8760, freq=\"H\")\n"
     ]
    },
    {
     "name": "stdout",
     "output_type": "stream",
     "text": [
      "Creating building AB\n",
      "Creating building AB\n"
     ]
    },
    {
     "name": "stderr",
     "output_type": "stream",
     "text": [
      "c:\\Users\\felix\\Programmieren\\districtgenerator\\.venv\\Lib\\site-packages\\teaser\\logic\\buildingobjects\\useconditions.py:363: FutureWarning: 'H' is deprecated and will be removed in a future version, please use 'h' instead.\n",
      "  index=pd.date_range(\"2019-01-01 00:00:00\", periods=8760, freq=\"H\")\n",
      "c:\\Users\\felix\\Programmieren\\districtgenerator\\.venv\\Lib\\site-packages\\teaser\\logic\\buildingobjects\\useconditions.py:363: FutureWarning: 'H' is deprecated and will be removed in a future version, please use 'h' instead.\n",
      "  index=pd.date_range(\"2019-01-01 00:00:00\", periods=8760, freq=\"H\")\n"
     ]
    },
    {
     "name": "stdout",
     "output_type": "stream",
     "text": [
      "Creating building MFH\n",
      "Creating building MFH\n",
      "Creating building MFH\n"
     ]
    },
    {
     "name": "stderr",
     "output_type": "stream",
     "text": [
      "c:\\Users\\felix\\Programmieren\\districtgenerator\\.venv\\Lib\\site-packages\\teaser\\logic\\buildingobjects\\useconditions.py:363: FutureWarning: 'H' is deprecated and will be removed in a future version, please use 'h' instead.\n",
      "  index=pd.date_range(\"2019-01-01 00:00:00\", periods=8760, freq=\"H\")\n",
      "c:\\Users\\felix\\Programmieren\\districtgenerator\\.venv\\Lib\\site-packages\\teaser\\logic\\buildingobjects\\useconditions.py:363: FutureWarning: 'H' is deprecated and will be removed in a future version, please use 'h' instead.\n",
      "  index=pd.date_range(\"2019-01-01 00:00:00\", periods=8760, freq=\"H\")\n",
      "c:\\Users\\felix\\Programmieren\\districtgenerator\\.venv\\Lib\\site-packages\\teaser\\logic\\buildingobjects\\useconditions.py:363: FutureWarning: 'H' is deprecated and will be removed in a future version, please use 'h' instead.\n",
      "  index=pd.date_range(\"2019-01-01 00:00:00\", periods=8760, freq=\"H\")\n"
     ]
    },
    {
     "name": "stdout",
     "output_type": "stream",
     "text": [
      "Creating building MFH\n",
      "Creating building MFH\n",
      "Creating building MFH\n"
     ]
    },
    {
     "name": "stderr",
     "output_type": "stream",
     "text": [
      "c:\\Users\\felix\\Programmieren\\districtgenerator\\.venv\\Lib\\site-packages\\teaser\\logic\\buildingobjects\\useconditions.py:363: FutureWarning: 'H' is deprecated and will be removed in a future version, please use 'h' instead.\n",
      "  index=pd.date_range(\"2019-01-01 00:00:00\", periods=8760, freq=\"H\")\n",
      "c:\\Users\\felix\\Programmieren\\districtgenerator\\.venv\\Lib\\site-packages\\teaser\\logic\\buildingobjects\\useconditions.py:363: FutureWarning: 'H' is deprecated and will be removed in a future version, please use 'h' instead.\n",
      "  index=pd.date_range(\"2019-01-01 00:00:00\", periods=8760, freq=\"H\")\n",
      "c:\\Users\\felix\\Programmieren\\districtgenerator\\.venv\\Lib\\site-packages\\teaser\\logic\\buildingobjects\\useconditions.py:363: FutureWarning: 'H' is deprecated and will be removed in a future version, please use 'h' instead.\n",
      "  index=pd.date_range(\"2019-01-01 00:00:00\", periods=8760, freq=\"H\")\n"
     ]
    },
    {
     "name": "stdout",
     "output_type": "stream",
     "text": [
      "Creating building IWU Production, Workshop, Warehouse or Operations\n",
      "We are about to generate a Non Residential building.\n",
      "Available building types: ['IWU Office, Administrative or Government Buildings', 'IWU Research and University Teaching', 'IWU Health and Care', 'IWU School, Day Nursery and other Care', 'IWU Culture and Leisure', 'IWU Sports Facilities', 'IWU Hotels, Boarding, Restaurants or Catering', 'IWU Production, Workshop, Warehouse or Operations', 'IWU Trade Buildings', 'IWU Technical and Utility (supply and disposal)', 'IWU Transport', 'IWU Generalized (1) Services building', 'IWU Generalized (2) Production buildings']\n",
      "Current usage: IWU Production, Workshop, Warehouse or Operations\n",
      "No data about lighntning control available for IWU Production, Workshop, Warehouse or Operations and data type Technical and Utility Buildings (supply and disposal)Gewerbliche und industrielle Hallen (mittelschwere Arbeit, überw. stehende Tätigkeit)\n",
      "Creating building AB\n",
      "Creating building MFH\n",
      "Creating building AB\n"
     ]
    },
    {
     "name": "stderr",
     "output_type": "stream",
     "text": [
      "c:\\Users\\felix\\Programmieren\\districtgenerator\\.venv\\Lib\\site-packages\\teaser\\logic\\buildingobjects\\useconditions.py:363: FutureWarning: 'H' is deprecated and will be removed in a future version, please use 'h' instead.\n",
      "  index=pd.date_range(\"2019-01-01 00:00:00\", periods=8760, freq=\"H\")\n",
      "c:\\Users\\felix\\Programmieren\\districtgenerator\\.venv\\Lib\\site-packages\\teaser\\logic\\buildingobjects\\useconditions.py:363: FutureWarning: 'H' is deprecated and will be removed in a future version, please use 'h' instead.\n",
      "  index=pd.date_range(\"2019-01-01 00:00:00\", periods=8760, freq=\"H\")\n",
      "c:\\Users\\felix\\Programmieren\\districtgenerator\\.venv\\Lib\\site-packages\\teaser\\logic\\buildingobjects\\useconditions.py:363: FutureWarning: 'H' is deprecated and will be removed in a future version, please use 'h' instead.\n",
      "  index=pd.date_range(\"2019-01-01 00:00:00\", periods=8760, freq=\"H\")\n"
     ]
    },
    {
     "name": "stdout",
     "output_type": "stream",
     "text": [
      "Creating building MFH\n",
      "Creating building MFH\n"
     ]
    },
    {
     "name": "stderr",
     "output_type": "stream",
     "text": [
      "c:\\Users\\felix\\Programmieren\\districtgenerator\\.venv\\Lib\\site-packages\\teaser\\logic\\buildingobjects\\useconditions.py:363: FutureWarning: 'H' is deprecated and will be removed in a future version, please use 'h' instead.\n",
      "  index=pd.date_range(\"2019-01-01 00:00:00\", periods=8760, freq=\"H\")\n",
      "c:\\Users\\felix\\Programmieren\\districtgenerator\\.venv\\Lib\\site-packages\\teaser\\logic\\buildingobjects\\useconditions.py:363: FutureWarning: 'H' is deprecated and will be removed in a future version, please use 'h' instead.\n",
      "  index=pd.date_range(\"2019-01-01 00:00:00\", periods=8760, freq=\"H\")\n"
     ]
    },
    {
     "name": "stdout",
     "output_type": "stream",
     "text": [
      "Creating building MFH\n",
      "Creating building AB\n"
     ]
    },
    {
     "name": "stderr",
     "output_type": "stream",
     "text": [
      "c:\\Users\\felix\\Programmieren\\districtgenerator\\.venv\\Lib\\site-packages\\teaser\\logic\\buildingobjects\\useconditions.py:363: FutureWarning: 'H' is deprecated and will be removed in a future version, please use 'h' instead.\n",
      "  index=pd.date_range(\"2019-01-01 00:00:00\", periods=8760, freq=\"H\")\n",
      "c:\\Users\\felix\\Programmieren\\districtgenerator\\.venv\\Lib\\site-packages\\teaser\\logic\\buildingobjects\\useconditions.py:363: FutureWarning: 'H' is deprecated and will be removed in a future version, please use 'h' instead.\n",
      "  index=pd.date_range(\"2019-01-01 00:00:00\", periods=8760, freq=\"H\")\n"
     ]
    },
    {
     "name": "stdout",
     "output_type": "stream",
     "text": [
      "Creating building MFH\n",
      "Creating building AB\n",
      "Creating building AB\n"
     ]
    },
    {
     "name": "stderr",
     "output_type": "stream",
     "text": [
      "c:\\Users\\felix\\Programmieren\\districtgenerator\\.venv\\Lib\\site-packages\\teaser\\logic\\buildingobjects\\useconditions.py:363: FutureWarning: 'H' is deprecated and will be removed in a future version, please use 'h' instead.\n",
      "  index=pd.date_range(\"2019-01-01 00:00:00\", periods=8760, freq=\"H\")\n",
      "c:\\Users\\felix\\Programmieren\\districtgenerator\\.venv\\Lib\\site-packages\\teaser\\logic\\buildingobjects\\useconditions.py:363: FutureWarning: 'H' is deprecated and will be removed in a future version, please use 'h' instead.\n",
      "  index=pd.date_range(\"2019-01-01 00:00:00\", periods=8760, freq=\"H\")\n",
      "c:\\Users\\felix\\Programmieren\\districtgenerator\\.venv\\Lib\\site-packages\\teaser\\logic\\buildingobjects\\useconditions.py:363: FutureWarning: 'H' is deprecated and will be removed in a future version, please use 'h' instead.\n",
      "  index=pd.date_range(\"2019-01-01 00:00:00\", periods=8760, freq=\"H\")\n"
     ]
    },
    {
     "name": "stdout",
     "output_type": "stream",
     "text": [
      "Creating building MFH\n",
      "Creating building AB\n",
      "Creating building MFH\n"
     ]
    },
    {
     "name": "stderr",
     "output_type": "stream",
     "text": [
      "c:\\Users\\felix\\Programmieren\\districtgenerator\\.venv\\Lib\\site-packages\\teaser\\logic\\buildingobjects\\useconditions.py:363: FutureWarning: 'H' is deprecated and will be removed in a future version, please use 'h' instead.\n",
      "  index=pd.date_range(\"2019-01-01 00:00:00\", periods=8760, freq=\"H\")\n",
      "c:\\Users\\felix\\Programmieren\\districtgenerator\\.venv\\Lib\\site-packages\\teaser\\logic\\buildingobjects\\useconditions.py:363: FutureWarning: 'H' is deprecated and will be removed in a future version, please use 'h' instead.\n",
      "  index=pd.date_range(\"2019-01-01 00:00:00\", periods=8760, freq=\"H\")\n",
      "c:\\Users\\felix\\Programmieren\\districtgenerator\\.venv\\Lib\\site-packages\\teaser\\logic\\buildingobjects\\useconditions.py:363: FutureWarning: 'H' is deprecated and will be removed in a future version, please use 'h' instead.\n",
      "  index=pd.date_range(\"2019-01-01 00:00:00\", periods=8760, freq=\"H\")\n"
     ]
    },
    {
     "name": "stdout",
     "output_type": "stream",
     "text": [
      "Creating building MFH\n"
     ]
    },
    {
     "name": "stderr",
     "output_type": "stream",
     "text": [
      "c:\\Users\\felix\\Programmieren\\districtgenerator\\.venv\\Lib\\site-packages\\teaser\\logic\\buildingobjects\\useconditions.py:363: FutureWarning: 'H' is deprecated and will be removed in a future version, please use 'h' instead.\n",
      "  index=pd.date_range(\"2019-01-01 00:00:00\", periods=8760, freq=\"H\")\n"
     ]
    },
    {
     "name": "stdout",
     "output_type": "stream",
     "text": [
      "Creating building IWU Production, Workshop, Warehouse or Operations\n",
      "We are about to generate a Non Residential building.\n",
      "Available building types: ['IWU Office, Administrative or Government Buildings', 'IWU Research and University Teaching', 'IWU Health and Care', 'IWU School, Day Nursery and other Care', 'IWU Culture and Leisure', 'IWU Sports Facilities', 'IWU Hotels, Boarding, Restaurants or Catering', 'IWU Production, Workshop, Warehouse or Operations', 'IWU Trade Buildings', 'IWU Technical and Utility (supply and disposal)', 'IWU Transport', 'IWU Generalized (1) Services building', 'IWU Generalized (2) Production buildings']\n",
      "Current usage: IWU Production, Workshop, Warehouse or Operations\n",
      "No data about lighntning control available for IWU Production, Workshop, Warehouse or Operations and data type Technical and Utility Buildings (supply and disposal)Gewerbliche und industrielle Hallen (mittelschwere Arbeit, überw. stehende Tätigkeit)\n",
      "Creating building MFH\n",
      "Creating building MFH\n"
     ]
    },
    {
     "name": "stderr",
     "output_type": "stream",
     "text": [
      "c:\\Users\\felix\\Programmieren\\districtgenerator\\.venv\\Lib\\site-packages\\teaser\\logic\\buildingobjects\\useconditions.py:363: FutureWarning: 'H' is deprecated and will be removed in a future version, please use 'h' instead.\n",
      "  index=pd.date_range(\"2019-01-01 00:00:00\", periods=8760, freq=\"H\")\n",
      "c:\\Users\\felix\\Programmieren\\districtgenerator\\.venv\\Lib\\site-packages\\teaser\\logic\\buildingobjects\\useconditions.py:363: FutureWarning: 'H' is deprecated and will be removed in a future version, please use 'h' instead.\n",
      "  index=pd.date_range(\"2019-01-01 00:00:00\", periods=8760, freq=\"H\")\n"
     ]
    },
    {
     "name": "stdout",
     "output_type": "stream",
     "text": [
      "Creating building IWU Transport\n",
      "We are about to generate a Non Residential building.\n",
      "Available building types: ['IWU Office, Administrative or Government Buildings', 'IWU Research and University Teaching', 'IWU Health and Care', 'IWU School, Day Nursery and other Care', 'IWU Culture and Leisure', 'IWU Sports Facilities', 'IWU Hotels, Boarding, Restaurants or Catering', 'IWU Production, Workshop, Warehouse or Operations', 'IWU Trade Buildings', 'IWU Technical and Utility (supply and disposal)', 'IWU Transport', 'IWU Generalized (1) Services building', 'IWU Generalized (2) Production buildings']\n",
      "Current usage: IWU Transport\n",
      "Creating building AB\n",
      "Creating building MFH\n"
     ]
    },
    {
     "name": "stderr",
     "output_type": "stream",
     "text": [
      "c:\\Users\\felix\\Programmieren\\districtgenerator\\.venv\\Lib\\site-packages\\teaser\\logic\\buildingobjects\\useconditions.py:363: FutureWarning: 'H' is deprecated and will be removed in a future version, please use 'h' instead.\n",
      "  index=pd.date_range(\"2019-01-01 00:00:00\", periods=8760, freq=\"H\")\n",
      "c:\\Users\\felix\\Programmieren\\districtgenerator\\.venv\\Lib\\site-packages\\teaser\\logic\\buildingobjects\\useconditions.py:363: FutureWarning: 'H' is deprecated and will be removed in a future version, please use 'h' instead.\n",
      "  index=pd.date_range(\"2019-01-01 00:00:00\", periods=8760, freq=\"H\")\n"
     ]
    },
    {
     "name": "stdout",
     "output_type": "stream",
     "text": [
      "Creating building MFH\n",
      "Creating building IWU Production, Workshop, Warehouse or Operations\n",
      "We are about to generate a Non Residential building.\n",
      "Available building types: ['IWU Office, Administrative or Government Buildings', 'IWU Research and University Teaching', 'IWU Health and Care', 'IWU School, Day Nursery and other Care', 'IWU Culture and Leisure', 'IWU Sports Facilities', 'IWU Hotels, Boarding, Restaurants or Catering', 'IWU Production, Workshop, Warehouse or Operations', 'IWU Trade Buildings', 'IWU Technical and Utility (supply and disposal)', 'IWU Transport', 'IWU Generalized (1) Services building', 'IWU Generalized (2) Production buildings']\n",
      "Current usage: IWU Production, Workshop, Warehouse or Operations\n",
      "No data about lighntning control available for IWU Production, Workshop, Warehouse or Operations and data type Technical and Utility Buildings (supply and disposal)Gewerbliche und industrielle Hallen (mittelschwere Arbeit, überw. stehende Tätigkeit)\n",
      "Creating building MFH\n",
      "Creating building AB\n"
     ]
    },
    {
     "name": "stderr",
     "output_type": "stream",
     "text": [
      "c:\\Users\\felix\\Programmieren\\districtgenerator\\.venv\\Lib\\site-packages\\teaser\\logic\\buildingobjects\\useconditions.py:363: FutureWarning: 'H' is deprecated and will be removed in a future version, please use 'h' instead.\n",
      "  index=pd.date_range(\"2019-01-01 00:00:00\", periods=8760, freq=\"H\")\n",
      "c:\\Users\\felix\\Programmieren\\districtgenerator\\.venv\\Lib\\site-packages\\teaser\\logic\\buildingobjects\\useconditions.py:363: FutureWarning: 'H' is deprecated and will be removed in a future version, please use 'h' instead.\n",
      "  index=pd.date_range(\"2019-01-01 00:00:00\", periods=8760, freq=\"H\")\n",
      "c:\\Users\\felix\\Programmieren\\districtgenerator\\.venv\\Lib\\site-packages\\teaser\\logic\\buildingobjects\\useconditions.py:363: FutureWarning: 'H' is deprecated and will be removed in a future version, please use 'h' instead.\n",
      "  index=pd.date_range(\"2019-01-01 00:00:00\", periods=8760, freq=\"H\")\n"
     ]
    },
    {
     "name": "stdout",
     "output_type": "stream",
     "text": [
      "Creating building MFH\n",
      "Creating building AB\n",
      "Creating building AB\n"
     ]
    },
    {
     "name": "stderr",
     "output_type": "stream",
     "text": [
      "c:\\Users\\felix\\Programmieren\\districtgenerator\\.venv\\Lib\\site-packages\\teaser\\logic\\buildingobjects\\useconditions.py:363: FutureWarning: 'H' is deprecated and will be removed in a future version, please use 'h' instead.\n",
      "  index=pd.date_range(\"2019-01-01 00:00:00\", periods=8760, freq=\"H\")\n",
      "c:\\Users\\felix\\Programmieren\\districtgenerator\\.venv\\Lib\\site-packages\\teaser\\logic\\buildingobjects\\useconditions.py:363: FutureWarning: 'H' is deprecated and will be removed in a future version, please use 'h' instead.\n",
      "  index=pd.date_range(\"2019-01-01 00:00:00\", periods=8760, freq=\"H\")\n",
      "c:\\Users\\felix\\Programmieren\\districtgenerator\\.venv\\Lib\\site-packages\\teaser\\logic\\buildingobjects\\useconditions.py:363: FutureWarning: 'H' is deprecated and will be removed in a future version, please use 'h' instead.\n",
      "  index=pd.date_range(\"2019-01-01 00:00:00\", periods=8760, freq=\"H\")\n"
     ]
    },
    {
     "name": "stdout",
     "output_type": "stream",
     "text": [
      "Creating building MFH\n",
      "Creating building AB\n",
      "Creating building AB\n"
     ]
    },
    {
     "name": "stderr",
     "output_type": "stream",
     "text": [
      "c:\\Users\\felix\\Programmieren\\districtgenerator\\.venv\\Lib\\site-packages\\teaser\\logic\\buildingobjects\\useconditions.py:363: FutureWarning: 'H' is deprecated and will be removed in a future version, please use 'h' instead.\n",
      "  index=pd.date_range(\"2019-01-01 00:00:00\", periods=8760, freq=\"H\")\n",
      "c:\\Users\\felix\\Programmieren\\districtgenerator\\.venv\\Lib\\site-packages\\teaser\\logic\\buildingobjects\\useconditions.py:363: FutureWarning: 'H' is deprecated and will be removed in a future version, please use 'h' instead.\n",
      "  index=pd.date_range(\"2019-01-01 00:00:00\", periods=8760, freq=\"H\")\n",
      "c:\\Users\\felix\\Programmieren\\districtgenerator\\.venv\\Lib\\site-packages\\teaser\\logic\\buildingobjects\\useconditions.py:363: FutureWarning: 'H' is deprecated and will be removed in a future version, please use 'h' instead.\n",
      "  index=pd.date_range(\"2019-01-01 00:00:00\", periods=8760, freq=\"H\")\n"
     ]
    },
    {
     "name": "stdout",
     "output_type": "stream",
     "text": [
      "Creating building MFH\n"
     ]
    },
    {
     "name": "stderr",
     "output_type": "stream",
     "text": [
      "c:\\Users\\felix\\Programmieren\\districtgenerator\\.venv\\Lib\\site-packages\\teaser\\logic\\buildingobjects\\useconditions.py:363: FutureWarning: 'H' is deprecated and will be removed in a future version, please use 'h' instead.\n",
      "  index=pd.date_range(\"2019-01-01 00:00:00\", periods=8760, freq=\"H\")\n"
     ]
    },
    {
     "name": "stdout",
     "output_type": "stream",
     "text": [
      "Creating building IWU Production, Workshop, Warehouse or Operations\n",
      "We are about to generate a Non Residential building.\n",
      "Available building types: ['IWU Office, Administrative or Government Buildings', 'IWU Research and University Teaching', 'IWU Health and Care', 'IWU School, Day Nursery and other Care', 'IWU Culture and Leisure', 'IWU Sports Facilities', 'IWU Hotels, Boarding, Restaurants or Catering', 'IWU Production, Workshop, Warehouse or Operations', 'IWU Trade Buildings', 'IWU Technical and Utility (supply and disposal)', 'IWU Transport', 'IWU Generalized (1) Services building', 'IWU Generalized (2) Production buildings']\n",
      "Current usage: IWU Production, Workshop, Warehouse or Operations\n",
      "No data about lighntning control available for IWU Production, Workshop, Warehouse or Operations and data type Technical and Utility Buildings (supply and disposal)Gewerbliche und industrielle Hallen (mittelschwere Arbeit, überw. stehende Tätigkeit)\n",
      "Creating building MFH\n",
      "Creating building IWU Production, Workshop, Warehouse or Operations\n",
      "We are about to generate a Non Residential building.\n",
      "Available building types: ['IWU Office, Administrative or Government Buildings', 'IWU Research and University Teaching', 'IWU Health and Care', 'IWU School, Day Nursery and other Care', 'IWU Culture and Leisure', 'IWU Sports Facilities', 'IWU Hotels, Boarding, Restaurants or Catering', 'IWU Production, Workshop, Warehouse or Operations', 'IWU Trade Buildings', 'IWU Technical and Utility (supply and disposal)', 'IWU Transport', 'IWU Generalized (1) Services building', 'IWU Generalized (2) Production buildings']\n",
      "Current usage: IWU Production, Workshop, Warehouse or Operations\n",
      "No data about lighntning control available for IWU Production, Workshop, Warehouse or Operations and data type Technical and Utility Buildings (supply and disposal)Gewerbliche und industrielle Hallen (mittelschwere Arbeit, überw. stehende Tätigkeit)\n",
      "Creating building AB\n"
     ]
    },
    {
     "name": "stderr",
     "output_type": "stream",
     "text": [
      "c:\\Users\\felix\\Programmieren\\districtgenerator\\.venv\\Lib\\site-packages\\teaser\\logic\\buildingobjects\\useconditions.py:363: FutureWarning: 'H' is deprecated and will be removed in a future version, please use 'h' instead.\n",
      "  index=pd.date_range(\"2019-01-01 00:00:00\", periods=8760, freq=\"H\")\n",
      "c:\\Users\\felix\\Programmieren\\districtgenerator\\.venv\\Lib\\site-packages\\teaser\\logic\\buildingobjects\\useconditions.py:363: FutureWarning: 'H' is deprecated and will be removed in a future version, please use 'h' instead.\n",
      "  index=pd.date_range(\"2019-01-01 00:00:00\", periods=8760, freq=\"H\")\n",
      "c:\\Users\\felix\\Programmieren\\districtgenerator\\.venv\\Lib\\site-packages\\teaser\\logic\\buildingobjects\\useconditions.py:363: FutureWarning: 'H' is deprecated and will be removed in a future version, please use 'h' instead.\n",
      "  index=pd.date_range(\"2019-01-01 00:00:00\", periods=8760, freq=\"H\")\n"
     ]
    },
    {
     "name": "stdout",
     "output_type": "stream",
     "text": [
      "Creating building AB\n",
      "Creating building AB\n",
      "Creating building AB\n"
     ]
    },
    {
     "name": "stderr",
     "output_type": "stream",
     "text": [
      "c:\\Users\\felix\\Programmieren\\districtgenerator\\.venv\\Lib\\site-packages\\teaser\\logic\\buildingobjects\\useconditions.py:363: FutureWarning: 'H' is deprecated and will be removed in a future version, please use 'h' instead.\n",
      "  index=pd.date_range(\"2019-01-01 00:00:00\", periods=8760, freq=\"H\")\n",
      "c:\\Users\\felix\\Programmieren\\districtgenerator\\.venv\\Lib\\site-packages\\teaser\\logic\\buildingobjects\\useconditions.py:363: FutureWarning: 'H' is deprecated and will be removed in a future version, please use 'h' instead.\n",
      "  index=pd.date_range(\"2019-01-01 00:00:00\", periods=8760, freq=\"H\")\n",
      "c:\\Users\\felix\\Programmieren\\districtgenerator\\.venv\\Lib\\site-packages\\teaser\\logic\\buildingobjects\\useconditions.py:363: FutureWarning: 'H' is deprecated and will be removed in a future version, please use 'h' instead.\n",
      "  index=pd.date_range(\"2019-01-01 00:00:00\", periods=8760, freq=\"H\")\n"
     ]
    },
    {
     "name": "stdout",
     "output_type": "stream",
     "text": [
      "Creating building AB\n",
      "Creating building IWU Transport\n",
      "We are about to generate a Non Residential building.\n",
      "Available building types: ['IWU Office, Administrative or Government Buildings', 'IWU Research and University Teaching', 'IWU Health and Care', 'IWU School, Day Nursery and other Care', 'IWU Culture and Leisure', 'IWU Sports Facilities', 'IWU Hotels, Boarding, Restaurants or Catering', 'IWU Production, Workshop, Warehouse or Operations', 'IWU Trade Buildings', 'IWU Technical and Utility (supply and disposal)', 'IWU Transport', 'IWU Generalized (1) Services building', 'IWU Generalized (2) Production buildings']\n",
      "Current usage: IWU Transport\n",
      "Creating building MFH\n",
      "Creating building AB\n"
     ]
    },
    {
     "name": "stderr",
     "output_type": "stream",
     "text": [
      "c:\\Users\\felix\\Programmieren\\districtgenerator\\.venv\\Lib\\site-packages\\teaser\\logic\\buildingobjects\\useconditions.py:363: FutureWarning: 'H' is deprecated and will be removed in a future version, please use 'h' instead.\n",
      "  index=pd.date_range(\"2019-01-01 00:00:00\", periods=8760, freq=\"H\")\n",
      "c:\\Users\\felix\\Programmieren\\districtgenerator\\.venv\\Lib\\site-packages\\teaser\\logic\\buildingobjects\\useconditions.py:363: FutureWarning: 'H' is deprecated and will be removed in a future version, please use 'h' instead.\n",
      "  index=pd.date_range(\"2019-01-01 00:00:00\", periods=8760, freq=\"H\")\n",
      "c:\\Users\\felix\\Programmieren\\districtgenerator\\.venv\\Lib\\site-packages\\teaser\\logic\\buildingobjects\\useconditions.py:363: FutureWarning: 'H' is deprecated and will be removed in a future version, please use 'h' instead.\n",
      "  index=pd.date_range(\"2019-01-01 00:00:00\", periods=8760, freq=\"H\")\n",
      "c:\\Users\\felix\\Programmieren\\districtgenerator\\.venv\\Lib\\site-packages\\teaser\\logic\\buildingobjects\\useconditions.py:363: FutureWarning: 'H' is deprecated and will be removed in a future version, please use 'h' instead.\n",
      "  index=pd.date_range(\"2019-01-01 00:00:00\", periods=8760, freq=\"H\")\n"
     ]
    },
    {
     "name": "stdout",
     "output_type": "stream",
     "text": [
      "Creating building IWU Production, Workshop, Warehouse or Operations\n",
      "We are about to generate a Non Residential building.\n",
      "Available building types: ['IWU Office, Administrative or Government Buildings', 'IWU Research and University Teaching', 'IWU Health and Care', 'IWU School, Day Nursery and other Care', 'IWU Culture and Leisure', 'IWU Sports Facilities', 'IWU Hotels, Boarding, Restaurants or Catering', 'IWU Production, Workshop, Warehouse or Operations', 'IWU Trade Buildings', 'IWU Technical and Utility (supply and disposal)', 'IWU Transport', 'IWU Generalized (1) Services building', 'IWU Generalized (2) Production buildings']\n",
      "Current usage: IWU Production, Workshop, Warehouse or Operations\n",
      "No data about lighntning control available for IWU Production, Workshop, Warehouse or Operations and data type Technical and Utility Buildings (supply and disposal)Gewerbliche und industrielle Hallen (mittelschwere Arbeit, überw. stehende Tätigkeit)\n",
      "Creating building TH\n",
      "Creating building IWU Production, Workshop, Warehouse or Operations\n",
      "We are about to generate a Non Residential building.\n",
      "Available building types: ['IWU Office, Administrative or Government Buildings', 'IWU Research and University Teaching', 'IWU Health and Care', 'IWU School, Day Nursery and other Care', 'IWU Culture and Leisure', 'IWU Sports Facilities', 'IWU Hotels, Boarding, Restaurants or Catering', 'IWU Production, Workshop, Warehouse or Operations', 'IWU Trade Buildings', 'IWU Technical and Utility (supply and disposal)', 'IWU Transport', 'IWU Generalized (1) Services building', 'IWU Generalized (2) Production buildings']\n",
      "Current usage: IWU Production, Workshop, Warehouse or Operations\n",
      "No data about lighntning control available for IWU Production, Workshop, Warehouse or Operations and data type Technical and Utility Buildings (supply and disposal)Gewerbliche und industrielle Hallen (mittelschwere Arbeit, überw. stehende Tätigkeit)\n",
      "Creating building IWU Production, Workshop, Warehouse or Operations\n",
      "We are about to generate a Non Residential building.\n",
      "Available building types: ['IWU Office, Administrative or Government Buildings', 'IWU Research and University Teaching', 'IWU Health and Care', 'IWU School, Day Nursery and other Care', 'IWU Culture and Leisure', 'IWU Sports Facilities', 'IWU Hotels, Boarding, Restaurants or Catering', 'IWU Production, Workshop, Warehouse or Operations', 'IWU Trade Buildings', 'IWU Technical and Utility (supply and disposal)', 'IWU Transport', 'IWU Generalized (1) Services building', 'IWU Generalized (2) Production buildings']\n",
      "Current usage: IWU Production, Workshop, Warehouse or Operations\n",
      "No data about lighntning control available for IWU Production, Workshop, Warehouse or Operations and data type Technical and Utility Buildings (supply and disposal)Gewerbliche und industrielle Hallen (mittelschwere Arbeit, überw. stehende Tätigkeit)\n",
      "Creating building MFH\n",
      "Creating building MFH\n"
     ]
    },
    {
     "name": "stderr",
     "output_type": "stream",
     "text": [
      "c:\\Users\\felix\\Programmieren\\districtgenerator\\.venv\\Lib\\site-packages\\teaser\\logic\\buildingobjects\\useconditions.py:363: FutureWarning: 'H' is deprecated and will be removed in a future version, please use 'h' instead.\n",
      "  index=pd.date_range(\"2019-01-01 00:00:00\", periods=8760, freq=\"H\")\n",
      "c:\\Users\\felix\\Programmieren\\districtgenerator\\.venv\\Lib\\site-packages\\teaser\\logic\\buildingobjects\\useconditions.py:363: FutureWarning: 'H' is deprecated and will be removed in a future version, please use 'h' instead.\n",
      "  index=pd.date_range(\"2019-01-01 00:00:00\", periods=8760, freq=\"H\")\n",
      "c:\\Users\\felix\\Programmieren\\districtgenerator\\.venv\\Lib\\site-packages\\teaser\\logic\\buildingobjects\\useconditions.py:363: FutureWarning: 'H' is deprecated and will be removed in a future version, please use 'h' instead.\n",
      "  index=pd.date_range(\"2019-01-01 00:00:00\", periods=8760, freq=\"H\")\n"
     ]
    },
    {
     "name": "stdout",
     "output_type": "stream",
     "text": [
      "Creating building AB\n",
      "Creating building MFH\n",
      "Creating building MFH\n"
     ]
    },
    {
     "name": "stderr",
     "output_type": "stream",
     "text": [
      "c:\\Users\\felix\\Programmieren\\districtgenerator\\.venv\\Lib\\site-packages\\teaser\\logic\\buildingobjects\\useconditions.py:363: FutureWarning: 'H' is deprecated and will be removed in a future version, please use 'h' instead.\n",
      "  index=pd.date_range(\"2019-01-01 00:00:00\", periods=8760, freq=\"H\")\n",
      "c:\\Users\\felix\\Programmieren\\districtgenerator\\.venv\\Lib\\site-packages\\teaser\\logic\\buildingobjects\\useconditions.py:363: FutureWarning: 'H' is deprecated and will be removed in a future version, please use 'h' instead.\n",
      "  index=pd.date_range(\"2019-01-01 00:00:00\", periods=8760, freq=\"H\")\n"
     ]
    },
    {
     "name": "stdout",
     "output_type": "stream",
     "text": [
      "Creating building AB\n",
      "Creating building IWU Production, Workshop, Warehouse or Operations\n",
      "We are about to generate a Non Residential building.\n",
      "Available building types: ['IWU Office, Administrative or Government Buildings', 'IWU Research and University Teaching', 'IWU Health and Care', 'IWU School, Day Nursery and other Care', 'IWU Culture and Leisure', 'IWU Sports Facilities', 'IWU Hotels, Boarding, Restaurants or Catering', 'IWU Production, Workshop, Warehouse or Operations', 'IWU Trade Buildings', 'IWU Technical and Utility (supply and disposal)', 'IWU Transport', 'IWU Generalized (1) Services building', 'IWU Generalized (2) Production buildings']\n",
      "Current usage: IWU Production, Workshop, Warehouse or Operations\n",
      "No data about lighntning control available for IWU Production, Workshop, Warehouse or Operations and data type Technical and Utility Buildings (supply and disposal)Gewerbliche und industrielle Hallen (mittelschwere Arbeit, überw. stehende Tätigkeit)\n",
      "Creating building MFH\n",
      "Creating building AB\n"
     ]
    },
    {
     "name": "stderr",
     "output_type": "stream",
     "text": [
      "c:\\Users\\felix\\Programmieren\\districtgenerator\\.venv\\Lib\\site-packages\\teaser\\logic\\buildingobjects\\useconditions.py:363: FutureWarning: 'H' is deprecated and will be removed in a future version, please use 'h' instead.\n",
      "  index=pd.date_range(\"2019-01-01 00:00:00\", periods=8760, freq=\"H\")\n",
      "c:\\Users\\felix\\Programmieren\\districtgenerator\\.venv\\Lib\\site-packages\\teaser\\logic\\buildingobjects\\useconditions.py:363: FutureWarning: 'H' is deprecated and will be removed in a future version, please use 'h' instead.\n",
      "  index=pd.date_range(\"2019-01-01 00:00:00\", periods=8760, freq=\"H\")\n"
     ]
    },
    {
     "name": "stdout",
     "output_type": "stream",
     "text": [
      "Creating building MFH\n",
      "Creating building AB\n"
     ]
    },
    {
     "name": "stderr",
     "output_type": "stream",
     "text": [
      "c:\\Users\\felix\\Programmieren\\districtgenerator\\.venv\\Lib\\site-packages\\teaser\\logic\\buildingobjects\\useconditions.py:363: FutureWarning: 'H' is deprecated and will be removed in a future version, please use 'h' instead.\n",
      "  index=pd.date_range(\"2019-01-01 00:00:00\", periods=8760, freq=\"H\")\n",
      "c:\\Users\\felix\\Programmieren\\districtgenerator\\.venv\\Lib\\site-packages\\teaser\\logic\\buildingobjects\\useconditions.py:363: FutureWarning: 'H' is deprecated and will be removed in a future version, please use 'h' instead.\n",
      "  index=pd.date_range(\"2019-01-01 00:00:00\", periods=8760, freq=\"H\")\n"
     ]
    },
    {
     "name": "stdout",
     "output_type": "stream",
     "text": [
      "Creating building AB\n",
      "Creating building MFH\n",
      "Creating building MFH\n"
     ]
    },
    {
     "name": "stderr",
     "output_type": "stream",
     "text": [
      "c:\\Users\\felix\\Programmieren\\districtgenerator\\.venv\\Lib\\site-packages\\teaser\\logic\\buildingobjects\\useconditions.py:363: FutureWarning: 'H' is deprecated and will be removed in a future version, please use 'h' instead.\n",
      "  index=pd.date_range(\"2019-01-01 00:00:00\", periods=8760, freq=\"H\")\n",
      "c:\\Users\\felix\\Programmieren\\districtgenerator\\.venv\\Lib\\site-packages\\teaser\\logic\\buildingobjects\\useconditions.py:363: FutureWarning: 'H' is deprecated and will be removed in a future version, please use 'h' instead.\n",
      "  index=pd.date_range(\"2019-01-01 00:00:00\", periods=8760, freq=\"H\")\n",
      "c:\\Users\\felix\\Programmieren\\districtgenerator\\.venv\\Lib\\site-packages\\teaser\\logic\\buildingobjects\\useconditions.py:363: FutureWarning: 'H' is deprecated and will be removed in a future version, please use 'h' instead.\n",
      "  index=pd.date_range(\"2019-01-01 00:00:00\", periods=8760, freq=\"H\")\n"
     ]
    },
    {
     "name": "stdout",
     "output_type": "stream",
     "text": [
      "Creating building MFH\n",
      "Creating building MFH\n",
      "Creating building MFH\n",
      "Creating building MFH\n"
     ]
    },
    {
     "name": "stderr",
     "output_type": "stream",
     "text": [
      "c:\\Users\\felix\\Programmieren\\districtgenerator\\.venv\\Lib\\site-packages\\teaser\\logic\\buildingobjects\\useconditions.py:363: FutureWarning: 'H' is deprecated and will be removed in a future version, please use 'h' instead.\n",
      "  index=pd.date_range(\"2019-01-01 00:00:00\", periods=8760, freq=\"H\")\n",
      "c:\\Users\\felix\\Programmieren\\districtgenerator\\.venv\\Lib\\site-packages\\teaser\\logic\\buildingobjects\\useconditions.py:363: FutureWarning: 'H' is deprecated and will be removed in a future version, please use 'h' instead.\n",
      "  index=pd.date_range(\"2019-01-01 00:00:00\", periods=8760, freq=\"H\")\n",
      "c:\\Users\\felix\\Programmieren\\districtgenerator\\.venv\\Lib\\site-packages\\teaser\\logic\\buildingobjects\\useconditions.py:363: FutureWarning: 'H' is deprecated and will be removed in a future version, please use 'h' instead.\n",
      "  index=pd.date_range(\"2019-01-01 00:00:00\", periods=8760, freq=\"H\")\n",
      "c:\\Users\\felix\\Programmieren\\districtgenerator\\.venv\\Lib\\site-packages\\teaser\\logic\\buildingobjects\\useconditions.py:363: FutureWarning: 'H' is deprecated and will be removed in a future version, please use 'h' instead.\n",
      "  index=pd.date_range(\"2019-01-01 00:00:00\", periods=8760, freq=\"H\")\n"
     ]
    },
    {
     "name": "stdout",
     "output_type": "stream",
     "text": [
      "Creating building MFH\n",
      "Creating building MFH\n",
      "Creating building MFH\n"
     ]
    },
    {
     "name": "stderr",
     "output_type": "stream",
     "text": [
      "c:\\Users\\felix\\Programmieren\\districtgenerator\\.venv\\Lib\\site-packages\\teaser\\logic\\buildingobjects\\useconditions.py:363: FutureWarning: 'H' is deprecated and will be removed in a future version, please use 'h' instead.\n",
      "  index=pd.date_range(\"2019-01-01 00:00:00\", periods=8760, freq=\"H\")\n",
      "c:\\Users\\felix\\Programmieren\\districtgenerator\\.venv\\Lib\\site-packages\\teaser\\logic\\buildingobjects\\useconditions.py:363: FutureWarning: 'H' is deprecated and will be removed in a future version, please use 'h' instead.\n",
      "  index=pd.date_range(\"2019-01-01 00:00:00\", periods=8760, freq=\"H\")\n",
      "c:\\Users\\felix\\Programmieren\\districtgenerator\\.venv\\Lib\\site-packages\\teaser\\logic\\buildingobjects\\useconditions.py:363: FutureWarning: 'H' is deprecated and will be removed in a future version, please use 'h' instead.\n",
      "  index=pd.date_range(\"2019-01-01 00:00:00\", periods=8760, freq=\"H\")\n"
     ]
    },
    {
     "name": "stdout",
     "output_type": "stream",
     "text": [
      "Creating building MFH\n",
      "Creating building IWU Health and Care\n",
      "We are about to generate a Non Residential building.\n",
      "Available building types: ['IWU Office, Administrative or Government Buildings', 'IWU Research and University Teaching', 'IWU Health and Care', 'IWU School, Day Nursery and other Care', 'IWU Culture and Leisure', 'IWU Sports Facilities', 'IWU Hotels, Boarding, Restaurants or Catering', 'IWU Production, Workshop, Warehouse or Operations', 'IWU Trade Buildings', 'IWU Technical and Utility (supply and disposal)', 'IWU Transport', 'IWU Generalized (1) Services building', 'IWU Generalized (2) Production buildings']\n",
      "Current usage: IWU Health and Care\n",
      "Creating building MFH\n",
      "Creating building MFH\n"
     ]
    },
    {
     "name": "stderr",
     "output_type": "stream",
     "text": [
      "c:\\Users\\felix\\Programmieren\\districtgenerator\\.venv\\Lib\\site-packages\\teaser\\logic\\buildingobjects\\useconditions.py:363: FutureWarning: 'H' is deprecated and will be removed in a future version, please use 'h' instead.\n",
      "  index=pd.date_range(\"2019-01-01 00:00:00\", periods=8760, freq=\"H\")\n",
      "c:\\Users\\felix\\Programmieren\\districtgenerator\\.venv\\Lib\\site-packages\\teaser\\logic\\buildingobjects\\useconditions.py:363: FutureWarning: 'H' is deprecated and will be removed in a future version, please use 'h' instead.\n",
      "  index=pd.date_range(\"2019-01-01 00:00:00\", periods=8760, freq=\"H\")\n",
      "c:\\Users\\felix\\Programmieren\\districtgenerator\\.venv\\Lib\\site-packages\\teaser\\logic\\buildingobjects\\useconditions.py:363: FutureWarning: 'H' is deprecated and will be removed in a future version, please use 'h' instead.\n",
      "  index=pd.date_range(\"2019-01-01 00:00:00\", periods=8760, freq=\"H\")\n"
     ]
    },
    {
     "name": "stdout",
     "output_type": "stream",
     "text": [
      "Creating building MFH\n",
      "Creating building MFH\n",
      "Creating building MFH\n",
      "Creating building AB\n"
     ]
    },
    {
     "name": "stderr",
     "output_type": "stream",
     "text": [
      "c:\\Users\\felix\\Programmieren\\districtgenerator\\.venv\\Lib\\site-packages\\teaser\\logic\\buildingobjects\\useconditions.py:363: FutureWarning: 'H' is deprecated and will be removed in a future version, please use 'h' instead.\n",
      "  index=pd.date_range(\"2019-01-01 00:00:00\", periods=8760, freq=\"H\")\n",
      "c:\\Users\\felix\\Programmieren\\districtgenerator\\.venv\\Lib\\site-packages\\teaser\\logic\\buildingobjects\\useconditions.py:363: FutureWarning: 'H' is deprecated and will be removed in a future version, please use 'h' instead.\n",
      "  index=pd.date_range(\"2019-01-01 00:00:00\", periods=8760, freq=\"H\")\n",
      "c:\\Users\\felix\\Programmieren\\districtgenerator\\.venv\\Lib\\site-packages\\teaser\\logic\\buildingobjects\\useconditions.py:363: FutureWarning: 'H' is deprecated and will be removed in a future version, please use 'h' instead.\n",
      "  index=pd.date_range(\"2019-01-01 00:00:00\", periods=8760, freq=\"H\")\n",
      "c:\\Users\\felix\\Programmieren\\districtgenerator\\.venv\\Lib\\site-packages\\teaser\\logic\\buildingobjects\\useconditions.py:363: FutureWarning: 'H' is deprecated and will be removed in a future version, please use 'h' instead.\n",
      "  index=pd.date_range(\"2019-01-01 00:00:00\", periods=8760, freq=\"H\")\n"
     ]
    },
    {
     "name": "stdout",
     "output_type": "stream",
     "text": [
      "Creating building IWU Health and Care\n",
      "We are about to generate a Non Residential building.\n",
      "Available building types: ['IWU Office, Administrative or Government Buildings', 'IWU Research and University Teaching', 'IWU Health and Care', 'IWU School, Day Nursery and other Care', 'IWU Culture and Leisure', 'IWU Sports Facilities', 'IWU Hotels, Boarding, Restaurants or Catering', 'IWU Production, Workshop, Warehouse or Operations', 'IWU Trade Buildings', 'IWU Technical and Utility (supply and disposal)', 'IWU Transport', 'IWU Generalized (1) Services building', 'IWU Generalized (2) Production buildings']\n",
      "Current usage: IWU Health and Care\n",
      "Creating building AB\n",
      "Creating building MFH\n"
     ]
    },
    {
     "name": "stderr",
     "output_type": "stream",
     "text": [
      "c:\\Users\\felix\\Programmieren\\districtgenerator\\.venv\\Lib\\site-packages\\teaser\\logic\\buildingobjects\\useconditions.py:363: FutureWarning: 'H' is deprecated and will be removed in a future version, please use 'h' instead.\n",
      "  index=pd.date_range(\"2019-01-01 00:00:00\", periods=8760, freq=\"H\")\n",
      "c:\\Users\\felix\\Programmieren\\districtgenerator\\.venv\\Lib\\site-packages\\teaser\\logic\\buildingobjects\\useconditions.py:363: FutureWarning: 'H' is deprecated and will be removed in a future version, please use 'h' instead.\n",
      "  index=pd.date_range(\"2019-01-01 00:00:00\", periods=8760, freq=\"H\")\n",
      "c:\\Users\\felix\\Programmieren\\districtgenerator\\.venv\\Lib\\site-packages\\teaser\\logic\\buildingobjects\\useconditions.py:363: FutureWarning: 'H' is deprecated and will be removed in a future version, please use 'h' instead.\n",
      "  index=pd.date_range(\"2019-01-01 00:00:00\", periods=8760, freq=\"H\")\n"
     ]
    },
    {
     "name": "stdout",
     "output_type": "stream",
     "text": [
      "Creating building AB\n",
      "Creating building MFH\n"
     ]
    },
    {
     "name": "stderr",
     "output_type": "stream",
     "text": [
      "c:\\Users\\felix\\Programmieren\\districtgenerator\\.venv\\Lib\\site-packages\\teaser\\logic\\buildingobjects\\useconditions.py:363: FutureWarning: 'H' is deprecated and will be removed in a future version, please use 'h' instead.\n",
      "  index=pd.date_range(\"2019-01-01 00:00:00\", periods=8760, freq=\"H\")\n",
      "c:\\Users\\felix\\Programmieren\\districtgenerator\\.venv\\Lib\\site-packages\\teaser\\logic\\buildingobjects\\useconditions.py:363: FutureWarning: 'H' is deprecated and will be removed in a future version, please use 'h' instead.\n",
      "  index=pd.date_range(\"2019-01-01 00:00:00\", periods=8760, freq=\"H\")\n"
     ]
    },
    {
     "name": "stdout",
     "output_type": "stream",
     "text": [
      "Creating building AB\n",
      "Creating building AB\n"
     ]
    },
    {
     "name": "stderr",
     "output_type": "stream",
     "text": [
      "c:\\Users\\felix\\Programmieren\\districtgenerator\\.venv\\Lib\\site-packages\\teaser\\logic\\buildingobjects\\useconditions.py:363: FutureWarning: 'H' is deprecated and will be removed in a future version, please use 'h' instead.\n",
      "  index=pd.date_range(\"2019-01-01 00:00:00\", periods=8760, freq=\"H\")\n"
     ]
    },
    {
     "name": "stdout",
     "output_type": "stream",
     "text": [
      "The folder already exists. Will overwrite existing files.\n"
     ]
    },
    {
     "ename": "AttributeError",
     "evalue": "'Users' object has no attribute 'cool'",
     "output_type": "error",
     "traceback": [
      "\u001b[1;31m---------------------------------------------------------------------------\u001b[0m",
      "\u001b[1;31mAttributeError\u001b[0m                            Traceback (most recent call last)",
      "Cell \u001b[1;32mIn[5], line 11\u001b[0m\n\u001b[0;32m      8\u001b[0m data\u001b[38;5;241m.\u001b[39mgenerateBuildings()\n\u001b[0;32m      9\u001b[0m data\u001b[38;5;241m.\u001b[39msetResultPath()\n\u001b[1;32m---> 11\u001b[0m \u001b[43mdata\u001b[49m\u001b[38;5;241;43m.\u001b[39;49m\u001b[43mgenerateDemands\u001b[49m\u001b[43m(\u001b[49m\u001b[43m)\u001b[49m\n",
      "File \u001b[1;32mc:\\Users\\felix\\Programmieren\\districtgenerator\\districtgenerator\\datahandler.py:523\u001b[0m, in \u001b[0;36mDatahandler.generateDemands\u001b[1;34m(self, calcUserProfiles, saveUserProfiles, savePath)\u001b[0m\n\u001b[0;32m    521\u001b[0m             building[\u001b[38;5;124m\"\u001b[39m\u001b[38;5;124muser\u001b[39m\u001b[38;5;124m\"\u001b[39m]\u001b[38;5;241m.\u001b[39msaveProfiles(building[\u001b[38;5;124m\"\u001b[39m\u001b[38;5;124munique_name\u001b[39m\u001b[38;5;124m\"\u001b[39m], savePath)\n\u001b[0;32m    522\u001b[0m         \u001b[38;5;28;01melse\u001b[39;00m: \n\u001b[1;32m--> 523\u001b[0m             \u001b[43mbuilding\u001b[49m\u001b[43m[\u001b[49m\u001b[38;5;124;43m\"\u001b[39;49m\u001b[38;5;124;43muser\u001b[39;49m\u001b[38;5;124;43m\"\u001b[39;49m\u001b[43m]\u001b[49m\u001b[38;5;241;43m.\u001b[39;49m\u001b[43msaveProfiles\u001b[49m\u001b[43m(\u001b[49m\u001b[43mbuilding\u001b[49m\u001b[43m[\u001b[49m\u001b[38;5;124;43m\"\u001b[39;49m\u001b[38;5;124;43munique_name\u001b[39;49m\u001b[38;5;124;43m\"\u001b[39;49m\u001b[43m]\u001b[49m\u001b[43m,\u001b[49m\u001b[43m \u001b[49m\u001b[38;5;28;43mself\u001b[39;49m\u001b[38;5;241;43m.\u001b[39;49m\u001b[43mresultPath\u001b[49m\u001b[43m)\u001b[49m\n\u001b[0;32m    525\u001b[0m     \u001b[38;5;28mprint\u001b[39m(\u001b[38;5;124m\"\u001b[39m\u001b[38;5;124mCalculate demands of building \u001b[39m\u001b[38;5;124m\"\u001b[39m \u001b[38;5;241m+\u001b[39m building[\u001b[38;5;124m\"\u001b[39m\u001b[38;5;124munique_name\u001b[39m\u001b[38;5;124m\"\u001b[39m])\n\u001b[0;32m    527\u001b[0m \u001b[38;5;28;01melse\u001b[39;00m:\n\u001b[0;32m    528\u001b[0m     \u001b[38;5;66;03m# To Do -> implement loading of user profiles\u001b[39;00m\n",
      "File \u001b[1;32mc:\\Users\\felix\\Programmieren\\districtgenerator\\districtgenerator\\users.py:370\u001b[0m, in \u001b[0;36mUsers.saveProfiles\u001b[1;34m(self, unique_name, path)\u001b[0m\n\u001b[0;32m    361\u001b[0m \u001b[38;5;28;01mif\u001b[39;00m \u001b[38;5;129;01mnot\u001b[39;00m os\u001b[38;5;241m.\u001b[39mpath\u001b[38;5;241m.\u001b[39mexists(path):\n\u001b[0;32m    362\u001b[0m     os\u001b[38;5;241m.\u001b[39mmakedirs(path)\n\u001b[0;32m    364\u001b[0m data \u001b[38;5;241m=\u001b[39m pd\u001b[38;5;241m.\u001b[39mDataFrame({\n\u001b[0;32m    365\u001b[0m     \u001b[38;5;124m'\u001b[39m\u001b[38;5;124melec\u001b[39m\u001b[38;5;124m'\u001b[39m: \u001b[38;5;28mself\u001b[39m\u001b[38;5;241m.\u001b[39melec,\n\u001b[0;32m    366\u001b[0m     \u001b[38;5;124m'\u001b[39m\u001b[38;5;124mdhw\u001b[39m\u001b[38;5;124m'\u001b[39m: \u001b[38;5;28mself\u001b[39m\u001b[38;5;241m.\u001b[39mdhw,\n\u001b[0;32m    367\u001b[0m     \u001b[38;5;124m'\u001b[39m\u001b[38;5;124mocc\u001b[39m\u001b[38;5;124m'\u001b[39m: \u001b[38;5;28mself\u001b[39m\u001b[38;5;241m.\u001b[39mocc,\n\u001b[0;32m    368\u001b[0m     \u001b[38;5;124m'\u001b[39m\u001b[38;5;124mgains\u001b[39m\u001b[38;5;124m'\u001b[39m: \u001b[38;5;28mself\u001b[39m\u001b[38;5;241m.\u001b[39mgains,\n\u001b[0;32m    369\u001b[0m     \u001b[38;5;124m'\u001b[39m\u001b[38;5;124mheat\u001b[39m\u001b[38;5;124m'\u001b[39m: \u001b[38;5;28mself\u001b[39m\u001b[38;5;241m.\u001b[39mheat,\n\u001b[1;32m--> 370\u001b[0m     \u001b[38;5;124m'\u001b[39m\u001b[38;5;124mcool\u001b[39m\u001b[38;5;124m'\u001b[39m: \u001b[38;5;28;43mself\u001b[39;49m\u001b[38;5;241;43m.\u001b[39;49m\u001b[43mcool\u001b[49m\n\u001b[0;32m    371\u001b[0m })\n\u001b[0;32m    372\u001b[0m data\u001b[38;5;241m.\u001b[39mto_csv(path \u001b[38;5;241m+\u001b[39m \u001b[38;5;124mf\u001b[39m\u001b[38;5;124m'\u001b[39m\u001b[38;5;124m/\u001b[39m\u001b[38;5;132;01m{\u001b[39;00munique_name\u001b[38;5;132;01m}\u001b[39;00m\u001b[38;5;124m'\u001b[39m \u001b[38;5;241m+\u001b[39m \u001b[38;5;124m'\u001b[39m\u001b[38;5;124m.csv\u001b[39m\u001b[38;5;124m'\u001b[39m, index\u001b[38;5;241m=\u001b[39m\u001b[38;5;28;01mFalse\u001b[39;00m)\n\u001b[0;32m    375\u001b[0m \u001b[38;5;250m\u001b[39m\u001b[38;5;124;03m'''\u001b[39;00m\n\u001b[0;32m    376\u001b[0m \u001b[38;5;124;03mfields = [name + \"_\" + str(id), str(sum(self.nb_occ))]\u001b[39;00m\n\u001b[0;32m    377\u001b[0m \u001b[38;5;124;03mwith open(path + '/_nb_occupants.csv','a') as f :\u001b[39;00m\n\u001b[0;32m    378\u001b[0m \u001b[38;5;124;03m    writer = csv.writer(f)\u001b[39;00m\n\u001b[0;32m    379\u001b[0m \u001b[38;5;124;03m    writer.writerow(fields)\u001b[39;00m\n\u001b[0;32m    380\u001b[0m \u001b[38;5;124;03m'''\u001b[39;00m\n",
      "\u001b[1;31mAttributeError\u001b[0m: 'Users' object has no attribute 'cool'"
     ]
    }
   ],
   "source": [
    "data.setWeatherFile('data/weather/EPW/AMY_2010_2022_2020.epw')\n",
    "\n",
    "# Generate Environment for the District\n",
    "\n",
    "data.generateEnvironment()\n",
    "\n",
    "data.initializeBuildings('Mierendorff_Baseline_updated_cleaned')\n",
    "data.generateBuildings()\n",
    "data.setResultPath()\n",
    "\n",
    "data.generateDemands()\n",
    "\n",
    "\n",
    "\n"
   ]
  },
  {
   "cell_type": "code",
   "execution_count": null,
   "metadata": {},
   "outputs": [],
   "source": [
    "# Insepct \n",
    "import pandas as pd\n",
    "precleaned_data = pd.read_csv(r'data\\scenarios\\Mierendorff_Baseline_updated.csv', sep = ';')\n",
    "\n",
    "# Drop all buildings wheare area & year is nan\n",
    "\n",
    "clean_data = precleaned_data.dropna(subset = ['area', 'year', 'building'])\n",
    "# Dop data where area os 0\n",
    "clean_data = clean_data[clean_data[\"area\"] != 0]\n",
    "clean_data = clean_data[clean_data[\"building\"] != '-']\n",
    "clean_data.reset_index(drop = True, inplace = True)\n"
   ]
  },
  {
   "cell_type": "code",
   "execution_count": null,
   "metadata": {},
   "outputs": [
    {
     "name": "stdout",
     "output_type": "stream",
     "text": [
      "<class 'pandas.core.frame.DataFrame'>\n",
      "RangeIndex: 673 entries, 0 to 672\n",
      "Data columns (total 5 columns):\n",
      " #   Column    Non-Null Count  Dtype  \n",
      "---  ------    --------------  -----  \n",
      " 0   id        673 non-null    int64  \n",
      " 1   building  673 non-null    object \n",
      " 2   year      523 non-null    float64\n",
      " 3   retrofit  0 non-null      float64\n",
      " 4   area      673 non-null    float64\n",
      "dtypes: float64(3), int64(1), object(1)\n",
      "memory usage: 26.4+ KB\n"
     ]
    }
   ],
   "source": [
    "precleaned_data.info()"
   ]
  },
  {
   "cell_type": "code",
   "execution_count": null,
   "metadata": {},
   "outputs": [
    {
     "name": "stdout",
     "output_type": "stream",
     "text": [
      "<class 'pandas.core.frame.DataFrame'>\n",
      "RangeIndex: 388 entries, 0 to 387\n",
      "Data columns (total 5 columns):\n",
      " #   Column    Non-Null Count  Dtype  \n",
      "---  ------    --------------  -----  \n",
      " 0   id        388 non-null    int64  \n",
      " 1   building  388 non-null    object \n",
      " 2   year      388 non-null    float64\n",
      " 3   retrofit  0 non-null      float64\n",
      " 4   area      388 non-null    float64\n",
      "dtypes: float64(3), int64(1), object(1)\n",
      "memory usage: 15.3+ KB\n"
     ]
    }
   ],
   "source": [
    "clean_data.info()\n",
    "clean_data.loc[:,\"id\"]    = clean_data.index\n",
    "clean_data.loc[:,\"retrofit\"]  = 0\n",
    "\n",
    "# Replace AB archetype with MFH if Year of construction is after 1979\n",
    "clean_data.loc[clean_data[\"year\"] > 1979, \"building\"] = \"MFH\"\n",
    "\n",
    "clean_data.to_csv(r'data\\scenarios\\Mierendorff_Baseline_updated_cleaned.csv', \n",
    "                  sep = ';', index = False)"
   ]
  },
  {
   "cell_type": "code",
   "execution_count": null,
   "metadata": {},
   "outputs": [],
   "source": [
    "from districtgenerator import * \n",
    "simulator = Datahandler()"
   ]
  },
  {
   "cell_type": "code",
   "execution_count": null,
   "metadata": {},
   "outputs": [
    {
     "name": "stdout",
     "output_type": "stream",
     "text": [
      "Creating buildings for Mierendorff_Baseline_cleaned\n",
      "Creating building AB\n"
     ]
    },
    {
     "name": "stderr",
     "output_type": "stream",
     "text": [
      "c:\\Users\\felix\\Programmieren\\districtgenerator\\.venv\\Lib\\site-packages\\teaser\\logic\\buildingobjects\\useconditions.py:363: FutureWarning: 'H' is deprecated and will be removed in a future version, please use 'h' instead.\n",
      "  index=pd.date_range(\"2019-01-01 00:00:00\", periods=8760, freq=\"H\")\n"
     ]
    },
    {
     "name": "stdout",
     "output_type": "stream",
     "text": [
      "Creating building AB\n",
      "Creating building IWU Transport\n",
      "We are about to generate a Non Residential building.\n",
      "Available building types: ['IWU Office, Administrative or Government Buildings', 'IWU Research and University Teaching', 'IWU Health and Care', 'IWU School, Day Nursery and other Care', 'IWU Culture and Leisure', 'IWU Sports Facilities', 'IWU Hotels, Boarding, Restaurants or Catering', 'IWU Production, Workshop, Warehouse or Operations', 'IWU Trade Buildings', 'IWU Technical and Utility (supply and disposal)', 'IWU Transport', 'IWU Generalized (1) Services building', 'IWU Generalized (2) Production buildings']\n",
      "Current usage: IWU Transport\n",
      "Available building types: ['IWU Office, Administrative or Government Buildings', 'IWU Research and University Teaching', 'IWU Health and Care', 'IWU School, Day Nursery and other Care', 'IWU Culture and Leisure', 'IWU Sports Facilities', 'IWU Hotels, Boarding, Restaurants or Catering', 'IWU Production, Workshop, Warehouse or Operations', 'IWU Trade Buildings', 'IWU Technical and Utility (supply and disposal)', 'IWU Transport', 'IWU Generalized (1) Services building', 'IWU Generalized (2) Production buildings']\n",
      "Current usage: IWU Transport\n",
      "{'ow1': 0.638685232, 'win1': 0.528141959, 'rt1': 0.613666073, 'gf1': 1.275661128}\n",
      "{'ow1': 0.638685232, 'win1': 0.528141959, 'rt1': 0.613666073, 'gf1': 1.275661128} Thesese are the facade estimation factors for building  IWU Transport 23.834601003363808 1905.0\n"
     ]
    },
    {
     "name": "stderr",
     "output_type": "stream",
     "text": [
      "c:\\Users\\felix\\Programmieren\\districtgenerator\\.venv\\Lib\\site-packages\\teaser\\logic\\buildingobjects\\useconditions.py:363: FutureWarning: 'H' is deprecated and will be removed in a future version, please use 'h' instead.\n",
      "  index=pd.date_range(\"2019-01-01 00:00:00\", periods=8760, freq=\"H\")\n"
     ]
    },
    {
     "name": "stdout",
     "output_type": "stream",
     "text": [
      "This is the path: C:\\Users\\felix\\Programmieren\\districtgenerator\\data\\consumption_data\\internal_loads.csv\n",
      "No data for light demand available for IWU Transport\n",
      "Creating building AB\n"
     ]
    },
    {
     "name": "stderr",
     "output_type": "stream",
     "text": [
      "c:\\Users\\felix\\Programmieren\\districtgenerator\\.venv\\Lib\\site-packages\\teaser\\logic\\buildingobjects\\useconditions.py:363: FutureWarning: 'H' is deprecated and will be removed in a future version, please use 'h' instead.\n",
      "  index=pd.date_range(\"2019-01-01 00:00:00\", periods=8760, freq=\"H\")\n",
      "c:\\Users\\felix\\Programmieren\\districtgenerator\\.venv\\Lib\\site-packages\\teaser\\logic\\buildingobjects\\useconditions.py:363: FutureWarning: 'H' is deprecated and will be removed in a future version, please use 'h' instead.\n",
      "  index=pd.date_range(\"2019-01-01 00:00:00\", periods=8760, freq=\"H\")\n"
     ]
    },
    {
     "name": "stdout",
     "output_type": "stream",
     "text": [
      "Creating building AB\n",
      "Creating building AB\n"
     ]
    },
    {
     "name": "stderr",
     "output_type": "stream",
     "text": [
      "c:\\Users\\felix\\Programmieren\\districtgenerator\\.venv\\Lib\\site-packages\\teaser\\logic\\buildingobjects\\useconditions.py:363: FutureWarning: 'H' is deprecated and will be removed in a future version, please use 'h' instead.\n",
      "  index=pd.date_range(\"2019-01-01 00:00:00\", periods=8760, freq=\"H\")\n",
      "c:\\Users\\felix\\Programmieren\\districtgenerator\\.venv\\Lib\\site-packages\\teaser\\logic\\buildingobjects\\useconditions.py:363: FutureWarning: 'H' is deprecated and will be removed in a future version, please use 'h' instead.\n",
      "  index=pd.date_range(\"2019-01-01 00:00:00\", periods=8760, freq=\"H\")\n"
     ]
    },
    {
     "name": "stdout",
     "output_type": "stream",
     "text": [
      "Creating building AB\n",
      "Creating building IWU Transport\n",
      "We are about to generate a Non Residential building.\n",
      "Available building types: ['IWU Office, Administrative or Government Buildings', 'IWU Research and University Teaching', 'IWU Health and Care', 'IWU School, Day Nursery and other Care', 'IWU Culture and Leisure', 'IWU Sports Facilities', 'IWU Hotels, Boarding, Restaurants or Catering', 'IWU Production, Workshop, Warehouse or Operations', 'IWU Trade Buildings', 'IWU Technical and Utility (supply and disposal)', 'IWU Transport', 'IWU Generalized (1) Services building', 'IWU Generalized (2) Production buildings']\n",
      "Current usage: IWU Transport\n",
      "Available building types: ['IWU Office, Administrative or Government Buildings', 'IWU Research and University Teaching', 'IWU Health and Care', 'IWU School, Day Nursery and other Care', 'IWU Culture and Leisure', 'IWU Sports Facilities', 'IWU Hotels, Boarding, Restaurants or Catering', 'IWU Production, Workshop, Warehouse or Operations', 'IWU Trade Buildings', 'IWU Technical and Utility (supply and disposal)', 'IWU Transport', 'IWU Generalized (1) Services building', 'IWU Generalized (2) Production buildings']\n",
      "Current usage: IWU Transport\n",
      "{'ow1': 0.638685232, 'win1': 0.528141959, 'rt1': 0.613666073, 'gf1': 1.275661128}\n",
      "{'ow1': 0.638685232, 'win1': 0.528141959, 'rt1': 0.613666073, 'gf1': 1.275661128} Thesese are the facade estimation factors for building  IWU Transport 58.42307000131772 1905.0\n",
      "This is the path: C:\\Users\\felix\\Programmieren\\districtgenerator\\data\\consumption_data\\internal_loads.csv\n",
      "No data for light demand available for IWU Transport\n",
      "Creating building IWU Technical and Utility (supply and disposal)\n",
      "We are about to generate a Non Residential building.\n",
      "Available building types: ['IWU Office, Administrative or Government Buildings', 'IWU Research and University Teaching', 'IWU Health and Care', 'IWU School, Day Nursery and other Care', 'IWU Culture and Leisure', 'IWU Sports Facilities', 'IWU Hotels, Boarding, Restaurants or Catering', 'IWU Production, Workshop, Warehouse or Operations', 'IWU Trade Buildings', 'IWU Technical and Utility (supply and disposal)', 'IWU Transport', 'IWU Generalized (1) Services building', 'IWU Generalized (2) Production buildings']\n",
      "Current usage: IWU Technical and Utility (supply and disposal)\n",
      "Available building types: ['IWU Office, Administrative or Government Buildings', 'IWU Research and University Teaching', 'IWU Health and Care', 'IWU School, Day Nursery and other Care', 'IWU Culture and Leisure', 'IWU Sports Facilities', 'IWU Hotels, Boarding, Restaurants or Catering', 'IWU Production, Workshop, Warehouse or Operations', 'IWU Trade Buildings', 'IWU Technical and Utility (supply and disposal)', 'IWU Transport', 'IWU Generalized (1) Services building', 'IWU Generalized (2) Production buildings']\n",
      "Current usage: IWU Technical and Utility (supply and disposal)\n",
      "{'ow1': 0.784967654, 'win1': 0.303347338, 'rt1': 0.594165802, 'gf1': 1.176470497}\n",
      "{'ow1': 0.784967654, 'win1': 0.303347338, 'rt1': 0.594165802, 'gf1': 1.176470497} Thesese are the facade estimation factors for building  IWU Technical and Utility (supply and disposal) 7.448012000011559 1905.0\n",
      "This is the path: C:\\Users\\felix\\Programmieren\\districtgenerator\\data\\consumption_data\\internal_loads.csv\n",
      "No data for light demand available for IWU Technical and Utility (supply and disposal)\n",
      "Creating building AB\n",
      "Creating building AB\n"
     ]
    },
    {
     "name": "stderr",
     "output_type": "stream",
     "text": [
      "c:\\Users\\felix\\Programmieren\\districtgenerator\\.venv\\Lib\\site-packages\\teaser\\logic\\buildingobjects\\useconditions.py:363: FutureWarning: 'H' is deprecated and will be removed in a future version, please use 'h' instead.\n",
      "  index=pd.date_range(\"2019-01-01 00:00:00\", periods=8760, freq=\"H\")\n",
      "c:\\Users\\felix\\Programmieren\\districtgenerator\\.venv\\Lib\\site-packages\\teaser\\logic\\buildingobjects\\useconditions.py:363: FutureWarning: 'H' is deprecated and will be removed in a future version, please use 'h' instead.\n",
      "  index=pd.date_range(\"2019-01-01 00:00:00\", periods=8760, freq=\"H\")\n",
      "c:\\Users\\felix\\Programmieren\\districtgenerator\\.venv\\Lib\\site-packages\\teaser\\logic\\buildingobjects\\useconditions.py:363: FutureWarning: 'H' is deprecated and will be removed in a future version, please use 'h' instead.\n",
      "  index=pd.date_range(\"2019-01-01 00:00:00\", periods=8760, freq=\"H\")\n"
     ]
    },
    {
     "name": "stdout",
     "output_type": "stream",
     "text": [
      "Creating building AB\n",
      "Creating building IWU Trade Buildings\n",
      "We are about to generate a Non Residential building.\n",
      "Available building types: ['IWU Office, Administrative or Government Buildings', 'IWU Research and University Teaching', 'IWU Health and Care', 'IWU School, Day Nursery and other Care', 'IWU Culture and Leisure', 'IWU Sports Facilities', 'IWU Hotels, Boarding, Restaurants or Catering', 'IWU Production, Workshop, Warehouse or Operations', 'IWU Trade Buildings', 'IWU Technical and Utility (supply and disposal)', 'IWU Transport', 'IWU Generalized (1) Services building', 'IWU Generalized (2) Production buildings']\n",
      "Current usage: IWU Trade Buildings\n",
      "Available building types: ['IWU Office, Administrative or Government Buildings', 'IWU Research and University Teaching', 'IWU Health and Care', 'IWU School, Day Nursery and other Care', 'IWU Culture and Leisure', 'IWU Sports Facilities', 'IWU Hotels, Boarding, Restaurants or Catering', 'IWU Production, Workshop, Warehouse or Operations', 'IWU Trade Buildings', 'IWU Technical and Utility (supply and disposal)', 'IWU Transport', 'IWU Generalized (1) Services building', 'IWU Generalized (2) Production buildings']\n",
      "Current usage: IWU Trade Buildings\n",
      "{'ow1': 0.368695829, 'win1': 0.11100406, 'rt1': 0.874472474, 'gf1': 0.873243839}\n",
      "{'ow1': 0.368695829, 'win1': 0.11100406, 'rt1': 0.874472474, 'gf1': 0.873243839} Thesese are the facade estimation factors for building  IWU Trade Buildings 40.14258349713131 1905.0\n",
      "This is the path: C:\\Users\\felix\\Programmieren\\districtgenerator\\data\\consumption_data\\internal_loads.csv\n",
      "No data for light demand available for IWU Trade Buildings\n",
      "Creating building AB\n"
     ]
    },
    {
     "name": "stderr",
     "output_type": "stream",
     "text": [
      "c:\\Users\\felix\\Programmieren\\districtgenerator\\.venv\\Lib\\site-packages\\teaser\\logic\\buildingobjects\\useconditions.py:363: FutureWarning: 'H' is deprecated and will be removed in a future version, please use 'h' instead.\n",
      "  index=pd.date_range(\"2019-01-01 00:00:00\", periods=8760, freq=\"H\")\n",
      "c:\\Users\\felix\\Programmieren\\districtgenerator\\.venv\\Lib\\site-packages\\teaser\\logic\\buildingobjects\\useconditions.py:363: FutureWarning: 'H' is deprecated and will be removed in a future version, please use 'h' instead.\n",
      "  index=pd.date_range(\"2019-01-01 00:00:00\", periods=8760, freq=\"H\")\n"
     ]
    },
    {
     "name": "stdout",
     "output_type": "stream",
     "text": [
      "Creating building AB\n",
      "Creating building AB\n"
     ]
    },
    {
     "name": "stderr",
     "output_type": "stream",
     "text": [
      "c:\\Users\\felix\\Programmieren\\districtgenerator\\.venv\\Lib\\site-packages\\teaser\\logic\\buildingobjects\\useconditions.py:363: FutureWarning: 'H' is deprecated and will be removed in a future version, please use 'h' instead.\n",
      "  index=pd.date_range(\"2019-01-01 00:00:00\", periods=8760, freq=\"H\")\n",
      "c:\\Users\\felix\\Programmieren\\districtgenerator\\.venv\\Lib\\site-packages\\teaser\\logic\\buildingobjects\\useconditions.py:363: FutureWarning: 'H' is deprecated and will be removed in a future version, please use 'h' instead.\n",
      "  index=pd.date_range(\"2019-01-01 00:00:00\", periods=8760, freq=\"H\")\n"
     ]
    },
    {
     "name": "stdout",
     "output_type": "stream",
     "text": [
      "Creating building AB\n",
      "Creating building IWU Culture and Leisure\n",
      "We are about to generate a Non Residential building.\n",
      "Available building types: ['IWU Office, Administrative or Government Buildings', 'IWU Research and University Teaching', 'IWU Health and Care', 'IWU School, Day Nursery and other Care', 'IWU Culture and Leisure', 'IWU Sports Facilities', 'IWU Hotels, Boarding, Restaurants or Catering', 'IWU Production, Workshop, Warehouse or Operations', 'IWU Trade Buildings', 'IWU Technical and Utility (supply and disposal)', 'IWU Transport', 'IWU Generalized (1) Services building', 'IWU Generalized (2) Production buildings']\n",
      "Current usage: IWU Culture and Leisure\n",
      "Available building types: ['IWU Office, Administrative or Government Buildings', 'IWU Research and University Teaching', 'IWU Health and Care', 'IWU School, Day Nursery and other Care', 'IWU Culture and Leisure', 'IWU Sports Facilities', 'IWU Hotels, Boarding, Restaurants or Catering', 'IWU Production, Workshop, Warehouse or Operations', 'IWU Trade Buildings', 'IWU Technical and Utility (supply and disposal)', 'IWU Transport', 'IWU Generalized (1) Services building', 'IWU Generalized (2) Production buildings']\n",
      "Current usage: IWU Culture and Leisure\n",
      "{'ow1': 0.481897466, 'win1': 0.264483462, 'rt1': 0.453292314, 'gf1': 0.411836884}\n",
      "{'ow1': 0.481897466, 'win1': 0.264483462, 'rt1': 0.453292314, 'gf1': 0.411836884} Thesese are the facade estimation factors for building  IWU Culture and Leisure 1723.1788000074243 1905.0\n",
      "This is the path: C:\\Users\\felix\\Programmieren\\districtgenerator\\data\\consumption_data\\internal_loads.csv\n",
      "No data for light demand available for IWU Culture and Leisure\n",
      "Creating building AB\n"
     ]
    },
    {
     "name": "stderr",
     "output_type": "stream",
     "text": [
      "c:\\Users\\felix\\Programmieren\\districtgenerator\\.venv\\Lib\\site-packages\\teaser\\logic\\buildingobjects\\useconditions.py:363: FutureWarning: 'H' is deprecated and will be removed in a future version, please use 'h' instead.\n",
      "  index=pd.date_range(\"2019-01-01 00:00:00\", periods=8760, freq=\"H\")\n",
      "c:\\Users\\felix\\Programmieren\\districtgenerator\\.venv\\Lib\\site-packages\\teaser\\logic\\buildingobjects\\useconditions.py:363: FutureWarning: 'H' is deprecated and will be removed in a future version, please use 'h' instead.\n",
      "  index=pd.date_range(\"2019-01-01 00:00:00\", periods=8760, freq=\"H\")\n"
     ]
    },
    {
     "name": "stdout",
     "output_type": "stream",
     "text": [
      "Creating building AB\n",
      "Creating building AB\n"
     ]
    },
    {
     "name": "stderr",
     "output_type": "stream",
     "text": [
      "c:\\Users\\felix\\Programmieren\\districtgenerator\\.venv\\Lib\\site-packages\\teaser\\logic\\buildingobjects\\useconditions.py:363: FutureWarning: 'H' is deprecated and will be removed in a future version, please use 'h' instead.\n",
      "  index=pd.date_range(\"2019-01-01 00:00:00\", periods=8760, freq=\"H\")\n"
     ]
    },
    {
     "name": "stdout",
     "output_type": "stream",
     "text": [
      "Creating building AB\n",
      "Creating building AB\n"
     ]
    },
    {
     "name": "stderr",
     "output_type": "stream",
     "text": [
      "c:\\Users\\felix\\Programmieren\\districtgenerator\\.venv\\Lib\\site-packages\\teaser\\logic\\buildingobjects\\useconditions.py:363: FutureWarning: 'H' is deprecated and will be removed in a future version, please use 'h' instead.\n",
      "  index=pd.date_range(\"2019-01-01 00:00:00\", periods=8760, freq=\"H\")\n",
      "c:\\Users\\felix\\Programmieren\\districtgenerator\\.venv\\Lib\\site-packages\\teaser\\logic\\buildingobjects\\useconditions.py:363: FutureWarning: 'H' is deprecated and will be removed in a future version, please use 'h' instead.\n",
      "  index=pd.date_range(\"2019-01-01 00:00:00\", periods=8760, freq=\"H\")\n"
     ]
    },
    {
     "name": "stdout",
     "output_type": "stream",
     "text": [
      "Creating building AB\n",
      "Creating building AB\n"
     ]
    },
    {
     "name": "stderr",
     "output_type": "stream",
     "text": [
      "c:\\Users\\felix\\Programmieren\\districtgenerator\\.venv\\Lib\\site-packages\\teaser\\logic\\buildingobjects\\useconditions.py:363: FutureWarning: 'H' is deprecated and will be removed in a future version, please use 'h' instead.\n",
      "  index=pd.date_range(\"2019-01-01 00:00:00\", periods=8760, freq=\"H\")\n",
      "c:\\Users\\felix\\Programmieren\\districtgenerator\\.venv\\Lib\\site-packages\\teaser\\logic\\buildingobjects\\useconditions.py:363: FutureWarning: 'H' is deprecated and will be removed in a future version, please use 'h' instead.\n",
      "  index=pd.date_range(\"2019-01-01 00:00:00\", periods=8760, freq=\"H\")\n"
     ]
    },
    {
     "name": "stdout",
     "output_type": "stream",
     "text": [
      "Creating building AB\n",
      "Creating building AB\n"
     ]
    },
    {
     "name": "stderr",
     "output_type": "stream",
     "text": [
      "c:\\Users\\felix\\Programmieren\\districtgenerator\\.venv\\Lib\\site-packages\\teaser\\logic\\buildingobjects\\useconditions.py:363: FutureWarning: 'H' is deprecated and will be removed in a future version, please use 'h' instead.\n",
      "  index=pd.date_range(\"2019-01-01 00:00:00\", periods=8760, freq=\"H\")\n",
      "c:\\Users\\felix\\Programmieren\\districtgenerator\\.venv\\Lib\\site-packages\\teaser\\logic\\buildingobjects\\useconditions.py:363: FutureWarning: 'H' is deprecated and will be removed in a future version, please use 'h' instead.\n",
      "  index=pd.date_range(\"2019-01-01 00:00:00\", periods=8760, freq=\"H\")\n"
     ]
    },
    {
     "name": "stdout",
     "output_type": "stream",
     "text": [
      "Creating building AB\n",
      "Creating building AB\n"
     ]
    },
    {
     "name": "stderr",
     "output_type": "stream",
     "text": [
      "c:\\Users\\felix\\Programmieren\\districtgenerator\\.venv\\Lib\\site-packages\\teaser\\logic\\buildingobjects\\useconditions.py:363: FutureWarning: 'H' is deprecated and will be removed in a future version, please use 'h' instead.\n",
      "  index=pd.date_range(\"2019-01-01 00:00:00\", periods=8760, freq=\"H\")\n",
      "c:\\Users\\felix\\Programmieren\\districtgenerator\\.venv\\Lib\\site-packages\\teaser\\logic\\buildingobjects\\useconditions.py:363: FutureWarning: 'H' is deprecated and will be removed in a future version, please use 'h' instead.\n",
      "  index=pd.date_range(\"2019-01-01 00:00:00\", periods=8760, freq=\"H\")\n"
     ]
    },
    {
     "name": "stdout",
     "output_type": "stream",
     "text": [
      "Creating building AB\n",
      "Creating building AB\n"
     ]
    },
    {
     "name": "stderr",
     "output_type": "stream",
     "text": [
      "c:\\Users\\felix\\Programmieren\\districtgenerator\\.venv\\Lib\\site-packages\\teaser\\logic\\buildingobjects\\useconditions.py:363: FutureWarning: 'H' is deprecated and will be removed in a future version, please use 'h' instead.\n",
      "  index=pd.date_range(\"2019-01-01 00:00:00\", periods=8760, freq=\"H\")\n",
      "c:\\Users\\felix\\Programmieren\\districtgenerator\\.venv\\Lib\\site-packages\\teaser\\logic\\buildingobjects\\useconditions.py:363: FutureWarning: 'H' is deprecated and will be removed in a future version, please use 'h' instead.\n",
      "  index=pd.date_range(\"2019-01-01 00:00:00\", periods=8760, freq=\"H\")\n"
     ]
    },
    {
     "name": "stdout",
     "output_type": "stream",
     "text": [
      "Creating building AB\n",
      "Creating building AB\n"
     ]
    },
    {
     "name": "stderr",
     "output_type": "stream",
     "text": [
      "c:\\Users\\felix\\Programmieren\\districtgenerator\\.venv\\Lib\\site-packages\\teaser\\logic\\buildingobjects\\useconditions.py:363: FutureWarning: 'H' is deprecated and will be removed in a future version, please use 'h' instead.\n",
      "  index=pd.date_range(\"2019-01-01 00:00:00\", periods=8760, freq=\"H\")\n",
      "c:\\Users\\felix\\Programmieren\\districtgenerator\\.venv\\Lib\\site-packages\\teaser\\logic\\buildingobjects\\useconditions.py:363: FutureWarning: 'H' is deprecated and will be removed in a future version, please use 'h' instead.\n",
      "  index=pd.date_range(\"2019-01-01 00:00:00\", periods=8760, freq=\"H\")\n"
     ]
    },
    {
     "name": "stdout",
     "output_type": "stream",
     "text": [
      "Creating building IWU Sports Facilities\n",
      "We are about to generate a Non Residential building.\n",
      "Available building types: ['IWU Office, Administrative or Government Buildings', 'IWU Research and University Teaching', 'IWU Health and Care', 'IWU School, Day Nursery and other Care', 'IWU Culture and Leisure', 'IWU Sports Facilities', 'IWU Hotels, Boarding, Restaurants or Catering', 'IWU Production, Workshop, Warehouse or Operations', 'IWU Trade Buildings', 'IWU Technical and Utility (supply and disposal)', 'IWU Transport', 'IWU Generalized (1) Services building', 'IWU Generalized (2) Production buildings']\n",
      "Current usage: IWU Sports Facilities\n",
      "Available building types: ['IWU Office, Administrative or Government Buildings', 'IWU Research and University Teaching', 'IWU Health and Care', 'IWU School, Day Nursery and other Care', 'IWU Culture and Leisure', 'IWU Sports Facilities', 'IWU Hotels, Boarding, Restaurants or Catering', 'IWU Production, Workshop, Warehouse or Operations', 'IWU Trade Buildings', 'IWU Technical and Utility (supply and disposal)', 'IWU Transport', 'IWU Generalized (1) Services building', 'IWU Generalized (2) Production buildings']\n",
      "Current usage: IWU Sports Facilities\n",
      "{'ow1': 0.554841274, 'win1': 0.800918107, 'rt1': 0.749073077, 'gf1': 0.755268552}\n",
      "{'ow1': 0.554841274, 'win1': 0.800918107, 'rt1': 0.749073077, 'gf1': 0.755268552} Thesese are the facade estimation factors for building  IWU Sports Facilities 12542.54967151206 1905.0\n",
      "This is the path: C:\\Users\\felix\\Programmieren\\districtgenerator\\data\\consumption_data\\internal_loads.csv\n",
      "No data for light demand available for IWU Sports Facilities\n",
      "Creating building SFH\n",
      "Creating building AB\n"
     ]
    },
    {
     "name": "stderr",
     "output_type": "stream",
     "text": [
      "c:\\Users\\felix\\Programmieren\\districtgenerator\\.venv\\Lib\\site-packages\\teaser\\logic\\buildingobjects\\useconditions.py:363: FutureWarning: 'H' is deprecated and will be removed in a future version, please use 'h' instead.\n",
      "  index=pd.date_range(\"2019-01-01 00:00:00\", periods=8760, freq=\"H\")\n",
      "c:\\Users\\felix\\Programmieren\\districtgenerator\\.venv\\Lib\\site-packages\\teaser\\logic\\buildingobjects\\useconditions.py:363: FutureWarning: 'H' is deprecated and will be removed in a future version, please use 'h' instead.\n",
      "  index=pd.date_range(\"2019-01-01 00:00:00\", periods=8760, freq=\"H\")\n"
     ]
    },
    {
     "name": "stdout",
     "output_type": "stream",
     "text": [
      "Creating building IWU Health and Care\n",
      "We are about to generate a Non Residential building.\n",
      "Available building types: ['IWU Office, Administrative or Government Buildings', 'IWU Research and University Teaching', 'IWU Health and Care', 'IWU School, Day Nursery and other Care', 'IWU Culture and Leisure', 'IWU Sports Facilities', 'IWU Hotels, Boarding, Restaurants or Catering', 'IWU Production, Workshop, Warehouse or Operations', 'IWU Trade Buildings', 'IWU Technical and Utility (supply and disposal)', 'IWU Transport', 'IWU Generalized (1) Services building', 'IWU Generalized (2) Production buildings']\n",
      "Current usage: IWU Health and Care\n",
      "Available building types: ['IWU Office, Administrative or Government Buildings', 'IWU Research and University Teaching', 'IWU Health and Care', 'IWU School, Day Nursery and other Care', 'IWU Culture and Leisure', 'IWU Sports Facilities', 'IWU Hotels, Boarding, Restaurants or Catering', 'IWU Production, Workshop, Warehouse or Operations', 'IWU Trade Buildings', 'IWU Technical and Utility (supply and disposal)', 'IWU Transport', 'IWU Generalized (1) Services building', 'IWU Generalized (2) Production buildings']\n",
      "Current usage: IWU Health and Care\n",
      "{'ow1': 0.37044787, 'win1': 0.183285088, 'rt1': 0.301624217, 'gf1': 0.376533116}\n",
      "{'ow1': 0.37044787, 'win1': 0.183285088, 'rt1': 0.301624217, 'gf1': 0.376533116} Thesese are the facade estimation factors for building  IWU Health and Care 3158.332299984165 1905.0\n",
      "This is the path: C:\\Users\\felix\\Programmieren\\districtgenerator\\data\\consumption_data\\internal_loads.csv\n",
      "No data for light demand available for IWU Health and Care\n",
      "Creating building AB\n"
     ]
    },
    {
     "name": "stderr",
     "output_type": "stream",
     "text": [
      "c:\\Users\\felix\\Programmieren\\districtgenerator\\.venv\\Lib\\site-packages\\teaser\\logic\\buildingobjects\\useconditions.py:363: FutureWarning: 'H' is deprecated and will be removed in a future version, please use 'h' instead.\n",
      "  index=pd.date_range(\"2019-01-01 00:00:00\", periods=8760, freq=\"H\")\n"
     ]
    },
    {
     "name": "stdout",
     "output_type": "stream",
     "text": [
      "Creating building AB\n",
      "Creating building AB\n"
     ]
    },
    {
     "name": "stderr",
     "output_type": "stream",
     "text": [
      "c:\\Users\\felix\\Programmieren\\districtgenerator\\.venv\\Lib\\site-packages\\teaser\\logic\\buildingobjects\\useconditions.py:363: FutureWarning: 'H' is deprecated and will be removed in a future version, please use 'h' instead.\n",
      "  index=pd.date_range(\"2019-01-01 00:00:00\", periods=8760, freq=\"H\")\n",
      "c:\\Users\\felix\\Programmieren\\districtgenerator\\.venv\\Lib\\site-packages\\teaser\\logic\\buildingobjects\\useconditions.py:363: FutureWarning: 'H' is deprecated and will be removed in a future version, please use 'h' instead.\n",
      "  index=pd.date_range(\"2019-01-01 00:00:00\", periods=8760, freq=\"H\")\n"
     ]
    },
    {
     "name": "stdout",
     "output_type": "stream",
     "text": [
      "Creating building AB\n"
     ]
    },
    {
     "name": "stderr",
     "output_type": "stream",
     "text": [
      "c:\\Users\\felix\\Programmieren\\districtgenerator\\.venv\\Lib\\site-packages\\teaser\\logic\\buildingobjects\\useconditions.py:363: FutureWarning: 'H' is deprecated and will be removed in a future version, please use 'h' instead.\n",
      "  index=pd.date_range(\"2019-01-01 00:00:00\", periods=8760, freq=\"H\")\n"
     ]
    },
    {
     "name": "stdout",
     "output_type": "stream",
     "text": [
      "Creating building AB\n",
      "Creating building AB\n"
     ]
    },
    {
     "name": "stderr",
     "output_type": "stream",
     "text": [
      "c:\\Users\\felix\\Programmieren\\districtgenerator\\.venv\\Lib\\site-packages\\teaser\\logic\\buildingobjects\\useconditions.py:363: FutureWarning: 'H' is deprecated and will be removed in a future version, please use 'h' instead.\n",
      "  index=pd.date_range(\"2019-01-01 00:00:00\", periods=8760, freq=\"H\")\n",
      "c:\\Users\\felix\\Programmieren\\districtgenerator\\.venv\\Lib\\site-packages\\teaser\\logic\\buildingobjects\\useconditions.py:363: FutureWarning: 'H' is deprecated and will be removed in a future version, please use 'h' instead.\n",
      "  index=pd.date_range(\"2019-01-01 00:00:00\", periods=8760, freq=\"H\")\n"
     ]
    },
    {
     "name": "stdout",
     "output_type": "stream",
     "text": [
      "Creating building AB\n",
      "Creating building AB\n"
     ]
    },
    {
     "name": "stderr",
     "output_type": "stream",
     "text": [
      "c:\\Users\\felix\\Programmieren\\districtgenerator\\.venv\\Lib\\site-packages\\teaser\\logic\\buildingobjects\\useconditions.py:363: FutureWarning: 'H' is deprecated and will be removed in a future version, please use 'h' instead.\n",
      "  index=pd.date_range(\"2019-01-01 00:00:00\", periods=8760, freq=\"H\")\n",
      "c:\\Users\\felix\\Programmieren\\districtgenerator\\.venv\\Lib\\site-packages\\teaser\\logic\\buildingobjects\\useconditions.py:363: FutureWarning: 'H' is deprecated and will be removed in a future version, please use 'h' instead.\n",
      "  index=pd.date_range(\"2019-01-01 00:00:00\", periods=8760, freq=\"H\")\n"
     ]
    },
    {
     "name": "stdout",
     "output_type": "stream",
     "text": [
      "Creating building AB\n",
      "Creating building AB\n"
     ]
    },
    {
     "name": "stderr",
     "output_type": "stream",
     "text": [
      "c:\\Users\\felix\\Programmieren\\districtgenerator\\.venv\\Lib\\site-packages\\teaser\\logic\\buildingobjects\\useconditions.py:363: FutureWarning: 'H' is deprecated and will be removed in a future version, please use 'h' instead.\n",
      "  index=pd.date_range(\"2019-01-01 00:00:00\", periods=8760, freq=\"H\")\n",
      "c:\\Users\\felix\\Programmieren\\districtgenerator\\.venv\\Lib\\site-packages\\teaser\\logic\\buildingobjects\\useconditions.py:363: FutureWarning: 'H' is deprecated and will be removed in a future version, please use 'h' instead.\n",
      "  index=pd.date_range(\"2019-01-01 00:00:00\", periods=8760, freq=\"H\")\n"
     ]
    },
    {
     "name": "stdout",
     "output_type": "stream",
     "text": [
      "Creating building AB\n",
      "Creating building AB\n"
     ]
    },
    {
     "name": "stderr",
     "output_type": "stream",
     "text": [
      "c:\\Users\\felix\\Programmieren\\districtgenerator\\.venv\\Lib\\site-packages\\teaser\\logic\\buildingobjects\\useconditions.py:363: FutureWarning: 'H' is deprecated and will be removed in a future version, please use 'h' instead.\n",
      "  index=pd.date_range(\"2019-01-01 00:00:00\", periods=8760, freq=\"H\")\n",
      "c:\\Users\\felix\\Programmieren\\districtgenerator\\.venv\\Lib\\site-packages\\teaser\\logic\\buildingobjects\\useconditions.py:363: FutureWarning: 'H' is deprecated and will be removed in a future version, please use 'h' instead.\n",
      "  index=pd.date_range(\"2019-01-01 00:00:00\", periods=8760, freq=\"H\")\n"
     ]
    },
    {
     "name": "stdout",
     "output_type": "stream",
     "text": [
      "Creating building AB\n",
      "Creating building AB\n"
     ]
    },
    {
     "name": "stderr",
     "output_type": "stream",
     "text": [
      "c:\\Users\\felix\\Programmieren\\districtgenerator\\.venv\\Lib\\site-packages\\teaser\\logic\\buildingobjects\\useconditions.py:363: FutureWarning: 'H' is deprecated and will be removed in a future version, please use 'h' instead.\n",
      "  index=pd.date_range(\"2019-01-01 00:00:00\", periods=8760, freq=\"H\")\n",
      "c:\\Users\\felix\\Programmieren\\districtgenerator\\.venv\\Lib\\site-packages\\teaser\\logic\\buildingobjects\\useconditions.py:363: FutureWarning: 'H' is deprecated and will be removed in a future version, please use 'h' instead.\n",
      "  index=pd.date_range(\"2019-01-01 00:00:00\", periods=8760, freq=\"H\")\n"
     ]
    },
    {
     "name": "stdout",
     "output_type": "stream",
     "text": [
      "Creating building AB\n",
      "Creating building AB\n"
     ]
    },
    {
     "name": "stderr",
     "output_type": "stream",
     "text": [
      "c:\\Users\\felix\\Programmieren\\districtgenerator\\.venv\\Lib\\site-packages\\teaser\\logic\\buildingobjects\\useconditions.py:363: FutureWarning: 'H' is deprecated and will be removed in a future version, please use 'h' instead.\n",
      "  index=pd.date_range(\"2019-01-01 00:00:00\", periods=8760, freq=\"H\")\n",
      "c:\\Users\\felix\\Programmieren\\districtgenerator\\.venv\\Lib\\site-packages\\teaser\\logic\\buildingobjects\\useconditions.py:363: FutureWarning: 'H' is deprecated and will be removed in a future version, please use 'h' instead.\n",
      "  index=pd.date_range(\"2019-01-01 00:00:00\", periods=8760, freq=\"H\")\n"
     ]
    },
    {
     "name": "stdout",
     "output_type": "stream",
     "text": [
      "Creating building AB\n",
      "Creating building AB\n"
     ]
    },
    {
     "name": "stderr",
     "output_type": "stream",
     "text": [
      "c:\\Users\\felix\\Programmieren\\districtgenerator\\.venv\\Lib\\site-packages\\teaser\\logic\\buildingobjects\\useconditions.py:363: FutureWarning: 'H' is deprecated and will be removed in a future version, please use 'h' instead.\n",
      "  index=pd.date_range(\"2019-01-01 00:00:00\", periods=8760, freq=\"H\")\n",
      "c:\\Users\\felix\\Programmieren\\districtgenerator\\.venv\\Lib\\site-packages\\teaser\\logic\\buildingobjects\\useconditions.py:363: FutureWarning: 'H' is deprecated and will be removed in a future version, please use 'h' instead.\n",
      "  index=pd.date_range(\"2019-01-01 00:00:00\", periods=8760, freq=\"H\")\n"
     ]
    },
    {
     "name": "stdout",
     "output_type": "stream",
     "text": [
      "Creating building AB\n",
      "Creating building AB\n"
     ]
    },
    {
     "name": "stderr",
     "output_type": "stream",
     "text": [
      "c:\\Users\\felix\\Programmieren\\districtgenerator\\.venv\\Lib\\site-packages\\teaser\\logic\\buildingobjects\\useconditions.py:363: FutureWarning: 'H' is deprecated and will be removed in a future version, please use 'h' instead.\n",
      "  index=pd.date_range(\"2019-01-01 00:00:00\", periods=8760, freq=\"H\")\n",
      "c:\\Users\\felix\\Programmieren\\districtgenerator\\.venv\\Lib\\site-packages\\teaser\\logic\\buildingobjects\\useconditions.py:363: FutureWarning: 'H' is deprecated and will be removed in a future version, please use 'h' instead.\n",
      "  index=pd.date_range(\"2019-01-01 00:00:00\", periods=8760, freq=\"H\")\n"
     ]
    },
    {
     "name": "stdout",
     "output_type": "stream",
     "text": [
      "Creating building TH\n",
      "Creating building AB\n",
      "Creating building IWU Transport\n",
      "We are about to generate a Non Residential building.\n",
      "Available building types: ['IWU Office, Administrative or Government Buildings', 'IWU Research and University Teaching', 'IWU Health and Care', 'IWU School, Day Nursery and other Care', 'IWU Culture and Leisure', 'IWU Sports Facilities', 'IWU Hotels, Boarding, Restaurants or Catering', 'IWU Production, Workshop, Warehouse or Operations', 'IWU Trade Buildings', 'IWU Technical and Utility (supply and disposal)', 'IWU Transport', 'IWU Generalized (1) Services building', 'IWU Generalized (2) Production buildings']\n",
      "Current usage: IWU Transport\n",
      "Available building types: ['IWU Office, Administrative or Government Buildings', 'IWU Research and University Teaching', 'IWU Health and Care', 'IWU School, Day Nursery and other Care', 'IWU Culture and Leisure', 'IWU Sports Facilities', 'IWU Hotels, Boarding, Restaurants or Catering', 'IWU Production, Workshop, Warehouse or Operations', 'IWU Trade Buildings', 'IWU Technical and Utility (supply and disposal)', 'IWU Transport', 'IWU Generalized (1) Services building', 'IWU Generalized (2) Production buildings']\n",
      "Current usage: IWU Transport\n",
      "{'ow1': 0.638685232, 'win1': 0.528141959, 'rt1': 0.613666073, 'gf1': 1.275661128}\n",
      "{'ow1': 0.638685232, 'win1': 0.528141959, 'rt1': 0.613666073, 'gf1': 1.275661128} Thesese are the facade estimation factors for building  IWU Transport 507.0873629812655 1905.0\n",
      "This is the path: C:\\Users\\felix\\Programmieren\\districtgenerator\\data\\consumption_data\\internal_loads.csv\n"
     ]
    },
    {
     "name": "stderr",
     "output_type": "stream",
     "text": [
      "c:\\Users\\felix\\Programmieren\\districtgenerator\\.venv\\Lib\\site-packages\\teaser\\logic\\buildingobjects\\useconditions.py:363: FutureWarning: 'H' is deprecated and will be removed in a future version, please use 'h' instead.\n",
      "  index=pd.date_range(\"2019-01-01 00:00:00\", periods=8760, freq=\"H\")\n",
      "c:\\Users\\felix\\Programmieren\\districtgenerator\\.venv\\Lib\\site-packages\\teaser\\logic\\buildingobjects\\useconditions.py:363: FutureWarning: 'H' is deprecated and will be removed in a future version, please use 'h' instead.\n",
      "  index=pd.date_range(\"2019-01-01 00:00:00\", periods=8760, freq=\"H\")\n"
     ]
    },
    {
     "name": "stdout",
     "output_type": "stream",
     "text": [
      "No data for light demand available for IWU Transport\n",
      "Creating building AB\n",
      "Creating building AB\n"
     ]
    },
    {
     "name": "stderr",
     "output_type": "stream",
     "text": [
      "c:\\Users\\felix\\Programmieren\\districtgenerator\\.venv\\Lib\\site-packages\\teaser\\logic\\buildingobjects\\useconditions.py:363: FutureWarning: 'H' is deprecated and will be removed in a future version, please use 'h' instead.\n",
      "  index=pd.date_range(\"2019-01-01 00:00:00\", periods=8760, freq=\"H\")\n",
      "c:\\Users\\felix\\Programmieren\\districtgenerator\\.venv\\Lib\\site-packages\\teaser\\logic\\buildingobjects\\useconditions.py:363: FutureWarning: 'H' is deprecated and will be removed in a future version, please use 'h' instead.\n",
      "  index=pd.date_range(\"2019-01-01 00:00:00\", periods=8760, freq=\"H\")\n"
     ]
    },
    {
     "name": "stdout",
     "output_type": "stream",
     "text": [
      "Creating building AB\n",
      "Creating building AB\n"
     ]
    },
    {
     "name": "stderr",
     "output_type": "stream",
     "text": [
      "c:\\Users\\felix\\Programmieren\\districtgenerator\\.venv\\Lib\\site-packages\\teaser\\logic\\buildingobjects\\useconditions.py:363: FutureWarning: 'H' is deprecated and will be removed in a future version, please use 'h' instead.\n",
      "  index=pd.date_range(\"2019-01-01 00:00:00\", periods=8760, freq=\"H\")\n",
      "c:\\Users\\felix\\Programmieren\\districtgenerator\\.venv\\Lib\\site-packages\\teaser\\logic\\buildingobjects\\useconditions.py:363: FutureWarning: 'H' is deprecated and will be removed in a future version, please use 'h' instead.\n",
      "  index=pd.date_range(\"2019-01-01 00:00:00\", periods=8760, freq=\"H\")\n"
     ]
    },
    {
     "name": "stdout",
     "output_type": "stream",
     "text": [
      "Creating building AB\n",
      "Creating building AB\n",
      "Creating building AB\n"
     ]
    },
    {
     "name": "stderr",
     "output_type": "stream",
     "text": [
      "c:\\Users\\felix\\Programmieren\\districtgenerator\\.venv\\Lib\\site-packages\\teaser\\logic\\buildingobjects\\useconditions.py:363: FutureWarning: 'H' is deprecated and will be removed in a future version, please use 'h' instead.\n",
      "  index=pd.date_range(\"2019-01-01 00:00:00\", periods=8760, freq=\"H\")\n",
      "c:\\Users\\felix\\Programmieren\\districtgenerator\\.venv\\Lib\\site-packages\\teaser\\logic\\buildingobjects\\useconditions.py:363: FutureWarning: 'H' is deprecated and will be removed in a future version, please use 'h' instead.\n",
      "  index=pd.date_range(\"2019-01-01 00:00:00\", periods=8760, freq=\"H\")\n",
      "c:\\Users\\felix\\Programmieren\\districtgenerator\\.venv\\Lib\\site-packages\\teaser\\logic\\buildingobjects\\useconditions.py:363: FutureWarning: 'H' is deprecated and will be removed in a future version, please use 'h' instead.\n",
      "  index=pd.date_range(\"2019-01-01 00:00:00\", periods=8760, freq=\"H\")\n"
     ]
    },
    {
     "name": "stdout",
     "output_type": "stream",
     "text": [
      "Creating building IWU Transport\n",
      "We are about to generate a Non Residential building.\n",
      "Available building types: ['IWU Office, Administrative or Government Buildings', 'IWU Research and University Teaching', 'IWU Health and Care', 'IWU School, Day Nursery and other Care', 'IWU Culture and Leisure', 'IWU Sports Facilities', 'IWU Hotels, Boarding, Restaurants or Catering', 'IWU Production, Workshop, Warehouse or Operations', 'IWU Trade Buildings', 'IWU Technical and Utility (supply and disposal)', 'IWU Transport', 'IWU Generalized (1) Services building', 'IWU Generalized (2) Production buildings']\n",
      "Current usage: IWU Transport\n",
      "Available building types: ['IWU Office, Administrative or Government Buildings', 'IWU Research and University Teaching', 'IWU Health and Care', 'IWU School, Day Nursery and other Care', 'IWU Culture and Leisure', 'IWU Sports Facilities', 'IWU Hotels, Boarding, Restaurants or Catering', 'IWU Production, Workshop, Warehouse or Operations', 'IWU Trade Buildings', 'IWU Technical and Utility (supply and disposal)', 'IWU Transport', 'IWU Generalized (1) Services building', 'IWU Generalized (2) Production buildings']\n",
      "Current usage: IWU Transport\n",
      "{'ow1': 0.638685232, 'win1': 0.528141959, 'rt1': 0.613666073, 'gf1': 1.275661128}\n",
      "{'ow1': 0.638685232, 'win1': 0.528141959, 'rt1': 0.613666073, 'gf1': 1.275661128} Thesese are the facade estimation factors for building  IWU Transport 58.4776115023449 1905.0\n",
      "This is the path: C:\\Users\\felix\\Programmieren\\districtgenerator\\data\\consumption_data\\internal_loads.csv\n",
      "No data for light demand available for IWU Transport\n",
      "Creating building AB\n",
      "Creating building AB\n"
     ]
    },
    {
     "name": "stderr",
     "output_type": "stream",
     "text": [
      "c:\\Users\\felix\\Programmieren\\districtgenerator\\.venv\\Lib\\site-packages\\teaser\\logic\\buildingobjects\\useconditions.py:363: FutureWarning: 'H' is deprecated and will be removed in a future version, please use 'h' instead.\n",
      "  index=pd.date_range(\"2019-01-01 00:00:00\", periods=8760, freq=\"H\")\n",
      "c:\\Users\\felix\\Programmieren\\districtgenerator\\.venv\\Lib\\site-packages\\teaser\\logic\\buildingobjects\\useconditions.py:363: FutureWarning: 'H' is deprecated and will be removed in a future version, please use 'h' instead.\n",
      "  index=pd.date_range(\"2019-01-01 00:00:00\", periods=8760, freq=\"H\")\n",
      "c:\\Users\\felix\\Programmieren\\districtgenerator\\.venv\\Lib\\site-packages\\teaser\\logic\\buildingobjects\\useconditions.py:363: FutureWarning: 'H' is deprecated and will be removed in a future version, please use 'h' instead.\n",
      "  index=pd.date_range(\"2019-01-01 00:00:00\", periods=8760, freq=\"H\")\n"
     ]
    },
    {
     "name": "stdout",
     "output_type": "stream",
     "text": [
      "Creating building AB\n",
      "Creating building IWU Transport\n",
      "We are about to generate a Non Residential building.\n",
      "Available building types: ['IWU Office, Administrative or Government Buildings', 'IWU Research and University Teaching', 'IWU Health and Care', 'IWU School, Day Nursery and other Care', 'IWU Culture and Leisure', 'IWU Sports Facilities', 'IWU Hotels, Boarding, Restaurants or Catering', 'IWU Production, Workshop, Warehouse or Operations', 'IWU Trade Buildings', 'IWU Technical and Utility (supply and disposal)', 'IWU Transport', 'IWU Generalized (1) Services building', 'IWU Generalized (2) Production buildings']\n",
      "Current usage: IWU Transport\n",
      "Available building types: ['IWU Office, Administrative or Government Buildings', 'IWU Research and University Teaching', 'IWU Health and Care', 'IWU School, Day Nursery and other Care', 'IWU Culture and Leisure', 'IWU Sports Facilities', 'IWU Hotels, Boarding, Restaurants or Catering', 'IWU Production, Workshop, Warehouse or Operations', 'IWU Trade Buildings', 'IWU Technical and Utility (supply and disposal)', 'IWU Transport', 'IWU Generalized (1) Services building', 'IWU Generalized (2) Production buildings']\n",
      "Current usage: IWU Transport\n",
      "{'ow1': 0.638685232, 'win1': 0.528141959, 'rt1': 0.613666073, 'gf1': 1.275661128}\n",
      "{'ow1': 0.638685232, 'win1': 0.528141959, 'rt1': 0.613666073, 'gf1': 1.275661128} Thesese are the facade estimation factors for building  IWU Transport 73.32324850101043 1905.0\n",
      "This is the path: C:\\Users\\felix\\Programmieren\\districtgenerator\\data\\consumption_data\\internal_loads.csv\n",
      "No data for light demand available for IWU Transport\n",
      "Creating building AB\n",
      "Creating building AB\n"
     ]
    },
    {
     "name": "stderr",
     "output_type": "stream",
     "text": [
      "c:\\Users\\felix\\Programmieren\\districtgenerator\\.venv\\Lib\\site-packages\\teaser\\logic\\buildingobjects\\useconditions.py:363: FutureWarning: 'H' is deprecated and will be removed in a future version, please use 'h' instead.\n",
      "  index=pd.date_range(\"2019-01-01 00:00:00\", periods=8760, freq=\"H\")\n",
      "c:\\Users\\felix\\Programmieren\\districtgenerator\\.venv\\Lib\\site-packages\\teaser\\logic\\buildingobjects\\useconditions.py:363: FutureWarning: 'H' is deprecated and will be removed in a future version, please use 'h' instead.\n",
      "  index=pd.date_range(\"2019-01-01 00:00:00\", periods=8760, freq=\"H\")\n"
     ]
    },
    {
     "name": "stdout",
     "output_type": "stream",
     "text": [
      "Creating building AB\n",
      "Creating building AB\n"
     ]
    },
    {
     "name": "stderr",
     "output_type": "stream",
     "text": [
      "c:\\Users\\felix\\Programmieren\\districtgenerator\\.venv\\Lib\\site-packages\\teaser\\logic\\buildingobjects\\useconditions.py:363: FutureWarning: 'H' is deprecated and will be removed in a future version, please use 'h' instead.\n",
      "  index=pd.date_range(\"2019-01-01 00:00:00\", periods=8760, freq=\"H\")\n",
      "c:\\Users\\felix\\Programmieren\\districtgenerator\\.venv\\Lib\\site-packages\\teaser\\logic\\buildingobjects\\useconditions.py:363: FutureWarning: 'H' is deprecated and will be removed in a future version, please use 'h' instead.\n",
      "  index=pd.date_range(\"2019-01-01 00:00:00\", periods=8760, freq=\"H\")\n"
     ]
    },
    {
     "name": "stdout",
     "output_type": "stream",
     "text": [
      "Creating building AB\n",
      "Creating building AB\n",
      "Creating building IWU Hotels, Boarding, Restaurants or Catering\n",
      "We are about to generate a Non Residential building.\n",
      "Available building types: ['IWU Office, Administrative or Government Buildings', 'IWU Research and University Teaching', 'IWU Health and Care', 'IWU School, Day Nursery and other Care', 'IWU Culture and Leisure', 'IWU Sports Facilities', 'IWU Hotels, Boarding, Restaurants or Catering', 'IWU Production, Workshop, Warehouse or Operations', 'IWU Trade Buildings', 'IWU Technical and Utility (supply and disposal)', 'IWU Transport', 'IWU Generalized (1) Services building', 'IWU Generalized (2) Production buildings']\n",
      "Current usage: IWU Hotels, Boarding, Restaurants or Catering\n",
      "Available building types: ['IWU Office, Administrative or Government Buildings', 'IWU Research and University Teaching', 'IWU Health and Care', 'IWU School, Day Nursery and other Care', 'IWU Culture and Leisure', 'IWU Sports Facilities', 'IWU Hotels, Boarding, Restaurants or Catering', 'IWU Production, Workshop, Warehouse or Operations', 'IWU Trade Buildings', 'IWU Technical and Utility (supply and disposal)', 'IWU Transport', 'IWU Generalized (1) Services building', 'IWU Generalized (2) Production buildings']\n",
      "Current usage: IWU Hotels, Boarding, Restaurants or Catering\n",
      "{'ow1': 0.571613483, 'win1': 0.289033996, 'rt1': 0.36200171, 'gf1': 0.285122382}\n",
      "{'ow1': 0.571613483, 'win1': 0.289033996, 'rt1': 0.36200171, 'gf1': 0.285122382} Thesese are the facade estimation factors for building  IWU Hotels, Boarding, Restaurants or Catering 4183.639428016876 1955.0\n"
     ]
    },
    {
     "name": "stderr",
     "output_type": "stream",
     "text": [
      "c:\\Users\\felix\\Programmieren\\districtgenerator\\.venv\\Lib\\site-packages\\teaser\\logic\\buildingobjects\\useconditions.py:363: FutureWarning: 'H' is deprecated and will be removed in a future version, please use 'h' instead.\n",
      "  index=pd.date_range(\"2019-01-01 00:00:00\", periods=8760, freq=\"H\")\n",
      "c:\\Users\\felix\\Programmieren\\districtgenerator\\.venv\\Lib\\site-packages\\teaser\\logic\\buildingobjects\\useconditions.py:363: FutureWarning: 'H' is deprecated and will be removed in a future version, please use 'h' instead.\n",
      "  index=pd.date_range(\"2019-01-01 00:00:00\", periods=8760, freq=\"H\")\n"
     ]
    },
    {
     "name": "stdout",
     "output_type": "stream",
     "text": [
      "This is the path: C:\\Users\\felix\\Programmieren\\districtgenerator\\data\\consumption_data\\internal_loads.csv\n",
      "No data for light demand available for IWU Hotels, Boarding, Restaurants or Catering\n",
      "Creating building AB\n",
      "Creating building IWU Transport\n",
      "We are about to generate a Non Residential building.\n",
      "Available building types: ['IWU Office, Administrative or Government Buildings', 'IWU Research and University Teaching', 'IWU Health and Care', 'IWU School, Day Nursery and other Care', 'IWU Culture and Leisure', 'IWU Sports Facilities', 'IWU Hotels, Boarding, Restaurants or Catering', 'IWU Production, Workshop, Warehouse or Operations', 'IWU Trade Buildings', 'IWU Technical and Utility (supply and disposal)', 'IWU Transport', 'IWU Generalized (1) Services building', 'IWU Generalized (2) Production buildings']\n",
      "Current usage: IWU Transport\n",
      "Available building types: ['IWU Office, Administrative or Government Buildings', 'IWU Research and University Teaching', 'IWU Health and Care', 'IWU School, Day Nursery and other Care', 'IWU Culture and Leisure', 'IWU Sports Facilities', 'IWU Hotels, Boarding, Restaurants or Catering', 'IWU Production, Workshop, Warehouse or Operations', 'IWU Trade Buildings', 'IWU Technical and Utility (supply and disposal)', 'IWU Transport', 'IWU Generalized (1) Services building', 'IWU Generalized (2) Production buildings']\n",
      "Current usage: IWU Transport\n",
      "{'ow1': 0.638685232, 'win1': 0.528141959, 'rt1': 0.613666073, 'gf1': 1.275661128}\n",
      "{'ow1': 0.638685232, 'win1': 0.528141959, 'rt1': 0.613666073, 'gf1': 1.275661128} Thesese are the facade estimation factors for building  IWU Transport 94.77068250107834 1905.0\n"
     ]
    },
    {
     "name": "stderr",
     "output_type": "stream",
     "text": [
      "c:\\Users\\felix\\Programmieren\\districtgenerator\\.venv\\Lib\\site-packages\\teaser\\logic\\buildingobjects\\useconditions.py:363: FutureWarning: 'H' is deprecated and will be removed in a future version, please use 'h' instead.\n",
      "  index=pd.date_range(\"2019-01-01 00:00:00\", periods=8760, freq=\"H\")\n",
      "c:\\Users\\felix\\Programmieren\\districtgenerator\\.venv\\Lib\\site-packages\\teaser\\logic\\buildingobjects\\useconditions.py:363: FutureWarning: 'H' is deprecated and will be removed in a future version, please use 'h' instead.\n",
      "  index=pd.date_range(\"2019-01-01 00:00:00\", periods=8760, freq=\"H\")\n"
     ]
    },
    {
     "name": "stdout",
     "output_type": "stream",
     "text": [
      "This is the path: C:\\Users\\felix\\Programmieren\\districtgenerator\\data\\consumption_data\\internal_loads.csv\n",
      "No data for light demand available for IWU Transport\n",
      "Creating building AB\n",
      "Creating building IWU Transport\n",
      "We are about to generate a Non Residential building.\n",
      "Available building types: ['IWU Office, Administrative or Government Buildings', 'IWU Research and University Teaching', 'IWU Health and Care', 'IWU School, Day Nursery and other Care', 'IWU Culture and Leisure', 'IWU Sports Facilities', 'IWU Hotels, Boarding, Restaurants or Catering', 'IWU Production, Workshop, Warehouse or Operations', 'IWU Trade Buildings', 'IWU Technical and Utility (supply and disposal)', 'IWU Transport', 'IWU Generalized (1) Services building', 'IWU Generalized (2) Production buildings']\n",
      "Current usage: IWU Transport\n",
      "Available building types: ['IWU Office, Administrative or Government Buildings', 'IWU Research and University Teaching', 'IWU Health and Care', 'IWU School, Day Nursery and other Care', 'IWU Culture and Leisure', 'IWU Sports Facilities', 'IWU Hotels, Boarding, Restaurants or Catering', 'IWU Production, Workshop, Warehouse or Operations', 'IWU Trade Buildings', 'IWU Technical and Utility (supply and disposal)', 'IWU Transport', 'IWU Generalized (1) Services building', 'IWU Generalized (2) Production buildings']\n",
      "Current usage: IWU Transport\n",
      "{'ow1': 0.638685232, 'win1': 0.528141959, 'rt1': 0.613666073, 'gf1': 1.275661128}\n",
      "{'ow1': 0.638685232, 'win1': 0.528141959, 'rt1': 0.613666073, 'gf1': 1.275661128} Thesese are the facade estimation factors for building  IWU Transport 79.51630149974508 1955.0\n",
      "This is the path: C:\\Users\\felix\\Programmieren\\districtgenerator\\data\\consumption_data\\internal_loads.csv\n",
      "No data for light demand available for IWU Transport\n",
      "Creating building AB\n",
      "Creating building AB\n"
     ]
    },
    {
     "name": "stderr",
     "output_type": "stream",
     "text": [
      "c:\\Users\\felix\\Programmieren\\districtgenerator\\.venv\\Lib\\site-packages\\teaser\\logic\\buildingobjects\\useconditions.py:363: FutureWarning: 'H' is deprecated and will be removed in a future version, please use 'h' instead.\n",
      "  index=pd.date_range(\"2019-01-01 00:00:00\", periods=8760, freq=\"H\")\n",
      "c:\\Users\\felix\\Programmieren\\districtgenerator\\.venv\\Lib\\site-packages\\teaser\\logic\\buildingobjects\\useconditions.py:363: FutureWarning: 'H' is deprecated and will be removed in a future version, please use 'h' instead.\n",
      "  index=pd.date_range(\"2019-01-01 00:00:00\", periods=8760, freq=\"H\")\n"
     ]
    },
    {
     "name": "stdout",
     "output_type": "stream",
     "text": [
      "Creating building AB\n",
      "Creating building IWU Transport\n",
      "We are about to generate a Non Residential building.\n",
      "Available building types: ['IWU Office, Administrative or Government Buildings', 'IWU Research and University Teaching', 'IWU Health and Care', 'IWU School, Day Nursery and other Care', 'IWU Culture and Leisure', 'IWU Sports Facilities', 'IWU Hotels, Boarding, Restaurants or Catering', 'IWU Production, Workshop, Warehouse or Operations', 'IWU Trade Buildings', 'IWU Technical and Utility (supply and disposal)', 'IWU Transport', 'IWU Generalized (1) Services building', 'IWU Generalized (2) Production buildings']\n",
      "Current usage: IWU Transport\n",
      "Available building types: ['IWU Office, Administrative or Government Buildings', 'IWU Research and University Teaching', 'IWU Health and Care', 'IWU School, Day Nursery and other Care', 'IWU Culture and Leisure', 'IWU Sports Facilities', 'IWU Hotels, Boarding, Restaurants or Catering', 'IWU Production, Workshop, Warehouse or Operations', 'IWU Trade Buildings', 'IWU Technical and Utility (supply and disposal)', 'IWU Transport', 'IWU Generalized (1) Services building', 'IWU Generalized (2) Production buildings']\n",
      "Current usage: IWU Transport\n",
      "{'ow1': 0.638685232, 'win1': 0.528141959, 'rt1': 0.613666073, 'gf1': 1.275661128}\n",
      "{'ow1': 0.638685232, 'win1': 0.528141959, 'rt1': 0.613666073, 'gf1': 1.275661128} Thesese are the facade estimation factors for building  IWU Transport 59.11565249879314 1955.0\n",
      "This is the path: C:\\Users\\felix\\Programmieren\\districtgenerator\\data\\consumption_data\\internal_loads.csv\n",
      "No data for light demand available for IWU Transport\n",
      "Creating building AB\n",
      "Creating building AB\n"
     ]
    },
    {
     "name": "stderr",
     "output_type": "stream",
     "text": [
      "c:\\Users\\felix\\Programmieren\\districtgenerator\\.venv\\Lib\\site-packages\\teaser\\logic\\buildingobjects\\useconditions.py:363: FutureWarning: 'H' is deprecated and will be removed in a future version, please use 'h' instead.\n",
      "  index=pd.date_range(\"2019-01-01 00:00:00\", periods=8760, freq=\"H\")\n",
      "c:\\Users\\felix\\Programmieren\\districtgenerator\\.venv\\Lib\\site-packages\\teaser\\logic\\buildingobjects\\useconditions.py:363: FutureWarning: 'H' is deprecated and will be removed in a future version, please use 'h' instead.\n",
      "  index=pd.date_range(\"2019-01-01 00:00:00\", periods=8760, freq=\"H\")\n",
      "c:\\Users\\felix\\Programmieren\\districtgenerator\\.venv\\Lib\\site-packages\\teaser\\logic\\buildingobjects\\useconditions.py:363: FutureWarning: 'H' is deprecated and will be removed in a future version, please use 'h' instead.\n",
      "  index=pd.date_range(\"2019-01-01 00:00:00\", periods=8760, freq=\"H\")\n"
     ]
    },
    {
     "name": "stdout",
     "output_type": "stream",
     "text": [
      "Creating building AB\n",
      "Creating building AB\n"
     ]
    },
    {
     "name": "stderr",
     "output_type": "stream",
     "text": [
      "c:\\Users\\felix\\Programmieren\\districtgenerator\\.venv\\Lib\\site-packages\\teaser\\logic\\buildingobjects\\useconditions.py:363: FutureWarning: 'H' is deprecated and will be removed in a future version, please use 'h' instead.\n",
      "  index=pd.date_range(\"2019-01-01 00:00:00\", periods=8760, freq=\"H\")\n",
      "c:\\Users\\felix\\Programmieren\\districtgenerator\\.venv\\Lib\\site-packages\\teaser\\logic\\buildingobjects\\useconditions.py:363: FutureWarning: 'H' is deprecated and will be removed in a future version, please use 'h' instead.\n",
      "  index=pd.date_range(\"2019-01-01 00:00:00\", periods=8760, freq=\"H\")\n"
     ]
    },
    {
     "name": "stdout",
     "output_type": "stream",
     "text": [
      "Creating building AB\n",
      "Creating building AB\n"
     ]
    },
    {
     "name": "stderr",
     "output_type": "stream",
     "text": [
      "c:\\Users\\felix\\Programmieren\\districtgenerator\\.venv\\Lib\\site-packages\\teaser\\logic\\buildingobjects\\useconditions.py:363: FutureWarning: 'H' is deprecated and will be removed in a future version, please use 'h' instead.\n",
      "  index=pd.date_range(\"2019-01-01 00:00:00\", periods=8760, freq=\"H\")\n",
      "c:\\Users\\felix\\Programmieren\\districtgenerator\\.venv\\Lib\\site-packages\\teaser\\logic\\buildingobjects\\useconditions.py:363: FutureWarning: 'H' is deprecated and will be removed in a future version, please use 'h' instead.\n",
      "  index=pd.date_range(\"2019-01-01 00:00:00\", periods=8760, freq=\"H\")\n"
     ]
    },
    {
     "name": "stdout",
     "output_type": "stream",
     "text": [
      "Creating building AB\n",
      "Creating building AB\n"
     ]
    },
    {
     "name": "stderr",
     "output_type": "stream",
     "text": [
      "c:\\Users\\felix\\Programmieren\\districtgenerator\\.venv\\Lib\\site-packages\\teaser\\logic\\buildingobjects\\useconditions.py:363: FutureWarning: 'H' is deprecated and will be removed in a future version, please use 'h' instead.\n",
      "  index=pd.date_range(\"2019-01-01 00:00:00\", periods=8760, freq=\"H\")\n",
      "c:\\Users\\felix\\Programmieren\\districtgenerator\\.venv\\Lib\\site-packages\\teaser\\logic\\buildingobjects\\useconditions.py:363: FutureWarning: 'H' is deprecated and will be removed in a future version, please use 'h' instead.\n",
      "  index=pd.date_range(\"2019-01-01 00:00:00\", periods=8760, freq=\"H\")\n"
     ]
    },
    {
     "name": "stdout",
     "output_type": "stream",
     "text": [
      "Creating building AB\n",
      "Creating building AB\n"
     ]
    },
    {
     "name": "stderr",
     "output_type": "stream",
     "text": [
      "c:\\Users\\felix\\Programmieren\\districtgenerator\\.venv\\Lib\\site-packages\\teaser\\logic\\buildingobjects\\useconditions.py:363: FutureWarning: 'H' is deprecated and will be removed in a future version, please use 'h' instead.\n",
      "  index=pd.date_range(\"2019-01-01 00:00:00\", periods=8760, freq=\"H\")\n",
      "c:\\Users\\felix\\Programmieren\\districtgenerator\\.venv\\Lib\\site-packages\\teaser\\logic\\buildingobjects\\useconditions.py:363: FutureWarning: 'H' is deprecated and will be removed in a future version, please use 'h' instead.\n",
      "  index=pd.date_range(\"2019-01-01 00:00:00\", periods=8760, freq=\"H\")\n"
     ]
    },
    {
     "name": "stdout",
     "output_type": "stream",
     "text": [
      "Creating building AB\n",
      "Creating building AB\n"
     ]
    },
    {
     "name": "stderr",
     "output_type": "stream",
     "text": [
      "c:\\Users\\felix\\Programmieren\\districtgenerator\\.venv\\Lib\\site-packages\\teaser\\logic\\buildingobjects\\useconditions.py:363: FutureWarning: 'H' is deprecated and will be removed in a future version, please use 'h' instead.\n",
      "  index=pd.date_range(\"2019-01-01 00:00:00\", periods=8760, freq=\"H\")\n",
      "c:\\Users\\felix\\Programmieren\\districtgenerator\\.venv\\Lib\\site-packages\\teaser\\logic\\buildingobjects\\useconditions.py:363: FutureWarning: 'H' is deprecated and will be removed in a future version, please use 'h' instead.\n",
      "  index=pd.date_range(\"2019-01-01 00:00:00\", periods=8760, freq=\"H\")\n"
     ]
    },
    {
     "name": "stdout",
     "output_type": "stream",
     "text": [
      "Creating building AB\n",
      "Creating building AB\n",
      "Creating building IWU School, Day Nursery and other Care\n",
      "We are about to generate a Non Residential building.\n",
      "Available building types: ['IWU Office, Administrative or Government Buildings', 'IWU Research and University Teaching', 'IWU Health and Care', 'IWU School, Day Nursery and other Care', 'IWU Culture and Leisure', 'IWU Sports Facilities', 'IWU Hotels, Boarding, Restaurants or Catering', 'IWU Production, Workshop, Warehouse or Operations', 'IWU Trade Buildings', 'IWU Technical and Utility (supply and disposal)', 'IWU Transport', 'IWU Generalized (1) Services building', 'IWU Generalized (2) Production buildings']\n",
      "Current usage: IWU School, Day Nursery and other Care\n",
      "Available building types: ['IWU Office, Administrative or Government Buildings', 'IWU Research and University Teaching', 'IWU Health and Care', 'IWU School, Day Nursery and other Care', 'IWU Culture and Leisure', 'IWU Sports Facilities', 'IWU Hotels, Boarding, Restaurants or Catering', 'IWU Production, Workshop, Warehouse or Operations', 'IWU Trade Buildings', 'IWU Technical and Utility (supply and disposal)', 'IWU Transport', 'IWU Generalized (1) Services building', 'IWU Generalized (2) Production buildings']\n",
      "Current usage: IWU School, Day Nursery and other Care\n",
      "{'ow1': 0.319407585, 'win1': 0.290388123, 'rt1': 0.400059596, 'gf1': 0.5281331}\n",
      "{'ow1': 0.319407585, 'win1': 0.290388123, 'rt1': 0.400059596, 'gf1': 0.5281331} Thesese are the facade estimation factors for building  IWU School, Day Nursery and other Care 6764.775976019703 1905.0\n",
      "This is the path: C:\\Users\\felix\\Programmieren\\districtgenerator\\data\\consumption_data\\internal_loads.csv\n",
      "No data for light demand available for IWU School, Day Nursery and other Care\n",
      "Creating building AB\n"
     ]
    },
    {
     "name": "stderr",
     "output_type": "stream",
     "text": [
      "c:\\Users\\felix\\Programmieren\\districtgenerator\\.venv\\Lib\\site-packages\\teaser\\logic\\buildingobjects\\useconditions.py:363: FutureWarning: 'H' is deprecated and will be removed in a future version, please use 'h' instead.\n",
      "  index=pd.date_range(\"2019-01-01 00:00:00\", periods=8760, freq=\"H\")\n",
      "c:\\Users\\felix\\Programmieren\\districtgenerator\\.venv\\Lib\\site-packages\\teaser\\logic\\buildingobjects\\useconditions.py:363: FutureWarning: 'H' is deprecated and will be removed in a future version, please use 'h' instead.\n",
      "  index=pd.date_range(\"2019-01-01 00:00:00\", periods=8760, freq=\"H\")\n",
      "c:\\Users\\felix\\Programmieren\\districtgenerator\\.venv\\Lib\\site-packages\\teaser\\logic\\buildingobjects\\useconditions.py:363: FutureWarning: 'H' is deprecated and will be removed in a future version, please use 'h' instead.\n",
      "  index=pd.date_range(\"2019-01-01 00:00:00\", periods=8760, freq=\"H\")\n"
     ]
    },
    {
     "name": "stdout",
     "output_type": "stream",
     "text": [
      "Creating building AB\n",
      "Creating building AB\n",
      "Creating building AB\n"
     ]
    },
    {
     "name": "stderr",
     "output_type": "stream",
     "text": [
      "c:\\Users\\felix\\Programmieren\\districtgenerator\\.venv\\Lib\\site-packages\\teaser\\logic\\buildingobjects\\useconditions.py:363: FutureWarning: 'H' is deprecated and will be removed in a future version, please use 'h' instead.\n",
      "  index=pd.date_range(\"2019-01-01 00:00:00\", periods=8760, freq=\"H\")\n",
      "c:\\Users\\felix\\Programmieren\\districtgenerator\\.venv\\Lib\\site-packages\\teaser\\logic\\buildingobjects\\useconditions.py:363: FutureWarning: 'H' is deprecated and will be removed in a future version, please use 'h' instead.\n",
      "  index=pd.date_range(\"2019-01-01 00:00:00\", periods=8760, freq=\"H\")\n",
      "c:\\Users\\felix\\Programmieren\\districtgenerator\\.venv\\Lib\\site-packages\\teaser\\logic\\buildingobjects\\useconditions.py:363: FutureWarning: 'H' is deprecated and will be removed in a future version, please use 'h' instead.\n",
      "  index=pd.date_range(\"2019-01-01 00:00:00\", periods=8760, freq=\"H\")\n"
     ]
    },
    {
     "name": "stdout",
     "output_type": "stream",
     "text": [
      "Creating building AB\n",
      "Creating building IWU Transport\n",
      "We are about to generate a Non Residential building.\n",
      "Available building types: ['IWU Office, Administrative or Government Buildings', 'IWU Research and University Teaching', 'IWU Health and Care', 'IWU School, Day Nursery and other Care', 'IWU Culture and Leisure', 'IWU Sports Facilities', 'IWU Hotels, Boarding, Restaurants or Catering', 'IWU Production, Workshop, Warehouse or Operations', 'IWU Trade Buildings', 'IWU Technical and Utility (supply and disposal)', 'IWU Transport', 'IWU Generalized (1) Services building', 'IWU Generalized (2) Production buildings']\n",
      "Current usage: IWU Transport\n",
      "Available building types: ['IWU Office, Administrative or Government Buildings', 'IWU Research and University Teaching', 'IWU Health and Care', 'IWU School, Day Nursery and other Care', 'IWU Culture and Leisure', 'IWU Sports Facilities', 'IWU Hotels, Boarding, Restaurants or Catering', 'IWU Production, Workshop, Warehouse or Operations', 'IWU Trade Buildings', 'IWU Technical and Utility (supply and disposal)', 'IWU Transport', 'IWU Generalized (1) Services building', 'IWU Generalized (2) Production buildings']\n",
      "Current usage: IWU Transport\n",
      "{'ow1': 0.638685232, 'win1': 0.528141959, 'rt1': 0.613666073, 'gf1': 1.275661128}\n",
      "{'ow1': 0.638685232, 'win1': 0.528141959, 'rt1': 0.613666073, 'gf1': 1.275661128} Thesese are the facade estimation factors for building  IWU Transport 48.38703800139725 1905.0\n",
      "This is the path: C:\\Users\\felix\\Programmieren\\districtgenerator\\data\\consumption_data\\internal_loads.csv\n",
      "No data for light demand available for IWU Transport\n",
      "Creating building AB\n",
      "Creating building AB\n"
     ]
    },
    {
     "name": "stderr",
     "output_type": "stream",
     "text": [
      "c:\\Users\\felix\\Programmieren\\districtgenerator\\.venv\\Lib\\site-packages\\teaser\\logic\\buildingobjects\\useconditions.py:363: FutureWarning: 'H' is deprecated and will be removed in a future version, please use 'h' instead.\n",
      "  index=pd.date_range(\"2019-01-01 00:00:00\", periods=8760, freq=\"H\")\n",
      "c:\\Users\\felix\\Programmieren\\districtgenerator\\.venv\\Lib\\site-packages\\teaser\\logic\\buildingobjects\\useconditions.py:363: FutureWarning: 'H' is deprecated and will be removed in a future version, please use 'h' instead.\n",
      "  index=pd.date_range(\"2019-01-01 00:00:00\", periods=8760, freq=\"H\")\n",
      "c:\\Users\\felix\\Programmieren\\districtgenerator\\.venv\\Lib\\site-packages\\teaser\\logic\\buildingobjects\\useconditions.py:363: FutureWarning: 'H' is deprecated and will be removed in a future version, please use 'h' instead.\n",
      "  index=pd.date_range(\"2019-01-01 00:00:00\", periods=8760, freq=\"H\")\n"
     ]
    },
    {
     "name": "stdout",
     "output_type": "stream",
     "text": [
      "Creating building AB\n",
      "Creating building AB\n"
     ]
    },
    {
     "name": "stderr",
     "output_type": "stream",
     "text": [
      "c:\\Users\\felix\\Programmieren\\districtgenerator\\.venv\\Lib\\site-packages\\teaser\\logic\\buildingobjects\\useconditions.py:363: FutureWarning: 'H' is deprecated and will be removed in a future version, please use 'h' instead.\n",
      "  index=pd.date_range(\"2019-01-01 00:00:00\", periods=8760, freq=\"H\")\n",
      "c:\\Users\\felix\\Programmieren\\districtgenerator\\.venv\\Lib\\site-packages\\teaser\\logic\\buildingobjects\\useconditions.py:363: FutureWarning: 'H' is deprecated and will be removed in a future version, please use 'h' instead.\n",
      "  index=pd.date_range(\"2019-01-01 00:00:00\", periods=8760, freq=\"H\")\n"
     ]
    },
    {
     "name": "stdout",
     "output_type": "stream",
     "text": [
      "Creating building AB\n",
      "Creating building AB\n"
     ]
    },
    {
     "name": "stderr",
     "output_type": "stream",
     "text": [
      "c:\\Users\\felix\\Programmieren\\districtgenerator\\.venv\\Lib\\site-packages\\teaser\\logic\\buildingobjects\\useconditions.py:363: FutureWarning: 'H' is deprecated and will be removed in a future version, please use 'h' instead.\n",
      "  index=pd.date_range(\"2019-01-01 00:00:00\", periods=8760, freq=\"H\")\n",
      "c:\\Users\\felix\\Programmieren\\districtgenerator\\.venv\\Lib\\site-packages\\teaser\\logic\\buildingobjects\\useconditions.py:363: FutureWarning: 'H' is deprecated and will be removed in a future version, please use 'h' instead.\n",
      "  index=pd.date_range(\"2019-01-01 00:00:00\", periods=8760, freq=\"H\")\n"
     ]
    },
    {
     "name": "stdout",
     "output_type": "stream",
     "text": [
      "Creating building AB\n"
     ]
    },
    {
     "name": "stderr",
     "output_type": "stream",
     "text": [
      "c:\\Users\\felix\\Programmieren\\districtgenerator\\.venv\\Lib\\site-packages\\teaser\\logic\\buildingobjects\\useconditions.py:363: FutureWarning: 'H' is deprecated and will be removed in a future version, please use 'h' instead.\n",
      "  index=pd.date_range(\"2019-01-01 00:00:00\", periods=8760, freq=\"H\")\n"
     ]
    },
    {
     "name": "stdout",
     "output_type": "stream",
     "text": [
      "Creating building IWU Trade Buildings\n",
      "We are about to generate a Non Residential building.\n",
      "Available building types: ['IWU Office, Administrative or Government Buildings', 'IWU Research and University Teaching', 'IWU Health and Care', 'IWU School, Day Nursery and other Care', 'IWU Culture and Leisure', 'IWU Sports Facilities', 'IWU Hotels, Boarding, Restaurants or Catering', 'IWU Production, Workshop, Warehouse or Operations', 'IWU Trade Buildings', 'IWU Technical and Utility (supply and disposal)', 'IWU Transport', 'IWU Generalized (1) Services building', 'IWU Generalized (2) Production buildings']\n",
      "Current usage: IWU Trade Buildings\n",
      "Available building types: ['IWU Office, Administrative or Government Buildings', 'IWU Research and University Teaching', 'IWU Health and Care', 'IWU School, Day Nursery and other Care', 'IWU Culture and Leisure', 'IWU Sports Facilities', 'IWU Hotels, Boarding, Restaurants or Catering', 'IWU Production, Workshop, Warehouse or Operations', 'IWU Trade Buildings', 'IWU Technical and Utility (supply and disposal)', 'IWU Transport', 'IWU Generalized (1) Services building', 'IWU Generalized (2) Production buildings']\n",
      "Current usage: IWU Trade Buildings\n",
      "{'ow1': 0.368695829, 'win1': 0.11100406, 'rt1': 0.874472474, 'gf1': 0.873243839}\n",
      "{'ow1': 0.368695829, 'win1': 0.11100406, 'rt1': 0.874472474, 'gf1': 0.873243839} Thesese are the facade estimation factors for building  IWU Trade Buildings 118.17492500458371 1905.0\n",
      "This is the path: C:\\Users\\felix\\Programmieren\\districtgenerator\\data\\consumption_data\\internal_loads.csv\n",
      "No data for light demand available for IWU Trade Buildings\n",
      "Creating building AB\n",
      "Creating building AB\n"
     ]
    },
    {
     "name": "stderr",
     "output_type": "stream",
     "text": [
      "c:\\Users\\felix\\Programmieren\\districtgenerator\\.venv\\Lib\\site-packages\\teaser\\logic\\buildingobjects\\useconditions.py:363: FutureWarning: 'H' is deprecated and will be removed in a future version, please use 'h' instead.\n",
      "  index=pd.date_range(\"2019-01-01 00:00:00\", periods=8760, freq=\"H\")\n",
      "c:\\Users\\felix\\Programmieren\\districtgenerator\\.venv\\Lib\\site-packages\\teaser\\logic\\buildingobjects\\useconditions.py:363: FutureWarning: 'H' is deprecated and will be removed in a future version, please use 'h' instead.\n",
      "  index=pd.date_range(\"2019-01-01 00:00:00\", periods=8760, freq=\"H\")\n",
      "c:\\Users\\felix\\Programmieren\\districtgenerator\\.venv\\Lib\\site-packages\\teaser\\logic\\buildingobjects\\useconditions.py:363: FutureWarning: 'H' is deprecated and will be removed in a future version, please use 'h' instead.\n",
      "  index=pd.date_range(\"2019-01-01 00:00:00\", periods=8760, freq=\"H\")\n"
     ]
    },
    {
     "name": "stdout",
     "output_type": "stream",
     "text": [
      "Creating building AB\n",
      "Creating building AB\n",
      "Creating building AB\n"
     ]
    },
    {
     "name": "stderr",
     "output_type": "stream",
     "text": [
      "c:\\Users\\felix\\Programmieren\\districtgenerator\\.venv\\Lib\\site-packages\\teaser\\logic\\buildingobjects\\useconditions.py:363: FutureWarning: 'H' is deprecated and will be removed in a future version, please use 'h' instead.\n",
      "  index=pd.date_range(\"2019-01-01 00:00:00\", periods=8760, freq=\"H\")\n",
      "c:\\Users\\felix\\Programmieren\\districtgenerator\\.venv\\Lib\\site-packages\\teaser\\logic\\buildingobjects\\useconditions.py:363: FutureWarning: 'H' is deprecated and will be removed in a future version, please use 'h' instead.\n",
      "  index=pd.date_range(\"2019-01-01 00:00:00\", periods=8760, freq=\"H\")\n",
      "c:\\Users\\felix\\Programmieren\\districtgenerator\\.venv\\Lib\\site-packages\\teaser\\logic\\buildingobjects\\useconditions.py:363: FutureWarning: 'H' is deprecated and will be removed in a future version, please use 'h' instead.\n",
      "  index=pd.date_range(\"2019-01-01 00:00:00\", periods=8760, freq=\"H\")\n"
     ]
    },
    {
     "name": "stdout",
     "output_type": "stream",
     "text": [
      "Creating building AB\n",
      "Creating building AB\n",
      "Creating building IWU School, Day Nursery and other Care\n",
      "We are about to generate a Non Residential building.\n",
      "Available building types: ['IWU Office, Administrative or Government Buildings', 'IWU Research and University Teaching', 'IWU Health and Care', 'IWU School, Day Nursery and other Care', 'IWU Culture and Leisure', 'IWU Sports Facilities', 'IWU Hotels, Boarding, Restaurants or Catering', 'IWU Production, Workshop, Warehouse or Operations', 'IWU Trade Buildings', 'IWU Technical and Utility (supply and disposal)', 'IWU Transport', 'IWU Generalized (1) Services building', 'IWU Generalized (2) Production buildings']\n",
      "Current usage: IWU School, Day Nursery and other Care\n",
      "Available building types: ['IWU Office, Administrative or Government Buildings', 'IWU Research and University Teaching', 'IWU Health and Care', 'IWU School, Day Nursery and other Care', 'IWU Culture and Leisure', 'IWU Sports Facilities', 'IWU Hotels, Boarding, Restaurants or Catering', 'IWU Production, Workshop, Warehouse or Operations', 'IWU Trade Buildings', 'IWU Technical and Utility (supply and disposal)', 'IWU Transport', 'IWU Generalized (1) Services building', 'IWU Generalized (2) Production buildings']\n",
      "Current usage: IWU School, Day Nursery and other Care\n",
      "{'ow1': 0.319407585, 'win1': 0.290388123, 'rt1': 0.400059596, 'gf1': 0.5281331}\n",
      "{'ow1': 0.319407585, 'win1': 0.290388123, 'rt1': 0.400059596, 'gf1': 0.5281331} Thesese are the facade estimation factors for building  IWU School, Day Nursery and other Care 26376.76230003269 1905.0\n"
     ]
    },
    {
     "name": "stderr",
     "output_type": "stream",
     "text": [
      "c:\\Users\\felix\\Programmieren\\districtgenerator\\.venv\\Lib\\site-packages\\teaser\\logic\\buildingobjects\\useconditions.py:363: FutureWarning: 'H' is deprecated and will be removed in a future version, please use 'h' instead.\n",
      "  index=pd.date_range(\"2019-01-01 00:00:00\", periods=8760, freq=\"H\")\n",
      "c:\\Users\\felix\\Programmieren\\districtgenerator\\.venv\\Lib\\site-packages\\teaser\\logic\\buildingobjects\\useconditions.py:363: FutureWarning: 'H' is deprecated and will be removed in a future version, please use 'h' instead.\n",
      "  index=pd.date_range(\"2019-01-01 00:00:00\", periods=8760, freq=\"H\")\n",
      "c:\\Users\\felix\\Programmieren\\districtgenerator\\.venv\\Lib\\site-packages\\teaser\\logic\\buildingobjects\\useconditions.py:363: FutureWarning: 'H' is deprecated and will be removed in a future version, please use 'h' instead.\n",
      "  index=pd.date_range(\"2019-01-01 00:00:00\", periods=8760, freq=\"H\")\n"
     ]
    },
    {
     "name": "stdout",
     "output_type": "stream",
     "text": [
      "This is the path: C:\\Users\\felix\\Programmieren\\districtgenerator\\data\\consumption_data\\internal_loads.csv\n",
      "No data for light demand available for IWU School, Day Nursery and other Care\n",
      "Creating building AB\n",
      "Creating building AB\n",
      "Creating building AB\n",
      "Creating building IWU Research and University Teaching\n",
      "We are about to generate a Non Residential building.\n",
      "Available building types: ['IWU Office, Administrative or Government Buildings', 'IWU Research and University Teaching', 'IWU Health and Care', 'IWU School, Day Nursery and other Care', 'IWU Culture and Leisure', 'IWU Sports Facilities', 'IWU Hotels, Boarding, Restaurants or Catering', 'IWU Production, Workshop, Warehouse or Operations', 'IWU Trade Buildings', 'IWU Technical and Utility (supply and disposal)', 'IWU Transport', 'IWU Generalized (1) Services building', 'IWU Generalized (2) Production buildings']\n",
      "Current usage: IWU Research and University Teaching\n",
      "Available building types: ['IWU Office, Administrative or Government Buildings', 'IWU Research and University Teaching', 'IWU Health and Care', 'IWU School, Day Nursery and other Care', 'IWU Culture and Leisure', 'IWU Sports Facilities', 'IWU Hotels, Boarding, Restaurants or Catering', 'IWU Production, Workshop, Warehouse or Operations', 'IWU Trade Buildings', 'IWU Technical and Utility (supply and disposal)', 'IWU Transport', 'IWU Generalized (1) Services building', 'IWU Generalized (2) Production buildings']\n",
      "Current usage: IWU Research and University Teaching\n",
      "{'ow1': 0.302686357, 'win1': 0.245921107, 'rt1': 0.307373181, 'gf1': 0.655684013}\n",
      "{'ow1': 0.302686357, 'win1': 0.245921107, 'rt1': 0.307373181, 'gf1': 0.655684013} Thesese are the facade estimation factors for building  IWU Research and University Teaching 11421.851552955486 1905.0\n",
      "This is the path: C:\\Users\\felix\\Programmieren\\districtgenerator\\data\\consumption_data\\internal_loads.csv\n",
      "No data for light demand available for IWU Research and University Teaching\n",
      "Creating building AB\n"
     ]
    },
    {
     "name": "stderr",
     "output_type": "stream",
     "text": [
      "c:\\Users\\felix\\Programmieren\\districtgenerator\\.venv\\Lib\\site-packages\\teaser\\logic\\buildingobjects\\useconditions.py:363: FutureWarning: 'H' is deprecated and will be removed in a future version, please use 'h' instead.\n",
      "  index=pd.date_range(\"2019-01-01 00:00:00\", periods=8760, freq=\"H\")\n",
      "c:\\Users\\felix\\Programmieren\\districtgenerator\\.venv\\Lib\\site-packages\\teaser\\logic\\buildingobjects\\useconditions.py:363: FutureWarning: 'H' is deprecated and will be removed in a future version, please use 'h' instead.\n",
      "  index=pd.date_range(\"2019-01-01 00:00:00\", periods=8760, freq=\"H\")\n"
     ]
    },
    {
     "name": "stdout",
     "output_type": "stream",
     "text": [
      "Creating building AB\n",
      "Creating building AB\n"
     ]
    },
    {
     "name": "stderr",
     "output_type": "stream",
     "text": [
      "c:\\Users\\felix\\Programmieren\\districtgenerator\\.venv\\Lib\\site-packages\\teaser\\logic\\buildingobjects\\useconditions.py:363: FutureWarning: 'H' is deprecated and will be removed in a future version, please use 'h' instead.\n",
      "  index=pd.date_range(\"2019-01-01 00:00:00\", periods=8760, freq=\"H\")\n",
      "c:\\Users\\felix\\Programmieren\\districtgenerator\\.venv\\Lib\\site-packages\\teaser\\logic\\buildingobjects\\useconditions.py:363: FutureWarning: 'H' is deprecated and will be removed in a future version, please use 'h' instead.\n",
      "  index=pd.date_range(\"2019-01-01 00:00:00\", periods=8760, freq=\"H\")\n"
     ]
    },
    {
     "name": "stdout",
     "output_type": "stream",
     "text": [
      "Creating building AB\n",
      "Creating building AB\n",
      "Creating building AB\n"
     ]
    },
    {
     "name": "stderr",
     "output_type": "stream",
     "text": [
      "c:\\Users\\felix\\Programmieren\\districtgenerator\\.venv\\Lib\\site-packages\\teaser\\logic\\buildingobjects\\useconditions.py:363: FutureWarning: 'H' is deprecated and will be removed in a future version, please use 'h' instead.\n",
      "  index=pd.date_range(\"2019-01-01 00:00:00\", periods=8760, freq=\"H\")\n",
      "c:\\Users\\felix\\Programmieren\\districtgenerator\\.venv\\Lib\\site-packages\\teaser\\logic\\buildingobjects\\useconditions.py:363: FutureWarning: 'H' is deprecated and will be removed in a future version, please use 'h' instead.\n",
      "  index=pd.date_range(\"2019-01-01 00:00:00\", periods=8760, freq=\"H\")\n",
      "c:\\Users\\felix\\Programmieren\\districtgenerator\\.venv\\Lib\\site-packages\\teaser\\logic\\buildingobjects\\useconditions.py:363: FutureWarning: 'H' is deprecated and will be removed in a future version, please use 'h' instead.\n",
      "  index=pd.date_range(\"2019-01-01 00:00:00\", periods=8760, freq=\"H\")\n"
     ]
    },
    {
     "name": "stdout",
     "output_type": "stream",
     "text": [
      "Creating building AB\n",
      "Creating building AB\n",
      "Creating building AB\n"
     ]
    },
    {
     "name": "stderr",
     "output_type": "stream",
     "text": [
      "c:\\Users\\felix\\Programmieren\\districtgenerator\\.venv\\Lib\\site-packages\\teaser\\logic\\buildingobjects\\useconditions.py:363: FutureWarning: 'H' is deprecated and will be removed in a future version, please use 'h' instead.\n",
      "  index=pd.date_range(\"2019-01-01 00:00:00\", periods=8760, freq=\"H\")\n",
      "c:\\Users\\felix\\Programmieren\\districtgenerator\\.venv\\Lib\\site-packages\\teaser\\logic\\buildingobjects\\useconditions.py:363: FutureWarning: 'H' is deprecated and will be removed in a future version, please use 'h' instead.\n",
      "  index=pd.date_range(\"2019-01-01 00:00:00\", periods=8760, freq=\"H\")\n",
      "c:\\Users\\felix\\Programmieren\\districtgenerator\\.venv\\Lib\\site-packages\\teaser\\logic\\buildingobjects\\useconditions.py:363: FutureWarning: 'H' is deprecated and will be removed in a future version, please use 'h' instead.\n",
      "  index=pd.date_range(\"2019-01-01 00:00:00\", periods=8760, freq=\"H\")\n"
     ]
    },
    {
     "name": "stdout",
     "output_type": "stream",
     "text": [
      "Creating building AB\n",
      "Creating building AB\n",
      "Creating building AB\n"
     ]
    },
    {
     "name": "stderr",
     "output_type": "stream",
     "text": [
      "c:\\Users\\felix\\Programmieren\\districtgenerator\\.venv\\Lib\\site-packages\\teaser\\logic\\buildingobjects\\useconditions.py:363: FutureWarning: 'H' is deprecated and will be removed in a future version, please use 'h' instead.\n",
      "  index=pd.date_range(\"2019-01-01 00:00:00\", periods=8760, freq=\"H\")\n",
      "c:\\Users\\felix\\Programmieren\\districtgenerator\\.venv\\Lib\\site-packages\\teaser\\logic\\buildingobjects\\useconditions.py:363: FutureWarning: 'H' is deprecated and will be removed in a future version, please use 'h' instead.\n",
      "  index=pd.date_range(\"2019-01-01 00:00:00\", periods=8760, freq=\"H\")\n",
      "c:\\Users\\felix\\Programmieren\\districtgenerator\\.venv\\Lib\\site-packages\\teaser\\logic\\buildingobjects\\useconditions.py:363: FutureWarning: 'H' is deprecated and will be removed in a future version, please use 'h' instead.\n",
      "  index=pd.date_range(\"2019-01-01 00:00:00\", periods=8760, freq=\"H\")\n"
     ]
    },
    {
     "name": "stdout",
     "output_type": "stream",
     "text": [
      "Creating building AB\n",
      "Creating building AB\n"
     ]
    },
    {
     "name": "stderr",
     "output_type": "stream",
     "text": [
      "c:\\Users\\felix\\Programmieren\\districtgenerator\\.venv\\Lib\\site-packages\\teaser\\logic\\buildingobjects\\useconditions.py:363: FutureWarning: 'H' is deprecated and will be removed in a future version, please use 'h' instead.\n",
      "  index=pd.date_range(\"2019-01-01 00:00:00\", periods=8760, freq=\"H\")\n",
      "c:\\Users\\felix\\Programmieren\\districtgenerator\\.venv\\Lib\\site-packages\\teaser\\logic\\buildingobjects\\useconditions.py:363: FutureWarning: 'H' is deprecated and will be removed in a future version, please use 'h' instead.\n",
      "  index=pd.date_range(\"2019-01-01 00:00:00\", periods=8760, freq=\"H\")\n"
     ]
    },
    {
     "name": "stdout",
     "output_type": "stream",
     "text": [
      "Creating building AB\n",
      "Creating building AB\n"
     ]
    },
    {
     "name": "stderr",
     "output_type": "stream",
     "text": [
      "c:\\Users\\felix\\Programmieren\\districtgenerator\\.venv\\Lib\\site-packages\\teaser\\logic\\buildingobjects\\useconditions.py:363: FutureWarning: 'H' is deprecated and will be removed in a future version, please use 'h' instead.\n",
      "  index=pd.date_range(\"2019-01-01 00:00:00\", periods=8760, freq=\"H\")\n",
      "c:\\Users\\felix\\Programmieren\\districtgenerator\\.venv\\Lib\\site-packages\\teaser\\logic\\buildingobjects\\useconditions.py:363: FutureWarning: 'H' is deprecated and will be removed in a future version, please use 'h' instead.\n",
      "  index=pd.date_range(\"2019-01-01 00:00:00\", periods=8760, freq=\"H\")\n"
     ]
    },
    {
     "name": "stdout",
     "output_type": "stream",
     "text": [
      "Creating building AB\n",
      "Creating building AB\n",
      "Creating building AB\n"
     ]
    },
    {
     "name": "stderr",
     "output_type": "stream",
     "text": [
      "c:\\Users\\felix\\Programmieren\\districtgenerator\\.venv\\Lib\\site-packages\\teaser\\logic\\buildingobjects\\useconditions.py:363: FutureWarning: 'H' is deprecated and will be removed in a future version, please use 'h' instead.\n",
      "  index=pd.date_range(\"2019-01-01 00:00:00\", periods=8760, freq=\"H\")\n",
      "c:\\Users\\felix\\Programmieren\\districtgenerator\\.venv\\Lib\\site-packages\\teaser\\logic\\buildingobjects\\useconditions.py:363: FutureWarning: 'H' is deprecated and will be removed in a future version, please use 'h' instead.\n",
      "  index=pd.date_range(\"2019-01-01 00:00:00\", periods=8760, freq=\"H\")\n",
      "c:\\Users\\felix\\Programmieren\\districtgenerator\\.venv\\Lib\\site-packages\\teaser\\logic\\buildingobjects\\useconditions.py:363: FutureWarning: 'H' is deprecated and will be removed in a future version, please use 'h' instead.\n",
      "  index=pd.date_range(\"2019-01-01 00:00:00\", periods=8760, freq=\"H\")\n"
     ]
    },
    {
     "name": "stdout",
     "output_type": "stream",
     "text": [
      "Creating building IWU Culture and Leisure\n",
      "We are about to generate a Non Residential building.\n",
      "Available building types: ['IWU Office, Administrative or Government Buildings', 'IWU Research and University Teaching', 'IWU Health and Care', 'IWU School, Day Nursery and other Care', 'IWU Culture and Leisure', 'IWU Sports Facilities', 'IWU Hotels, Boarding, Restaurants or Catering', 'IWU Production, Workshop, Warehouse or Operations', 'IWU Trade Buildings', 'IWU Technical and Utility (supply and disposal)', 'IWU Transport', 'IWU Generalized (1) Services building', 'IWU Generalized (2) Production buildings']\n",
      "Current usage: IWU Culture and Leisure\n",
      "Available building types: ['IWU Office, Administrative or Government Buildings', 'IWU Research and University Teaching', 'IWU Health and Care', 'IWU School, Day Nursery and other Care', 'IWU Culture and Leisure', 'IWU Sports Facilities', 'IWU Hotels, Boarding, Restaurants or Catering', 'IWU Production, Workshop, Warehouse or Operations', 'IWU Trade Buildings', 'IWU Technical and Utility (supply and disposal)', 'IWU Transport', 'IWU Generalized (1) Services building', 'IWU Generalized (2) Production buildings']\n",
      "Current usage: IWU Culture and Leisure\n",
      "{'ow1': 0.481897466, 'win1': 0.264483462, 'rt1': 0.453292314, 'gf1': 0.411836884}\n",
      "{'ow1': 0.481897466, 'win1': 0.264483462, 'rt1': 0.453292314, 'gf1': 0.411836884} Thesese are the facade estimation factors for building  IWU Culture and Leisure 2725.488602507085 1905.0\n",
      "This is the path: C:\\Users\\felix\\Programmieren\\districtgenerator\\data\\consumption_data\\internal_loads.csv\n",
      "No data for light demand available for IWU Culture and Leisure\n",
      "Creating building AB\n"
     ]
    },
    {
     "name": "stderr",
     "output_type": "stream",
     "text": [
      "c:\\Users\\felix\\Programmieren\\districtgenerator\\.venv\\Lib\\site-packages\\teaser\\logic\\buildingobjects\\useconditions.py:363: FutureWarning: 'H' is deprecated and will be removed in a future version, please use 'h' instead.\n",
      "  index=pd.date_range(\"2019-01-01 00:00:00\", periods=8760, freq=\"H\")\n",
      "c:\\Users\\felix\\Programmieren\\districtgenerator\\.venv\\Lib\\site-packages\\teaser\\logic\\buildingobjects\\useconditions.py:363: FutureWarning: 'H' is deprecated and will be removed in a future version, please use 'h' instead.\n",
      "  index=pd.date_range(\"2019-01-01 00:00:00\", periods=8760, freq=\"H\")\n"
     ]
    },
    {
     "name": "stdout",
     "output_type": "stream",
     "text": [
      "Creating building AB\n",
      "Creating building AB\n"
     ]
    },
    {
     "name": "stderr",
     "output_type": "stream",
     "text": [
      "c:\\Users\\felix\\Programmieren\\districtgenerator\\.venv\\Lib\\site-packages\\teaser\\logic\\buildingobjects\\useconditions.py:363: FutureWarning: 'H' is deprecated and will be removed in a future version, please use 'h' instead.\n",
      "  index=pd.date_range(\"2019-01-01 00:00:00\", periods=8760, freq=\"H\")\n",
      "c:\\Users\\felix\\Programmieren\\districtgenerator\\.venv\\Lib\\site-packages\\teaser\\logic\\buildingobjects\\useconditions.py:363: FutureWarning: 'H' is deprecated and will be removed in a future version, please use 'h' instead.\n",
      "  index=pd.date_range(\"2019-01-01 00:00:00\", periods=8760, freq=\"H\")\n"
     ]
    },
    {
     "name": "stdout",
     "output_type": "stream",
     "text": [
      "Creating building IWU Research and University Teaching\n",
      "We are about to generate a Non Residential building.\n",
      "Available building types: ['IWU Office, Administrative or Government Buildings', 'IWU Research and University Teaching', 'IWU Health and Care', 'IWU School, Day Nursery and other Care', 'IWU Culture and Leisure', 'IWU Sports Facilities', 'IWU Hotels, Boarding, Restaurants or Catering', 'IWU Production, Workshop, Warehouse or Operations', 'IWU Trade Buildings', 'IWU Technical and Utility (supply and disposal)', 'IWU Transport', 'IWU Generalized (1) Services building', 'IWU Generalized (2) Production buildings']\n",
      "Current usage: IWU Research and University Teaching\n",
      "Available building types: ['IWU Office, Administrative or Government Buildings', 'IWU Research and University Teaching', 'IWU Health and Care', 'IWU School, Day Nursery and other Care', 'IWU Culture and Leisure', 'IWU Sports Facilities', 'IWU Hotels, Boarding, Restaurants or Catering', 'IWU Production, Workshop, Warehouse or Operations', 'IWU Trade Buildings', 'IWU Technical and Utility (supply and disposal)', 'IWU Transport', 'IWU Generalized (1) Services building', 'IWU Generalized (2) Production buildings']\n",
      "Current usage: IWU Research and University Teaching\n",
      "{'ow1': 0.302686357, 'win1': 0.245921107, 'rt1': 0.307373181, 'gf1': 0.655684013}\n",
      "{'ow1': 0.302686357, 'win1': 0.245921107, 'rt1': 0.307373181, 'gf1': 0.655684013} Thesese are the facade estimation factors for building  IWU Research and University Teaching 31.584837001342905 1905.0\n",
      "This is the path: C:\\Users\\felix\\Programmieren\\districtgenerator\\data\\consumption_data\\internal_loads.csv\n",
      "No data for light demand available for IWU Research and University Teaching\n",
      "Creating building AB\n",
      "Creating building AB\n"
     ]
    },
    {
     "name": "stderr",
     "output_type": "stream",
     "text": [
      "c:\\Users\\felix\\Programmieren\\districtgenerator\\.venv\\Lib\\site-packages\\teaser\\logic\\buildingobjects\\useconditions.py:363: FutureWarning: 'H' is deprecated and will be removed in a future version, please use 'h' instead.\n",
      "  index=pd.date_range(\"2019-01-01 00:00:00\", periods=8760, freq=\"H\")\n",
      "c:\\Users\\felix\\Programmieren\\districtgenerator\\.venv\\Lib\\site-packages\\teaser\\logic\\buildingobjects\\useconditions.py:363: FutureWarning: 'H' is deprecated and will be removed in a future version, please use 'h' instead.\n",
      "  index=pd.date_range(\"2019-01-01 00:00:00\", periods=8760, freq=\"H\")\n"
     ]
    },
    {
     "name": "stdout",
     "output_type": "stream",
     "text": [
      "Creating building AB\n",
      "Creating building AB\n"
     ]
    },
    {
     "name": "stderr",
     "output_type": "stream",
     "text": [
      "c:\\Users\\felix\\Programmieren\\districtgenerator\\.venv\\Lib\\site-packages\\teaser\\logic\\buildingobjects\\useconditions.py:363: FutureWarning: 'H' is deprecated and will be removed in a future version, please use 'h' instead.\n",
      "  index=pd.date_range(\"2019-01-01 00:00:00\", periods=8760, freq=\"H\")\n",
      "c:\\Users\\felix\\Programmieren\\districtgenerator\\functions\\light_demand.py:121: FutureWarning: Setting an item of incompatible dtype is deprecated and will raise an error in a future version of pandas. Value '[143870.30273495 431610.90820486 431610.90820486 ... 503546.05957234\n",
      " 431610.90820486 143870.30273495]' has dtype incompatible with int64, please explicitly cast to a compatible dtype first.\n",
      "  lighting_demand[mask] = lighting_load * area * occupancy_schedule[\"OCCUPANCY\"][mask]  # Calculate energy demand\n",
      "c:\\Users\\felix\\Programmieren\\districtgenerator\\.venv\\Lib\\site-packages\\teaser\\logic\\buildingobjects\\useconditions.py:363: FutureWarning: 'H' is deprecated and will be removed in a future version, please use 'h' instead.\n",
      "  index=pd.date_range(\"2019-01-01 00:00:00\", periods=8760, freq=\"H\")\n"
     ]
    },
    {
     "name": "stdout",
     "output_type": "stream",
     "text": [
      "Creating building IWU Office, Administrative or Government Buildings\n",
      "We are about to generate a Non Residential building.\n",
      "Available building types: ['IWU Office, Administrative or Government Buildings', 'IWU Research and University Teaching', 'IWU Health and Care', 'IWU School, Day Nursery and other Care', 'IWU Culture and Leisure', 'IWU Sports Facilities', 'IWU Hotels, Boarding, Restaurants or Catering', 'IWU Production, Workshop, Warehouse or Operations', 'IWU Trade Buildings', 'IWU Technical and Utility (supply and disposal)', 'IWU Transport', 'IWU Generalized (1) Services building', 'IWU Generalized (2) Production buildings']\n",
      "Current usage: IWU Office, Administrative or Government Buildings\n",
      "Available building types: ['IWU Office, Administrative or Government Buildings', 'IWU Research and University Teaching', 'IWU Health and Care', 'IWU School, Day Nursery and other Care', 'IWU Culture and Leisure', 'IWU Sports Facilities', 'IWU Hotels, Boarding, Restaurants or Catering', 'IWU Production, Workshop, Warehouse or Operations', 'IWU Trade Buildings', 'IWU Technical and Utility (supply and disposal)', 'IWU Transport', 'IWU Generalized (1) Services building', 'IWU Generalized (2) Production buildings']\n",
      "Current usage: IWU Office, Administrative or Government Buildings\n",
      "{'ow1': 0.367275866, 'win1': 0.214412826, 'rt1': 0.395549717, 'gf1': 0.506728916}\n",
      "{'ow1': 0.367275866, 'win1': 0.214412826, 'rt1': 0.395549717, 'gf1': 0.506728916} Thesese are the facade estimation factors for building  IWU Office, Administrative or Government Buildings 45242.23356445123 1925.0\n",
      "This is the path: C:\\Users\\felix\\Programmieren\\districtgenerator\\data\\consumption_data\\internal_loads.csv\n",
      "Creating building AB\n",
      "Creating building AB\n",
      "Creating building AB\n"
     ]
    },
    {
     "name": "stderr",
     "output_type": "stream",
     "text": [
      "c:\\Users\\felix\\Programmieren\\districtgenerator\\.venv\\Lib\\site-packages\\teaser\\logic\\buildingobjects\\useconditions.py:363: FutureWarning: 'H' is deprecated and will be removed in a future version, please use 'h' instead.\n",
      "  index=pd.date_range(\"2019-01-01 00:00:00\", periods=8760, freq=\"H\")\n",
      "c:\\Users\\felix\\Programmieren\\districtgenerator\\.venv\\Lib\\site-packages\\teaser\\logic\\buildingobjects\\useconditions.py:363: FutureWarning: 'H' is deprecated and will be removed in a future version, please use 'h' instead.\n",
      "  index=pd.date_range(\"2019-01-01 00:00:00\", periods=8760, freq=\"H\")\n"
     ]
    },
    {
     "name": "stdout",
     "output_type": "stream",
     "text": [
      "Creating building AB\n",
      "Creating building AB\n"
     ]
    },
    {
     "name": "stderr",
     "output_type": "stream",
     "text": [
      "c:\\Users\\felix\\Programmieren\\districtgenerator\\.venv\\Lib\\site-packages\\teaser\\logic\\buildingobjects\\useconditions.py:363: FutureWarning: 'H' is deprecated and will be removed in a future version, please use 'h' instead.\n",
      "  index=pd.date_range(\"2019-01-01 00:00:00\", periods=8760, freq=\"H\")\n",
      "c:\\Users\\felix\\Programmieren\\districtgenerator\\.venv\\Lib\\site-packages\\teaser\\logic\\buildingobjects\\useconditions.py:363: FutureWarning: 'H' is deprecated and will be removed in a future version, please use 'h' instead.\n",
      "  index=pd.date_range(\"2019-01-01 00:00:00\", periods=8760, freq=\"H\")\n"
     ]
    },
    {
     "name": "stdout",
     "output_type": "stream",
     "text": [
      "Creating building AB\n",
      "Creating building AB\n",
      "Creating building IWU School, Day Nursery and other Care\n",
      "We are about to generate a Non Residential building.\n",
      "Available building types: ['IWU Office, Administrative or Government Buildings', 'IWU Research and University Teaching', 'IWU Health and Care', 'IWU School, Day Nursery and other Care', 'IWU Culture and Leisure', 'IWU Sports Facilities', 'IWU Hotels, Boarding, Restaurants or Catering', 'IWU Production, Workshop, Warehouse or Operations', 'IWU Trade Buildings', 'IWU Technical and Utility (supply and disposal)', 'IWU Transport', 'IWU Generalized (1) Services building', 'IWU Generalized (2) Production buildings']\n",
      "Current usage: IWU School, Day Nursery and other Care\n",
      "Available building types: ['IWU Office, Administrative or Government Buildings', 'IWU Research and University Teaching', 'IWU Health and Care', 'IWU School, Day Nursery and other Care', 'IWU Culture and Leisure', 'IWU Sports Facilities', 'IWU Hotels, Boarding, Restaurants or Catering', 'IWU Production, Workshop, Warehouse or Operations', 'IWU Trade Buildings', 'IWU Technical and Utility (supply and disposal)', 'IWU Transport', 'IWU Generalized (1) Services building', 'IWU Generalized (2) Production buildings']\n",
      "Current usage: IWU School, Day Nursery and other Care\n",
      "{'ow1': 0.319407585, 'win1': 0.290388123, 'rt1': 0.400059596, 'gf1': 0.5281331}\n",
      "{'ow1': 0.319407585, 'win1': 0.290388123, 'rt1': 0.400059596, 'gf1': 0.5281331} Thesese are the facade estimation factors for building  IWU School, Day Nursery and other Care 3037.5686569911063 1955.0\n"
     ]
    },
    {
     "name": "stderr",
     "output_type": "stream",
     "text": [
      "c:\\Users\\felix\\Programmieren\\districtgenerator\\.venv\\Lib\\site-packages\\teaser\\logic\\buildingobjects\\useconditions.py:363: FutureWarning: 'H' is deprecated and will be removed in a future version, please use 'h' instead.\n",
      "  index=pd.date_range(\"2019-01-01 00:00:00\", periods=8760, freq=\"H\")\n",
      "c:\\Users\\felix\\Programmieren\\districtgenerator\\.venv\\Lib\\site-packages\\teaser\\logic\\buildingobjects\\useconditions.py:363: FutureWarning: 'H' is deprecated and will be removed in a future version, please use 'h' instead.\n",
      "  index=pd.date_range(\"2019-01-01 00:00:00\", periods=8760, freq=\"H\")\n"
     ]
    },
    {
     "name": "stdout",
     "output_type": "stream",
     "text": [
      "This is the path: C:\\Users\\felix\\Programmieren\\districtgenerator\\data\\consumption_data\\internal_loads.csv\n",
      "No data for light demand available for IWU School, Day Nursery and other Care\n",
      "Creating building AB\n",
      "Creating building IWU School, Day Nursery and other Care\n",
      "We are about to generate a Non Residential building.\n",
      "Available building types: ['IWU Office, Administrative or Government Buildings', 'IWU Research and University Teaching', 'IWU Health and Care', 'IWU School, Day Nursery and other Care', 'IWU Culture and Leisure', 'IWU Sports Facilities', 'IWU Hotels, Boarding, Restaurants or Catering', 'IWU Production, Workshop, Warehouse or Operations', 'IWU Trade Buildings', 'IWU Technical and Utility (supply and disposal)', 'IWU Transport', 'IWU Generalized (1) Services building', 'IWU Generalized (2) Production buildings']\n",
      "Current usage: IWU School, Day Nursery and other Care\n",
      "Available building types: ['IWU Office, Administrative or Government Buildings', 'IWU Research and University Teaching', 'IWU Health and Care', 'IWU School, Day Nursery and other Care', 'IWU Culture and Leisure', 'IWU Sports Facilities', 'IWU Hotels, Boarding, Restaurants or Catering', 'IWU Production, Workshop, Warehouse or Operations', 'IWU Trade Buildings', 'IWU Technical and Utility (supply and disposal)', 'IWU Transport', 'IWU Generalized (1) Services building', 'IWU Generalized (2) Production buildings']\n",
      "Current usage: IWU School, Day Nursery and other Care\n",
      "{'ow1': 0.319407585, 'win1': 0.290388123, 'rt1': 0.400059596, 'gf1': 0.5281331}\n",
      "{'ow1': 0.319407585, 'win1': 0.290388123, 'rt1': 0.400059596, 'gf1': 0.5281331} Thesese are the facade estimation factors for building  IWU School, Day Nursery and other Care 59.92037899556216 1955.0\n",
      "This is the path: C:\\Users\\felix\\Programmieren\\districtgenerator\\data\\consumption_data\\internal_loads.csv\n",
      "No data for light demand available for IWU School, Day Nursery and other Care\n",
      "Creating building AB\n"
     ]
    },
    {
     "name": "stderr",
     "output_type": "stream",
     "text": [
      "c:\\Users\\felix\\Programmieren\\districtgenerator\\.venv\\Lib\\site-packages\\teaser\\logic\\buildingobjects\\useconditions.py:363: FutureWarning: 'H' is deprecated and will be removed in a future version, please use 'h' instead.\n",
      "  index=pd.date_range(\"2019-01-01 00:00:00\", periods=8760, freq=\"H\")\n",
      "c:\\Users\\felix\\Programmieren\\districtgenerator\\.venv\\Lib\\site-packages\\teaser\\logic\\buildingobjects\\useconditions.py:363: FutureWarning: 'H' is deprecated and will be removed in a future version, please use 'h' instead.\n",
      "  index=pd.date_range(\"2019-01-01 00:00:00\", periods=8760, freq=\"H\")\n",
      "c:\\Users\\felix\\Programmieren\\districtgenerator\\.venv\\Lib\\site-packages\\teaser\\logic\\buildingobjects\\useconditions.py:363: FutureWarning: 'H' is deprecated and will be removed in a future version, please use 'h' instead.\n",
      "  index=pd.date_range(\"2019-01-01 00:00:00\", periods=8760, freq=\"H\")\n"
     ]
    },
    {
     "name": "stdout",
     "output_type": "stream",
     "text": [
      "Creating building IWU Transport\n",
      "We are about to generate a Non Residential building.\n",
      "Available building types: ['IWU Office, Administrative or Government Buildings', 'IWU Research and University Teaching', 'IWU Health and Care', 'IWU School, Day Nursery and other Care', 'IWU Culture and Leisure', 'IWU Sports Facilities', 'IWU Hotels, Boarding, Restaurants or Catering', 'IWU Production, Workshop, Warehouse or Operations', 'IWU Trade Buildings', 'IWU Technical and Utility (supply and disposal)', 'IWU Transport', 'IWU Generalized (1) Services building', 'IWU Generalized (2) Production buildings']\n",
      "Current usage: IWU Transport\n",
      "Available building types: ['IWU Office, Administrative or Government Buildings', 'IWU Research and University Teaching', 'IWU Health and Care', 'IWU School, Day Nursery and other Care', 'IWU Culture and Leisure', 'IWU Sports Facilities', 'IWU Hotels, Boarding, Restaurants or Catering', 'IWU Production, Workshop, Warehouse or Operations', 'IWU Trade Buildings', 'IWU Technical and Utility (supply and disposal)', 'IWU Transport', 'IWU Generalized (1) Services building', 'IWU Generalized (2) Production buildings']\n",
      "Current usage: IWU Transport\n",
      "{'ow1': 0.638685232, 'win1': 0.528141959, 'rt1': 0.613666073, 'gf1': 1.275661128}\n",
      "{'ow1': 0.638685232, 'win1': 0.528141959, 'rt1': 0.613666073, 'gf1': 1.275661128} Thesese are the facade estimation factors for building  IWU Transport 227.43273899889112 1955.0\n",
      "This is the path: C:\\Users\\felix\\Programmieren\\districtgenerator\\data\\consumption_data\\internal_loads.csv\n",
      "No data for light demand available for IWU Transport\n",
      "Creating building AB\n",
      "Creating building AB\n",
      "Creating building AB\n"
     ]
    },
    {
     "name": "stderr",
     "output_type": "stream",
     "text": [
      "c:\\Users\\felix\\Programmieren\\districtgenerator\\.venv\\Lib\\site-packages\\teaser\\logic\\buildingobjects\\useconditions.py:363: FutureWarning: 'H' is deprecated and will be removed in a future version, please use 'h' instead.\n",
      "  index=pd.date_range(\"2019-01-01 00:00:00\", periods=8760, freq=\"H\")\n",
      "c:\\Users\\felix\\Programmieren\\districtgenerator\\.venv\\Lib\\site-packages\\teaser\\logic\\buildingobjects\\useconditions.py:363: FutureWarning: 'H' is deprecated and will be removed in a future version, please use 'h' instead.\n",
      "  index=pd.date_range(\"2019-01-01 00:00:00\", periods=8760, freq=\"H\")\n"
     ]
    },
    {
     "name": "stdout",
     "output_type": "stream",
     "text": [
      "Creating building AB\n",
      "Creating building IWU Transport\n",
      "We are about to generate a Non Residential building.\n",
      "Available building types: ['IWU Office, Administrative or Government Buildings', 'IWU Research and University Teaching', 'IWU Health and Care', 'IWU School, Day Nursery and other Care', 'IWU Culture and Leisure', 'IWU Sports Facilities', 'IWU Hotels, Boarding, Restaurants or Catering', 'IWU Production, Workshop, Warehouse or Operations', 'IWU Trade Buildings', 'IWU Technical and Utility (supply and disposal)', 'IWU Transport', 'IWU Generalized (1) Services building', 'IWU Generalized (2) Production buildings']\n",
      "Current usage: IWU Transport\n",
      "Available building types: ['IWU Office, Administrative or Government Buildings', 'IWU Research and University Teaching', 'IWU Health and Care', 'IWU School, Day Nursery and other Care', 'IWU Culture and Leisure', 'IWU Sports Facilities', 'IWU Hotels, Boarding, Restaurants or Catering', 'IWU Production, Workshop, Warehouse or Operations', 'IWU Trade Buildings', 'IWU Technical and Utility (supply and disposal)', 'IWU Transport', 'IWU Generalized (1) Services building', 'IWU Generalized (2) Production buildings']\n",
      "Current usage: IWU Transport\n",
      "{'ow1': 0.638685232, 'win1': 0.528141959, 'rt1': 0.613666073, 'gf1': 1.275661128}\n",
      "{'ow1': 0.638685232, 'win1': 0.528141959, 'rt1': 0.613666073, 'gf1': 1.275661128} Thesese are the facade estimation factors for building  IWU Transport 1158.2985145007908 1925.0\n",
      "This is the path: C:\\Users\\felix\\Programmieren\\districtgenerator\\data\\consumption_data\\internal_loads.csv\n",
      "No data for light demand available for IWU Transport\n",
      "Creating building AB\n"
     ]
    },
    {
     "name": "stderr",
     "output_type": "stream",
     "text": [
      "c:\\Users\\felix\\Programmieren\\districtgenerator\\.venv\\Lib\\site-packages\\teaser\\logic\\buildingobjects\\useconditions.py:363: FutureWarning: 'H' is deprecated and will be removed in a future version, please use 'h' instead.\n",
      "  index=pd.date_range(\"2019-01-01 00:00:00\", periods=8760, freq=\"H\")\n",
      "c:\\Users\\felix\\Programmieren\\districtgenerator\\.venv\\Lib\\site-packages\\teaser\\logic\\buildingobjects\\useconditions.py:363: FutureWarning: 'H' is deprecated and will be removed in a future version, please use 'h' instead.\n",
      "  index=pd.date_range(\"2019-01-01 00:00:00\", periods=8760, freq=\"H\")\n"
     ]
    },
    {
     "name": "stdout",
     "output_type": "stream",
     "text": [
      "Creating building AB\n",
      "Creating building AB\n"
     ]
    },
    {
     "name": "stderr",
     "output_type": "stream",
     "text": [
      "c:\\Users\\felix\\Programmieren\\districtgenerator\\.venv\\Lib\\site-packages\\teaser\\logic\\buildingobjects\\useconditions.py:363: FutureWarning: 'H' is deprecated and will be removed in a future version, please use 'h' instead.\n",
      "  index=pd.date_range(\"2019-01-01 00:00:00\", periods=8760, freq=\"H\")\n",
      "c:\\Users\\felix\\Programmieren\\districtgenerator\\.venv\\Lib\\site-packages\\teaser\\logic\\buildingobjects\\useconditions.py:363: FutureWarning: 'H' is deprecated and will be removed in a future version, please use 'h' instead.\n",
      "  index=pd.date_range(\"2019-01-01 00:00:00\", periods=8760, freq=\"H\")\n"
     ]
    },
    {
     "name": "stdout",
     "output_type": "stream",
     "text": [
      "Creating building AB\n"
     ]
    },
    {
     "name": "stderr",
     "output_type": "stream",
     "text": [
      "c:\\Users\\felix\\Programmieren\\districtgenerator\\.venv\\Lib\\site-packages\\teaser\\logic\\buildingobjects\\useconditions.py:363: FutureWarning: 'H' is deprecated and will be removed in a future version, please use 'h' instead.\n",
      "  index=pd.date_range(\"2019-01-01 00:00:00\", periods=8760, freq=\"H\")\n"
     ]
    },
    {
     "name": "stdout",
     "output_type": "stream",
     "text": [
      "Creating building AB\n",
      "Creating building AB\n"
     ]
    },
    {
     "name": "stderr",
     "output_type": "stream",
     "text": [
      "c:\\Users\\felix\\Programmieren\\districtgenerator\\.venv\\Lib\\site-packages\\teaser\\logic\\buildingobjects\\useconditions.py:363: FutureWarning: 'H' is deprecated and will be removed in a future version, please use 'h' instead.\n",
      "  index=pd.date_range(\"2019-01-01 00:00:00\", periods=8760, freq=\"H\")\n",
      "c:\\Users\\felix\\Programmieren\\districtgenerator\\.venv\\Lib\\site-packages\\teaser\\logic\\buildingobjects\\useconditions.py:363: FutureWarning: 'H' is deprecated and will be removed in a future version, please use 'h' instead.\n",
      "  index=pd.date_range(\"2019-01-01 00:00:00\", periods=8760, freq=\"H\")\n"
     ]
    },
    {
     "name": "stdout",
     "output_type": "stream",
     "text": [
      "Creating building AB\n",
      "Creating building IWU School, Day Nursery and other Care\n",
      "We are about to generate a Non Residential building.\n",
      "Available building types: ['IWU Office, Administrative or Government Buildings', 'IWU Research and University Teaching', 'IWU Health and Care', 'IWU School, Day Nursery and other Care', 'IWU Culture and Leisure', 'IWU Sports Facilities', 'IWU Hotels, Boarding, Restaurants or Catering', 'IWU Production, Workshop, Warehouse or Operations', 'IWU Trade Buildings', 'IWU Technical and Utility (supply and disposal)', 'IWU Transport', 'IWU Generalized (1) Services building', 'IWU Generalized (2) Production buildings']\n",
      "Current usage: IWU School, Day Nursery and other Care\n",
      "Available building types: ['IWU Office, Administrative or Government Buildings', 'IWU Research and University Teaching', 'IWU Health and Care', 'IWU School, Day Nursery and other Care', 'IWU Culture and Leisure', 'IWU Sports Facilities', 'IWU Hotels, Boarding, Restaurants or Catering', 'IWU Production, Workshop, Warehouse or Operations', 'IWU Trade Buildings', 'IWU Technical and Utility (supply and disposal)', 'IWU Transport', 'IWU Generalized (1) Services building', 'IWU Generalized (2) Production buildings']\n",
      "Current usage: IWU School, Day Nursery and other Care\n",
      "{'ow1': 0.319407585, 'win1': 0.290388123, 'rt1': 0.400059596, 'gf1': 0.5281331}\n",
      "{'ow1': 0.319407585, 'win1': 0.290388123, 'rt1': 0.400059596, 'gf1': 0.5281331} Thesese are the facade estimation factors for building  IWU School, Day Nursery and other Care 217.3279505001512 1955.0\n",
      "This is the path: C:\\Users\\felix\\Programmieren\\districtgenerator\\data\\consumption_data\\internal_loads.csv\n",
      "No data for light demand available for IWU School, Day Nursery and other Care\n",
      "Creating building AB\n"
     ]
    },
    {
     "name": "stderr",
     "output_type": "stream",
     "text": [
      "c:\\Users\\felix\\Programmieren\\districtgenerator\\.venv\\Lib\\site-packages\\teaser\\logic\\buildingobjects\\useconditions.py:363: FutureWarning: 'H' is deprecated and will be removed in a future version, please use 'h' instead.\n",
      "  index=pd.date_range(\"2019-01-01 00:00:00\", periods=8760, freq=\"H\")\n",
      "c:\\Users\\felix\\Programmieren\\districtgenerator\\.venv\\Lib\\site-packages\\teaser\\logic\\buildingobjects\\useconditions.py:363: FutureWarning: 'H' is deprecated and will be removed in a future version, please use 'h' instead.\n",
      "  index=pd.date_range(\"2019-01-01 00:00:00\", periods=8760, freq=\"H\")\n"
     ]
    },
    {
     "name": "stdout",
     "output_type": "stream",
     "text": [
      "Creating building AB\n",
      "Creating building IWU Transport\n",
      "We are about to generate a Non Residential building.\n",
      "Available building types: ['IWU Office, Administrative or Government Buildings', 'IWU Research and University Teaching', 'IWU Health and Care', 'IWU School, Day Nursery and other Care', 'IWU Culture and Leisure', 'IWU Sports Facilities', 'IWU Hotels, Boarding, Restaurants or Catering', 'IWU Production, Workshop, Warehouse or Operations', 'IWU Trade Buildings', 'IWU Technical and Utility (supply and disposal)', 'IWU Transport', 'IWU Generalized (1) Services building', 'IWU Generalized (2) Production buildings']\n",
      "Current usage: IWU Transport\n",
      "Available building types: ['IWU Office, Administrative or Government Buildings', 'IWU Research and University Teaching', 'IWU Health and Care', 'IWU School, Day Nursery and other Care', 'IWU Culture and Leisure', 'IWU Sports Facilities', 'IWU Hotels, Boarding, Restaurants or Catering', 'IWU Production, Workshop, Warehouse or Operations', 'IWU Trade Buildings', 'IWU Technical and Utility (supply and disposal)', 'IWU Transport', 'IWU Generalized (1) Services building', 'IWU Generalized (2) Production buildings']\n",
      "Current usage: IWU Transport\n",
      "{'ow1': 0.638685232, 'win1': 0.528141959, 'rt1': 0.613666073, 'gf1': 1.275661128}\n",
      "{'ow1': 0.638685232, 'win1': 0.528141959, 'rt1': 0.613666073, 'gf1': 1.275661128} Thesese are the facade estimation factors for building  IWU Transport 176.9126449984466 1955.0\n",
      "This is the path: C:\\Users\\felix\\Programmieren\\districtgenerator\\data\\consumption_data\\internal_loads.csv\n",
      "No data for light demand available for IWU Transport\n",
      "Creating building AB\n"
     ]
    },
    {
     "name": "stderr",
     "output_type": "stream",
     "text": [
      "c:\\Users\\felix\\Programmieren\\districtgenerator\\.venv\\Lib\\site-packages\\teaser\\logic\\buildingobjects\\useconditions.py:363: FutureWarning: 'H' is deprecated and will be removed in a future version, please use 'h' instead.\n",
      "  index=pd.date_range(\"2019-01-01 00:00:00\", periods=8760, freq=\"H\")\n",
      "c:\\Users\\felix\\Programmieren\\districtgenerator\\.venv\\Lib\\site-packages\\teaser\\logic\\buildingobjects\\useconditions.py:363: FutureWarning: 'H' is deprecated and will be removed in a future version, please use 'h' instead.\n",
      "  index=pd.date_range(\"2019-01-01 00:00:00\", periods=8760, freq=\"H\")\n"
     ]
    },
    {
     "name": "stdout",
     "output_type": "stream",
     "text": [
      "Creating building AB\n",
      "Creating building IWU Transport\n",
      "We are about to generate a Non Residential building.\n",
      "Available building types: ['IWU Office, Administrative or Government Buildings', 'IWU Research and University Teaching', 'IWU Health and Care', 'IWU School, Day Nursery and other Care', 'IWU Culture and Leisure', 'IWU Sports Facilities', 'IWU Hotels, Boarding, Restaurants or Catering', 'IWU Production, Workshop, Warehouse or Operations', 'IWU Trade Buildings', 'IWU Technical and Utility (supply and disposal)', 'IWU Transport', 'IWU Generalized (1) Services building', 'IWU Generalized (2) Production buildings']\n",
      "Current usage: IWU Transport\n",
      "Available building types: ['IWU Office, Administrative or Government Buildings', 'IWU Research and University Teaching', 'IWU Health and Care', 'IWU School, Day Nursery and other Care', 'IWU Culture and Leisure', 'IWU Sports Facilities', 'IWU Hotels, Boarding, Restaurants or Catering', 'IWU Production, Workshop, Warehouse or Operations', 'IWU Trade Buildings', 'IWU Technical and Utility (supply and disposal)', 'IWU Transport', 'IWU Generalized (1) Services building', 'IWU Generalized (2) Production buildings']\n",
      "Current usage: IWU Transport\n",
      "{'ow1': 0.638685232, 'win1': 0.528141959, 'rt1': 0.613666073, 'gf1': 1.275661128}\n",
      "{'ow1': 0.638685232, 'win1': 0.528141959, 'rt1': 0.613666073, 'gf1': 1.275661128} Thesese are the facade estimation factors for building  IWU Transport 488.9744764892951 1955.0\n",
      "This is the path: C:\\Users\\felix\\Programmieren\\districtgenerator\\data\\consumption_data\\internal_loads.csv\n",
      "No data for light demand available for IWU Transport\n",
      "Creating building IWU School, Day Nursery and other Care\n",
      "We are about to generate a Non Residential building.\n",
      "Available building types: ['IWU Office, Administrative or Government Buildings', 'IWU Research and University Teaching', 'IWU Health and Care', 'IWU School, Day Nursery and other Care', 'IWU Culture and Leisure', 'IWU Sports Facilities', 'IWU Hotels, Boarding, Restaurants or Catering', 'IWU Production, Workshop, Warehouse or Operations', 'IWU Trade Buildings', 'IWU Technical and Utility (supply and disposal)', 'IWU Transport', 'IWU Generalized (1) Services building', 'IWU Generalized (2) Production buildings']\n",
      "Current usage: IWU School, Day Nursery and other Care\n",
      "Available building types: ['IWU Office, Administrative or Government Buildings', 'IWU Research and University Teaching', 'IWU Health and Care', 'IWU School, Day Nursery and other Care', 'IWU Culture and Leisure', 'IWU Sports Facilities', 'IWU Hotels, Boarding, Restaurants or Catering', 'IWU Production, Workshop, Warehouse or Operations', 'IWU Trade Buildings', 'IWU Technical and Utility (supply and disposal)', 'IWU Transport', 'IWU Generalized (1) Services building', 'IWU Generalized (2) Production buildings']\n",
      "Current usage: IWU School, Day Nursery and other Care\n",
      "{'ow1': 0.319407585, 'win1': 0.290388123, 'rt1': 0.400059596, 'gf1': 0.5281331}\n",
      "{'ow1': 0.319407585, 'win1': 0.290388123, 'rt1': 0.400059596, 'gf1': 0.5281331} Thesese are the facade estimation factors for building  IWU School, Day Nursery and other Care 2058.577131984922 1955.0\n",
      "This is the path: C:\\Users\\felix\\Programmieren\\districtgenerator\\data\\consumption_data\\internal_loads.csv\n",
      "No data for light demand available for IWU School, Day Nursery and other Care\n",
      "Creating building AB\n"
     ]
    },
    {
     "name": "stderr",
     "output_type": "stream",
     "text": [
      "c:\\Users\\felix\\Programmieren\\districtgenerator\\.venv\\Lib\\site-packages\\teaser\\logic\\buildingobjects\\useconditions.py:363: FutureWarning: 'H' is deprecated and will be removed in a future version, please use 'h' instead.\n",
      "  index=pd.date_range(\"2019-01-01 00:00:00\", periods=8760, freq=\"H\")\n",
      "c:\\Users\\felix\\Programmieren\\districtgenerator\\.venv\\Lib\\site-packages\\teaser\\logic\\buildingobjects\\useconditions.py:363: FutureWarning: 'H' is deprecated and will be removed in a future version, please use 'h' instead.\n",
      "  index=pd.date_range(\"2019-01-01 00:00:00\", periods=8760, freq=\"H\")\n"
     ]
    },
    {
     "name": "stdout",
     "output_type": "stream",
     "text": [
      "Creating building IWU Office, Administrative or Government Buildings\n",
      "We are about to generate a Non Residential building.\n",
      "Available building types: ['IWU Office, Administrative or Government Buildings', 'IWU Research and University Teaching', 'IWU Health and Care', 'IWU School, Day Nursery and other Care', 'IWU Culture and Leisure', 'IWU Sports Facilities', 'IWU Hotels, Boarding, Restaurants or Catering', 'IWU Production, Workshop, Warehouse or Operations', 'IWU Trade Buildings', 'IWU Technical and Utility (supply and disposal)', 'IWU Transport', 'IWU Generalized (1) Services building', 'IWU Generalized (2) Production buildings']\n",
      "Current usage: IWU Office, Administrative or Government Buildings\n",
      "Available building types: ['IWU Office, Administrative or Government Buildings', 'IWU Research and University Teaching', 'IWU Health and Care', 'IWU School, Day Nursery and other Care', 'IWU Culture and Leisure', 'IWU Sports Facilities', 'IWU Hotels, Boarding, Restaurants or Catering', 'IWU Production, Workshop, Warehouse or Operations', 'IWU Trade Buildings', 'IWU Technical and Utility (supply and disposal)', 'IWU Transport', 'IWU Generalized (1) Services building', 'IWU Generalized (2) Production buildings']\n",
      "Current usage: IWU Office, Administrative or Government Buildings\n",
      "{'ow1': 0.367275866, 'win1': 0.214412826, 'rt1': 0.395549717, 'gf1': 0.506728916}\n",
      "{'ow1': 0.367275866, 'win1': 0.214412826, 'rt1': 0.395549717, 'gf1': 0.506728916} Thesese are the facade estimation factors for building  IWU Office, Administrative or Government Buildings 6786.508189439924 1925.0\n",
      "This is the path: C:\\Users\\felix\\Programmieren\\districtgenerator\\data\\consumption_data\\internal_loads.csv\n",
      "Creating building AB\n",
      "Creating building AB\n"
     ]
    },
    {
     "name": "stderr",
     "output_type": "stream",
     "text": [
      "c:\\Users\\felix\\Programmieren\\districtgenerator\\functions\\light_demand.py:121: FutureWarning: Setting an item of incompatible dtype is deprecated and will raise an error in a future version of pandas. Value '[21581.09604242 64743.28812726 64743.28812726 ... 75533.83614847\n",
      " 64743.28812726 21581.09604242]' has dtype incompatible with int64, please explicitly cast to a compatible dtype first.\n",
      "  lighting_demand[mask] = lighting_load * area * occupancy_schedule[\"OCCUPANCY\"][mask]  # Calculate energy demand\n",
      "c:\\Users\\felix\\Programmieren\\districtgenerator\\.venv\\Lib\\site-packages\\teaser\\logic\\buildingobjects\\useconditions.py:363: FutureWarning: 'H' is deprecated and will be removed in a future version, please use 'h' instead.\n",
      "  index=pd.date_range(\"2019-01-01 00:00:00\", periods=8760, freq=\"H\")\n",
      "c:\\Users\\felix\\Programmieren\\districtgenerator\\.venv\\Lib\\site-packages\\teaser\\logic\\buildingobjects\\useconditions.py:363: FutureWarning: 'H' is deprecated and will be removed in a future version, please use 'h' instead.\n",
      "  index=pd.date_range(\"2019-01-01 00:00:00\", periods=8760, freq=\"H\")\n"
     ]
    },
    {
     "name": "stdout",
     "output_type": "stream",
     "text": [
      "Creating building AB\n",
      "Creating building AB\n"
     ]
    },
    {
     "name": "stderr",
     "output_type": "stream",
     "text": [
      "c:\\Users\\felix\\Programmieren\\districtgenerator\\.venv\\Lib\\site-packages\\teaser\\logic\\buildingobjects\\useconditions.py:363: FutureWarning: 'H' is deprecated and will be removed in a future version, please use 'h' instead.\n",
      "  index=pd.date_range(\"2019-01-01 00:00:00\", periods=8760, freq=\"H\")\n",
      "c:\\Users\\felix\\Programmieren\\districtgenerator\\.venv\\Lib\\site-packages\\teaser\\logic\\buildingobjects\\useconditions.py:363: FutureWarning: 'H' is deprecated and will be removed in a future version, please use 'h' instead.\n",
      "  index=pd.date_range(\"2019-01-01 00:00:00\", periods=8760, freq=\"H\")\n"
     ]
    },
    {
     "name": "stdout",
     "output_type": "stream",
     "text": [
      "Creating building AB\n",
      "Creating building AB\n"
     ]
    },
    {
     "name": "stderr",
     "output_type": "stream",
     "text": [
      "c:\\Users\\felix\\Programmieren\\districtgenerator\\.venv\\Lib\\site-packages\\teaser\\logic\\buildingobjects\\useconditions.py:363: FutureWarning: 'H' is deprecated and will be removed in a future version, please use 'h' instead.\n",
      "  index=pd.date_range(\"2019-01-01 00:00:00\", periods=8760, freq=\"H\")\n",
      "c:\\Users\\felix\\Programmieren\\districtgenerator\\.venv\\Lib\\site-packages\\teaser\\logic\\buildingobjects\\useconditions.py:363: FutureWarning: 'H' is deprecated and will be removed in a future version, please use 'h' instead.\n",
      "  index=pd.date_range(\"2019-01-01 00:00:00\", periods=8760, freq=\"H\")\n"
     ]
    },
    {
     "name": "stdout",
     "output_type": "stream",
     "text": [
      "Creating building AB\n",
      "Creating building IWU Technical and Utility (supply and disposal)\n",
      "We are about to generate a Non Residential building.\n",
      "Available building types: ['IWU Office, Administrative or Government Buildings', 'IWU Research and University Teaching', 'IWU Health and Care', 'IWU School, Day Nursery and other Care', 'IWU Culture and Leisure', 'IWU Sports Facilities', 'IWU Hotels, Boarding, Restaurants or Catering', 'IWU Production, Workshop, Warehouse or Operations', 'IWU Trade Buildings', 'IWU Technical and Utility (supply and disposal)', 'IWU Transport', 'IWU Generalized (1) Services building', 'IWU Generalized (2) Production buildings']\n",
      "Current usage: IWU Technical and Utility (supply and disposal)\n",
      "Available building types: ['IWU Office, Administrative or Government Buildings', 'IWU Research and University Teaching', 'IWU Health and Care', 'IWU School, Day Nursery and other Care', 'IWU Culture and Leisure', 'IWU Sports Facilities', 'IWU Hotels, Boarding, Restaurants or Catering', 'IWU Production, Workshop, Warehouse or Operations', 'IWU Trade Buildings', 'IWU Technical and Utility (supply and disposal)', 'IWU Transport', 'IWU Generalized (1) Services building', 'IWU Generalized (2) Production buildings']\n",
      "Current usage: IWU Technical and Utility (supply and disposal)\n",
      "{'ow1': 0.784967654, 'win1': 0.303347338, 'rt1': 0.594165802, 'gf1': 1.176470497}\n",
      "{'ow1': 0.784967654, 'win1': 0.303347338, 'rt1': 0.594165802, 'gf1': 1.176470497} Thesese are the facade estimation factors for building  IWU Technical and Utility (supply and disposal) 13.271756999535498 1955.0\n",
      "This is the path: C:\\Users\\felix\\Programmieren\\districtgenerator\\data\\consumption_data\\internal_loads.csv\n",
      "No data for light demand available for IWU Technical and Utility (supply and disposal)\n",
      "Creating building AB\n",
      "Creating building AB\n"
     ]
    },
    {
     "name": "stderr",
     "output_type": "stream",
     "text": [
      "c:\\Users\\felix\\Programmieren\\districtgenerator\\.venv\\Lib\\site-packages\\teaser\\logic\\buildingobjects\\useconditions.py:363: FutureWarning: 'H' is deprecated and will be removed in a future version, please use 'h' instead.\n",
      "  index=pd.date_range(\"2019-01-01 00:00:00\", periods=8760, freq=\"H\")\n",
      "c:\\Users\\felix\\Programmieren\\districtgenerator\\.venv\\Lib\\site-packages\\teaser\\logic\\buildingobjects\\useconditions.py:363: FutureWarning: 'H' is deprecated and will be removed in a future version, please use 'h' instead.\n",
      "  index=pd.date_range(\"2019-01-01 00:00:00\", periods=8760, freq=\"H\")\n",
      "c:\\Users\\felix\\Programmieren\\districtgenerator\\.venv\\Lib\\site-packages\\teaser\\logic\\buildingobjects\\useconditions.py:363: FutureWarning: 'H' is deprecated and will be removed in a future version, please use 'h' instead.\n",
      "  index=pd.date_range(\"2019-01-01 00:00:00\", periods=8760, freq=\"H\")\n"
     ]
    },
    {
     "name": "stdout",
     "output_type": "stream",
     "text": [
      "Creating building AB\n",
      "Creating building AB\n"
     ]
    },
    {
     "name": "stderr",
     "output_type": "stream",
     "text": [
      "c:\\Users\\felix\\Programmieren\\districtgenerator\\.venv\\Lib\\site-packages\\teaser\\logic\\buildingobjects\\useconditions.py:363: FutureWarning: 'H' is deprecated and will be removed in a future version, please use 'h' instead.\n",
      "  index=pd.date_range(\"2019-01-01 00:00:00\", periods=8760, freq=\"H\")\n",
      "c:\\Users\\felix\\Programmieren\\districtgenerator\\.venv\\Lib\\site-packages\\teaser\\logic\\buildingobjects\\useconditions.py:363: FutureWarning: 'H' is deprecated and will be removed in a future version, please use 'h' instead.\n",
      "  index=pd.date_range(\"2019-01-01 00:00:00\", periods=8760, freq=\"H\")\n"
     ]
    },
    {
     "name": "stdout",
     "output_type": "stream",
     "text": [
      "Creating building AB\n",
      "Creating building IWU School, Day Nursery and other Care\n",
      "We are about to generate a Non Residential building.\n",
      "Available building types: ['IWU Office, Administrative or Government Buildings', 'IWU Research and University Teaching', 'IWU Health and Care', 'IWU School, Day Nursery and other Care', 'IWU Culture and Leisure', 'IWU Sports Facilities', 'IWU Hotels, Boarding, Restaurants or Catering', 'IWU Production, Workshop, Warehouse or Operations', 'IWU Trade Buildings', 'IWU Technical and Utility (supply and disposal)', 'IWU Transport', 'IWU Generalized (1) Services building', 'IWU Generalized (2) Production buildings']\n",
      "Current usage: IWU School, Day Nursery and other Care\n",
      "Available building types: ['IWU Office, Administrative or Government Buildings', 'IWU Research and University Teaching', 'IWU Health and Care', 'IWU School, Day Nursery and other Care', 'IWU Culture and Leisure', 'IWU Sports Facilities', 'IWU Hotels, Boarding, Restaurants or Catering', 'IWU Production, Workshop, Warehouse or Operations', 'IWU Trade Buildings', 'IWU Technical and Utility (supply and disposal)', 'IWU Transport', 'IWU Generalized (1) Services building', 'IWU Generalized (2) Production buildings']\n",
      "Current usage: IWU School, Day Nursery and other Care\n",
      "{'ow1': 0.319407585, 'win1': 0.290388123, 'rt1': 0.400059596, 'gf1': 0.5281331}\n",
      "{'ow1': 0.319407585, 'win1': 0.290388123, 'rt1': 0.400059596, 'gf1': 0.5281331} Thesese are the facade estimation factors for building  IWU School, Day Nursery and other Care 29782.114954918416 1955.0\n",
      "This is the path: C:\\Users\\felix\\Programmieren\\districtgenerator\\data\\consumption_data\\internal_loads.csv\n",
      "No data for light demand available for IWU School, Day Nursery and other Care\n",
      "Creating building AB\n"
     ]
    },
    {
     "name": "stderr",
     "output_type": "stream",
     "text": [
      "c:\\Users\\felix\\Programmieren\\districtgenerator\\.venv\\Lib\\site-packages\\teaser\\logic\\buildingobjects\\useconditions.py:363: FutureWarning: 'H' is deprecated and will be removed in a future version, please use 'h' instead.\n",
      "  index=pd.date_range(\"2019-01-01 00:00:00\", periods=8760, freq=\"H\")\n",
      "c:\\Users\\felix\\Programmieren\\districtgenerator\\.venv\\Lib\\site-packages\\teaser\\logic\\buildingobjects\\useconditions.py:363: FutureWarning: 'H' is deprecated and will be removed in a future version, please use 'h' instead.\n",
      "  index=pd.date_range(\"2019-01-01 00:00:00\", periods=8760, freq=\"H\")\n"
     ]
    },
    {
     "name": "stdout",
     "output_type": "stream",
     "text": [
      "Creating building AB\n"
     ]
    },
    {
     "name": "stderr",
     "output_type": "stream",
     "text": [
      "c:\\Users\\felix\\Programmieren\\districtgenerator\\.venv\\Lib\\site-packages\\teaser\\logic\\buildingobjects\\useconditions.py:363: FutureWarning: 'H' is deprecated and will be removed in a future version, please use 'h' instead.\n",
      "  index=pd.date_range(\"2019-01-01 00:00:00\", periods=8760, freq=\"H\")\n"
     ]
    },
    {
     "name": "stdout",
     "output_type": "stream",
     "text": [
      "Creating building MFH\n",
      "Creating building MFH\n",
      "Creating building MFH\n"
     ]
    },
    {
     "name": "stderr",
     "output_type": "stream",
     "text": [
      "c:\\Users\\felix\\Programmieren\\districtgenerator\\.venv\\Lib\\site-packages\\teaser\\logic\\buildingobjects\\useconditions.py:363: FutureWarning: 'H' is deprecated and will be removed in a future version, please use 'h' instead.\n",
      "  index=pd.date_range(\"2019-01-01 00:00:00\", periods=8760, freq=\"H\")\n",
      "c:\\Users\\felix\\Programmieren\\districtgenerator\\.venv\\Lib\\site-packages\\teaser\\logic\\buildingobjects\\useconditions.py:363: FutureWarning: 'H' is deprecated and will be removed in a future version, please use 'h' instead.\n",
      "  index=pd.date_range(\"2019-01-01 00:00:00\", periods=8760, freq=\"H\")\n",
      "c:\\Users\\felix\\Programmieren\\districtgenerator\\.venv\\Lib\\site-packages\\teaser\\logic\\buildingobjects\\useconditions.py:363: FutureWarning: 'H' is deprecated and will be removed in a future version, please use 'h' instead.\n",
      "  index=pd.date_range(\"2019-01-01 00:00:00\", periods=8760, freq=\"H\")\n"
     ]
    },
    {
     "name": "stdout",
     "output_type": "stream",
     "text": [
      "Creating building IWU Transport\n",
      "We are about to generate a Non Residential building.\n",
      "Available building types: ['IWU Office, Administrative or Government Buildings', 'IWU Research and University Teaching', 'IWU Health and Care', 'IWU School, Day Nursery and other Care', 'IWU Culture and Leisure', 'IWU Sports Facilities', 'IWU Hotels, Boarding, Restaurants or Catering', 'IWU Production, Workshop, Warehouse or Operations', 'IWU Trade Buildings', 'IWU Technical and Utility (supply and disposal)', 'IWU Transport', 'IWU Generalized (1) Services building', 'IWU Generalized (2) Production buildings']\n",
      "Current usage: IWU Transport\n",
      "Available building types: ['IWU Office, Administrative or Government Buildings', 'IWU Research and University Teaching', 'IWU Health and Care', 'IWU School, Day Nursery and other Care', 'IWU Culture and Leisure', 'IWU Sports Facilities', 'IWU Hotels, Boarding, Restaurants or Catering', 'IWU Production, Workshop, Warehouse or Operations', 'IWU Trade Buildings', 'IWU Technical and Utility (supply and disposal)', 'IWU Transport', 'IWU Generalized (1) Services building', 'IWU Generalized (2) Production buildings']\n",
      "Current usage: IWU Transport\n",
      "{'ow1': 0.638685232, 'win1': 0.528141959, 'rt1': 0.613666073, 'gf1': 1.275661128}\n",
      "{'ow1': 0.638685232, 'win1': 0.528141959, 'rt1': 0.613666073, 'gf1': 1.275661128} Thesese are the facade estimation factors for building  IWU Transport 43.35201000132908 1900.0\n",
      "This is the path: C:\\Users\\felix\\Programmieren\\districtgenerator\\data\\consumption_data\\internal_loads.csv\n",
      "No data for light demand available for IWU Transport\n",
      "Creating building TH\n",
      "Creating building AB\n",
      "Creating building MFH\n"
     ]
    },
    {
     "name": "stderr",
     "output_type": "stream",
     "text": [
      "c:\\Users\\felix\\Programmieren\\districtgenerator\\.venv\\Lib\\site-packages\\teaser\\logic\\buildingobjects\\useconditions.py:363: FutureWarning: 'H' is deprecated and will be removed in a future version, please use 'h' instead.\n",
      "  index=pd.date_range(\"2019-01-01 00:00:00\", periods=8760, freq=\"H\")\n",
      "c:\\Users\\felix\\Programmieren\\districtgenerator\\.venv\\Lib\\site-packages\\teaser\\logic\\buildingobjects\\useconditions.py:363: FutureWarning: 'H' is deprecated and will be removed in a future version, please use 'h' instead.\n",
      "  index=pd.date_range(\"2019-01-01 00:00:00\", periods=8760, freq=\"H\")\n",
      "c:\\Users\\felix\\Programmieren\\districtgenerator\\.venv\\Lib\\site-packages\\teaser\\logic\\buildingobjects\\useconditions.py:363: FutureWarning: 'H' is deprecated and will be removed in a future version, please use 'h' instead.\n",
      "  index=pd.date_range(\"2019-01-01 00:00:00\", periods=8760, freq=\"H\")\n"
     ]
    },
    {
     "name": "stdout",
     "output_type": "stream",
     "text": [
      "Creating building IWU Transport\n",
      "We are about to generate a Non Residential building.\n",
      "Available building types: ['IWU Office, Administrative or Government Buildings', 'IWU Research and University Teaching', 'IWU Health and Care', 'IWU School, Day Nursery and other Care', 'IWU Culture and Leisure', 'IWU Sports Facilities', 'IWU Hotels, Boarding, Restaurants or Catering', 'IWU Production, Workshop, Warehouse or Operations', 'IWU Trade Buildings', 'IWU Technical and Utility (supply and disposal)', 'IWU Transport', 'IWU Generalized (1) Services building', 'IWU Generalized (2) Production buildings']\n",
      "Current usage: IWU Transport\n",
      "Available building types: ['IWU Office, Administrative or Government Buildings', 'IWU Research and University Teaching', 'IWU Health and Care', 'IWU School, Day Nursery and other Care', 'IWU Culture and Leisure', 'IWU Sports Facilities', 'IWU Hotels, Boarding, Restaurants or Catering', 'IWU Production, Workshop, Warehouse or Operations', 'IWU Trade Buildings', 'IWU Technical and Utility (supply and disposal)', 'IWU Transport', 'IWU Generalized (1) Services building', 'IWU Generalized (2) Production buildings']\n",
      "Current usage: IWU Transport\n",
      "{'ow1': 0.638685232, 'win1': 0.528141959, 'rt1': 0.613666073, 'gf1': 1.275661128}\n",
      "{'ow1': 0.638685232, 'win1': 0.528141959, 'rt1': 0.613666073, 'gf1': 1.275661128} Thesese are the facade estimation factors for building  IWU Transport 26.81704599889161 1955.0\n",
      "This is the path: C:\\Users\\felix\\Programmieren\\districtgenerator\\data\\consumption_data\\internal_loads.csv\n",
      "No data for light demand available for IWU Transport\n",
      "Creating building MFH\n",
      "Creating building MFH\n"
     ]
    },
    {
     "name": "stderr",
     "output_type": "stream",
     "text": [
      "c:\\Users\\felix\\Programmieren\\districtgenerator\\.venv\\Lib\\site-packages\\teaser\\logic\\buildingobjects\\useconditions.py:363: FutureWarning: 'H' is deprecated and will be removed in a future version, please use 'h' instead.\n",
      "  index=pd.date_range(\"2019-01-01 00:00:00\", periods=8760, freq=\"H\")\n",
      "c:\\Users\\felix\\Programmieren\\districtgenerator\\.venv\\Lib\\site-packages\\teaser\\logic\\buildingobjects\\useconditions.py:363: FutureWarning: 'H' is deprecated and will be removed in a future version, please use 'h' instead.\n",
      "  index=pd.date_range(\"2019-01-01 00:00:00\", periods=8760, freq=\"H\")\n"
     ]
    },
    {
     "name": "stdout",
     "output_type": "stream",
     "text": [
      "Creating building IWU Office, Administrative or Government Buildings\n",
      "We are about to generate a Non Residential building.\n",
      "Available building types: ['IWU Office, Administrative or Government Buildings', 'IWU Research and University Teaching', 'IWU Health and Care', 'IWU School, Day Nursery and other Care', 'IWU Culture and Leisure', 'IWU Sports Facilities', 'IWU Hotels, Boarding, Restaurants or Catering', 'IWU Production, Workshop, Warehouse or Operations', 'IWU Trade Buildings', 'IWU Technical and Utility (supply and disposal)', 'IWU Transport', 'IWU Generalized (1) Services building', 'IWU Generalized (2) Production buildings']\n",
      "Current usage: IWU Office, Administrative or Government Buildings\n",
      "Available building types: ['IWU Office, Administrative or Government Buildings', 'IWU Research and University Teaching', 'IWU Health and Care', 'IWU School, Day Nursery and other Care', 'IWU Culture and Leisure', 'IWU Sports Facilities', 'IWU Hotels, Boarding, Restaurants or Catering', 'IWU Production, Workshop, Warehouse or Operations', 'IWU Trade Buildings', 'IWU Technical and Utility (supply and disposal)', 'IWU Transport', 'IWU Generalized (1) Services building', 'IWU Generalized (2) Production buildings']\n",
      "Current usage: IWU Office, Administrative or Government Buildings\n",
      "{'ow1': 0.367275866, 'win1': 0.214412826, 'rt1': 0.395549717, 'gf1': 0.506728916}\n",
      "{'ow1': 0.367275866, 'win1': 0.214412826, 'rt1': 0.395549717, 'gf1': 0.506728916} Thesese are the facade estimation factors for building  IWU Office, Administrative or Government Buildings 7574.82109200402 1900.0\n",
      "This is the path: C:\\Users\\felix\\Programmieren\\districtgenerator\\data\\consumption_data\\internal_loads.csv\n",
      "Creating building IWU Production, Workshop, Warehouse or Operations\n",
      "We are about to generate a Non Residential building.\n",
      "Available building types: ['IWU Office, Administrative or Government Buildings', 'IWU Research and University Teaching', 'IWU Health and Care', 'IWU School, Day Nursery and other Care', 'IWU Culture and Leisure', 'IWU Sports Facilities', 'IWU Hotels, Boarding, Restaurants or Catering', 'IWU Production, Workshop, Warehouse or Operations', 'IWU Trade Buildings', 'IWU Technical and Utility (supply and disposal)', 'IWU Transport', 'IWU Generalized (1) Services building', 'IWU Generalized (2) Production buildings']\n",
      "Current usage: IWU Production, Workshop, Warehouse or Operations\n",
      "Available building types: ['IWU Office, Administrative or Government Buildings', 'IWU Research and University Teaching', 'IWU Health and Care', 'IWU School, Day Nursery and other Care', 'IWU Culture and Leisure', 'IWU Sports Facilities', 'IWU Hotels, Boarding, Restaurants or Catering', 'IWU Production, Workshop, Warehouse or Operations', 'IWU Trade Buildings', 'IWU Technical and Utility (supply and disposal)', 'IWU Transport', 'IWU Generalized (1) Services building', 'IWU Generalized (2) Production buildings']\n",
      "Current usage: IWU Production, Workshop, Warehouse or Operations\n",
      "{'ow1': 0.434041692, 'win1': 0.177106716, 'rt1': 0.697615167, 'gf1': 0.874876657}\n",
      "{'ow1': 0.434041692, 'win1': 0.177106716, 'rt1': 0.697615167, 'gf1': 0.874876657} Thesese are the facade estimation factors for building  IWU Production, Workshop, Warehouse or Operations 1686.6884939955185 1925.0\n",
      "This is the path: C:\\Users\\felix\\Programmieren\\districtgenerator\\data\\consumption_data\\internal_loads.csv\n",
      "No data for light demand available for IWU Production, Workshop, Warehouse or Operations\n",
      "Creating building MFH\n",
      "Creating building AB\n"
     ]
    },
    {
     "name": "stderr",
     "output_type": "stream",
     "text": [
      "c:\\Users\\felix\\Programmieren\\districtgenerator\\functions\\light_demand.py:121: FutureWarning: Setting an item of incompatible dtype is deprecated and will raise an error in a future version of pandas. Value '[24087.93107257 72263.79321772 72263.79321772 ... 84307.758754\n",
      " 72263.79321772 24087.93107257]' has dtype incompatible with int64, please explicitly cast to a compatible dtype first.\n",
      "  lighting_demand[mask] = lighting_load * area * occupancy_schedule[\"OCCUPANCY\"][mask]  # Calculate energy demand\n",
      "c:\\Users\\felix\\Programmieren\\districtgenerator\\.venv\\Lib\\site-packages\\teaser\\logic\\buildingobjects\\useconditions.py:363: FutureWarning: 'H' is deprecated and will be removed in a future version, please use 'h' instead.\n",
      "  index=pd.date_range(\"2019-01-01 00:00:00\", periods=8760, freq=\"H\")\n",
      "c:\\Users\\felix\\Programmieren\\districtgenerator\\.venv\\Lib\\site-packages\\teaser\\logic\\buildingobjects\\useconditions.py:363: FutureWarning: 'H' is deprecated and will be removed in a future version, please use 'h' instead.\n",
      "  index=pd.date_range(\"2019-01-01 00:00:00\", periods=8760, freq=\"H\")\n"
     ]
    },
    {
     "name": "stdout",
     "output_type": "stream",
     "text": [
      "Creating building AB\n",
      "Creating building MFH\n"
     ]
    },
    {
     "name": "stderr",
     "output_type": "stream",
     "text": [
      "c:\\Users\\felix\\Programmieren\\districtgenerator\\.venv\\Lib\\site-packages\\teaser\\logic\\buildingobjects\\useconditions.py:363: FutureWarning: 'H' is deprecated and will be removed in a future version, please use 'h' instead.\n",
      "  index=pd.date_range(\"2019-01-01 00:00:00\", periods=8760, freq=\"H\")\n",
      "c:\\Users\\felix\\Programmieren\\districtgenerator\\.venv\\Lib\\site-packages\\teaser\\logic\\buildingobjects\\useconditions.py:363: FutureWarning: 'H' is deprecated and will be removed in a future version, please use 'h' instead.\n",
      "  index=pd.date_range(\"2019-01-01 00:00:00\", periods=8760, freq=\"H\")\n"
     ]
    },
    {
     "name": "stdout",
     "output_type": "stream",
     "text": [
      "Creating building MFH\n",
      "Creating building MFH\n"
     ]
    },
    {
     "name": "stderr",
     "output_type": "stream",
     "text": [
      "c:\\Users\\felix\\Programmieren\\districtgenerator\\.venv\\Lib\\site-packages\\teaser\\logic\\buildingobjects\\useconditions.py:363: FutureWarning: 'H' is deprecated and will be removed in a future version, please use 'h' instead.\n",
      "  index=pd.date_range(\"2019-01-01 00:00:00\", periods=8760, freq=\"H\")\n",
      "c:\\Users\\felix\\Programmieren\\districtgenerator\\.venv\\Lib\\site-packages\\teaser\\logic\\buildingobjects\\useconditions.py:363: FutureWarning: 'H' is deprecated and will be removed in a future version, please use 'h' instead.\n",
      "  index=pd.date_range(\"2019-01-01 00:00:00\", periods=8760, freq=\"H\")\n"
     ]
    },
    {
     "name": "stdout",
     "output_type": "stream",
     "text": [
      "Creating building AB\n",
      "Creating building AB\n"
     ]
    },
    {
     "name": "stderr",
     "output_type": "stream",
     "text": [
      "c:\\Users\\felix\\Programmieren\\districtgenerator\\.venv\\Lib\\site-packages\\teaser\\logic\\buildingobjects\\useconditions.py:363: FutureWarning: 'H' is deprecated and will be removed in a future version, please use 'h' instead.\n",
      "  index=pd.date_range(\"2019-01-01 00:00:00\", periods=8760, freq=\"H\")\n",
      "c:\\Users\\felix\\Programmieren\\districtgenerator\\.venv\\Lib\\site-packages\\teaser\\logic\\buildingobjects\\useconditions.py:363: FutureWarning: 'H' is deprecated and will be removed in a future version, please use 'h' instead.\n",
      "  index=pd.date_range(\"2019-01-01 00:00:00\", periods=8760, freq=\"H\")\n"
     ]
    },
    {
     "name": "stdout",
     "output_type": "stream",
     "text": [
      "Creating building MFH\n",
      "Creating building IWU Production, Workshop, Warehouse or Operations\n",
      "We are about to generate a Non Residential building.\n",
      "Available building types: ['IWU Office, Administrative or Government Buildings', 'IWU Research and University Teaching', 'IWU Health and Care', 'IWU School, Day Nursery and other Care', 'IWU Culture and Leisure', 'IWU Sports Facilities', 'IWU Hotels, Boarding, Restaurants or Catering', 'IWU Production, Workshop, Warehouse or Operations', 'IWU Trade Buildings', 'IWU Technical and Utility (supply and disposal)', 'IWU Transport', 'IWU Generalized (1) Services building', 'IWU Generalized (2) Production buildings']\n",
      "Current usage: IWU Production, Workshop, Warehouse or Operations\n",
      "Available building types: ['IWU Office, Administrative or Government Buildings', 'IWU Research and University Teaching', 'IWU Health and Care', 'IWU School, Day Nursery and other Care', 'IWU Culture and Leisure', 'IWU Sports Facilities', 'IWU Hotels, Boarding, Restaurants or Catering', 'IWU Production, Workshop, Warehouse or Operations', 'IWU Trade Buildings', 'IWU Technical and Utility (supply and disposal)', 'IWU Transport', 'IWU Generalized (1) Services building', 'IWU Generalized (2) Production buildings']\n",
      "Current usage: IWU Production, Workshop, Warehouse or Operations\n",
      "{'ow1': 0.434041692, 'win1': 0.177106716, 'rt1': 0.697615167, 'gf1': 0.874876657}\n",
      "{'ow1': 0.434041692, 'win1': 0.177106716, 'rt1': 0.697615167, 'gf1': 0.874876657} Thesese are the facade estimation factors for building  IWU Production, Workshop, Warehouse or Operations 355.5489940016385 1905.0\n",
      "This is the path: C:\\Users\\felix\\Programmieren\\districtgenerator\\data\\consumption_data\\internal_loads.csv\n",
      "No data for light demand available for IWU Production, Workshop, Warehouse or Operations\n",
      "Creating building MFH\n"
     ]
    },
    {
     "name": "stderr",
     "output_type": "stream",
     "text": [
      "c:\\Users\\felix\\Programmieren\\districtgenerator\\.venv\\Lib\\site-packages\\teaser\\logic\\buildingobjects\\useconditions.py:363: FutureWarning: 'H' is deprecated and will be removed in a future version, please use 'h' instead.\n",
      "  index=pd.date_range(\"2019-01-01 00:00:00\", periods=8760, freq=\"H\")\n",
      "c:\\Users\\felix\\Programmieren\\districtgenerator\\.venv\\Lib\\site-packages\\teaser\\logic\\buildingobjects\\useconditions.py:363: FutureWarning: 'H' is deprecated and will be removed in a future version, please use 'h' instead.\n",
      "  index=pd.date_range(\"2019-01-01 00:00:00\", periods=8760, freq=\"H\")\n"
     ]
    },
    {
     "name": "stdout",
     "output_type": "stream",
     "text": [
      "Creating building AB\n",
      "Creating building IWU Production, Workshop, Warehouse or Operations\n",
      "We are about to generate a Non Residential building.\n",
      "Available building types: ['IWU Office, Administrative or Government Buildings', 'IWU Research and University Teaching', 'IWU Health and Care', 'IWU School, Day Nursery and other Care', 'IWU Culture and Leisure', 'IWU Sports Facilities', 'IWU Hotels, Boarding, Restaurants or Catering', 'IWU Production, Workshop, Warehouse or Operations', 'IWU Trade Buildings', 'IWU Technical and Utility (supply and disposal)', 'IWU Transport', 'IWU Generalized (1) Services building', 'IWU Generalized (2) Production buildings']\n",
      "Current usage: IWU Production, Workshop, Warehouse or Operations\n",
      "Available building types: ['IWU Office, Administrative or Government Buildings', 'IWU Research and University Teaching', 'IWU Health and Care', 'IWU School, Day Nursery and other Care', 'IWU Culture and Leisure', 'IWU Sports Facilities', 'IWU Hotels, Boarding, Restaurants or Catering', 'IWU Production, Workshop, Warehouse or Operations', 'IWU Trade Buildings', 'IWU Technical and Utility (supply and disposal)', 'IWU Transport', 'IWU Generalized (1) Services building', 'IWU Generalized (2) Production buildings']\n",
      "Current usage: IWU Production, Workshop, Warehouse or Operations\n",
      "{'ow1': 0.434041692, 'win1': 0.177106716, 'rt1': 0.697615167, 'gf1': 0.874876657}\n",
      "{'ow1': 0.434041692, 'win1': 0.177106716, 'rt1': 0.697615167, 'gf1': 0.874876657} Thesese are the facade estimation factors for building  IWU Production, Workshop, Warehouse or Operations 6066.409619905957 1905.0\n",
      "This is the path: C:\\Users\\felix\\Programmieren\\districtgenerator\\data\\consumption_data\\internal_loads.csv\n",
      "No data for light demand available for IWU Production, Workshop, Warehouse or Operations\n",
      "Creating building MFH\n"
     ]
    },
    {
     "name": "stderr",
     "output_type": "stream",
     "text": [
      "c:\\Users\\felix\\Programmieren\\districtgenerator\\.venv\\Lib\\site-packages\\teaser\\logic\\buildingobjects\\useconditions.py:363: FutureWarning: 'H' is deprecated and will be removed in a future version, please use 'h' instead.\n",
      "  index=pd.date_range(\"2019-01-01 00:00:00\", periods=8760, freq=\"H\")\n",
      "c:\\Users\\felix\\Programmieren\\districtgenerator\\.venv\\Lib\\site-packages\\teaser\\logic\\buildingobjects\\useconditions.py:363: FutureWarning: 'H' is deprecated and will be removed in a future version, please use 'h' instead.\n",
      "  index=pd.date_range(\"2019-01-01 00:00:00\", periods=8760, freq=\"H\")\n"
     ]
    },
    {
     "name": "stdout",
     "output_type": "stream",
     "text": [
      "Creating building MFH\n",
      "Creating building MFH\n",
      "Creating building MFH\n"
     ]
    },
    {
     "name": "stderr",
     "output_type": "stream",
     "text": [
      "c:\\Users\\felix\\Programmieren\\districtgenerator\\.venv\\Lib\\site-packages\\teaser\\logic\\buildingobjects\\useconditions.py:363: FutureWarning: 'H' is deprecated and will be removed in a future version, please use 'h' instead.\n",
      "  index=pd.date_range(\"2019-01-01 00:00:00\", periods=8760, freq=\"H\")\n",
      "c:\\Users\\felix\\Programmieren\\districtgenerator\\.venv\\Lib\\site-packages\\teaser\\logic\\buildingobjects\\useconditions.py:363: FutureWarning: 'H' is deprecated and will be removed in a future version, please use 'h' instead.\n",
      "  index=pd.date_range(\"2019-01-01 00:00:00\", periods=8760, freq=\"H\")\n",
      "c:\\Users\\felix\\Programmieren\\districtgenerator\\.venv\\Lib\\site-packages\\teaser\\logic\\buildingobjects\\useconditions.py:363: FutureWarning: 'H' is deprecated and will be removed in a future version, please use 'h' instead.\n",
      "  index=pd.date_range(\"2019-01-01 00:00:00\", periods=8760, freq=\"H\")\n"
     ]
    },
    {
     "name": "stdout",
     "output_type": "stream",
     "text": [
      "Creating building MFH\n",
      "Creating building MFH\n",
      "Creating building MFH\n"
     ]
    },
    {
     "name": "stderr",
     "output_type": "stream",
     "text": [
      "c:\\Users\\felix\\Programmieren\\districtgenerator\\.venv\\Lib\\site-packages\\teaser\\logic\\buildingobjects\\useconditions.py:363: FutureWarning: 'H' is deprecated and will be removed in a future version, please use 'h' instead.\n",
      "  index=pd.date_range(\"2019-01-01 00:00:00\", periods=8760, freq=\"H\")\n",
      "c:\\Users\\felix\\Programmieren\\districtgenerator\\.venv\\Lib\\site-packages\\teaser\\logic\\buildingobjects\\useconditions.py:363: FutureWarning: 'H' is deprecated and will be removed in a future version, please use 'h' instead.\n",
      "  index=pd.date_range(\"2019-01-01 00:00:00\", periods=8760, freq=\"H\")\n",
      "c:\\Users\\felix\\Programmieren\\districtgenerator\\.venv\\Lib\\site-packages\\teaser\\logic\\buildingobjects\\useconditions.py:363: FutureWarning: 'H' is deprecated and will be removed in a future version, please use 'h' instead.\n",
      "  index=pd.date_range(\"2019-01-01 00:00:00\", periods=8760, freq=\"H\")\n"
     ]
    },
    {
     "name": "stdout",
     "output_type": "stream",
     "text": [
      "Creating building IWU Transport\n",
      "We are about to generate a Non Residential building.\n",
      "Available building types: ['IWU Office, Administrative or Government Buildings', 'IWU Research and University Teaching', 'IWU Health and Care', 'IWU School, Day Nursery and other Care', 'IWU Culture and Leisure', 'IWU Sports Facilities', 'IWU Hotels, Boarding, Restaurants or Catering', 'IWU Production, Workshop, Warehouse or Operations', 'IWU Trade Buildings', 'IWU Technical and Utility (supply and disposal)', 'IWU Transport', 'IWU Generalized (1) Services building', 'IWU Generalized (2) Production buildings']\n",
      "Current usage: IWU Transport\n",
      "Available building types: ['IWU Office, Administrative or Government Buildings', 'IWU Research and University Teaching', 'IWU Health and Care', 'IWU School, Day Nursery and other Care', 'IWU Culture and Leisure', 'IWU Sports Facilities', 'IWU Hotels, Boarding, Restaurants or Catering', 'IWU Production, Workshop, Warehouse or Operations', 'IWU Trade Buildings', 'IWU Technical and Utility (supply and disposal)', 'IWU Transport', 'IWU Generalized (1) Services building', 'IWU Generalized (2) Production buildings']\n",
      "Current usage: IWU Transport\n",
      "{'ow1': 0.638685232, 'win1': 0.528141959, 'rt1': 0.613666073, 'gf1': 1.275661128}\n",
      "{'ow1': 0.638685232, 'win1': 0.528141959, 'rt1': 0.613666073, 'gf1': 1.275661128} Thesese are the facade estimation factors for building  IWU Transport 345.72011899265914 1900.0\n",
      "This is the path: C:\\Users\\felix\\Programmieren\\districtgenerator\\data\\consumption_data\\internal_loads.csv\n",
      "No data for light demand available for IWU Transport\n",
      "Creating building MFH\n",
      "Creating building AB\n",
      "Creating building AB\n"
     ]
    },
    {
     "name": "stderr",
     "output_type": "stream",
     "text": [
      "c:\\Users\\felix\\Programmieren\\districtgenerator\\.venv\\Lib\\site-packages\\teaser\\logic\\buildingobjects\\useconditions.py:363: FutureWarning: 'H' is deprecated and will be removed in a future version, please use 'h' instead.\n",
      "  index=pd.date_range(\"2019-01-01 00:00:00\", periods=8760, freq=\"H\")\n",
      "c:\\Users\\felix\\Programmieren\\districtgenerator\\.venv\\Lib\\site-packages\\teaser\\logic\\buildingobjects\\useconditions.py:363: FutureWarning: 'H' is deprecated and will be removed in a future version, please use 'h' instead.\n",
      "  index=pd.date_range(\"2019-01-01 00:00:00\", periods=8760, freq=\"H\")\n",
      "c:\\Users\\felix\\Programmieren\\districtgenerator\\.venv\\Lib\\site-packages\\teaser\\logic\\buildingobjects\\useconditions.py:363: FutureWarning: 'H' is deprecated and will be removed in a future version, please use 'h' instead.\n",
      "  index=pd.date_range(\"2019-01-01 00:00:00\", periods=8760, freq=\"H\")\n"
     ]
    },
    {
     "name": "stdout",
     "output_type": "stream",
     "text": [
      "Creating building MFH\n",
      "Creating building IWU Transport\n",
      "We are about to generate a Non Residential building.\n",
      "Available building types: ['IWU Office, Administrative or Government Buildings', 'IWU Research and University Teaching', 'IWU Health and Care', 'IWU School, Day Nursery and other Care', 'IWU Culture and Leisure', 'IWU Sports Facilities', 'IWU Hotels, Boarding, Restaurants or Catering', 'IWU Production, Workshop, Warehouse or Operations', 'IWU Trade Buildings', 'IWU Technical and Utility (supply and disposal)', 'IWU Transport', 'IWU Generalized (1) Services building', 'IWU Generalized (2) Production buildings']\n",
      "Current usage: IWU Transport\n",
      "Available building types: ['IWU Office, Administrative or Government Buildings', 'IWU Research and University Teaching', 'IWU Health and Care', 'IWU School, Day Nursery and other Care', 'IWU Culture and Leisure', 'IWU Sports Facilities', 'IWU Hotels, Boarding, Restaurants or Catering', 'IWU Production, Workshop, Warehouse or Operations', 'IWU Trade Buildings', 'IWU Technical and Utility (supply and disposal)', 'IWU Transport', 'IWU Generalized (1) Services building', 'IWU Generalized (2) Production buildings']\n",
      "Current usage: IWU Transport\n",
      "{'ow1': 0.638685232, 'win1': 0.528141959, 'rt1': 0.613666073, 'gf1': 1.275661128}\n",
      "{'ow1': 0.638685232, 'win1': 0.528141959, 'rt1': 0.613666073, 'gf1': 1.275661128} Thesese are the facade estimation factors for building  IWU Transport 170.67177800316028 1900.0\n",
      "This is the path: C:\\Users\\felix\\Programmieren\\districtgenerator\\data\\consumption_data\\internal_loads.csv\n",
      "No data for light demand available for IWU Transport\n",
      "Creating building AB\n"
     ]
    },
    {
     "name": "stderr",
     "output_type": "stream",
     "text": [
      "c:\\Users\\felix\\Programmieren\\districtgenerator\\.venv\\Lib\\site-packages\\teaser\\logic\\buildingobjects\\useconditions.py:363: FutureWarning: 'H' is deprecated and will be removed in a future version, please use 'h' instead.\n",
      "  index=pd.date_range(\"2019-01-01 00:00:00\", periods=8760, freq=\"H\")\n",
      "c:\\Users\\felix\\Programmieren\\districtgenerator\\.venv\\Lib\\site-packages\\teaser\\logic\\buildingobjects\\useconditions.py:363: FutureWarning: 'H' is deprecated and will be removed in a future version, please use 'h' instead.\n",
      "  index=pd.date_range(\"2019-01-01 00:00:00\", periods=8760, freq=\"H\")\n"
     ]
    },
    {
     "name": "stdout",
     "output_type": "stream",
     "text": [
      "Creating building AB\n",
      "Creating building AB\n",
      "Creating building MFH\n"
     ]
    },
    {
     "name": "stderr",
     "output_type": "stream",
     "text": [
      "c:\\Users\\felix\\Programmieren\\districtgenerator\\.venv\\Lib\\site-packages\\teaser\\logic\\buildingobjects\\useconditions.py:363: FutureWarning: 'H' is deprecated and will be removed in a future version, please use 'h' instead.\n",
      "  index=pd.date_range(\"2019-01-01 00:00:00\", periods=8760, freq=\"H\")\n",
      "c:\\Users\\felix\\Programmieren\\districtgenerator\\.venv\\Lib\\site-packages\\teaser\\logic\\buildingobjects\\useconditions.py:363: FutureWarning: 'H' is deprecated and will be removed in a future version, please use 'h' instead.\n",
      "  index=pd.date_range(\"2019-01-01 00:00:00\", periods=8760, freq=\"H\")\n",
      "c:\\Users\\felix\\Programmieren\\districtgenerator\\.venv\\Lib\\site-packages\\teaser\\logic\\buildingobjects\\useconditions.py:363: FutureWarning: 'H' is deprecated and will be removed in a future version, please use 'h' instead.\n",
      "  index=pd.date_range(\"2019-01-01 00:00:00\", periods=8760, freq=\"H\")\n"
     ]
    },
    {
     "name": "stdout",
     "output_type": "stream",
     "text": [
      "Creating building AB\n",
      "Creating building AB\n"
     ]
    },
    {
     "name": "stderr",
     "output_type": "stream",
     "text": [
      "c:\\Users\\felix\\Programmieren\\districtgenerator\\.venv\\Lib\\site-packages\\teaser\\logic\\buildingobjects\\useconditions.py:363: FutureWarning: 'H' is deprecated and will be removed in a future version, please use 'h' instead.\n",
      "  index=pd.date_range(\"2019-01-01 00:00:00\", periods=8760, freq=\"H\")\n",
      "c:\\Users\\felix\\Programmieren\\districtgenerator\\.venv\\Lib\\site-packages\\teaser\\logic\\buildingobjects\\useconditions.py:363: FutureWarning: 'H' is deprecated and will be removed in a future version, please use 'h' instead.\n",
      "  index=pd.date_range(\"2019-01-01 00:00:00\", periods=8760, freq=\"H\")\n"
     ]
    },
    {
     "name": "stdout",
     "output_type": "stream",
     "text": [
      "Creating building MFH\n",
      "Creating building AB\n"
     ]
    },
    {
     "name": "stderr",
     "output_type": "stream",
     "text": [
      "c:\\Users\\felix\\Programmieren\\districtgenerator\\.venv\\Lib\\site-packages\\teaser\\logic\\buildingobjects\\useconditions.py:363: FutureWarning: 'H' is deprecated and will be removed in a future version, please use 'h' instead.\n",
      "  index=pd.date_range(\"2019-01-01 00:00:00\", periods=8760, freq=\"H\")\n",
      "c:\\Users\\felix\\Programmieren\\districtgenerator\\.venv\\Lib\\site-packages\\teaser\\logic\\buildingobjects\\useconditions.py:363: FutureWarning: 'H' is deprecated and will be removed in a future version, please use 'h' instead.\n",
      "  index=pd.date_range(\"2019-01-01 00:00:00\", periods=8760, freq=\"H\")\n"
     ]
    },
    {
     "name": "stdout",
     "output_type": "stream",
     "text": [
      "Creating building AB\n",
      "Creating building MFH\n"
     ]
    },
    {
     "name": "stderr",
     "output_type": "stream",
     "text": [
      "c:\\Users\\felix\\Programmieren\\districtgenerator\\.venv\\Lib\\site-packages\\teaser\\logic\\buildingobjects\\useconditions.py:363: FutureWarning: 'H' is deprecated and will be removed in a future version, please use 'h' instead.\n",
      "  index=pd.date_range(\"2019-01-01 00:00:00\", periods=8760, freq=\"H\")\n",
      "c:\\Users\\felix\\Programmieren\\districtgenerator\\.venv\\Lib\\site-packages\\teaser\\logic\\buildingobjects\\useconditions.py:363: FutureWarning: 'H' is deprecated and will be removed in a future version, please use 'h' instead.\n",
      "  index=pd.date_range(\"2019-01-01 00:00:00\", periods=8760, freq=\"H\")\n"
     ]
    },
    {
     "name": "stdout",
     "output_type": "stream",
     "text": [
      "Creating building IWU Production, Workshop, Warehouse or Operations\n",
      "We are about to generate a Non Residential building.\n",
      "Available building types: ['IWU Office, Administrative or Government Buildings', 'IWU Research and University Teaching', 'IWU Health and Care', 'IWU School, Day Nursery and other Care', 'IWU Culture and Leisure', 'IWU Sports Facilities', 'IWU Hotels, Boarding, Restaurants or Catering', 'IWU Production, Workshop, Warehouse or Operations', 'IWU Trade Buildings', 'IWU Technical and Utility (supply and disposal)', 'IWU Transport', 'IWU Generalized (1) Services building', 'IWU Generalized (2) Production buildings']\n",
      "Current usage: IWU Production, Workshop, Warehouse or Operations\n",
      "Available building types: ['IWU Office, Administrative or Government Buildings', 'IWU Research and University Teaching', 'IWU Health and Care', 'IWU School, Day Nursery and other Care', 'IWU Culture and Leisure', 'IWU Sports Facilities', 'IWU Hotels, Boarding, Restaurants or Catering', 'IWU Production, Workshop, Warehouse or Operations', 'IWU Trade Buildings', 'IWU Technical and Utility (supply and disposal)', 'IWU Transport', 'IWU Generalized (1) Services building', 'IWU Generalized (2) Production buildings']\n",
      "Current usage: IWU Production, Workshop, Warehouse or Operations\n",
      "{'ow1': 0.434041692, 'win1': 0.177106716, 'rt1': 0.697615167, 'gf1': 0.874876657}\n",
      "{'ow1': 0.434041692, 'win1': 0.177106716, 'rt1': 0.697615167, 'gf1': 0.874876657} Thesese are the facade estimation factors for building  IWU Production, Workshop, Warehouse or Operations 900.1915705290066 1925.0\n",
      "This is the path: C:\\Users\\felix\\Programmieren\\districtgenerator\\data\\consumption_data\\internal_loads.csv\n",
      "No data for light demand available for IWU Production, Workshop, Warehouse or Operations\n",
      "Creating building MFH\n",
      "Creating building IWU Technical and Utility (supply and disposal)\n",
      "We are about to generate a Non Residential building.\n",
      "Available building types: ['IWU Office, Administrative or Government Buildings', 'IWU Research and University Teaching', 'IWU Health and Care', 'IWU School, Day Nursery and other Care', 'IWU Culture and Leisure', 'IWU Sports Facilities', 'IWU Hotels, Boarding, Restaurants or Catering', 'IWU Production, Workshop, Warehouse or Operations', 'IWU Trade Buildings', 'IWU Technical and Utility (supply and disposal)', 'IWU Transport', 'IWU Generalized (1) Services building', 'IWU Generalized (2) Production buildings']\n",
      "Current usage: IWU Technical and Utility (supply and disposal)\n",
      "Available building types: ['IWU Office, Administrative or Government Buildings', 'IWU Research and University Teaching', 'IWU Health and Care', 'IWU School, Day Nursery and other Care', 'IWU Culture and Leisure', 'IWU Sports Facilities', 'IWU Hotels, Boarding, Restaurants or Catering', 'IWU Production, Workshop, Warehouse or Operations', 'IWU Trade Buildings', 'IWU Technical and Utility (supply and disposal)', 'IWU Transport', 'IWU Generalized (1) Services building', 'IWU Generalized (2) Production buildings']\n",
      "Current usage: IWU Technical and Utility (supply and disposal)\n",
      "{'ow1': 0.784967654, 'win1': 0.303347338, 'rt1': 0.594165802, 'gf1': 1.176470497}\n",
      "{'ow1': 0.784967654, 'win1': 0.303347338, 'rt1': 0.594165802, 'gf1': 1.176470497} Thesese are the facade estimation factors for building  IWU Technical and Utility (supply and disposal) 56.20438500271275 1900.0\n"
     ]
    },
    {
     "name": "stderr",
     "output_type": "stream",
     "text": [
      "c:\\Users\\felix\\Programmieren\\districtgenerator\\.venv\\Lib\\site-packages\\teaser\\logic\\buildingobjects\\useconditions.py:363: FutureWarning: 'H' is deprecated and will be removed in a future version, please use 'h' instead.\n",
      "  index=pd.date_range(\"2019-01-01 00:00:00\", periods=8760, freq=\"H\")\n",
      "c:\\Users\\felix\\Programmieren\\districtgenerator\\.venv\\Lib\\site-packages\\teaser\\logic\\buildingobjects\\useconditions.py:363: FutureWarning: 'H' is deprecated and will be removed in a future version, please use 'h' instead.\n",
      "  index=pd.date_range(\"2019-01-01 00:00:00\", periods=8760, freq=\"H\")\n"
     ]
    },
    {
     "name": "stdout",
     "output_type": "stream",
     "text": [
      "This is the path: C:\\Users\\felix\\Programmieren\\districtgenerator\\data\\consumption_data\\internal_loads.csv\n",
      "No data for light demand available for IWU Technical and Utility (supply and disposal)\n",
      "Creating building MFH\n",
      "Creating building MFH\n",
      "Creating building MFH\n"
     ]
    },
    {
     "name": "stderr",
     "output_type": "stream",
     "text": [
      "c:\\Users\\felix\\Programmieren\\districtgenerator\\.venv\\Lib\\site-packages\\teaser\\logic\\buildingobjects\\useconditions.py:363: FutureWarning: 'H' is deprecated and will be removed in a future version, please use 'h' instead.\n",
      "  index=pd.date_range(\"2019-01-01 00:00:00\", periods=8760, freq=\"H\")\n",
      "c:\\Users\\felix\\Programmieren\\districtgenerator\\.venv\\Lib\\site-packages\\teaser\\logic\\buildingobjects\\useconditions.py:363: FutureWarning: 'H' is deprecated and will be removed in a future version, please use 'h' instead.\n",
      "  index=pd.date_range(\"2019-01-01 00:00:00\", periods=8760, freq=\"H\")\n",
      "c:\\Users\\felix\\Programmieren\\districtgenerator\\.venv\\Lib\\site-packages\\teaser\\logic\\buildingobjects\\useconditions.py:363: FutureWarning: 'H' is deprecated and will be removed in a future version, please use 'h' instead.\n",
      "  index=pd.date_range(\"2019-01-01 00:00:00\", periods=8760, freq=\"H\")\n"
     ]
    },
    {
     "name": "stdout",
     "output_type": "stream",
     "text": [
      "Creating building IWU Production, Workshop, Warehouse or Operations\n",
      "We are about to generate a Non Residential building.\n",
      "Available building types: ['IWU Office, Administrative or Government Buildings', 'IWU Research and University Teaching', 'IWU Health and Care', 'IWU School, Day Nursery and other Care', 'IWU Culture and Leisure', 'IWU Sports Facilities', 'IWU Hotels, Boarding, Restaurants or Catering', 'IWU Production, Workshop, Warehouse or Operations', 'IWU Trade Buildings', 'IWU Technical and Utility (supply and disposal)', 'IWU Transport', 'IWU Generalized (1) Services building', 'IWU Generalized (2) Production buildings']\n",
      "Current usage: IWU Production, Workshop, Warehouse or Operations\n",
      "Available building types: ['IWU Office, Administrative or Government Buildings', 'IWU Research and University Teaching', 'IWU Health and Care', 'IWU School, Day Nursery and other Care', 'IWU Culture and Leisure', 'IWU Sports Facilities', 'IWU Hotels, Boarding, Restaurants or Catering', 'IWU Production, Workshop, Warehouse or Operations', 'IWU Trade Buildings', 'IWU Technical and Utility (supply and disposal)', 'IWU Transport', 'IWU Generalized (1) Services building', 'IWU Generalized (2) Production buildings']\n",
      "Current usage: IWU Production, Workshop, Warehouse or Operations\n",
      "{'ow1': 0.434041692, 'win1': 0.177106716, 'rt1': 0.697615167, 'gf1': 0.874876657}\n",
      "{'ow1': 0.434041692, 'win1': 0.177106716, 'rt1': 0.697615167, 'gf1': 0.874876657} Thesese are the facade estimation factors for building  IWU Production, Workshop, Warehouse or Operations 338.4986020244588 1905.0\n",
      "This is the path: C:\\Users\\felix\\Programmieren\\districtgenerator\\data\\consumption_data\\internal_loads.csv\n",
      "No data for light demand available for IWU Production, Workshop, Warehouse or Operations\n",
      "Creating building IWU Production, Workshop, Warehouse or Operations\n",
      "We are about to generate a Non Residential building.\n",
      "Available building types: ['IWU Office, Administrative or Government Buildings', 'IWU Research and University Teaching', 'IWU Health and Care', 'IWU School, Day Nursery and other Care', 'IWU Culture and Leisure', 'IWU Sports Facilities', 'IWU Hotels, Boarding, Restaurants or Catering', 'IWU Production, Workshop, Warehouse or Operations', 'IWU Trade Buildings', 'IWU Technical and Utility (supply and disposal)', 'IWU Transport', 'IWU Generalized (1) Services building', 'IWU Generalized (2) Production buildings']\n",
      "Current usage: IWU Production, Workshop, Warehouse or Operations\n",
      "Available building types: ['IWU Office, Administrative or Government Buildings', 'IWU Research and University Teaching', 'IWU Health and Care', 'IWU School, Day Nursery and other Care', 'IWU Culture and Leisure', 'IWU Sports Facilities', 'IWU Hotels, Boarding, Restaurants or Catering', 'IWU Production, Workshop, Warehouse or Operations', 'IWU Trade Buildings', 'IWU Technical and Utility (supply and disposal)', 'IWU Transport', 'IWU Generalized (1) Services building', 'IWU Generalized (2) Production buildings']\n",
      "Current usage: IWU Production, Workshop, Warehouse or Operations\n",
      "{'ow1': 0.434041692, 'win1': 0.177106716, 'rt1': 0.697615167, 'gf1': 0.874876657}\n",
      "{'ow1': 0.434041692, 'win1': 0.177106716, 'rt1': 0.697615167, 'gf1': 0.874876657} Thesese are the facade estimation factors for building  IWU Production, Workshop, Warehouse or Operations 726.3009575003668 1925.0\n",
      "This is the path: C:\\Users\\felix\\Programmieren\\districtgenerator\\data\\consumption_data\\internal_loads.csv\n",
      "No data for light demand available for IWU Production, Workshop, Warehouse or Operations\n",
      "Creating building MFH\n",
      "Creating building MFH\n",
      "Creating building AB\n"
     ]
    },
    {
     "name": "stderr",
     "output_type": "stream",
     "text": [
      "c:\\Users\\felix\\Programmieren\\districtgenerator\\.venv\\Lib\\site-packages\\teaser\\logic\\buildingobjects\\useconditions.py:363: FutureWarning: 'H' is deprecated and will be removed in a future version, please use 'h' instead.\n",
      "  index=pd.date_range(\"2019-01-01 00:00:00\", periods=8760, freq=\"H\")\n",
      "c:\\Users\\felix\\Programmieren\\districtgenerator\\.venv\\Lib\\site-packages\\teaser\\logic\\buildingobjects\\useconditions.py:363: FutureWarning: 'H' is deprecated and will be removed in a future version, please use 'h' instead.\n",
      "  index=pd.date_range(\"2019-01-01 00:00:00\", periods=8760, freq=\"H\")\n"
     ]
    },
    {
     "name": "stdout",
     "output_type": "stream",
     "text": [
      "Creating building IWU Transport\n",
      "We are about to generate a Non Residential building.\n",
      "Available building types: ['IWU Office, Administrative or Government Buildings', 'IWU Research and University Teaching', 'IWU Health and Care', 'IWU School, Day Nursery and other Care', 'IWU Culture and Leisure', 'IWU Sports Facilities', 'IWU Hotels, Boarding, Restaurants or Catering', 'IWU Production, Workshop, Warehouse or Operations', 'IWU Trade Buildings', 'IWU Technical and Utility (supply and disposal)', 'IWU Transport', 'IWU Generalized (1) Services building', 'IWU Generalized (2) Production buildings']\n",
      "Current usage: IWU Transport\n",
      "Available building types: ['IWU Office, Administrative or Government Buildings', 'IWU Research and University Teaching', 'IWU Health and Care', 'IWU School, Day Nursery and other Care', 'IWU Culture and Leisure', 'IWU Sports Facilities', 'IWU Hotels, Boarding, Restaurants or Catering', 'IWU Production, Workshop, Warehouse or Operations', 'IWU Trade Buildings', 'IWU Technical and Utility (supply and disposal)', 'IWU Transport', 'IWU Generalized (1) Services building', 'IWU Generalized (2) Production buildings']\n",
      "Current usage: IWU Transport\n",
      "{'ow1': 0.638685232, 'win1': 0.528141959, 'rt1': 0.613666073, 'gf1': 1.275661128}\n",
      "{'ow1': 0.638685232, 'win1': 0.528141959, 'rt1': 0.613666073, 'gf1': 1.275661128} Thesese are the facade estimation factors for building  IWU Transport 1881.3202889903205 1925.0\n",
      "This is the path: C:\\Users\\felix\\Programmieren\\districtgenerator\\data\\consumption_data\\internal_loads.csv\n",
      "No data for light demand available for IWU Transport\n",
      "Creating building IWU Production, Workshop, Warehouse or Operations\n",
      "We are about to generate a Non Residential building.\n",
      "Available building types: ['IWU Office, Administrative or Government Buildings', 'IWU Research and University Teaching', 'IWU Health and Care', 'IWU School, Day Nursery and other Care', 'IWU Culture and Leisure', 'IWU Sports Facilities', 'IWU Hotels, Boarding, Restaurants or Catering', 'IWU Production, Workshop, Warehouse or Operations', 'IWU Trade Buildings', 'IWU Technical and Utility (supply and disposal)', 'IWU Transport', 'IWU Generalized (1) Services building', 'IWU Generalized (2) Production buildings']\n",
      "Current usage: IWU Production, Workshop, Warehouse or Operations\n",
      "Available building types: ['IWU Office, Administrative or Government Buildings', 'IWU Research and University Teaching', 'IWU Health and Care', 'IWU School, Day Nursery and other Care', 'IWU Culture and Leisure', 'IWU Sports Facilities', 'IWU Hotels, Boarding, Restaurants or Catering', 'IWU Production, Workshop, Warehouse or Operations', 'IWU Trade Buildings', 'IWU Technical and Utility (supply and disposal)', 'IWU Transport', 'IWU Generalized (1) Services building', 'IWU Generalized (2) Production buildings']\n",
      "Current usage: IWU Production, Workshop, Warehouse or Operations\n",
      "{'ow1': 0.434041692, 'win1': 0.177106716, 'rt1': 0.697615167, 'gf1': 0.874876657}\n",
      "{'ow1': 0.434041692, 'win1': 0.177106716, 'rt1': 0.697615167, 'gf1': 0.874876657} Thesese are the facade estimation factors for building  IWU Production, Workshop, Warehouse or Operations 723.9087779917395 1905.0\n",
      "This is the path: C:\\Users\\felix\\Programmieren\\districtgenerator\\data\\consumption_data\\internal_loads.csv\n",
      "No data for light demand available for IWU Production, Workshop, Warehouse or Operations\n",
      "Creating building MFH\n",
      "Creating building MFH\n",
      "Creating building MFH\n",
      "Creating building MFH\n"
     ]
    },
    {
     "name": "stderr",
     "output_type": "stream",
     "text": [
      "c:\\Users\\felix\\Programmieren\\districtgenerator\\.venv\\Lib\\site-packages\\teaser\\logic\\buildingobjects\\useconditions.py:363: FutureWarning: 'H' is deprecated and will be removed in a future version, please use 'h' instead.\n",
      "  index=pd.date_range(\"2019-01-01 00:00:00\", periods=8760, freq=\"H\")\n",
      "c:\\Users\\felix\\Programmieren\\districtgenerator\\.venv\\Lib\\site-packages\\teaser\\logic\\buildingobjects\\useconditions.py:363: FutureWarning: 'H' is deprecated and will be removed in a future version, please use 'h' instead.\n",
      "  index=pd.date_range(\"2019-01-01 00:00:00\", periods=8760, freq=\"H\")\n",
      "c:\\Users\\felix\\Programmieren\\districtgenerator\\.venv\\Lib\\site-packages\\teaser\\logic\\buildingobjects\\useconditions.py:363: FutureWarning: 'H' is deprecated and will be removed in a future version, please use 'h' instead.\n",
      "  index=pd.date_range(\"2019-01-01 00:00:00\", periods=8760, freq=\"H\")\n",
      "c:\\Users\\felix\\Programmieren\\districtgenerator\\.venv\\Lib\\site-packages\\teaser\\logic\\buildingobjects\\useconditions.py:363: FutureWarning: 'H' is deprecated and will be removed in a future version, please use 'h' instead.\n",
      "  index=pd.date_range(\"2019-01-01 00:00:00\", periods=8760, freq=\"H\")\n"
     ]
    },
    {
     "name": "stdout",
     "output_type": "stream",
     "text": [
      "Creating building IWU Production, Workshop, Warehouse or Operations\n",
      "We are about to generate a Non Residential building.\n",
      "Available building types: ['IWU Office, Administrative or Government Buildings', 'IWU Research and University Teaching', 'IWU Health and Care', 'IWU School, Day Nursery and other Care', 'IWU Culture and Leisure', 'IWU Sports Facilities', 'IWU Hotels, Boarding, Restaurants or Catering', 'IWU Production, Workshop, Warehouse or Operations', 'IWU Trade Buildings', 'IWU Technical and Utility (supply and disposal)', 'IWU Transport', 'IWU Generalized (1) Services building', 'IWU Generalized (2) Production buildings']\n",
      "Current usage: IWU Production, Workshop, Warehouse or Operations\n",
      "Available building types: ['IWU Office, Administrative or Government Buildings', 'IWU Research and University Teaching', 'IWU Health and Care', 'IWU School, Day Nursery and other Care', 'IWU Culture and Leisure', 'IWU Sports Facilities', 'IWU Hotels, Boarding, Restaurants or Catering', 'IWU Production, Workshop, Warehouse or Operations', 'IWU Trade Buildings', 'IWU Technical and Utility (supply and disposal)', 'IWU Transport', 'IWU Generalized (1) Services building', 'IWU Generalized (2) Production buildings']\n",
      "Current usage: IWU Production, Workshop, Warehouse or Operations\n",
      "{'ow1': 0.434041692, 'win1': 0.177106716, 'rt1': 0.697615167, 'gf1': 0.874876657}\n",
      "{'ow1': 0.434041692, 'win1': 0.177106716, 'rt1': 0.697615167, 'gf1': 0.874876657} Thesese are the facade estimation factors for building  IWU Production, Workshop, Warehouse or Operations 1433.2543995098767 1925.0\n",
      "This is the path: C:\\Users\\felix\\Programmieren\\districtgenerator\\data\\consumption_data\\internal_loads.csv\n",
      "No data for light demand available for IWU Production, Workshop, Warehouse or Operations\n",
      "Creating building MFH\n",
      "Creating building MFH\n"
     ]
    },
    {
     "name": "stderr",
     "output_type": "stream",
     "text": [
      "c:\\Users\\felix\\Programmieren\\districtgenerator\\.venv\\Lib\\site-packages\\teaser\\logic\\buildingobjects\\useconditions.py:363: FutureWarning: 'H' is deprecated and will be removed in a future version, please use 'h' instead.\n",
      "  index=pd.date_range(\"2019-01-01 00:00:00\", periods=8760, freq=\"H\")\n",
      "c:\\Users\\felix\\Programmieren\\districtgenerator\\.venv\\Lib\\site-packages\\teaser\\logic\\buildingobjects\\useconditions.py:363: FutureWarning: 'H' is deprecated and will be removed in a future version, please use 'h' instead.\n",
      "  index=pd.date_range(\"2019-01-01 00:00:00\", periods=8760, freq=\"H\")\n"
     ]
    },
    {
     "name": "stdout",
     "output_type": "stream",
     "text": [
      "Creating building AB\n",
      "Creating building AB\n",
      "Creating building MFH\n"
     ]
    },
    {
     "name": "stderr",
     "output_type": "stream",
     "text": [
      "c:\\Users\\felix\\Programmieren\\districtgenerator\\.venv\\Lib\\site-packages\\teaser\\logic\\buildingobjects\\useconditions.py:363: FutureWarning: 'H' is deprecated and will be removed in a future version, please use 'h' instead.\n",
      "  index=pd.date_range(\"2019-01-01 00:00:00\", periods=8760, freq=\"H\")\n",
      "c:\\Users\\felix\\Programmieren\\districtgenerator\\.venv\\Lib\\site-packages\\teaser\\logic\\buildingobjects\\useconditions.py:363: FutureWarning: 'H' is deprecated and will be removed in a future version, please use 'h' instead.\n",
      "  index=pd.date_range(\"2019-01-01 00:00:00\", periods=8760, freq=\"H\")\n",
      "c:\\Users\\felix\\Programmieren\\districtgenerator\\.venv\\Lib\\site-packages\\teaser\\logic\\buildingobjects\\useconditions.py:363: FutureWarning: 'H' is deprecated and will be removed in a future version, please use 'h' instead.\n",
      "  index=pd.date_range(\"2019-01-01 00:00:00\", periods=8760, freq=\"H\")\n"
     ]
    },
    {
     "name": "stdout",
     "output_type": "stream",
     "text": [
      "Creating building MFH\n",
      "Creating building MFH\n",
      "Creating building IWU Production, Workshop, Warehouse or Operations\n",
      "We are about to generate a Non Residential building.\n",
      "Available building types: ['IWU Office, Administrative or Government Buildings', 'IWU Research and University Teaching', 'IWU Health and Care', 'IWU School, Day Nursery and other Care', 'IWU Culture and Leisure', 'IWU Sports Facilities', 'IWU Hotels, Boarding, Restaurants or Catering', 'IWU Production, Workshop, Warehouse or Operations', 'IWU Trade Buildings', 'IWU Technical and Utility (supply and disposal)', 'IWU Transport', 'IWU Generalized (1) Services building', 'IWU Generalized (2) Production buildings']\n",
      "Current usage: IWU Production, Workshop, Warehouse or Operations\n",
      "Available building types: ['IWU Office, Administrative or Government Buildings', 'IWU Research and University Teaching', 'IWU Health and Care', 'IWU School, Day Nursery and other Care', 'IWU Culture and Leisure', 'IWU Sports Facilities', 'IWU Hotels, Boarding, Restaurants or Catering', 'IWU Production, Workshop, Warehouse or Operations', 'IWU Trade Buildings', 'IWU Technical and Utility (supply and disposal)', 'IWU Transport', 'IWU Generalized (1) Services building', 'IWU Generalized (2) Production buildings']\n",
      "Current usage: IWU Production, Workshop, Warehouse or Operations\n",
      "{'ow1': 0.434041692, 'win1': 0.177106716, 'rt1': 0.697615167, 'gf1': 0.874876657}\n",
      "{'ow1': 0.434041692, 'win1': 0.177106716, 'rt1': 0.697615167, 'gf1': 0.874876657} Thesese are the facade estimation factors for building  IWU Production, Workshop, Warehouse or Operations 794.1284430089784 1905.0\n",
      "This is the path: C:\\Users\\felix\\Programmieren\\districtgenerator\\data\\consumption_data\\internal_loads.csv\n",
      "No data for light demand available for IWU Production, Workshop, Warehouse or Operations\n",
      "Creating building AB\n"
     ]
    },
    {
     "name": "stderr",
     "output_type": "stream",
     "text": [
      "c:\\Users\\felix\\Programmieren\\districtgenerator\\.venv\\Lib\\site-packages\\teaser\\logic\\buildingobjects\\useconditions.py:363: FutureWarning: 'H' is deprecated and will be removed in a future version, please use 'h' instead.\n",
      "  index=pd.date_range(\"2019-01-01 00:00:00\", periods=8760, freq=\"H\")\n",
      "c:\\Users\\felix\\Programmieren\\districtgenerator\\.venv\\Lib\\site-packages\\teaser\\logic\\buildingobjects\\useconditions.py:363: FutureWarning: 'H' is deprecated and will be removed in a future version, please use 'h' instead.\n",
      "  index=pd.date_range(\"2019-01-01 00:00:00\", periods=8760, freq=\"H\")\n",
      "c:\\Users\\felix\\Programmieren\\districtgenerator\\.venv\\Lib\\site-packages\\teaser\\logic\\buildingobjects\\useconditions.py:363: FutureWarning: 'H' is deprecated and will be removed in a future version, please use 'h' instead.\n",
      "  index=pd.date_range(\"2019-01-01 00:00:00\", periods=8760, freq=\"H\")\n"
     ]
    },
    {
     "name": "stdout",
     "output_type": "stream",
     "text": [
      "Creating building MFH\n",
      "Creating building MFH\n"
     ]
    },
    {
     "name": "stderr",
     "output_type": "stream",
     "text": [
      "c:\\Users\\felix\\Programmieren\\districtgenerator\\.venv\\Lib\\site-packages\\teaser\\logic\\buildingobjects\\useconditions.py:363: FutureWarning: 'H' is deprecated and will be removed in a future version, please use 'h' instead.\n",
      "  index=pd.date_range(\"2019-01-01 00:00:00\", periods=8760, freq=\"H\")\n",
      "c:\\Users\\felix\\Programmieren\\districtgenerator\\.venv\\Lib\\site-packages\\teaser\\logic\\buildingobjects\\useconditions.py:363: FutureWarning: 'H' is deprecated and will be removed in a future version, please use 'h' instead.\n",
      "  index=pd.date_range(\"2019-01-01 00:00:00\", periods=8760, freq=\"H\")\n"
     ]
    },
    {
     "name": "stdout",
     "output_type": "stream",
     "text": [
      "Creating building AB\n",
      "Creating building IWU Production, Workshop, Warehouse or Operations\n",
      "We are about to generate a Non Residential building.\n",
      "Available building types: ['IWU Office, Administrative or Government Buildings', 'IWU Research and University Teaching', 'IWU Health and Care', 'IWU School, Day Nursery and other Care', 'IWU Culture and Leisure', 'IWU Sports Facilities', 'IWU Hotels, Boarding, Restaurants or Catering', 'IWU Production, Workshop, Warehouse or Operations', 'IWU Trade Buildings', 'IWU Technical and Utility (supply and disposal)', 'IWU Transport', 'IWU Generalized (1) Services building', 'IWU Generalized (2) Production buildings']\n",
      "Current usage: IWU Production, Workshop, Warehouse or Operations\n",
      "Available building types: ['IWU Office, Administrative or Government Buildings', 'IWU Research and University Teaching', 'IWU Health and Care', 'IWU School, Day Nursery and other Care', 'IWU Culture and Leisure', 'IWU Sports Facilities', 'IWU Hotels, Boarding, Restaurants or Catering', 'IWU Production, Workshop, Warehouse or Operations', 'IWU Trade Buildings', 'IWU Technical and Utility (supply and disposal)', 'IWU Transport', 'IWU Generalized (1) Services building', 'IWU Generalized (2) Production buildings']\n",
      "Current usage: IWU Production, Workshop, Warehouse or Operations\n",
      "{'ow1': 0.434041692, 'win1': 0.177106716, 'rt1': 0.697615167, 'gf1': 0.874876657}\n",
      "{'ow1': 0.434041692, 'win1': 0.177106716, 'rt1': 0.697615167, 'gf1': 0.874876657} Thesese are the facade estimation factors for building  IWU Production, Workshop, Warehouse or Operations 747.3285840068688 1905.0\n",
      "This is the path: C:\\Users\\felix\\Programmieren\\districtgenerator\\data\\consumption_data\\internal_loads.csv\n",
      "No data for light demand available for IWU Production, Workshop, Warehouse or Operations\n",
      "Creating building IWU Trade Buildings\n",
      "We are about to generate a Non Residential building.\n",
      "Available building types: ['IWU Office, Administrative or Government Buildings', 'IWU Research and University Teaching', 'IWU Health and Care', 'IWU School, Day Nursery and other Care', 'IWU Culture and Leisure', 'IWU Sports Facilities', 'IWU Hotels, Boarding, Restaurants or Catering', 'IWU Production, Workshop, Warehouse or Operations', 'IWU Trade Buildings', 'IWU Technical and Utility (supply and disposal)', 'IWU Transport', 'IWU Generalized (1) Services building', 'IWU Generalized (2) Production buildings']\n",
      "Current usage: IWU Trade Buildings\n",
      "Available building types: ['IWU Office, Administrative or Government Buildings', 'IWU Research and University Teaching', 'IWU Health and Care', 'IWU School, Day Nursery and other Care', 'IWU Culture and Leisure', 'IWU Sports Facilities', 'IWU Hotels, Boarding, Restaurants or Catering', 'IWU Production, Workshop, Warehouse or Operations', 'IWU Trade Buildings', 'IWU Technical and Utility (supply and disposal)', 'IWU Transport', 'IWU Generalized (1) Services building', 'IWU Generalized (2) Production buildings']\n",
      "Current usage: IWU Trade Buildings\n",
      "{'ow1': 0.368695829, 'win1': 0.11100406, 'rt1': 0.874472474, 'gf1': 0.873243839}\n",
      "{'ow1': 0.368695829, 'win1': 0.11100406, 'rt1': 0.874472474, 'gf1': 0.873243839} Thesese are the facade estimation factors for building  IWU Trade Buildings 1575.6634500216023 1905.0\n",
      "This is the path: C:\\Users\\felix\\Programmieren\\districtgenerator\\data\\consumption_data\\internal_loads.csv\n",
      "No data for light demand available for IWU Trade Buildings\n",
      "Creating building AB\n"
     ]
    },
    {
     "name": "stderr",
     "output_type": "stream",
     "text": [
      "c:\\Users\\felix\\Programmieren\\districtgenerator\\.venv\\Lib\\site-packages\\teaser\\logic\\buildingobjects\\useconditions.py:363: FutureWarning: 'H' is deprecated and will be removed in a future version, please use 'h' instead.\n",
      "  index=pd.date_range(\"2019-01-01 00:00:00\", periods=8760, freq=\"H\")\n",
      "c:\\Users\\felix\\Programmieren\\districtgenerator\\.venv\\Lib\\site-packages\\teaser\\logic\\buildingobjects\\useconditions.py:363: FutureWarning: 'H' is deprecated and will be removed in a future version, please use 'h' instead.\n",
      "  index=pd.date_range(\"2019-01-01 00:00:00\", periods=8760, freq=\"H\")\n"
     ]
    },
    {
     "name": "stdout",
     "output_type": "stream",
     "text": [
      "Creating building MFH\n",
      "Creating building MFH\n"
     ]
    },
    {
     "name": "stderr",
     "output_type": "stream",
     "text": [
      "c:\\Users\\felix\\Programmieren\\districtgenerator\\.venv\\Lib\\site-packages\\teaser\\logic\\buildingobjects\\useconditions.py:363: FutureWarning: 'H' is deprecated and will be removed in a future version, please use 'h' instead.\n",
      "  index=pd.date_range(\"2019-01-01 00:00:00\", periods=8760, freq=\"H\")\n",
      "c:\\Users\\felix\\Programmieren\\districtgenerator\\.venv\\Lib\\site-packages\\teaser\\logic\\buildingobjects\\useconditions.py:363: FutureWarning: 'H' is deprecated and will be removed in a future version, please use 'h' instead.\n",
      "  index=pd.date_range(\"2019-01-01 00:00:00\", periods=8760, freq=\"H\")\n"
     ]
    },
    {
     "name": "stdout",
     "output_type": "stream",
     "text": [
      "Creating building MFH\n",
      "Creating building MFH\n",
      "Creating building AB\n",
      "Creating building AB\n"
     ]
    },
    {
     "name": "stderr",
     "output_type": "stream",
     "text": [
      "c:\\Users\\felix\\Programmieren\\districtgenerator\\.venv\\Lib\\site-packages\\teaser\\logic\\buildingobjects\\useconditions.py:363: FutureWarning: 'H' is deprecated and will be removed in a future version, please use 'h' instead.\n",
      "  index=pd.date_range(\"2019-01-01 00:00:00\", periods=8760, freq=\"H\")\n",
      "c:\\Users\\felix\\Programmieren\\districtgenerator\\.venv\\Lib\\site-packages\\teaser\\logic\\buildingobjects\\useconditions.py:363: FutureWarning: 'H' is deprecated and will be removed in a future version, please use 'h' instead.\n",
      "  index=pd.date_range(\"2019-01-01 00:00:00\", periods=8760, freq=\"H\")\n",
      "c:\\Users\\felix\\Programmieren\\districtgenerator\\.venv\\Lib\\site-packages\\teaser\\logic\\buildingobjects\\useconditions.py:363: FutureWarning: 'H' is deprecated and will be removed in a future version, please use 'h' instead.\n",
      "  index=pd.date_range(\"2019-01-01 00:00:00\", periods=8760, freq=\"H\")\n",
      "c:\\Users\\felix\\Programmieren\\districtgenerator\\.venv\\Lib\\site-packages\\teaser\\logic\\buildingobjects\\useconditions.py:363: FutureWarning: 'H' is deprecated and will be removed in a future version, please use 'h' instead.\n",
      "  index=pd.date_range(\"2019-01-01 00:00:00\", periods=8760, freq=\"H\")\n"
     ]
    },
    {
     "name": "stdout",
     "output_type": "stream",
     "text": [
      "Creating building AB\n",
      "Creating building IWU Trade Buildings\n",
      "We are about to generate a Non Residential building.\n",
      "Available building types: ['IWU Office, Administrative or Government Buildings', 'IWU Research and University Teaching', 'IWU Health and Care', 'IWU School, Day Nursery and other Care', 'IWU Culture and Leisure', 'IWU Sports Facilities', 'IWU Hotels, Boarding, Restaurants or Catering', 'IWU Production, Workshop, Warehouse or Operations', 'IWU Trade Buildings', 'IWU Technical and Utility (supply and disposal)', 'IWU Transport', 'IWU Generalized (1) Services building', 'IWU Generalized (2) Production buildings']\n",
      "Current usage: IWU Trade Buildings\n",
      "Available building types: ['IWU Office, Administrative or Government Buildings', 'IWU Research and University Teaching', 'IWU Health and Care', 'IWU School, Day Nursery and other Care', 'IWU Culture and Leisure', 'IWU Sports Facilities', 'IWU Hotels, Boarding, Restaurants or Catering', 'IWU Production, Workshop, Warehouse or Operations', 'IWU Trade Buildings', 'IWU Technical and Utility (supply and disposal)', 'IWU Transport', 'IWU Generalized (1) Services building', 'IWU Generalized (2) Production buildings']\n",
      "Current usage: IWU Trade Buildings\n",
      "{'ow1': 0.368695829, 'win1': 0.11100406, 'rt1': 0.874472474, 'gf1': 0.873243839}\n",
      "{'ow1': 0.368695829, 'win1': 0.11100406, 'rt1': 0.874472474, 'gf1': 0.873243839} Thesese are the facade estimation factors for building  IWU Trade Buildings 10225.321737974562 1955.0\n",
      "This is the path: C:\\Users\\felix\\Programmieren\\districtgenerator\\data\\consumption_data\\internal_loads.csv\n",
      "No data for light demand available for IWU Trade Buildings\n",
      "Creating building MFH\n"
     ]
    },
    {
     "name": "stderr",
     "output_type": "stream",
     "text": [
      "c:\\Users\\felix\\Programmieren\\districtgenerator\\.venv\\Lib\\site-packages\\teaser\\logic\\buildingobjects\\useconditions.py:363: FutureWarning: 'H' is deprecated and will be removed in a future version, please use 'h' instead.\n",
      "  index=pd.date_range(\"2019-01-01 00:00:00\", periods=8760, freq=\"H\")\n",
      "c:\\Users\\felix\\Programmieren\\districtgenerator\\.venv\\Lib\\site-packages\\teaser\\logic\\buildingobjects\\useconditions.py:363: FutureWarning: 'H' is deprecated and will be removed in a future version, please use 'h' instead.\n",
      "  index=pd.date_range(\"2019-01-01 00:00:00\", periods=8760, freq=\"H\")\n"
     ]
    },
    {
     "name": "stdout",
     "output_type": "stream",
     "text": [
      "Creating building AB\n",
      "Creating building AB\n"
     ]
    },
    {
     "name": "stderr",
     "output_type": "stream",
     "text": [
      "c:\\Users\\felix\\Programmieren\\districtgenerator\\.venv\\Lib\\site-packages\\teaser\\logic\\buildingobjects\\useconditions.py:363: FutureWarning: 'H' is deprecated and will be removed in a future version, please use 'h' instead.\n",
      "  index=pd.date_range(\"2019-01-01 00:00:00\", periods=8760, freq=\"H\")\n",
      "c:\\Users\\felix\\Programmieren\\districtgenerator\\.venv\\Lib\\site-packages\\teaser\\logic\\buildingobjects\\useconditions.py:363: FutureWarning: 'H' is deprecated and will be removed in a future version, please use 'h' instead.\n",
      "  index=pd.date_range(\"2019-01-01 00:00:00\", periods=8760, freq=\"H\")\n"
     ]
    },
    {
     "name": "stdout",
     "output_type": "stream",
     "text": [
      "Creating building MFH\n",
      "Creating building MFH\n"
     ]
    },
    {
     "name": "stderr",
     "output_type": "stream",
     "text": [
      "c:\\Users\\felix\\Programmieren\\districtgenerator\\.venv\\Lib\\site-packages\\teaser\\logic\\buildingobjects\\useconditions.py:363: FutureWarning: 'H' is deprecated and will be removed in a future version, please use 'h' instead.\n",
      "  index=pd.date_range(\"2019-01-01 00:00:00\", periods=8760, freq=\"H\")\n",
      "c:\\Users\\felix\\Programmieren\\districtgenerator\\.venv\\Lib\\site-packages\\teaser\\logic\\buildingobjects\\useconditions.py:363: FutureWarning: 'H' is deprecated and will be removed in a future version, please use 'h' instead.\n",
      "  index=pd.date_range(\"2019-01-01 00:00:00\", periods=8760, freq=\"H\")\n"
     ]
    },
    {
     "name": "stdout",
     "output_type": "stream",
     "text": [
      "Creating building MFH\n",
      "Creating building MFH\n"
     ]
    },
    {
     "name": "stderr",
     "output_type": "stream",
     "text": [
      "c:\\Users\\felix\\Programmieren\\districtgenerator\\.venv\\Lib\\site-packages\\teaser\\logic\\buildingobjects\\useconditions.py:363: FutureWarning: 'H' is deprecated and will be removed in a future version, please use 'h' instead.\n",
      "  index=pd.date_range(\"2019-01-01 00:00:00\", periods=8760, freq=\"H\")\n",
      "c:\\Users\\felix\\Programmieren\\districtgenerator\\.venv\\Lib\\site-packages\\teaser\\logic\\buildingobjects\\useconditions.py:363: FutureWarning: 'H' is deprecated and will be removed in a future version, please use 'h' instead.\n",
      "  index=pd.date_range(\"2019-01-01 00:00:00\", periods=8760, freq=\"H\")\n"
     ]
    },
    {
     "name": "stdout",
     "output_type": "stream",
     "text": [
      "Creating building MFH\n",
      "Creating building MFH\n"
     ]
    },
    {
     "name": "stderr",
     "output_type": "stream",
     "text": [
      "c:\\Users\\felix\\Programmieren\\districtgenerator\\.venv\\Lib\\site-packages\\teaser\\logic\\buildingobjects\\useconditions.py:363: FutureWarning: 'H' is deprecated and will be removed in a future version, please use 'h' instead.\n",
      "  index=pd.date_range(\"2019-01-01 00:00:00\", periods=8760, freq=\"H\")\n",
      "c:\\Users\\felix\\Programmieren\\districtgenerator\\.venv\\Lib\\site-packages\\teaser\\logic\\buildingobjects\\useconditions.py:363: FutureWarning: 'H' is deprecated and will be removed in a future version, please use 'h' instead.\n",
      "  index=pd.date_range(\"2019-01-01 00:00:00\", periods=8760, freq=\"H\")\n"
     ]
    },
    {
     "name": "stdout",
     "output_type": "stream",
     "text": [
      "Creating building IWU Production, Workshop, Warehouse or Operations\n",
      "We are about to generate a Non Residential building.\n",
      "Available building types: ['IWU Office, Administrative or Government Buildings', 'IWU Research and University Teaching', 'IWU Health and Care', 'IWU School, Day Nursery and other Care', 'IWU Culture and Leisure', 'IWU Sports Facilities', 'IWU Hotels, Boarding, Restaurants or Catering', 'IWU Production, Workshop, Warehouse or Operations', 'IWU Trade Buildings', 'IWU Technical and Utility (supply and disposal)', 'IWU Transport', 'IWU Generalized (1) Services building', 'IWU Generalized (2) Production buildings']\n",
      "Current usage: IWU Production, Workshop, Warehouse or Operations\n",
      "Available building types: ['IWU Office, Administrative or Government Buildings', 'IWU Research and University Teaching', 'IWU Health and Care', 'IWU School, Day Nursery and other Care', 'IWU Culture and Leisure', 'IWU Sports Facilities', 'IWU Hotels, Boarding, Restaurants or Catering', 'IWU Production, Workshop, Warehouse or Operations', 'IWU Trade Buildings', 'IWU Technical and Utility (supply and disposal)', 'IWU Transport', 'IWU Generalized (1) Services building', 'IWU Generalized (2) Production buildings']\n",
      "Current usage: IWU Production, Workshop, Warehouse or Operations\n",
      "{'ow1': 0.434041692, 'win1': 0.177106716, 'rt1': 0.697615167, 'gf1': 0.874876657}\n",
      "{'ow1': 0.434041692, 'win1': 0.177106716, 'rt1': 0.697615167, 'gf1': 0.874876657} Thesese are the facade estimation factors for building  IWU Production, Workshop, Warehouse or Operations 342.13015699230607 1905.0\n",
      "This is the path: C:\\Users\\felix\\Programmieren\\districtgenerator\\data\\consumption_data\\internal_loads.csv\n",
      "No data for light demand available for IWU Production, Workshop, Warehouse or Operations\n",
      "Creating building AB\n",
      "Creating building MFH\n"
     ]
    },
    {
     "name": "stderr",
     "output_type": "stream",
     "text": [
      "c:\\Users\\felix\\Programmieren\\districtgenerator\\.venv\\Lib\\site-packages\\teaser\\logic\\buildingobjects\\useconditions.py:363: FutureWarning: 'H' is deprecated and will be removed in a future version, please use 'h' instead.\n",
      "  index=pd.date_range(\"2019-01-01 00:00:00\", periods=8760, freq=\"H\")\n",
      "c:\\Users\\felix\\Programmieren\\districtgenerator\\.venv\\Lib\\site-packages\\teaser\\logic\\buildingobjects\\useconditions.py:363: FutureWarning: 'H' is deprecated and will be removed in a future version, please use 'h' instead.\n",
      "  index=pd.date_range(\"2019-01-01 00:00:00\", periods=8760, freq=\"H\")\n"
     ]
    },
    {
     "name": "stdout",
     "output_type": "stream",
     "text": [
      "Creating building AB\n"
     ]
    },
    {
     "name": "stderr",
     "output_type": "stream",
     "text": [
      "c:\\Users\\felix\\Programmieren\\districtgenerator\\.venv\\Lib\\site-packages\\teaser\\logic\\buildingobjects\\useconditions.py:363: FutureWarning: 'H' is deprecated and will be removed in a future version, please use 'h' instead.\n",
      "  index=pd.date_range(\"2019-01-01 00:00:00\", periods=8760, freq=\"H\")\n"
     ]
    },
    {
     "name": "stdout",
     "output_type": "stream",
     "text": [
      "Creating building MFH\n"
     ]
    },
    {
     "name": "stderr",
     "output_type": "stream",
     "text": [
      "c:\\Users\\felix\\Programmieren\\districtgenerator\\.venv\\Lib\\site-packages\\teaser\\logic\\buildingobjects\\useconditions.py:363: FutureWarning: 'H' is deprecated and will be removed in a future version, please use 'h' instead.\n",
      "  index=pd.date_range(\"2019-01-01 00:00:00\", periods=8760, freq=\"H\")\n"
     ]
    },
    {
     "name": "stdout",
     "output_type": "stream",
     "text": [
      "Creating building MFH\n",
      "Creating building MFH\n"
     ]
    },
    {
     "name": "stderr",
     "output_type": "stream",
     "text": [
      "c:\\Users\\felix\\Programmieren\\districtgenerator\\.venv\\Lib\\site-packages\\teaser\\logic\\buildingobjects\\useconditions.py:363: FutureWarning: 'H' is deprecated and will be removed in a future version, please use 'h' instead.\n",
      "  index=pd.date_range(\"2019-01-01 00:00:00\", periods=8760, freq=\"H\")\n",
      "c:\\Users\\felix\\Programmieren\\districtgenerator\\.venv\\Lib\\site-packages\\teaser\\logic\\buildingobjects\\useconditions.py:363: FutureWarning: 'H' is deprecated and will be removed in a future version, please use 'h' instead.\n",
      "  index=pd.date_range(\"2019-01-01 00:00:00\", periods=8760, freq=\"H\")\n"
     ]
    },
    {
     "name": "stdout",
     "output_type": "stream",
     "text": [
      "Creating building AB\n"
     ]
    },
    {
     "name": "stderr",
     "output_type": "stream",
     "text": [
      "c:\\Users\\felix\\Programmieren\\districtgenerator\\.venv\\Lib\\site-packages\\teaser\\logic\\buildingobjects\\useconditions.py:363: FutureWarning: 'H' is deprecated and will be removed in a future version, please use 'h' instead.\n",
      "  index=pd.date_range(\"2019-01-01 00:00:00\", periods=8760, freq=\"H\")\n"
     ]
    },
    {
     "name": "stdout",
     "output_type": "stream",
     "text": [
      "Creating building MFH\n",
      "Creating building AB\n",
      "Creating building AB\n"
     ]
    },
    {
     "name": "stderr",
     "output_type": "stream",
     "text": [
      "c:\\Users\\felix\\Programmieren\\districtgenerator\\.venv\\Lib\\site-packages\\teaser\\logic\\buildingobjects\\useconditions.py:363: FutureWarning: 'H' is deprecated and will be removed in a future version, please use 'h' instead.\n",
      "  index=pd.date_range(\"2019-01-01 00:00:00\", periods=8760, freq=\"H\")\n",
      "c:\\Users\\felix\\Programmieren\\districtgenerator\\.venv\\Lib\\site-packages\\teaser\\logic\\buildingobjects\\useconditions.py:363: FutureWarning: 'H' is deprecated and will be removed in a future version, please use 'h' instead.\n",
      "  index=pd.date_range(\"2019-01-01 00:00:00\", periods=8760, freq=\"H\")\n",
      "c:\\Users\\felix\\Programmieren\\districtgenerator\\.venv\\Lib\\site-packages\\teaser\\logic\\buildingobjects\\useconditions.py:363: FutureWarning: 'H' is deprecated and will be removed in a future version, please use 'h' instead.\n",
      "  index=pd.date_range(\"2019-01-01 00:00:00\", periods=8760, freq=\"H\")\n"
     ]
    },
    {
     "name": "stdout",
     "output_type": "stream",
     "text": [
      "Creating building MFH\n",
      "Creating building AB\n"
     ]
    },
    {
     "name": "stderr",
     "output_type": "stream",
     "text": [
      "c:\\Users\\felix\\Programmieren\\districtgenerator\\.venv\\Lib\\site-packages\\teaser\\logic\\buildingobjects\\useconditions.py:363: FutureWarning: 'H' is deprecated and will be removed in a future version, please use 'h' instead.\n",
      "  index=pd.date_range(\"2019-01-01 00:00:00\", periods=8760, freq=\"H\")\n",
      "c:\\Users\\felix\\Programmieren\\districtgenerator\\.venv\\Lib\\site-packages\\teaser\\logic\\buildingobjects\\useconditions.py:363: FutureWarning: 'H' is deprecated and will be removed in a future version, please use 'h' instead.\n",
      "  index=pd.date_range(\"2019-01-01 00:00:00\", periods=8760, freq=\"H\")\n"
     ]
    },
    {
     "name": "stdout",
     "output_type": "stream",
     "text": [
      "Creating building MFH\n",
      "Creating building MFH\n"
     ]
    },
    {
     "name": "stderr",
     "output_type": "stream",
     "text": [
      "c:\\Users\\felix\\Programmieren\\districtgenerator\\.venv\\Lib\\site-packages\\teaser\\logic\\buildingobjects\\useconditions.py:363: FutureWarning: 'H' is deprecated and will be removed in a future version, please use 'h' instead.\n",
      "  index=pd.date_range(\"2019-01-01 00:00:00\", periods=8760, freq=\"H\")\n",
      "c:\\Users\\felix\\Programmieren\\districtgenerator\\.venv\\Lib\\site-packages\\teaser\\logic\\buildingobjects\\useconditions.py:363: FutureWarning: 'H' is deprecated and will be removed in a future version, please use 'h' instead.\n",
      "  index=pd.date_range(\"2019-01-01 00:00:00\", periods=8760, freq=\"H\")\n"
     ]
    },
    {
     "name": "stdout",
     "output_type": "stream",
     "text": [
      "Creating building IWU Production, Workshop, Warehouse or Operations\n",
      "We are about to generate a Non Residential building.\n",
      "Available building types: ['IWU Office, Administrative or Government Buildings', 'IWU Research and University Teaching', 'IWU Health and Care', 'IWU School, Day Nursery and other Care', 'IWU Culture and Leisure', 'IWU Sports Facilities', 'IWU Hotels, Boarding, Restaurants or Catering', 'IWU Production, Workshop, Warehouse or Operations', 'IWU Trade Buildings', 'IWU Technical and Utility (supply and disposal)', 'IWU Transport', 'IWU Generalized (1) Services building', 'IWU Generalized (2) Production buildings']\n",
      "Current usage: IWU Production, Workshop, Warehouse or Operations\n",
      "Available building types: ['IWU Office, Administrative or Government Buildings', 'IWU Research and University Teaching', 'IWU Health and Care', 'IWU School, Day Nursery and other Care', 'IWU Culture and Leisure', 'IWU Sports Facilities', 'IWU Hotels, Boarding, Restaurants or Catering', 'IWU Production, Workshop, Warehouse or Operations', 'IWU Trade Buildings', 'IWU Technical and Utility (supply and disposal)', 'IWU Transport', 'IWU Generalized (1) Services building', 'IWU Generalized (2) Production buildings']\n",
      "Current usage: IWU Production, Workshop, Warehouse or Operations\n",
      "{'ow1': 0.434041692, 'win1': 0.177106716, 'rt1': 0.697615167, 'gf1': 0.874876657}\n",
      "{'ow1': 0.434041692, 'win1': 0.177106716, 'rt1': 0.697615167, 'gf1': 0.874876657} Thesese are the facade estimation factors for building  IWU Production, Workshop, Warehouse or Operations 23.86604300140753 1925.0\n",
      "This is the path: C:\\Users\\felix\\Programmieren\\districtgenerator\\data\\consumption_data\\internal_loads.csv\n",
      "No data for light demand available for IWU Production, Workshop, Warehouse or Operations\n",
      "Creating building MFH\n",
      "Creating building MFH\n"
     ]
    },
    {
     "name": "stderr",
     "output_type": "stream",
     "text": [
      "c:\\Users\\felix\\Programmieren\\districtgenerator\\.venv\\Lib\\site-packages\\teaser\\logic\\buildingobjects\\useconditions.py:363: FutureWarning: 'H' is deprecated and will be removed in a future version, please use 'h' instead.\n",
      "  index=pd.date_range(\"2019-01-01 00:00:00\", periods=8760, freq=\"H\")\n",
      "c:\\Users\\felix\\Programmieren\\districtgenerator\\.venv\\Lib\\site-packages\\teaser\\logic\\buildingobjects\\useconditions.py:363: FutureWarning: 'H' is deprecated and will be removed in a future version, please use 'h' instead.\n",
      "  index=pd.date_range(\"2019-01-01 00:00:00\", periods=8760, freq=\"H\")\n"
     ]
    },
    {
     "name": "stdout",
     "output_type": "stream",
     "text": [
      "Creating building IWU Transport\n",
      "We are about to generate a Non Residential building.\n",
      "Available building types: ['IWU Office, Administrative or Government Buildings', 'IWU Research and University Teaching', 'IWU Health and Care', 'IWU School, Day Nursery and other Care', 'IWU Culture and Leisure', 'IWU Sports Facilities', 'IWU Hotels, Boarding, Restaurants or Catering', 'IWU Production, Workshop, Warehouse or Operations', 'IWU Trade Buildings', 'IWU Technical and Utility (supply and disposal)', 'IWU Transport', 'IWU Generalized (1) Services building', 'IWU Generalized (2) Production buildings']\n",
      "Current usage: IWU Transport\n",
      "Available building types: ['IWU Office, Administrative or Government Buildings', 'IWU Research and University Teaching', 'IWU Health and Care', 'IWU School, Day Nursery and other Care', 'IWU Culture and Leisure', 'IWU Sports Facilities', 'IWU Hotels, Boarding, Restaurants or Catering', 'IWU Production, Workshop, Warehouse or Operations', 'IWU Trade Buildings', 'IWU Technical and Utility (supply and disposal)', 'IWU Transport', 'IWU Generalized (1) Services building', 'IWU Generalized (2) Production buildings']\n",
      "Current usage: IWU Transport\n",
      "{'ow1': 0.638685232, 'win1': 0.528141959, 'rt1': 0.613666073, 'gf1': 1.275661128}\n",
      "{'ow1': 0.638685232, 'win1': 0.528141959, 'rt1': 0.613666073, 'gf1': 1.275661128} Thesese are the facade estimation factors for building  IWU Transport 233.83883700213048 1905.0\n",
      "This is the path: C:\\Users\\felix\\Programmieren\\districtgenerator\\data\\consumption_data\\internal_loads.csv\n",
      "No data for light demand available for IWU Transport\n",
      "Creating building AB\n",
      "Creating building MFH\n"
     ]
    },
    {
     "name": "stderr",
     "output_type": "stream",
     "text": [
      "c:\\Users\\felix\\Programmieren\\districtgenerator\\.venv\\Lib\\site-packages\\teaser\\logic\\buildingobjects\\useconditions.py:363: FutureWarning: 'H' is deprecated and will be removed in a future version, please use 'h' instead.\n",
      "  index=pd.date_range(\"2019-01-01 00:00:00\", periods=8760, freq=\"H\")\n",
      "c:\\Users\\felix\\Programmieren\\districtgenerator\\.venv\\Lib\\site-packages\\teaser\\logic\\buildingobjects\\useconditions.py:363: FutureWarning: 'H' is deprecated and will be removed in a future version, please use 'h' instead.\n",
      "  index=pd.date_range(\"2019-01-01 00:00:00\", periods=8760, freq=\"H\")\n"
     ]
    },
    {
     "name": "stdout",
     "output_type": "stream",
     "text": [
      "Creating building MFH\n",
      "Creating building IWU Production, Workshop, Warehouse or Operations\n",
      "We are about to generate a Non Residential building.\n",
      "Available building types: ['IWU Office, Administrative or Government Buildings', 'IWU Research and University Teaching', 'IWU Health and Care', 'IWU School, Day Nursery and other Care', 'IWU Culture and Leisure', 'IWU Sports Facilities', 'IWU Hotels, Boarding, Restaurants or Catering', 'IWU Production, Workshop, Warehouse or Operations', 'IWU Trade Buildings', 'IWU Technical and Utility (supply and disposal)', 'IWU Transport', 'IWU Generalized (1) Services building', 'IWU Generalized (2) Production buildings']\n",
      "Current usage: IWU Production, Workshop, Warehouse or Operations\n",
      "Available building types: ['IWU Office, Administrative or Government Buildings', 'IWU Research and University Teaching', 'IWU Health and Care', 'IWU School, Day Nursery and other Care', 'IWU Culture and Leisure', 'IWU Sports Facilities', 'IWU Hotels, Boarding, Restaurants or Catering', 'IWU Production, Workshop, Warehouse or Operations', 'IWU Trade Buildings', 'IWU Technical and Utility (supply and disposal)', 'IWU Transport', 'IWU Generalized (1) Services building', 'IWU Generalized (2) Production buildings']\n",
      "Current usage: IWU Production, Workshop, Warehouse or Operations\n",
      "{'ow1': 0.434041692, 'win1': 0.177106716, 'rt1': 0.697615167, 'gf1': 0.874876657}\n",
      "{'ow1': 0.434041692, 'win1': 0.177106716, 'rt1': 0.697615167, 'gf1': 0.874876657} Thesese are the facade estimation factors for building  IWU Production, Workshop, Warehouse or Operations 1275.837334988116 1905.0\n",
      "This is the path: C:\\Users\\felix\\Programmieren\\districtgenerator\\data\\consumption_data\\internal_loads.csv\n",
      "No data for light demand available for IWU Production, Workshop, Warehouse or Operations\n",
      "Creating building MFH\n",
      "Creating building AB\n"
     ]
    },
    {
     "name": "stderr",
     "output_type": "stream",
     "text": [
      "c:\\Users\\felix\\Programmieren\\districtgenerator\\.venv\\Lib\\site-packages\\teaser\\logic\\buildingobjects\\useconditions.py:363: FutureWarning: 'H' is deprecated and will be removed in a future version, please use 'h' instead.\n",
      "  index=pd.date_range(\"2019-01-01 00:00:00\", periods=8760, freq=\"H\")\n",
      "c:\\Users\\felix\\Programmieren\\districtgenerator\\.venv\\Lib\\site-packages\\teaser\\logic\\buildingobjects\\useconditions.py:363: FutureWarning: 'H' is deprecated and will be removed in a future version, please use 'h' instead.\n",
      "  index=pd.date_range(\"2019-01-01 00:00:00\", periods=8760, freq=\"H\")\n",
      "c:\\Users\\felix\\Programmieren\\districtgenerator\\.venv\\Lib\\site-packages\\teaser\\logic\\buildingobjects\\useconditions.py:363: FutureWarning: 'H' is deprecated and will be removed in a future version, please use 'h' instead.\n",
      "  index=pd.date_range(\"2019-01-01 00:00:00\", periods=8760, freq=\"H\")\n"
     ]
    },
    {
     "name": "stdout",
     "output_type": "stream",
     "text": [
      "Creating building MFH\n",
      "Creating building AB\n"
     ]
    },
    {
     "name": "stderr",
     "output_type": "stream",
     "text": [
      "c:\\Users\\felix\\Programmieren\\districtgenerator\\.venv\\Lib\\site-packages\\teaser\\logic\\buildingobjects\\useconditions.py:363: FutureWarning: 'H' is deprecated and will be removed in a future version, please use 'h' instead.\n",
      "  index=pd.date_range(\"2019-01-01 00:00:00\", periods=8760, freq=\"H\")\n",
      "c:\\Users\\felix\\Programmieren\\districtgenerator\\.venv\\Lib\\site-packages\\teaser\\logic\\buildingobjects\\useconditions.py:363: FutureWarning: 'H' is deprecated and will be removed in a future version, please use 'h' instead.\n",
      "  index=pd.date_range(\"2019-01-01 00:00:00\", periods=8760, freq=\"H\")\n"
     ]
    },
    {
     "name": "stdout",
     "output_type": "stream",
     "text": [
      "Creating building AB\n",
      "Creating building MFH\n",
      "Creating building AB\n"
     ]
    },
    {
     "name": "stderr",
     "output_type": "stream",
     "text": [
      "c:\\Users\\felix\\Programmieren\\districtgenerator\\.venv\\Lib\\site-packages\\teaser\\logic\\buildingobjects\\useconditions.py:363: FutureWarning: 'H' is deprecated and will be removed in a future version, please use 'h' instead.\n",
      "  index=pd.date_range(\"2019-01-01 00:00:00\", periods=8760, freq=\"H\")\n",
      "c:\\Users\\felix\\Programmieren\\districtgenerator\\.venv\\Lib\\site-packages\\teaser\\logic\\buildingobjects\\useconditions.py:363: FutureWarning: 'H' is deprecated and will be removed in a future version, please use 'h' instead.\n",
      "  index=pd.date_range(\"2019-01-01 00:00:00\", periods=8760, freq=\"H\")\n",
      "c:\\Users\\felix\\Programmieren\\districtgenerator\\.venv\\Lib\\site-packages\\teaser\\logic\\buildingobjects\\useconditions.py:363: FutureWarning: 'H' is deprecated and will be removed in a future version, please use 'h' instead.\n",
      "  index=pd.date_range(\"2019-01-01 00:00:00\", periods=8760, freq=\"H\")\n"
     ]
    },
    {
     "name": "stdout",
     "output_type": "stream",
     "text": [
      "Creating building AB\n",
      "Creating building MFH\n"
     ]
    },
    {
     "name": "stderr",
     "output_type": "stream",
     "text": [
      "c:\\Users\\felix\\Programmieren\\districtgenerator\\.venv\\Lib\\site-packages\\teaser\\logic\\buildingobjects\\useconditions.py:363: FutureWarning: 'H' is deprecated and will be removed in a future version, please use 'h' instead.\n",
      "  index=pd.date_range(\"2019-01-01 00:00:00\", periods=8760, freq=\"H\")\n",
      "c:\\Users\\felix\\Programmieren\\districtgenerator\\.venv\\Lib\\site-packages\\teaser\\logic\\buildingobjects\\useconditions.py:363: FutureWarning: 'H' is deprecated and will be removed in a future version, please use 'h' instead.\n",
      "  index=pd.date_range(\"2019-01-01 00:00:00\", periods=8760, freq=\"H\")\n"
     ]
    },
    {
     "name": "stdout",
     "output_type": "stream",
     "text": [
      "Creating building IWU Production, Workshop, Warehouse or Operations\n",
      "We are about to generate a Non Residential building.\n",
      "Available building types: ['IWU Office, Administrative or Government Buildings', 'IWU Research and University Teaching', 'IWU Health and Care', 'IWU School, Day Nursery and other Care', 'IWU Culture and Leisure', 'IWU Sports Facilities', 'IWU Hotels, Boarding, Restaurants or Catering', 'IWU Production, Workshop, Warehouse or Operations', 'IWU Trade Buildings', 'IWU Technical and Utility (supply and disposal)', 'IWU Transport', 'IWU Generalized (1) Services building', 'IWU Generalized (2) Production buildings']\n",
      "Current usage: IWU Production, Workshop, Warehouse or Operations\n",
      "Available building types: ['IWU Office, Administrative or Government Buildings', 'IWU Research and University Teaching', 'IWU Health and Care', 'IWU School, Day Nursery and other Care', 'IWU Culture and Leisure', 'IWU Sports Facilities', 'IWU Hotels, Boarding, Restaurants or Catering', 'IWU Production, Workshop, Warehouse or Operations', 'IWU Trade Buildings', 'IWU Technical and Utility (supply and disposal)', 'IWU Transport', 'IWU Generalized (1) Services building', 'IWU Generalized (2) Production buildings']\n",
      "Current usage: IWU Production, Workshop, Warehouse or Operations\n",
      "{'ow1': 0.434041692, 'win1': 0.177106716, 'rt1': 0.697615167, 'gf1': 0.874876657}\n",
      "{'ow1': 0.434041692, 'win1': 0.177106716, 'rt1': 0.697615167, 'gf1': 0.874876657} Thesese are the facade estimation factors for building  IWU Production, Workshop, Warehouse or Operations 3191.3215274886966 1955.0\n",
      "This is the path: C:\\Users\\felix\\Programmieren\\districtgenerator\\data\\consumption_data\\internal_loads.csv\n",
      "No data for light demand available for IWU Production, Workshop, Warehouse or Operations\n",
      "Creating building MFH\n",
      "Creating building IWU Production, Workshop, Warehouse or Operations\n",
      "We are about to generate a Non Residential building.\n",
      "Available building types: ['IWU Office, Administrative or Government Buildings', 'IWU Research and University Teaching', 'IWU Health and Care', 'IWU School, Day Nursery and other Care', 'IWU Culture and Leisure', 'IWU Sports Facilities', 'IWU Hotels, Boarding, Restaurants or Catering', 'IWU Production, Workshop, Warehouse or Operations', 'IWU Trade Buildings', 'IWU Technical and Utility (supply and disposal)', 'IWU Transport', 'IWU Generalized (1) Services building', 'IWU Generalized (2) Production buildings']\n",
      "Current usage: IWU Production, Workshop, Warehouse or Operations\n",
      "Available building types: ['IWU Office, Administrative or Government Buildings', 'IWU Research and University Teaching', 'IWU Health and Care', 'IWU School, Day Nursery and other Care', 'IWU Culture and Leisure', 'IWU Sports Facilities', 'IWU Hotels, Boarding, Restaurants or Catering', 'IWU Production, Workshop, Warehouse or Operations', 'IWU Trade Buildings', 'IWU Technical and Utility (supply and disposal)', 'IWU Transport', 'IWU Generalized (1) Services building', 'IWU Generalized (2) Production buildings']\n",
      "Current usage: IWU Production, Workshop, Warehouse or Operations\n",
      "{'ow1': 0.434041692, 'win1': 0.177106716, 'rt1': 0.697615167, 'gf1': 0.874876657}\n",
      "{'ow1': 0.434041692, 'win1': 0.177106716, 'rt1': 0.697615167, 'gf1': 0.874876657} Thesese are the facade estimation factors for building  IWU Production, Workshop, Warehouse or Operations 544.2605569790289 1925.0\n",
      "This is the path: C:\\Users\\felix\\Programmieren\\districtgenerator\\data\\consumption_data\\internal_loads.csv\n",
      "No data for light demand available for IWU Production, Workshop, Warehouse or Operations\n",
      "Creating building AB\n"
     ]
    },
    {
     "name": "stderr",
     "output_type": "stream",
     "text": [
      "c:\\Users\\felix\\Programmieren\\districtgenerator\\.venv\\Lib\\site-packages\\teaser\\logic\\buildingobjects\\useconditions.py:363: FutureWarning: 'H' is deprecated and will be removed in a future version, please use 'h' instead.\n",
      "  index=pd.date_range(\"2019-01-01 00:00:00\", periods=8760, freq=\"H\")\n",
      "c:\\Users\\felix\\Programmieren\\districtgenerator\\.venv\\Lib\\site-packages\\teaser\\logic\\buildingobjects\\useconditions.py:363: FutureWarning: 'H' is deprecated and will be removed in a future version, please use 'h' instead.\n",
      "  index=pd.date_range(\"2019-01-01 00:00:00\", periods=8760, freq=\"H\")\n"
     ]
    },
    {
     "name": "stdout",
     "output_type": "stream",
     "text": [
      "Creating building AB\n",
      "Creating building AB\n"
     ]
    },
    {
     "name": "stderr",
     "output_type": "stream",
     "text": [
      "c:\\Users\\felix\\Programmieren\\districtgenerator\\.venv\\Lib\\site-packages\\teaser\\logic\\buildingobjects\\useconditions.py:363: FutureWarning: 'H' is deprecated and will be removed in a future version, please use 'h' instead.\n",
      "  index=pd.date_range(\"2019-01-01 00:00:00\", periods=8760, freq=\"H\")\n",
      "c:\\Users\\felix\\Programmieren\\districtgenerator\\.venv\\Lib\\site-packages\\teaser\\logic\\buildingobjects\\useconditions.py:363: FutureWarning: 'H' is deprecated and will be removed in a future version, please use 'h' instead.\n",
      "  index=pd.date_range(\"2019-01-01 00:00:00\", periods=8760, freq=\"H\")\n"
     ]
    },
    {
     "name": "stdout",
     "output_type": "stream",
     "text": [
      "Creating building AB\n",
      "Creating building AB\n"
     ]
    },
    {
     "name": "stderr",
     "output_type": "stream",
     "text": [
      "c:\\Users\\felix\\Programmieren\\districtgenerator\\.venv\\Lib\\site-packages\\teaser\\logic\\buildingobjects\\useconditions.py:363: FutureWarning: 'H' is deprecated and will be removed in a future version, please use 'h' instead.\n",
      "  index=pd.date_range(\"2019-01-01 00:00:00\", periods=8760, freq=\"H\")\n",
      "c:\\Users\\felix\\Programmieren\\districtgenerator\\.venv\\Lib\\site-packages\\teaser\\logic\\buildingobjects\\useconditions.py:363: FutureWarning: 'H' is deprecated and will be removed in a future version, please use 'h' instead.\n",
      "  index=pd.date_range(\"2019-01-01 00:00:00\", periods=8760, freq=\"H\")\n"
     ]
    },
    {
     "name": "stdout",
     "output_type": "stream",
     "text": [
      "Creating building IWU Transport\n",
      "We are about to generate a Non Residential building.\n",
      "Available building types: ['IWU Office, Administrative or Government Buildings', 'IWU Research and University Teaching', 'IWU Health and Care', 'IWU School, Day Nursery and other Care', 'IWU Culture and Leisure', 'IWU Sports Facilities', 'IWU Hotels, Boarding, Restaurants or Catering', 'IWU Production, Workshop, Warehouse or Operations', 'IWU Trade Buildings', 'IWU Technical and Utility (supply and disposal)', 'IWU Transport', 'IWU Generalized (1) Services building', 'IWU Generalized (2) Production buildings']\n",
      "Current usage: IWU Transport\n",
      "Available building types: ['IWU Office, Administrative or Government Buildings', 'IWU Research and University Teaching', 'IWU Health and Care', 'IWU School, Day Nursery and other Care', 'IWU Culture and Leisure', 'IWU Sports Facilities', 'IWU Hotels, Boarding, Restaurants or Catering', 'IWU Production, Workshop, Warehouse or Operations', 'IWU Trade Buildings', 'IWU Technical and Utility (supply and disposal)', 'IWU Transport', 'IWU Generalized (1) Services building', 'IWU Generalized (2) Production buildings']\n",
      "Current usage: IWU Transport\n",
      "{'ow1': 0.638685232, 'win1': 0.528141959, 'rt1': 0.613666073, 'gf1': 1.275661128}\n",
      "{'ow1': 0.638685232, 'win1': 0.528141959, 'rt1': 0.613666073, 'gf1': 1.275661128} Thesese are the facade estimation factors for building  IWU Transport 130.64478549934137 1900.0\n",
      "This is the path: C:\\Users\\felix\\Programmieren\\districtgenerator\\data\\consumption_data\\internal_loads.csv\n",
      "No data for light demand available for IWU Transport\n",
      "Creating building MFH\n",
      "Creating building AB\n"
     ]
    },
    {
     "name": "stderr",
     "output_type": "stream",
     "text": [
      "c:\\Users\\felix\\Programmieren\\districtgenerator\\.venv\\Lib\\site-packages\\teaser\\logic\\buildingobjects\\useconditions.py:363: FutureWarning: 'H' is deprecated and will be removed in a future version, please use 'h' instead.\n",
      "  index=pd.date_range(\"2019-01-01 00:00:00\", periods=8760, freq=\"H\")\n",
      "c:\\Users\\felix\\Programmieren\\districtgenerator\\.venv\\Lib\\site-packages\\teaser\\logic\\buildingobjects\\useconditions.py:363: FutureWarning: 'H' is deprecated and will be removed in a future version, please use 'h' instead.\n",
      "  index=pd.date_range(\"2019-01-01 00:00:00\", periods=8760, freq=\"H\")\n",
      "c:\\Users\\felix\\Programmieren\\districtgenerator\\.venv\\Lib\\site-packages\\teaser\\logic\\buildingobjects\\useconditions.py:363: FutureWarning: 'H' is deprecated and will be removed in a future version, please use 'h' instead.\n",
      "  index=pd.date_range(\"2019-01-01 00:00:00\", periods=8760, freq=\"H\")\n"
     ]
    },
    {
     "name": "stdout",
     "output_type": "stream",
     "text": [
      "Creating building IWU Production, Workshop, Warehouse or Operations\n",
      "We are about to generate a Non Residential building.\n",
      "Available building types: ['IWU Office, Administrative or Government Buildings', 'IWU Research and University Teaching', 'IWU Health and Care', 'IWU School, Day Nursery and other Care', 'IWU Culture and Leisure', 'IWU Sports Facilities', 'IWU Hotels, Boarding, Restaurants or Catering', 'IWU Production, Workshop, Warehouse or Operations', 'IWU Trade Buildings', 'IWU Technical and Utility (supply and disposal)', 'IWU Transport', 'IWU Generalized (1) Services building', 'IWU Generalized (2) Production buildings']\n",
      "Current usage: IWU Production, Workshop, Warehouse or Operations\n",
      "Available building types: ['IWU Office, Administrative or Government Buildings', 'IWU Research and University Teaching', 'IWU Health and Care', 'IWU School, Day Nursery and other Care', 'IWU Culture and Leisure', 'IWU Sports Facilities', 'IWU Hotels, Boarding, Restaurants or Catering', 'IWU Production, Workshop, Warehouse or Operations', 'IWU Trade Buildings', 'IWU Technical and Utility (supply and disposal)', 'IWU Transport', 'IWU Generalized (1) Services building', 'IWU Generalized (2) Production buildings']\n",
      "Current usage: IWU Production, Workshop, Warehouse or Operations\n",
      "{'ow1': 0.434041692, 'win1': 0.177106716, 'rt1': 0.697615167, 'gf1': 0.874876657}\n",
      "{'ow1': 0.434041692, 'win1': 0.177106716, 'rt1': 0.697615167, 'gf1': 0.874876657} Thesese are the facade estimation factors for building  IWU Production, Workshop, Warehouse or Operations 2325.270752011466 1905.0\n",
      "This is the path: C:\\Users\\felix\\Programmieren\\districtgenerator\\data\\consumption_data\\internal_loads.csv\n",
      "No data for light demand available for IWU Production, Workshop, Warehouse or Operations\n",
      "Creating building TH\n",
      "Creating building IWU Production, Workshop, Warehouse or Operations\n",
      "We are about to generate a Non Residential building.\n",
      "Available building types: ['IWU Office, Administrative or Government Buildings', 'IWU Research and University Teaching', 'IWU Health and Care', 'IWU School, Day Nursery and other Care', 'IWU Culture and Leisure', 'IWU Sports Facilities', 'IWU Hotels, Boarding, Restaurants or Catering', 'IWU Production, Workshop, Warehouse or Operations', 'IWU Trade Buildings', 'IWU Technical and Utility (supply and disposal)', 'IWU Transport', 'IWU Generalized (1) Services building', 'IWU Generalized (2) Production buildings']\n",
      "Current usage: IWU Production, Workshop, Warehouse or Operations\n",
      "Available building types: ['IWU Office, Administrative or Government Buildings', 'IWU Research and University Teaching', 'IWU Health and Care', 'IWU School, Day Nursery and other Care', 'IWU Culture and Leisure', 'IWU Sports Facilities', 'IWU Hotels, Boarding, Restaurants or Catering', 'IWU Production, Workshop, Warehouse or Operations', 'IWU Trade Buildings', 'IWU Technical and Utility (supply and disposal)', 'IWU Transport', 'IWU Generalized (1) Services building', 'IWU Generalized (2) Production buildings']\n",
      "Current usage: IWU Production, Workshop, Warehouse or Operations\n",
      "{'ow1': 0.434041692, 'win1': 0.177106716, 'rt1': 0.697615167, 'gf1': 0.874876657}\n",
      "{'ow1': 0.434041692, 'win1': 0.177106716, 'rt1': 0.697615167, 'gf1': 0.874876657} Thesese are the facade estimation factors for building  IWU Production, Workshop, Warehouse or Operations 471.6724860071465 1925.0\n",
      "This is the path: C:\\Users\\felix\\Programmieren\\districtgenerator\\data\\consumption_data\\internal_loads.csv\n",
      "No data for light demand available for IWU Production, Workshop, Warehouse or Operations\n",
      "Creating building IWU Production, Workshop, Warehouse or Operations\n",
      "We are about to generate a Non Residential building.\n",
      "Available building types: ['IWU Office, Administrative or Government Buildings', 'IWU Research and University Teaching', 'IWU Health and Care', 'IWU School, Day Nursery and other Care', 'IWU Culture and Leisure', 'IWU Sports Facilities', 'IWU Hotels, Boarding, Restaurants or Catering', 'IWU Production, Workshop, Warehouse or Operations', 'IWU Trade Buildings', 'IWU Technical and Utility (supply and disposal)', 'IWU Transport', 'IWU Generalized (1) Services building', 'IWU Generalized (2) Production buildings']\n",
      "Current usage: IWU Production, Workshop, Warehouse or Operations\n",
      "Available building types: ['IWU Office, Administrative or Government Buildings', 'IWU Research and University Teaching', 'IWU Health and Care', 'IWU School, Day Nursery and other Care', 'IWU Culture and Leisure', 'IWU Sports Facilities', 'IWU Hotels, Boarding, Restaurants or Catering', 'IWU Production, Workshop, Warehouse or Operations', 'IWU Trade Buildings', 'IWU Technical and Utility (supply and disposal)', 'IWU Transport', 'IWU Generalized (1) Services building', 'IWU Generalized (2) Production buildings']\n",
      "Current usage: IWU Production, Workshop, Warehouse or Operations\n",
      "{'ow1': 0.434041692, 'win1': 0.177106716, 'rt1': 0.697615167, 'gf1': 0.874876657}\n",
      "{'ow1': 0.434041692, 'win1': 0.177106716, 'rt1': 0.697615167, 'gf1': 0.874876657} Thesese are the facade estimation factors for building  IWU Production, Workshop, Warehouse or Operations 167.18808499578196 1905.0\n",
      "This is the path: C:\\Users\\felix\\Programmieren\\districtgenerator\\data\\consumption_data\\internal_loads.csv\n",
      "No data for light demand available for IWU Production, Workshop, Warehouse or Operations\n",
      "Creating building MFH\n"
     ]
    },
    {
     "name": "stderr",
     "output_type": "stream",
     "text": [
      "c:\\Users\\felix\\Programmieren\\districtgenerator\\.venv\\Lib\\site-packages\\teaser\\logic\\buildingobjects\\useconditions.py:363: FutureWarning: 'H' is deprecated and will be removed in a future version, please use 'h' instead.\n",
      "  index=pd.date_range(\"2019-01-01 00:00:00\", periods=8760, freq=\"H\")\n",
      "c:\\Users\\felix\\Programmieren\\districtgenerator\\.venv\\Lib\\site-packages\\teaser\\logic\\buildingobjects\\useconditions.py:363: FutureWarning: 'H' is deprecated and will be removed in a future version, please use 'h' instead.\n",
      "  index=pd.date_range(\"2019-01-01 00:00:00\", periods=8760, freq=\"H\")\n"
     ]
    },
    {
     "name": "stdout",
     "output_type": "stream",
     "text": [
      "Creating building MFH\n",
      "Creating building AB\n"
     ]
    },
    {
     "name": "stderr",
     "output_type": "stream",
     "text": [
      "c:\\Users\\felix\\Programmieren\\districtgenerator\\.venv\\Lib\\site-packages\\teaser\\logic\\buildingobjects\\useconditions.py:363: FutureWarning: 'H' is deprecated and will be removed in a future version, please use 'h' instead.\n",
      "  index=pd.date_range(\"2019-01-01 00:00:00\", periods=8760, freq=\"H\")\n",
      "c:\\Users\\felix\\Programmieren\\districtgenerator\\.venv\\Lib\\site-packages\\teaser\\logic\\buildingobjects\\useconditions.py:363: FutureWarning: 'H' is deprecated and will be removed in a future version, please use 'h' instead.\n",
      "  index=pd.date_range(\"2019-01-01 00:00:00\", periods=8760, freq=\"H\")\n"
     ]
    },
    {
     "name": "stdout",
     "output_type": "stream",
     "text": [
      "Creating building MFH\n",
      "Creating building MFH\n",
      "Creating building AB\n"
     ]
    },
    {
     "name": "stderr",
     "output_type": "stream",
     "text": [
      "c:\\Users\\felix\\Programmieren\\districtgenerator\\.venv\\Lib\\site-packages\\teaser\\logic\\buildingobjects\\useconditions.py:363: FutureWarning: 'H' is deprecated and will be removed in a future version, please use 'h' instead.\n",
      "  index=pd.date_range(\"2019-01-01 00:00:00\", periods=8760, freq=\"H\")\n",
      "c:\\Users\\felix\\Programmieren\\districtgenerator\\.venv\\Lib\\site-packages\\teaser\\logic\\buildingobjects\\useconditions.py:363: FutureWarning: 'H' is deprecated and will be removed in a future version, please use 'h' instead.\n",
      "  index=pd.date_range(\"2019-01-01 00:00:00\", periods=8760, freq=\"H\")\n"
     ]
    },
    {
     "name": "stdout",
     "output_type": "stream",
     "text": [
      "Creating building IWU Production, Workshop, Warehouse or Operations\n",
      "We are about to generate a Non Residential building.\n",
      "Available building types: ['IWU Office, Administrative or Government Buildings', 'IWU Research and University Teaching', 'IWU Health and Care', 'IWU School, Day Nursery and other Care', 'IWU Culture and Leisure', 'IWU Sports Facilities', 'IWU Hotels, Boarding, Restaurants or Catering', 'IWU Production, Workshop, Warehouse or Operations', 'IWU Trade Buildings', 'IWU Technical and Utility (supply and disposal)', 'IWU Transport', 'IWU Generalized (1) Services building', 'IWU Generalized (2) Production buildings']\n",
      "Current usage: IWU Production, Workshop, Warehouse or Operations\n",
      "Available building types: ['IWU Office, Administrative or Government Buildings', 'IWU Research and University Teaching', 'IWU Health and Care', 'IWU School, Day Nursery and other Care', 'IWU Culture and Leisure', 'IWU Sports Facilities', 'IWU Hotels, Boarding, Restaurants or Catering', 'IWU Production, Workshop, Warehouse or Operations', 'IWU Trade Buildings', 'IWU Technical and Utility (supply and disposal)', 'IWU Transport', 'IWU Generalized (1) Services building', 'IWU Generalized (2) Production buildings']\n",
      "Current usage: IWU Production, Workshop, Warehouse or Operations\n",
      "{'ow1': 0.434041692, 'win1': 0.177106716, 'rt1': 0.697615167, 'gf1': 0.874876657}\n",
      "{'ow1': 0.434041692, 'win1': 0.177106716, 'rt1': 0.697615167, 'gf1': 0.874876657} Thesese are the facade estimation factors for building  IWU Production, Workshop, Warehouse or Operations 2722.915020001948 1905.0\n",
      "This is the path: C:\\Users\\felix\\Programmieren\\districtgenerator\\data\\consumption_data\\internal_loads.csv\n",
      "No data for light demand available for IWU Production, Workshop, Warehouse or Operations\n",
      "Creating building MFH\n",
      "Creating building AB\n"
     ]
    },
    {
     "name": "stderr",
     "output_type": "stream",
     "text": [
      "c:\\Users\\felix\\Programmieren\\districtgenerator\\.venv\\Lib\\site-packages\\teaser\\logic\\buildingobjects\\useconditions.py:363: FutureWarning: 'H' is deprecated and will be removed in a future version, please use 'h' instead.\n",
      "  index=pd.date_range(\"2019-01-01 00:00:00\", periods=8760, freq=\"H\")\n",
      "c:\\Users\\felix\\Programmieren\\districtgenerator\\.venv\\Lib\\site-packages\\teaser\\logic\\buildingobjects\\useconditions.py:363: FutureWarning: 'H' is deprecated and will be removed in a future version, please use 'h' instead.\n",
      "  index=pd.date_range(\"2019-01-01 00:00:00\", periods=8760, freq=\"H\")\n"
     ]
    },
    {
     "name": "stdout",
     "output_type": "stream",
     "text": [
      "Creating building MFH\n",
      "Creating building AB\n"
     ]
    },
    {
     "name": "stderr",
     "output_type": "stream",
     "text": [
      "c:\\Users\\felix\\Programmieren\\districtgenerator\\.venv\\Lib\\site-packages\\teaser\\logic\\buildingobjects\\useconditions.py:363: FutureWarning: 'H' is deprecated and will be removed in a future version, please use 'h' instead.\n",
      "  index=pd.date_range(\"2019-01-01 00:00:00\", periods=8760, freq=\"H\")\n",
      "c:\\Users\\felix\\Programmieren\\districtgenerator\\.venv\\Lib\\site-packages\\teaser\\logic\\buildingobjects\\useconditions.py:363: FutureWarning: 'H' is deprecated and will be removed in a future version, please use 'h' instead.\n",
      "  index=pd.date_range(\"2019-01-01 00:00:00\", periods=8760, freq=\"H\")\n"
     ]
    },
    {
     "name": "stdout",
     "output_type": "stream",
     "text": [
      "Creating building AB\n",
      "Creating building MFH\n",
      "Creating building MFH\n"
     ]
    },
    {
     "name": "stderr",
     "output_type": "stream",
     "text": [
      "c:\\Users\\felix\\Programmieren\\districtgenerator\\.venv\\Lib\\site-packages\\teaser\\logic\\buildingobjects\\useconditions.py:363: FutureWarning: 'H' is deprecated and will be removed in a future version, please use 'h' instead.\n",
      "  index=pd.date_range(\"2019-01-01 00:00:00\", periods=8760, freq=\"H\")\n",
      "c:\\Users\\felix\\Programmieren\\districtgenerator\\.venv\\Lib\\site-packages\\teaser\\logic\\buildingobjects\\useconditions.py:363: FutureWarning: 'H' is deprecated and will be removed in a future version, please use 'h' instead.\n",
      "  index=pd.date_range(\"2019-01-01 00:00:00\", periods=8760, freq=\"H\")\n",
      "c:\\Users\\felix\\Programmieren\\districtgenerator\\.venv\\Lib\\site-packages\\teaser\\logic\\buildingobjects\\useconditions.py:363: FutureWarning: 'H' is deprecated and will be removed in a future version, please use 'h' instead.\n",
      "  index=pd.date_range(\"2019-01-01 00:00:00\", periods=8760, freq=\"H\")\n"
     ]
    },
    {
     "name": "stdout",
     "output_type": "stream",
     "text": [
      "Creating building MFH\n",
      "Creating building MFH\n",
      "Creating building MFH\n",
      "Creating building MFH\n"
     ]
    },
    {
     "name": "stderr",
     "output_type": "stream",
     "text": [
      "c:\\Users\\felix\\Programmieren\\districtgenerator\\.venv\\Lib\\site-packages\\teaser\\logic\\buildingobjects\\useconditions.py:363: FutureWarning: 'H' is deprecated and will be removed in a future version, please use 'h' instead.\n",
      "  index=pd.date_range(\"2019-01-01 00:00:00\", periods=8760, freq=\"H\")\n",
      "c:\\Users\\felix\\Programmieren\\districtgenerator\\.venv\\Lib\\site-packages\\teaser\\logic\\buildingobjects\\useconditions.py:363: FutureWarning: 'H' is deprecated and will be removed in a future version, please use 'h' instead.\n",
      "  index=pd.date_range(\"2019-01-01 00:00:00\", periods=8760, freq=\"H\")\n",
      "c:\\Users\\felix\\Programmieren\\districtgenerator\\.venv\\Lib\\site-packages\\teaser\\logic\\buildingobjects\\useconditions.py:363: FutureWarning: 'H' is deprecated and will be removed in a future version, please use 'h' instead.\n",
      "  index=pd.date_range(\"2019-01-01 00:00:00\", periods=8760, freq=\"H\")\n",
      "c:\\Users\\felix\\Programmieren\\districtgenerator\\.venv\\Lib\\site-packages\\teaser\\logic\\buildingobjects\\useconditions.py:363: FutureWarning: 'H' is deprecated and will be removed in a future version, please use 'h' instead.\n",
      "  index=pd.date_range(\"2019-01-01 00:00:00\", periods=8760, freq=\"H\")\n"
     ]
    },
    {
     "name": "stdout",
     "output_type": "stream",
     "text": [
      "Creating building MFH\n"
     ]
    },
    {
     "name": "stderr",
     "output_type": "stream",
     "text": [
      "c:\\Users\\felix\\Programmieren\\districtgenerator\\.venv\\Lib\\site-packages\\teaser\\logic\\buildingobjects\\useconditions.py:363: FutureWarning: 'H' is deprecated and will be removed in a future version, please use 'h' instead.\n",
      "  index=pd.date_range(\"2019-01-01 00:00:00\", periods=8760, freq=\"H\")\n"
     ]
    },
    {
     "name": "stdout",
     "output_type": "stream",
     "text": [
      "Creating building MFH\n",
      "Creating building MFH\n",
      "Creating building MFH\n"
     ]
    },
    {
     "name": "stderr",
     "output_type": "stream",
     "text": [
      "c:\\Users\\felix\\Programmieren\\districtgenerator\\.venv\\Lib\\site-packages\\teaser\\logic\\buildingobjects\\useconditions.py:363: FutureWarning: 'H' is deprecated and will be removed in a future version, please use 'h' instead.\n",
      "  index=pd.date_range(\"2019-01-01 00:00:00\", periods=8760, freq=\"H\")\n",
      "c:\\Users\\felix\\Programmieren\\districtgenerator\\.venv\\Lib\\site-packages\\teaser\\logic\\buildingobjects\\useconditions.py:363: FutureWarning: 'H' is deprecated and will be removed in a future version, please use 'h' instead.\n",
      "  index=pd.date_range(\"2019-01-01 00:00:00\", periods=8760, freq=\"H\")\n",
      "c:\\Users\\felix\\Programmieren\\districtgenerator\\.venv\\Lib\\site-packages\\teaser\\logic\\buildingobjects\\useconditions.py:363: FutureWarning: 'H' is deprecated and will be removed in a future version, please use 'h' instead.\n",
      "  index=pd.date_range(\"2019-01-01 00:00:00\", periods=8760, freq=\"H\")\n"
     ]
    },
    {
     "name": "stdout",
     "output_type": "stream",
     "text": [
      "Creating building IWU Health and Care\n",
      "We are about to generate a Non Residential building.\n",
      "Available building types: ['IWU Office, Administrative or Government Buildings', 'IWU Research and University Teaching', 'IWU Health and Care', 'IWU School, Day Nursery and other Care', 'IWU Culture and Leisure', 'IWU Sports Facilities', 'IWU Hotels, Boarding, Restaurants or Catering', 'IWU Production, Workshop, Warehouse or Operations', 'IWU Trade Buildings', 'IWU Technical and Utility (supply and disposal)', 'IWU Transport', 'IWU Generalized (1) Services building', 'IWU Generalized (2) Production buildings']\n",
      "Current usage: IWU Health and Care\n",
      "Available building types: ['IWU Office, Administrative or Government Buildings', 'IWU Research and University Teaching', 'IWU Health and Care', 'IWU School, Day Nursery and other Care', 'IWU Culture and Leisure', 'IWU Sports Facilities', 'IWU Hotels, Boarding, Restaurants or Catering', 'IWU Production, Workshop, Warehouse or Operations', 'IWU Trade Buildings', 'IWU Technical and Utility (supply and disposal)', 'IWU Transport', 'IWU Generalized (1) Services building', 'IWU Generalized (2) Production buildings']\n",
      "Current usage: IWU Health and Care\n",
      "{'ow1': 0.37044787, 'win1': 0.183285088, 'rt1': 0.301624217, 'gf1': 0.376533116}\n",
      "{'ow1': 0.37044787, 'win1': 0.183285088, 'rt1': 0.301624217, 'gf1': 0.376533116} Thesese are the facade estimation factors for building  IWU Health and Care 2733.648564511216 1905.0\n",
      "This is the path: C:\\Users\\felix\\Programmieren\\districtgenerator\\data\\consumption_data\\internal_loads.csv\n",
      "No data for light demand available for IWU Health and Care\n",
      "Creating building MFH\n",
      "Creating building MFH\n"
     ]
    },
    {
     "name": "stderr",
     "output_type": "stream",
     "text": [
      "c:\\Users\\felix\\Programmieren\\districtgenerator\\.venv\\Lib\\site-packages\\teaser\\logic\\buildingobjects\\useconditions.py:363: FutureWarning: 'H' is deprecated and will be removed in a future version, please use 'h' instead.\n",
      "  index=pd.date_range(\"2019-01-01 00:00:00\", periods=8760, freq=\"H\")\n",
      "c:\\Users\\felix\\Programmieren\\districtgenerator\\.venv\\Lib\\site-packages\\teaser\\logic\\buildingobjects\\useconditions.py:363: FutureWarning: 'H' is deprecated and will be removed in a future version, please use 'h' instead.\n",
      "  index=pd.date_range(\"2019-01-01 00:00:00\", periods=8760, freq=\"H\")\n"
     ]
    },
    {
     "name": "stdout",
     "output_type": "stream",
     "text": [
      "Creating building MFH\n",
      "Creating building MFH\n",
      "Creating building MFH\n",
      "Creating building AB\n"
     ]
    },
    {
     "name": "stderr",
     "output_type": "stream",
     "text": [
      "c:\\Users\\felix\\Programmieren\\districtgenerator\\.venv\\Lib\\site-packages\\teaser\\logic\\buildingobjects\\useconditions.py:363: FutureWarning: 'H' is deprecated and will be removed in a future version, please use 'h' instead.\n",
      "  index=pd.date_range(\"2019-01-01 00:00:00\", periods=8760, freq=\"H\")\n",
      "c:\\Users\\felix\\Programmieren\\districtgenerator\\.venv\\Lib\\site-packages\\teaser\\logic\\buildingobjects\\useconditions.py:363: FutureWarning: 'H' is deprecated and will be removed in a future version, please use 'h' instead.\n",
      "  index=pd.date_range(\"2019-01-01 00:00:00\", periods=8760, freq=\"H\")\n",
      "c:\\Users\\felix\\Programmieren\\districtgenerator\\.venv\\Lib\\site-packages\\teaser\\logic\\buildingobjects\\useconditions.py:363: FutureWarning: 'H' is deprecated and will be removed in a future version, please use 'h' instead.\n",
      "  index=pd.date_range(\"2019-01-01 00:00:00\", periods=8760, freq=\"H\")\n",
      "c:\\Users\\felix\\Programmieren\\districtgenerator\\.venv\\Lib\\site-packages\\teaser\\logic\\buildingobjects\\useconditions.py:363: FutureWarning: 'H' is deprecated and will be removed in a future version, please use 'h' instead.\n",
      "  index=pd.date_range(\"2019-01-01 00:00:00\", periods=8760, freq=\"H\")\n"
     ]
    },
    {
     "name": "stdout",
     "output_type": "stream",
     "text": [
      "Creating building IWU Health and Care\n",
      "We are about to generate a Non Residential building.\n",
      "Available building types: ['IWU Office, Administrative or Government Buildings', 'IWU Research and University Teaching', 'IWU Health and Care', 'IWU School, Day Nursery and other Care', 'IWU Culture and Leisure', 'IWU Sports Facilities', 'IWU Hotels, Boarding, Restaurants or Catering', 'IWU Production, Workshop, Warehouse or Operations', 'IWU Trade Buildings', 'IWU Technical and Utility (supply and disposal)', 'IWU Transport', 'IWU Generalized (1) Services building', 'IWU Generalized (2) Production buildings']\n",
      "Current usage: IWU Health and Care\n",
      "Available building types: ['IWU Office, Administrative or Government Buildings', 'IWU Research and University Teaching', 'IWU Health and Care', 'IWU School, Day Nursery and other Care', 'IWU Culture and Leisure', 'IWU Sports Facilities', 'IWU Hotels, Boarding, Restaurants or Catering', 'IWU Production, Workshop, Warehouse or Operations', 'IWU Trade Buildings', 'IWU Technical and Utility (supply and disposal)', 'IWU Transport', 'IWU Generalized (1) Services building', 'IWU Generalized (2) Production buildings']\n",
      "Current usage: IWU Health and Care\n",
      "{'ow1': 0.37044787, 'win1': 0.183285088, 'rt1': 0.301624217, 'gf1': 0.376533116}\n",
      "{'ow1': 0.37044787, 'win1': 0.183285088, 'rt1': 0.301624217, 'gf1': 0.376533116} Thesese are the facade estimation factors for building  IWU Health and Care 3287.014083030834 1905.0\n",
      "This is the path: C:\\Users\\felix\\Programmieren\\districtgenerator\\data\\consumption_data\\internal_loads.csv\n",
      "No data for light demand available for IWU Health and Care\n",
      "Creating building AB\n",
      "Creating building MFH\n"
     ]
    },
    {
     "name": "stderr",
     "output_type": "stream",
     "text": [
      "c:\\Users\\felix\\Programmieren\\districtgenerator\\.venv\\Lib\\site-packages\\teaser\\logic\\buildingobjects\\useconditions.py:363: FutureWarning: 'H' is deprecated and will be removed in a future version, please use 'h' instead.\n",
      "  index=pd.date_range(\"2019-01-01 00:00:00\", periods=8760, freq=\"H\")\n",
      "c:\\Users\\felix\\Programmieren\\districtgenerator\\.venv\\Lib\\site-packages\\teaser\\logic\\buildingobjects\\useconditions.py:363: FutureWarning: 'H' is deprecated and will be removed in a future version, please use 'h' instead.\n",
      "  index=pd.date_range(\"2019-01-01 00:00:00\", periods=8760, freq=\"H\")\n"
     ]
    },
    {
     "name": "stdout",
     "output_type": "stream",
     "text": [
      "Creating building AB\n",
      "Creating building MFH\n"
     ]
    },
    {
     "name": "stderr",
     "output_type": "stream",
     "text": [
      "c:\\Users\\felix\\Programmieren\\districtgenerator\\.venv\\Lib\\site-packages\\teaser\\logic\\buildingobjects\\useconditions.py:363: FutureWarning: 'H' is deprecated and will be removed in a future version, please use 'h' instead.\n",
      "  index=pd.date_range(\"2019-01-01 00:00:00\", periods=8760, freq=\"H\")\n",
      "c:\\Users\\felix\\Programmieren\\districtgenerator\\.venv\\Lib\\site-packages\\teaser\\logic\\buildingobjects\\useconditions.py:363: FutureWarning: 'H' is deprecated and will be removed in a future version, please use 'h' instead.\n",
      "  index=pd.date_range(\"2019-01-01 00:00:00\", periods=8760, freq=\"H\")\n"
     ]
    },
    {
     "name": "stdout",
     "output_type": "stream",
     "text": [
      "Creating building AB\n",
      "Creating building AB\n"
     ]
    },
    {
     "name": "stderr",
     "output_type": "stream",
     "text": [
      "c:\\Users\\felix\\Programmieren\\districtgenerator\\.venv\\Lib\\site-packages\\teaser\\logic\\buildingobjects\\useconditions.py:363: FutureWarning: 'H' is deprecated and will be removed in a future version, please use 'h' instead.\n",
      "  index=pd.date_range(\"2019-01-01 00:00:00\", periods=8760, freq=\"H\")\n",
      "c:\\Users\\felix\\Programmieren\\districtgenerator\\.venv\\Lib\\site-packages\\teaser\\logic\\buildingobjects\\useconditions.py:363: FutureWarning: 'H' is deprecated and will be removed in a future version, please use 'h' instead.\n",
      "  index=pd.date_range(\"2019-01-01 00:00:00\", periods=8760, freq=\"H\")\n"
     ]
    },
    {
     "name": "stdout",
     "output_type": "stream",
     "text": [
      "The folder already exists. Will overwrite existing files.\n",
      "Calculate demands of building 0_AB_65_0\n",
      "Save heating profile of building 0_AB_65_0 in None\n",
      "Calculate demands of building 1_AB_65_0\n",
      "Save heating profile of building 1_AB_65_0 in None\n",
      "No data for TEK available for Verkehrsgebäude\n",
      "No data about annual dhw consumption available for building type: IWU Transport. DHW demand is set to zero.\n",
      "Calculate demands of building 2_IWU Transport_[np.float64(1.1917300501681904)]_0\n",
      "Save heating profile of building 2_IWU Transport_[np.float64(1.1917300501681904)]_0 in None\n",
      "Calculate demands of building 3_AB_15_0\n",
      "Save heating profile of building 3_AB_15_0 in None\n",
      "Calculate demands of building 4_AB_45_0\n",
      "Save heating profile of building 4_AB_45_0 in None\n",
      "Calculate demands of building 5_AB_43_0\n",
      "Save heating profile of building 5_AB_43_0 in None\n",
      "Calculate demands of building 6_AB_47_0\n",
      "Save heating profile of building 6_AB_47_0 in None\n",
      "No data for TEK available for Verkehrsgebäude\n",
      "No data about annual dhw consumption available for building type: IWU Transport. DHW demand is set to zero.\n",
      "Calculate demands of building 7_IWU Transport_[np.float64(2.921153500065886)]_0\n",
      "Save heating profile of building 7_IWU Transport_[np.float64(2.921153500065886)]_0 in None\n",
      "Das ist der Wert 24.2\n",
      "No data for multizone average available for IWU Technical and Utility (supply and disposal)\n",
      "No data about person gains available for building type: IWU Technical and Utility (supply and disposal)\n",
      "No data about appliance gains available for building type: IWU Technical and Utility (supply and disposal)\n",
      "Calculate demands of building 8_IWU Technical and Utility (supply and disposal)_[np.float64(0.49653413333410396)]_0\n",
      "Save heating profile of building 8_IWU Technical and Utility (supply and disposal)_[np.float64(0.49653413333410396)]_0 in None\n",
      "Calculate demands of building 9_AB_13_0\n",
      "Save heating profile of building 9_AB_13_0 in None\n",
      "Calculate demands of building 10_AB_41_0\n",
      "Save heating profile of building 10_AB_41_0 in None\n",
      "Calculate demands of building 11_AB_21_0\n",
      "Save heating profile of building 11_AB_21_0 in None\n",
      "Das ist der Wert 7.6\n",
      "Calculate demands of building 12_IWU Trade Buildings_[np.float64(13.380861165710437)]_0\n",
      "Save heating profile of building 12_IWU Trade Buildings_[np.float64(13.380861165710437)]_0 in None\n",
      "Calculate demands of building 13_AB_62_0\n",
      "Save heating profile of building 13_AB_62_0 in None\n",
      "Calculate demands of building 14_AB_21_0\n",
      "Save heating profile of building 14_AB_21_0 in None\n",
      "Calculate demands of building 15_AB_72_0\n",
      "Save heating profile of building 15_AB_72_0 in None\n",
      "Calculate demands of building 16_AB_64_0\n",
      "Save heating profile of building 16_AB_64_0 in None\n",
      "Das ist der Wert 7.7\n",
      "Calculate demands of building 17_IWU Culture and Leisure_[np.float64(1148.7858666716163)]_0\n",
      "Save heating profile of building 17_IWU Culture and Leisure_[np.float64(1148.7858666716163)]_0 in None\n",
      "Calculate demands of building 18_AB_60_0\n",
      "Save heating profile of building 18_AB_60_0 in None\n",
      "Calculate demands of building 19_AB_46_0\n",
      "Save heating profile of building 19_AB_46_0 in None\n",
      "Calculate demands of building 20_AB_73_0\n",
      "Save heating profile of building 20_AB_73_0 in None\n",
      "Calculate demands of building 21_AB_38_0\n",
      "Save heating profile of building 21_AB_38_0 in None\n",
      "Calculate demands of building 22_AB_11_0\n",
      "Save heating profile of building 22_AB_11_0 in None\n",
      "Calculate demands of building 23_AB_64_0\n",
      "Save heating profile of building 23_AB_64_0 in None\n",
      "Calculate demands of building 24_AB_72_0\n",
      "Save heating profile of building 24_AB_72_0 in None\n",
      "Calculate demands of building 25_AB_49_0\n",
      "Save heating profile of building 25_AB_49_0 in None\n",
      "Calculate demands of building 26_AB_21_0\n",
      "Save heating profile of building 26_AB_21_0 in None\n",
      "Calculate demands of building 27_AB_44_0\n",
      "Save heating profile of building 27_AB_44_0 in None\n",
      "Calculate demands of building 28_AB_65_0\n",
      "Save heating profile of building 28_AB_65_0 in None\n",
      "Calculate demands of building 29_AB_67_0\n",
      "Save heating profile of building 29_AB_67_0 in None\n",
      "Calculate demands of building 30_AB_74_0\n",
      "Save heating profile of building 30_AB_74_0 in None\n",
      "Calculate demands of building 31_AB_71_0\n",
      "Save heating profile of building 31_AB_71_0 in None\n",
      "Calculate demands of building 32_AB_17_0\n",
      "Save heating profile of building 32_AB_17_0 in None\n",
      "Das ist der Wert 22.0\n",
      "Calculate demands of building 33_IWU Sports Facilities_[np.float64(4180.849890504021)]_0\n",
      "Save heating profile of building 33_IWU Sports Facilities_[np.float64(4180.849890504021)]_0 in None\n",
      "Calculate demands of building 34_SFH_1_0\n",
      "Save heating profile of building 34_SFH_1_0 in None\n",
      "Calculate demands of building 35_AB_28_0\n",
      "Save heating profile of building 35_AB_28_0 in None\n",
      "Das ist der Wert 86.0\n",
      "Calculate demands of building 36_IWU Health and Care_[np.float64(225.5951642845832)]_0\n",
      "Save heating profile of building 36_IWU Health and Care_[np.float64(225.5951642845832)]_0 in None\n",
      "Calculate demands of building 37_AB_83_0\n",
      "Save heating profile of building 37_AB_83_0 in None\n",
      "Calculate demands of building 38_AB_24_0\n",
      "Save heating profile of building 38_AB_24_0 in None\n",
      "Calculate demands of building 39_AB_15_0\n",
      "Save heating profile of building 39_AB_15_0 in None\n",
      "Calculate demands of building 40_AB_95_0\n",
      "Save heating profile of building 40_AB_95_0 in None\n",
      "Calculate demands of building 41_AB_72_0\n",
      "Save heating profile of building 41_AB_72_0 in None\n",
      "Calculate demands of building 42_AB_18_0\n",
      "Save heating profile of building 42_AB_18_0 in None\n",
      "Calculate demands of building 43_AB_69_0\n",
      "Save heating profile of building 43_AB_69_0 in None\n",
      "Calculate demands of building 44_AB_31_0\n",
      "Save heating profile of building 44_AB_31_0 in None\n",
      "Calculate demands of building 45_AB_47_0\n",
      "Save heating profile of building 45_AB_47_0 in None\n",
      "Calculate demands of building 46_AB_50_0\n",
      "Save heating profile of building 46_AB_50_0 in None\n",
      "Calculate demands of building 47_AB_67_0\n",
      "Save heating profile of building 47_AB_67_0 in None\n",
      "Calculate demands of building 48_AB_60_0\n",
      "Save heating profile of building 48_AB_60_0 in None\n",
      "Calculate demands of building 49_AB_25_0\n",
      "Save heating profile of building 49_AB_25_0 in None\n",
      "Calculate demands of building 50_AB_101_0\n",
      "Save heating profile of building 50_AB_101_0 in None\n",
      "Calculate demands of building 51_AB_76_0\n",
      "Save heating profile of building 51_AB_76_0 in None\n",
      "Calculate demands of building 52_AB_42_0\n",
      "Save heating profile of building 52_AB_42_0 in None\n",
      "Calculate demands of building 53_AB_81_0\n",
      "Save heating profile of building 53_AB_81_0 in None\n",
      "Calculate demands of building 54_AB_87_0\n",
      "Save heating profile of building 54_AB_87_0 in None\n",
      "Calculate demands of building 55_AB_39_0\n",
      "Save heating profile of building 55_AB_39_0 in None\n",
      "Calculate demands of building 56_AB_83_0\n",
      "Save heating profile of building 56_AB_83_0 in None\n",
      "Calculate demands of building 57_TH_1_0\n",
      "Save heating profile of building 57_TH_1_0 in None\n",
      "Calculate demands of building 58_AB_34_0\n",
      "Save heating profile of building 58_AB_34_0 in None\n",
      "No data for TEK available for Verkehrsgebäude\n",
      "No data about annual dhw consumption available for building type: IWU Transport. DHW demand is set to zero.\n",
      "Calculate demands of building 59_IWU Transport_[np.float64(25.354368149063276)]_0\n",
      "Save heating profile of building 59_IWU Transport_[np.float64(25.354368149063276)]_0 in None\n",
      "Calculate demands of building 60_AB_53_0\n",
      "Save heating profile of building 60_AB_53_0 in None\n",
      "Calculate demands of building 61_AB_39_0\n",
      "Save heating profile of building 61_AB_39_0 in None\n",
      "Calculate demands of building 62_AB_15_0\n",
      "Save heating profile of building 62_AB_15_0 in None\n",
      "Calculate demands of building 63_AB_36_0\n",
      "Save heating profile of building 63_AB_36_0 in None\n",
      "Calculate demands of building 64_AB_25_0\n",
      "Save heating profile of building 64_AB_25_0 in None\n",
      "Calculate demands of building 65_AB_18_0\n",
      "Save heating profile of building 65_AB_18_0 in None\n",
      "Calculate demands of building 66_AB_66_0\n",
      "Save heating profile of building 66_AB_66_0 in None\n",
      "No data for TEK available for Verkehrsgebäude\n",
      "No data about annual dhw consumption available for building type: IWU Transport. DHW demand is set to zero.\n",
      "Calculate demands of building 67_IWU Transport_[np.float64(3.89850743348966)]_0\n",
      "Save heating profile of building 67_IWU Transport_[np.float64(3.89850743348966)]_0 in None\n",
      "Calculate demands of building 68_AB_18_0\n",
      "Save heating profile of building 68_AB_18_0 in None\n",
      "Calculate demands of building 69_AB_25_0\n",
      "Save heating profile of building 69_AB_25_0 in None\n",
      "Calculate demands of building 70_AB_78_0\n",
      "Save heating profile of building 70_AB_78_0 in None\n",
      "No data for TEK available for Verkehrsgebäude\n",
      "No data about annual dhw consumption available for building type: IWU Transport. DHW demand is set to zero.\n",
      "Calculate demands of building 71_IWU Transport_[np.float64(7.332324850101043)]_0\n",
      "Save heating profile of building 71_IWU Transport_[np.float64(7.332324850101043)]_0 in None\n",
      "Calculate demands of building 72_AB_54_0\n",
      "Save heating profile of building 72_AB_54_0 in None\n",
      "Calculate demands of building 73_AB_22_0\n",
      "Save heating profile of building 73_AB_22_0 in None\n",
      "Calculate demands of building 74_AB_36_0\n",
      "Save heating profile of building 74_AB_36_0 in None\n",
      "Calculate demands of building 75_AB_55_0\n",
      "Save heating profile of building 75_AB_55_0 in None\n",
      "Calculate demands of building 76_AB_26_0\n",
      "Save heating profile of building 76_AB_26_0 in None\n",
      "Calculate demands of building 77_AB_14_0\n",
      "Save heating profile of building 77_AB_14_0 in None\n",
      "Das ist der Wert 89.1\n",
      "No data for multizone average available for IWU Hotels, Boarding, Restaurants or Catering\n",
      "No data about person gains available for building type: IWU Hotels, Boarding, Restaurants or Catering\n",
      "No data about appliance gains available for building type: IWU Hotels, Boarding, Restaurants or Catering\n",
      "Calculate demands of building 78_IWU Hotels, Boarding, Restaurants or Catering_[np.float64(418.3639428016876)]_0\n",
      "Save heating profile of building 78_IWU Hotels, Boarding, Restaurants or Catering_[np.float64(418.3639428016876)]_0 in None\n",
      "Calculate demands of building 79_AB_59_0\n",
      "Save heating profile of building 79_AB_59_0 in None\n",
      "No data for TEK available for Verkehrsgebäude\n",
      "No data about annual dhw consumption available for building type: IWU Transport. DHW demand is set to zero.\n",
      "Calculate demands of building 80_IWU Transport_[np.float64(4.738534125053917)]_0\n",
      "Save heating profile of building 80_IWU Transport_[np.float64(4.738534125053917)]_0 in None\n",
      "Calculate demands of building 81_AB_61_0\n",
      "Save heating profile of building 81_AB_61_0 in None\n",
      "No data for TEK available for Verkehrsgebäude\n",
      "No data about annual dhw consumption available for building type: IWU Transport. DHW demand is set to zero.\n",
      "Calculate demands of building 82_IWU Transport_[np.float64(5.301086766649672)]_0\n",
      "Save heating profile of building 82_IWU Transport_[np.float64(5.301086766649672)]_0 in None\n",
      "Calculate demands of building 83_AB_47_0\n",
      "Save heating profile of building 83_AB_47_0 in None\n",
      "Calculate demands of building 84_AB_46_0\n",
      "Save heating profile of building 84_AB_46_0 in None\n",
      "Calculate demands of building 85_AB_43_0\n",
      "Save heating profile of building 85_AB_43_0 in None\n",
      "No data for TEK available for Verkehrsgebäude\n",
      "No data about annual dhw consumption available for building type: IWU Transport. DHW demand is set to zero.\n",
      "Calculate demands of building 86_IWU Transport_[np.float64(3.9410434999195427)]_0\n",
      "Save heating profile of building 86_IWU Transport_[np.float64(3.9410434999195427)]_0 in None\n",
      "Calculate demands of building 87_AB_22_0\n",
      "Save heating profile of building 87_AB_22_0 in None\n",
      "Calculate demands of building 88_AB_33_0\n",
      "Save heating profile of building 88_AB_33_0 in None\n",
      "Calculate demands of building 89_AB_79_0\n",
      "Save heating profile of building 89_AB_79_0 in None\n",
      "Calculate demands of building 90_AB_47_0\n",
      "Save heating profile of building 90_AB_47_0 in None\n",
      "Calculate demands of building 91_AB_52_0\n",
      "Save heating profile of building 91_AB_52_0 in None\n"
     ]
    }
   ],
   "source": [
    "simulator.setWeatherFile(r'data\\weather\\EPW\\AMY_2010_2022_2020.epw')\n",
    "\n",
    "# Generate Environment for the District\n",
    "\n",
    "simulator.generateEnvironment()\n",
    "\n",
    "simulator.initializeBuildings('Mierendorff_Baseline_cleaned')\n",
    "simulator.generateBuildings()\n",
    "\n",
    "simulator.generateDemands()\n",
    "\n"
   ]
  }
 ],
 "metadata": {
  "kernelspec": {
   "display_name": ".venv",
   "language": "python",
   "name": "python3"
  },
  "language_info": {
   "codemirror_mode": {
    "name": "ipython",
    "version": 3
   },
   "file_extension": ".py",
   "mimetype": "text/x-python",
   "name": "python",
   "nbconvert_exporter": "python",
   "pygments_lexer": "ipython3",
   "version": "3.12.5"
  }
 },
 "nbformat": 4,
 "nbformat_minor": 2
}
