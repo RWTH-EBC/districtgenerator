{
 "cells": [
  {
   "cell_type": "code",
   "execution_count": null,
   "metadata": {},
   "outputs": [],
   "source": [
    "from districtgenerator import *\n",
    "\n",
    "\n",
    "# Initialize District\n",
    "data = Datahandler()\n",
    "\n",
    "# Generate Environment for the District\n",
    "data.generateEnvironment()\n",
    "\n",
    "# Initialize Buildings to the District\n",
    "data.initializeBuildings(scenario_name=\"example\")\n",
    "\n",
    "# Generate a more detailed Building\n",
    "data.generateBuildings()"
   ]
  },
  {
   "cell_type": "code",
   "execution_count": null,
   "metadata": {},
   "outputs": [],
   "source": [
    "data.generateDemands()"
   ]
  }
 ],
 "metadata": {
  "language_info": {
   "name": "python"
  }
 },
 "nbformat": 4,
 "nbformat_minor": 2
}
